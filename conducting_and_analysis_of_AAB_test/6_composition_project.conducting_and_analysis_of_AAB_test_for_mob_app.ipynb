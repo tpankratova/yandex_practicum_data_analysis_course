{
 "cells": [
  {
   "cell_type": "markdown",
   "metadata": {},
   "source": [
    "# Project description\n",
    "\n",
    "You work for startup who selling food. You need to figure out how users behave in mobile. \n",
    "Analyze sales funnel. Find out how users get to purchase. How many users reach  purchase, and how many are \"stuck\" in the previous steps? What are these steps?\n",
    "\n",
    "After that, analyze results of A/A/B test. Designers wanted to change fonts throughout application, and managers were afraid  it would be unusual for users. We agreed to make decision based on results of A/A/B test. Users were divided into 3 groups: 2 control groups with old fonts and one experimental group with new ones. Find out which font is better.\n",
    "Creating two A groups instead of one has certain advantages. If two control groups turn out to be equal, you can be sure of testnaccuracy. If there are significant differences between values of A and A, this will help to identify factors that led to the distortion of the results. Comparing to control group also helps to understand how much time and data will be required for further tests.\n",
    "\n",
    "Due to general analytics and A/A/B test, work with the same data. Tests are always on-the-go in real projects. Analysts analysing quality of application based on general data, without taking into account whether users belong to test."
   ]
  },
  {
   "cell_type": "markdown",
   "metadata": {},
   "source": [
    "# Data description\n",
    "\n",
    "Each log entry is a user action or event.\n",
    "- eventName — the name of event;\n",
    "- DeviceIDHash is a unique user ID;\n",
    "- EventTimestamp — time of event;\n",
    "- ExpId is test number: 246 and 247 are control groups, and 248 is testing group."
   ]
  },
  {
   "cell_type": "markdown",
   "metadata": {},
   "source": [
    "# Project navigation\n",
    "\n",
    "[1. Loading data from CSV files into dataframes using libraries. Check general info](#1.-Loading-data-from-CSV-files-into-dataframes-using-libraries.-Check-general-info)\n",
    "\n",
    "[2. Data preprocessing](#2.-Data-preprocessing)\n",
    "   - [2.1 Rename columns](#2.1-Rename-columns)\n",
    "   - [2.2 Check missing values and data types](#2.2-Check-missing-values-and-data-types)\n",
    "   - [2.3 Remove duplicates](#2.3-Remove-duplicates)\n",
    "\n",
    "[3. Exploratory data analysis](#3.-Exploratory-data-analysis)\n",
    "   - [3.1 How many events are in log?](#3.1-How-many-events-are-in-log?)\n",
    "   - [3.2 How many users in log?](#3.2-How-many-users-in-log?)\n",
    "   - [3.3 What is average events qty per user?](#3.3-What-is-average-events-qty-per-user?)\n",
    "   - [3.4 Check time period of dataframe](#3.4-Check-time-period-of-dataframe)\n",
    "   - [3.5 How many events we were lost after removing old data?](#3.5-How-many-events-we-were-lost-after-removing-old-data?)\n",
    "   - [3.6 Check that you have users in each test group](#3.6-Check-that-you-have-users-in-each-test-group)\n",
    "\n",
    "[4. Analyze funnel events](#4.-Analyze-funnel-events)\n",
    "   - [4.1 What types of events are in logs and how often they occur](#4.1-What-types-of-events-are-in-logs-and-how-often-they-occur)\n",
    "   - [4.2 Calculate how many users executed each type of event?](#4.2-Calculate-how-many-users-executed-each-type-of-event?)\n",
    "   - [4.3 Based on funnel of events, calculate what proportion of users passes to next step of funnel (from number of users in previous one).](#4.3-Based-on-funnel-of-events,-calculate-what-proportion-of-users-passes-to-next-step-of-funnel-(from-number-of-users-in-previous-one).)\n",
    "\n",
    "[5. Analyze A/A/B test results](#5.-Analyze-A/A/B-test-results)\n",
    "   - [5.1 How many users in each group?](#5.1-How-many-users-in-each-group?)\n",
    "   - [5.2 Analyzing А/А test](#5.2-Analyzing-А/А-test)\n",
    "      - [5.2.1 Indicate most popular event. Count number of users who committed this event in each control groups. Calculate % of users who committed this event](#5.2.1-Indicate-most-popular-event.-Count-number-of-users-who-committed-this-event-in-each-control-groups.-Calculate-%-of-users-who-committed-this-event)\n",
    "      - [5.2.2 Check if statistical criteria find difference between samples 246 and 247.](#5.2.2-Check-if-statistical-criteria-find-difference-between-samples-246-and-247.)\n",
    "   - [5.3 Analyzing А/B test](#5.3-Analyzing-А/B-test)\n",
    "      - [5.3.1 Do same action with `changed font` group. Compare results to each control group individually by event. Compare results to combined control group. What conclusions can be made from test?](#5.3.1-Do-same-action-with-`changed-font`-group.-Compare-results-to-each-control-group-individually-by-event.-Compare-results-to-combined-control-group.-What-conclusions-can-be-made-from-test?)\n",
    "      - [5.3.2 Test hypothesis of proportions equality between two samples in A/B-test for event \"MainScreenAppear\"](#5.3.2-Test-hypothesis-of-proportions-equality-between-two-samples-in-A/B-test-for-event-\"MainScreenAppear\")\n",
    "      - [5.3.3 Test hypothesis of proportions equality between two samples in A/B-test for event \"OffersScreenAppear\"](#5.3.3-Test-hypothesis-of-proportions-equality-between-two-samples-in-A/B-test-for-event-\"OffersScreenAppear\")\n",
    "      - [5.3.4 Test hypothesis of proportions equality between two samples in A/B-test for event \"CartScreenAppear\"](#5.3.4-Test-hypothesis-of-proportions-equality-between-two-samples-in-A/B-test-for-event-\"CartScreenAppear\")\n",
    "      - [5.3.5 Test hypothesis of proportions equality between two samples in A/B-test for event \"PaymentScreenSuccessful\"](#5.3.5-Test-hypothesis-of-proportions-equality-between-two-samples-in-A/B-test-for-event-\"PaymentScreenSuccessful\")\n",
    "\n",
    "[Main summary](#Main-summary)\n"
   ]
  },
  {
   "cell_type": "code",
   "execution_count": 1,
   "metadata": {},
   "outputs": [
    {
     "name": "stdout",
     "output_type": "stream",
     "text": [
      "Requirement already up-to-date: kaleido in c:\\users\\ip190\\anaconda3\\lib\\site-packages (0.2.1)\n",
      "Note: you may need to restart the kernel to use updated packages.\n"
     ]
    }
   ],
   "source": [
    "pip install -U kaleido"
   ]
  },
  {
   "cell_type": "markdown",
   "metadata": {},
   "source": [
    "## 1. Loading data from CSV files into dataframes using libraries. Check general info"
   ]
  },
  {
   "cell_type": "code",
   "execution_count": 2,
   "metadata": {},
   "outputs": [],
   "source": [
    "# import libraries\n",
    "import pandas as pd\n",
    "import numpy as np\n",
    "import matplotlib.pyplot as plt\n",
    "from pandas.plotting import register_matplotlib_converters\n",
    "from plotly.subplots import make_subplots\n",
    "import plotly.graph_objects as go\n",
    "import warnings\n",
    "register_matplotlib_converters()\n",
    "import seaborn as sns\n",
    "sns.set()\n",
    "\n",
    "import datetime as dt\n",
    "from datetime import datetime, timedelta\n",
    "\n",
    "from scipy import stats as st\n",
    "import math"
   ]
  },
  {
   "cell_type": "code",
   "execution_count": 3,
   "metadata": {},
   "outputs": [],
   "source": [
    "# split data with help of sep\n",
    "log_event = pd.read_csv('logs_exp.csv', sep='\\t')"
   ]
  },
  {
   "cell_type": "code",
   "execution_count": 4,
   "metadata": {},
   "outputs": [],
   "source": [
    "#  writing a function to display general information\n",
    "def display_general_info(df):\n",
    "    df.info()\n",
    "    display(df.head())    \n",
    "    display(df.duplicated().sum())    \n",
    "    display(pd.DataFrame(round(df.isna().mean()*100,1)).style.background_gradient('coolwarm'))"
   ]
  },
  {
   "cell_type": "code",
   "execution_count": 5,
   "metadata": {},
   "outputs": [
    {
     "name": "stdout",
     "output_type": "stream",
     "text": [
      "<class 'pandas.core.frame.DataFrame'>\n",
      "RangeIndex: 244126 entries, 0 to 244125\n",
      "Data columns (total 4 columns):\n",
      " #   Column          Non-Null Count   Dtype \n",
      "---  ------          --------------   ----- \n",
      " 0   EventName       244126 non-null  object\n",
      " 1   DeviceIDHash    244126 non-null  int64 \n",
      " 2   EventTimestamp  244126 non-null  int64 \n",
      " 3   ExpId           244126 non-null  int64 \n",
      "dtypes: int64(3), object(1)\n",
      "memory usage: 7.5+ MB\n"
     ]
    },
    {
     "data": {
      "text/html": [
       "<div>\n",
       "<style scoped>\n",
       "    .dataframe tbody tr th:only-of-type {\n",
       "        vertical-align: middle;\n",
       "    }\n",
       "\n",
       "    .dataframe tbody tr th {\n",
       "        vertical-align: top;\n",
       "    }\n",
       "\n",
       "    .dataframe thead th {\n",
       "        text-align: right;\n",
       "    }\n",
       "</style>\n",
       "<table border=\"1\" class=\"dataframe\">\n",
       "  <thead>\n",
       "    <tr style=\"text-align: right;\">\n",
       "      <th></th>\n",
       "      <th>EventName</th>\n",
       "      <th>DeviceIDHash</th>\n",
       "      <th>EventTimestamp</th>\n",
       "      <th>ExpId</th>\n",
       "    </tr>\n",
       "  </thead>\n",
       "  <tbody>\n",
       "    <tr>\n",
       "      <th>0</th>\n",
       "      <td>MainScreenAppear</td>\n",
       "      <td>4575588528974610257</td>\n",
       "      <td>1564029816</td>\n",
       "      <td>246</td>\n",
       "    </tr>\n",
       "    <tr>\n",
       "      <th>1</th>\n",
       "      <td>MainScreenAppear</td>\n",
       "      <td>7416695313311560658</td>\n",
       "      <td>1564053102</td>\n",
       "      <td>246</td>\n",
       "    </tr>\n",
       "    <tr>\n",
       "      <th>2</th>\n",
       "      <td>PaymentScreenSuccessful</td>\n",
       "      <td>3518123091307005509</td>\n",
       "      <td>1564054127</td>\n",
       "      <td>248</td>\n",
       "    </tr>\n",
       "    <tr>\n",
       "      <th>3</th>\n",
       "      <td>CartScreenAppear</td>\n",
       "      <td>3518123091307005509</td>\n",
       "      <td>1564054127</td>\n",
       "      <td>248</td>\n",
       "    </tr>\n",
       "    <tr>\n",
       "      <th>4</th>\n",
       "      <td>PaymentScreenSuccessful</td>\n",
       "      <td>6217807653094995999</td>\n",
       "      <td>1564055322</td>\n",
       "      <td>248</td>\n",
       "    </tr>\n",
       "  </tbody>\n",
       "</table>\n",
       "</div>"
      ],
      "text/plain": [
       "                 EventName         DeviceIDHash  EventTimestamp  ExpId\n",
       "0         MainScreenAppear  4575588528974610257      1564029816    246\n",
       "1         MainScreenAppear  7416695313311560658      1564053102    246\n",
       "2  PaymentScreenSuccessful  3518123091307005509      1564054127    248\n",
       "3         CartScreenAppear  3518123091307005509      1564054127    248\n",
       "4  PaymentScreenSuccessful  6217807653094995999      1564055322    248"
      ]
     },
     "metadata": {},
     "output_type": "display_data"
    },
    {
     "data": {
      "text/plain": [
       "413"
      ]
     },
     "metadata": {},
     "output_type": "display_data"
    },
    {
     "data": {
      "text/html": [
       "<style  type=\"text/css\" >\n",
       "#T_0cc29359_1287_11ef_90c5_5405db6b27aarow0_col0,#T_0cc29359_1287_11ef_90c5_5405db6b27aarow1_col0,#T_0cc29359_1287_11ef_90c5_5405db6b27aarow2_col0,#T_0cc29359_1287_11ef_90c5_5405db6b27aarow3_col0{\n",
       "            background-color:  #3b4cc0;\n",
       "            color:  #f1f1f1;\n",
       "        }</style><table id=\"T_0cc29359_1287_11ef_90c5_5405db6b27aa\" ><thead>    <tr>        <th class=\"blank level0\" ></th>        <th class=\"col_heading level0 col0\" >0</th>    </tr></thead><tbody>\n",
       "                <tr>\n",
       "                        <th id=\"T_0cc29359_1287_11ef_90c5_5405db6b27aalevel0_row0\" class=\"row_heading level0 row0\" >EventName</th>\n",
       "                        <td id=\"T_0cc29359_1287_11ef_90c5_5405db6b27aarow0_col0\" class=\"data row0 col0\" >0.000000</td>\n",
       "            </tr>\n",
       "            <tr>\n",
       "                        <th id=\"T_0cc29359_1287_11ef_90c5_5405db6b27aalevel0_row1\" class=\"row_heading level0 row1\" >DeviceIDHash</th>\n",
       "                        <td id=\"T_0cc29359_1287_11ef_90c5_5405db6b27aarow1_col0\" class=\"data row1 col0\" >0.000000</td>\n",
       "            </tr>\n",
       "            <tr>\n",
       "                        <th id=\"T_0cc29359_1287_11ef_90c5_5405db6b27aalevel0_row2\" class=\"row_heading level0 row2\" >EventTimestamp</th>\n",
       "                        <td id=\"T_0cc29359_1287_11ef_90c5_5405db6b27aarow2_col0\" class=\"data row2 col0\" >0.000000</td>\n",
       "            </tr>\n",
       "            <tr>\n",
       "                        <th id=\"T_0cc29359_1287_11ef_90c5_5405db6b27aalevel0_row3\" class=\"row_heading level0 row3\" >ExpId</th>\n",
       "                        <td id=\"T_0cc29359_1287_11ef_90c5_5405db6b27aarow3_col0\" class=\"data row3 col0\" >0.000000</td>\n",
       "            </tr>\n",
       "    </tbody></table>"
      ],
      "text/plain": [
       "<pandas.io.formats.style.Styler at 0x2b0709d1610>"
      ]
     },
     "metadata": {},
     "output_type": "display_data"
    }
   ],
   "source": [
    "display_general_info(log_event)"
   ]
  },
  {
   "cell_type": "markdown",
   "metadata": {},
   "source": [
    "As a result of output general information of dataframe, following preprocessing must be done:\n",
    " - rename columns and data in `eventName` column\n",
    " - change data type of EventTimestamp - from numeric to date\n",
    " - remove 413 explicit duplicates. it is less than 1% of dataframe data"
   ]
  },
  {
   "cell_type": "markdown",
   "metadata": {},
   "source": [
    "##  2. Data preprocessing"
   ]
  },
  {
   "cell_type": "markdown",
   "metadata": {},
   "source": [
    "### 2.1 Rename columns"
   ]
  },
  {
   "cell_type": "code",
   "execution_count": 6,
   "metadata": {},
   "outputs": [
    {
     "data": {
      "text/html": [
       "<div>\n",
       "<style scoped>\n",
       "    .dataframe tbody tr th:only-of-type {\n",
       "        vertical-align: middle;\n",
       "    }\n",
       "\n",
       "    .dataframe tbody tr th {\n",
       "        vertical-align: top;\n",
       "    }\n",
       "\n",
       "    .dataframe thead th {\n",
       "        text-align: right;\n",
       "    }\n",
       "</style>\n",
       "<table border=\"1\" class=\"dataframe\">\n",
       "  <thead>\n",
       "    <tr style=\"text-align: right;\">\n",
       "      <th></th>\n",
       "      <th>event_name</th>\n",
       "      <th>device_id_hash</th>\n",
       "      <th>event_timestamp</th>\n",
       "      <th>exp_id</th>\n",
       "    </tr>\n",
       "  </thead>\n",
       "  <tbody>\n",
       "    <tr>\n",
       "      <th>0</th>\n",
       "      <td>MainScreenAppear</td>\n",
       "      <td>4575588528974610257</td>\n",
       "      <td>1564029816</td>\n",
       "      <td>246</td>\n",
       "    </tr>\n",
       "    <tr>\n",
       "      <th>1</th>\n",
       "      <td>MainScreenAppear</td>\n",
       "      <td>7416695313311560658</td>\n",
       "      <td>1564053102</td>\n",
       "      <td>246</td>\n",
       "    </tr>\n",
       "  </tbody>\n",
       "</table>\n",
       "</div>"
      ],
      "text/plain": [
       "         event_name       device_id_hash  event_timestamp  exp_id\n",
       "0  MainScreenAppear  4575588528974610257       1564029816     246\n",
       "1  MainScreenAppear  7416695313311560658       1564053102     246"
      ]
     },
     "execution_count": 6,
     "metadata": {},
     "output_type": "execute_result"
    }
   ],
   "source": [
    "log_event=log_event.rename(columns={'EventName':'event_name', 'DeviceIDHash':'device_id_hash','EventTimestamp':'event_timestamp', 'ExpId':'exp_id'})\n",
    "log_event.head(2)"
   ]
  },
  {
   "cell_type": "markdown",
   "metadata": {},
   "source": [
    "### 2.2 Check missing values and data types "
   ]
  },
  {
   "cell_type": "code",
   "execution_count": 7,
   "metadata": {},
   "outputs": [
    {
     "data": {
      "text/html": [
       "<div>\n",
       "<style scoped>\n",
       "    .dataframe tbody tr th:only-of-type {\n",
       "        vertical-align: middle;\n",
       "    }\n",
       "\n",
       "    .dataframe tbody tr th {\n",
       "        vertical-align: top;\n",
       "    }\n",
       "\n",
       "    .dataframe thead th {\n",
       "        text-align: right;\n",
       "    }\n",
       "</style>\n",
       "<table border=\"1\" class=\"dataframe\">\n",
       "  <thead>\n",
       "    <tr style=\"text-align: right;\">\n",
       "      <th></th>\n",
       "      <th>event_name</th>\n",
       "      <th>device_id_hash</th>\n",
       "      <th>event_timestamp</th>\n",
       "      <th>exp_id</th>\n",
       "      <th>event_datetime</th>\n",
       "      <th>event_date</th>\n",
       "    </tr>\n",
       "  </thead>\n",
       "  <tbody>\n",
       "    <tr>\n",
       "      <th>0</th>\n",
       "      <td>MainScreenAppear</td>\n",
       "      <td>4575588528974610257</td>\n",
       "      <td>1564029816</td>\n",
       "      <td>246</td>\n",
       "      <td>2019-07-25 04:43:36</td>\n",
       "      <td>2019-07-25</td>\n",
       "    </tr>\n",
       "    <tr>\n",
       "      <th>1</th>\n",
       "      <td>MainScreenAppear</td>\n",
       "      <td>7416695313311560658</td>\n",
       "      <td>1564053102</td>\n",
       "      <td>246</td>\n",
       "      <td>2019-07-25 11:11:42</td>\n",
       "      <td>2019-07-25</td>\n",
       "    </tr>\n",
       "  </tbody>\n",
       "</table>\n",
       "</div>"
      ],
      "text/plain": [
       "         event_name       device_id_hash  event_timestamp  exp_id  \\\n",
       "0  MainScreenAppear  4575588528974610257       1564029816     246   \n",
       "1  MainScreenAppear  7416695313311560658       1564053102     246   \n",
       "\n",
       "       event_datetime event_date  \n",
       "0 2019-07-25 04:43:36 2019-07-25  \n",
       "1 2019-07-25 11:11:42 2019-07-25  "
      ]
     },
     "metadata": {},
     "output_type": "display_data"
    },
    {
     "name": "stdout",
     "output_type": "stream",
     "text": [
      "<class 'pandas.core.frame.DataFrame'>\n",
      "RangeIndex: 244126 entries, 0 to 244125\n",
      "Data columns (total 6 columns):\n",
      " #   Column           Non-Null Count   Dtype         \n",
      "---  ------           --------------   -----         \n",
      " 0   event_name       244126 non-null  object        \n",
      " 1   device_id_hash   244126 non-null  int64         \n",
      " 2   event_timestamp  244126 non-null  int64         \n",
      " 3   exp_id           244126 non-null  int64         \n",
      " 4   event_datetime   244126 non-null  datetime64[ns]\n",
      " 5   event_date       244126 non-null  datetime64[ns]\n",
      "dtypes: datetime64[ns](2), int64(3), object(1)\n",
      "memory usage: 11.2+ MB\n"
     ]
    }
   ],
   "source": [
    "# add new columns with time and date, converting event_timestamp to data typr -  datetime64\n",
    "log_event['event_datetime'] = pd.to_datetime(log_event['event_timestamp'],unit='s')\n",
    "log_event['event_date'] = log_event['event_datetime'].astype('datetime64[D]')\n",
    "\n",
    "# check data\n",
    "display(log_event.head(2))\n",
    "log_event.info()"
   ]
  },
  {
   "cell_type": "markdown",
   "metadata": {},
   "source": [
    "### 2.3 Remove duplicates"
   ]
  },
  {
   "cell_type": "code",
   "execution_count": 8,
   "metadata": {},
   "outputs": [
    {
     "data": {
      "text/plain": [
       "0"
      ]
     },
     "execution_count": 8,
     "metadata": {},
     "output_type": "execute_result"
    }
   ],
   "source": [
    "log_event=log_event.drop_duplicates().reset_index(drop=True)\n",
    "\n",
    "# check duplicates after their removing\n",
    "log_event.duplicated().sum()"
   ]
  },
  {
   "cell_type": "markdown",
   "metadata": {},
   "source": [
    "## 3. Exploratory data analysis"
   ]
  },
  {
   "cell_type": "markdown",
   "metadata": {},
   "source": [
    "### 3.1 How many events are in log?"
   ]
  },
  {
   "cell_type": "code",
   "execution_count": 9,
   "metadata": {},
   "outputs": [
    {
     "name": "stdout",
     "output_type": "stream",
     "text": [
      "Total events qty 243713, unique types of events 5.\n"
     ]
    }
   ],
   "source": [
    "print('Total events qty %d, unique types of events %d.' % (log_event['event_name'].count(), log_event['event_name'].nunique()))"
   ]
  },
  {
   "cell_type": "markdown",
   "metadata": {},
   "source": [
    "### 3.2 How many users in log?"
   ]
  },
  {
   "cell_type": "code",
   "execution_count": 10,
   "metadata": {},
   "outputs": [
    {
     "name": "stdout",
     "output_type": "stream",
     "text": [
      "Total user qty 7551.\n"
     ]
    }
   ],
   "source": [
    "print('Total user qty %d.' % (log_event['device_id_hash'].nunique()))"
   ]
  },
  {
   "cell_type": "markdown",
   "metadata": {},
   "source": [
    "### 3.3 What is average events qty per user?"
   ]
  },
  {
   "cell_type": "code",
   "execution_count": 11,
   "metadata": {},
   "outputs": [
    {
     "name": "stdout",
     "output_type": "stream",
     "text": [
      "Average events qty per user 32.\n"
     ]
    }
   ],
   "source": [
    "print('Average events qty per user %d.' % (log_event['event_name'].count()/log_event['device_id_hash'].nunique()))"
   ]
  },
  {
   "cell_type": "markdown",
   "metadata": {},
   "source": [
    "### 3.4 Check time period of dataframe\n",
    "\n",
    "What period of data do you have? Find maximum and minimum dates. Analyze how data were changing: build bar chart which displays events qty depending on time by groups. Are you shure that you have complete data for entire period? Determine when data is complete and discard older ones. What period of time do you actually have data for?"
   ]
  },
  {
   "cell_type": "code",
   "execution_count": 12,
   "metadata": {},
   "outputs": [
    {
     "data": {
      "text/plain": [
       "Timestamp('2019-07-25 04:43:36')"
      ]
     },
     "metadata": {},
     "output_type": "display_data"
    },
    {
     "data": {
      "text/plain": [
       "Timestamp('2019-08-07 21:15:17')"
      ]
     },
     "metadata": {},
     "output_type": "display_data"
    }
   ],
   "source": [
    "display(log_event['event_datetime'].min())\n",
    "display(log_event['event_datetime'].max())"
   ]
  },
  {
   "cell_type": "code",
   "execution_count": 13,
   "metadata": {},
   "outputs": [],
   "source": [
    "# creating DataFrame event_by_date with aggregated data by groups and dates\n",
    "event_by_date = log_event.groupby(['event_date', 'exp_id'])['device_id_hash'].count().reset_index()\n",
    "# preparing data for further visualization by groups\n",
    "event_by_date_246=event_by_date.query('exp_id == 246')\n",
    "event_by_date_247=event_by_date.query('exp_id == 247')\n",
    "event_by_date_248=event_by_date.query('exp_id == 248')"
   ]
  },
  {
   "cell_type": "code",
   "execution_count": 14,
   "metadata": {},
   "outputs": [
    {
     "data": {
      "image/png": "[encoded data removed]",
      "text/plain": [
       "<Figure size 1080x360 with 1 Axes>"
      ]
     },
     "metadata": {},
     "output_type": "display_data"
    }
   ],
   "source": [
    "# visualize\n",
    "plt.figure(figsize=(15,5))\n",
    "plt.style.use('seaborn-white')\n",
    "plt.title('Distribution events qty by groups and dates\\n  ')\n",
    "plt.xlabel('\\nDate')\n",
    "plt.ylabel('Events qty\\n')\n",
    "\n",
    "plt.plot(event_by_date_246['event_date'], event_by_date_246['device_id_hash'], label='246', color='blue')\n",
    "plt.plot(event_by_date_247['event_date'], event_by_date_247['device_id_hash'], label='247', color='orange')\n",
    "plt.plot(event_by_date_248['event_date'], event_by_date_248['device_id_hash'], label='248', color='green')\n",
    "\n",
    "plt.xticks(rotation=45)\n",
    "plt.grid(False)\n",
    "plt.legend()\n",
    "plt.show()\n"
   ]
  },
  {
   "cell_type": "markdown",
   "metadata": {},
   "source": [
    "Until June 31, 2019, there is zero number of events in three groups. Propose to remove data until June 31 inclusive."
   ]
  },
  {
   "cell_type": "code",
   "execution_count": 15,
   "metadata": {},
   "outputs": [
    {
     "data": {
      "text/plain": [
       "Timestamp('2019-08-01 00:00:00')"
      ]
     },
     "execution_count": 15,
     "metadata": {},
     "output_type": "execute_result"
    }
   ],
   "source": [
    "log_event_filtered = log_event[log_event['event_date'] > '2019-07-31'].reset_index(drop=True)\n",
    "log_event_filtered['event_date'].min()"
   ]
  },
  {
   "cell_type": "markdown",
   "metadata": {},
   "source": [
    "### 3.5 How many events we were lost after removing old data?"
   ]
  },
  {
   "cell_type": "code",
   "execution_count": 16,
   "metadata": {
    "scrolled": true
   },
   "outputs": [
    {
     "name": "stdout",
     "output_type": "stream",
     "text": [
      "Lost events after removing old data: 1.16%\n"
     ]
    }
   ],
   "source": [
    "print('Lost events after removing old data: {:.2%}'.format(1 - log_event_filtered['event_name'].count() / log_event['event_name'].count()))"
   ]
  },
  {
   "cell_type": "code",
   "execution_count": 17,
   "metadata": {
    "scrolled": true
   },
   "outputs": [
    {
     "name": "stdout",
     "output_type": "stream",
     "text": [
      "\n",
      " Event qty after removing old data: 240887 \n",
      " Lost events: 2826 \n",
      " % events from original: 98.84\n",
      "\n",
      " Users qty after removing old data: 7534 \n",
      " Lost users: 17 \n",
      " % users from original 99.77\n"
     ]
    }
   ],
   "source": [
    "# events qty\n",
    "print(\n",
    "    '\\n Event qty after removing old data:', log_event_filtered.shape[0],\n",
    "    '\\n Lost events:', log_event.shape[0] - log_event_filtered.shape[0],\n",
    "    '\\n % events from original:', round(log_event_filtered.shape[0]/log_event.shape[0]*100, 2)\n",
    "     )\n",
    "\n",
    "# unique users qty\n",
    "print(\n",
    "    '\\n Users qty after removing old data:', len(log_event_filtered['device_id_hash'].unique()),\n",
    "    '\\n Lost users:', len(log_event['device_id_hash'].unique()) - len(log_event_filtered['device_id_hash'].unique()),\n",
    "    '\\n % users from original', round(log_event_filtered['device_id_hash'].nunique() / log_event['device_id_hash'].nunique()*100, 2))"
   ]
  },
  {
   "cell_type": "markdown",
   "metadata": {},
   "source": [
    "- Lost events are 2826 , it is 1.16%.\n",
    "- Lost users are 17, it is 0.23%"
   ]
  },
  {
   "cell_type": "markdown",
   "metadata": {},
   "source": [
    "### 3.6 Check that you have users in each test group"
   ]
  },
  {
   "cell_type": "code",
   "execution_count": 18,
   "metadata": {},
   "outputs": [
    {
     "data": {
      "text/plain": [
       "exp_id\n",
       "246    2484\n",
       "247    2513\n",
       "248    2537\n",
       "Name: device_id_hash, dtype: int64"
      ]
     },
     "execution_count": 18,
     "metadata": {},
     "output_type": "execute_result"
    }
   ],
   "source": [
    "users_per_group=log_event_filtered.groupby('exp_id')['device_id_hash'].agg('nunique')\n",
    "users_per_group"
   ]
  },
  {
   "cell_type": "markdown",
   "metadata": {},
   "source": [
    "Users are in 3 test groups."
   ]
  },
  {
   "cell_type": "markdown",
   "metadata": {},
   "source": [
    "**Section summary:**\n",
    "\n",
    "As a result of exploratory data, following statements were made:\n",
    "- there are 243k events in log dataframe, while there are 5 types.\n",
    "- there are 7551 users and about 32 events per user\n",
    "- data is available in period from July, 25 to August, 7, while there are practically no events in 3 test groups until July 31. It was decided to remove this data to improve further analysis.\n",
    "- there are users in 3 experimental groups and the approximate number of them is 2500 per each."
   ]
  },
  {
   "cell_type": "markdown",
   "metadata": {},
   "source": [
    "## 4. Analyze funnel events"
   ]
  },
  {
   "cell_type": "markdown",
   "metadata": {},
   "source": [
    "### 4.1 What types of events are in logs and how often they occur"
   ]
  },
  {
   "cell_type": "code",
   "execution_count": 19,
   "metadata": {
    "scrolled": true
   },
   "outputs": [
    {
     "data": {
      "text/html": [
       "<div>\n",
       "<style scoped>\n",
       "    .dataframe tbody tr th:only-of-type {\n",
       "        vertical-align: middle;\n",
       "    }\n",
       "\n",
       "    .dataframe tbody tr th {\n",
       "        vertical-align: top;\n",
       "    }\n",
       "\n",
       "    .dataframe thead th {\n",
       "        text-align: right;\n",
       "    }\n",
       "</style>\n",
       "<table border=\"1\" class=\"dataframe\">\n",
       "  <thead>\n",
       "    <tr style=\"text-align: right;\">\n",
       "      <th></th>\n",
       "      <th>event_name</th>\n",
       "    </tr>\n",
       "  </thead>\n",
       "  <tbody>\n",
       "    <tr>\n",
       "      <th>MainScreenAppear</th>\n",
       "      <td>117328</td>\n",
       "    </tr>\n",
       "    <tr>\n",
       "      <th>OffersScreenAppear</th>\n",
       "      <td>46333</td>\n",
       "    </tr>\n",
       "    <tr>\n",
       "      <th>CartScreenAppear</th>\n",
       "      <td>42303</td>\n",
       "    </tr>\n",
       "    <tr>\n",
       "      <th>PaymentScreenSuccessful</th>\n",
       "      <td>33918</td>\n",
       "    </tr>\n",
       "    <tr>\n",
       "      <th>Tutorial</th>\n",
       "      <td>1005</td>\n",
       "    </tr>\n",
       "  </tbody>\n",
       "</table>\n",
       "</div>"
      ],
      "text/plain": [
       "                         event_name\n",
       "MainScreenAppear             117328\n",
       "OffersScreenAppear            46333\n",
       "CartScreenAppear              42303\n",
       "PaymentScreenSuccessful       33918\n",
       "Tutorial                       1005"
      ]
     },
     "execution_count": 19,
     "metadata": {},
     "output_type": "execute_result"
    }
   ],
   "source": [
    "pd.DataFrame(log_event_filtered['event_name'].value_counts().sort_values(ascending=False))"
   ]
  },
  {
   "cell_type": "markdown",
   "metadata": {},
   "source": [
    "The `MainScreenAppear` event appears most often, which is logical in funnel sequence of events"
   ]
  },
  {
   "cell_type": "markdown",
   "metadata": {},
   "source": [
    "### 4.2 Calculate how many users executed each type of event?"
   ]
  },
  {
   "cell_type": "code",
   "execution_count": 20,
   "metadata": {},
   "outputs": [
    {
     "data": {
      "text/html": [
       "<div>\n",
       "<style scoped>\n",
       "    .dataframe tbody tr th:only-of-type {\n",
       "        vertical-align: middle;\n",
       "    }\n",
       "\n",
       "    .dataframe tbody tr th {\n",
       "        vertical-align: top;\n",
       "    }\n",
       "\n",
       "    .dataframe thead th {\n",
       "        text-align: right;\n",
       "    }\n",
       "</style>\n",
       "<table border=\"1\" class=\"dataframe\">\n",
       "  <thead>\n",
       "    <tr style=\"text-align: right;\">\n",
       "      <th></th>\n",
       "      <th>event_name</th>\n",
       "      <th>total_users</th>\n",
       "      <th>percentage</th>\n",
       "    </tr>\n",
       "  </thead>\n",
       "  <tbody>\n",
       "    <tr>\n",
       "      <th>0</th>\n",
       "      <td>MainScreenAppear</td>\n",
       "      <td>7419</td>\n",
       "      <td>98.47</td>\n",
       "    </tr>\n",
       "    <tr>\n",
       "      <th>1</th>\n",
       "      <td>OffersScreenAppear</td>\n",
       "      <td>4593</td>\n",
       "      <td>60.96</td>\n",
       "    </tr>\n",
       "    <tr>\n",
       "      <th>2</th>\n",
       "      <td>CartScreenAppear</td>\n",
       "      <td>3734</td>\n",
       "      <td>49.56</td>\n",
       "    </tr>\n",
       "    <tr>\n",
       "      <th>3</th>\n",
       "      <td>PaymentScreenSuccessful</td>\n",
       "      <td>3539</td>\n",
       "      <td>46.97</td>\n",
       "    </tr>\n",
       "    <tr>\n",
       "      <th>4</th>\n",
       "      <td>Tutorial</td>\n",
       "      <td>840</td>\n",
       "      <td>11.15</td>\n",
       "    </tr>\n",
       "  </tbody>\n",
       "</table>\n",
       "</div>"
      ],
      "text/plain": [
       "                event_name  total_users  percentage\n",
       "0         MainScreenAppear         7419       98.47\n",
       "1       OffersScreenAppear         4593       60.96\n",
       "2         CartScreenAppear         3734       49.56\n",
       "3  PaymentScreenSuccessful         3539       46.97\n",
       "4                 Tutorial          840       11.15"
      ]
     },
     "execution_count": 20,
     "metadata": {},
     "output_type": "execute_result"
    }
   ],
   "source": [
    "# sorting events by uers qty. Calculate share of users who made event at least 1 time\n",
    "event_to_user=log_event_filtered.groupby('event_name')['device_id_hash'].nunique().sort_values(ascending=False).reset_index().rename(columns={'device_id_hash': 'total_users'})\n",
    "total_users=log_event_filtered['device_id_hash'].nunique()\n",
    "event_to_user['percentage']=round((event_to_user['total_users']/total_users*100),2)\n",
    "event_to_user"
   ]
  },
  {
   "cell_type": "markdown",
   "metadata": {},
   "source": [
    "Sequence of events are equal to frequancy of events(total_users), mean, start event `MainScreenAppear`-> than `OffersScreenAppear`->`CartScreenAppear`->`PaymentScreenSuccessful`->`Tutorial`. \n",
    "Meanwhile only 98.5% users start with `MainScreenAppear`. 1.5% is somewhere lost (may technical issue)."
   ]
  },
  {
   "cell_type": "markdown",
   "metadata": {},
   "source": [
    "### 4.3 Based on funnel of events, calculate what proportion of users passes to next step of funnel (from number of users in previous one)."
   ]
  },
  {
   "cell_type": "code",
   "execution_count": 21,
   "metadata": {},
   "outputs": [
    {
     "data": {
      "text/html": [
       "<div>\n",
       "<style scoped>\n",
       "    .dataframe tbody tr th:only-of-type {\n",
       "        vertical-align: middle;\n",
       "    }\n",
       "\n",
       "    .dataframe tbody tr th {\n",
       "        vertical-align: top;\n",
       "    }\n",
       "\n",
       "    .dataframe thead th {\n",
       "        text-align: right;\n",
       "    }\n",
       "</style>\n",
       "<table border=\"1\" class=\"dataframe\">\n",
       "  <thead>\n",
       "    <tr style=\"text-align: right;\">\n",
       "      <th></th>\n",
       "      <th>event_name</th>\n",
       "      <th>total_users</th>\n",
       "      <th>percentage</th>\n",
       "      <th>conversion</th>\n",
       "    </tr>\n",
       "  </thead>\n",
       "  <tbody>\n",
       "    <tr>\n",
       "      <th>0</th>\n",
       "      <td>MainScreenAppear</td>\n",
       "      <td>7419</td>\n",
       "      <td>98.47</td>\n",
       "      <td>100.00</td>\n",
       "    </tr>\n",
       "    <tr>\n",
       "      <th>1</th>\n",
       "      <td>OffersScreenAppear</td>\n",
       "      <td>4593</td>\n",
       "      <td>60.96</td>\n",
       "      <td>61.91</td>\n",
       "    </tr>\n",
       "    <tr>\n",
       "      <th>2</th>\n",
       "      <td>CartScreenAppear</td>\n",
       "      <td>3734</td>\n",
       "      <td>49.56</td>\n",
       "      <td>81.30</td>\n",
       "    </tr>\n",
       "    <tr>\n",
       "      <th>3</th>\n",
       "      <td>PaymentScreenSuccessful</td>\n",
       "      <td>3539</td>\n",
       "      <td>46.97</td>\n",
       "      <td>94.78</td>\n",
       "    </tr>\n",
       "    <tr>\n",
       "      <th>4</th>\n",
       "      <td>Tutorial</td>\n",
       "      <td>840</td>\n",
       "      <td>11.15</td>\n",
       "      <td>23.74</td>\n",
       "    </tr>\n",
       "  </tbody>\n",
       "</table>\n",
       "</div>"
      ],
      "text/plain": [
       "                event_name  total_users  percentage  conversion\n",
       "0         MainScreenAppear         7419       98.47      100.00\n",
       "1       OffersScreenAppear         4593       60.96       61.91\n",
       "2         CartScreenAppear         3734       49.56       81.30\n",
       "3  PaymentScreenSuccessful         3539       46.97       94.78\n",
       "4                 Tutorial          840       11.15       23.74"
      ]
     },
     "execution_count": 21,
     "metadata": {},
     "output_type": "execute_result"
    }
   ],
   "source": [
    "#  shifting  total_users down one row\n",
    "event_to_user['steps'] = event_to_user['total_users'].shift()\n",
    "\n",
    "# conversion of next step in relation to previous one\n",
    "event_to_user['conversion'] = round(event_to_user['total_users'] / event_to_user['steps'] * 100, 2) \n",
    "\n",
    "# remove column steps\n",
    "event_to_user.drop(columns= ['steps'], axis = 1, inplace = True)\n",
    "\n",
    "# replace NaN in first row to 100%\n",
    "event_to_user = event_to_user.fillna(100)\n",
    "event_to_user"
   ]
  },
  {
   "cell_type": "markdown",
   "metadata": {},
   "source": [
    "Suggested removing `Tutorial` from funnel, obviously that not everyone passes this event, this event is not mandatory for building logic sequence of events."
   ]
  },
  {
   "cell_type": "code",
   "execution_count": 22,
   "metadata": {},
   "outputs": [],
   "source": [
    "event_to_user = event_to_user.query('event_name != \"Tutorial\"').reset_index(drop=True)"
   ]
  },
  {
   "cell_type": "code",
   "execution_count": 23,
   "metadata": {},
   "outputs": [
    {
     "data": {
      "image/png": "[encoded data removed]"
     },
     "metadata": {},
     "output_type": "display_data"
    }
   ],
   "source": [
    "# visualizing funnel without Tutorial\n",
    "\n",
    "fig = go.Figure(go.Funnel(\n",
    "    y=event_to_user['event_name'],\n",
    "    x=event_to_user['total_users'],\n",
    "    textposition=\"inside\",\n",
    "    textinfo=\"value+percent previous\"))\n",
    "\n",
    "fig.update_layout(\n",
    "    title=\"Funnel of events\", title_x=0.50,\n",
    "    font=dict(size=12),\n",
    "    width=800,\n",
    "    height=500)\n",
    "\n",
    "fig.show(\"png\")"
   ]
  },
  {
   "cell_type": "markdown",
   "metadata": {},
   "source": [
    "**Section summary:**\n",
    "\n",
    "In process of analysis of events funnel, it was revealed that:\n",
    "- most events (7419) are in `MainScreenAppear` stage of application.\n",
    "- sequance of events is set:\n",
    "1. MainScreenAppear\n",
    "2. OffersScreenAppear\n",
    "3. CartScreenAppear\t\n",
    "4. PaymentScreenSuccessful\n",
    "\n",
    "\n",
    "- calculated percentages of users going through each step. It was revealed that only 47% of users reach moment of Payment for product, and almost 40% of users have already been eliminated from Main page. This is reason to worry and we recommend analysing what is happening while switching Main page to product selection Page."
   ]
  },
  {
   "cell_type": "markdown",
   "metadata": {},
   "source": [
    "## 5. Analyze A/A/B test results"
   ]
  },
  {
   "cell_type": "markdown",
   "metadata": {},
   "source": [
    "### 5.1 How many users in each group?"
   ]
  },
  {
   "cell_type": "code",
   "execution_count": 24,
   "metadata": {},
   "outputs": [
    {
     "data": {
      "text/html": [
       "<div>\n",
       "<style scoped>\n",
       "    .dataframe tbody tr th:only-of-type {\n",
       "        vertical-align: middle;\n",
       "    }\n",
       "\n",
       "    .dataframe tbody tr th {\n",
       "        vertical-align: top;\n",
       "    }\n",
       "\n",
       "    .dataframe thead th {\n",
       "        text-align: right;\n",
       "    }\n",
       "</style>\n",
       "<table border=\"1\" class=\"dataframe\">\n",
       "  <thead>\n",
       "    <tr style=\"text-align: right;\">\n",
       "      <th></th>\n",
       "      <th>exp_id</th>\n",
       "      <th>device_id_hash</th>\n",
       "    </tr>\n",
       "  </thead>\n",
       "  <tbody>\n",
       "    <tr>\n",
       "      <th>0</th>\n",
       "      <td>248</td>\n",
       "      <td>2537</td>\n",
       "    </tr>\n",
       "    <tr>\n",
       "      <th>1</th>\n",
       "      <td>247</td>\n",
       "      <td>2513</td>\n",
       "    </tr>\n",
       "    <tr>\n",
       "      <th>2</th>\n",
       "      <td>246</td>\n",
       "      <td>2484</td>\n",
       "    </tr>\n",
       "  </tbody>\n",
       "</table>\n",
       "</div>"
      ],
      "text/plain": [
       "   exp_id  device_id_hash\n",
       "0     248            2537\n",
       "1     247            2513\n",
       "2     246            2484"
      ]
     },
     "execution_count": 24,
     "metadata": {},
     "output_type": "execute_result"
    }
   ],
   "source": [
    "users_per_exp=log_event_filtered.groupby('exp_id')['device_id_hash'].nunique().sort_values(ascending=False).reset_index()\n",
    "users_per_exp"
   ]
  },
  {
   "cell_type": "markdown",
   "metadata": {},
   "source": [
    "Number of users in each experimental group is almost same and is around 2500 users"
   ]
  },
  {
   "cell_type": "markdown",
   "metadata": {},
   "source": [
    "Check duplicated users in all groups."
   ]
  },
  {
   "cell_type": "code",
   "execution_count": 25,
   "metadata": {
    "scrolled": true
   },
   "outputs": [
    {
     "data": {
      "text/plain": [
       "set()"
      ]
     },
     "execution_count": 25,
     "metadata": {},
     "output_type": "execute_result"
    }
   ],
   "source": [
    "# sorting users by groups\n",
    "users_246 = set(log_event_filtered[log_event_filtered['exp_id'] == 246]['device_id_hash'])\n",
    "users_247 = set(log_event_filtered[log_event_filtered['exp_id'] == 247]['device_id_hash'])\n",
    "users_248 = set(log_event_filtered[log_event_filtered['exp_id'] == 248]['device_id_hash'])\n",
    "\n",
    "\n",
    "# write function for multiple intersection-sets\n",
    "def intersect_multi(a, *others):\n",
    "    result = a.copy()\n",
    "    for other in others:\n",
    "        newresult = result.intersection(other)\n",
    "        if not newresult:\n",
    "            return set()\n",
    "    result = newresult\n",
    "\n",
    "# check intersections\n",
    "intersect_multi(users_246, users_247,users_248)"
   ]
  },
  {
   "cell_type": "markdown",
   "metadata": {},
   "source": [
    "No intersections values are found."
   ]
  },
  {
   "cell_type": "markdown",
   "metadata": {},
   "source": [
    "###  5.2 Analyzing А/А test"
   ]
  },
  {
   "cell_type": "markdown",
   "metadata": {},
   "source": [
    "#### 5.2.1 Indicate most popular event. Count number of users who committed this event in each control groups. Calculate % of users who committed this event"
   ]
  },
  {
   "cell_type": "code",
   "execution_count": 26,
   "metadata": {},
   "outputs": [
    {
     "data": {
      "text/html": [
       "<div>\n",
       "<style scoped>\n",
       "    .dataframe tbody tr th:only-of-type {\n",
       "        vertical-align: middle;\n",
       "    }\n",
       "\n",
       "    .dataframe tbody tr th {\n",
       "        vertical-align: top;\n",
       "    }\n",
       "\n",
       "    .dataframe thead th {\n",
       "        text-align: right;\n",
       "    }\n",
       "</style>\n",
       "<table border=\"1\" class=\"dataframe\">\n",
       "  <thead>\n",
       "    <tr style=\"text-align: right;\">\n",
       "      <th></th>\n",
       "      <th>event_name</th>\n",
       "      <th>246</th>\n",
       "      <th>246_per_user</th>\n",
       "      <th>247</th>\n",
       "      <th>247_per_user</th>\n",
       "      <th>248</th>\n",
       "      <th>248_per_user</th>\n",
       "    </tr>\n",
       "  </thead>\n",
       "  <tbody>\n",
       "    <tr>\n",
       "      <th>0</th>\n",
       "      <td>MainScreenAppear</td>\n",
       "      <td>2450</td>\n",
       "      <td>0.325</td>\n",
       "      <td>2476</td>\n",
       "      <td>0.329</td>\n",
       "      <td>2493</td>\n",
       "      <td>0.331</td>\n",
       "    </tr>\n",
       "    <tr>\n",
       "      <th>1</th>\n",
       "      <td>OffersScreenAppear</td>\n",
       "      <td>1542</td>\n",
       "      <td>0.205</td>\n",
       "      <td>1520</td>\n",
       "      <td>0.202</td>\n",
       "      <td>1531</td>\n",
       "      <td>0.203</td>\n",
       "    </tr>\n",
       "    <tr>\n",
       "      <th>2</th>\n",
       "      <td>CartScreenAppear</td>\n",
       "      <td>1266</td>\n",
       "      <td>0.168</td>\n",
       "      <td>1238</td>\n",
       "      <td>0.164</td>\n",
       "      <td>1230</td>\n",
       "      <td>0.163</td>\n",
       "    </tr>\n",
       "    <tr>\n",
       "      <th>3</th>\n",
       "      <td>PaymentScreenSuccessful</td>\n",
       "      <td>1200</td>\n",
       "      <td>0.159</td>\n",
       "      <td>1158</td>\n",
       "      <td>0.154</td>\n",
       "      <td>1181</td>\n",
       "      <td>0.157</td>\n",
       "    </tr>\n",
       "  </tbody>\n",
       "</table>\n",
       "</div>"
      ],
      "text/plain": [
       "                event_name   246  246_per_user   247  247_per_user   248  \\\n",
       "0         MainScreenAppear  2450         0.325  2476         0.329  2493   \n",
       "1       OffersScreenAppear  1542         0.205  1520         0.202  1531   \n",
       "2         CartScreenAppear  1266         0.168  1238         0.164  1230   \n",
       "3  PaymentScreenSuccessful  1200         0.159  1158         0.154  1181   \n",
       "\n",
       "   248_per_user  \n",
       "0         0.331  \n",
       "1         0.203  \n",
       "2         0.163  \n",
       "3         0.157  "
      ]
     },
     "execution_count": 26,
     "metadata": {},
     "output_type": "execute_result"
    }
   ],
   "source": [
    "def event_group_pivot(group):\n",
    "    result = (\n",
    "        log_event_filtered\n",
    "        .query('exp_id == @group and event_name != \"Tutorial\"')\n",
    "        .groupby('event_name')\n",
    "        .agg(device_count=('device_id_hash', 'nunique'))\n",
    "        .sort_values(by='device_count', ascending=False)\n",
    "        .reset_index()\n",
    "    )\n",
    "    return result\n",
    "\n",
    "def event_group_ratio(df):\n",
    "    unique_devices = log_event_filtered['device_id_hash'].nunique()\n",
    "    df['ratio'] = round((df['device_count'] / unique_devices), 3)\n",
    "\n",
    "# tables for each group\n",
    "event_246_pivot = event_group_pivot(246)\n",
    "event_group_ratio(event_246_pivot)\n",
    "event_246_pivot.columns = ['event_name', '246', '246_per_user']\n",
    "\n",
    "event_247_pivot = event_group_pivot(247)\n",
    "event_group_ratio(event_247_pivot)\n",
    "event_247_pivot.columns = ['event_name', '247', '247_per_user']\n",
    "\n",
    "event_248_pivot = event_group_pivot(248)\n",
    "event_group_ratio(event_248_pivot)\n",
    "event_248_pivot.columns = ['event_name', '248', '248_per_user']\n",
    "\n",
    "# merging tables\n",
    "event_group_pivot = (\n",
    "    event_246_pivot\n",
    "    .merge(event_247_pivot, on='event_name')\n",
    "    .merge(event_248_pivot, on='event_name')\n",
    "    )\n",
    "\n",
    "event_group_pivot"
   ]
  },
  {
   "cell_type": "code",
   "execution_count": 27,
   "metadata": {},
   "outputs": [
    {
     "data": {
      "image/png": "[encoded data removed]"
     },
     "metadata": {},
     "output_type": "display_data"
    }
   ],
   "source": [
    "#  visualizing event funnel per group\n",
    "fig = go.Figure(go.Funnel(\n",
    "    name='246',\n",
    "    y = event_group_pivot['event_name'],\n",
    "    x = event_group_pivot['246'],\n",
    "    textinfo = 'value+percent initial'))\n",
    "\n",
    "fig.add_trace(go.Funnel(\n",
    "    name='247',\n",
    "    y = event_group_pivot['event_name'],\n",
    "    x = event_group_pivot['247'],\n",
    "    textinfo = 'value+percent initial'))\n",
    "\n",
    "fig.add_trace(go.Funnel(\n",
    "    name='248',\n",
    "    y = event_group_pivot['event_name'],\n",
    "    x = event_group_pivot['248'],\n",
    "    textinfo = 'value+percent initial'))\n",
    "\n",
    "fig.update_layout(\n",
    "    title=\"Event funnel per group\", title_x=0.50,\n",
    "    font=dict(size=12),\n",
    "    width=800,\n",
    "    height=500)\n",
    "\n",
    "fig.show(\"png\")"
   ]
  },
  {
   "cell_type": "code",
   "execution_count": 28,
   "metadata": {
    "scrolled": false
   },
   "outputs": [
    {
     "data": {
      "image/png": "[encoded data removed]"
     },
     "metadata": {},
     "output_type": "display_data"
    }
   ],
   "source": [
    "# visualizing distribution of events between two compared groups \n",
    "log_event_filtered_2groups=log_event_filtered[log_event_filtered['exp_id']!=248]\n",
    "\n",
    "colors = ['red', 'blue']\n",
    "fig = make_subplots(rows=2, cols=2, subplot_titles=[\n",
    "    'MainScreenAppear', 'OffersScreenAppear', 'CartScreenAppear', 'PaymentScreenSuccessful'\n",
    "])\n",
    "\n",
    "fig.update_layout(title='Distribution of events by groups in A/A test and event dates', height=800, title_x=0.50)\n",
    "\n",
    "for idx, event_name in enumerate(['MainScreenAppear', 'OffersScreenAppear', 'CartScreenAppear', 'PaymentScreenSuccessful'], 1):\n",
    "    row = (idx - 1) // 2 + 1\n",
    "    col = idx % 2 if idx % 2 else 2\n",
    "    for i, exp_id in enumerate(log_event_filtered_2groups['exp_id'].unique()):\n",
    "        data = log_event_filtered_2groups.query('event_name == @event_name and exp_id == @exp_id')['event_datetime']\n",
    "        fig.add_trace(go.Histogram(x=data, name=f'Group {exp_id}', marker_color=colors[i]), row=row, col=col)\n",
    "\n",
    "fig.update_xaxes(title_text='Date', tickformat='%d-%m-%y', row=1, col=1)\n",
    "fig.update_xaxes(title_text='Date', tickformat='%d-%m-%y', row=1, col=2)\n",
    "fig.update_xaxes(title_text='Date', tickformat='%d-%m-%y', row=2, col=1)\n",
    "fig.update_xaxes(title_text='Date', tickformat='%d-%m-%y', row=2, col=2)\n",
    "fig.update_yaxes(title_text='Users qty', row=1, col=1)\n",
    "fig.update_yaxes(title_text='Users qty', row=1, col=2)\n",
    "fig.update_yaxes(title_text='Users qty', row=2, col=1)\n",
    "fig.update_yaxes(title_text='Users qty', row=2, col=2)\n",
    "\n",
    "fig.update_layout(width=1200, height=800)\n",
    "fig.show(\"png\")"
   ]
  },
  {
   "cell_type": "markdown",
   "metadata": {},
   "source": [
    "Data per day looks like normal distribution, especially for the most popular `MainScreenAppear` event with small deviations on individual days. This allows us to formulate and test hypothesis of equality of shares in events for different groups of A/A test. We can use Z-test as Z-test compares the difference between the sample mean and the population means by considering the standard deviation of the sampling distribution. This test is based on the normal distribution, and allows us to test hypothesis of equality of samples between two groups (246 and 247)."
   ]
  },
  {
   "cell_type": "markdown",
   "metadata": {},
   "source": [
    "#### 5.2.2 Check if statistical criteria find difference between samples 246 and 247."
   ]
  },
  {
   "cell_type": "markdown",
   "metadata": {},
   "source": [
    "**Hypothesis test:** \n",
    "\n",
    "H_0: Proportions of both samples for unique users passed through funnel are equal. \n",
    "\n",
    "H_1: Proportions of both samples for unique users passed through funnel are different.\n",
    "\n",
    "alpha = 0.01\n",
    "\n",
    "Choosing alpha significance level of 1% means that probability of mistakenly rejecting **H0** should not exceed 1%. I choose significance level in 1% due to upcoming multiple hypothesis testing (we will test groups 246 and 247 in the context of 4 funnel events among themselves). Realizing that multiple hypotheses are to be tested, risk of false positive result increases, i.e. probability of finding differences is increased while there is no actual difference."
   ]
  },
  {
   "cell_type": "markdown",
   "metadata": {},
   "source": [
    "To simplify Z-test, we will create function to test hypothesis of proportions equality between two samples"
   ]
  },
  {
   "cell_type": "code",
   "execution_count": 29,
   "metadata": {},
   "outputs": [],
   "source": [
    "def z_test(exp_group_1, exp_group_2, event, alpha):\n",
    "    \n",
    "    alpha = alpha\n",
    "    \n",
    "    group_1 = log_event_filtered.query('exp_id == @exp_group_1')\n",
    "    group_2 = log_event_filtered.query('exp_id == @exp_group_2')\n",
    "\n",
    "    # sample values on level of testing event\n",
    "    successes = np.array([event_group_pivot.query('event_name == @event')[str(exp_group_1)].sum(),\n",
    "                          event_group_pivot.query('event_name == @event')[str(exp_group_2)].sum()])\n",
    "    \n",
    "    # initial sample values\n",
    "    trials = np.array([len(group_1['device_id_hash'].unique()), len(group_2['device_id_hash'].unique())])\n",
    "    \n",
    "    # successes proportions in groups\n",
    "    p1 = successes[0]/trials[0]\n",
    "    p2 = successes[1]/trials[1]\n",
    "    \n",
    "    # пропорция успехов в комбинированном датасете:\n",
    "    p_combined = (successes[0] + successes[1]) / (trials[0] + trials[1])\n",
    "    \n",
    "    # difference in proportions\n",
    "    difference = p1 - p2\n",
    "    \n",
    "    # calculate standart deviations of standard normal distribution\n",
    "    z_value = difference / math.sqrt(p_combined * (1 - p_combined) * (1/trials[0] + 1/trials[1]))\n",
    "    \n",
    "    # setting standard normal distribution (mean 0, standard deviation 1)\n",
    "    distr = st.norm(0, 1)\n",
    "    \n",
    "    p_value = (1 - distr.cdf(abs(z_value))) * 2\n",
    "    \n",
    "    print('p-value: ', round(p_value, 4))\n",
    "    if (p_value < alpha):\n",
    "        print('Reject null hypothesis: here is statistically significant difference between proportions')\n",
    "    else:\n",
    "        print('Null hypothesis could not be rejected, here is no statistically significant difference between proportions.')"
   ]
  },
  {
   "cell_type": "code",
   "execution_count": 30,
   "metadata": {
    "scrolled": true
   },
   "outputs": [
    {
     "name": "stdout",
     "output_type": "stream",
     "text": [
      "p-value:  0.7571\n",
      "Null hypothesis could not be rejected, here is no statistically significant difference between proportions.\n"
     ]
    }
   ],
   "source": [
    "z_test(246, 247, 'MainScreenAppear', 0.01)"
   ]
  },
  {
   "cell_type": "code",
   "execution_count": 31,
   "metadata": {},
   "outputs": [
    {
     "name": "stdout",
     "output_type": "stream",
     "text": [
      "p-value:  0.2481\n",
      "Null hypothesis could not be rejected, here is no statistically significant difference between proportions.\n"
     ]
    }
   ],
   "source": [
    "z_test(246, 247, 'OffersScreenAppear', 0.01)"
   ]
  },
  {
   "cell_type": "code",
   "execution_count": 32,
   "metadata": {},
   "outputs": [
    {
     "name": "stdout",
     "output_type": "stream",
     "text": [
      "p-value:  0.2288\n",
      "Null hypothesis could not be rejected, here is no statistically significant difference between proportions.\n"
     ]
    }
   ],
   "source": [
    "z_test(246, 247, 'CartScreenAppear', 0.01)"
   ]
  },
  {
   "cell_type": "code",
   "execution_count": 33,
   "metadata": {
    "scrolled": true
   },
   "outputs": [
    {
     "name": "stdout",
     "output_type": "stream",
     "text": [
      "p-value:  0.1146\n",
      "Null hypothesis could not be rejected, here is no statistically significant difference between proportions.\n"
     ]
    }
   ],
   "source": [
    "z_test(246, 247, 'PaymentScreenSuccessful', 0.01)"
   ]
  },
  {
   "cell_type": "markdown",
   "metadata": {},
   "source": [
    "Based on result of multiple A/A tests, statistically significant differences in proportion of user samples wasnt verified, we can say that split of 2 groups is correct."
   ]
  },
  {
   "cell_type": "markdown",
   "metadata": {},
   "source": [
    "### 5.3 Analyzing А/B test"
   ]
  },
  {
   "cell_type": "markdown",
   "metadata": {},
   "source": [
    "#### 5.3.1 Do same action with `changed font` group. Compare results to each control group individually by event. Compare results to combined control group. What conclusions can be made from test?"
   ]
  },
  {
   "cell_type": "code",
   "execution_count": 34,
   "metadata": {
    "scrolled": true
   },
   "outputs": [
    {
     "data": {
      "text/html": [
       "<div>\n",
       "<style scoped>\n",
       "    .dataframe tbody tr th:only-of-type {\n",
       "        vertical-align: middle;\n",
       "    }\n",
       "\n",
       "    .dataframe tbody tr th {\n",
       "        vertical-align: top;\n",
       "    }\n",
       "\n",
       "    .dataframe thead th {\n",
       "        text-align: right;\n",
       "    }\n",
       "</style>\n",
       "<table border=\"1\" class=\"dataframe\">\n",
       "  <thead>\n",
       "    <tr style=\"text-align: right;\">\n",
       "      <th></th>\n",
       "      <th>event_name</th>\n",
       "      <th>246</th>\n",
       "      <th>246_per_user</th>\n",
       "      <th>247</th>\n",
       "      <th>247_per_user</th>\n",
       "      <th>248</th>\n",
       "      <th>248_per_user</th>\n",
       "      <th>united_246_247</th>\n",
       "    </tr>\n",
       "  </thead>\n",
       "  <tbody>\n",
       "    <tr>\n",
       "      <th>0</th>\n",
       "      <td>MainScreenAppear</td>\n",
       "      <td>2450</td>\n",
       "      <td>0.325</td>\n",
       "      <td>2476</td>\n",
       "      <td>0.329</td>\n",
       "      <td>2493</td>\n",
       "      <td>0.331</td>\n",
       "      <td>4926</td>\n",
       "    </tr>\n",
       "    <tr>\n",
       "      <th>1</th>\n",
       "      <td>OffersScreenAppear</td>\n",
       "      <td>1542</td>\n",
       "      <td>0.205</td>\n",
       "      <td>1520</td>\n",
       "      <td>0.202</td>\n",
       "      <td>1531</td>\n",
       "      <td>0.203</td>\n",
       "      <td>3062</td>\n",
       "    </tr>\n",
       "    <tr>\n",
       "      <th>2</th>\n",
       "      <td>CartScreenAppear</td>\n",
       "      <td>1266</td>\n",
       "      <td>0.168</td>\n",
       "      <td>1238</td>\n",
       "      <td>0.164</td>\n",
       "      <td>1230</td>\n",
       "      <td>0.163</td>\n",
       "      <td>2504</td>\n",
       "    </tr>\n",
       "    <tr>\n",
       "      <th>3</th>\n",
       "      <td>PaymentScreenSuccessful</td>\n",
       "      <td>1200</td>\n",
       "      <td>0.159</td>\n",
       "      <td>1158</td>\n",
       "      <td>0.154</td>\n",
       "      <td>1181</td>\n",
       "      <td>0.157</td>\n",
       "      <td>2358</td>\n",
       "    </tr>\n",
       "  </tbody>\n",
       "</table>\n",
       "</div>"
      ],
      "text/plain": [
       "                event_name   246  246_per_user   247  247_per_user   248  \\\n",
       "0         MainScreenAppear  2450         0.325  2476         0.329  2493   \n",
       "1       OffersScreenAppear  1542         0.205  1520         0.202  1531   \n",
       "2         CartScreenAppear  1266         0.168  1238         0.164  1230   \n",
       "3  PaymentScreenSuccessful  1200         0.159  1158         0.154  1181   \n",
       "\n",
       "   248_per_user  united_246_247  \n",
       "0         0.331            4926  \n",
       "1         0.203            3062  \n",
       "2         0.163            2504  \n",
       "3         0.157            2358  "
      ]
     },
     "execution_count": 34,
     "metadata": {},
     "output_type": "execute_result"
    }
   ],
   "source": [
    "# merging control groups\n",
    "event_group_pivot['united_246_247'] = (event_group_pivot['246'] + event_group_pivot['247'])\n",
    "event_group_pivot['united_246_247'] = event_group_pivot['united_246_247'].astype('int')\n",
    "event_group_pivot"
   ]
  },
  {
   "cell_type": "code",
   "execution_count": 35,
   "metadata": {},
   "outputs": [],
   "source": [
    "# function for z-test using merged groups\n",
    "def z_test_united(exp_group_2, event, alpha):\n",
    "    \n",
    "    alpha=alpha\n",
    "    group_1 = log_event_filtered.query('exp_id == 246 | exp_id == 247')\n",
    "    group_2 = log_event_filtered.query('exp_id == @exp_group_2')\n",
    "\n",
    "    successes = np.array([event_group_pivot.query('event_name == @event')['united_246_247'].sum(),\n",
    "                          event_group_pivot.query('event_name == @event')[str(exp_group_2)].sum()])\n",
    "    trials = np.array([len(group_1['device_id_hash'].unique()), len(group_2['device_id_hash'].unique())])\n",
    "    \n",
    "    p1 = successes[0]/trials[0]\n",
    "    p2 = successes[1]/trials[1]\n",
    "    p_combined = (successes[0] + successes[1]) / (trials[0] + trials[1])\n",
    "    \n",
    "    difference = p1 - p2\n",
    "    \n",
    "    z_value = difference / math.sqrt(p_combined * (1 - p_combined) * (1/trials[0] + 1/trials[1]))\n",
    "    distr = st.norm(0, 1)\n",
    "    p_value = (1 - distr.cdf(abs(z_value))) * 2\n",
    "    \n",
    "    print('p-value: ', round(p_value, 4))\n",
    "    if (p_value < alpha):\n",
    "        print('Reject null hypothesis: here is statistically significant difference between proportions')\n",
    "    else:\n",
    "        print('Null hypothesis could not be rejected, here is no statistically significant difference between proportions.')"
   ]
  },
  {
   "cell_type": "markdown",
   "metadata": {},
   "source": [
    "#### 5.3.2 Test hypothesis of proportions equality between two samples in A/B-test for event \"MainScreenAppear\""
   ]
  },
  {
   "cell_type": "code",
   "execution_count": 36,
   "metadata": {},
   "outputs": [
    {
     "name": "stdout",
     "output_type": "stream",
     "text": [
      "p-value:  0.295\n",
      "Null hypothesis could not be rejected, here is no statistically significant difference between proportions.\n",
      "p-value:  0.4587\n",
      "Null hypothesis could not be rejected, here is no statistically significant difference between proportions.\n",
      "p-value:  0.2942\n",
      "Null hypothesis could not be rejected, here is no statistically significant difference between proportions.\n"
     ]
    }
   ],
   "source": [
    "z_test(246, 248, 'MainScreenAppear', 0.01)\n",
    "z_test(247, 248, 'MainScreenAppear', 0.01)\n",
    "z_test_united(248, 'MainScreenAppear', 0.01)"
   ]
  },
  {
   "cell_type": "markdown",
   "metadata": {},
   "source": [
    "#### 5.3.3 Test hypothesis of proportions equality between two samples in A/B-test for event \"OffersScreenAppear\""
   ]
  },
  {
   "cell_type": "code",
   "execution_count": 37,
   "metadata": {},
   "outputs": [
    {
     "name": "stdout",
     "output_type": "stream",
     "text": [
      "p-value:  0.2084\n",
      "Null hypothesis could not be rejected, here is no statistically significant difference between proportions.\n",
      "p-value:  0.9198\n",
      "Null hypothesis could not be rejected, here is no statistically significant difference between proportions.\n",
      "p-value:  0.4343\n",
      "Null hypothesis could not be rejected, here is no statistically significant difference between proportions.\n"
     ]
    }
   ],
   "source": [
    "z_test(246, 248, 'OffersScreenAppear', 0.01)\n",
    "z_test(247, 248, 'OffersScreenAppear', 0.01)\n",
    "z_test_united(248, 'OffersScreenAppear', 0.01)"
   ]
  },
  {
   "cell_type": "markdown",
   "metadata": {},
   "source": [
    "#### 5.3.4 Test hypothesis of proportions equality between two samples in A/B-test for event \"CartScreenAppear\""
   ]
  },
  {
   "cell_type": "code",
   "execution_count": 38,
   "metadata": {},
   "outputs": [
    {
     "name": "stdout",
     "output_type": "stream",
     "text": [
      "p-value:  0.0784\n",
      "Null hypothesis could not be rejected, here is no statistically significant difference between proportions.\n",
      "p-value:  0.5786\n",
      "Null hypothesis could not be rejected, here is no statistically significant difference between proportions.\n",
      "p-value:  0.1818\n",
      "Null hypothesis could not be rejected, here is no statistically significant difference between proportions.\n"
     ]
    }
   ],
   "source": [
    "z_test(246, 248, 'CartScreenAppear', 0.01)\n",
    "z_test(247, 248, 'CartScreenAppear', 0.01)\n",
    "z_test_united(248, 'CartScreenAppear', 0.01)"
   ]
  },
  {
   "cell_type": "markdown",
   "metadata": {},
   "source": [
    "#### 5.3.5 Test hypothesis of proportions equality between two samples in A/B-test for event \"PaymentScreenSuccessful\""
   ]
  },
  {
   "cell_type": "code",
   "execution_count": 39,
   "metadata": {
    "scrolled": true
   },
   "outputs": [
    {
     "name": "stdout",
     "output_type": "stream",
     "text": [
      "p-value:  0.2123\n",
      "Null hypothesis could not be rejected, here is no statistically significant difference between proportions.\n",
      "p-value:  0.7373\n",
      "Null hypothesis could not be rejected, here is no statistically significant difference between proportions.\n",
      "p-value:  0.6004\n",
      "Null hypothesis could not be rejected, here is no statistically significant difference between proportions.\n"
     ]
    }
   ],
   "source": [
    "z_test(246, 248, 'PaymentScreenSuccessful', 0.01)\n",
    "z_test(247, 248, 'PaymentScreenSuccessful', 0.01)\n",
    "z_test_united(248, 'PaymentScreenSuccessful', 0.01)"
   ]
  },
  {
   "cell_type": "markdown",
   "metadata": {},
   "source": [
    "**Section summary:**\n",
    "\n",
    "- Based on result of all A/A tests, there is no statistical significant difference in proportions of user samples, check process was done by 4 z-tests of control groups- 246 and 247, we can say that split into 2 groups occurs correctly.\n",
    "\n",
    "- 12 z-tests were also conducted with control and test group based on A/B testing data: no statistically significant differences between proportions of samples were revealed.\n",
    "\n",
    "Based on conducted A/B tests, we can conclude that font changes did not lead to statistically significant differences in user behavior. \n",
    "In general, test results show that users quickly adapted to new design and continued their normal behavior. We can conclude that font changes did not have a statistically significant effect on users."
   ]
  },
  {
   "cell_type": "markdown",
   "metadata": {},
   "source": [
    "<div style=\"border:solid blue 3px; padding: 20px\">\n",
    "    \n",
    "## Main summary\n",
    "    \n",
    "In process of analysing of log data, we tried to figure out how users of mobile application behave. \n",
    "\n",
    "- analyzed sales funnel by events. We found out that only 47% (3,539) of users reach the purchase, while 40% (2,800) of users  churned on way to page with product offers, which is a red signal and it is necessary to check what this may be related to (technical side?). \n",
    "- фfter anylysing sales funnel, results of A/A/B test were investigated. Designers wanted to change fonts throughout  application, and  managers were afraid that it would be unusual for users. Therefore: 16 tests were performed - 4 z-tests for control groups 246 and 247 (A/A test), and 12 z-tests for groups 246,247 and 248(A/B test). As a result, there was no statistically significant difference between sample proportions in all 16 tests. Meaning that users quickly adapted to new design and continued their usual behavior. We can conclude that font changes did not have a statistically significant effect on users."
   ]
  }
 ],
 "metadata": {
  "ExecuteTimeLog": [
   {
    "duration": 1333,
    "start_time": "2024-02-20T09:16:03.036Z"
   },
   {
    "duration": 825,
    "start_time": "2024-02-20T09:17:22.357Z"
   },
   {
    "duration": 1163,
    "start_time": "2024-02-20T10:23:52.395Z"
   },
   {
    "duration": 283,
    "start_time": "2024-02-20T10:23:53.560Z"
   },
   {
    "duration": 3,
    "start_time": "2024-02-20T10:27:22.905Z"
   },
   {
    "duration": 207,
    "start_time": "2024-02-20T10:27:43.064Z"
   },
   {
    "duration": 3,
    "start_time": "2024-02-20T10:28:43.014Z"
   },
   {
    "duration": 3,
    "start_time": "2024-02-20T10:28:55.504Z"
   },
   {
    "duration": 4,
    "start_time": "2024-02-20T10:29:20.809Z"
   },
   {
    "duration": 3,
    "start_time": "2024-02-20T10:29:49.645Z"
   },
   {
    "duration": 3,
    "start_time": "2024-02-20T10:30:09.685Z"
   },
   {
    "duration": 169,
    "start_time": "2024-02-20T10:30:11.664Z"
   },
   {
    "duration": 100,
    "start_time": "2024-02-20T10:30:46.725Z"
   },
   {
    "duration": 188,
    "start_time": "2024-02-20T10:31:47.324Z"
   },
   {
    "duration": 4,
    "start_time": "2024-02-20T10:31:48.304Z"
   },
   {
    "duration": 92,
    "start_time": "2024-02-20T10:31:49.840Z"
   },
   {
    "duration": 25,
    "start_time": "2024-02-20T10:51:22.124Z"
   },
   {
    "duration": 17,
    "start_time": "2024-02-20T10:51:53.584Z"
   },
   {
    "duration": 29,
    "start_time": "2024-02-20T10:52:17.659Z"
   },
   {
    "duration": 18,
    "start_time": "2024-02-20T10:52:28.994Z"
   },
   {
    "duration": 18,
    "start_time": "2024-02-20T10:52:35.743Z"
   },
   {
    "duration": 5,
    "start_time": "2024-02-20T10:54:46.163Z"
   },
   {
    "duration": 102,
    "start_time": "2024-02-20T10:55:53.219Z"
   },
   {
    "duration": 100,
    "start_time": "2024-02-20T10:56:02.770Z"
   },
   {
    "duration": 3,
    "start_time": "2024-02-20T10:58:19.269Z"
   },
   {
    "duration": 5,
    "start_time": "2024-02-20T10:58:26.244Z"
   },
   {
    "duration": 12,
    "start_time": "2024-02-20T11:04:09.023Z"
   },
   {
    "duration": 1935,
    "start_time": "2024-02-20T11:04:30.130Z"
   },
   {
    "duration": 0,
    "start_time": "2024-02-20T11:04:32.067Z"
   },
   {
    "duration": 1192,
    "start_time": "2024-02-20T11:04:46.363Z"
   },
   {
    "duration": 178,
    "start_time": "2024-02-20T11:04:47.557Z"
   },
   {
    "duration": 3,
    "start_time": "2024-02-20T11:04:47.737Z"
   },
   {
    "duration": 168,
    "start_time": "2024-02-20T11:04:47.742Z"
   },
   {
    "duration": 19,
    "start_time": "2024-02-20T11:04:47.911Z"
   },
   {
    "duration": 15,
    "start_time": "2024-02-20T11:04:47.932Z"
   },
   {
    "duration": 12,
    "start_time": "2024-02-20T11:05:12.343Z"
   },
   {
    "duration": 1742,
    "start_time": "2024-02-20T11:08:34.703Z"
   },
   {
    "duration": 1549,
    "start_time": "2024-02-20T11:10:24.423Z"
   },
   {
    "duration": 1134,
    "start_time": "2024-02-20T11:10:37.690Z"
   },
   {
    "duration": 181,
    "start_time": "2024-02-20T11:10:38.825Z"
   },
   {
    "duration": 4,
    "start_time": "2024-02-20T11:10:39.008Z"
   },
   {
    "duration": 159,
    "start_time": "2024-02-20T11:10:39.013Z"
   },
   {
    "duration": 18,
    "start_time": "2024-02-20T11:10:39.174Z"
   },
   {
    "duration": 43,
    "start_time": "2024-02-20T11:10:39.194Z"
   },
   {
    "duration": 1858,
    "start_time": "2024-02-20T11:10:39.239Z"
   },
   {
    "duration": 48,
    "start_time": "2024-02-20T14:24:08.233Z"
   },
   {
    "duration": 6,
    "start_time": "2024-02-20T14:24:17.779Z"
   },
   {
    "duration": 1290,
    "start_time": "2024-02-20T14:24:26.549Z"
   },
   {
    "duration": 490,
    "start_time": "2024-02-20T14:24:27.840Z"
   },
   {
    "duration": 4,
    "start_time": "2024-02-20T14:24:28.332Z"
   },
   {
    "duration": 159,
    "start_time": "2024-02-20T14:24:28.338Z"
   },
   {
    "duration": 18,
    "start_time": "2024-02-20T14:24:28.499Z"
   },
   {
    "duration": 1263,
    "start_time": "2024-02-20T14:24:28.518Z"
   },
   {
    "duration": 1149,
    "start_time": "2024-02-20T14:25:22.648Z"
   },
   {
    "duration": 1127,
    "start_time": "2024-02-20T14:25:42.886Z"
   },
   {
    "duration": 172,
    "start_time": "2024-02-20T14:25:44.014Z"
   },
   {
    "duration": 4,
    "start_time": "2024-02-20T14:25:44.188Z"
   },
   {
    "duration": 176,
    "start_time": "2024-02-20T14:25:44.194Z"
   },
   {
    "duration": 13,
    "start_time": "2024-02-20T14:25:44.372Z"
   },
   {
    "duration": 1289,
    "start_time": "2024-02-20T14:25:44.387Z"
   },
   {
    "duration": 1064,
    "start_time": "2024-02-20T14:31:43.254Z"
   },
   {
    "duration": 1197,
    "start_time": "2024-02-20T14:31:50.654Z"
   },
   {
    "duration": 14,
    "start_time": "2024-02-20T14:39:12.825Z"
   },
   {
    "duration": 9,
    "start_time": "2024-02-20T14:39:37.575Z"
   },
   {
    "duration": 13,
    "start_time": "2024-02-20T14:39:49.319Z"
   },
   {
    "duration": 46,
    "start_time": "2024-02-20T14:40:48.914Z"
   },
   {
    "duration": 53,
    "start_time": "2024-02-20T14:41:02.279Z"
   },
   {
    "duration": 29,
    "start_time": "2024-02-20T14:42:54.225Z"
   },
   {
    "duration": 61,
    "start_time": "2024-02-20T14:45:30.790Z"
   },
   {
    "duration": 51,
    "start_time": "2024-02-20T14:45:58.279Z"
   },
   {
    "duration": 94,
    "start_time": "2024-02-20T14:49:23.898Z"
   },
   {
    "duration": 150,
    "start_time": "2024-02-20T14:50:10.563Z"
   },
   {
    "duration": 11,
    "start_time": "2024-02-20T14:52:43.875Z"
   },
   {
    "duration": 9,
    "start_time": "2024-02-20T14:53:00.135Z"
   },
   {
    "duration": 25,
    "start_time": "2024-02-20T14:53:11.414Z"
   },
   {
    "duration": 16,
    "start_time": "2024-02-20T14:53:17.822Z"
   },
   {
    "duration": 13,
    "start_time": "2024-02-20T14:53:27.549Z"
   },
   {
    "duration": 30,
    "start_time": "2024-02-20T14:53:53.027Z"
   },
   {
    "duration": 100,
    "start_time": "2024-02-20T14:56:05.789Z"
   },
   {
    "duration": 81,
    "start_time": "2024-02-20T14:56:15.790Z"
   },
   {
    "duration": 99,
    "start_time": "2024-02-20T14:56:25.850Z"
   },
   {
    "duration": 67,
    "start_time": "2024-02-20T14:57:48.455Z"
   },
   {
    "duration": 89,
    "start_time": "2024-02-20T14:58:29.112Z"
   },
   {
    "duration": 118,
    "start_time": "2024-02-20T14:58:47.144Z"
   },
   {
    "duration": 80,
    "start_time": "2024-02-20T14:59:07.840Z"
   },
   {
    "duration": 47,
    "start_time": "2024-02-20T15:01:54.670Z"
   },
   {
    "duration": 29,
    "start_time": "2024-02-20T15:02:36.915Z"
   },
   {
    "duration": 1342,
    "start_time": "2024-02-20T15:05:00.175Z"
   },
   {
    "duration": 8,
    "start_time": "2024-02-20T15:05:07.880Z"
   },
   {
    "duration": 6,
    "start_time": "2024-02-20T15:07:50.425Z"
   },
   {
    "duration": 33,
    "start_time": "2024-02-20T15:08:22.116Z"
   },
   {
    "duration": 7,
    "start_time": "2024-02-20T15:08:40.025Z"
   },
   {
    "duration": 5,
    "start_time": "2024-02-20T15:10:21.685Z"
   },
   {
    "duration": 6,
    "start_time": "2024-02-20T15:10:38.741Z"
   },
   {
    "duration": 6,
    "start_time": "2024-02-20T15:11:56.545Z"
   },
   {
    "duration": 11,
    "start_time": "2024-02-20T15:23:07.016Z"
   },
   {
    "duration": 11,
    "start_time": "2024-02-20T15:24:14.125Z"
   },
   {
    "duration": 36,
    "start_time": "2024-02-20T15:24:55.285Z"
   },
   {
    "duration": 24,
    "start_time": "2024-02-20T15:28:15.438Z"
   },
   {
    "duration": 10,
    "start_time": "2024-02-20T15:28:40.293Z"
   },
   {
    "duration": 24,
    "start_time": "2024-02-20T15:28:53.363Z"
   },
   {
    "duration": 11,
    "start_time": "2024-02-20T15:29:18.438Z"
   },
   {
    "duration": 10,
    "start_time": "2024-02-20T15:29:43.773Z"
   },
   {
    "duration": 8,
    "start_time": "2024-02-20T15:29:54.538Z"
   },
   {
    "duration": 10,
    "start_time": "2024-02-20T15:30:04.773Z"
   },
   {
    "duration": 10,
    "start_time": "2024-02-20T15:30:34.539Z"
   },
   {
    "duration": 10,
    "start_time": "2024-02-20T15:32:43.650Z"
   },
   {
    "duration": 1080,
    "start_time": "2024-02-20T15:35:58.058Z"
   },
   {
    "duration": 173,
    "start_time": "2024-02-20T15:35:59.140Z"
   },
   {
    "duration": 3,
    "start_time": "2024-02-20T15:35:59.315Z"
   },
   {
    "duration": 151,
    "start_time": "2024-02-20T15:35:59.320Z"
   },
   {
    "duration": 13,
    "start_time": "2024-02-20T15:35:59.473Z"
   },
   {
    "duration": 58,
    "start_time": "2024-02-20T15:35:59.488Z"
   },
   {
    "duration": 167,
    "start_time": "2024-02-20T15:35:59.548Z"
   },
   {
    "duration": 27,
    "start_time": "2024-02-20T15:35:59.717Z"
   },
   {
    "duration": 7,
    "start_time": "2024-02-20T15:35:59.746Z"
   },
   {
    "duration": 6,
    "start_time": "2024-02-20T15:35:59.755Z"
   },
   {
    "duration": 19,
    "start_time": "2024-02-20T15:35:59.762Z"
   },
   {
    "duration": 116,
    "start_time": "2024-02-20T15:35:59.782Z"
   },
   {
    "duration": 10,
    "start_time": "2024-02-20T15:36:37.639Z"
   },
   {
    "duration": 83,
    "start_time": "2024-02-20T15:38:58.590Z"
   },
   {
    "duration": 82,
    "start_time": "2024-02-20T15:50:28.382Z"
   },
   {
    "duration": 100,
    "start_time": "2024-02-20T15:50:34.315Z"
   },
   {
    "duration": 49,
    "start_time": "2024-02-20T15:54:35.707Z"
   },
   {
    "duration": 1169,
    "start_time": "2024-02-20T15:54:51.419Z"
   },
   {
    "duration": 512,
    "start_time": "2024-02-20T15:54:52.590Z"
   },
   {
    "duration": 3,
    "start_time": "2024-02-20T15:54:53.104Z"
   },
   {
    "duration": 149,
    "start_time": "2024-02-20T15:54:53.109Z"
   },
   {
    "duration": 12,
    "start_time": "2024-02-20T15:54:53.259Z"
   },
   {
    "duration": 58,
    "start_time": "2024-02-20T15:54:53.272Z"
   },
   {
    "duration": 159,
    "start_time": "2024-02-20T15:54:53.332Z"
   },
   {
    "duration": 33,
    "start_time": "2024-02-20T15:54:53.492Z"
   },
   {
    "duration": 5,
    "start_time": "2024-02-20T15:54:53.527Z"
   },
   {
    "duration": 15,
    "start_time": "2024-02-20T15:54:53.534Z"
   },
   {
    "duration": 6,
    "start_time": "2024-02-20T15:54:53.551Z"
   },
   {
    "duration": 1152,
    "start_time": "2024-02-20T15:55:34.591Z"
   },
   {
    "duration": 173,
    "start_time": "2024-02-20T15:55:35.745Z"
   },
   {
    "duration": 3,
    "start_time": "2024-02-20T15:55:35.920Z"
   },
   {
    "duration": 150,
    "start_time": "2024-02-20T15:55:35.925Z"
   },
   {
    "duration": 14,
    "start_time": "2024-02-20T15:55:36.076Z"
   },
   {
    "duration": 60,
    "start_time": "2024-02-20T15:55:36.091Z"
   },
   {
    "duration": 162,
    "start_time": "2024-02-20T15:55:36.153Z"
   },
   {
    "duration": 38,
    "start_time": "2024-02-20T15:55:36.317Z"
   },
   {
    "duration": 6,
    "start_time": "2024-02-20T15:55:36.357Z"
   },
   {
    "duration": 16,
    "start_time": "2024-02-20T15:55:36.365Z"
   },
   {
    "duration": 36,
    "start_time": "2024-02-20T15:55:36.382Z"
   },
   {
    "duration": 1150,
    "start_time": "2024-02-20T15:58:35.906Z"
   },
   {
    "duration": 506,
    "start_time": "2024-02-20T15:58:37.058Z"
   },
   {
    "duration": 3,
    "start_time": "2024-02-20T15:58:37.566Z"
   },
   {
    "duration": 170,
    "start_time": "2024-02-20T15:58:37.572Z"
   },
   {
    "duration": 15,
    "start_time": "2024-02-20T15:58:37.744Z"
   },
   {
    "duration": 63,
    "start_time": "2024-02-20T15:58:37.761Z"
   },
   {
    "duration": 177,
    "start_time": "2024-02-20T15:58:37.826Z"
   },
   {
    "duration": 68,
    "start_time": "2024-02-20T15:58:38.004Z"
   },
   {
    "duration": 7,
    "start_time": "2024-02-20T15:58:38.074Z"
   },
   {
    "duration": 38,
    "start_time": "2024-02-20T15:58:38.084Z"
   },
   {
    "duration": 9,
    "start_time": "2024-02-20T15:58:38.124Z"
   },
   {
    "duration": 111,
    "start_time": "2024-02-20T15:58:38.135Z"
   },
   {
    "duration": 0,
    "start_time": "2024-02-20T15:58:38.247Z"
   },
   {
    "duration": 81,
    "start_time": "2024-02-20T15:58:54.806Z"
   },
   {
    "duration": 1137,
    "start_time": "2024-02-20T15:59:49.697Z"
   },
   {
    "duration": 181,
    "start_time": "2024-02-20T15:59:50.836Z"
   },
   {
    "duration": 4,
    "start_time": "2024-02-20T15:59:51.018Z"
   },
   {
    "duration": 156,
    "start_time": "2024-02-20T15:59:51.024Z"
   },
   {
    "duration": 14,
    "start_time": "2024-02-20T15:59:51.182Z"
   },
   {
    "duration": 57,
    "start_time": "2024-02-20T15:59:51.198Z"
   },
   {
    "duration": 171,
    "start_time": "2024-02-20T15:59:51.256Z"
   },
   {
    "duration": 38,
    "start_time": "2024-02-20T15:59:51.428Z"
   },
   {
    "duration": 6,
    "start_time": "2024-02-20T15:59:51.467Z"
   },
   {
    "duration": 37,
    "start_time": "2024-02-20T15:59:51.475Z"
   },
   {
    "duration": 9,
    "start_time": "2024-02-20T15:59:51.514Z"
   },
   {
    "duration": 51,
    "start_time": "2024-02-20T15:59:51.525Z"
   },
   {
    "duration": 533,
    "start_time": "2024-02-20T15:59:51.578Z"
   },
   {
    "duration": 15,
    "start_time": "2024-02-20T16:04:48.581Z"
   },
   {
    "duration": 375,
    "start_time": "2024-02-20T16:05:36.146Z"
   },
   {
    "duration": 341,
    "start_time": "2024-02-20T16:06:27.515Z"
   },
   {
    "duration": 106,
    "start_time": "2024-02-20T16:06:46.021Z"
   },
   {
    "duration": 369,
    "start_time": "2024-02-20T16:09:09.891Z"
   },
   {
    "duration": 377,
    "start_time": "2024-02-20T16:09:55.685Z"
   },
   {
    "duration": 479,
    "start_time": "2024-02-20T16:10:56.385Z"
   },
   {
    "duration": 20,
    "start_time": "2024-02-20T16:11:26.801Z"
   },
   {
    "duration": 746,
    "start_time": "2024-02-20T16:12:31.551Z"
   },
   {
    "duration": 733,
    "start_time": "2024-02-20T16:12:45.245Z"
   },
   {
    "duration": 23,
    "start_time": "2024-02-20T16:15:34.460Z"
   },
   {
    "duration": 16,
    "start_time": "2024-02-20T16:16:39.275Z"
   },
   {
    "duration": 20,
    "start_time": "2024-02-20T16:17:06.180Z"
   },
   {
    "duration": 322,
    "start_time": "2024-02-20T16:19:10.421Z"
   },
   {
    "duration": 353,
    "start_time": "2024-02-20T16:19:33.660Z"
   },
   {
    "duration": 193,
    "start_time": "2024-02-20T16:19:59.161Z"
   },
   {
    "duration": 275,
    "start_time": "2024-02-20T16:20:20.920Z"
   },
   {
    "duration": 353,
    "start_time": "2024-02-20T16:21:12.866Z"
   },
   {
    "duration": 262,
    "start_time": "2024-02-20T16:22:46.201Z"
   },
   {
    "duration": 271,
    "start_time": "2024-02-20T16:22:55.219Z"
   },
   {
    "duration": 285,
    "start_time": "2024-02-20T16:27:15.521Z"
   },
   {
    "duration": 9,
    "start_time": "2024-02-20T16:32:16.480Z"
   },
   {
    "duration": 22,
    "start_time": "2024-02-20T16:33:22.572Z"
   },
   {
    "duration": 18,
    "start_time": "2024-02-20T16:34:04.185Z"
   },
   {
    "duration": 70,
    "start_time": "2024-02-20T16:38:05.125Z"
   },
   {
    "duration": 79,
    "start_time": "2024-02-20T16:38:51.105Z"
   },
   {
    "duration": 63,
    "start_time": "2024-02-20T16:41:28.960Z"
   },
   {
    "duration": 83,
    "start_time": "2024-02-20T16:42:18.200Z"
   },
   {
    "duration": 88,
    "start_time": "2024-02-20T16:43:23.981Z"
   },
   {
    "duration": 100,
    "start_time": "2024-02-20T16:43:38.341Z"
   },
   {
    "duration": 1160,
    "start_time": "2024-02-20T16:44:13.690Z"
   },
   {
    "duration": 179,
    "start_time": "2024-02-20T16:44:14.852Z"
   },
   {
    "duration": 3,
    "start_time": "2024-02-20T16:44:15.033Z"
   },
   {
    "duration": 162,
    "start_time": "2024-02-20T16:44:15.038Z"
   },
   {
    "duration": 15,
    "start_time": "2024-02-20T16:44:15.201Z"
   },
   {
    "duration": 56,
    "start_time": "2024-02-20T16:44:15.217Z"
   },
   {
    "duration": 159,
    "start_time": "2024-02-20T16:44:15.274Z"
   },
   {
    "duration": 37,
    "start_time": "2024-02-20T16:44:15.435Z"
   },
   {
    "duration": 7,
    "start_time": "2024-02-20T16:44:15.474Z"
   },
   {
    "duration": 36,
    "start_time": "2024-02-20T16:44:15.483Z"
   },
   {
    "duration": 35,
    "start_time": "2024-02-20T16:44:15.521Z"
   },
   {
    "duration": 19,
    "start_time": "2024-02-20T16:44:15.558Z"
   },
   {
    "duration": 386,
    "start_time": "2024-02-20T16:44:15.579Z"
   },
   {
    "duration": 11,
    "start_time": "2024-02-20T16:44:15.966Z"
   },
   {
    "duration": 74,
    "start_time": "2024-02-20T16:44:15.978Z"
   },
   {
    "duration": 100,
    "start_time": "2024-02-20T16:45:30.140Z"
   },
   {
    "duration": 26,
    "start_time": "2024-02-20T16:47:10.699Z"
   },
   {
    "duration": 24,
    "start_time": "2024-02-20T16:47:32.855Z"
   },
   {
    "duration": 136,
    "start_time": "2024-02-20T16:54:31.355Z"
   },
   {
    "duration": 41,
    "start_time": "2024-02-20T16:54:56.341Z"
   },
   {
    "duration": 4,
    "start_time": "2024-02-20T16:55:17.116Z"
   },
   {
    "duration": 43,
    "start_time": "2024-02-20T16:55:20.864Z"
   },
   {
    "duration": 40,
    "start_time": "2024-02-20T16:56:22.930Z"
   },
   {
    "duration": 56,
    "start_time": "2024-02-20T16:56:35.495Z"
   },
   {
    "duration": 31,
    "start_time": "2024-02-20T16:59:02.156Z"
   },
   {
    "duration": 28,
    "start_time": "2024-02-20T16:59:21.521Z"
   },
   {
    "duration": 29,
    "start_time": "2024-02-20T16:59:34.146Z"
   },
   {
    "duration": 31,
    "start_time": "2024-02-20T16:59:49.605Z"
   },
   {
    "duration": 72,
    "start_time": "2024-02-20T17:00:28.175Z"
   },
   {
    "duration": 101,
    "start_time": "2024-02-20T17:00:45.075Z"
   },
   {
    "duration": 8,
    "start_time": "2024-02-20T17:01:09.380Z"
   },
   {
    "duration": 27,
    "start_time": "2024-02-20T17:01:13.711Z"
   },
   {
    "duration": 29,
    "start_time": "2024-02-20T17:01:29.561Z"
   },
   {
    "duration": 21,
    "start_time": "2024-02-20T17:04:44.516Z"
   },
   {
    "duration": 21,
    "start_time": "2024-02-20T17:05:08.756Z"
   },
   {
    "duration": 23,
    "start_time": "2024-02-20T17:05:29.135Z"
   },
   {
    "duration": 30,
    "start_time": "2024-02-20T17:05:48.475Z"
   },
   {
    "duration": 21,
    "start_time": "2024-02-20T17:06:00.376Z"
   },
   {
    "duration": 23,
    "start_time": "2024-02-20T17:06:02.401Z"
   },
   {
    "duration": 43,
    "start_time": "2024-02-20T17:06:04.781Z"
   },
   {
    "duration": 27,
    "start_time": "2024-02-20T17:06:44.076Z"
   },
   {
    "duration": 30,
    "start_time": "2024-02-20T17:06:49.220Z"
   },
   {
    "duration": 21,
    "start_time": "2024-02-20T17:06:52.355Z"
   },
   {
    "duration": 21,
    "start_time": "2024-02-20T17:07:13.741Z"
   },
   {
    "duration": 1065,
    "start_time": "2024-02-20T17:07:22.362Z"
   },
   {
    "duration": 170,
    "start_time": "2024-02-20T17:07:23.429Z"
   },
   {
    "duration": 3,
    "start_time": "2024-02-20T17:07:23.601Z"
   },
   {
    "duration": 166,
    "start_time": "2024-02-20T17:07:23.606Z"
   },
   {
    "duration": 13,
    "start_time": "2024-02-20T17:07:23.774Z"
   },
   {
    "duration": 53,
    "start_time": "2024-02-20T17:07:23.788Z"
   },
   {
    "duration": 152,
    "start_time": "2024-02-20T17:07:23.842Z"
   },
   {
    "duration": 42,
    "start_time": "2024-02-20T17:07:23.996Z"
   },
   {
    "duration": 6,
    "start_time": "2024-02-20T17:07:24.039Z"
   },
   {
    "duration": 37,
    "start_time": "2024-02-20T17:07:24.047Z"
   },
   {
    "duration": 17,
    "start_time": "2024-02-20T17:07:24.085Z"
   },
   {
    "duration": 34,
    "start_time": "2024-02-20T17:07:24.103Z"
   },
   {
    "duration": 359,
    "start_time": "2024-02-20T17:07:24.139Z"
   },
   {
    "duration": 22,
    "start_time": "2024-02-20T17:07:24.500Z"
   },
   {
    "duration": 28,
    "start_time": "2024-02-20T17:07:24.523Z"
   },
   {
    "duration": 29,
    "start_time": "2024-02-20T17:07:24.552Z"
   },
   {
    "duration": 122,
    "start_time": "2024-02-20T17:07:24.582Z"
   },
   {
    "duration": 25,
    "start_time": "2024-02-20T17:07:55.957Z"
   },
   {
    "duration": 37,
    "start_time": "2024-02-20T17:08:16.367Z"
   },
   {
    "duration": 285,
    "start_time": "2024-02-20T17:13:36.327Z"
   },
   {
    "duration": 1167,
    "start_time": "2024-02-20T17:15:12.438Z"
   },
   {
    "duration": 175,
    "start_time": "2024-02-20T17:15:13.607Z"
   },
   {
    "duration": 4,
    "start_time": "2024-02-20T17:15:13.783Z"
   },
   {
    "duration": 152,
    "start_time": "2024-02-20T17:15:13.789Z"
   },
   {
    "duration": 12,
    "start_time": "2024-02-20T17:15:13.943Z"
   },
   {
    "duration": 61,
    "start_time": "2024-02-20T17:15:13.957Z"
   },
   {
    "duration": 158,
    "start_time": "2024-02-20T17:15:14.019Z"
   },
   {
    "duration": 50,
    "start_time": "2024-02-20T17:15:14.178Z"
   },
   {
    "duration": 7,
    "start_time": "2024-02-20T17:15:14.229Z"
   },
   {
    "duration": 17,
    "start_time": "2024-02-20T17:15:14.239Z"
   },
   {
    "duration": 12,
    "start_time": "2024-02-20T17:15:14.257Z"
   },
   {
    "duration": 45,
    "start_time": "2024-02-20T17:15:14.271Z"
   },
   {
    "duration": 375,
    "start_time": "2024-02-20T17:15:14.318Z"
   },
   {
    "duration": 21,
    "start_time": "2024-02-20T17:15:14.695Z"
   },
   {
    "duration": 22,
    "start_time": "2024-02-20T17:15:14.718Z"
   },
   {
    "duration": 32,
    "start_time": "2024-02-20T17:15:14.742Z"
   },
   {
    "duration": 44,
    "start_time": "2024-02-20T17:15:14.776Z"
   },
   {
    "duration": 267,
    "start_time": "2024-02-20T17:15:26.078Z"
   },
   {
    "duration": 293,
    "start_time": "2024-02-20T17:16:59.638Z"
   },
   {
    "duration": 1395,
    "start_time": "2024-02-21T10:14:48.613Z"
   },
   {
    "duration": 658,
    "start_time": "2024-02-21T10:14:50.011Z"
   },
   {
    "duration": 3,
    "start_time": "2024-02-21T10:14:50.671Z"
   },
   {
    "duration": 163,
    "start_time": "2024-02-21T10:14:50.675Z"
   },
   {
    "duration": 14,
    "start_time": "2024-02-21T10:14:50.840Z"
   },
   {
    "duration": 77,
    "start_time": "2024-02-21T10:14:50.855Z"
   },
   {
    "duration": 162,
    "start_time": "2024-02-21T10:14:50.935Z"
   },
   {
    "duration": 41,
    "start_time": "2024-02-21T10:14:51.099Z"
   },
   {
    "duration": 8,
    "start_time": "2024-02-21T10:14:51.142Z"
   },
   {
    "duration": 18,
    "start_time": "2024-02-21T10:14:51.152Z"
   },
   {
    "duration": 8,
    "start_time": "2024-02-21T10:14:51.195Z"
   },
   {
    "duration": 33,
    "start_time": "2024-02-21T10:14:51.204Z"
   },
   {
    "duration": 389,
    "start_time": "2024-02-21T10:14:51.239Z"
   },
   {
    "duration": 20,
    "start_time": "2024-02-21T10:14:51.631Z"
   },
   {
    "duration": 43,
    "start_time": "2024-02-21T10:14:51.653Z"
   },
   {
    "duration": 45,
    "start_time": "2024-02-21T10:14:51.698Z"
   },
   {
    "duration": 28,
    "start_time": "2024-02-21T10:14:51.745Z"
   },
   {
    "duration": 57,
    "start_time": "2024-02-21T10:35:51.442Z"
   },
   {
    "duration": 87,
    "start_time": "2024-02-21T10:40:15.682Z"
   },
   {
    "duration": 76,
    "start_time": "2024-02-21T10:40:29.161Z"
   },
   {
    "duration": 58,
    "start_time": "2024-02-21T10:46:29.379Z"
   },
   {
    "duration": 57,
    "start_time": "2024-02-21T10:49:17.539Z"
   },
   {
    "duration": 64,
    "start_time": "2024-02-21T10:49:51.774Z"
   },
   {
    "duration": 58,
    "start_time": "2024-02-21T10:51:43.323Z"
   },
   {
    "duration": 8,
    "start_time": "2024-02-21T12:01:09.190Z"
   },
   {
    "duration": 12,
    "start_time": "2024-02-21T12:01:15.125Z"
   },
   {
    "duration": 8,
    "start_time": "2024-02-21T12:01:28.370Z"
   },
   {
    "duration": 13,
    "start_time": "2024-02-21T12:01:34.369Z"
   },
   {
    "duration": 13,
    "start_time": "2024-02-21T12:03:44.934Z"
   },
   {
    "duration": 12,
    "start_time": "2024-02-21T12:06:09.649Z"
   },
   {
    "duration": 6,
    "start_time": "2024-02-21T12:18:20.687Z"
   },
   {
    "duration": 129,
    "start_time": "2024-02-21T12:20:20.094Z"
   },
   {
    "duration": 1194,
    "start_time": "2024-02-21T12:21:37.305Z"
   },
   {
    "duration": 174,
    "start_time": "2024-02-21T12:21:38.501Z"
   },
   {
    "duration": 4,
    "start_time": "2024-02-21T12:21:38.676Z"
   },
   {
    "duration": 178,
    "start_time": "2024-02-21T12:21:38.682Z"
   },
   {
    "duration": 15,
    "start_time": "2024-02-21T12:21:38.862Z"
   },
   {
    "duration": 58,
    "start_time": "2024-02-21T12:21:38.878Z"
   },
   {
    "duration": 175,
    "start_time": "2024-02-21T12:21:38.938Z"
   },
   {
    "duration": 42,
    "start_time": "2024-02-21T12:21:39.115Z"
   },
   {
    "duration": 7,
    "start_time": "2024-02-21T12:21:39.159Z"
   },
   {
    "duration": 39,
    "start_time": "2024-02-21T12:21:39.168Z"
   },
   {
    "duration": 27,
    "start_time": "2024-02-21T12:21:39.209Z"
   },
   {
    "duration": 38,
    "start_time": "2024-02-21T12:21:39.237Z"
   },
   {
    "duration": 378,
    "start_time": "2024-02-21T12:21:39.277Z"
   },
   {
    "duration": 16,
    "start_time": "2024-02-21T12:21:39.657Z"
   },
   {
    "duration": 44,
    "start_time": "2024-02-21T12:21:39.675Z"
   },
   {
    "duration": 52,
    "start_time": "2024-02-21T12:21:39.720Z"
   },
   {
    "duration": 27,
    "start_time": "2024-02-21T12:21:39.773Z"
   },
   {
    "duration": 61,
    "start_time": "2024-02-21T12:21:39.802Z"
   },
   {
    "duration": 13,
    "start_time": "2024-02-21T12:21:39.864Z"
   },
   {
    "duration": 28,
    "start_time": "2024-02-21T12:21:39.894Z"
   },
   {
    "duration": 254,
    "start_time": "2024-02-21T12:21:39.924Z"
   },
   {
    "duration": 33,
    "start_time": "2024-02-21T12:34:42.452Z"
   },
   {
    "duration": 171,
    "start_time": "2024-02-21T14:22:10.006Z"
   },
   {
    "duration": 43,
    "start_time": "2024-02-21T14:22:34.589Z"
   },
   {
    "duration": 13,
    "start_time": "2024-02-21T14:52:06.799Z"
   },
   {
    "duration": 180,
    "start_time": "2024-02-21T14:52:28.243Z"
   },
   {
    "duration": 282,
    "start_time": "2024-02-21T14:53:30.743Z"
   },
   {
    "duration": 158,
    "start_time": "2024-02-21T14:54:08.708Z"
   },
   {
    "duration": 255,
    "start_time": "2024-02-21T14:55:42.300Z"
   },
   {
    "duration": 4,
    "start_time": "2024-02-21T14:56:15.441Z"
   },
   {
    "duration": 59,
    "start_time": "2024-02-21T14:56:36.760Z"
   },
   {
    "duration": 145,
    "start_time": "2024-02-21T14:57:22.913Z"
   },
   {
    "duration": 138,
    "start_time": "2024-02-21T14:59:18.674Z"
   },
   {
    "duration": 218,
    "start_time": "2024-02-21T14:59:52.821Z"
   },
   {
    "duration": 185,
    "start_time": "2024-02-21T15:00:25.673Z"
   },
   {
    "duration": 182,
    "start_time": "2024-02-21T15:00:37.681Z"
   },
   {
    "duration": 187,
    "start_time": "2024-02-21T15:00:44.057Z"
   },
   {
    "duration": 216,
    "start_time": "2024-02-21T15:00:51.548Z"
   },
   {
    "duration": 137,
    "start_time": "2024-02-21T15:00:57.855Z"
   },
   {
    "duration": 159,
    "start_time": "2024-02-21T15:01:03.447Z"
   },
   {
    "duration": 204,
    "start_time": "2024-02-21T15:01:09.486Z"
   },
   {
    "duration": 207,
    "start_time": "2024-02-21T15:21:11.424Z"
   },
   {
    "duration": 13,
    "start_time": "2024-02-21T15:22:48.580Z"
   },
   {
    "duration": 15,
    "start_time": "2024-02-21T15:25:44.401Z"
   },
   {
    "duration": 13,
    "start_time": "2024-02-21T15:27:25.706Z"
   },
   {
    "duration": 14,
    "start_time": "2024-02-21T15:28:22.277Z"
   },
   {
    "duration": 1141,
    "start_time": "2024-02-21T15:30:17.151Z"
   },
   {
    "duration": 181,
    "start_time": "2024-02-21T15:30:18.294Z"
   },
   {
    "duration": 4,
    "start_time": "2024-02-21T15:30:18.476Z"
   },
   {
    "duration": 162,
    "start_time": "2024-02-21T15:30:18.481Z"
   },
   {
    "duration": 14,
    "start_time": "2024-02-21T15:30:18.645Z"
   },
   {
    "duration": 57,
    "start_time": "2024-02-21T15:30:18.661Z"
   },
   {
    "duration": 167,
    "start_time": "2024-02-21T15:30:18.720Z"
   },
   {
    "duration": 44,
    "start_time": "2024-02-21T15:30:18.888Z"
   },
   {
    "duration": 7,
    "start_time": "2024-02-21T15:30:18.934Z"
   },
   {
    "duration": 18,
    "start_time": "2024-02-21T15:30:18.942Z"
   },
   {
    "duration": 50,
    "start_time": "2024-02-21T15:30:18.962Z"
   },
   {
    "duration": 30,
    "start_time": "2024-02-21T15:30:19.014Z"
   },
   {
    "duration": 351,
    "start_time": "2024-02-21T15:30:19.046Z"
   },
   {
    "duration": 23,
    "start_time": "2024-02-21T15:30:19.401Z"
   },
   {
    "duration": 46,
    "start_time": "2024-02-21T15:30:19.426Z"
   },
   {
    "duration": 58,
    "start_time": "2024-02-21T15:30:19.474Z"
   },
   {
    "duration": 38,
    "start_time": "2024-02-21T15:30:19.534Z"
   },
   {
    "duration": 75,
    "start_time": "2024-02-21T15:30:19.573Z"
   },
   {
    "duration": 12,
    "start_time": "2024-02-21T15:30:19.649Z"
   },
   {
    "duration": 30,
    "start_time": "2024-02-21T15:30:19.663Z"
   },
   {
    "duration": 182,
    "start_time": "2024-02-21T15:30:19.694Z"
   },
   {
    "duration": 32,
    "start_time": "2024-02-21T15:30:19.878Z"
   },
   {
    "duration": 99,
    "start_time": "2024-02-21T15:30:19.911Z"
   },
   {
    "duration": 143,
    "start_time": "2024-02-21T15:30:20.012Z"
   },
   {
    "duration": 13,
    "start_time": "2024-02-21T15:30:20.156Z"
   },
   {
    "duration": 210,
    "start_time": "2024-02-21T15:30:20.170Z"
   },
   {
    "duration": 5147,
    "start_time": "2024-02-21T15:31:01.024Z"
   },
   {
    "duration": 112,
    "start_time": "2024-02-21T15:38:34.617Z"
   },
   {
    "duration": 10092,
    "start_time": "2024-02-21T15:38:44.775Z"
   },
   {
    "duration": 104,
    "start_time": "2024-02-21T15:41:49.394Z"
   },
   {
    "duration": 3442,
    "start_time": "2024-02-21T15:42:08.408Z"
   },
   {
    "duration": 3513,
    "start_time": "2024-02-21T15:43:04.185Z"
   },
   {
    "duration": 3441,
    "start_time": "2024-02-21T15:44:51.449Z"
   },
   {
    "duration": 3370,
    "start_time": "2024-02-21T15:46:08.728Z"
   },
   {
    "duration": 3349,
    "start_time": "2024-02-21T15:47:55.847Z"
   },
   {
    "duration": 3425,
    "start_time": "2024-02-21T15:48:30.442Z"
   },
   {
    "duration": 3381,
    "start_time": "2024-02-21T15:49:03.697Z"
   },
   {
    "duration": 3473,
    "start_time": "2024-02-21T15:49:32.332Z"
   },
   {
    "duration": 3403,
    "start_time": "2024-02-21T15:50:08.648Z"
   },
   {
    "duration": 1342,
    "start_time": "2024-02-21T15:51:43.966Z"
   },
   {
    "duration": 3549,
    "start_time": "2024-02-21T15:51:53.786Z"
   },
   {
    "duration": 3355,
    "start_time": "2024-02-21T15:52:17.936Z"
   },
   {
    "duration": 1068,
    "start_time": "2024-02-21T15:55:35.566Z"
   },
   {
    "duration": 1202,
    "start_time": "2024-02-21T15:57:16.689Z"
   },
   {
    "duration": 1394,
    "start_time": "2024-02-21T15:57:28.025Z"
   },
   {
    "duration": 695,
    "start_time": "2024-02-21T15:59:06.609Z"
   },
   {
    "duration": 600,
    "start_time": "2024-02-21T16:00:44.594Z"
   },
   {
    "duration": 557,
    "start_time": "2024-02-21T16:01:39.231Z"
   },
   {
    "duration": 1458,
    "start_time": "2024-02-21T16:07:09.551Z"
   },
   {
    "duration": 23,
    "start_time": "2024-02-21T16:07:48.605Z"
   },
   {
    "duration": 1277,
    "start_time": "2024-02-21T16:09:23.206Z"
   },
   {
    "duration": 139,
    "start_time": "2024-02-21T16:13:57.830Z"
   },
   {
    "duration": 1151,
    "start_time": "2024-02-21T16:14:32.739Z"
   },
   {
    "duration": 180,
    "start_time": "2024-02-21T16:14:33.893Z"
   },
   {
    "duration": 4,
    "start_time": "2024-02-21T16:14:34.074Z"
   },
   {
    "duration": 181,
    "start_time": "2024-02-21T16:14:34.080Z"
   },
   {
    "duration": 12,
    "start_time": "2024-02-21T16:14:34.263Z"
   },
   {
    "duration": 55,
    "start_time": "2024-02-21T16:14:34.277Z"
   },
   {
    "duration": 167,
    "start_time": "2024-02-21T16:14:34.334Z"
   },
   {
    "duration": 39,
    "start_time": "2024-02-21T16:14:34.503Z"
   },
   {
    "duration": 6,
    "start_time": "2024-02-21T16:14:34.543Z"
   },
   {
    "duration": 30,
    "start_time": "2024-02-21T16:14:34.551Z"
   },
   {
    "duration": 62,
    "start_time": "2024-02-21T16:14:34.582Z"
   },
   {
    "duration": 28,
    "start_time": "2024-02-21T16:14:34.646Z"
   },
   {
    "duration": 384,
    "start_time": "2024-02-21T16:14:34.676Z"
   },
   {
    "duration": 18,
    "start_time": "2024-02-21T16:14:35.062Z"
   },
   {
    "duration": 55,
    "start_time": "2024-02-21T16:14:35.081Z"
   },
   {
    "duration": 83,
    "start_time": "2024-02-21T16:14:35.138Z"
   },
   {
    "duration": 59,
    "start_time": "2024-02-21T16:14:35.222Z"
   },
   {
    "duration": 78,
    "start_time": "2024-02-21T16:14:35.283Z"
   },
   {
    "duration": 12,
    "start_time": "2024-02-21T16:14:35.362Z"
   },
   {
    "duration": 28,
    "start_time": "2024-02-21T16:14:35.376Z"
   },
   {
    "duration": 189,
    "start_time": "2024-02-21T16:14:35.406Z"
   },
   {
    "duration": 48,
    "start_time": "2024-02-21T16:14:35.597Z"
   },
   {
    "duration": 116,
    "start_time": "2024-02-21T16:14:35.647Z"
   },
   {
    "duration": 136,
    "start_time": "2024-02-21T16:14:35.794Z"
   },
   {
    "duration": 13,
    "start_time": "2024-02-21T16:14:35.932Z"
   },
   {
    "duration": 117,
    "start_time": "2024-02-21T16:14:35.946Z"
   },
   {
    "duration": 3422,
    "start_time": "2024-02-21T16:15:12.871Z"
   },
   {
    "duration": 1415,
    "start_time": "2024-02-22T07:03:53.160Z"
   },
   {
    "duration": 497,
    "start_time": "2024-02-22T07:03:54.577Z"
   },
   {
    "duration": 4,
    "start_time": "2024-02-22T07:03:55.076Z"
   },
   {
    "duration": 186,
    "start_time": "2024-02-22T07:03:55.082Z"
   },
   {
    "duration": 14,
    "start_time": "2024-02-22T07:03:55.270Z"
   },
   {
    "duration": 66,
    "start_time": "2024-02-22T07:03:55.285Z"
   },
   {
    "duration": 184,
    "start_time": "2024-02-22T07:03:55.353Z"
   },
   {
    "duration": 42,
    "start_time": "2024-02-22T07:03:55.539Z"
   },
   {
    "duration": 6,
    "start_time": "2024-02-22T07:03:55.583Z"
   },
   {
    "duration": 37,
    "start_time": "2024-02-22T07:03:55.593Z"
   },
   {
    "duration": 16,
    "start_time": "2024-02-22T07:03:55.632Z"
   },
   {
    "duration": 45,
    "start_time": "2024-02-22T07:03:55.649Z"
   },
   {
    "duration": 400,
    "start_time": "2024-02-22T07:03:55.696Z"
   },
   {
    "duration": 28,
    "start_time": "2024-02-22T07:03:56.098Z"
   },
   {
    "duration": 39,
    "start_time": "2024-02-22T07:03:56.128Z"
   },
   {
    "duration": 53,
    "start_time": "2024-02-22T07:03:56.169Z"
   },
   {
    "duration": 32,
    "start_time": "2024-02-22T07:03:56.224Z"
   },
   {
    "duration": 78,
    "start_time": "2024-02-22T07:03:56.257Z"
   },
   {
    "duration": 14,
    "start_time": "2024-02-22T07:03:56.337Z"
   },
   {
    "duration": 26,
    "start_time": "2024-02-22T07:03:56.354Z"
   },
   {
    "duration": 181,
    "start_time": "2024-02-22T07:03:56.382Z"
   },
   {
    "duration": 72,
    "start_time": "2024-02-22T07:03:56.565Z"
   },
   {
    "duration": 108,
    "start_time": "2024-02-22T07:03:56.639Z"
   },
   {
    "duration": 146,
    "start_time": "2024-02-22T07:03:56.748Z"
   },
   {
    "duration": 14,
    "start_time": "2024-02-22T07:03:56.896Z"
   },
   {
    "duration": 3767,
    "start_time": "2024-02-22T07:03:56.911Z"
   },
   {
    "duration": 1490,
    "start_time": "2024-02-22T07:13:20.135Z"
   },
   {
    "duration": 129,
    "start_time": "2024-02-22T07:15:08.395Z"
   },
   {
    "duration": 164,
    "start_time": "2024-02-22T07:16:09.078Z"
   },
   {
    "duration": 85,
    "start_time": "2024-02-22T07:18:37.816Z"
   },
   {
    "duration": 3851,
    "start_time": "2024-02-22T07:19:09.376Z"
   },
   {
    "duration": 67,
    "start_time": "2024-02-22T07:20:50.255Z"
   },
   {
    "duration": 65,
    "start_time": "2024-02-22T07:22:02.376Z"
   },
   {
    "duration": 69,
    "start_time": "2024-02-22T07:22:08.615Z"
   },
   {
    "duration": 55,
    "start_time": "2024-02-22T07:22:47.555Z"
   },
   {
    "duration": 59,
    "start_time": "2024-02-22T07:22:57.616Z"
   },
   {
    "duration": 4019,
    "start_time": "2024-02-22T07:23:56.275Z"
   },
   {
    "duration": 3998,
    "start_time": "2024-02-22T07:25:01.195Z"
   },
   {
    "duration": 3984,
    "start_time": "2024-02-22T07:25:28.456Z"
   },
   {
    "duration": 4006,
    "start_time": "2024-02-22T07:25:44.638Z"
   },
   {
    "duration": 135,
    "start_time": "2024-02-22T07:28:08.175Z"
   },
   {
    "duration": 16,
    "start_time": "2024-02-22T07:28:12.914Z"
   },
   {
    "duration": 3786,
    "start_time": "2024-02-22T07:33:14.254Z"
   },
   {
    "duration": 3648,
    "start_time": "2024-02-22T07:34:10.415Z"
   },
   {
    "duration": 92,
    "start_time": "2024-02-22T07:37:34.994Z"
   },
   {
    "duration": 88,
    "start_time": "2024-02-22T07:38:23.394Z"
   },
   {
    "duration": 3711,
    "start_time": "2024-02-22T07:38:28.935Z"
   },
   {
    "duration": 7,
    "start_time": "2024-02-22T07:50:56.894Z"
   },
   {
    "duration": 1170,
    "start_time": "2024-02-22T07:52:07.774Z"
   },
   {
    "duration": 7,
    "start_time": "2024-02-22T07:55:19.494Z"
   },
   {
    "duration": 1250,
    "start_time": "2024-02-22T07:55:24.629Z"
   },
   {
    "duration": 7,
    "start_time": "2024-02-22T07:57:40.594Z"
   },
   {
    "duration": 6,
    "start_time": "2024-02-22T07:57:43.054Z"
   },
   {
    "duration": 1279,
    "start_time": "2024-02-22T07:57:46.483Z"
   },
   {
    "duration": 7,
    "start_time": "2024-02-22T07:58:07.334Z"
   },
   {
    "duration": 9,
    "start_time": "2024-02-22T07:58:11.614Z"
   },
   {
    "duration": 1226,
    "start_time": "2024-02-22T07:58:15.855Z"
   },
   {
    "duration": 9,
    "start_time": "2024-02-22T08:01:51.815Z"
   },
   {
    "duration": 54,
    "start_time": "2024-02-22T08:01:56.114Z"
   },
   {
    "duration": 7,
    "start_time": "2024-02-22T08:03:01.365Z"
   },
   {
    "duration": 52,
    "start_time": "2024-02-22T08:03:07.035Z"
   },
   {
    "duration": 1257,
    "start_time": "2024-02-22T08:04:02.214Z"
   },
   {
    "duration": 191,
    "start_time": "2024-02-22T08:04:03.473Z"
   },
   {
    "duration": 4,
    "start_time": "2024-02-22T08:04:03.666Z"
   },
   {
    "duration": 182,
    "start_time": "2024-02-22T08:04:03.671Z"
   },
   {
    "duration": 14,
    "start_time": "2024-02-22T08:04:03.855Z"
   },
   {
    "duration": 66,
    "start_time": "2024-02-22T08:04:03.871Z"
   },
   {
    "duration": 188,
    "start_time": "2024-02-22T08:04:03.939Z"
   },
   {
    "duration": 42,
    "start_time": "2024-02-22T08:04:04.129Z"
   },
   {
    "duration": 8,
    "start_time": "2024-02-22T08:04:04.172Z"
   },
   {
    "duration": 42,
    "start_time": "2024-02-22T08:04:04.181Z"
   },
   {
    "duration": 6,
    "start_time": "2024-02-22T08:04:04.225Z"
   },
   {
    "duration": 22,
    "start_time": "2024-02-22T08:04:04.233Z"
   },
   {
    "duration": 436,
    "start_time": "2024-02-22T08:04:04.256Z"
   },
   {
    "duration": 19,
    "start_time": "2024-02-22T08:04:04.695Z"
   },
   {
    "duration": 25,
    "start_time": "2024-02-22T08:04:04.723Z"
   },
   {
    "duration": 34,
    "start_time": "2024-02-22T08:04:04.750Z"
   },
   {
    "duration": 49,
    "start_time": "2024-02-22T08:04:04.786Z"
   },
   {
    "duration": 71,
    "start_time": "2024-02-22T08:04:04.837Z"
   },
   {
    "duration": 15,
    "start_time": "2024-02-22T08:04:04.922Z"
   },
   {
    "duration": 47,
    "start_time": "2024-02-22T08:04:04.939Z"
   },
   {
    "duration": 154,
    "start_time": "2024-02-22T08:04:04.987Z"
   },
   {
    "duration": 36,
    "start_time": "2024-02-22T08:04:05.142Z"
   },
   {
    "duration": 100,
    "start_time": "2024-02-22T08:04:05.224Z"
   },
   {
    "duration": 143,
    "start_time": "2024-02-22T08:04:05.326Z"
   },
   {
    "duration": 15,
    "start_time": "2024-02-22T08:04:05.471Z"
   },
   {
    "duration": 3810,
    "start_time": "2024-02-22T08:04:05.488Z"
   },
   {
    "duration": 23,
    "start_time": "2024-02-22T08:04:09.300Z"
   },
   {
    "duration": 320,
    "start_time": "2024-02-22T08:04:09.325Z"
   },
   {
    "duration": 6,
    "start_time": "2024-02-22T08:05:56.858Z"
   },
   {
    "duration": 63,
    "start_time": "2024-02-22T08:06:00.412Z"
   },
   {
    "duration": 6,
    "start_time": "2024-02-22T08:08:19.547Z"
   },
   {
    "duration": 63,
    "start_time": "2024-02-22T08:08:22.678Z"
   },
   {
    "duration": 7,
    "start_time": "2024-02-22T08:11:10.228Z"
   },
   {
    "duration": 1435,
    "start_time": "2024-02-22T08:11:11.237Z"
   },
   {
    "duration": 1473,
    "start_time": "2024-02-22T08:11:26.317Z"
   },
   {
    "duration": 16,
    "start_time": "2024-02-22T08:12:44.637Z"
   },
   {
    "duration": 25,
    "start_time": "2024-02-22T08:14:42.658Z"
   },
   {
    "duration": 21,
    "start_time": "2024-02-22T08:15:30.097Z"
   },
   {
    "duration": 1265,
    "start_time": "2024-02-22T08:15:41.622Z"
   },
   {
    "duration": 191,
    "start_time": "2024-02-22T08:15:42.888Z"
   },
   {
    "duration": 4,
    "start_time": "2024-02-22T08:15:43.081Z"
   },
   {
    "duration": 177,
    "start_time": "2024-02-22T08:15:43.086Z"
   },
   {
    "duration": 15,
    "start_time": "2024-02-22T08:15:43.266Z"
   },
   {
    "duration": 66,
    "start_time": "2024-02-22T08:15:43.282Z"
   },
   {
    "duration": 185,
    "start_time": "2024-02-22T08:15:43.350Z"
   },
   {
    "duration": 50,
    "start_time": "2024-02-22T08:15:43.537Z"
   },
   {
    "duration": 6,
    "start_time": "2024-02-22T08:15:43.589Z"
   },
   {
    "duration": 37,
    "start_time": "2024-02-22T08:15:43.597Z"
   },
   {
    "duration": 23,
    "start_time": "2024-02-22T08:15:43.635Z"
   },
   {
    "duration": 20,
    "start_time": "2024-02-22T08:15:43.660Z"
   },
   {
    "duration": 419,
    "start_time": "2024-02-22T08:15:43.682Z"
   },
   {
    "duration": 23,
    "start_time": "2024-02-22T08:15:44.104Z"
   },
   {
    "duration": 26,
    "start_time": "2024-02-22T08:15:44.128Z"
   },
   {
    "duration": 34,
    "start_time": "2024-02-22T08:15:44.156Z"
   },
   {
    "duration": 49,
    "start_time": "2024-02-22T08:15:44.191Z"
   },
   {
    "duration": 83,
    "start_time": "2024-02-22T08:15:44.241Z"
   },
   {
    "duration": 14,
    "start_time": "2024-02-22T08:15:44.326Z"
   },
   {
    "duration": 5,
    "start_time": "2024-02-22T08:15:44.342Z"
   },
   {
    "duration": 164,
    "start_time": "2024-02-22T08:15:44.348Z"
   },
   {
    "duration": 44,
    "start_time": "2024-02-22T08:15:44.513Z"
   },
   {
    "duration": 107,
    "start_time": "2024-02-22T08:15:44.559Z"
   },
   {
    "duration": 162,
    "start_time": "2024-02-22T08:15:44.667Z"
   },
   {
    "duration": 15,
    "start_time": "2024-02-22T08:15:44.830Z"
   },
   {
    "duration": 3800,
    "start_time": "2024-02-22T08:15:44.847Z"
   },
   {
    "duration": 7,
    "start_time": "2024-02-22T08:15:48.651Z"
   },
   {
    "duration": 1728,
    "start_time": "2024-02-22T08:15:48.660Z"
   },
   {
    "duration": 14,
    "start_time": "2024-02-22T08:16:31.418Z"
   },
   {
    "duration": 8,
    "start_time": "2024-02-22T08:27:21.483Z"
   },
   {
    "duration": 1573,
    "start_time": "2024-02-22T08:27:24.819Z"
   },
   {
    "duration": 7,
    "start_time": "2024-02-22T08:29:09.397Z"
   },
   {
    "duration": 1053,
    "start_time": "2024-02-22T08:29:12.238Z"
   },
   {
    "duration": 14,
    "start_time": "2024-02-22T08:30:40.523Z"
   },
   {
    "duration": 68,
    "start_time": "2024-02-22T08:30:42.798Z"
   },
   {
    "duration": 76,
    "start_time": "2024-02-22T08:31:39.238Z"
   },
   {
    "duration": 8,
    "start_time": "2024-02-22T08:31:45.762Z"
   },
   {
    "duration": 53,
    "start_time": "2024-02-22T08:31:48.937Z"
   },
   {
    "duration": 1801,
    "start_time": "2024-02-22T08:50:03.308Z"
   },
   {
    "duration": 12,
    "start_time": "2024-02-22T08:50:23.717Z"
   },
   {
    "duration": 6,
    "start_time": "2024-02-22T08:51:05.923Z"
   },
   {
    "duration": 37,
    "start_time": "2024-02-22T08:51:09.877Z"
   },
   {
    "duration": 1187,
    "start_time": "2024-02-22T08:54:03.081Z"
   },
   {
    "duration": 189,
    "start_time": "2024-02-22T08:54:04.270Z"
   },
   {
    "duration": 4,
    "start_time": "2024-02-22T08:54:04.461Z"
   },
   {
    "duration": 199,
    "start_time": "2024-02-22T08:54:04.466Z"
   },
   {
    "duration": 14,
    "start_time": "2024-02-22T08:54:04.667Z"
   },
   {
    "duration": 66,
    "start_time": "2024-02-22T08:54:04.682Z"
   },
   {
    "duration": 217,
    "start_time": "2024-02-22T08:54:04.749Z"
   },
   {
    "duration": 43,
    "start_time": "2024-02-22T08:54:04.968Z"
   },
   {
    "duration": 15,
    "start_time": "2024-02-22T08:54:05.013Z"
   },
   {
    "duration": 33,
    "start_time": "2024-02-22T08:54:05.030Z"
   },
   {
    "duration": 24,
    "start_time": "2024-02-22T08:54:05.064Z"
   },
   {
    "duration": 52,
    "start_time": "2024-02-22T08:54:05.090Z"
   },
   {
    "duration": 424,
    "start_time": "2024-02-22T08:54:05.144Z"
   },
   {
    "duration": 17,
    "start_time": "2024-02-22T08:54:05.571Z"
   },
   {
    "duration": 39,
    "start_time": "2024-02-22T08:54:05.590Z"
   },
   {
    "duration": 53,
    "start_time": "2024-02-22T08:54:05.630Z"
   },
   {
    "duration": 29,
    "start_time": "2024-02-22T08:54:05.684Z"
   },
   {
    "duration": 90,
    "start_time": "2024-02-22T08:54:05.715Z"
   },
   {
    "duration": 12,
    "start_time": "2024-02-22T08:54:05.807Z"
   },
   {
    "duration": 22,
    "start_time": "2024-02-22T08:54:05.821Z"
   },
   {
    "duration": 167,
    "start_time": "2024-02-22T08:54:05.845Z"
   },
   {
    "duration": 40,
    "start_time": "2024-02-22T08:54:06.014Z"
   },
   {
    "duration": 100,
    "start_time": "2024-02-22T08:54:06.056Z"
   },
   {
    "duration": 155,
    "start_time": "2024-02-22T08:54:06.158Z"
   },
   {
    "duration": 17,
    "start_time": "2024-02-22T08:54:06.315Z"
   },
   {
    "duration": 3706,
    "start_time": "2024-02-22T08:54:06.334Z"
   },
   {
    "duration": 7,
    "start_time": "2024-02-22T08:54:10.042Z"
   },
   {
    "duration": 384,
    "start_time": "2024-02-22T08:54:10.051Z"
   },
   {
    "duration": 1,
    "start_time": "2024-02-22T08:54:10.436Z"
   },
   {
    "duration": 0,
    "start_time": "2024-02-22T08:54:10.438Z"
   },
   {
    "duration": 0,
    "start_time": "2024-02-22T08:54:10.440Z"
   },
   {
    "duration": 1194,
    "start_time": "2024-02-22T08:57:55.381Z"
   },
   {
    "duration": 190,
    "start_time": "2024-02-22T08:57:56.577Z"
   },
   {
    "duration": 4,
    "start_time": "2024-02-22T08:57:56.769Z"
   },
   {
    "duration": 172,
    "start_time": "2024-02-22T08:57:56.775Z"
   },
   {
    "duration": 15,
    "start_time": "2024-02-22T08:57:56.949Z"
   },
   {
    "duration": 70,
    "start_time": "2024-02-22T08:57:56.965Z"
   },
   {
    "duration": 187,
    "start_time": "2024-02-22T08:57:57.037Z"
   },
   {
    "duration": 42,
    "start_time": "2024-02-22T08:57:57.226Z"
   },
   {
    "duration": 7,
    "start_time": "2024-02-22T08:57:57.270Z"
   },
   {
    "duration": 28,
    "start_time": "2024-02-22T08:57:57.278Z"
   },
   {
    "duration": 29,
    "start_time": "2024-02-22T08:57:57.308Z"
   },
   {
    "duration": 52,
    "start_time": "2024-02-22T08:57:57.339Z"
   },
   {
    "duration": 455,
    "start_time": "2024-02-22T08:57:57.393Z"
   },
   {
    "duration": 16,
    "start_time": "2024-02-22T08:57:57.851Z"
   },
   {
    "duration": 25,
    "start_time": "2024-02-22T08:57:57.869Z"
   },
   {
    "duration": 62,
    "start_time": "2024-02-22T08:57:57.896Z"
   },
   {
    "duration": 29,
    "start_time": "2024-02-22T08:57:57.960Z"
   },
   {
    "duration": 83,
    "start_time": "2024-02-22T08:57:57.991Z"
   },
   {
    "duration": 14,
    "start_time": "2024-02-22T08:57:58.076Z"
   },
   {
    "duration": 25,
    "start_time": "2024-02-22T08:57:58.092Z"
   },
   {
    "duration": 153,
    "start_time": "2024-02-22T08:57:58.118Z"
   },
   {
    "duration": 66,
    "start_time": "2024-02-22T08:57:58.273Z"
   },
   {
    "duration": 103,
    "start_time": "2024-02-22T08:57:58.340Z"
   },
   {
    "duration": 147,
    "start_time": "2024-02-22T08:57:58.444Z"
   },
   {
    "duration": 15,
    "start_time": "2024-02-22T08:57:58.592Z"
   },
   {
    "duration": 3747,
    "start_time": "2024-02-22T08:57:58.608Z"
   },
   {
    "duration": 8,
    "start_time": "2024-02-22T08:58:02.358Z"
   },
   {
    "duration": 376,
    "start_time": "2024-02-22T08:58:02.367Z"
   },
   {
    "duration": 0,
    "start_time": "2024-02-22T08:58:02.745Z"
   },
   {
    "duration": 0,
    "start_time": "2024-02-22T08:58:02.746Z"
   },
   {
    "duration": 0,
    "start_time": "2024-02-22T08:58:02.747Z"
   },
   {
    "duration": 12,
    "start_time": "2024-02-22T08:58:23.000Z"
   },
   {
    "duration": 7,
    "start_time": "2024-02-22T08:58:24.139Z"
   },
   {
    "duration": 30,
    "start_time": "2024-02-22T08:58:26.670Z"
   },
   {
    "duration": 7,
    "start_time": "2024-02-22T08:59:50.300Z"
   },
   {
    "duration": 1322,
    "start_time": "2024-02-22T08:59:53.314Z"
   },
   {
    "duration": 1239,
    "start_time": "2024-02-22T09:07:09.633Z"
   },
   {
    "duration": 191,
    "start_time": "2024-02-22T09:07:10.874Z"
   },
   {
    "duration": 4,
    "start_time": "2024-02-22T09:07:11.066Z"
   },
   {
    "duration": 194,
    "start_time": "2024-02-22T09:07:11.072Z"
   },
   {
    "duration": 15,
    "start_time": "2024-02-22T09:07:11.268Z"
   },
   {
    "duration": 68,
    "start_time": "2024-02-22T09:07:11.285Z"
   },
   {
    "duration": 191,
    "start_time": "2024-02-22T09:07:11.354Z"
   },
   {
    "duration": 48,
    "start_time": "2024-02-22T09:07:11.547Z"
   },
   {
    "duration": 7,
    "start_time": "2024-02-22T09:07:11.597Z"
   },
   {
    "duration": 40,
    "start_time": "2024-02-22T09:07:11.605Z"
   },
   {
    "duration": 19,
    "start_time": "2024-02-22T09:07:11.647Z"
   },
   {
    "duration": 28,
    "start_time": "2024-02-22T09:07:11.668Z"
   },
   {
    "duration": 397,
    "start_time": "2024-02-22T09:07:11.698Z"
   },
   {
    "duration": 26,
    "start_time": "2024-02-22T09:07:12.097Z"
   },
   {
    "duration": 26,
    "start_time": "2024-02-22T09:07:12.124Z"
   },
   {
    "duration": 48,
    "start_time": "2024-02-22T09:07:12.151Z"
   },
   {
    "duration": 36,
    "start_time": "2024-02-22T09:07:12.200Z"
   },
   {
    "duration": 70,
    "start_time": "2024-02-22T09:07:12.237Z"
   },
   {
    "duration": 25,
    "start_time": "2024-02-22T09:07:12.308Z"
   },
   {
    "duration": 32,
    "start_time": "2024-02-22T09:07:12.335Z"
   },
   {
    "duration": 192,
    "start_time": "2024-02-22T09:07:12.368Z"
   },
   {
    "duration": 78,
    "start_time": "2024-02-22T09:07:12.562Z"
   },
   {
    "duration": 102,
    "start_time": "2024-02-22T09:07:12.642Z"
   },
   {
    "duration": 164,
    "start_time": "2024-02-22T09:07:12.746Z"
   },
   {
    "duration": 22,
    "start_time": "2024-02-22T09:07:12.912Z"
   },
   {
    "duration": 3788,
    "start_time": "2024-02-22T09:07:12.936Z"
   },
   {
    "duration": 8,
    "start_time": "2024-02-22T09:07:16.726Z"
   },
   {
    "duration": 1675,
    "start_time": "2024-02-22T09:07:16.735Z"
   },
   {
    "duration": 0,
    "start_time": "2024-02-22T09:07:18.412Z"
   },
   {
    "duration": 0,
    "start_time": "2024-02-22T09:07:18.414Z"
   },
   {
    "duration": 0,
    "start_time": "2024-02-22T09:07:18.415Z"
   },
   {
    "duration": 1192,
    "start_time": "2024-02-22T09:15:28.769Z"
   },
   {
    "duration": 192,
    "start_time": "2024-02-22T09:15:29.963Z"
   },
   {
    "duration": 5,
    "start_time": "2024-02-22T09:15:30.157Z"
   },
   {
    "duration": 239,
    "start_time": "2024-02-22T09:15:30.164Z"
   },
   {
    "duration": 25,
    "start_time": "2024-02-22T09:15:30.405Z"
   },
   {
    "duration": 188,
    "start_time": "2024-02-22T09:15:30.432Z"
   },
   {
    "duration": 229,
    "start_time": "2024-02-22T09:15:30.621Z"
   },
   {
    "duration": 44,
    "start_time": "2024-02-22T09:15:30.853Z"
   },
   {
    "duration": 110,
    "start_time": "2024-02-22T09:15:30.899Z"
   },
   {
    "duration": 202,
    "start_time": "2024-02-22T09:15:31.012Z"
   },
   {
    "duration": 32,
    "start_time": "2024-02-22T09:15:31.216Z"
   },
   {
    "duration": 64,
    "start_time": "2024-02-22T09:15:31.249Z"
   },
   {
    "duration": 449,
    "start_time": "2024-02-22T09:15:31.315Z"
   },
   {
    "duration": 19,
    "start_time": "2024-02-22T09:15:31.766Z"
   },
   {
    "duration": 50,
    "start_time": "2024-02-22T09:15:31.786Z"
   },
   {
    "duration": 50,
    "start_time": "2024-02-22T09:15:31.837Z"
   },
   {
    "duration": 36,
    "start_time": "2024-02-22T09:15:31.888Z"
   },
   {
    "duration": 85,
    "start_time": "2024-02-22T09:15:31.925Z"
   },
   {
    "duration": 15,
    "start_time": "2024-02-22T09:15:32.011Z"
   },
   {
    "duration": 25,
    "start_time": "2024-02-22T09:15:32.027Z"
   },
   {
    "duration": 166,
    "start_time": "2024-02-22T09:15:32.054Z"
   },
   {
    "duration": 37,
    "start_time": "2024-02-22T09:15:32.222Z"
   },
   {
    "duration": 98,
    "start_time": "2024-02-22T09:15:32.261Z"
   },
   {
    "duration": 175,
    "start_time": "2024-02-22T09:15:32.361Z"
   },
   {
    "duration": 15,
    "start_time": "2024-02-22T09:15:32.538Z"
   },
   {
    "duration": 3803,
    "start_time": "2024-02-22T09:15:32.554Z"
   },
   {
    "duration": 7,
    "start_time": "2024-02-22T09:15:36.358Z"
   },
   {
    "duration": 363,
    "start_time": "2024-02-22T09:15:36.369Z"
   },
   {
    "duration": 0,
    "start_time": "2024-02-22T09:15:36.734Z"
   },
   {
    "duration": 0,
    "start_time": "2024-02-22T09:15:36.735Z"
   },
   {
    "duration": 0,
    "start_time": "2024-02-22T09:15:36.736Z"
   },
   {
    "duration": 45,
    "start_time": "2024-02-22T11:09:44.928Z"
   },
   {
    "duration": 48,
    "start_time": "2024-02-22T11:09:52.209Z"
   },
   {
    "duration": 39,
    "start_time": "2024-02-22T11:10:03.393Z"
   },
   {
    "duration": 47,
    "start_time": "2024-02-22T11:10:25.225Z"
   },
   {
    "duration": 14,
    "start_time": "2024-02-22T11:17:38.059Z"
   },
   {
    "duration": 50,
    "start_time": "2024-02-22T11:17:51.537Z"
   },
   {
    "duration": 59,
    "start_time": "2024-02-22T11:18:33.518Z"
   },
   {
    "duration": 49,
    "start_time": "2024-02-22T11:18:41.494Z"
   },
   {
    "duration": 50,
    "start_time": "2024-02-22T11:20:43.888Z"
   },
   {
    "duration": 6,
    "start_time": "2024-02-22T11:22:43.624Z"
   },
   {
    "duration": 1392,
    "start_time": "2024-02-22T11:23:24.804Z"
   },
   {
    "duration": 50,
    "start_time": "2024-02-22T11:27:49.724Z"
   },
   {
    "duration": 43,
    "start_time": "2024-02-22T11:28:02.575Z"
   },
   {
    "duration": 37,
    "start_time": "2024-02-22T11:28:28.595Z"
   },
   {
    "duration": 25,
    "start_time": "2024-02-22T11:30:20.059Z"
   },
   {
    "duration": 38,
    "start_time": "2024-02-22T11:31:40.660Z"
   },
   {
    "duration": 35,
    "start_time": "2024-02-22T11:31:47.385Z"
   },
   {
    "duration": 26,
    "start_time": "2024-02-22T11:32:07.245Z"
   },
   {
    "duration": 19,
    "start_time": "2024-02-22T11:32:23.191Z"
   },
   {
    "duration": 5,
    "start_time": "2024-02-22T11:33:33.026Z"
   },
   {
    "duration": 1169,
    "start_time": "2024-02-22T11:33:35.784Z"
   },
   {
    "duration": 1043,
    "start_time": "2024-02-22T11:35:30.666Z"
   },
   {
    "duration": 1190,
    "start_time": "2024-02-22T11:37:53.975Z"
   },
   {
    "duration": 186,
    "start_time": "2024-02-22T11:37:55.167Z"
   },
   {
    "duration": 4,
    "start_time": "2024-02-22T11:37:55.354Z"
   },
   {
    "duration": 172,
    "start_time": "2024-02-22T11:37:55.359Z"
   },
   {
    "duration": 14,
    "start_time": "2024-02-22T11:37:55.533Z"
   },
   {
    "duration": 63,
    "start_time": "2024-02-22T11:37:55.549Z"
   },
   {
    "duration": 186,
    "start_time": "2024-02-22T11:37:55.613Z"
   },
   {
    "duration": 48,
    "start_time": "2024-02-22T11:37:55.800Z"
   },
   {
    "duration": 6,
    "start_time": "2024-02-22T11:37:55.850Z"
   },
   {
    "duration": 22,
    "start_time": "2024-02-22T11:37:55.859Z"
   },
   {
    "duration": 30,
    "start_time": "2024-02-22T11:37:55.882Z"
   },
   {
    "duration": 31,
    "start_time": "2024-02-22T11:37:55.914Z"
   },
   {
    "duration": 419,
    "start_time": "2024-02-22T11:37:55.947Z"
   },
   {
    "duration": 18,
    "start_time": "2024-02-22T11:37:56.368Z"
   },
   {
    "duration": 39,
    "start_time": "2024-02-22T11:37:56.387Z"
   },
   {
    "duration": 33,
    "start_time": "2024-02-22T11:37:56.428Z"
   },
   {
    "duration": 31,
    "start_time": "2024-02-22T11:37:56.462Z"
   },
   {
    "duration": 82,
    "start_time": "2024-02-22T11:37:56.494Z"
   },
   {
    "duration": 13,
    "start_time": "2024-02-22T11:37:56.578Z"
   },
   {
    "duration": 8,
    "start_time": "2024-02-22T11:37:56.593Z"
   },
   {
    "duration": 158,
    "start_time": "2024-02-22T11:37:56.602Z"
   },
   {
    "duration": 71,
    "start_time": "2024-02-22T11:37:56.761Z"
   },
   {
    "duration": 98,
    "start_time": "2024-02-22T11:37:56.833Z"
   },
   {
    "duration": 136,
    "start_time": "2024-02-22T11:37:56.932Z"
   },
   {
    "duration": 13,
    "start_time": "2024-02-22T11:37:57.069Z"
   },
   {
    "duration": 3807,
    "start_time": "2024-02-22T11:37:57.084Z"
   },
   {
    "duration": 8,
    "start_time": "2024-02-22T11:38:00.893Z"
   },
   {
    "duration": 349,
    "start_time": "2024-02-22T11:38:00.904Z"
   },
   {
    "duration": 0,
    "start_time": "2024-02-22T11:38:01.254Z"
   },
   {
    "duration": 0,
    "start_time": "2024-02-22T11:38:01.255Z"
   },
   {
    "duration": 0,
    "start_time": "2024-02-22T11:38:01.256Z"
   },
   {
    "duration": 12,
    "start_time": "2024-02-22T11:38:21.439Z"
   },
   {
    "duration": 6,
    "start_time": "2024-02-22T11:38:22.584Z"
   },
   {
    "duration": 33,
    "start_time": "2024-02-22T11:38:25.230Z"
   },
   {
    "duration": 6,
    "start_time": "2024-02-22T11:40:39.740Z"
   },
   {
    "duration": 22,
    "start_time": "2024-02-22T11:40:42.049Z"
   },
   {
    "duration": 24,
    "start_time": "2024-02-22T11:43:57.920Z"
   },
   {
    "duration": 25,
    "start_time": "2024-02-22T11:44:01.785Z"
   },
   {
    "duration": 24,
    "start_time": "2024-02-22T11:44:02.415Z"
   },
   {
    "duration": 63,
    "start_time": "2024-02-22T11:47:03.535Z"
   },
   {
    "duration": 7,
    "start_time": "2024-02-22T11:47:29.454Z"
   },
   {
    "duration": 62,
    "start_time": "2024-02-22T11:47:30.110Z"
   },
   {
    "duration": 64,
    "start_time": "2024-02-22T11:48:58.609Z"
   },
   {
    "duration": 64,
    "start_time": "2024-02-22T11:49:47.324Z"
   },
   {
    "duration": 63,
    "start_time": "2024-02-22T11:50:33.209Z"
   },
   {
    "duration": 68,
    "start_time": "2024-02-22T11:58:49.628Z"
   },
   {
    "duration": 63,
    "start_time": "2024-02-22T11:58:59.885Z"
   },
   {
    "duration": 3799,
    "start_time": "2024-02-22T14:59:15.958Z"
   },
   {
    "duration": 1244,
    "start_time": "2024-02-22T16:55:48.535Z"
   },
   {
    "duration": 193,
    "start_time": "2024-02-22T16:55:49.781Z"
   },
   {
    "duration": 3,
    "start_time": "2024-02-22T16:55:49.976Z"
   },
   {
    "duration": 190,
    "start_time": "2024-02-22T16:55:49.981Z"
   },
   {
    "duration": 14,
    "start_time": "2024-02-22T16:55:50.173Z"
   },
   {
    "duration": 69,
    "start_time": "2024-02-22T16:55:50.189Z"
   },
   {
    "duration": 189,
    "start_time": "2024-02-22T16:55:50.259Z"
   },
   {
    "duration": 43,
    "start_time": "2024-02-22T16:55:50.449Z"
   },
   {
    "duration": 6,
    "start_time": "2024-02-22T16:55:50.494Z"
   },
   {
    "duration": 18,
    "start_time": "2024-02-22T16:55:50.524Z"
   },
   {
    "duration": 10,
    "start_time": "2024-02-22T16:55:50.544Z"
   },
   {
    "duration": 27,
    "start_time": "2024-02-22T16:55:50.556Z"
   },
   {
    "duration": 459,
    "start_time": "2024-02-22T16:55:50.584Z"
   },
   {
    "duration": 16,
    "start_time": "2024-02-22T16:55:51.045Z"
   },
   {
    "duration": 26,
    "start_time": "2024-02-22T16:55:51.063Z"
   },
   {
    "duration": 70,
    "start_time": "2024-02-22T16:55:51.091Z"
   },
   {
    "duration": 32,
    "start_time": "2024-02-22T16:55:51.163Z"
   },
   {
    "duration": 81,
    "start_time": "2024-02-22T16:55:51.197Z"
   },
   {
    "duration": 14,
    "start_time": "2024-02-22T16:55:51.279Z"
   },
   {
    "duration": 13,
    "start_time": "2024-02-22T16:55:51.295Z"
   },
   {
    "duration": 479,
    "start_time": "2024-02-22T16:55:51.310Z"
   },
   {
    "duration": 58,
    "start_time": "2024-02-22T16:55:51.791Z"
   },
   {
    "duration": 102,
    "start_time": "2024-02-22T16:55:51.851Z"
   },
   {
    "duration": 163,
    "start_time": "2024-02-22T16:55:51.955Z"
   },
   {
    "duration": 15,
    "start_time": "2024-02-22T16:55:52.122Z"
   },
   {
    "duration": 3858,
    "start_time": "2024-02-22T16:55:52.139Z"
   },
   {
    "duration": 26,
    "start_time": "2024-02-22T16:55:56.000Z"
   },
   {
    "duration": 36,
    "start_time": "2024-02-22T16:55:56.029Z"
   },
   {
    "duration": 69,
    "start_time": "2024-02-22T16:55:56.067Z"
   },
   {
    "duration": 23,
    "start_time": "2024-02-22T16:55:56.138Z"
   },
   {
    "duration": 78,
    "start_time": "2024-02-22T16:55:56.162Z"
   },
   {
    "duration": 14,
    "start_time": "2024-02-22T16:55:56.242Z"
   },
   {
    "duration": 8,
    "start_time": "2024-02-22T16:55:56.258Z"
   },
   {
    "duration": 137,
    "start_time": "2024-02-22T16:55:56.323Z"
   },
   {
    "duration": 167,
    "start_time": "2024-02-22T16:55:56.461Z"
   },
   {
    "duration": 64,
    "start_time": "2024-02-22T16:55:56.630Z"
   },
   {
    "duration": 83,
    "start_time": "2024-02-22T16:55:56.696Z"
   },
   {
    "duration": 62,
    "start_time": "2024-02-22T17:55:05.948Z"
   },
   {
    "duration": 1401,
    "start_time": "2024-02-22T17:56:19.933Z"
   },
   {
    "duration": 718,
    "start_time": "2024-02-22T17:56:21.336Z"
   },
   {
    "duration": 4,
    "start_time": "2024-02-22T17:56:22.055Z"
   },
   {
    "duration": 189,
    "start_time": "2024-02-22T17:56:22.061Z"
   },
   {
    "duration": 14,
    "start_time": "2024-02-22T17:56:22.253Z"
   },
   {
    "duration": 52,
    "start_time": "2024-02-22T17:56:22.279Z"
   },
   {
    "duration": 187,
    "start_time": "2024-02-22T17:56:22.332Z"
   },
   {
    "duration": 44,
    "start_time": "2024-02-22T17:56:22.521Z"
   },
   {
    "duration": 7,
    "start_time": "2024-02-22T17:56:22.581Z"
   },
   {
    "duration": 19,
    "start_time": "2024-02-22T17:56:22.590Z"
   },
   {
    "duration": 8,
    "start_time": "2024-02-22T17:56:22.611Z"
   },
   {
    "duration": 23,
    "start_time": "2024-02-22T17:56:22.620Z"
   },
   {
    "duration": 434,
    "start_time": "2024-02-22T17:56:22.644Z"
   },
   {
    "duration": 18,
    "start_time": "2024-02-22T17:56:23.082Z"
   },
   {
    "duration": 32,
    "start_time": "2024-02-22T17:56:23.102Z"
   },
   {
    "duration": 19,
    "start_time": "2024-02-22T17:56:23.135Z"
   },
   {
    "duration": 58,
    "start_time": "2024-02-22T17:56:23.155Z"
   },
   {
    "duration": 38,
    "start_time": "2024-02-22T17:56:23.215Z"
   },
   {
    "duration": 90,
    "start_time": "2024-02-22T17:56:23.255Z"
   },
   {
    "duration": 13,
    "start_time": "2024-02-22T17:56:23.347Z"
   },
   {
    "duration": 35,
    "start_time": "2024-02-22T17:56:23.362Z"
   },
   {
    "duration": 201,
    "start_time": "2024-02-22T17:56:23.398Z"
   },
   {
    "duration": 34,
    "start_time": "2024-02-22T17:56:23.601Z"
   },
   {
    "duration": 86,
    "start_time": "2024-02-22T17:56:23.637Z"
   },
   {
    "duration": 188,
    "start_time": "2024-02-22T17:56:23.724Z"
   },
   {
    "duration": 14,
    "start_time": "2024-02-22T17:56:23.913Z"
   },
   {
    "duration": 3859,
    "start_time": "2024-02-22T17:56:23.929Z"
   },
   {
    "duration": 8,
    "start_time": "2024-02-22T17:56:27.790Z"
   },
   {
    "duration": 85,
    "start_time": "2024-02-22T17:56:27.800Z"
   },
   {
    "duration": 22,
    "start_time": "2024-02-22T17:56:27.886Z"
   },
   {
    "duration": 76,
    "start_time": "2024-02-22T17:56:27.910Z"
   },
   {
    "duration": 21,
    "start_time": "2024-02-22T17:56:27.988Z"
   },
   {
    "duration": 12,
    "start_time": "2024-02-22T17:56:28.011Z"
   },
   {
    "duration": 57,
    "start_time": "2024-02-22T17:56:28.025Z"
   },
   {
    "duration": 118,
    "start_time": "2024-02-22T17:56:28.084Z"
   },
   {
    "duration": 108,
    "start_time": "2024-02-22T17:56:28.203Z"
   },
   {
    "duration": 68,
    "start_time": "2024-02-22T17:56:28.313Z"
   },
   {
    "duration": 61,
    "start_time": "2024-02-22T17:56:28.383Z"
   },
   {
    "duration": 19,
    "start_time": "2024-02-22T17:59:34.541Z"
   },
   {
    "duration": 28,
    "start_time": "2024-02-22T17:59:58.209Z"
   },
   {
    "duration": 18,
    "start_time": "2024-02-22T18:00:37.038Z"
   },
   {
    "duration": 19,
    "start_time": "2024-02-22T18:01:06.601Z"
   },
   {
    "duration": 19,
    "start_time": "2024-02-22T18:01:41.612Z"
   },
   {
    "duration": 18,
    "start_time": "2024-02-22T18:02:13.722Z"
   }
  ],
  "kernelspec": {
   "display_name": "Python 3",
   "language": "python",
   "name": "python3"
  },
  "language_info": {
   "codemirror_mode": {
    "name": "ipython",
    "version": 3
   },
   "file_extension": ".py",
   "mimetype": "text/x-python",
   "name": "python",
   "nbconvert_exporter": "python",
   "pygments_lexer": "ipython3",
   "version": "3.8.5"
  },
  "toc": {
   "base_numbering": 1,
   "nav_menu": {
    "height": "144.983px",
    "width": "255.633px"
   },
   "number_sections": true,
   "sideBar": true,
   "skip_h1_title": true,
   "title_cell": "Table of Contents",
   "title_sidebar": "Contents",
   "toc_cell": false,
   "toc_position": {
    "height": "calc(100% - 180px)",
    "left": "10px",
    "top": "150px",
    "width": "311.667px"
   },
   "toc_section_display": true,
   "toc_window_display": true
  }
 },
 "nbformat": 4,
 "nbformat_minor": 2
}
