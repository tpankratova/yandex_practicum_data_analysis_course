{
 "cells": [
  {
   "cell_type": "markdown",
   "metadata": {},
   "source": [
    "# Analysis of the popular GoFast scooter rental service.\n",
    "\n",
    "Data on some users from several cities and their rides have been provided. It is necessary to analyze the data and check some hypotheses that may help the business grow.\n",
    "\n",
    "Riding around the city, users of the GoFast service use a mobile application. The service can be used in two ways:\n",
    "- without a subscription\n",
    "  - no subscription fee;\n",
    "  - the cost of one minute of ride is 8 rubles;\n",
    "  - the cost of starting ride is 50 rubles;\n",
    "- with an Ultra subscription\n",
    "  - subscription fee - 199 rubles per month;\n",
    "  - the cost of one minute of ride is 6 rubles;\n",
    "  - the cost of starting ride is free.\n",
    "\n",
    "**Data Description**.\n",
    "The main data includes information about users, their rides, and subscriptions.\n",
    "\n",
    "Users - **users_go.csv**\n",
    "* user_id - unique user identifier\n",
    "* name - user's name\n",
    "* age - age\n",
    "* city - city\n",
    "* subscription_type - subscription type (free, ultra)\n",
    "\n",
    "Trips - **rides_go.csv**\n",
    "* user_id - unique user identifier\n",
    "* distance - the distance the user rided in the current session (in meters)\n",
    "* duration - session duration (in minutes) - the time from when the user pressed the \"Start ride\" button until he pressed the \"End ride\" button\n",
    "* date - date of the ride\n",
    "\n",
    "Subscriptions - **subscriptions_go.csv**\n",
    "* subscription_type - subscription type\n",
    "* minute_price - cost of one minute of ride under this subscription\n",
    "* start_ride_price - ride start price\n",
    "* subscription_fee - monthly subscription fee"
   ]
  },
  {
   "cell_type": "markdown",
   "metadata": {},
   "source": [
    "# Project Summary\n",
    "\n",
    "[1. Data loading](#1.-Data-loading)\n",
    "\n",
    "[2. Data preprocessing](#2.-Data-preprocessing)\n",
    "   - [Task 1. Check missing data in dataframes](#Task-1.-Check-missing-data-in-dataframes)\n",
    "   - [Task 2. Add month to dataframe `rides`](#Task-2.-Add-month-to-dataframe-rides)\n",
    "   - [Task 3. Checking several columns for indicating implicit duplicates - name, city, subscription_type. Explicit duplicates were not found.](#Task-3.-Checking-several-columns-for-indicating-implicit-duplicates---name-city-subscription_type.-Explicit-duplicates-were-not-found.)\n",
    "   \n",
    "[3. Exploratory data analysis](#3.-Exploratory-data-analysis)\n",
    "   - [Task 1. Frequency of cities occurrence;](#Task-1.-Frequency-of-cities-occurrence;)\n",
    "   - [Task 2. Ratio of users with and without a subscription;](#Task-2.-Ratio-of-users-with-and-without-a-subscription;)\n",
    "   - [Task 3. User's age;](#Task-3.-User's-age;)\n",
    "   - [Task 4. Distance per 1 ride per user;](#Task-4.-Distance-per-1-ride-per-user;)\n",
    "   - [Task 5. Rides duration.](#Task-5.-Rides-duration.)\n",
    "   \n",
    "[4. Data merging](#4.-Data-merging)\n",
    "   - [Task 1. Merging data of users, rides and subscriptions to uniformed dataframe.](#Task-1.-Merging-data-of-users,-rides-and-subscriptions-to-uniformed-dataframe.)\n",
    "   - [Task 2. Create new 2 dataframes from merged dataframe:](#Task-2.-Create-new-2-dataframes-from-merged-dataframe:)\n",
    "   \n",
    "[5. Revenue calculation](#5.-Revenue-calculation)\n",
    "   - [Task 1. Creating a dataframe with aggregated rides data based on the dataframe with combined data from 4 sections: finding the total distance, number of rides, and total ride duration for each user per each month.](#Task-1.-Creating-a-dataframe-with-aggregated-rides-data-based-on-the-dataframe-with-combined-data-from-4-sections:-finding-the-total-distance,-number-of-rides,-and-total-ride-duration-for-each-user-per-each-month.)\n",
    "   - [Task 2. Add column with monthly revenue](#Task-2.-Add-column-with-monthly-revenue)\n",
    "[6. Hypotheses testing](#6.-Hypotheses-testing)\n",
    "   - [Task 1. Testing whether ultrs users spend more time on rides. If so, users with a subscription may be \"more profitable\" for the company.](#Task-1.-Testing-whether-ultrs-users-spend-more-time-on-rides.-If-so,-users-with-a-subscription-may-be-\"more-profitable\"-for-the-company.)\n",
    "   - [Task 2. Distance of 1 ride as 3130 m is optimal in terms of scooter wear and tear. Is it true that average  distance for ultra user per 1 ride not higher than 3130 m?](#Task-2.-Distance-of-1-ride-as-3130-m-is-optimal-in-terms-of-scooter-wear-and-tear.-Is-it-true-that-average-distance-for-ultra-user-per-1-ride-not-higher-than-3130-m?)\n",
    "   - [Task 3. Testing hypothesis of  monthly revenue: Is monthly revenue of ultra users higher than of free users?](#Task-3.-Testing-hypothesis-of--monthly-revenue:-Is-monthly-revenue-of-ultra-users-higher-than-of-free-users?)\n",
    "   - [Task 4. Imagine a situation: the technical team of the service has updated the servers with which the mobile application interacts. She hopes that because of this, the number of calls to technical support has significantly decreased. Some file contains data for each user on the number of requests before and after the update. What stat test would you need to test this hypothesis?](#Task-4.-Imagine-a-situation:-the-technical-team-of-the-service-has-updated-the-servers-with-which-the-mobile-application-interacts.-She-hopes-that-because-of-this,-the-number-of-calls-to-technical-support-has-significantly-decreased.-Some-file-contains-data-for-each-user-on-the-number-of-requests-before-and-after-the-update.-What-stat-test-would-you-need-to-test-this-hypothesis?)\n",
    "   \n",
    "[7. Distributions](#7.-Distributions)\n",
    "   - [Task 1. The GoFast marketing department has been given a task: it is necessary to hold an action with the distribution of promo codes for one month of free subscription, where at least 100 existing customers must renew this subscription. User can either cancel it or extend it by making the appropriate payment at the end of the subscription period](#Task-1.-The-GoFast-marketing-department-has-been-given-a-task:-it-is-necessary-to-hold-an-action-with-the-distribution-of-promo-codes-for-one-month-of-free-subscription,-where-at-least-100-existing-customers-must-renew-this-subscription.-User-can-either-cancel-it-or-extend-it-by-making-the-appropriate-payment-at-the-end-of-the-subscription-period)\n",
    "   - [Task 2. The marketing department sends push notifications to customers in mobile app. Customers can open it or not open it. It is known that about 40% of received clients open notifications. Department plans to send out 1 million notifications. Use the approximation to build approximate distribution graph and estimate probability that no more than 399.5 thousand users open notification.](#Task-2.-The-marketing-department-sends-push-notifications-to-customers-in-mobile-app.-Customers-can-open-it-or-not-open-it.-It-is-known-that-about-40%-of-received-clients-open-notifications.-Department-plans-to-send-out-1-million-notifications.-Use-the-approximation-to-build-approximate-distribution-graph-and-estimate-probability-that-no-more-than-399.5-thousand-users-open-notification.)\n",
    "\n",
    "[Project summary](#Project-summary)\n"
   ]
  },
  {
   "cell_type": "markdown",
   "metadata": {},
   "source": [
    "## 1. Data loading"
   ]
  },
  {
   "cell_type": "markdown",
   "metadata": {},
   "source": [
    "Loading the data from CSV files into dataframes using libraries."
   ]
  },
  {
   "cell_type": "code",
   "execution_count": 2,
   "metadata": {},
   "outputs": [],
   "source": [
    "import matplotlib.pyplot as plt\n",
    "import seaborn as sns\n",
    "from math import sqrt, factorial\n",
    "from scipy import stats as st\n",
    "from scipy.stats import binom, poisson, norm\n",
    "import pandas as pd\n",
    "import numpy as np"
   ]
  },
  {
   "cell_type": "code",
   "execution_count": 3,
   "metadata": {},
   "outputs": [],
   "source": [
    "try:\n",
    "    users = pd.read_csv('users_go.csv')\n",
    "    rides = pd.read_csv('rides_go.csv', parse_dates=['date']) # convert date to datetime64[ns] type\n",
    "    subscript = pd.read_csv('subscriptions_go.csv')\n",
    "except FileNotFoundError as e:\n",
    "    print(\"File not found:\", e)\n",
    "except Exception as e:\n",
    "    print(\"An error occurred:\", e)"
   ]
  },
  {
   "cell_type": "markdown",
   "metadata": {},
   "source": [
    "Looking at the data in each dataframe. Displaing a few rows for each dataframe and check the general information."
   ]
  },
  {
   "cell_type": "code",
   "execution_count": 4,
   "metadata": {},
   "outputs": [
    {
     "name": "stdout",
     "output_type": "stream",
     "text": [
      "DataFrame: Users\n",
      "Head:\n",
      "   user_id        name  age            city subscription_type\n",
      "0        1        Кира   22          Тюмень             ultra\n",
      "1        2   Станислав   31            Омск             ultra\n",
      "2        3     Алексей   20          Москва             ultra\n",
      "3        4  Константин   26  Ростов-на-Дону             ultra\n",
      "4        5       Адель   28            Омск             ultra\n",
      "\n",
      "Info:\n",
      "<class 'pandas.core.frame.DataFrame'>\n",
      "RangeIndex: 1565 entries, 0 to 1564\n",
      "Data columns (total 5 columns):\n",
      " #   Column             Non-Null Count  Dtype \n",
      "---  ------             --------------  ----- \n",
      " 0   user_id            1565 non-null   int64 \n",
      " 1   name               1565 non-null   object\n",
      " 2   age                1565 non-null   int64 \n",
      " 3   city               1565 non-null   object\n",
      " 4   subscription_type  1565 non-null   object\n",
      "dtypes: int64(2), object(3)\n",
      "memory usage: 61.3+ KB\n",
      "None\n",
      "--------------------------------------------------\n",
      "DataFrame: Rides\n",
      "Head:\n",
      "   user_id     distance   duration       date\n",
      "0        1  4409.919140  25.599769 2021-01-01\n",
      "1        1  2617.592153  15.816871 2021-01-18\n",
      "2        1   754.159807   6.232113 2021-04-20\n",
      "3        1  2694.783254  18.511000 2021-08-11\n",
      "4        1  4028.687306  26.265803 2021-08-28\n",
      "\n",
      "Info:\n",
      "<class 'pandas.core.frame.DataFrame'>\n",
      "RangeIndex: 18068 entries, 0 to 18067\n",
      "Data columns (total 4 columns):\n",
      " #   Column    Non-Null Count  Dtype         \n",
      "---  ------    --------------  -----         \n",
      " 0   user_id   18068 non-null  int64         \n",
      " 1   distance  18068 non-null  float64       \n",
      " 2   duration  18068 non-null  float64       \n",
      " 3   date      18068 non-null  datetime64[ns]\n",
      "dtypes: datetime64[ns](1), float64(2), int64(1)\n",
      "memory usage: 564.8 KB\n",
      "None\n",
      "--------------------------------------------------\n",
      "DataFrame: Subscriptions\n",
      "Head:\n",
      "  subscription_type  minute_price  start_ride_price  subscription_fee\n",
      "0              free             8                50                 0\n",
      "1             ultra             6                 0               199\n",
      "\n",
      "Info:\n",
      "<class 'pandas.core.frame.DataFrame'>\n",
      "RangeIndex: 2 entries, 0 to 1\n",
      "Data columns (total 4 columns):\n",
      " #   Column             Non-Null Count  Dtype \n",
      "---  ------             --------------  ----- \n",
      " 0   subscription_type  2 non-null      object\n",
      " 1   minute_price       2 non-null      int64 \n",
      " 2   start_ride_price   2 non-null      int64 \n",
      " 3   subscription_fee   2 non-null      int64 \n",
      "dtypes: int64(3), object(1)\n",
      "memory usage: 192.0+ bytes\n",
      "None\n",
      "--------------------------------------------------\n"
     ]
    }
   ],
   "source": [
    "#  writing a function to display general information\n",
    "def display_info(df, name):\n",
    "    print(f\"DataFrame: {name}\")\n",
    "    print(\"Head:\")\n",
    "    print(df.head())\n",
    "    print(\"\\nInfo:\")\n",
    "    print(df.info())\n",
    "    print(\"-\" * 50)\n",
    "\n",
    "# calling the function for each dataframe\n",
    "display_info(users, \"Users\")\n",
    "display_info(rides, \"Rides\")\n",
    "display_info(subscript, \"Subscriptions\")"
   ]
  },
  {
   "cell_type": "markdown",
   "metadata": {},
   "source": [
    "**Section summary**. \n",
    "\n",
    "We can say that at first glance there are no serious problems with the data - there are no missing values, and the data types are specified correctly. During the preprocessing, we additionally check the data for missing values, explicit/implicit duplicates and, if necessary, change the data type."
   ]
  },
  {
   "cell_type": "markdown",
   "metadata": {},
   "source": [
    "## 2. Data preprocessing"
   ]
  },
  {
   "cell_type": "markdown",
   "metadata": {},
   "source": [
    "### Task 1. Check missing data in dataframes"
   ]
  },
  {
   "cell_type": "code",
   "execution_count": 5,
   "metadata": {},
   "outputs": [
    {
     "data": {
      "text/html": [
       "<style  type=\"text/css\" >\n",
       "#T_9885ac72_0e17_11ef_a6cf_5405db6b27aarow0_col0,#T_9885ac72_0e17_11ef_a6cf_5405db6b27aarow1_col0,#T_9885ac72_0e17_11ef_a6cf_5405db6b27aarow2_col0,#T_9885ac72_0e17_11ef_a6cf_5405db6b27aarow3_col0{\n",
       "            background-color:  #3b4cc0;\n",
       "            color:  #f1f1f1;\n",
       "        }</style><table id=\"T_9885ac72_0e17_11ef_a6cf_5405db6b27aa\" ><thead>    <tr>        <th class=\"blank level0\" ></th>        <th class=\"col_heading level0 col0\" >0</th>    </tr></thead><tbody>\n",
       "                <tr>\n",
       "                        <th id=\"T_9885ac72_0e17_11ef_a6cf_5405db6b27aalevel0_row0\" class=\"row_heading level0 row0\" >subscription_type</th>\n",
       "                        <td id=\"T_9885ac72_0e17_11ef_a6cf_5405db6b27aarow0_col0\" class=\"data row0 col0\" >0.000000</td>\n",
       "            </tr>\n",
       "            <tr>\n",
       "                        <th id=\"T_9885ac72_0e17_11ef_a6cf_5405db6b27aalevel0_row1\" class=\"row_heading level0 row1\" >minute_price</th>\n",
       "                        <td id=\"T_9885ac72_0e17_11ef_a6cf_5405db6b27aarow1_col0\" class=\"data row1 col0\" >0.000000</td>\n",
       "            </tr>\n",
       "            <tr>\n",
       "                        <th id=\"T_9885ac72_0e17_11ef_a6cf_5405db6b27aalevel0_row2\" class=\"row_heading level0 row2\" >start_ride_price</th>\n",
       "                        <td id=\"T_9885ac72_0e17_11ef_a6cf_5405db6b27aarow2_col0\" class=\"data row2 col0\" >0.000000</td>\n",
       "            </tr>\n",
       "            <tr>\n",
       "                        <th id=\"T_9885ac72_0e17_11ef_a6cf_5405db6b27aalevel0_row3\" class=\"row_heading level0 row3\" >subscription_fee</th>\n",
       "                        <td id=\"T_9885ac72_0e17_11ef_a6cf_5405db6b27aarow3_col0\" class=\"data row3 col0\" >0.000000</td>\n",
       "            </tr>\n",
       "    </tbody></table>"
      ],
      "text/plain": [
       "<pandas.io.formats.style.Styler at 0x1ca4e670bb0>"
      ]
     },
     "execution_count": 5,
     "metadata": {},
     "output_type": "execute_result"
    }
   ],
   "source": [
    "pd.DataFrame(round(subscript.isna().mean()*100,1)).style.background_gradient('coolwarm')"
   ]
  },
  {
   "cell_type": "code",
   "execution_count": 6,
   "metadata": {},
   "outputs": [
    {
     "data": {
      "text/html": [
       "<style  type=\"text/css\" >\n",
       "#T_98881d91_0e17_11ef_87cb_5405db6b27aarow0_col0,#T_98881d91_0e17_11ef_87cb_5405db6b27aarow1_col0,#T_98881d91_0e17_11ef_87cb_5405db6b27aarow2_col0,#T_98881d91_0e17_11ef_87cb_5405db6b27aarow3_col0,#T_98881d91_0e17_11ef_87cb_5405db6b27aarow4_col0{\n",
       "            background-color:  #3b4cc0;\n",
       "            color:  #f1f1f1;\n",
       "        }</style><table id=\"T_98881d91_0e17_11ef_87cb_5405db6b27aa\" ><thead>    <tr>        <th class=\"blank level0\" ></th>        <th class=\"col_heading level0 col0\" >0</th>    </tr></thead><tbody>\n",
       "                <tr>\n",
       "                        <th id=\"T_98881d91_0e17_11ef_87cb_5405db6b27aalevel0_row0\" class=\"row_heading level0 row0\" >user_id</th>\n",
       "                        <td id=\"T_98881d91_0e17_11ef_87cb_5405db6b27aarow0_col0\" class=\"data row0 col0\" >0.000000</td>\n",
       "            </tr>\n",
       "            <tr>\n",
       "                        <th id=\"T_98881d91_0e17_11ef_87cb_5405db6b27aalevel0_row1\" class=\"row_heading level0 row1\" >name</th>\n",
       "                        <td id=\"T_98881d91_0e17_11ef_87cb_5405db6b27aarow1_col0\" class=\"data row1 col0\" >0.000000</td>\n",
       "            </tr>\n",
       "            <tr>\n",
       "                        <th id=\"T_98881d91_0e17_11ef_87cb_5405db6b27aalevel0_row2\" class=\"row_heading level0 row2\" >age</th>\n",
       "                        <td id=\"T_98881d91_0e17_11ef_87cb_5405db6b27aarow2_col0\" class=\"data row2 col0\" >0.000000</td>\n",
       "            </tr>\n",
       "            <tr>\n",
       "                        <th id=\"T_98881d91_0e17_11ef_87cb_5405db6b27aalevel0_row3\" class=\"row_heading level0 row3\" >city</th>\n",
       "                        <td id=\"T_98881d91_0e17_11ef_87cb_5405db6b27aarow3_col0\" class=\"data row3 col0\" >0.000000</td>\n",
       "            </tr>\n",
       "            <tr>\n",
       "                        <th id=\"T_98881d91_0e17_11ef_87cb_5405db6b27aalevel0_row4\" class=\"row_heading level0 row4\" >subscription_type</th>\n",
       "                        <td id=\"T_98881d91_0e17_11ef_87cb_5405db6b27aarow4_col0\" class=\"data row4 col0\" >0.000000</td>\n",
       "            </tr>\n",
       "    </tbody></table>"
      ],
      "text/plain": [
       "<pandas.io.formats.style.Styler at 0x1ca4ed137f0>"
      ]
     },
     "execution_count": 6,
     "metadata": {},
     "output_type": "execute_result"
    }
   ],
   "source": [
    "pd.DataFrame(round(users.isna().mean()*100,1)).style.background_gradient('coolwarm')"
   ]
  },
  {
   "cell_type": "code",
   "execution_count": 7,
   "metadata": {},
   "outputs": [
    {
     "data": {
      "text/html": [
       "<style  type=\"text/css\" >\n",
       "#T_988ab53c_0e17_11ef_b34a_5405db6b27aarow0_col0,#T_988ab53c_0e17_11ef_b34a_5405db6b27aarow1_col0,#T_988ab53c_0e17_11ef_b34a_5405db6b27aarow2_col0,#T_988ab53c_0e17_11ef_b34a_5405db6b27aarow3_col0{\n",
       "            background-color:  #3b4cc0;\n",
       "            color:  #f1f1f1;\n",
       "        }</style><table id=\"T_988ab53c_0e17_11ef_b34a_5405db6b27aa\" ><thead>    <tr>        <th class=\"blank level0\" ></th>        <th class=\"col_heading level0 col0\" >0</th>    </tr></thead><tbody>\n",
       "                <tr>\n",
       "                        <th id=\"T_988ab53c_0e17_11ef_b34a_5405db6b27aalevel0_row0\" class=\"row_heading level0 row0\" >user_id</th>\n",
       "                        <td id=\"T_988ab53c_0e17_11ef_b34a_5405db6b27aarow0_col0\" class=\"data row0 col0\" >0.000000</td>\n",
       "            </tr>\n",
       "            <tr>\n",
       "                        <th id=\"T_988ab53c_0e17_11ef_b34a_5405db6b27aalevel0_row1\" class=\"row_heading level0 row1\" >distance</th>\n",
       "                        <td id=\"T_988ab53c_0e17_11ef_b34a_5405db6b27aarow1_col0\" class=\"data row1 col0\" >0.000000</td>\n",
       "            </tr>\n",
       "            <tr>\n",
       "                        <th id=\"T_988ab53c_0e17_11ef_b34a_5405db6b27aalevel0_row2\" class=\"row_heading level0 row2\" >duration</th>\n",
       "                        <td id=\"T_988ab53c_0e17_11ef_b34a_5405db6b27aarow2_col0\" class=\"data row2 col0\" >0.000000</td>\n",
       "            </tr>\n",
       "            <tr>\n",
       "                        <th id=\"T_988ab53c_0e17_11ef_b34a_5405db6b27aalevel0_row3\" class=\"row_heading level0 row3\" >date</th>\n",
       "                        <td id=\"T_988ab53c_0e17_11ef_b34a_5405db6b27aarow3_col0\" class=\"data row3 col0\" >0.000000</td>\n",
       "            </tr>\n",
       "    </tbody></table>"
      ],
      "text/plain": [
       "<pandas.io.formats.style.Styler at 0x1ca0ccf71c0>"
      ]
     },
     "execution_count": 7,
     "metadata": {},
     "output_type": "execute_result"
    }
   ],
   "source": [
    "pd.DataFrame(round(rides.isna().mean()*100,1)).style.background_gradient('coolwarm')"
   ]
  },
  {
   "cell_type": "markdown",
   "metadata": {},
   "source": [
    "No missing data in dataframes"
   ]
  },
  {
   "cell_type": "markdown",
   "metadata": {},
   "source": [
    "### Task 2. Add month to dataframe `rides`"
   ]
  },
  {
   "cell_type": "markdown",
   "metadata": {},
   "source": [
    "Check dates interval - is that within one year?"
   ]
  },
  {
   "cell_type": "code",
   "execution_count": 8,
   "metadata": {
    "scrolled": true
   },
   "outputs": [
    {
     "data": {
      "text/plain": [
       "array([2021], dtype=int64)"
      ]
     },
     "execution_count": 8,
     "metadata": {},
     "output_type": "execute_result"
    }
   ],
   "source": [
    "rides['year'] = rides['date'].dt.year\n",
    "rides['year'].unique()"
   ]
  },
  {
   "cell_type": "code",
   "execution_count": 9,
   "metadata": {},
   "outputs": [],
   "source": [
    "# delete year after checking \n",
    "rides.drop('year', axis=1 , inplace=True)"
   ]
  },
  {
   "cell_type": "code",
   "execution_count": 10,
   "metadata": {},
   "outputs": [],
   "source": [
    "rides['month_of_date'] = rides['date'].dt.month"
   ]
  },
  {
   "cell_type": "code",
   "execution_count": 11,
   "metadata": {
    "scrolled": true
   },
   "outputs": [
    {
     "data": {
      "text/html": [
       "<div>\n",
       "<style scoped>\n",
       "    .dataframe tbody tr th:only-of-type {\n",
       "        vertical-align: middle;\n",
       "    }\n",
       "\n",
       "    .dataframe tbody tr th {\n",
       "        vertical-align: top;\n",
       "    }\n",
       "\n",
       "    .dataframe thead th {\n",
       "        text-align: right;\n",
       "    }\n",
       "</style>\n",
       "<table border=\"1\" class=\"dataframe\">\n",
       "  <thead>\n",
       "    <tr style=\"text-align: right;\">\n",
       "      <th></th>\n",
       "      <th>user_id</th>\n",
       "      <th>distance</th>\n",
       "      <th>duration</th>\n",
       "      <th>date</th>\n",
       "      <th>month_of_date</th>\n",
       "    </tr>\n",
       "  </thead>\n",
       "  <tbody>\n",
       "    <tr>\n",
       "      <th>4676</th>\n",
       "      <td>504</td>\n",
       "      <td>3425.841575</td>\n",
       "      <td>21.846906</td>\n",
       "      <td>2021-04-14</td>\n",
       "      <td>4</td>\n",
       "    </tr>\n",
       "    <tr>\n",
       "      <th>7596</th>\n",
       "      <td>779</td>\n",
       "      <td>5120.855313</td>\n",
       "      <td>20.290053</td>\n",
       "      <td>2021-09-16</td>\n",
       "      <td>9</td>\n",
       "    </tr>\n",
       "    <tr>\n",
       "      <th>13493</th>\n",
       "      <td>1210</td>\n",
       "      <td>5390.244466</td>\n",
       "      <td>24.152230</td>\n",
       "      <td>2021-05-17</td>\n",
       "      <td>5</td>\n",
       "    </tr>\n",
       "    <tr>\n",
       "      <th>15123</th>\n",
       "      <td>1325</td>\n",
       "      <td>1967.372638</td>\n",
       "      <td>11.621065</td>\n",
       "      <td>2021-06-22</td>\n",
       "      <td>6</td>\n",
       "    </tr>\n",
       "    <tr>\n",
       "      <th>94</th>\n",
       "      <td>9</td>\n",
       "      <td>2798.834754</td>\n",
       "      <td>16.838426</td>\n",
       "      <td>2021-06-30</td>\n",
       "      <td>6</td>\n",
       "    </tr>\n",
       "  </tbody>\n",
       "</table>\n",
       "</div>"
      ],
      "text/plain": [
       "       user_id     distance   duration       date  month_of_date\n",
       "4676       504  3425.841575  21.846906 2021-04-14              4\n",
       "7596       779  5120.855313  20.290053 2021-09-16              9\n",
       "13493     1210  5390.244466  24.152230 2021-05-17              5\n",
       "15123     1325  1967.372638  11.621065 2021-06-22              6\n",
       "94           9  2798.834754  16.838426 2021-06-30              6"
      ]
     },
     "execution_count": 11,
     "metadata": {},
     "output_type": "execute_result"
    }
   ],
   "source": [
    "# look at data again\n",
    "rides.sample(5)"
   ]
  },
  {
   "cell_type": "markdown",
   "metadata": {},
   "source": [
    "### Task 3. Checking several columns for indicating implicit duplicates  - name, city, subscription_type. Explicit duplicates were not found."
   ]
  },
  {
   "cell_type": "code",
   "execution_count": 12,
   "metadata": {},
   "outputs": [
    {
     "data": {
      "text/plain": [
       "array(['Кира', 'Станислав', 'Алексей', 'Константин', 'Адель', 'Регина',\n",
       "       'Игорь', 'Юрий', 'Ян', 'Валерий', 'Агата', 'Марк', 'Ева',\n",
       "       'Антонина', 'Валерия', 'Амалия', 'Даниил', 'Аделина', 'Святогор',\n",
       "       'Борис', 'Вероника', 'Ростислав', 'Назар', 'Эдуард', 'Василий',\n",
       "       'Денис', 'Тамара', 'Николай', 'Эвелина', 'Федор', 'Руслан', 'Иван',\n",
       "       'Любовь', 'Ярослава', 'Майя', 'Ильдар', 'Данила', 'Нина',\n",
       "       'Стефания', 'Ясмина', 'Дмитрий', 'Александр', 'Одиссей', 'Арсений',\n",
       "       'Алла', 'Таисия', 'Максим', 'Юлиана', 'Павел', 'Карина', 'Алиса',\n",
       "       'Лидия', 'Рамиль', 'Родион', 'Ника', 'Оксана', 'Анастасия',\n",
       "       'Маргарита', 'Вера', 'Тимур', 'Никита', 'Лев', 'Влад', 'Артур',\n",
       "       'Анна', 'Ольга', 'Вячеслав', 'Ксения', 'Виталина', 'Владислав',\n",
       "       'Тамерлан', 'Амина', 'Вадим', 'Олеся', 'Зарина', 'Егор', 'Гордей',\n",
       "       'Лилия', 'Святослав', 'Роберт', 'Амир', 'Влада', 'Богдан',\n",
       "       'Полина', 'Марат', 'Елисей', 'Макар', 'Алина', 'Глеб', 'Андрей',\n",
       "       'Альбина', 'Людмила', 'Марсель', 'Милена', 'Диана', 'Дарина',\n",
       "       'Данил', 'Артемий', 'Лиана', 'Альберт', 'Герман', 'Жанна', 'Нелли',\n",
       "       'Евгения', 'Ариана', 'Самира', 'Захар', 'Эльвира', 'Екатерина',\n",
       "       'Инна', 'Демид', 'Яна', 'Михаил', 'Татьяна', 'Степан', 'Мелания',\n",
       "       'Тимофей', 'Ирина', 'Анжелика', 'Владислава', 'Елизавета',\n",
       "       'Мадина', 'Снежана', 'Даниэль', 'Рустам', 'Каролина', 'Ангелина',\n",
       "       'Владимир', 'Виктория', 'Валентина', 'Семен', 'Арина', 'Лариса',\n",
       "       'Есения', 'Галина', 'Кирилл', 'Игнат', 'Виталий', 'Эмилия',\n",
       "       'Виолетта', 'Яромир', 'Софья', 'Мирослава', 'Евгений', 'Варвара',\n",
       "       'Платон', 'Наталия', 'Анатолий', 'Кристина', 'Всеволод', 'Дарья',\n",
       "       'Наташа', 'Мария', 'Марина', 'Василиса', 'Юлия', 'Илья', 'Злата',\n",
       "       'Роман', 'Наталья', 'Элина', 'Арсен', 'Айдар', 'Алия', 'Виктор',\n",
       "       'Мирон', 'Ульяна', 'Георгий', 'Петр', 'Эльмира', 'Олег', 'Дамир',\n",
       "       'Самир', 'Ярослав', 'Камилла', 'Сергей', 'Эмиль', 'Радмир',\n",
       "       'Савелий', 'Елена', 'Антон', 'Мирослав', 'София', 'Тихон', 'Артём',\n",
       "       'Давид', 'Григорий', 'Алёна', 'Светлана', 'Леонид', 'Александра',\n",
       "       'Василина', 'Милана', 'Матвей'], dtype=object)"
      ]
     },
     "execution_count": 12,
     "metadata": {},
     "output_type": "execute_result"
    }
   ],
   "source": [
    "users['name'].unique()"
   ]
  },
  {
   "cell_type": "markdown",
   "metadata": {},
   "source": [
    "Explicit duplicates were not found."
   ]
  },
  {
   "cell_type": "code",
   "execution_count": 13,
   "metadata": {},
   "outputs": [
    {
     "data": {
      "text/plain": [
       "array(['Тюмень', 'Омск', 'Москва', 'Ростов-на-Дону', 'Краснодар',\n",
       "       'Пятигорск', 'Екатеринбург', 'Сочи'], dtype=object)"
      ]
     },
     "execution_count": 13,
     "metadata": {},
     "output_type": "execute_result"
    }
   ],
   "source": [
    "users['city'].unique()"
   ]
  },
  {
   "cell_type": "markdown",
   "metadata": {},
   "source": [
    " Explicit duplicates were not found."
   ]
  },
  {
   "cell_type": "code",
   "execution_count": 14,
   "metadata": {
    "scrolled": false
   },
   "outputs": [
    {
     "data": {
      "text/plain": [
       "31"
      ]
     },
     "execution_count": 14,
     "metadata": {},
     "output_type": "execute_result"
    }
   ],
   "source": [
    "users.duplicated().sum()"
   ]
  },
  {
   "cell_type": "code",
   "execution_count": 15,
   "metadata": {
    "scrolled": false
   },
   "outputs": [
    {
     "data": {
      "text/html": [
       "<div>\n",
       "<style scoped>\n",
       "    .dataframe tbody tr th:only-of-type {\n",
       "        vertical-align: middle;\n",
       "    }\n",
       "\n",
       "    .dataframe tbody tr th {\n",
       "        vertical-align: top;\n",
       "    }\n",
       "\n",
       "    .dataframe thead th {\n",
       "        text-align: right;\n",
       "    }\n",
       "</style>\n",
       "<table border=\"1\" class=\"dataframe\">\n",
       "  <thead>\n",
       "    <tr style=\"text-align: right;\">\n",
       "      <th></th>\n",
       "      <th>user_id</th>\n",
       "      <th>name</th>\n",
       "      <th>age</th>\n",
       "      <th>city</th>\n",
       "      <th>subscription_type</th>\n",
       "    </tr>\n",
       "  </thead>\n",
       "  <tbody>\n",
       "    <tr>\n",
       "      <th>1534</th>\n",
       "      <td>293</td>\n",
       "      <td>Агата</td>\n",
       "      <td>26</td>\n",
       "      <td>Краснодар</td>\n",
       "      <td>ultra</td>\n",
       "    </tr>\n",
       "    <tr>\n",
       "      <th>1535</th>\n",
       "      <td>16</td>\n",
       "      <td>Амалия</td>\n",
       "      <td>27</td>\n",
       "      <td>Краснодар</td>\n",
       "      <td>ultra</td>\n",
       "    </tr>\n",
       "    <tr>\n",
       "      <th>1536</th>\n",
       "      <td>909</td>\n",
       "      <td>Константин</td>\n",
       "      <td>20</td>\n",
       "      <td>Екатеринбург</td>\n",
       "      <td>free</td>\n",
       "    </tr>\n",
       "    <tr>\n",
       "      <th>1537</th>\n",
       "      <td>403</td>\n",
       "      <td>Полина</td>\n",
       "      <td>19</td>\n",
       "      <td>Сочи</td>\n",
       "      <td>ultra</td>\n",
       "    </tr>\n",
       "    <tr>\n",
       "      <th>1538</th>\n",
       "      <td>908</td>\n",
       "      <td>Рустам</td>\n",
       "      <td>30</td>\n",
       "      <td>Тюмень</td>\n",
       "      <td>free</td>\n",
       "    </tr>\n",
       "    <tr>\n",
       "      <th>1539</th>\n",
       "      <td>43</td>\n",
       "      <td>Стефания</td>\n",
       "      <td>22</td>\n",
       "      <td>Омск</td>\n",
       "      <td>ultra</td>\n",
       "    </tr>\n",
       "    <tr>\n",
       "      <th>1540</th>\n",
       "      <td>127</td>\n",
       "      <td>Павел</td>\n",
       "      <td>25</td>\n",
       "      <td>Пятигорск</td>\n",
       "      <td>ultra</td>\n",
       "    </tr>\n",
       "    <tr>\n",
       "      <th>1541</th>\n",
       "      <td>659</td>\n",
       "      <td>Злата</td>\n",
       "      <td>27</td>\n",
       "      <td>Ростов-на-Дону</td>\n",
       "      <td>ultra</td>\n",
       "    </tr>\n",
       "    <tr>\n",
       "      <th>1542</th>\n",
       "      <td>204</td>\n",
       "      <td>Руслан</td>\n",
       "      <td>30</td>\n",
       "      <td>Пятигорск</td>\n",
       "      <td>ultra</td>\n",
       "    </tr>\n",
       "    <tr>\n",
       "      <th>1543</th>\n",
       "      <td>153</td>\n",
       "      <td>Герман</td>\n",
       "      <td>23</td>\n",
       "      <td>Москва</td>\n",
       "      <td>ultra</td>\n",
       "    </tr>\n",
       "    <tr>\n",
       "      <th>1544</th>\n",
       "      <td>1245</td>\n",
       "      <td>Регина</td>\n",
       "      <td>27</td>\n",
       "      <td>Пятигорск</td>\n",
       "      <td>free</td>\n",
       "    </tr>\n",
       "    <tr>\n",
       "      <th>1545</th>\n",
       "      <td>807</td>\n",
       "      <td>Александр</td>\n",
       "      <td>28</td>\n",
       "      <td>Екатеринбург</td>\n",
       "      <td>free</td>\n",
       "    </tr>\n",
       "    <tr>\n",
       "      <th>1546</th>\n",
       "      <td>924</td>\n",
       "      <td>Мария</td>\n",
       "      <td>23</td>\n",
       "      <td>Пятигорск</td>\n",
       "      <td>free</td>\n",
       "    </tr>\n",
       "    <tr>\n",
       "      <th>1547</th>\n",
       "      <td>635</td>\n",
       "      <td>Герман</td>\n",
       "      <td>21</td>\n",
       "      <td>Москва</td>\n",
       "      <td>ultra</td>\n",
       "    </tr>\n",
       "    <tr>\n",
       "      <th>1548</th>\n",
       "      <td>136</td>\n",
       "      <td>Марсель</td>\n",
       "      <td>25</td>\n",
       "      <td>Тюмень</td>\n",
       "      <td>ultra</td>\n",
       "    </tr>\n",
       "    <tr>\n",
       "      <th>1549</th>\n",
       "      <td>108</td>\n",
       "      <td>Влада</td>\n",
       "      <td>29</td>\n",
       "      <td>Тюмень</td>\n",
       "      <td>ultra</td>\n",
       "    </tr>\n",
       "    <tr>\n",
       "      <th>1550</th>\n",
       "      <td>737</td>\n",
       "      <td>Мелания</td>\n",
       "      <td>27</td>\n",
       "      <td>Ростов-на-Дону</td>\n",
       "      <td>free</td>\n",
       "    </tr>\n",
       "    <tr>\n",
       "      <th>1551</th>\n",
       "      <td>666</td>\n",
       "      <td>Зарина</td>\n",
       "      <td>29</td>\n",
       "      <td>Москва</td>\n",
       "      <td>ultra</td>\n",
       "    </tr>\n",
       "    <tr>\n",
       "      <th>1552</th>\n",
       "      <td>297</td>\n",
       "      <td>Егор</td>\n",
       "      <td>33</td>\n",
       "      <td>Пятигорск</td>\n",
       "      <td>ultra</td>\n",
       "    </tr>\n",
       "    <tr>\n",
       "      <th>1553</th>\n",
       "      <td>121</td>\n",
       "      <td>Алина</td>\n",
       "      <td>25</td>\n",
       "      <td>Пятигорск</td>\n",
       "      <td>ultra</td>\n",
       "    </tr>\n",
       "    <tr>\n",
       "      <th>1554</th>\n",
       "      <td>1198</td>\n",
       "      <td>Демид</td>\n",
       "      <td>29</td>\n",
       "      <td>Ростов-на-Дону</td>\n",
       "      <td>free</td>\n",
       "    </tr>\n",
       "    <tr>\n",
       "      <th>1555</th>\n",
       "      <td>72</td>\n",
       "      <td>Никита</td>\n",
       "      <td>25</td>\n",
       "      <td>Москва</td>\n",
       "      <td>ultra</td>\n",
       "    </tr>\n",
       "    <tr>\n",
       "      <th>1556</th>\n",
       "      <td>422</td>\n",
       "      <td>Кирилл</td>\n",
       "      <td>27</td>\n",
       "      <td>Сочи</td>\n",
       "      <td>ultra</td>\n",
       "    </tr>\n",
       "    <tr>\n",
       "      <th>1557</th>\n",
       "      <td>611</td>\n",
       "      <td>Владимир</td>\n",
       "      <td>28</td>\n",
       "      <td>Омск</td>\n",
       "      <td>ultra</td>\n",
       "    </tr>\n",
       "    <tr>\n",
       "      <th>1558</th>\n",
       "      <td>1237</td>\n",
       "      <td>Евгения</td>\n",
       "      <td>23</td>\n",
       "      <td>Тюмень</td>\n",
       "      <td>free</td>\n",
       "    </tr>\n",
       "    <tr>\n",
       "      <th>1559</th>\n",
       "      <td>209</td>\n",
       "      <td>Андрей</td>\n",
       "      <td>23</td>\n",
       "      <td>Омск</td>\n",
       "      <td>ultra</td>\n",
       "    </tr>\n",
       "    <tr>\n",
       "      <th>1560</th>\n",
       "      <td>829</td>\n",
       "      <td>Федор</td>\n",
       "      <td>29</td>\n",
       "      <td>Пятигорск</td>\n",
       "      <td>free</td>\n",
       "    </tr>\n",
       "    <tr>\n",
       "      <th>1561</th>\n",
       "      <td>809</td>\n",
       "      <td>Юрий</td>\n",
       "      <td>26</td>\n",
       "      <td>Сочи</td>\n",
       "      <td>free</td>\n",
       "    </tr>\n",
       "    <tr>\n",
       "      <th>1562</th>\n",
       "      <td>307</td>\n",
       "      <td>Ясмина</td>\n",
       "      <td>19</td>\n",
       "      <td>Краснодар</td>\n",
       "      <td>ultra</td>\n",
       "    </tr>\n",
       "    <tr>\n",
       "      <th>1563</th>\n",
       "      <td>47</td>\n",
       "      <td>Юрий</td>\n",
       "      <td>28</td>\n",
       "      <td>Тюмень</td>\n",
       "      <td>ultra</td>\n",
       "    </tr>\n",
       "    <tr>\n",
       "      <th>1564</th>\n",
       "      <td>1045</td>\n",
       "      <td>Артемий</td>\n",
       "      <td>28</td>\n",
       "      <td>Ростов-на-Дону</td>\n",
       "      <td>free</td>\n",
       "    </tr>\n",
       "  </tbody>\n",
       "</table>\n",
       "</div>"
      ],
      "text/plain": [
       "      user_id        name  age            city subscription_type\n",
       "1534      293       Агата   26       Краснодар             ultra\n",
       "1535       16      Амалия   27       Краснодар             ultra\n",
       "1536      909  Константин   20    Екатеринбург              free\n",
       "1537      403      Полина   19            Сочи             ultra\n",
       "1538      908      Рустам   30          Тюмень              free\n",
       "1539       43    Стефания   22            Омск             ultra\n",
       "1540      127       Павел   25       Пятигорск             ultra\n",
       "1541      659       Злата   27  Ростов-на-Дону             ultra\n",
       "1542      204      Руслан   30       Пятигорск             ultra\n",
       "1543      153      Герман   23          Москва             ultra\n",
       "1544     1245      Регина   27       Пятигорск              free\n",
       "1545      807   Александр   28    Екатеринбург              free\n",
       "1546      924       Мария   23       Пятигорск              free\n",
       "1547      635      Герман   21          Москва             ultra\n",
       "1548      136     Марсель   25          Тюмень             ultra\n",
       "1549      108       Влада   29          Тюмень             ultra\n",
       "1550      737     Мелания   27  Ростов-на-Дону              free\n",
       "1551      666      Зарина   29          Москва             ultra\n",
       "1552      297        Егор   33       Пятигорск             ultra\n",
       "1553      121       Алина   25       Пятигорск             ultra\n",
       "1554     1198       Демид   29  Ростов-на-Дону              free\n",
       "1555       72      Никита   25          Москва             ultra\n",
       "1556      422      Кирилл   27            Сочи             ultra\n",
       "1557      611    Владимир   28            Омск             ultra\n",
       "1558     1237     Евгения   23          Тюмень              free\n",
       "1559      209      Андрей   23            Омск             ultra\n",
       "1560      829       Федор   29       Пятигорск              free\n",
       "1561      809        Юрий   26            Сочи              free\n",
       "1562      307      Ясмина   19       Краснодар             ultra\n",
       "1563       47        Юрий   28          Тюмень             ultra\n",
       "1564     1045     Артемий   28  Ростов-на-Дону              free"
      ]
     },
     "execution_count": 15,
     "metadata": {},
     "output_type": "execute_result"
    }
   ],
   "source": [
    "# display duplicates \n",
    "duplicated_users = users[users.duplicated()]\n",
    "duplicated_users"
   ]
  },
  {
   "cell_type": "code",
   "execution_count": 16,
   "metadata": {},
   "outputs": [],
   "source": [
    "# delete explicit duplicates and generating new indexes\n",
    "users = users.drop_duplicates().reset_index(drop=True)"
   ]
  },
  {
   "cell_type": "code",
   "execution_count": 17,
   "metadata": {},
   "outputs": [
    {
     "data": {
      "text/plain": [
       "0"
      ]
     },
     "execution_count": 17,
     "metadata": {},
     "output_type": "execute_result"
    }
   ],
   "source": [
    "# check  explicit duplicates after their removal \n",
    "users.duplicated().sum()"
   ]
  },
  {
   "cell_type": "markdown",
   "metadata": {},
   "source": [
    "There are 31 explicit duplicates in the `users` dataframe. Duplicates were removed using the drop_duplicates() method, while indexing was restored so that there would be no errors and potential problems in the future when connecting data.\n",
    "\n",
    "We will also check for obvious duplicates of the `rides` and `subscript` dataframes"
   ]
  },
  {
   "cell_type": "code",
   "execution_count": 18,
   "metadata": {},
   "outputs": [
    {
     "data": {
      "text/plain": [
       "0"
      ]
     },
     "execution_count": 18,
     "metadata": {},
     "output_type": "execute_result"
    }
   ],
   "source": [
    "rides.duplicated().sum()"
   ]
  },
  {
   "cell_type": "code",
   "execution_count": 19,
   "metadata": {},
   "outputs": [
    {
     "data": {
      "text/plain": [
       "0"
      ]
     },
     "execution_count": 19,
     "metadata": {},
     "output_type": "execute_result"
    }
   ],
   "source": [
    "subscript.duplicated().sum()"
   ]
  },
  {
   "cell_type": "markdown",
   "metadata": {},
   "source": [
    "**Section summary**. \n",
    "\n",
    "We preprocessed the data from 3 dataframes - checked for missing data, added a month according to the pandas type, found explicit duplicates and deleted them from `users` dataframe with subsequent restoration of their indexing."
   ]
  },
  {
   "cell_type": "markdown",
   "metadata": {},
   "source": [
    "## 3. Exploratory  data analysis"
   ]
  },
  {
   "cell_type": "markdown",
   "metadata": {},
   "source": [
    "Describing and visualizating general info about users and rides:\n",
    "\n",
    "### Task 1. Frequency of cities occurrence;"
   ]
  },
  {
   "cell_type": "code",
   "execution_count": 20,
   "metadata": {},
   "outputs": [
    {
     "data": {
      "text/html": [
       "<div>\n",
       "<style scoped>\n",
       "    .dataframe tbody tr th:only-of-type {\n",
       "        vertical-align: middle;\n",
       "    }\n",
       "\n",
       "    .dataframe tbody tr th {\n",
       "        vertical-align: top;\n",
       "    }\n",
       "\n",
       "    .dataframe thead th {\n",
       "        text-align: right;\n",
       "    }\n",
       "</style>\n",
       "<table border=\"1\" class=\"dataframe\">\n",
       "  <thead>\n",
       "    <tr style=\"text-align: right;\">\n",
       "      <th></th>\n",
       "      <th>frequency</th>\n",
       "    </tr>\n",
       "    <tr>\n",
       "      <th>city</th>\n",
       "      <th></th>\n",
       "    </tr>\n",
       "  </thead>\n",
       "  <tbody>\n",
       "    <tr>\n",
       "      <th>Пятигорск</th>\n",
       "      <td>219</td>\n",
       "    </tr>\n",
       "    <tr>\n",
       "      <th>Екатеринбург</th>\n",
       "      <td>204</td>\n",
       "    </tr>\n",
       "    <tr>\n",
       "      <th>Ростов-на-Дону</th>\n",
       "      <td>198</td>\n",
       "    </tr>\n",
       "    <tr>\n",
       "      <th>Краснодар</th>\n",
       "      <td>193</td>\n",
       "    </tr>\n",
       "    <tr>\n",
       "      <th>Сочи</th>\n",
       "      <td>189</td>\n",
       "    </tr>\n",
       "    <tr>\n",
       "      <th>Омск</th>\n",
       "      <td>183</td>\n",
       "    </tr>\n",
       "    <tr>\n",
       "      <th>Тюмень</th>\n",
       "      <td>180</td>\n",
       "    </tr>\n",
       "    <tr>\n",
       "      <th>Москва</th>\n",
       "      <td>168</td>\n",
       "    </tr>\n",
       "  </tbody>\n",
       "</table>\n",
       "</div>"
      ],
      "text/plain": [
       "                frequency\n",
       "city                     \n",
       "Пятигорск             219\n",
       "Екатеринбург          204\n",
       "Ростов-на-Дону        198\n",
       "Краснодар             193\n",
       "Сочи                  189\n",
       "Омск                  183\n",
       "Тюмень                180\n",
       "Москва                168"
      ]
     },
     "execution_count": 20,
     "metadata": {},
     "output_type": "execute_result"
    }
   ],
   "source": [
    "users.pivot_table(index='city', values='user_id', aggfunc='count').rename(columns={'user_id': 'frequency'}) \\\n",
    "    .sort_values('frequency', ascending=False)"
   ]
  },
  {
   "cell_type": "code",
   "execution_count": 21,
   "metadata": {},
   "outputs": [
    {
     "data": {
      "image/png": "[encoded data removed]",
      "text/plain": [
       "<Figure size 720x360 with 1 Axes>"
      ]
     },
     "metadata": {
      "needs_background": "light"
     },
     "output_type": "display_data"
    }
   ],
   "source": [
    "users.pivot_table(index='city', values='user_id', aggfunc='count').rename(columns={'user_id': 'frequency'}) \\\n",
    "    .sort_values('frequency', ascending=False)\\\n",
    ".plot(style='-',title='Frequency of cities occurrence', figsize=(10,5), kind='bar')\n",
    "\n",
    "plt.xlabel('city')\n",
    "plt.ylabel('frequency')\n",
    "plt.xticks(rotation=45)\n",
    "plt.legend().remove()\n",
    "plt.show()"
   ]
  },
  {
   "cell_type": "markdown",
   "metadata": {},
   "source": [
    "Pyatigorsk is most often found in the dataset - 219 times, Moscow is least common - 168 times."
   ]
  },
  {
   "cell_type": "markdown",
   "metadata": {},
   "source": [
    "### Task 2. Ratio of users with and without a subscription;"
   ]
  },
  {
   "cell_type": "code",
   "execution_count": 22,
   "metadata": {},
   "outputs": [
    {
     "data": {
      "text/html": [
       "<div>\n",
       "<style scoped>\n",
       "    .dataframe tbody tr th:only-of-type {\n",
       "        vertical-align: middle;\n",
       "    }\n",
       "\n",
       "    .dataframe tbody tr th {\n",
       "        vertical-align: top;\n",
       "    }\n",
       "\n",
       "    .dataframe thead th {\n",
       "        text-align: right;\n",
       "    }\n",
       "</style>\n",
       "<table border=\"1\" class=\"dataframe\">\n",
       "  <thead>\n",
       "    <tr style=\"text-align: right;\">\n",
       "      <th></th>\n",
       "      <th>ratio</th>\n",
       "    </tr>\n",
       "    <tr>\n",
       "      <th>subscription_type</th>\n",
       "      <th></th>\n",
       "    </tr>\n",
       "  </thead>\n",
       "  <tbody>\n",
       "    <tr>\n",
       "      <th>free</th>\n",
       "      <td>54.432855</td>\n",
       "    </tr>\n",
       "    <tr>\n",
       "      <th>ultra</th>\n",
       "      <td>45.567145</td>\n",
       "    </tr>\n",
       "  </tbody>\n",
       "</table>\n",
       "</div>"
      ],
      "text/plain": [
       "                       ratio\n",
       "subscription_type           \n",
       "free               54.432855\n",
       "ultra              45.567145"
      ]
     },
     "execution_count": 22,
     "metadata": {},
     "output_type": "execute_result"
    }
   ],
   "source": [
    "sub_share = pd.pivot_table(users,\n",
    "                       index='subscription_type',\n",
    "                       values='user_id',\n",
    "                       aggfunc=[len])\\\n",
    "          .div(len(users.index))\\\n",
    "          .mul(100)\n",
    "sub_share.columns = ['ratio']\n",
    "sub_share"
   ]
  },
  {
   "cell_type": "code",
   "execution_count": 23,
   "metadata": {},
   "outputs": [
    {
     "data": {
      "image/png": "[encoded data removed]",
      "text/plain": [
       "<Figure size 432x432 with 1 Axes>"
      ]
     },
     "metadata": {},
     "output_type": "display_data"
    }
   ],
   "source": [
    "sub_share.plot(kind='pie', autopct = '%1.0f%%', title ='Users ratio with and without subscription', figsize=(6,6), subplots=True)\n",
    "plt.show()"
   ]
  },
  {
   "cell_type": "markdown",
   "metadata": {},
   "source": [
    "Almost 55% of users use the service without a subscription. 45%, respectively, with a subscription."
   ]
  },
  {
   "cell_type": "markdown",
   "metadata": {},
   "source": [
    "### Task 3. User's age;"
   ]
  },
  {
   "cell_type": "code",
   "execution_count": 24,
   "metadata": {},
   "outputs": [
    {
     "data": {
      "image/png": "[encoded data removed]",
      "text/plain": [
       "<Figure size 720x360 with 1 Axes>"
      ]
     },
     "metadata": {
      "needs_background": "light"
     },
     "output_type": "display_data"
    }
   ],
   "source": [
    "users.pivot_table(index='age', values='user_id', aggfunc='count')\\\n",
    ".plot(style='-',title='Users age distribution', figsize=(10,5), kind='bar')\n",
    "\n",
    "plt.xlabel('Age')\n",
    "plt.ylabel('Users qty')\n",
    "plt.legend().remove()\n",
    "plt.show()"
   ]
  },
  {
   "cell_type": "code",
   "execution_count": 25,
   "metadata": {},
   "outputs": [
    {
     "data": {
      "text/plain": [
       "count    1534.000000\n",
       "mean       24.903520\n",
       "std         4.572367\n",
       "min        12.000000\n",
       "25%        22.000000\n",
       "50%        25.000000\n",
       "75%        28.000000\n",
       "max        43.000000\n",
       "Name: age, dtype: float64"
      ]
     },
     "execution_count": 25,
     "metadata": {},
     "output_type": "execute_result"
    }
   ],
   "source": [
    "users['age'].describe()"
   ]
  },
  {
   "cell_type": "markdown",
   "metadata": {},
   "source": [
    "The age distribution graph among users is very similar to the normal distribution with an estimated true average at the point of 25 years, that is, about 50% of users are people under 25 years old. The minimum age is 12, the maximum is 43. There is reason to believe that the data is correct."
   ]
  },
  {
   "cell_type": "markdown",
   "metadata": {},
   "source": [
    "### Task 4. Distance per 1 ride per user;"
   ]
  },
  {
   "cell_type": "code",
   "execution_count": 26,
   "metadata": {},
   "outputs": [
    {
     "data": {
      "text/plain": [
       "count    18068.000000\n",
       "mean      3070.659976\n",
       "std       1116.831209\n",
       "min          0.855683\n",
       "25%       2543.226360\n",
       "50%       3133.609994\n",
       "75%       3776.222735\n",
       "max       7211.007745\n",
       "Name: distance, dtype: float64"
      ]
     },
     "execution_count": 26,
     "metadata": {},
     "output_type": "execute_result"
    }
   ],
   "source": [
    "rides['distance'].describe()"
   ]
  },
  {
   "cell_type": "code",
   "execution_count": 27,
   "metadata": {
    "scrolled": true
   },
   "outputs": [
    {
     "data": {
      "image/png": "[encoded data removed]",
      "text/plain": [
       "<Figure size 720x360 with 1 Axes>"
      ]
     },
     "metadata": {
      "needs_background": "light"
     },
     "output_type": "display_data"
    }
   ],
   "source": [
    "#limit data till 8000 m due to max value distribution is on around 8000\n",
    "rides.plot(kind='hist', title='User behavior by distance', y='distance', bins=40, grid=False, range=(0, 8000), figsize=(10,5))\n",
    "\n",
    "plt.xlabel('distance in m')\n",
    "plt.ylabel('frequancy')\n",
    "plt.legend().remove()\n",
    "plt.show()"
   ]
  },
  {
   "cell_type": "markdown",
   "metadata": {},
   "source": [
    "User behavior by distance is following - min. distance of trip is 86 meters, max is  7211 meters. Most often, distance that users traveled was about 3,000 meters."
   ]
  },
  {
   "cell_type": "markdown",
   "metadata": {},
   "source": [
    "### Task 5. Rides duration."
   ]
  },
  {
   "cell_type": "code",
   "execution_count": 28,
   "metadata": {},
   "outputs": [
    {
     "data": {
      "text/plain": [
       "count    18068.000000\n",
       "mean        17.805011\n",
       "std          6.091051\n",
       "min          0.500000\n",
       "25%         13.597563\n",
       "50%         17.678395\n",
       "75%         21.724800\n",
       "max         40.823963\n",
       "Name: duration, dtype: float64"
      ]
     },
     "execution_count": 28,
     "metadata": {},
     "output_type": "execute_result"
    }
   ],
   "source": [
    "rides['duration'].describe()"
   ]
  },
  {
   "cell_type": "code",
   "execution_count": 29,
   "metadata": {
    "scrolled": true
   },
   "outputs": [
    {
     "data": {
      "image/png": "[encoded data removed]",
      "text/plain": [
       "<Figure size 720x360 with 1 Axes>"
      ]
     },
     "metadata": {
      "needs_background": "light"
     },
     "output_type": "display_data"
    }
   ],
   "source": [
    "#limit data till 50 min due to max value distribution is on around 50\n",
    "rides.plot(kind='hist', title='User behavior by ride duration', y='duration', bins=30, grid=False, range=(0, 50), figsize=(10,5))\n",
    "\n",
    "plt.xlabel('duration in min')\n",
    "plt.ylabel('frequancy')\n",
    "plt.legend().remove()\n",
    "plt.show()"
   ]
  },
  {
   "cell_type": "markdown",
   "metadata": {},
   "source": [
    "User behavior by ride duration is folowing - min. duration of ride is 0.5 minutes,  max is approximately 41 minutes. Most often, ride duration is about 16-18 minutes."
   ]
  },
  {
   "cell_type": "markdown",
   "metadata": {},
   "source": [
    "**Section summary**. We conducted a exploratory analysis of users, their rides and identified the following patterns:\n",
    "- 55% of users of the service without a subscription, 45% - with a subscription.\n",
    "- the average age of the user is 25 years. The maximum age is just over 40 years.\n",
    "- the average distance per trip is 3,100 meters.\n",
    "- the average trip duration is about 18 minutes.\n",
    "\n",
    "Data, with normal distribution, looks correct, there are no explicit anomalies, errors of a technical/human nature. It means that we can proceed to the next steps."
   ]
  },
  {
   "cell_type": "markdown",
   "metadata": {},
   "source": [
    "## 4. Data merging"
   ]
  },
  {
   "cell_type": "markdown",
   "metadata": {},
   "source": [
    "### Task 1. Merging data of users, rides and subscriptions to uniformed dataframe."
   ]
  },
  {
   "cell_type": "code",
   "execution_count": 30,
   "metadata": {},
   "outputs": [
    {
     "name": "stdout",
     "output_type": "stream",
     "text": [
      "(1534, 5)\n",
      "(18068, 5)\n",
      "(2, 4)\n"
     ]
    }
   ],
   "source": [
    "# checking initial dataframes dimensions\n",
    "print(users.shape)\n",
    "print(rides.shape)\n",
    "print(subscript.shape)"
   ]
  },
  {
   "cell_type": "code",
   "execution_count": 31,
   "metadata": {},
   "outputs": [],
   "source": [
    "# merging dataframes sequentially\n",
    "merged_data = users.merge(rides)"
   ]
  },
  {
   "cell_type": "code",
   "execution_count": 32,
   "metadata": {},
   "outputs": [],
   "source": [
    "merged_data = merged_data.merge(subscript)"
   ]
  },
  {
   "cell_type": "code",
   "execution_count": 33,
   "metadata": {
    "scrolled": false
   },
   "outputs": [
    {
     "data": {
      "text/html": [
       "<div>\n",
       "<style scoped>\n",
       "    .dataframe tbody tr th:only-of-type {\n",
       "        vertical-align: middle;\n",
       "    }\n",
       "\n",
       "    .dataframe tbody tr th {\n",
       "        vertical-align: top;\n",
       "    }\n",
       "\n",
       "    .dataframe thead th {\n",
       "        text-align: right;\n",
       "    }\n",
       "</style>\n",
       "<table border=\"1\" class=\"dataframe\">\n",
       "  <thead>\n",
       "    <tr style=\"text-align: right;\">\n",
       "      <th></th>\n",
       "      <th>user_id</th>\n",
       "      <th>name</th>\n",
       "      <th>age</th>\n",
       "      <th>city</th>\n",
       "      <th>subscription_type</th>\n",
       "      <th>distance</th>\n",
       "      <th>duration</th>\n",
       "      <th>date</th>\n",
       "      <th>month_of_date</th>\n",
       "      <th>minute_price</th>\n",
       "      <th>start_ride_price</th>\n",
       "      <th>subscription_fee</th>\n",
       "    </tr>\n",
       "  </thead>\n",
       "  <tbody>\n",
       "    <tr>\n",
       "      <th>0</th>\n",
       "      <td>1</td>\n",
       "      <td>Кира</td>\n",
       "      <td>22</td>\n",
       "      <td>Тюмень</td>\n",
       "      <td>ultra</td>\n",
       "      <td>4409.919140</td>\n",
       "      <td>25.599769</td>\n",
       "      <td>2021-01-01</td>\n",
       "      <td>1</td>\n",
       "      <td>6</td>\n",
       "      <td>0</td>\n",
       "      <td>199</td>\n",
       "    </tr>\n",
       "    <tr>\n",
       "      <th>1</th>\n",
       "      <td>1</td>\n",
       "      <td>Кира</td>\n",
       "      <td>22</td>\n",
       "      <td>Тюмень</td>\n",
       "      <td>ultra</td>\n",
       "      <td>2617.592153</td>\n",
       "      <td>15.816871</td>\n",
       "      <td>2021-01-18</td>\n",
       "      <td>1</td>\n",
       "      <td>6</td>\n",
       "      <td>0</td>\n",
       "      <td>199</td>\n",
       "    </tr>\n",
       "    <tr>\n",
       "      <th>2</th>\n",
       "      <td>1</td>\n",
       "      <td>Кира</td>\n",
       "      <td>22</td>\n",
       "      <td>Тюмень</td>\n",
       "      <td>ultra</td>\n",
       "      <td>754.159807</td>\n",
       "      <td>6.232113</td>\n",
       "      <td>2021-04-20</td>\n",
       "      <td>4</td>\n",
       "      <td>6</td>\n",
       "      <td>0</td>\n",
       "      <td>199</td>\n",
       "    </tr>\n",
       "    <tr>\n",
       "      <th>3</th>\n",
       "      <td>1</td>\n",
       "      <td>Кира</td>\n",
       "      <td>22</td>\n",
       "      <td>Тюмень</td>\n",
       "      <td>ultra</td>\n",
       "      <td>2694.783254</td>\n",
       "      <td>18.511000</td>\n",
       "      <td>2021-08-11</td>\n",
       "      <td>8</td>\n",
       "      <td>6</td>\n",
       "      <td>0</td>\n",
       "      <td>199</td>\n",
       "    </tr>\n",
       "    <tr>\n",
       "      <th>4</th>\n",
       "      <td>1</td>\n",
       "      <td>Кира</td>\n",
       "      <td>22</td>\n",
       "      <td>Тюмень</td>\n",
       "      <td>ultra</td>\n",
       "      <td>4028.687306</td>\n",
       "      <td>26.265803</td>\n",
       "      <td>2021-08-28</td>\n",
       "      <td>8</td>\n",
       "      <td>6</td>\n",
       "      <td>0</td>\n",
       "      <td>199</td>\n",
       "    </tr>\n",
       "    <tr>\n",
       "      <th>...</th>\n",
       "      <td>...</td>\n",
       "      <td>...</td>\n",
       "      <td>...</td>\n",
       "      <td>...</td>\n",
       "      <td>...</td>\n",
       "      <td>...</td>\n",
       "      <td>...</td>\n",
       "      <td>...</td>\n",
       "      <td>...</td>\n",
       "      <td>...</td>\n",
       "      <td>...</td>\n",
       "      <td>...</td>\n",
       "    </tr>\n",
       "    <tr>\n",
       "      <th>18063</th>\n",
       "      <td>1534</td>\n",
       "      <td>Альберт</td>\n",
       "      <td>25</td>\n",
       "      <td>Краснодар</td>\n",
       "      <td>free</td>\n",
       "      <td>3781.098080</td>\n",
       "      <td>19.822962</td>\n",
       "      <td>2021-11-04</td>\n",
       "      <td>11</td>\n",
       "      <td>8</td>\n",
       "      <td>50</td>\n",
       "      <td>0</td>\n",
       "    </tr>\n",
       "    <tr>\n",
       "      <th>18064</th>\n",
       "      <td>1534</td>\n",
       "      <td>Альберт</td>\n",
       "      <td>25</td>\n",
       "      <td>Краснодар</td>\n",
       "      <td>free</td>\n",
       "      <td>2840.423057</td>\n",
       "      <td>21.409799</td>\n",
       "      <td>2021-11-16</td>\n",
       "      <td>11</td>\n",
       "      <td>8</td>\n",
       "      <td>50</td>\n",
       "      <td>0</td>\n",
       "    </tr>\n",
       "    <tr>\n",
       "      <th>18065</th>\n",
       "      <td>1534</td>\n",
       "      <td>Альберт</td>\n",
       "      <td>25</td>\n",
       "      <td>Краснодар</td>\n",
       "      <td>free</td>\n",
       "      <td>3826.185507</td>\n",
       "      <td>18.435051</td>\n",
       "      <td>2021-11-18</td>\n",
       "      <td>11</td>\n",
       "      <td>8</td>\n",
       "      <td>50</td>\n",
       "      <td>0</td>\n",
       "    </tr>\n",
       "    <tr>\n",
       "      <th>18066</th>\n",
       "      <td>1534</td>\n",
       "      <td>Альберт</td>\n",
       "      <td>25</td>\n",
       "      <td>Краснодар</td>\n",
       "      <td>free</td>\n",
       "      <td>2902.308661</td>\n",
       "      <td>16.674362</td>\n",
       "      <td>2021-11-27</td>\n",
       "      <td>11</td>\n",
       "      <td>8</td>\n",
       "      <td>50</td>\n",
       "      <td>0</td>\n",
       "    </tr>\n",
       "    <tr>\n",
       "      <th>18067</th>\n",
       "      <td>1534</td>\n",
       "      <td>Альберт</td>\n",
       "      <td>25</td>\n",
       "      <td>Краснодар</td>\n",
       "      <td>free</td>\n",
       "      <td>2371.711192</td>\n",
       "      <td>15.893917</td>\n",
       "      <td>2021-12-29</td>\n",
       "      <td>12</td>\n",
       "      <td>8</td>\n",
       "      <td>50</td>\n",
       "      <td>0</td>\n",
       "    </tr>\n",
       "  </tbody>\n",
       "</table>\n",
       "<p>18068 rows × 12 columns</p>\n",
       "</div>"
      ],
      "text/plain": [
       "       user_id     name  age       city subscription_type     distance  \\\n",
       "0            1     Кира   22     Тюмень             ultra  4409.919140   \n",
       "1            1     Кира   22     Тюмень             ultra  2617.592153   \n",
       "2            1     Кира   22     Тюмень             ultra   754.159807   \n",
       "3            1     Кира   22     Тюмень             ultra  2694.783254   \n",
       "4            1     Кира   22     Тюмень             ultra  4028.687306   \n",
       "...        ...      ...  ...        ...               ...          ...   \n",
       "18063     1534  Альберт   25  Краснодар              free  3781.098080   \n",
       "18064     1534  Альберт   25  Краснодар              free  2840.423057   \n",
       "18065     1534  Альберт   25  Краснодар              free  3826.185507   \n",
       "18066     1534  Альберт   25  Краснодар              free  2902.308661   \n",
       "18067     1534  Альберт   25  Краснодар              free  2371.711192   \n",
       "\n",
       "        duration       date  month_of_date  minute_price  start_ride_price  \\\n",
       "0      25.599769 2021-01-01              1             6                 0   \n",
       "1      15.816871 2021-01-18              1             6                 0   \n",
       "2       6.232113 2021-04-20              4             6                 0   \n",
       "3      18.511000 2021-08-11              8             6                 0   \n",
       "4      26.265803 2021-08-28              8             6                 0   \n",
       "...          ...        ...            ...           ...               ...   \n",
       "18063  19.822962 2021-11-04             11             8                50   \n",
       "18064  21.409799 2021-11-16             11             8                50   \n",
       "18065  18.435051 2021-11-18             11             8                50   \n",
       "18066  16.674362 2021-11-27             11             8                50   \n",
       "18067  15.893917 2021-12-29             12             8                50   \n",
       "\n",
       "       subscription_fee  \n",
       "0                   199  \n",
       "1                   199  \n",
       "2                   199  \n",
       "3                   199  \n",
       "4                   199  \n",
       "...                 ...  \n",
       "18063                 0  \n",
       "18064                 0  \n",
       "18065                 0  \n",
       "18066                 0  \n",
       "18067                 0  \n",
       "\n",
       "[18068 rows x 12 columns]"
      ]
     },
     "execution_count": 33,
     "metadata": {},
     "output_type": "execute_result"
    }
   ],
   "source": [
    "# display merged dataframe\n",
    "merged_data"
   ]
  },
  {
   "cell_type": "code",
   "execution_count": 34,
   "metadata": {},
   "outputs": [
    {
     "data": {
      "text/plain": [
       "user_id              0.0\n",
       "name                 0.0\n",
       "age                  0.0\n",
       "city                 0.0\n",
       "subscription_type    0.0\n",
       "distance             0.0\n",
       "duration             0.0\n",
       "date                 0.0\n",
       "month_of_date        0.0\n",
       "minute_price         0.0\n",
       "start_ride_price     0.0\n",
       "subscription_fee     0.0\n",
       "dtype: float64"
      ]
     },
     "execution_count": 34,
     "metadata": {},
     "output_type": "execute_result"
    }
   ],
   "source": [
    "# checking missing values after data merging\n",
    "merged_data.isna().mean()"
   ]
  },
  {
   "cell_type": "markdown",
   "metadata": {},
   "source": [
    "### Task 2. Create new 2 dataframes from merged dataframe:\n",
    " - with user data without subscription;"
   ]
  },
  {
   "cell_type": "code",
   "execution_count": 35,
   "metadata": {},
   "outputs": [
    {
     "data": {
      "text/html": [
       "<div>\n",
       "<style scoped>\n",
       "    .dataframe tbody tr th:only-of-type {\n",
       "        vertical-align: middle;\n",
       "    }\n",
       "\n",
       "    .dataframe tbody tr th {\n",
       "        vertical-align: top;\n",
       "    }\n",
       "\n",
       "    .dataframe thead th {\n",
       "        text-align: right;\n",
       "    }\n",
       "</style>\n",
       "<table border=\"1\" class=\"dataframe\">\n",
       "  <thead>\n",
       "    <tr style=\"text-align: right;\">\n",
       "      <th></th>\n",
       "      <th>user_id</th>\n",
       "      <th>name</th>\n",
       "      <th>age</th>\n",
       "      <th>city</th>\n",
       "      <th>subscription_type</th>\n",
       "      <th>distance</th>\n",
       "      <th>duration</th>\n",
       "      <th>date</th>\n",
       "      <th>month_of_date</th>\n",
       "      <th>minute_price</th>\n",
       "      <th>start_ride_price</th>\n",
       "      <th>subscription_fee</th>\n",
       "    </tr>\n",
       "  </thead>\n",
       "  <tbody>\n",
       "    <tr>\n",
       "      <th>6500</th>\n",
       "      <td>700</td>\n",
       "      <td>Айдар</td>\n",
       "      <td>22</td>\n",
       "      <td>Омск</td>\n",
       "      <td>free</td>\n",
       "      <td>2515.690719</td>\n",
       "      <td>14.944286</td>\n",
       "      <td>2021-01-02</td>\n",
       "      <td>1</td>\n",
       "      <td>8</td>\n",
       "      <td>50</td>\n",
       "      <td>0</td>\n",
       "    </tr>\n",
       "    <tr>\n",
       "      <th>6501</th>\n",
       "      <td>700</td>\n",
       "      <td>Айдар</td>\n",
       "      <td>22</td>\n",
       "      <td>Омск</td>\n",
       "      <td>free</td>\n",
       "      <td>846.932642</td>\n",
       "      <td>16.234663</td>\n",
       "      <td>2021-02-01</td>\n",
       "      <td>2</td>\n",
       "      <td>8</td>\n",
       "      <td>50</td>\n",
       "      <td>0</td>\n",
       "    </tr>\n",
       "    <tr>\n",
       "      <th>6502</th>\n",
       "      <td>700</td>\n",
       "      <td>Айдар</td>\n",
       "      <td>22</td>\n",
       "      <td>Омск</td>\n",
       "      <td>free</td>\n",
       "      <td>4004.434142</td>\n",
       "      <td>20.016628</td>\n",
       "      <td>2021-02-04</td>\n",
       "      <td>2</td>\n",
       "      <td>8</td>\n",
       "      <td>50</td>\n",
       "      <td>0</td>\n",
       "    </tr>\n",
       "    <tr>\n",
       "      <th>6503</th>\n",
       "      <td>700</td>\n",
       "      <td>Айдар</td>\n",
       "      <td>22</td>\n",
       "      <td>Омск</td>\n",
       "      <td>free</td>\n",
       "      <td>1205.911290</td>\n",
       "      <td>9.782872</td>\n",
       "      <td>2021-02-10</td>\n",
       "      <td>2</td>\n",
       "      <td>8</td>\n",
       "      <td>50</td>\n",
       "      <td>0</td>\n",
       "    </tr>\n",
       "    <tr>\n",
       "      <th>6504</th>\n",
       "      <td>700</td>\n",
       "      <td>Айдар</td>\n",
       "      <td>22</td>\n",
       "      <td>Омск</td>\n",
       "      <td>free</td>\n",
       "      <td>3047.379435</td>\n",
       "      <td>17.427673</td>\n",
       "      <td>2021-02-14</td>\n",
       "      <td>2</td>\n",
       "      <td>8</td>\n",
       "      <td>50</td>\n",
       "      <td>0</td>\n",
       "    </tr>\n",
       "    <tr>\n",
       "      <th>...</th>\n",
       "      <td>...</td>\n",
       "      <td>...</td>\n",
       "      <td>...</td>\n",
       "      <td>...</td>\n",
       "      <td>...</td>\n",
       "      <td>...</td>\n",
       "      <td>...</td>\n",
       "      <td>...</td>\n",
       "      <td>...</td>\n",
       "      <td>...</td>\n",
       "      <td>...</td>\n",
       "      <td>...</td>\n",
       "    </tr>\n",
       "    <tr>\n",
       "      <th>18063</th>\n",
       "      <td>1534</td>\n",
       "      <td>Альберт</td>\n",
       "      <td>25</td>\n",
       "      <td>Краснодар</td>\n",
       "      <td>free</td>\n",
       "      <td>3781.098080</td>\n",
       "      <td>19.822962</td>\n",
       "      <td>2021-11-04</td>\n",
       "      <td>11</td>\n",
       "      <td>8</td>\n",
       "      <td>50</td>\n",
       "      <td>0</td>\n",
       "    </tr>\n",
       "    <tr>\n",
       "      <th>18064</th>\n",
       "      <td>1534</td>\n",
       "      <td>Альберт</td>\n",
       "      <td>25</td>\n",
       "      <td>Краснодар</td>\n",
       "      <td>free</td>\n",
       "      <td>2840.423057</td>\n",
       "      <td>21.409799</td>\n",
       "      <td>2021-11-16</td>\n",
       "      <td>11</td>\n",
       "      <td>8</td>\n",
       "      <td>50</td>\n",
       "      <td>0</td>\n",
       "    </tr>\n",
       "    <tr>\n",
       "      <th>18065</th>\n",
       "      <td>1534</td>\n",
       "      <td>Альберт</td>\n",
       "      <td>25</td>\n",
       "      <td>Краснодар</td>\n",
       "      <td>free</td>\n",
       "      <td>3826.185507</td>\n",
       "      <td>18.435051</td>\n",
       "      <td>2021-11-18</td>\n",
       "      <td>11</td>\n",
       "      <td>8</td>\n",
       "      <td>50</td>\n",
       "      <td>0</td>\n",
       "    </tr>\n",
       "    <tr>\n",
       "      <th>18066</th>\n",
       "      <td>1534</td>\n",
       "      <td>Альберт</td>\n",
       "      <td>25</td>\n",
       "      <td>Краснодар</td>\n",
       "      <td>free</td>\n",
       "      <td>2902.308661</td>\n",
       "      <td>16.674362</td>\n",
       "      <td>2021-11-27</td>\n",
       "      <td>11</td>\n",
       "      <td>8</td>\n",
       "      <td>50</td>\n",
       "      <td>0</td>\n",
       "    </tr>\n",
       "    <tr>\n",
       "      <th>18067</th>\n",
       "      <td>1534</td>\n",
       "      <td>Альберт</td>\n",
       "      <td>25</td>\n",
       "      <td>Краснодар</td>\n",
       "      <td>free</td>\n",
       "      <td>2371.711192</td>\n",
       "      <td>15.893917</td>\n",
       "      <td>2021-12-29</td>\n",
       "      <td>12</td>\n",
       "      <td>8</td>\n",
       "      <td>50</td>\n",
       "      <td>0</td>\n",
       "    </tr>\n",
       "  </tbody>\n",
       "</table>\n",
       "<p>11568 rows × 12 columns</p>\n",
       "</div>"
      ],
      "text/plain": [
       "       user_id     name  age       city subscription_type     distance  \\\n",
       "6500       700    Айдар   22       Омск              free  2515.690719   \n",
       "6501       700    Айдар   22       Омск              free   846.932642   \n",
       "6502       700    Айдар   22       Омск              free  4004.434142   \n",
       "6503       700    Айдар   22       Омск              free  1205.911290   \n",
       "6504       700    Айдар   22       Омск              free  3047.379435   \n",
       "...        ...      ...  ...        ...               ...          ...   \n",
       "18063     1534  Альберт   25  Краснодар              free  3781.098080   \n",
       "18064     1534  Альберт   25  Краснодар              free  2840.423057   \n",
       "18065     1534  Альберт   25  Краснодар              free  3826.185507   \n",
       "18066     1534  Альберт   25  Краснодар              free  2902.308661   \n",
       "18067     1534  Альберт   25  Краснодар              free  2371.711192   \n",
       "\n",
       "        duration       date  month_of_date  minute_price  start_ride_price  \\\n",
       "6500   14.944286 2021-01-02              1             8                50   \n",
       "6501   16.234663 2021-02-01              2             8                50   \n",
       "6502   20.016628 2021-02-04              2             8                50   \n",
       "6503    9.782872 2021-02-10              2             8                50   \n",
       "6504   17.427673 2021-02-14              2             8                50   \n",
       "...          ...        ...            ...           ...               ...   \n",
       "18063  19.822962 2021-11-04             11             8                50   \n",
       "18064  21.409799 2021-11-16             11             8                50   \n",
       "18065  18.435051 2021-11-18             11             8                50   \n",
       "18066  16.674362 2021-11-27             11             8                50   \n",
       "18067  15.893917 2021-12-29             12             8                50   \n",
       "\n",
       "       subscription_fee  \n",
       "6500                  0  \n",
       "6501                  0  \n",
       "6502                  0  \n",
       "6503                  0  \n",
       "6504                  0  \n",
       "...                 ...  \n",
       "18063                 0  \n",
       "18064                 0  \n",
       "18065                 0  \n",
       "18066                 0  \n",
       "18067                 0  \n",
       "\n",
       "[11568 rows x 12 columns]"
      ]
     },
     "execution_count": 35,
     "metadata": {},
     "output_type": "execute_result"
    }
   ],
   "source": [
    "free_users = merged_data.query('subscription_type == \"free\"')\n",
    "free_users"
   ]
  },
  {
   "cell_type": "markdown",
   "metadata": {},
   "source": [
    "- with user data with subscription."
   ]
  },
  {
   "cell_type": "code",
   "execution_count": 36,
   "metadata": {},
   "outputs": [
    {
     "data": {
      "text/html": [
       "<div>\n",
       "<style scoped>\n",
       "    .dataframe tbody tr th:only-of-type {\n",
       "        vertical-align: middle;\n",
       "    }\n",
       "\n",
       "    .dataframe tbody tr th {\n",
       "        vertical-align: top;\n",
       "    }\n",
       "\n",
       "    .dataframe thead th {\n",
       "        text-align: right;\n",
       "    }\n",
       "</style>\n",
       "<table border=\"1\" class=\"dataframe\">\n",
       "  <thead>\n",
       "    <tr style=\"text-align: right;\">\n",
       "      <th></th>\n",
       "      <th>user_id</th>\n",
       "      <th>name</th>\n",
       "      <th>age</th>\n",
       "      <th>city</th>\n",
       "      <th>subscription_type</th>\n",
       "      <th>distance</th>\n",
       "      <th>duration</th>\n",
       "      <th>date</th>\n",
       "      <th>month_of_date</th>\n",
       "      <th>minute_price</th>\n",
       "      <th>start_ride_price</th>\n",
       "      <th>subscription_fee</th>\n",
       "    </tr>\n",
       "  </thead>\n",
       "  <tbody>\n",
       "    <tr>\n",
       "      <th>0</th>\n",
       "      <td>1</td>\n",
       "      <td>Кира</td>\n",
       "      <td>22</td>\n",
       "      <td>Тюмень</td>\n",
       "      <td>ultra</td>\n",
       "      <td>4409.919140</td>\n",
       "      <td>25.599769</td>\n",
       "      <td>2021-01-01</td>\n",
       "      <td>1</td>\n",
       "      <td>6</td>\n",
       "      <td>0</td>\n",
       "      <td>199</td>\n",
       "    </tr>\n",
       "    <tr>\n",
       "      <th>1</th>\n",
       "      <td>1</td>\n",
       "      <td>Кира</td>\n",
       "      <td>22</td>\n",
       "      <td>Тюмень</td>\n",
       "      <td>ultra</td>\n",
       "      <td>2617.592153</td>\n",
       "      <td>15.816871</td>\n",
       "      <td>2021-01-18</td>\n",
       "      <td>1</td>\n",
       "      <td>6</td>\n",
       "      <td>0</td>\n",
       "      <td>199</td>\n",
       "    </tr>\n",
       "    <tr>\n",
       "      <th>2</th>\n",
       "      <td>1</td>\n",
       "      <td>Кира</td>\n",
       "      <td>22</td>\n",
       "      <td>Тюмень</td>\n",
       "      <td>ultra</td>\n",
       "      <td>754.159807</td>\n",
       "      <td>6.232113</td>\n",
       "      <td>2021-04-20</td>\n",
       "      <td>4</td>\n",
       "      <td>6</td>\n",
       "      <td>0</td>\n",
       "      <td>199</td>\n",
       "    </tr>\n",
       "    <tr>\n",
       "      <th>3</th>\n",
       "      <td>1</td>\n",
       "      <td>Кира</td>\n",
       "      <td>22</td>\n",
       "      <td>Тюмень</td>\n",
       "      <td>ultra</td>\n",
       "      <td>2694.783254</td>\n",
       "      <td>18.511000</td>\n",
       "      <td>2021-08-11</td>\n",
       "      <td>8</td>\n",
       "      <td>6</td>\n",
       "      <td>0</td>\n",
       "      <td>199</td>\n",
       "    </tr>\n",
       "    <tr>\n",
       "      <th>4</th>\n",
       "      <td>1</td>\n",
       "      <td>Кира</td>\n",
       "      <td>22</td>\n",
       "      <td>Тюмень</td>\n",
       "      <td>ultra</td>\n",
       "      <td>4028.687306</td>\n",
       "      <td>26.265803</td>\n",
       "      <td>2021-08-28</td>\n",
       "      <td>8</td>\n",
       "      <td>6</td>\n",
       "      <td>0</td>\n",
       "      <td>199</td>\n",
       "    </tr>\n",
       "    <tr>\n",
       "      <th>...</th>\n",
       "      <td>...</td>\n",
       "      <td>...</td>\n",
       "      <td>...</td>\n",
       "      <td>...</td>\n",
       "      <td>...</td>\n",
       "      <td>...</td>\n",
       "      <td>...</td>\n",
       "      <td>...</td>\n",
       "      <td>...</td>\n",
       "      <td>...</td>\n",
       "      <td>...</td>\n",
       "      <td>...</td>\n",
       "    </tr>\n",
       "    <tr>\n",
       "      <th>6495</th>\n",
       "      <td>699</td>\n",
       "      <td>Оксана</td>\n",
       "      <td>22</td>\n",
       "      <td>Москва</td>\n",
       "      <td>ultra</td>\n",
       "      <td>3973.046497</td>\n",
       "      <td>24.671163</td>\n",
       "      <td>2021-08-29</td>\n",
       "      <td>8</td>\n",
       "      <td>6</td>\n",
       "      <td>0</td>\n",
       "      <td>199</td>\n",
       "    </tr>\n",
       "    <tr>\n",
       "      <th>6496</th>\n",
       "      <td>699</td>\n",
       "      <td>Оксана</td>\n",
       "      <td>22</td>\n",
       "      <td>Москва</td>\n",
       "      <td>ultra</td>\n",
       "      <td>3288.702563</td>\n",
       "      <td>15.892886</td>\n",
       "      <td>2021-09-12</td>\n",
       "      <td>9</td>\n",
       "      <td>6</td>\n",
       "      <td>0</td>\n",
       "      <td>199</td>\n",
       "    </tr>\n",
       "    <tr>\n",
       "      <th>6497</th>\n",
       "      <td>699</td>\n",
       "      <td>Оксана</td>\n",
       "      <td>22</td>\n",
       "      <td>Москва</td>\n",
       "      <td>ultra</td>\n",
       "      <td>3076.159348</td>\n",
       "      <td>14.389525</td>\n",
       "      <td>2021-09-26</td>\n",
       "      <td>9</td>\n",
       "      <td>6</td>\n",
       "      <td>0</td>\n",
       "      <td>199</td>\n",
       "    </tr>\n",
       "    <tr>\n",
       "      <th>6498</th>\n",
       "      <td>699</td>\n",
       "      <td>Оксана</td>\n",
       "      <td>22</td>\n",
       "      <td>Москва</td>\n",
       "      <td>ultra</td>\n",
       "      <td>4707.845501</td>\n",
       "      <td>15.839579</td>\n",
       "      <td>2021-10-17</td>\n",
       "      <td>10</td>\n",
       "      <td>6</td>\n",
       "      <td>0</td>\n",
       "      <td>199</td>\n",
       "    </tr>\n",
       "    <tr>\n",
       "      <th>6499</th>\n",
       "      <td>699</td>\n",
       "      <td>Оксана</td>\n",
       "      <td>22</td>\n",
       "      <td>Москва</td>\n",
       "      <td>ultra</td>\n",
       "      <td>3202.890770</td>\n",
       "      <td>25.217345</td>\n",
       "      <td>2021-12-03</td>\n",
       "      <td>12</td>\n",
       "      <td>6</td>\n",
       "      <td>0</td>\n",
       "      <td>199</td>\n",
       "    </tr>\n",
       "  </tbody>\n",
       "</table>\n",
       "<p>6500 rows × 12 columns</p>\n",
       "</div>"
      ],
      "text/plain": [
       "      user_id    name  age    city subscription_type     distance   duration  \\\n",
       "0           1    Кира   22  Тюмень             ultra  4409.919140  25.599769   \n",
       "1           1    Кира   22  Тюмень             ultra  2617.592153  15.816871   \n",
       "2           1    Кира   22  Тюмень             ultra   754.159807   6.232113   \n",
       "3           1    Кира   22  Тюмень             ultra  2694.783254  18.511000   \n",
       "4           1    Кира   22  Тюмень             ultra  4028.687306  26.265803   \n",
       "...       ...     ...  ...     ...               ...          ...        ...   \n",
       "6495      699  Оксана   22  Москва             ultra  3973.046497  24.671163   \n",
       "6496      699  Оксана   22  Москва             ultra  3288.702563  15.892886   \n",
       "6497      699  Оксана   22  Москва             ultra  3076.159348  14.389525   \n",
       "6498      699  Оксана   22  Москва             ultra  4707.845501  15.839579   \n",
       "6499      699  Оксана   22  Москва             ultra  3202.890770  25.217345   \n",
       "\n",
       "           date  month_of_date  minute_price  start_ride_price  \\\n",
       "0    2021-01-01              1             6                 0   \n",
       "1    2021-01-18              1             6                 0   \n",
       "2    2021-04-20              4             6                 0   \n",
       "3    2021-08-11              8             6                 0   \n",
       "4    2021-08-28              8             6                 0   \n",
       "...         ...            ...           ...               ...   \n",
       "6495 2021-08-29              8             6                 0   \n",
       "6496 2021-09-12              9             6                 0   \n",
       "6497 2021-09-26              9             6                 0   \n",
       "6498 2021-10-17             10             6                 0   \n",
       "6499 2021-12-03             12             6                 0   \n",
       "\n",
       "      subscription_fee  \n",
       "0                  199  \n",
       "1                  199  \n",
       "2                  199  \n",
       "3                  199  \n",
       "4                  199  \n",
       "...                ...  \n",
       "6495               199  \n",
       "6496               199  \n",
       "6497               199  \n",
       "6498               199  \n",
       "6499               199  \n",
       "\n",
       "[6500 rows x 12 columns]"
      ]
     },
     "execution_count": 36,
     "metadata": {},
     "output_type": "execute_result"
    }
   ],
   "source": [
    "ultra_users = merged_data.query('subscription_type == \"ultra\"')\n",
    "ultra_users"
   ]
  },
  {
   "cell_type": "code",
   "execution_count": 37,
   "metadata": {},
   "outputs": [
    {
     "data": {
      "image/png": "[encoded data removed]",
      "text/plain": [
       "<Figure size 1080x288 with 1 Axes>"
      ]
     },
     "metadata": {
      "needs_background": "light"
     },
     "output_type": "display_data"
    },
    {
     "data": {
      "image/png": "[encoded data removed]",
      "text/plain": [
       "<Figure size 1080x288 with 1 Axes>"
      ]
     },
     "metadata": {
      "needs_background": "light"
     },
     "output_type": "display_data"
    }
   ],
   "source": [
    "free_users.plot(kind='hist', title='Ride duration for free users', y='duration', bins=40, grid=False, range=(0, 50), figsize=(15,4))\n",
    "plt.xlabel('duration in min')\n",
    "plt.ylabel('frequancy')\n",
    "plt.legend().remove()\n",
    "plt.show()\n",
    "\n",
    "free_users.plot(kind='hist', title='Ride distance for free users', y='distance', bins=30, grid=False, range=(0, 8000), figsize=(15,4))\n",
    "plt.xlabel('distance in m')\n",
    "plt.ylabel('frequancy')\n",
    "plt.legend().remove()\n",
    "plt.show()"
   ]
  },
  {
   "cell_type": "markdown",
   "metadata": {},
   "source": [
    "Most rides by distance are in the range of 2400-3700 m, duration of ride is 12-22 minutes. The peaks  are 16 minutes and 2500 meters.\n",
    "There are several ride distance up to 1000 meters, perhaps,in these cases, scooters are used when changing public transport to a scooter, if destination within 1000 m (when walking is still long enough)."
   ]
  },
  {
   "cell_type": "code",
   "execution_count": 38,
   "metadata": {},
   "outputs": [
    {
     "data": {
      "image/png": "[encoded data removed]",
      "text/plain": [
       "<Figure size 1080x288 with 1 Axes>"
      ]
     },
     "metadata": {
      "needs_background": "light"
     },
     "output_type": "display_data"
    },
    {
     "data": {
      "image/png": "[encoded data removed]",
      "text/plain": [
       "<Figure size 1080x288 with 1 Axes>"
      ]
     },
     "metadata": {
      "needs_background": "light"
     },
     "output_type": "display_data"
    }
   ],
   "source": [
    "ultra_users.plot(kind='hist', title='Ride duration for ultra users', y='duration', bins=40, grid=False, range=(0, 50), figsize=(15,4))\n",
    "plt.xlabel('duration in min')\n",
    "plt.ylabel('frequancy')\n",
    "plt.legend().remove()\n",
    "plt.show()\n",
    "\n",
    "ultra_users.plot(kind='hist', title='Ride distance for ultra users', y='distance', bins=30, grid=False, range=(0, 8000), figsize=(15,4))\n",
    "plt.xlabel('distance in m')\n",
    "plt.ylabel('frequancy')\n",
    "plt.legend().remove()\n",
    "plt.show()"
   ]
  },
  {
   "cell_type": "markdown",
   "metadata": {},
   "source": [
    "The majority of rides by distance fall within the range of 2700-3400 meters, and by duration - 14-21 minutes. Peaks occur at 18 minutes and 3000 meters. It can be assumed that there is a correlation between ultra users and increased trip distance (users with long and more frequent rides may benefit from having a subscription rather than paying for each minute)."
   ]
  },
  {
   "cell_type": "markdown",
   "metadata": {},
   "source": [
    "**Section summary**\n",
    "Combined data and learned  behavior of each type of user based on distance and duration of trips:\n",
    " - *Free users*. Most rides by distance are in the range of 2400-3700 m, duration of ride is 12-22 minutes. The peaks  are 16 minutes and 2500 meters. There are several ride distance up to 1000 meters, perhaps,in these cases, scooters are used when changing public transport to a scooter, if destination within 1000 m (when walking is still long enough).\n",
    " - *Ultra users*. The majority of rides by distance fall within the range of 2700-3400 meters, and by duration - 14-21 minutes. Peaks occur at 18 minutes and 3000 meters. It can be assumed that there is a correlation between ultra users and increased trip distance (users with long and more frequent rides may benefit from having a subscription rather than paying for each minute)."
   ]
  },
  {
   "cell_type": "markdown",
   "metadata": {},
   "source": [
    "## 5. Revenue calculation"
   ]
  },
  {
   "cell_type": "markdown",
   "metadata": {},
   "source": [
    "### Task 1. Creating a dataframe with aggregated rides data based on the dataframe with combined data from 4 sections: finding the total distance, number of rides, and total ride duration for each user per each month."
   ]
  },
  {
   "cell_type": "code",
   "execution_count": 39,
   "metadata": {},
   "outputs": [],
   "source": [
    "# rounding each value with help of np.ceil() in duration column \n",
    "merged_data['duration'] = np.ceil(merged_data['duration'])"
   ]
  },
  {
   "cell_type": "code",
   "execution_count": 40,
   "metadata": {},
   "outputs": [],
   "source": [
    "sum_data = pd.pivot_table(merged_data,\n",
    "                           index=['month_of_date', 'user_id'],\n",
    "                           values = ['distance', 'duration', 'name', 'subscription_type'],\n",
    "                           aggfunc = {'distance': sum, \n",
    "                                      'duration' : sum, \n",
    "                                      'name' : len, \n",
    "                                      'subscription_type' : min})"
   ]
  },
  {
   "cell_type": "code",
   "execution_count": 41,
   "metadata": {},
   "outputs": [
    {
     "data": {
      "text/html": [
       "<div>\n",
       "<style scoped>\n",
       "    .dataframe tbody tr th:only-of-type {\n",
       "        vertical-align: middle;\n",
       "    }\n",
       "\n",
       "    .dataframe tbody tr th {\n",
       "        vertical-align: top;\n",
       "    }\n",
       "\n",
       "    .dataframe thead th {\n",
       "        text-align: right;\n",
       "    }\n",
       "</style>\n",
       "<table border=\"1\" class=\"dataframe\">\n",
       "  <thead>\n",
       "    <tr style=\"text-align: right;\">\n",
       "      <th></th>\n",
       "      <th></th>\n",
       "      <th>distance</th>\n",
       "      <th>duration</th>\n",
       "      <th>name</th>\n",
       "      <th>subscription_type</th>\n",
       "    </tr>\n",
       "    <tr>\n",
       "      <th>month_of_date</th>\n",
       "      <th>user_id</th>\n",
       "      <th></th>\n",
       "      <th></th>\n",
       "      <th></th>\n",
       "      <th></th>\n",
       "    </tr>\n",
       "  </thead>\n",
       "  <tbody>\n",
       "    <tr>\n",
       "      <th rowspan=\"20\" valign=\"top\">1</th>\n",
       "      <th>1</th>\n",
       "      <td>7027.511294</td>\n",
       "      <td>42.0</td>\n",
       "      <td>2</td>\n",
       "      <td>ultra</td>\n",
       "    </tr>\n",
       "    <tr>\n",
       "      <th>1061</th>\n",
       "      <td>12637.249630</td>\n",
       "      <td>43.0</td>\n",
       "      <td>3</td>\n",
       "      <td>free</td>\n",
       "    </tr>\n",
       "    <tr>\n",
       "      <th>1063</th>\n",
       "      <td>3276.362299</td>\n",
       "      <td>10.0</td>\n",
       "      <td>1</td>\n",
       "      <td>free</td>\n",
       "    </tr>\n",
       "    <tr>\n",
       "      <th>1064</th>\n",
       "      <td>5297.324649</td>\n",
       "      <td>15.0</td>\n",
       "      <td>1</td>\n",
       "      <td>free</td>\n",
       "    </tr>\n",
       "    <tr>\n",
       "      <th>1065</th>\n",
       "      <td>14547.099333</td>\n",
       "      <td>99.0</td>\n",
       "      <td>4</td>\n",
       "      <td>free</td>\n",
       "    </tr>\n",
       "    <tr>\n",
       "      <th>1066</th>\n",
       "      <td>2809.064949</td>\n",
       "      <td>19.0</td>\n",
       "      <td>1</td>\n",
       "      <td>free</td>\n",
       "    </tr>\n",
       "    <tr>\n",
       "      <th>1067</th>\n",
       "      <td>3864.900780</td>\n",
       "      <td>22.0</td>\n",
       "      <td>1</td>\n",
       "      <td>free</td>\n",
       "    </tr>\n",
       "    <tr>\n",
       "      <th>1069</th>\n",
       "      <td>7007.076943</td>\n",
       "      <td>53.0</td>\n",
       "      <td>3</td>\n",
       "      <td>free</td>\n",
       "    </tr>\n",
       "    <tr>\n",
       "      <th>1071</th>\n",
       "      <td>3635.094136</td>\n",
       "      <td>15.0</td>\n",
       "      <td>1</td>\n",
       "      <td>free</td>\n",
       "    </tr>\n",
       "    <tr>\n",
       "      <th>1072</th>\n",
       "      <td>2498.615999</td>\n",
       "      <td>11.0</td>\n",
       "      <td>1</td>\n",
       "      <td>free</td>\n",
       "    </tr>\n",
       "    <tr>\n",
       "      <th>1073</th>\n",
       "      <td>2945.802455</td>\n",
       "      <td>16.0</td>\n",
       "      <td>1</td>\n",
       "      <td>free</td>\n",
       "    </tr>\n",
       "    <tr>\n",
       "      <th>1074</th>\n",
       "      <td>2814.793386</td>\n",
       "      <td>22.0</td>\n",
       "      <td>1</td>\n",
       "      <td>free</td>\n",
       "    </tr>\n",
       "    <tr>\n",
       "      <th>1075</th>\n",
       "      <td>5746.745124</td>\n",
       "      <td>29.0</td>\n",
       "      <td>3</td>\n",
       "      <td>free</td>\n",
       "    </tr>\n",
       "    <tr>\n",
       "      <th>1077</th>\n",
       "      <td>114.036199</td>\n",
       "      <td>13.0</td>\n",
       "      <td>1</td>\n",
       "      <td>free</td>\n",
       "    </tr>\n",
       "    <tr>\n",
       "      <th>1078</th>\n",
       "      <td>3748.219563</td>\n",
       "      <td>19.0</td>\n",
       "      <td>1</td>\n",
       "      <td>free</td>\n",
       "    </tr>\n",
       "    <tr>\n",
       "      <th>1082</th>\n",
       "      <td>7250.124895</td>\n",
       "      <td>30.0</td>\n",
       "      <td>2</td>\n",
       "      <td>free</td>\n",
       "    </tr>\n",
       "    <tr>\n",
       "      <th>1083</th>\n",
       "      <td>5848.881463</td>\n",
       "      <td>31.0</td>\n",
       "      <td>2</td>\n",
       "      <td>free</td>\n",
       "    </tr>\n",
       "    <tr>\n",
       "      <th>1084</th>\n",
       "      <td>4615.097141</td>\n",
       "      <td>25.0</td>\n",
       "      <td>1</td>\n",
       "      <td>free</td>\n",
       "    </tr>\n",
       "    <tr>\n",
       "      <th>1085</th>\n",
       "      <td>11410.546346</td>\n",
       "      <td>63.0</td>\n",
       "      <td>3</td>\n",
       "      <td>free</td>\n",
       "    </tr>\n",
       "    <tr>\n",
       "      <th>1086</th>\n",
       "      <td>4044.280322</td>\n",
       "      <td>18.0</td>\n",
       "      <td>1</td>\n",
       "      <td>free</td>\n",
       "    </tr>\n",
       "  </tbody>\n",
       "</table>\n",
       "</div>"
      ],
      "text/plain": [
       "                           distance  duration  name subscription_type\n",
       "month_of_date user_id                                                \n",
       "1             1         7027.511294      42.0     2             ultra\n",
       "              1061     12637.249630      43.0     3              free\n",
       "              1063      3276.362299      10.0     1              free\n",
       "              1064      5297.324649      15.0     1              free\n",
       "              1065     14547.099333      99.0     4              free\n",
       "              1066      2809.064949      19.0     1              free\n",
       "              1067      3864.900780      22.0     1              free\n",
       "              1069      7007.076943      53.0     3              free\n",
       "              1071      3635.094136      15.0     1              free\n",
       "              1072      2498.615999      11.0     1              free\n",
       "              1073      2945.802455      16.0     1              free\n",
       "              1074      2814.793386      22.0     1              free\n",
       "              1075      5746.745124      29.0     3              free\n",
       "              1077       114.036199      13.0     1              free\n",
       "              1078      3748.219563      19.0     1              free\n",
       "              1082      7250.124895      30.0     2              free\n",
       "              1083      5848.881463      31.0     2              free\n",
       "              1084      4615.097141      25.0     1              free\n",
       "              1085     11410.546346      63.0     3              free\n",
       "              1086      4044.280322      18.0     1              free"
      ]
     },
     "execution_count": 41,
     "metadata": {},
     "output_type": "execute_result"
    }
   ],
   "source": [
    "sum_data.sort_values(by='month_of_date').head(20)"
   ]
  },
  {
   "cell_type": "code",
   "execution_count": 42,
   "metadata": {},
   "outputs": [
    {
     "data": {
      "text/plain": [
       "distance             0.0\n",
       "duration             0.0\n",
       "name                 0.0\n",
       "subscription_type    0.0\n",
       "dtype: float64"
      ]
     },
     "execution_count": 42,
     "metadata": {},
     "output_type": "execute_result"
    }
   ],
   "source": [
    "# after agregation. let's check missing values\n",
    "sum_data.isna().mean()"
   ]
  },
  {
   "cell_type": "markdown",
   "metadata": {},
   "source": [
    "### Task 2. Add column with monthly revenue"
   ]
  },
  {
   "cell_type": "code",
   "execution_count": 43,
   "metadata": {
    "scrolled": true
   },
   "outputs": [
    {
     "data": {
      "text/html": [
       "<div>\n",
       "<style scoped>\n",
       "    .dataframe tbody tr th:only-of-type {\n",
       "        vertical-align: middle;\n",
       "    }\n",
       "\n",
       "    .dataframe tbody tr th {\n",
       "        vertical-align: top;\n",
       "    }\n",
       "\n",
       "    .dataframe thead th {\n",
       "        text-align: right;\n",
       "    }\n",
       "</style>\n",
       "<table border=\"1\" class=\"dataframe\">\n",
       "  <thead>\n",
       "    <tr style=\"text-align: right;\">\n",
       "      <th></th>\n",
       "      <th></th>\n",
       "      <th>distance</th>\n",
       "      <th>duration</th>\n",
       "      <th>name</th>\n",
       "      <th>subscription_type</th>\n",
       "      <th>month_revenue</th>\n",
       "    </tr>\n",
       "    <tr>\n",
       "      <th>month_of_date</th>\n",
       "      <th>user_id</th>\n",
       "      <th></th>\n",
       "      <th></th>\n",
       "      <th></th>\n",
       "      <th></th>\n",
       "      <th></th>\n",
       "    </tr>\n",
       "  </thead>\n",
       "  <tbody>\n",
       "    <tr>\n",
       "      <th rowspan=\"10\" valign=\"top\">1</th>\n",
       "      <th>1</th>\n",
       "      <td>7027.511294</td>\n",
       "      <td>42.0</td>\n",
       "      <td>2</td>\n",
       "      <td>ultra</td>\n",
       "      <td>451.0</td>\n",
       "    </tr>\n",
       "    <tr>\n",
       "      <th>3</th>\n",
       "      <td>3061.777147</td>\n",
       "      <td>13.0</td>\n",
       "      <td>1</td>\n",
       "      <td>ultra</td>\n",
       "      <td>277.0</td>\n",
       "    </tr>\n",
       "    <tr>\n",
       "      <th>5</th>\n",
       "      <td>3914.646990</td>\n",
       "      <td>13.0</td>\n",
       "      <td>1</td>\n",
       "      <td>ultra</td>\n",
       "      <td>277.0</td>\n",
       "    </tr>\n",
       "    <tr>\n",
       "      <th>7</th>\n",
       "      <td>6478.080979</td>\n",
       "      <td>28.0</td>\n",
       "      <td>2</td>\n",
       "      <td>ultra</td>\n",
       "      <td>367.0</td>\n",
       "    </tr>\n",
       "    <tr>\n",
       "      <th>12</th>\n",
       "      <td>3577.151148</td>\n",
       "      <td>33.0</td>\n",
       "      <td>1</td>\n",
       "      <td>ultra</td>\n",
       "      <td>397.0</td>\n",
       "    </tr>\n",
       "    <tr>\n",
       "      <th>13</th>\n",
       "      <td>6687.987446</td>\n",
       "      <td>42.0</td>\n",
       "      <td>2</td>\n",
       "      <td>ultra</td>\n",
       "      <td>451.0</td>\n",
       "    </tr>\n",
       "    <tr>\n",
       "      <th>14</th>\n",
       "      <td>7699.643820</td>\n",
       "      <td>35.0</td>\n",
       "      <td>2</td>\n",
       "      <td>ultra</td>\n",
       "      <td>409.0</td>\n",
       "    </tr>\n",
       "    <tr>\n",
       "      <th>15</th>\n",
       "      <td>4187.621459</td>\n",
       "      <td>39.0</td>\n",
       "      <td>1</td>\n",
       "      <td>ultra</td>\n",
       "      <td>433.0</td>\n",
       "    </tr>\n",
       "    <tr>\n",
       "      <th>20</th>\n",
       "      <td>3516.719208</td>\n",
       "      <td>29.0</td>\n",
       "      <td>1</td>\n",
       "      <td>ultra</td>\n",
       "      <td>373.0</td>\n",
       "    </tr>\n",
       "    <tr>\n",
       "      <th>22</th>\n",
       "      <td>3058.692225</td>\n",
       "      <td>13.0</td>\n",
       "      <td>1</td>\n",
       "      <td>ultra</td>\n",
       "      <td>277.0</td>\n",
       "    </tr>\n",
       "  </tbody>\n",
       "</table>\n",
       "</div>"
      ],
      "text/plain": [
       "                          distance  duration  name subscription_type  \\\n",
       "month_of_date user_id                                                  \n",
       "1             1        7027.511294      42.0     2             ultra   \n",
       "              3        3061.777147      13.0     1             ultra   \n",
       "              5        3914.646990      13.0     1             ultra   \n",
       "              7        6478.080979      28.0     2             ultra   \n",
       "              12       3577.151148      33.0     1             ultra   \n",
       "              13       6687.987446      42.0     2             ultra   \n",
       "              14       7699.643820      35.0     2             ultra   \n",
       "              15       4187.621459      39.0     1             ultra   \n",
       "              20       3516.719208      29.0     1             ultra   \n",
       "              22       3058.692225      13.0     1             ultra   \n",
       "\n",
       "                       month_revenue  \n",
       "month_of_date user_id                 \n",
       "1             1                451.0  \n",
       "              3                277.0  \n",
       "              5                277.0  \n",
       "              7                367.0  \n",
       "              12               397.0  \n",
       "              13               451.0  \n",
       "              14               409.0  \n",
       "              15               433.0  \n",
       "              20               373.0  \n",
       "              22               277.0  "
      ]
     },
     "execution_count": 43,
     "metadata": {},
     "output_type": "execute_result"
    }
   ],
   "source": [
    "# writing a function to calculate  monthly revenue for each user type.\n",
    "def month_revenue(row):\n",
    "    if row['subscription_type'] == 'ultra':\n",
    "        return 6 * row['duration'] + 199\n",
    "    elif row['subscription_type'] == 'free':\n",
    "        return 8 * row['duration'] + 50 * row['name']\n",
    "    else:\n",
    "        return 'No that sub'\n",
    "    \n",
    "sum_data['month_revenue'] = sum_data.apply(month_revenue, axis=1)\n",
    "sum_data.head(10)"
   ]
  },
  {
   "cell_type": "markdown",
   "metadata": {},
   "source": [
    "**Section summary**\n",
    " - created a dataframe with aggregated rides data based on the dataframe with combined data from 4 sections: finding the total distance, number of rides, and total ride duration for each user per each month.\n",
    " - calculated  monthly revenue for each user type."
   ]
  },
  {
   "cell_type": "markdown",
   "metadata": {},
   "source": [
    "## 6. Hypotheses testing"
   ]
  },
  {
   "cell_type": "markdown",
   "metadata": {},
   "source": [
    "###  Task 1. Testing whether ultrs users spend more time on rides. If so, users with a subscription may be \"more profitable\" for the company."
   ]
  },
  {
   "cell_type": "markdown",
   "metadata": {},
   "source": [
    "Hypothesis test: users with subscription spend more time for rides than users without subscription.\n",
    "\n",
    "H_0: Duration of ultra users = duration of free users\n",
    "\n",
    "H_1: Duration of ultra users > duration of free users\n",
    "\n",
    "alpha = 0.05"
   ]
  },
  {
   "cell_type": "code",
   "execution_count": 44,
   "metadata": {},
   "outputs": [
    {
     "name": "stdout",
     "output_type": "stream",
     "text": [
      "1.2804098316645613e-34\n",
      "Reject null hypothesis\n"
     ]
    }
   ],
   "source": [
    "# conducting statistical t-test with alpha=0.05\n",
    "ultra = ultra_users['duration'] \n",
    "\n",
    "free = free_users['duration']\n",
    "\n",
    "results = st.ttest_ind(ultra, \n",
    "                       free,\n",
    "                       alternative = 'greater')\n",
    "\n",
    "alpha = 0.05\n",
    "\n",
    "print(results.pvalue)\n",
    "\n",
    "if results.pvalue < alpha:\n",
    "    print('Reject null hypothesis')\n",
    "else:\n",
    "    print('Null hypothesis could not be rejected')"
   ]
  },
  {
   "cell_type": "code",
   "execution_count": 45,
   "metadata": {},
   "outputs": [
    {
     "data": {
      "image/png": "[encoded data removed]",
      "text/plain": [
       "<Figure size 720x360 with 1 Axes>"
      ]
     },
     "metadata": {
      "needs_background": "light"
     },
     "output_type": "display_data"
    }
   ],
   "source": [
    "plt.figure(figsize=(10, 5))\n",
    "ax = sns.barplot(x = 'month_of_date',\n",
    "            y = 'duration',\n",
    "            hue = \"subscription_type\",\n",
    "            data = merged_data,\n",
    "            palette = ['blue', 'grey'])\n",
    "ax.set_title('Distribution of rides duration by type of subscription and month')\n",
    "ax.set(xlabel='Month', ylabel='Rides duration')\n",
    "ax.set_ylim(17, 20) # limit values on y axis to show seasonality\n",
    "plt.show()"
   ]
  },
  {
   "cell_type": "markdown",
   "metadata": {},
   "source": [
    "As confirmation of conducted test, which led us to decision to reject the hypothesis of equality of rides duration by subscription type, visualization also assists. Graph illustrates that users with a subscription tend to use the scooter longer compared to users without a subscription. This trend is observed from month to month.\n",
    "Also we see that `ultra` users are constantly use scooter without changes within months, but `free` users are affected by seasonal fluctuations."
   ]
  },
  {
   "cell_type": "markdown",
   "metadata": {},
   "source": [
    "### Task 2. Distance of 1 ride as 3130 m is optimal in terms of scooter wear and tear. Is it true that average  distance for ultra user per 1 ride not higher than 3130 m?"
   ]
  },
  {
   "cell_type": "markdown",
   "metadata": {},
   "source": [
    "Hypothesis test: Ultra users ride more than 3130 m in average.\n",
    "\n",
    "H_0: Distance of ultra users = distance is 3130 meters\n",
    "\n",
    "H_1: Distance of ultra users > distance is 3130 meters\n",
    "\n",
    "alpha = 0.05"
   ]
  },
  {
   "cell_type": "code",
   "execution_count": 46,
   "metadata": {},
   "outputs": [
    {
     "name": "stdout",
     "output_type": "stream",
     "text": [
      "0.9195368847849785\n",
      "Null hypothesis could not be rejected\n"
     ]
    }
   ],
   "source": [
    "ultra_distance = ultra_users['distance'] \n",
    "\n",
    "target_value = 3130\n",
    "\n",
    "results = st.ttest_1samp(ultra_distance, \n",
    "                       target_value,\n",
    "                       alternative = 'greater')\n",
    "\n",
    "alpha = 0.05\n",
    "\n",
    "print(results.pvalue)\n",
    "\n",
    "if results.pvalue < alpha:\n",
    "    print('Reject null hypothesis')\n",
    "else:\n",
    "    print('Null hypothesis could not be rejected')"
   ]
  },
  {
   "cell_type": "markdown",
   "metadata": {},
   "source": [
    "We cannot say that distance rided by ultra users exceeds 3130 meters."
   ]
  },
  {
   "cell_type": "markdown",
   "metadata": {},
   "source": [
    "### Task 3. Testing hypothesis of  monthly revenue: Is monthly revenue of ultra users higher than of free users?\n",
    "\n",
    "Hypothesis test: monthly revenue of ultra users higher than of free users.\n",
    "\n",
    "H_0: Monthly revenue of ultra users = Monthly revenue of free users\n",
    "\n",
    "H_1: Monthly revenue of ultra users > Monthly revenue of free users\n",
    "\n",
    "alpha = 0.05"
   ]
  },
  {
   "cell_type": "code",
   "execution_count": 47,
   "metadata": {},
   "outputs": [
    {
     "name": "stdout",
     "output_type": "stream",
     "text": [
      "1.8850394384715216e-31\n",
      "Отвергаем нулевую гипотезу\n"
     ]
    }
   ],
   "source": [
    "ultra_month_revenue = sum_data.loc[sum_data.subscription_type == 'ultra', 'month_revenue']\n",
    "free_month_revenue = sum_data.loc[sum_data.subscription_type == 'free', 'month_revenue']\n",
    "\n",
    "results = st.ttest_ind(ultra_month_revenue, \n",
    "                       free_month_revenue,\n",
    "                       alternative = 'greater')\n",
    "\n",
    "alpha = 0.05\n",
    "\n",
    "print(results.pvalue)\n",
    "\n",
    "if results.pvalue < alpha:\n",
    "    print('Отвергаем нулевую гипотезу')\n",
    "else:\n",
    "    print('Не удалось отвергнуть нулевую гипотезу')"
   ]
  },
  {
   "cell_type": "markdown",
   "metadata": {},
   "source": [
    "We can assume that revenue from users on ultra subscription exceeds revenue from users without a subscription."
   ]
  },
  {
   "cell_type": "markdown",
   "metadata": {},
   "source": [
    "### Task 4. Imagine a situation: the technical team of the service has updated the servers with which the mobile application interacts. She hopes that because of this, the number of calls to technical support has significantly decreased. Some file contains data for each user on the number of requests before and after the update. What stat test would you need to test this hypothesis?\n",
    "\n",
    "We will use the hypothesis of equality of means for dependent (paired) samples.\n",
    "\n",
    "The hypotheses will be formulated as follows:\n",
    "\n",
    "* H0: μ1 = μ2\n",
    "* H1: μ1 ≠ μ2\n",
    "\n",
    "Where μ1 and μ2 represent the mean values of the number of support requests before and after the change, respectively.\n",
    "\n",
    "The method to be used for comparison: scipy.stats.ttest_rel()."
   ]
  },
  {
   "cell_type": "markdown",
   "metadata": {},
   "source": [
    "**Summary section**. Tested hypoteses based on the following info:\n",
    "- users with subscription spend more time riding than users on a free plan. Using t-test and visualization, users with subscription riding longer than users without a subscription.\n",
    "- users with subscription do not ride more than 3,130 meters per ride on average. According to t-test results, we cannot say that distance rided by users on the ultra tariff does not exceed 3130 meters.\n",
    "- monthly revenue of users with subscription is higher than the monthly revenue of users without subscription. Based on the t-test results, we can assume that revenue from users on  ultra subscription exceeds revenue from users without subscription."
   ]
  },
  {
   "cell_type": "markdown",
   "metadata": {},
   "source": [
    "## 7. Distributions"
   ]
  },
  {
   "cell_type": "markdown",
   "metadata": {},
   "source": [
    "### Task 1. The GoFast marketing department has been given a task: it is necessary to hold an action with the distribution of promo codes for one month of free subscription, where at least 100 existing customers must renew this subscription. User can either cancel it or extend it by making the appropriate payment at the end of the subscription period\n",
    "This promotion has already been held before , as result, only 10% of users renew their subscription after free trial. Find out what is the minimum number of promo codes you need to send out for reaching probability of not fulfilling the plan in 5%. Select parameters of distribution describing this situation, build distribution graph and formulate answer to the question about the number of promo codes."
   ]
  },
  {
   "cell_type": "markdown",
   "metadata": {},
   "source": [
    "By the condition of task, guess timeframe is important ('one month subscription as free trial'). Therefore, to find the probability of not fulfilling the plan within 5%, we will use the approximation of binomial distribution by the Poisson distribution. We know probability of renewing subscription (p= 0.1), how many customers should renew subscription (100), probability of not fulfilling the plan is 5%, we will find it by using the `cdf` function.\n",
    "We know that in order to reduce the probability of non-fulfillment of the plan of 100 subscriptions, with a small p = 0.1, a sufficiently large n is needed. \n",
    "Let's chosse it below:"
   ]
  },
  {
   "cell_type": "code",
   "execution_count": 48,
   "metadata": {},
   "outputs": [
    {
     "name": "stdout",
     "output_type": "stream",
     "text": [
      "Probability of not fulfilling the plan is not higher than 5%: 0.049973377638439065\n"
     ]
    }
   ],
   "source": [
    "threshold = 100\n",
    "lmbd = 1170*0.1\n",
    "\n",
    "print('Probability of not fulfilling the plan is not higher than 5%:', poisson.cdf(threshold - 1, lmbd))"
   ]
  },
  {
   "cell_type": "code",
   "execution_count": 49,
   "metadata": {},
   "outputs": [
    {
     "data": {
      "image/png": "[encoded data removed]",
      "text/plain": [
       "<Figure size 432x288 with 1 Axes>"
      ]
     },
     "metadata": {
      "needs_background": "light"
     },
     "output_type": "display_data"
    },
    {
     "name": "stdout",
     "output_type": "stream",
     "text": [
      "Average difference in probabilities per value: 0.00031992535628943365\n"
     ]
    }
   ],
   "source": [
    "# Set the parameters of the binomial distribution\n",
    "n = 1170\n",
    "p = 0.1\n",
    "\n",
    "# Calculate the parameter lambda for Poisson approximation\n",
    "lmbd = n * p\n",
    "\n",
    "# Set the range of values for k for plotting:\n",
    "# Add 4 standard deviations to the mean of the binomial distribution\n",
    "std_binom = np.sqrt(n * p * (1 - p))\n",
    "max_value = int(n * p + 4 * std_binom)\n",
    "\n",
    "binom_probs = []\n",
    "poisson_probs = []\n",
    "# For all values from 0 to max_value\n",
    "for k in range(max_value + 1):\n",
    "    # Calculate probability values for the binomial distribution and Poisson distribution\n",
    "    binom_prob = binom.pmf(k, n, p)\n",
    "    poisson_prob = poisson.pmf(k, lmbd)\n",
    "    # Add values to the corresponding lists\n",
    "    binom_probs.append(binom_prob)\n",
    "    poisson_probs.append(poisson_prob)\n",
    "\n",
    "# Plot the graphs\n",
    "plt.plot(range(max_value + 1), binom_probs, 'bo', label=f'Binomial distribution with n={n} and p={p}')\n",
    "plt.plot(range(max_value + 1), poisson_probs, 'rd', label='Poisson distribution approximation')\n",
    "plt.xlabel(f'k: number of successes for B{n,p} / events for Pois({lmbd})')\n",
    "plt.ylabel('Probability of k')\n",
    "plt.legend()\n",
    "plt.show()\n",
    "\n",
    "# Find the total approximation error:\n",
    "error_values = []\n",
    "for i in range(max_value + 1):\n",
    "    error = abs(binom_probs[i] - poisson_probs[i])\n",
    "    error_values.append(error)\n",
    "\n",
    "print('Average difference in probabilities per value:', sum(error_values) / len(error_values))"
   ]
  },
  {
   "cell_type": "markdown",
   "metadata": {},
   "source": [
    "According to the results of calculating probability of failure in about 5%, we can recommend marketing department distributing at least 1170 promo codes in order to get high probability of subscription renewal in 100 users and higher in a month.\n",
    "We can also say that by visualizattion, our method of calculating N through approximation of binomial distribution by Poisson distribution is optimal, since error between distributions after aprozimation is almost 0."
   ]
  },
  {
   "cell_type": "markdown",
   "metadata": {},
   "source": [
    "### Task 2. The marketing department sends push notifications to customers in mobile app. Customers can open it or not open it. It is known that about 40% of received clients open notifications. Department plans to send out 1 million notifications. Use the approximation to build approximate distribution graph and estimate probability that no more than 399.5 thousand users open notification."
   ]
  },
  {
   "cell_type": "markdown",
   "metadata": {},
   "source": [
    "To find the probability of opening notification no more than 399.5 thousand times, we use normal binomial distribution approximation. We know probability of opening a notification (p=0.4), how many clients should open notification at most (399.5K), if total of 1 million notifications will be sent. Find it using the `cdf` function."
   ]
  },
  {
   "cell_type": "code",
   "execution_count": 50,
   "metadata": {},
   "outputs": [
    {
     "name": "stdout",
     "output_type": "stream",
     "text": [
      "Probability that no more than 399.5k users open notification: 0.15371708296369768\n"
     ]
    }
   ],
   "source": [
    "# Set the parameters of the binomial distribution\n",
    "n = 1000000\n",
    "p = 0.4\n",
    "\n",
    "# Set the parameters of the normal distribution equal to\n",
    "# the mean and variance of the binomial distribution\n",
    "mu = n * p\n",
    "sigma = sqrt(n * p * (1 - p))\n",
    "\n",
    "# Set the normal distribution\n",
    "distr = st.norm(mu, sigma)\n",
    "\n",
    "# Calculate the probability of the left tail below 399.5 thousand\n",
    "result = distr.cdf(399500)\n",
    "print('Probability that no more than 399.5k users open notification:', result)"
   ]
  },
  {
   "cell_type": "markdown",
   "metadata": {},
   "source": [
    "Further visualizating approximation"
   ]
  },
  {
   "cell_type": "code",
   "execution_count": 51,
   "metadata": {},
   "outputs": [
    {
     "data": {
      "image/png": "[encoded data removed]",
      "text/plain": [
       "<Figure size 432x288 with 1 Axes>"
      ]
     },
     "metadata": {
      "needs_background": "light"
     },
     "output_type": "display_data"
    },
    {
     "name": "stdout",
     "output_type": "stream",
     "text": [
      "The condition is met\n"
     ]
    }
   ],
   "source": [
    "# Define a function that returns <num> numbers,\n",
    "# uniformly distributed from <start> to <stop>\n",
    "# (needed for visualizing the normal distribution)\n",
    "def linspace(start, stop, num):\n",
    "    step = (stop - start) / (num - 1)\n",
    "    result = []\n",
    "    for i in range(num):\n",
    "        result.append(start + step * i)\n",
    "    return result\n",
    "\n",
    "# Set the parameters of the binomial distribution\n",
    "n = 1000000\n",
    "p = 0.4\n",
    "\n",
    "# Set the interval boundaries for building the approximation -\n",
    "# from n*p minus 4 standard deviations of the binomial distribution\n",
    "# to n*p plus 4 standard deviations of the binomial distribution\n",
    "# (where the probabilities of values are almost non-zero)\n",
    "left = int(n * p - 4 * sqrt(n * p * (1 - p)))\n",
    "right = int(n * p + 4 * sqrt(n * p * (1 - p)))\n",
    "\n",
    "# Define a set of values ​​of the binomial distribution in the selected interval:\n",
    "# all non-negative integers from left to right\n",
    "x = list(range(max(0, left), right))\n",
    "# Plot the graph of the binomial distribution\n",
    "ax = plt.subplot()\n",
    "# Use blue circle markers\n",
    "ax.plot(x, binom.pmf(x, n, p), 'bo', \n",
    "\t      label='probabilities of the binomial distribution')\n",
    "\n",
    "# Set the parameters of the normal distribution equal to\n",
    "# the mean and variance of the binomial distribution\n",
    "mu = n * p\n",
    "sigma = sqrt(n * p * (1 - p))\n",
    "\n",
    "# Plot the graph of the normal distribution:\n",
    "# get a list of 100 numbers from left to right\n",
    "x = linspace(left, right, 100)\n",
    "# Use a red line with a width of 4 and transparency of 0.8\n",
    "ax.plot(x, norm.pdf(x, mu, sigma), 'r-', lw=4, alpha=0.8, label='probability density of the normal distribution')\n",
    "\n",
    "# Set the x-axis labels within ± 3 standard deviations from the mean\n",
    "# (the last argument in the range method is the interval between labels)\n",
    "x_ticks = list(range(int(mu - 3 * sigma), int(mu + 3 * sigma), 200))\n",
    "ax.set_xticks(x_ticks)\n",
    "ax.set_xticklabels(x_ticks, rotation=45)\n",
    "\n",
    "# Set the optimal location for the legend and display the plot\n",
    "ax.legend(loc='best')\n",
    "plt.show()\n",
    "\n",
    "# Display whether our approximation condition is met:\n",
    "# whether mu ± 3 sigma is in the interval from 0 to n:\n",
    "if (mu - (3 * sigma) >= 0) and ((mu + (3 * sigma) <= n)):\n",
    "    print('The condition is met')\n",
    "else:\n",
    "    print('The condition is not met')"
   ]
  },
  {
   "cell_type": "markdown",
   "metadata": {},
   "source": [
    "Probability of receiving notifications up to 399.5 thousand times is approximately 15%. Obviously, this probability is not small. We will pass this information to the marketing department for further business decisions.\n",
    "\n",
    "By plotting a graph based on the obtained data, we can assert that our method of calculating probability using the approximation of the binomial distribution by the normal distribution is optimal, as the approximation condition is met."
   ]
  },
  {
   "cell_type": "markdown",
   "metadata": {},
   "source": [
    "**Section summary** \n",
    "- calculated probability of failure to complete plan at 5%, we can recommend distributing at least 1170 promo codes in order to receive subscription renewal from 100 users with a high probability in a month.\n",
    "- calculated the probability of opening notification no more than 399.5 thousand times, and it was about 15%. Obviously, the probability value is not small. We passed this information to marketing department for making subsequent business decisions."
   ]
  },
  {
   "cell_type": "markdown",
   "metadata": {},
   "source": [
    "<div style=\"border:solid blue 3px; padding: 20px\">\n",
    "\n",
    "## Main summary\n",
    "    \n",
    "During the project, data analysis of the GoFast scooter rental service  was conducted. Some hypotheses were tested and recommendations were formulated that could help business to grow.\n",
    "\n",
    "1. Data preprocessing was done on 3 dataframes - checked for missing values, added month by using `pandas`, found explicit duplicates, and removed them from users dataframe with subsequent index restoration.\n",
    "\n",
    "2. Exploratory analysis of users and rides were conducted, revealing the following patterns:\n",
    "   - 55% of service users are withoutsubscription, 45% are with subscription.\n",
    "   - average age of users is 25 years. The maximum is just over 40 years.\n",
    "   - average distance per ride is 3100 meters.\n",
    "   - average ride duration is about 18 minutes.\n",
    "\n",
    "3. Merging dataframes and learned behavior of each type of user by distance and duration of 1 ride:\n",
    "   - *Free users*. Most rides by distance are in range of 2400-3700 m, and by ride duration - 12-22 minutes. Peaks are at 16 minutes and 2500 meters. There are some users with ride distance of up to 1000 meters, possibly scooters are used when users are switching public transport to scooters if the destination is about 1000 meters away (when walking is still quite long).\n",
    "   - *Ultra users*. Most rides by distance are in the range of 2700-3400 m, and by ride duration - 14-21 minutes. Peaks are at 18 minutes and 3000 m. Guess there is connection between using a subscription and increasing ride distance (users with longer and more frequent rides are normally having a subscription rather than paying for every minute).\n",
    "\n",
    "4. Calculated and added monthly revenue for each type of user to a new column.\n",
    "\n",
    "5. Hypotheses were tested based on the data:\n",
    "- users with subscription spend more time riding than users on a free plan. Using t-test and visualization, users with subscription riding longer than users without a subscription.\n",
    "- users with subscription do not ride more than 3,130 meters per ride on average. According to t-test results, we cannot say that distance rided by users on the ultra tariff does not exceed 3130 meters.\n",
    "- monthly revenue of users with subscription is higher than the monthly revenue of users without subscription. Based on the t-test results, we can assume that revenue from users on  ultra subscription exceeds revenue from users without subscription.\n",
    "\n",
    "6. Developed recommendations based on the use of statistical methods for planned activities for marketing department, namely:\n",
    "   - it is recommended distributing no less than 1170 promo codes to achieve a high probability of getting subscription renewals from 100 users after a month in case of failure to achieve the plan by 5%.\n",
    "   - calculated probability of opening push notification no more than 399.5 thousand times with distribution of 1 million notifications and probability of opening them by users at 40%. Obviously, the calculated probability value (15%) is not small. Passed this information to marketing department for making subsequent business decisions."
   ]
  }
 ],
 "metadata": {
  "ExecuteTimeLog": [
   {
    "duration": 1308,
    "start_time": "2023-11-13T07:48:42.730Z"
   },
   {
    "duration": 196,
    "start_time": "2023-11-13T07:48:47.599Z"
   },
   {
    "duration": 12,
    "start_time": "2023-11-13T07:50:26.468Z"
   },
   {
    "duration": 8,
    "start_time": "2023-11-13T07:50:44.810Z"
   },
   {
    "duration": 8,
    "start_time": "2023-11-13T07:50:47.099Z"
   },
   {
    "duration": 8,
    "start_time": "2023-11-13T07:50:51.554Z"
   },
   {
    "duration": 8,
    "start_time": "2023-11-13T07:50:54.529Z"
   },
   {
    "duration": 7,
    "start_time": "2023-11-13T07:51:00.058Z"
   },
   {
    "duration": 8,
    "start_time": "2023-11-13T07:59:10.394Z"
   },
   {
    "duration": 8,
    "start_time": "2023-11-13T07:59:17.610Z"
   },
   {
    "duration": 8,
    "start_time": "2023-11-13T07:59:27.474Z"
   },
   {
    "duration": 4,
    "start_time": "2023-11-13T08:02:19.144Z"
   },
   {
    "duration": 12,
    "start_time": "2023-11-13T08:02:31.524Z"
   },
   {
    "duration": 11,
    "start_time": "2023-11-13T08:03:05.495Z"
   },
   {
    "duration": 10,
    "start_time": "2023-11-13T08:03:43.284Z"
   },
   {
    "duration": 51,
    "start_time": "2023-11-13T08:06:43.575Z"
   },
   {
    "duration": 12,
    "start_time": "2023-11-13T08:06:55.695Z"
   },
   {
    "duration": 10,
    "start_time": "2023-11-13T08:07:11.915Z"
   },
   {
    "duration": 12,
    "start_time": "2023-11-13T08:08:33.969Z"
   },
   {
    "duration": 12,
    "start_time": "2023-11-13T08:08:36.249Z"
   },
   {
    "duration": 8,
    "start_time": "2023-11-13T08:16:27.894Z"
   },
   {
    "duration": 10,
    "start_time": "2023-11-13T08:16:45.659Z"
   },
   {
    "duration": 8,
    "start_time": "2023-11-13T08:17:03.629Z"
   },
   {
    "duration": 10,
    "start_time": "2023-11-13T08:17:21.500Z"
   },
   {
    "duration": 97,
    "start_time": "2023-11-13T08:33:08.469Z"
   },
   {
    "duration": 6,
    "start_time": "2023-11-13T08:33:16.635Z"
   },
   {
    "duration": 9,
    "start_time": "2023-11-13T08:33:30.909Z"
   },
   {
    "duration": 5,
    "start_time": "2023-11-13T08:33:49.410Z"
   },
   {
    "duration": 10,
    "start_time": "2023-11-13T08:33:51.330Z"
   },
   {
    "duration": 1207,
    "start_time": "2023-11-13T08:34:40.953Z"
   },
   {
    "duration": 69,
    "start_time": "2023-11-13T08:34:42.162Z"
   },
   {
    "duration": 12,
    "start_time": "2023-11-13T08:34:42.232Z"
   },
   {
    "duration": 8,
    "start_time": "2023-11-13T08:34:42.245Z"
   },
   {
    "duration": 7,
    "start_time": "2023-11-13T08:34:42.255Z"
   },
   {
    "duration": 12,
    "start_time": "2023-11-13T08:34:42.263Z"
   },
   {
    "duration": 9,
    "start_time": "2023-11-13T08:34:42.277Z"
   },
   {
    "duration": 10,
    "start_time": "2023-11-13T08:34:42.287Z"
   },
   {
    "duration": 46,
    "start_time": "2023-11-13T08:34:42.299Z"
   },
   {
    "duration": 27,
    "start_time": "2023-11-13T08:34:42.347Z"
   },
   {
    "duration": 12,
    "start_time": "2023-11-13T08:34:42.375Z"
   },
   {
    "duration": 7,
    "start_time": "2023-11-13T08:34:42.388Z"
   },
   {
    "duration": 17,
    "start_time": "2023-11-13T08:34:42.396Z"
   },
   {
    "duration": 4,
    "start_time": "2023-11-13T08:34:42.416Z"
   },
   {
    "duration": 9,
    "start_time": "2023-11-13T08:34:42.421Z"
   },
   {
    "duration": 104,
    "start_time": "2023-11-13T08:38:08.903Z"
   },
   {
    "duration": 9,
    "start_time": "2023-11-13T08:38:30.613Z"
   },
   {
    "duration": 9,
    "start_time": "2023-11-13T08:39:09.337Z"
   },
   {
    "duration": 6,
    "start_time": "2023-11-13T08:42:36.353Z"
   },
   {
    "duration": 4,
    "start_time": "2023-11-13T08:42:48.138Z"
   },
   {
    "duration": 8,
    "start_time": "2023-11-13T08:42:53.447Z"
   },
   {
    "duration": 8,
    "start_time": "2023-11-13T08:43:10.187Z"
   },
   {
    "duration": 10,
    "start_time": "2023-11-13T08:43:16.323Z"
   },
   {
    "duration": 4,
    "start_time": "2023-11-13T08:43:24.163Z"
   },
   {
    "duration": 4,
    "start_time": "2023-11-13T08:48:50.018Z"
   },
   {
    "duration": 11,
    "start_time": "2023-11-13T08:50:09.163Z"
   },
   {
    "duration": 12,
    "start_time": "2023-11-13T08:50:16.823Z"
   },
   {
    "duration": 11,
    "start_time": "2023-11-13T08:50:24.703Z"
   },
   {
    "duration": 11,
    "start_time": "2023-11-13T08:50:31.608Z"
   },
   {
    "duration": 11,
    "start_time": "2023-11-13T08:50:37.323Z"
   },
   {
    "duration": 11,
    "start_time": "2023-11-13T08:50:42.013Z"
   },
   {
    "duration": 5,
    "start_time": "2023-11-13T08:51:26.852Z"
   },
   {
    "duration": 4,
    "start_time": "2023-11-13T08:51:59.487Z"
   },
   {
    "duration": 4,
    "start_time": "2023-11-13T08:52:19.177Z"
   },
   {
    "duration": 11,
    "start_time": "2023-11-13T08:55:31.173Z"
   },
   {
    "duration": 6,
    "start_time": "2023-11-13T08:56:04.547Z"
   },
   {
    "duration": 8,
    "start_time": "2023-11-13T08:56:06.732Z"
   },
   {
    "duration": 5,
    "start_time": "2023-11-13T08:56:08.847Z"
   },
   {
    "duration": 6,
    "start_time": "2023-11-13T08:57:44.442Z"
   },
   {
    "duration": 11,
    "start_time": "2023-11-13T08:57:58.282Z"
   },
   {
    "duration": 13,
    "start_time": "2023-11-13T08:59:13.033Z"
   },
   {
    "duration": 8,
    "start_time": "2023-11-13T09:12:17.774Z"
   },
   {
    "duration": 1196,
    "start_time": "2023-11-13T09:15:01.959Z"
   },
   {
    "duration": 67,
    "start_time": "2023-11-13T09:15:03.157Z"
   },
   {
    "duration": 11,
    "start_time": "2023-11-13T09:15:03.225Z"
   },
   {
    "duration": 13,
    "start_time": "2023-11-13T09:15:03.238Z"
   },
   {
    "duration": 13,
    "start_time": "2023-11-13T09:15:03.253Z"
   },
   {
    "duration": 17,
    "start_time": "2023-11-13T09:15:03.267Z"
   },
   {
    "duration": 25,
    "start_time": "2023-11-13T09:15:03.286Z"
   },
   {
    "duration": 47,
    "start_time": "2023-11-13T09:15:03.312Z"
   },
   {
    "duration": 55,
    "start_time": "2023-11-13T09:15:03.361Z"
   },
   {
    "duration": 9,
    "start_time": "2023-11-13T09:15:03.418Z"
   },
   {
    "duration": 15,
    "start_time": "2023-11-13T09:15:03.429Z"
   },
   {
    "duration": 7,
    "start_time": "2023-11-13T09:15:03.445Z"
   },
   {
    "duration": 18,
    "start_time": "2023-11-13T09:15:03.453Z"
   },
   {
    "duration": 4,
    "start_time": "2023-11-13T09:15:03.473Z"
   },
   {
    "duration": 8,
    "start_time": "2023-11-13T09:15:03.479Z"
   },
   {
    "duration": 9,
    "start_time": "2023-11-13T09:15:03.488Z"
   },
   {
    "duration": 6,
    "start_time": "2023-11-13T09:15:03.499Z"
   },
   {
    "duration": 21,
    "start_time": "2023-11-13T09:15:03.506Z"
   },
   {
    "duration": 7,
    "start_time": "2023-11-13T09:15:03.528Z"
   },
   {
    "duration": 4,
    "start_time": "2023-11-13T09:15:03.537Z"
   },
   {
    "duration": 0,
    "start_time": "2023-11-13T09:17:48.853Z"
   },
   {
    "duration": 5,
    "start_time": "2023-11-13T09:19:20.040Z"
   },
   {
    "duration": 4,
    "start_time": "2023-11-13T09:19:46.030Z"
   },
   {
    "duration": 5,
    "start_time": "2023-11-13T09:32:08.645Z"
   },
   {
    "duration": 8,
    "start_time": "2023-11-13T09:32:24.140Z"
   },
   {
    "duration": 9,
    "start_time": "2023-11-13T09:32:32.760Z"
   },
   {
    "duration": 8,
    "start_time": "2023-11-13T09:32:46.620Z"
   },
   {
    "duration": 13,
    "start_time": "2023-11-13T09:33:08.190Z"
   },
   {
    "duration": 11,
    "start_time": "2023-11-13T09:33:58.961Z"
   },
   {
    "duration": 13,
    "start_time": "2023-11-13T09:36:49.419Z"
   },
   {
    "duration": 12,
    "start_time": "2023-11-13T09:37:00.341Z"
   },
   {
    "duration": 5,
    "start_time": "2023-11-13T09:37:09.470Z"
   },
   {
    "duration": 12,
    "start_time": "2023-11-13T09:37:23.560Z"
   },
   {
    "duration": 16,
    "start_time": "2023-11-13T09:37:35.865Z"
   },
   {
    "duration": 22,
    "start_time": "2023-11-13T09:42:31.264Z"
   },
   {
    "duration": 12,
    "start_time": "2023-11-13T09:46:23.769Z"
   },
   {
    "duration": 227,
    "start_time": "2023-11-13T09:47:10.624Z"
   },
   {
    "duration": 217,
    "start_time": "2023-11-13T09:47:40.509Z"
   },
   {
    "duration": 177,
    "start_time": "2023-11-13T09:47:51.309Z"
   },
   {
    "duration": 15,
    "start_time": "2023-11-13T09:49:04.479Z"
   },
   {
    "duration": 13,
    "start_time": "2023-11-13T09:50:20.394Z"
   },
   {
    "duration": 13,
    "start_time": "2023-11-13T09:51:01.124Z"
   },
   {
    "duration": 178,
    "start_time": "2023-11-13T09:51:51.639Z"
   },
   {
    "duration": 20,
    "start_time": "2023-11-13T09:53:50.918Z"
   },
   {
    "duration": 18,
    "start_time": "2023-11-13T09:55:16.524Z"
   },
   {
    "duration": 22,
    "start_time": "2023-11-13T09:55:33.688Z"
   },
   {
    "duration": 18,
    "start_time": "2023-11-13T09:55:40.499Z"
   },
   {
    "duration": 19,
    "start_time": "2023-11-13T09:56:35.672Z"
   },
   {
    "duration": 19,
    "start_time": "2023-11-13T09:57:23.288Z"
   },
   {
    "duration": 23,
    "start_time": "2023-11-13T09:57:32.180Z"
   },
   {
    "duration": 13,
    "start_time": "2023-11-13T09:57:47.404Z"
   },
   {
    "duration": 16,
    "start_time": "2023-11-13T09:59:53.239Z"
   },
   {
    "duration": 9,
    "start_time": "2023-11-13T10:03:13.718Z"
   },
   {
    "duration": 4,
    "start_time": "2023-11-13T10:03:33.099Z"
   },
   {
    "duration": 13,
    "start_time": "2023-11-13T10:04:51.539Z"
   },
   {
    "duration": 5,
    "start_time": "2023-11-13T10:07:11.158Z"
   },
   {
    "duration": 4,
    "start_time": "2023-11-13T10:07:22.044Z"
   },
   {
    "duration": 14,
    "start_time": "2023-11-13T10:08:09.698Z"
   },
   {
    "duration": 14,
    "start_time": "2023-11-13T10:08:22.120Z"
   },
   {
    "duration": 10,
    "start_time": "2023-11-13T10:09:37.093Z"
   },
   {
    "duration": 20,
    "start_time": "2023-11-13T10:10:01.883Z"
   },
   {
    "duration": 172,
    "start_time": "2023-11-13T10:11:34.812Z"
   },
   {
    "duration": 170,
    "start_time": "2023-11-13T10:11:52.839Z"
   },
   {
    "duration": 2277,
    "start_time": "2023-11-13T10:22:59.960Z"
   },
   {
    "duration": 2399,
    "start_time": "2023-11-13T10:23:12.119Z"
   },
   {
    "duration": 2,
    "start_time": "2023-11-13T10:23:56.275Z"
   },
   {
    "duration": 4,
    "start_time": "2023-11-13T10:24:12.214Z"
   },
   {
    "duration": 12,
    "start_time": "2023-11-13T10:25:37.569Z"
   },
   {
    "duration": 129,
    "start_time": "2023-11-13T10:26:31.348Z"
   },
   {
    "duration": 8,
    "start_time": "2023-11-13T10:26:34.804Z"
   },
   {
    "duration": 12,
    "start_time": "2023-11-13T10:26:58.364Z"
   },
   {
    "duration": 9,
    "start_time": "2023-11-13T10:29:29.675Z"
   },
   {
    "duration": 12,
    "start_time": "2023-11-13T10:29:41.895Z"
   },
   {
    "duration": 6,
    "start_time": "2023-11-13T10:31:09.420Z"
   },
   {
    "duration": 8,
    "start_time": "2023-11-13T10:31:28.575Z"
   },
   {
    "duration": 18,
    "start_time": "2023-11-13T10:32:54.075Z"
   },
   {
    "duration": 179,
    "start_time": "2023-11-13T10:33:00.355Z"
   },
   {
    "duration": 4,
    "start_time": "2023-11-13T10:33:15.595Z"
   },
   {
    "duration": 4,
    "start_time": "2023-11-13T10:33:30.895Z"
   },
   {
    "duration": 5,
    "start_time": "2023-11-13T10:33:42.934Z"
   },
   {
    "duration": 9,
    "start_time": "2023-11-13T10:33:57.369Z"
   },
   {
    "duration": 8,
    "start_time": "2023-11-13T10:34:11.550Z"
   },
   {
    "duration": 4,
    "start_time": "2023-11-13T10:34:16.273Z"
   },
   {
    "duration": 10,
    "start_time": "2023-11-13T10:34:42.400Z"
   },
   {
    "duration": 8,
    "start_time": "2023-11-13T10:44:15.095Z"
   },
   {
    "duration": 7,
    "start_time": "2023-11-13T10:44:35.505Z"
   },
   {
    "duration": 12,
    "start_time": "2023-11-13T10:45:23.670Z"
   },
   {
    "duration": 14,
    "start_time": "2023-11-13T10:45:29.363Z"
   },
   {
    "duration": 7,
    "start_time": "2023-11-13T10:45:35.454Z"
   },
   {
    "duration": 3,
    "start_time": "2023-11-13T10:46:19.835Z"
   },
   {
    "duration": 187,
    "start_time": "2023-11-13T10:50:42.154Z"
   },
   {
    "duration": 11,
    "start_time": "2023-11-13T10:51:17.935Z"
   },
   {
    "duration": 5339,
    "start_time": "2023-11-13T10:58:41.424Z"
   },
   {
    "duration": 7,
    "start_time": "2023-11-13T10:59:09.084Z"
   },
   {
    "duration": 16,
    "start_time": "2023-11-13T11:07:09.059Z"
   },
   {
    "duration": 16,
    "start_time": "2023-11-13T11:07:25.849Z"
   },
   {
    "duration": 12,
    "start_time": "2023-11-13T11:11:52.374Z"
   },
   {
    "duration": 300,
    "start_time": "2023-11-13T11:37:06.629Z"
   },
   {
    "duration": 108,
    "start_time": "2023-11-13T11:38:02.424Z"
   },
   {
    "duration": 12,
    "start_time": "2023-11-13T11:38:27.205Z"
   },
   {
    "duration": 363,
    "start_time": "2023-11-13T11:38:41.949Z"
   },
   {
    "duration": 413,
    "start_time": "2023-11-13T11:39:01.300Z"
   },
   {
    "duration": 316,
    "start_time": "2023-11-13T11:39:17.138Z"
   },
   {
    "duration": 327,
    "start_time": "2023-11-13T11:39:48.778Z"
   },
   {
    "duration": 151,
    "start_time": "2023-11-13T11:47:00.394Z"
   },
   {
    "duration": 21,
    "start_time": "2023-11-13T11:47:20.010Z"
   },
   {
    "duration": 15,
    "start_time": "2023-11-13T11:47:48.358Z"
   },
   {
    "duration": 15,
    "start_time": "2023-11-13T11:49:06.223Z"
   },
   {
    "duration": 15,
    "start_time": "2023-11-13T11:49:39.474Z"
   },
   {
    "duration": 15,
    "start_time": "2023-11-13T11:50:53.194Z"
   },
   {
    "duration": 8,
    "start_time": "2023-11-13T11:51:10.614Z"
   },
   {
    "duration": 22,
    "start_time": "2023-11-13T11:51:19.793Z"
   },
   {
    "duration": 17,
    "start_time": "2023-11-13T11:51:38.118Z"
   },
   {
    "duration": 100,
    "start_time": "2023-11-13T11:51:59.144Z"
   },
   {
    "duration": 105,
    "start_time": "2023-11-13T11:52:06.198Z"
   },
   {
    "duration": 123,
    "start_time": "2023-11-13T11:53:22.624Z"
   },
   {
    "duration": 11,
    "start_time": "2023-11-13T11:54:32.823Z"
   },
   {
    "duration": 1438,
    "start_time": "2023-11-13T11:55:27.099Z"
   },
   {
    "duration": 1455,
    "start_time": "2023-11-13T11:57:48.403Z"
   },
   {
    "duration": 12,
    "start_time": "2023-11-13T11:59:02.626Z"
   },
   {
    "duration": 151,
    "start_time": "2023-11-13T11:59:36.287Z"
   },
   {
    "duration": 2463,
    "start_time": "2023-11-13T12:00:07.053Z"
   },
   {
    "duration": 9,
    "start_time": "2023-11-13T12:00:23.117Z"
   },
   {
    "duration": 101,
    "start_time": "2023-11-13T12:00:48.267Z"
   },
   {
    "duration": 9,
    "start_time": "2023-11-13T12:03:33.733Z"
   },
   {
    "duration": 117,
    "start_time": "2023-11-13T12:03:40.073Z"
   },
   {
    "duration": 134,
    "start_time": "2023-11-13T12:04:30.837Z"
   },
   {
    "duration": 79,
    "start_time": "2023-11-13T12:04:59.456Z"
   },
   {
    "duration": 124,
    "start_time": "2023-11-13T12:05:39.643Z"
   },
   {
    "duration": 153,
    "start_time": "2023-11-13T12:32:39.499Z"
   },
   {
    "duration": 134,
    "start_time": "2023-11-13T12:33:49.163Z"
   },
   {
    "duration": 132,
    "start_time": "2023-11-13T12:33:57.404Z"
   },
   {
    "duration": 255,
    "start_time": "2023-11-13T12:34:34.884Z"
   },
   {
    "duration": 277,
    "start_time": "2023-11-13T12:35:11.054Z"
   },
   {
    "duration": 5,
    "start_time": "2023-11-13T12:36:32.458Z"
   },
   {
    "duration": 7,
    "start_time": "2023-11-13T12:36:39.513Z"
   },
   {
    "duration": 1201,
    "start_time": "2023-11-13T12:55:15.790Z"
   },
   {
    "duration": 68,
    "start_time": "2023-11-13T12:55:16.993Z"
   },
   {
    "duration": 11,
    "start_time": "2023-11-13T12:55:17.063Z"
   },
   {
    "duration": 11,
    "start_time": "2023-11-13T12:55:17.076Z"
   },
   {
    "duration": 12,
    "start_time": "2023-11-13T12:55:17.089Z"
   },
   {
    "duration": 15,
    "start_time": "2023-11-13T12:55:17.103Z"
   },
   {
    "duration": 28,
    "start_time": "2023-11-13T12:55:17.120Z"
   },
   {
    "duration": 20,
    "start_time": "2023-11-13T12:55:17.149Z"
   },
   {
    "duration": 50,
    "start_time": "2023-11-13T12:55:17.171Z"
   },
   {
    "duration": 11,
    "start_time": "2023-11-13T12:55:17.222Z"
   },
   {
    "duration": 32,
    "start_time": "2023-11-13T12:55:17.235Z"
   },
   {
    "duration": 8,
    "start_time": "2023-11-13T12:55:17.268Z"
   },
   {
    "duration": 21,
    "start_time": "2023-11-13T12:55:17.278Z"
   },
   {
    "duration": 5,
    "start_time": "2023-11-13T12:55:17.303Z"
   },
   {
    "duration": 25,
    "start_time": "2023-11-13T12:55:17.309Z"
   },
   {
    "duration": 12,
    "start_time": "2023-11-13T12:55:17.336Z"
   },
   {
    "duration": 6,
    "start_time": "2023-11-13T12:55:17.350Z"
   },
   {
    "duration": 16,
    "start_time": "2023-11-13T12:55:17.358Z"
   },
   {
    "duration": 8,
    "start_time": "2023-11-13T12:55:17.376Z"
   },
   {
    "duration": 11,
    "start_time": "2023-11-13T12:55:17.386Z"
   },
   {
    "duration": 18,
    "start_time": "2023-11-13T12:55:17.399Z"
   },
   {
    "duration": 16,
    "start_time": "2023-11-13T12:55:17.419Z"
   },
   {
    "duration": 33,
    "start_time": "2023-11-13T12:55:17.437Z"
   },
   {
    "duration": 189,
    "start_time": "2023-11-13T12:55:17.472Z"
   },
   {
    "duration": 17,
    "start_time": "2023-11-13T12:55:17.666Z"
   },
   {
    "duration": 146,
    "start_time": "2023-11-13T12:55:17.685Z"
   },
   {
    "duration": 304,
    "start_time": "2023-11-13T12:55:17.834Z"
   },
   {
    "duration": 8,
    "start_time": "2023-11-13T12:55:18.139Z"
   },
   {
    "duration": 18913,
    "start_time": "2023-11-13T12:55:18.148Z"
   },
   {
    "duration": 151,
    "start_time": "2023-11-13T13:04:28.620Z"
   },
   {
    "duration": 8,
    "start_time": "2023-11-13T13:08:36.135Z"
   },
   {
    "duration": 251,
    "start_time": "2023-11-13T13:13:15.754Z"
   },
   {
    "duration": 201,
    "start_time": "2023-11-13T13:13:51.804Z"
   },
   {
    "duration": 204,
    "start_time": "2023-11-13T13:13:57.645Z"
   },
   {
    "duration": 499,
    "start_time": "2023-11-13T13:14:05.119Z"
   },
   {
    "duration": 8,
    "start_time": "2023-11-13T13:17:37.110Z"
   },
   {
    "duration": 233,
    "start_time": "2023-11-13T13:19:17.054Z"
   },
   {
    "duration": 172,
    "start_time": "2023-11-13T13:19:26.489Z"
   },
   {
    "duration": 180,
    "start_time": "2023-11-13T13:19:40.142Z"
   },
   {
    "duration": 244,
    "start_time": "2023-11-13T13:24:29.032Z"
   },
   {
    "duration": 16,
    "start_time": "2023-11-13T14:19:17.135Z"
   },
   {
    "duration": 13,
    "start_time": "2023-11-13T14:19:18.108Z"
   },
   {
    "duration": 14,
    "start_time": "2023-11-13T14:19:38.829Z"
   },
   {
    "duration": 14,
    "start_time": "2023-11-13T14:19:54.084Z"
   },
   {
    "duration": 17,
    "start_time": "2023-11-13T14:20:05.569Z"
   },
   {
    "duration": 25,
    "start_time": "2023-11-13T14:21:06.654Z"
   },
   {
    "duration": 8,
    "start_time": "2023-11-13T14:23:10.119Z"
   },
   {
    "duration": 29,
    "start_time": "2023-11-13T14:23:23.519Z"
   },
   {
    "duration": 19,
    "start_time": "2023-11-13T14:24:42.314Z"
   },
   {
    "duration": 189,
    "start_time": "2023-11-13T14:29:07.009Z"
   },
   {
    "duration": 186,
    "start_time": "2023-11-13T14:29:18.364Z"
   },
   {
    "duration": 204,
    "start_time": "2023-11-13T14:29:25.245Z"
   },
   {
    "duration": 231,
    "start_time": "2023-11-13T14:30:09.534Z"
   },
   {
    "duration": 198,
    "start_time": "2023-11-13T14:30:16.329Z"
   },
   {
    "duration": 491,
    "start_time": "2023-11-13T14:30:56.844Z"
   },
   {
    "duration": 408,
    "start_time": "2023-11-13T14:31:14.874Z"
   },
   {
    "duration": 419,
    "start_time": "2023-11-13T14:31:37.184Z"
   },
   {
    "duration": 389,
    "start_time": "2023-11-13T14:31:45.205Z"
   },
   {
    "duration": 396,
    "start_time": "2023-11-13T14:31:51.359Z"
   },
   {
    "duration": 501,
    "start_time": "2023-11-13T14:35:01.869Z"
   },
   {
    "duration": 406,
    "start_time": "2023-11-13T14:47:18.850Z"
   },
   {
    "duration": 474,
    "start_time": "2023-11-13T14:47:31.910Z"
   },
   {
    "duration": 393,
    "start_time": "2023-11-13T14:47:42.084Z"
   },
   {
    "duration": 109,
    "start_time": "2023-11-13T15:02:42.660Z"
   },
   {
    "duration": 864,
    "start_time": "2023-11-13T15:03:13.453Z"
   },
   {
    "duration": 15,
    "start_time": "2023-11-13T15:06:51.639Z"
   },
   {
    "duration": 9,
    "start_time": "2023-11-13T15:07:00.314Z"
   },
   {
    "duration": 13,
    "start_time": "2023-11-13T15:08:02.463Z"
   },
   {
    "duration": 11,
    "start_time": "2023-11-13T15:08:32.469Z"
   },
   {
    "duration": 20,
    "start_time": "2023-11-13T15:09:27.343Z"
   },
   {
    "duration": 14,
    "start_time": "2023-11-13T15:09:30.385Z"
   },
   {
    "duration": 14,
    "start_time": "2023-11-13T15:58:35.463Z"
   },
   {
    "duration": 11,
    "start_time": "2023-11-13T15:58:36.251Z"
   },
   {
    "duration": 1204,
    "start_time": "2023-11-13T15:59:25.346Z"
   },
   {
    "duration": 69,
    "start_time": "2023-11-13T15:59:26.552Z"
   },
   {
    "duration": 12,
    "start_time": "2023-11-13T15:59:26.622Z"
   },
   {
    "duration": 11,
    "start_time": "2023-11-13T15:59:26.636Z"
   },
   {
    "duration": 12,
    "start_time": "2023-11-13T15:59:26.649Z"
   },
   {
    "duration": 15,
    "start_time": "2023-11-13T15:59:26.662Z"
   },
   {
    "duration": 18,
    "start_time": "2023-11-13T15:59:26.679Z"
   },
   {
    "duration": 9,
    "start_time": "2023-11-13T15:59:26.699Z"
   },
   {
    "duration": 57,
    "start_time": "2023-11-13T15:59:26.709Z"
   },
   {
    "duration": 11,
    "start_time": "2023-11-13T15:59:26.769Z"
   },
   {
    "duration": 14,
    "start_time": "2023-11-13T15:59:26.781Z"
   },
   {
    "duration": 46,
    "start_time": "2023-11-13T15:59:26.796Z"
   },
   {
    "duration": 30,
    "start_time": "2023-11-13T15:59:26.844Z"
   },
   {
    "duration": 14,
    "start_time": "2023-11-13T15:59:26.876Z"
   },
   {
    "duration": 11,
    "start_time": "2023-11-13T15:59:26.891Z"
   },
   {
    "duration": 7,
    "start_time": "2023-11-13T15:59:26.904Z"
   },
   {
    "duration": 9,
    "start_time": "2023-11-13T15:59:26.912Z"
   },
   {
    "duration": 82,
    "start_time": "2023-11-13T15:59:26.923Z"
   },
   {
    "duration": 5,
    "start_time": "2023-11-13T15:59:27.007Z"
   },
   {
    "duration": 10,
    "start_time": "2023-11-13T15:59:27.014Z"
   },
   {
    "duration": 16,
    "start_time": "2023-11-13T15:59:27.025Z"
   },
   {
    "duration": 9,
    "start_time": "2023-11-13T15:59:27.042Z"
   },
   {
    "duration": 26,
    "start_time": "2023-11-13T15:59:27.053Z"
   },
   {
    "duration": 177,
    "start_time": "2023-11-13T15:59:27.080Z"
   },
   {
    "duration": 18,
    "start_time": "2023-11-13T15:59:27.259Z"
   },
   {
    "duration": 136,
    "start_time": "2023-11-13T15:59:27.279Z"
   },
   {
    "duration": 269,
    "start_time": "2023-11-13T15:59:27.416Z"
   },
   {
    "duration": 7,
    "start_time": "2023-11-13T15:59:27.689Z"
   },
   {
    "duration": 14,
    "start_time": "2023-11-13T15:59:27.697Z"
   },
   {
    "duration": 254,
    "start_time": "2023-11-13T15:59:27.712Z"
   },
   {
    "duration": 11,
    "start_time": "2023-11-13T15:59:27.968Z"
   },
   {
    "duration": 230,
    "start_time": "2023-11-13T15:59:27.981Z"
   },
   {
    "duration": 12,
    "start_time": "2023-11-13T15:59:28.212Z"
   },
   {
    "duration": 10,
    "start_time": "2023-11-13T15:59:28.225Z"
   },
   {
    "duration": 34,
    "start_time": "2023-11-13T15:59:28.237Z"
   },
   {
    "duration": 22,
    "start_time": "2023-11-13T15:59:28.273Z"
   },
   {
    "duration": 19,
    "start_time": "2023-11-13T15:59:28.297Z"
   },
   {
    "duration": 566,
    "start_time": "2023-11-13T15:59:28.318Z"
   },
   {
    "duration": 440,
    "start_time": "2023-11-13T15:59:28.886Z"
   },
   {
    "duration": 13,
    "start_time": "2023-11-13T15:59:29.328Z"
   },
   {
    "duration": 25,
    "start_time": "2023-11-13T15:59:29.343Z"
   },
   {
    "duration": 23,
    "start_time": "2023-11-13T15:59:29.370Z"
   },
   {
    "duration": 112,
    "start_time": "2023-11-13T16:06:47.646Z"
   },
   {
    "duration": 890,
    "start_time": "2023-11-13T16:07:36.711Z"
   },
   {
    "duration": 4,
    "start_time": "2023-11-13T16:07:39.187Z"
   },
   {
    "duration": 14,
    "start_time": "2023-11-13T16:07:40.311Z"
   },
   {
    "duration": 141,
    "start_time": "2023-11-13T16:10:38.436Z"
   },
   {
    "duration": 134,
    "start_time": "2023-11-13T16:17:39.001Z"
   },
   {
    "duration": 149,
    "start_time": "2023-11-13T16:17:59.731Z"
   },
   {
    "duration": 1473,
    "start_time": "2023-11-14T06:19:29.485Z"
   },
   {
    "duration": 324,
    "start_time": "2023-11-14T06:19:30.961Z"
   },
   {
    "duration": 13,
    "start_time": "2023-11-14T06:19:31.287Z"
   },
   {
    "duration": 90,
    "start_time": "2023-11-14T06:19:31.302Z"
   },
   {
    "duration": 37,
    "start_time": "2023-11-14T06:19:31.393Z"
   },
   {
    "duration": 40,
    "start_time": "2023-11-14T06:19:31.432Z"
   },
   {
    "duration": 37,
    "start_time": "2023-11-14T06:19:31.474Z"
   },
   {
    "duration": 48,
    "start_time": "2023-11-14T06:19:31.513Z"
   },
   {
    "duration": 96,
    "start_time": "2023-11-14T06:19:31.563Z"
   },
   {
    "duration": 11,
    "start_time": "2023-11-14T06:19:31.663Z"
   },
   {
    "duration": 23,
    "start_time": "2023-11-14T06:19:31.676Z"
   },
   {
    "duration": 16,
    "start_time": "2023-11-14T06:19:31.701Z"
   },
   {
    "duration": 19,
    "start_time": "2023-11-14T06:19:31.719Z"
   },
   {
    "duration": 6,
    "start_time": "2023-11-14T06:19:31.740Z"
   },
   {
    "duration": 18,
    "start_time": "2023-11-14T06:19:31.748Z"
   },
   {
    "duration": 17,
    "start_time": "2023-11-14T06:19:31.767Z"
   },
   {
    "duration": 21,
    "start_time": "2023-11-14T06:19:31.786Z"
   },
   {
    "duration": 40,
    "start_time": "2023-11-14T06:19:31.808Z"
   },
   {
    "duration": 8,
    "start_time": "2023-11-14T06:19:31.850Z"
   },
   {
    "duration": 25,
    "start_time": "2023-11-14T06:19:31.860Z"
   },
   {
    "duration": 25,
    "start_time": "2023-11-14T06:19:31.886Z"
   },
   {
    "duration": 13,
    "start_time": "2023-11-14T06:19:31.913Z"
   },
   {
    "duration": 21,
    "start_time": "2023-11-14T06:19:31.927Z"
   },
   {
    "duration": 216,
    "start_time": "2023-11-14T06:19:31.950Z"
   },
   {
    "duration": 18,
    "start_time": "2023-11-14T06:19:32.167Z"
   },
   {
    "duration": 173,
    "start_time": "2023-11-14T06:19:32.186Z"
   },
   {
    "duration": 290,
    "start_time": "2023-11-14T06:19:32.361Z"
   },
   {
    "duration": 9,
    "start_time": "2023-11-14T06:19:32.656Z"
   },
   {
    "duration": 13,
    "start_time": "2023-11-14T06:19:32.667Z"
   },
   {
    "duration": 504,
    "start_time": "2023-11-14T06:19:32.682Z"
   },
   {
    "duration": 8,
    "start_time": "2023-11-14T06:19:33.188Z"
   },
   {
    "duration": 250,
    "start_time": "2023-11-14T06:19:33.198Z"
   },
   {
    "duration": 13,
    "start_time": "2023-11-14T06:19:33.449Z"
   },
   {
    "duration": 11,
    "start_time": "2023-11-14T06:19:33.463Z"
   },
   {
    "duration": 22,
    "start_time": "2023-11-14T06:19:33.475Z"
   },
   {
    "duration": 55,
    "start_time": "2023-11-14T06:19:33.499Z"
   },
   {
    "duration": 31,
    "start_time": "2023-11-14T06:19:33.558Z"
   },
   {
    "duration": 521,
    "start_time": "2023-11-14T06:19:33.591Z"
   },
   {
    "duration": 459,
    "start_time": "2023-11-14T06:19:34.114Z"
   },
   {
    "duration": 904,
    "start_time": "2023-11-14T06:19:34.576Z"
   },
   {
    "duration": 4,
    "start_time": "2023-11-14T06:19:35.482Z"
   },
   {
    "duration": 16,
    "start_time": "2023-11-14T06:19:35.488Z"
   },
   {
    "duration": 170,
    "start_time": "2023-11-14T06:19:35.506Z"
   },
   {
    "duration": 1516,
    "start_time": "2023-11-14T08:35:02.054Z"
   },
   {
    "duration": 200,
    "start_time": "2023-11-14T08:35:03.572Z"
   },
   {
    "duration": 11,
    "start_time": "2023-11-14T08:35:03.774Z"
   },
   {
    "duration": 44,
    "start_time": "2023-11-14T08:35:03.787Z"
   },
   {
    "duration": 15,
    "start_time": "2023-11-14T08:35:03.833Z"
   },
   {
    "duration": 28,
    "start_time": "2023-11-14T08:35:03.849Z"
   },
   {
    "duration": 32,
    "start_time": "2023-11-14T08:35:03.878Z"
   },
   {
    "duration": 24,
    "start_time": "2023-11-14T08:35:03.911Z"
   },
   {
    "duration": 57,
    "start_time": "2023-11-14T08:35:03.936Z"
   },
   {
    "duration": 11,
    "start_time": "2023-11-14T08:35:03.995Z"
   },
   {
    "duration": 26,
    "start_time": "2023-11-14T08:35:04.008Z"
   },
   {
    "duration": 9,
    "start_time": "2023-11-14T08:35:04.036Z"
   },
   {
    "duration": 52,
    "start_time": "2023-11-14T08:35:04.047Z"
   },
   {
    "duration": 19,
    "start_time": "2023-11-14T08:35:04.102Z"
   },
   {
    "duration": 33,
    "start_time": "2023-11-14T08:35:04.122Z"
   },
   {
    "duration": 39,
    "start_time": "2023-11-14T08:35:04.156Z"
   },
   {
    "duration": 17,
    "start_time": "2023-11-14T08:35:04.196Z"
   },
   {
    "duration": 33,
    "start_time": "2023-11-14T08:35:04.215Z"
   },
   {
    "duration": 11,
    "start_time": "2023-11-14T08:35:04.250Z"
   },
   {
    "duration": 28,
    "start_time": "2023-11-14T08:35:04.263Z"
   },
   {
    "duration": 18,
    "start_time": "2023-11-14T08:35:04.293Z"
   },
   {
    "duration": 28,
    "start_time": "2023-11-14T08:35:04.312Z"
   },
   {
    "duration": 21,
    "start_time": "2023-11-14T08:35:04.341Z"
   },
   {
    "duration": 178,
    "start_time": "2023-11-14T08:35:04.364Z"
   },
   {
    "duration": 22,
    "start_time": "2023-11-14T08:35:04.543Z"
   },
   {
    "duration": 142,
    "start_time": "2023-11-14T08:35:04.567Z"
   },
   {
    "duration": 275,
    "start_time": "2023-11-14T08:35:04.711Z"
   },
   {
    "duration": 7,
    "start_time": "2023-11-14T08:35:04.988Z"
   },
   {
    "duration": 19,
    "start_time": "2023-11-14T08:35:04.997Z"
   },
   {
    "duration": 252,
    "start_time": "2023-11-14T08:35:05.018Z"
   },
   {
    "duration": 8,
    "start_time": "2023-11-14T08:35:05.272Z"
   },
   {
    "duration": 218,
    "start_time": "2023-11-14T08:35:05.282Z"
   },
   {
    "duration": 11,
    "start_time": "2023-11-14T08:35:05.502Z"
   },
   {
    "duration": 27,
    "start_time": "2023-11-14T08:35:05.515Z"
   },
   {
    "duration": 34,
    "start_time": "2023-11-14T08:35:05.543Z"
   },
   {
    "duration": 69,
    "start_time": "2023-11-14T08:35:05.579Z"
   },
   {
    "duration": 51,
    "start_time": "2023-11-14T08:35:05.649Z"
   },
   {
    "duration": 491,
    "start_time": "2023-11-14T08:35:05.702Z"
   },
   {
    "duration": 414,
    "start_time": "2023-11-14T08:35:06.195Z"
   },
   {
    "duration": 859,
    "start_time": "2023-11-14T08:35:06.611Z"
   },
   {
    "duration": 4,
    "start_time": "2023-11-14T08:35:07.473Z"
   },
   {
    "duration": 26,
    "start_time": "2023-11-14T08:35:07.478Z"
   },
   {
    "duration": 142,
    "start_time": "2023-11-14T08:35:07.506Z"
   },
   {
    "duration": 7,
    "start_time": "2023-11-14T09:19:52.879Z"
   },
   {
    "duration": 266,
    "start_time": "2023-11-14T09:24:45.698Z"
   },
   {
    "duration": 136,
    "start_time": "2023-11-14T09:25:08.808Z"
   },
   {
    "duration": 1224,
    "start_time": "2023-11-14T09:26:18.449Z"
   },
   {
    "duration": 71,
    "start_time": "2023-11-14T09:26:19.675Z"
   },
   {
    "duration": 11,
    "start_time": "2023-11-14T09:26:19.748Z"
   },
   {
    "duration": 36,
    "start_time": "2023-11-14T09:26:19.762Z"
   },
   {
    "duration": 15,
    "start_time": "2023-11-14T09:26:19.800Z"
   },
   {
    "duration": 19,
    "start_time": "2023-11-14T09:26:19.817Z"
   },
   {
    "duration": 18,
    "start_time": "2023-11-14T09:26:19.838Z"
   },
   {
    "duration": 37,
    "start_time": "2023-11-14T09:26:19.858Z"
   },
   {
    "duration": 64,
    "start_time": "2023-11-14T09:26:19.897Z"
   },
   {
    "duration": 12,
    "start_time": "2023-11-14T09:26:19.965Z"
   },
   {
    "duration": 23,
    "start_time": "2023-11-14T09:26:19.979Z"
   },
   {
    "duration": 17,
    "start_time": "2023-11-14T09:26:20.004Z"
   },
   {
    "duration": 37,
    "start_time": "2023-11-14T09:26:20.022Z"
   },
   {
    "duration": 14,
    "start_time": "2023-11-14T09:26:20.061Z"
   },
   {
    "duration": 47,
    "start_time": "2023-11-14T09:26:20.077Z"
   },
   {
    "duration": 23,
    "start_time": "2023-11-14T09:26:20.126Z"
   },
   {
    "duration": 26,
    "start_time": "2023-11-14T09:26:20.151Z"
   },
   {
    "duration": 12,
    "start_time": "2023-11-14T09:26:20.179Z"
   },
   {
    "duration": 5,
    "start_time": "2023-11-14T09:26:20.193Z"
   },
   {
    "duration": 32,
    "start_time": "2023-11-14T09:26:20.200Z"
   },
   {
    "duration": 28,
    "start_time": "2023-11-14T09:26:20.234Z"
   },
   {
    "duration": 11,
    "start_time": "2023-11-14T09:26:20.263Z"
   },
   {
    "duration": 21,
    "start_time": "2023-11-14T09:26:20.276Z"
   },
   {
    "duration": 224,
    "start_time": "2023-11-14T09:26:20.299Z"
   },
   {
    "duration": 17,
    "start_time": "2023-11-14T09:26:20.525Z"
   },
   {
    "duration": 191,
    "start_time": "2023-11-14T09:26:20.544Z"
   },
   {
    "duration": 300,
    "start_time": "2023-11-14T09:26:20.738Z"
   },
   {
    "duration": 8,
    "start_time": "2023-11-14T09:26:21.043Z"
   },
   {
    "duration": 11,
    "start_time": "2023-11-14T09:26:21.066Z"
   },
   {
    "duration": 242,
    "start_time": "2023-11-14T09:26:21.079Z"
   },
   {
    "duration": 9,
    "start_time": "2023-11-14T09:26:21.323Z"
   },
   {
    "duration": 217,
    "start_time": "2023-11-14T09:26:21.334Z"
   },
   {
    "duration": 19,
    "start_time": "2023-11-14T09:26:21.553Z"
   },
   {
    "duration": 11,
    "start_time": "2023-11-14T09:26:21.573Z"
   },
   {
    "duration": 30,
    "start_time": "2023-11-14T09:26:21.586Z"
   },
   {
    "duration": 27,
    "start_time": "2023-11-14T09:26:21.618Z"
   },
   {
    "duration": 28,
    "start_time": "2023-11-14T09:26:21.647Z"
   },
   {
    "duration": 547,
    "start_time": "2023-11-14T09:26:21.677Z"
   },
   {
    "duration": 420,
    "start_time": "2023-11-14T09:26:22.226Z"
   },
   {
    "duration": 926,
    "start_time": "2023-11-14T09:26:22.648Z"
   },
   {
    "duration": 4,
    "start_time": "2023-11-14T09:26:23.575Z"
   },
   {
    "duration": 36,
    "start_time": "2023-11-14T09:26:23.580Z"
   },
   {
    "duration": 154,
    "start_time": "2023-11-14T09:26:23.618Z"
   },
   {
    "duration": 6,
    "start_time": "2023-11-14T09:26:23.774Z"
   },
   {
    "duration": 1333,
    "start_time": "2023-11-14T09:29:04.023Z"
   },
   {
    "duration": 68,
    "start_time": "2023-11-14T09:29:05.358Z"
   },
   {
    "duration": 12,
    "start_time": "2023-11-14T09:29:05.427Z"
   },
   {
    "duration": 15,
    "start_time": "2023-11-14T09:29:05.440Z"
   },
   {
    "duration": 15,
    "start_time": "2023-11-14T09:29:05.457Z"
   },
   {
    "duration": 18,
    "start_time": "2023-11-14T09:29:05.474Z"
   },
   {
    "duration": 24,
    "start_time": "2023-11-14T09:29:05.494Z"
   },
   {
    "duration": 10,
    "start_time": "2023-11-14T09:29:05.520Z"
   },
   {
    "duration": 53,
    "start_time": "2023-11-14T09:29:05.531Z"
   },
   {
    "duration": 12,
    "start_time": "2023-11-14T09:29:05.585Z"
   },
   {
    "duration": 14,
    "start_time": "2023-11-14T09:29:05.598Z"
   },
   {
    "duration": 7,
    "start_time": "2023-11-14T09:29:05.614Z"
   },
   {
    "duration": 21,
    "start_time": "2023-11-14T09:29:05.623Z"
   },
   {
    "duration": 18,
    "start_time": "2023-11-14T09:29:05.647Z"
   },
   {
    "duration": 8,
    "start_time": "2023-11-14T09:29:05.667Z"
   },
   {
    "duration": 11,
    "start_time": "2023-11-14T09:29:05.677Z"
   },
   {
    "duration": 8,
    "start_time": "2023-11-14T09:29:05.690Z"
   },
   {
    "duration": 22,
    "start_time": "2023-11-14T09:29:05.699Z"
   },
   {
    "duration": 5,
    "start_time": "2023-11-14T09:29:05.722Z"
   },
   {
    "duration": 6,
    "start_time": "2023-11-14T09:29:05.728Z"
   },
   {
    "duration": 30,
    "start_time": "2023-11-14T09:29:05.735Z"
   },
   {
    "duration": 5,
    "start_time": "2023-11-14T09:29:05.767Z"
   },
   {
    "duration": 28,
    "start_time": "2023-11-14T09:29:05.774Z"
   },
   {
    "duration": 217,
    "start_time": "2023-11-14T09:29:05.803Z"
   },
   {
    "duration": 15,
    "start_time": "2023-11-14T09:29:06.022Z"
   },
   {
    "duration": 153,
    "start_time": "2023-11-14T09:29:06.039Z"
   },
   {
    "duration": 268,
    "start_time": "2023-11-14T09:29:06.194Z"
   },
   {
    "duration": 7,
    "start_time": "2023-11-14T09:29:06.465Z"
   },
   {
    "duration": 25,
    "start_time": "2023-11-14T09:29:06.474Z"
   },
   {
    "duration": 232,
    "start_time": "2023-11-14T09:29:06.501Z"
   },
   {
    "duration": 8,
    "start_time": "2023-11-14T09:29:06.735Z"
   },
   {
    "duration": 215,
    "start_time": "2023-11-14T09:29:06.744Z"
   },
   {
    "duration": 13,
    "start_time": "2023-11-14T09:29:06.960Z"
   },
   {
    "duration": 11,
    "start_time": "2023-11-14T09:29:06.975Z"
   },
   {
    "duration": 34,
    "start_time": "2023-11-14T09:29:06.988Z"
   },
   {
    "duration": 26,
    "start_time": "2023-11-14T09:29:07.024Z"
   },
   {
    "duration": 31,
    "start_time": "2023-11-14T09:29:07.051Z"
   },
   {
    "duration": 484,
    "start_time": "2023-11-14T09:29:07.083Z"
   },
   {
    "duration": 405,
    "start_time": "2023-11-14T09:29:07.569Z"
   },
   {
    "duration": 901,
    "start_time": "2023-11-14T09:29:07.976Z"
   },
   {
    "duration": 4,
    "start_time": "2023-11-14T09:29:08.880Z"
   },
   {
    "duration": 17,
    "start_time": "2023-11-14T09:29:08.885Z"
   },
   {
    "duration": 152,
    "start_time": "2023-11-14T09:29:08.904Z"
   },
   {
    "duration": 11,
    "start_time": "2023-11-14T09:29:09.057Z"
   },
   {
    "duration": 126579,
    "start_time": "2023-11-14T09:34:45.006Z"
   },
   {
    "duration": 0,
    "start_time": "2023-11-14T09:36:51.586Z"
   },
   {
    "duration": 1740,
    "start_time": "2023-11-14T09:39:03.282Z"
   },
   {
    "duration": 8,
    "start_time": "2023-11-14T09:39:09.347Z"
   },
   {
    "duration": 143,
    "start_time": "2023-11-14T09:39:27.907Z"
   },
   {
    "duration": 169,
    "start_time": "2023-11-14T09:45:17.804Z"
   },
   {
    "duration": 174,
    "start_time": "2023-11-14T09:45:17.975Z"
   },
   {
    "duration": 183,
    "start_time": "2023-11-14T09:46:20.818Z"
   },
   {
    "duration": 128,
    "start_time": "2023-11-14T09:47:01.787Z"
   },
   {
    "duration": 190,
    "start_time": "2023-11-14T09:47:16.981Z"
   },
   {
    "duration": 320,
    "start_time": "2023-11-14T09:48:48.032Z"
   },
   {
    "duration": 282,
    "start_time": "2023-11-14T09:53:04.681Z"
   },
   {
    "duration": 284,
    "start_time": "2023-11-14T09:54:32.601Z"
   },
   {
    "duration": 185,
    "start_time": "2023-11-14T09:58:36.271Z"
   },
   {
    "duration": 12,
    "start_time": "2023-11-14T09:59:47.751Z"
   },
   {
    "duration": 155,
    "start_time": "2023-11-14T09:59:57.148Z"
   },
   {
    "duration": 1217,
    "start_time": "2023-11-14T10:02:01.403Z"
   },
   {
    "duration": 117,
    "start_time": "2023-11-14T10:02:02.622Z"
   },
   {
    "duration": 15,
    "start_time": "2023-11-14T10:02:02.741Z"
   },
   {
    "duration": 25,
    "start_time": "2023-11-14T10:02:02.758Z"
   },
   {
    "duration": 54,
    "start_time": "2023-11-14T10:02:02.785Z"
   },
   {
    "duration": 62,
    "start_time": "2023-11-14T10:02:02.842Z"
   },
   {
    "duration": 74,
    "start_time": "2023-11-14T10:02:02.907Z"
   },
   {
    "duration": 48,
    "start_time": "2023-11-14T10:02:02.983Z"
   },
   {
    "duration": 140,
    "start_time": "2023-11-14T10:02:03.033Z"
   },
   {
    "duration": 77,
    "start_time": "2023-11-14T10:02:03.175Z"
   },
   {
    "duration": 49,
    "start_time": "2023-11-14T10:02:03.254Z"
   },
   {
    "duration": 28,
    "start_time": "2023-11-14T10:02:03.306Z"
   },
   {
    "duration": 25,
    "start_time": "2023-11-14T10:02:03.336Z"
   },
   {
    "duration": 10,
    "start_time": "2023-11-14T10:02:03.364Z"
   },
   {
    "duration": 21,
    "start_time": "2023-11-14T10:02:03.376Z"
   },
   {
    "duration": 23,
    "start_time": "2023-11-14T10:02:03.398Z"
   },
   {
    "duration": 15,
    "start_time": "2023-11-14T10:02:03.423Z"
   },
   {
    "duration": 23,
    "start_time": "2023-11-14T10:02:03.440Z"
   },
   {
    "duration": 10,
    "start_time": "2023-11-14T10:02:03.465Z"
   },
   {
    "duration": 22,
    "start_time": "2023-11-14T10:02:03.478Z"
   },
   {
    "duration": 25,
    "start_time": "2023-11-14T10:02:03.502Z"
   },
   {
    "duration": 17,
    "start_time": "2023-11-14T10:02:03.529Z"
   },
   {
    "duration": 33,
    "start_time": "2023-11-14T10:02:03.548Z"
   },
   {
    "duration": 203,
    "start_time": "2023-11-14T10:02:03.583Z"
   },
   {
    "duration": 24,
    "start_time": "2023-11-14T10:02:03.789Z"
   },
   {
    "duration": 164,
    "start_time": "2023-11-14T10:02:03.815Z"
   },
   {
    "duration": 280,
    "start_time": "2023-11-14T10:02:03.981Z"
   },
   {
    "duration": 7,
    "start_time": "2023-11-14T10:02:04.266Z"
   },
   {
    "duration": 16,
    "start_time": "2023-11-14T10:02:04.275Z"
   },
   {
    "duration": 250,
    "start_time": "2023-11-14T10:02:04.293Z"
   },
   {
    "duration": 9,
    "start_time": "2023-11-14T10:02:04.544Z"
   },
   {
    "duration": 223,
    "start_time": "2023-11-14T10:02:04.554Z"
   },
   {
    "duration": 11,
    "start_time": "2023-11-14T10:02:04.778Z"
   },
   {
    "duration": 10,
    "start_time": "2023-11-14T10:02:04.791Z"
   },
   {
    "duration": 18,
    "start_time": "2023-11-14T10:02:04.802Z"
   },
   {
    "duration": 129,
    "start_time": "2023-11-14T10:02:04.822Z"
   },
   {
    "duration": 30,
    "start_time": "2023-11-14T10:02:04.952Z"
   },
   {
    "duration": 416,
    "start_time": "2023-11-14T10:02:04.984Z"
   },
   {
    "duration": 475,
    "start_time": "2023-11-14T10:02:05.401Z"
   },
   {
    "duration": 995,
    "start_time": "2023-11-14T10:02:05.878Z"
   },
   {
    "duration": 4,
    "start_time": "2023-11-14T10:02:06.877Z"
   },
   {
    "duration": 16,
    "start_time": "2023-11-14T10:02:06.882Z"
   },
   {
    "duration": 170,
    "start_time": "2023-11-14T10:02:06.900Z"
   },
   {
    "duration": 8,
    "start_time": "2023-11-14T10:02:07.071Z"
   },
   {
    "duration": 130,
    "start_time": "2023-11-14T10:02:07.080Z"
   },
   {
    "duration": 14,
    "start_time": "2023-11-14T10:04:51.062Z"
   },
   {
    "duration": 150,
    "start_time": "2023-11-14T10:05:03.927Z"
   },
   {
    "duration": 13,
    "start_time": "2023-11-14T10:05:34.388Z"
   },
   {
    "duration": 6,
    "start_time": "2023-11-14T10:05:47.482Z"
   },
   {
    "duration": 6,
    "start_time": "2023-11-14T10:05:50.752Z"
   },
   {
    "duration": 13,
    "start_time": "2023-11-14T10:05:53.007Z"
   },
   {
    "duration": 13,
    "start_time": "2023-11-14T10:11:01.839Z"
   },
   {
    "duration": 12,
    "start_time": "2023-11-14T10:11:10.020Z"
   },
   {
    "duration": 1383,
    "start_time": "2023-11-14T10:12:01.107Z"
   },
   {
    "duration": 73,
    "start_time": "2023-11-14T10:12:02.492Z"
   },
   {
    "duration": 12,
    "start_time": "2023-11-14T10:12:02.566Z"
   },
   {
    "duration": 19,
    "start_time": "2023-11-14T10:12:02.580Z"
   },
   {
    "duration": 23,
    "start_time": "2023-11-14T10:12:02.601Z"
   },
   {
    "duration": 34,
    "start_time": "2023-11-14T10:12:02.626Z"
   },
   {
    "duration": 57,
    "start_time": "2023-11-14T10:12:02.662Z"
   },
   {
    "duration": 103,
    "start_time": "2023-11-14T10:12:02.721Z"
   },
   {
    "duration": 104,
    "start_time": "2023-11-14T10:12:02.826Z"
   },
   {
    "duration": 12,
    "start_time": "2023-11-14T10:12:02.932Z"
   },
   {
    "duration": 21,
    "start_time": "2023-11-14T10:12:02.946Z"
   },
   {
    "duration": 25,
    "start_time": "2023-11-14T10:12:02.969Z"
   },
   {
    "duration": 26,
    "start_time": "2023-11-14T10:12:02.996Z"
   },
   {
    "duration": 14,
    "start_time": "2023-11-14T10:12:03.023Z"
   },
   {
    "duration": 26,
    "start_time": "2023-11-14T10:12:03.039Z"
   },
   {
    "duration": 14,
    "start_time": "2023-11-14T10:12:03.066Z"
   },
   {
    "duration": 28,
    "start_time": "2023-11-14T10:12:03.081Z"
   },
   {
    "duration": 30,
    "start_time": "2023-11-14T10:12:03.111Z"
   },
   {
    "duration": 14,
    "start_time": "2023-11-14T10:12:03.142Z"
   },
   {
    "duration": 9,
    "start_time": "2023-11-14T10:12:03.158Z"
   },
   {
    "duration": 12,
    "start_time": "2023-11-14T10:12:03.168Z"
   },
   {
    "duration": 6,
    "start_time": "2023-11-14T10:12:03.182Z"
   },
   {
    "duration": 16,
    "start_time": "2023-11-14T10:12:03.189Z"
   },
   {
    "duration": 209,
    "start_time": "2023-11-14T10:12:03.206Z"
   },
   {
    "duration": 17,
    "start_time": "2023-11-14T10:12:03.416Z"
   },
   {
    "duration": 153,
    "start_time": "2023-11-14T10:12:03.434Z"
   },
   {
    "duration": 308,
    "start_time": "2023-11-14T10:12:03.589Z"
   },
   {
    "duration": 8,
    "start_time": "2023-11-14T10:12:03.901Z"
   },
   {
    "duration": 14,
    "start_time": "2023-11-14T10:12:03.911Z"
   },
   {
    "duration": 247,
    "start_time": "2023-11-14T10:12:03.927Z"
   },
   {
    "duration": 8,
    "start_time": "2023-11-14T10:12:04.176Z"
   },
   {
    "duration": 216,
    "start_time": "2023-11-14T10:12:04.186Z"
   },
   {
    "duration": 10,
    "start_time": "2023-11-14T10:12:04.404Z"
   },
   {
    "duration": 22,
    "start_time": "2023-11-14T10:12:04.416Z"
   },
   {
    "duration": 61,
    "start_time": "2023-11-14T10:12:04.439Z"
   },
   {
    "duration": 108,
    "start_time": "2023-11-14T10:12:04.501Z"
   },
   {
    "duration": 25,
    "start_time": "2023-11-14T10:12:04.610Z"
   },
   {
    "duration": 447,
    "start_time": "2023-11-14T10:12:04.636Z"
   },
   {
    "duration": 430,
    "start_time": "2023-11-14T10:12:05.085Z"
   },
   {
    "duration": 973,
    "start_time": "2023-11-14T10:12:05.517Z"
   },
   {
    "duration": 4,
    "start_time": "2023-11-14T10:12:06.491Z"
   },
   {
    "duration": 17,
    "start_time": "2023-11-14T10:12:06.496Z"
   },
   {
    "duration": 163,
    "start_time": "2023-11-14T10:12:06.514Z"
   },
   {
    "duration": 13,
    "start_time": "2023-11-14T10:12:06.679Z"
   },
   {
    "duration": 6,
    "start_time": "2023-11-14T10:12:06.694Z"
   },
   {
    "duration": 129,
    "start_time": "2023-11-14T10:12:06.702Z"
   },
   {
    "duration": 13,
    "start_time": "2023-11-14T10:15:51.587Z"
   },
   {
    "duration": 173,
    "start_time": "2023-11-14T10:16:26.863Z"
   },
   {
    "duration": 12,
    "start_time": "2023-11-14T10:16:28.071Z"
   },
   {
    "duration": 6,
    "start_time": "2023-11-14T10:16:32.789Z"
   },
   {
    "duration": 13,
    "start_time": "2023-11-14T10:16:37.397Z"
   },
   {
    "duration": 12,
    "start_time": "2023-11-14T10:24:40.092Z"
   },
   {
    "duration": 811,
    "start_time": "2023-11-14T10:27:08.213Z"
   },
   {
    "duration": 815,
    "start_time": "2023-11-14T10:27:20.827Z"
   },
   {
    "duration": 793,
    "start_time": "2023-11-14T10:30:24.506Z"
   },
   {
    "duration": 948,
    "start_time": "2023-11-14T10:30:42.486Z"
   },
   {
    "duration": 799,
    "start_time": "2023-11-14T10:30:54.868Z"
   },
   {
    "duration": 6,
    "start_time": "2023-11-14T10:41:00.512Z"
   },
   {
    "duration": 711,
    "start_time": "2023-11-14T10:49:32.197Z"
   },
   {
    "duration": 1157,
    "start_time": "2023-11-14T10:53:37.331Z"
   },
   {
    "duration": 8,
    "start_time": "2023-11-14T10:54:39.767Z"
   },
   {
    "duration": 12,
    "start_time": "2023-11-14T10:55:52.706Z"
   },
   {
    "duration": 12,
    "start_time": "2023-11-14T11:46:41.092Z"
   },
   {
    "duration": 1216,
    "start_time": "2023-11-14T11:47:25.941Z"
   },
   {
    "duration": 69,
    "start_time": "2023-11-14T11:47:27.158Z"
   },
   {
    "duration": 11,
    "start_time": "2023-11-14T11:47:27.228Z"
   },
   {
    "duration": 8,
    "start_time": "2023-11-14T11:47:27.241Z"
   },
   {
    "duration": 8,
    "start_time": "2023-11-14T11:47:27.250Z"
   },
   {
    "duration": 12,
    "start_time": "2023-11-14T11:47:27.259Z"
   },
   {
    "duration": 15,
    "start_time": "2023-11-14T11:47:27.272Z"
   },
   {
    "duration": 9,
    "start_time": "2023-11-14T11:47:27.288Z"
   },
   {
    "duration": 56,
    "start_time": "2023-11-14T11:47:27.298Z"
   },
   {
    "duration": 17,
    "start_time": "2023-11-14T11:47:27.355Z"
   },
   {
    "duration": 13,
    "start_time": "2023-11-14T11:47:27.374Z"
   },
   {
    "duration": 7,
    "start_time": "2023-11-14T11:47:27.389Z"
   },
   {
    "duration": 9,
    "start_time": "2023-11-14T11:47:27.399Z"
   },
   {
    "duration": 8,
    "start_time": "2023-11-14T11:47:27.410Z"
   },
   {
    "duration": 10,
    "start_time": "2023-11-14T11:47:27.419Z"
   },
   {
    "duration": 8,
    "start_time": "2023-11-14T11:47:27.430Z"
   },
   {
    "duration": 6,
    "start_time": "2023-11-14T11:47:27.465Z"
   },
   {
    "duration": 15,
    "start_time": "2023-11-14T11:47:27.473Z"
   },
   {
    "duration": 4,
    "start_time": "2023-11-14T11:47:27.490Z"
   },
   {
    "duration": 5,
    "start_time": "2023-11-14T11:47:27.496Z"
   },
   {
    "duration": 10,
    "start_time": "2023-11-14T11:47:27.502Z"
   },
   {
    "duration": 8,
    "start_time": "2023-11-14T11:47:27.513Z"
   },
   {
    "duration": 15,
    "start_time": "2023-11-14T11:47:27.522Z"
   },
   {
    "duration": 197,
    "start_time": "2023-11-14T11:47:27.539Z"
   },
   {
    "duration": 28,
    "start_time": "2023-11-14T11:47:27.737Z"
   },
   {
    "duration": 143,
    "start_time": "2023-11-14T11:47:27.767Z"
   },
   {
    "duration": 265,
    "start_time": "2023-11-14T11:47:27.911Z"
   },
   {
    "duration": 7,
    "start_time": "2023-11-14T11:47:28.178Z"
   },
   {
    "duration": 19,
    "start_time": "2023-11-14T11:47:28.187Z"
   },
   {
    "duration": 222,
    "start_time": "2023-11-14T11:47:28.207Z"
   },
   {
    "duration": 8,
    "start_time": "2023-11-14T11:47:28.430Z"
   },
   {
    "duration": 204,
    "start_time": "2023-11-14T11:47:28.439Z"
   },
   {
    "duration": 20,
    "start_time": "2023-11-14T11:47:28.645Z"
   },
   {
    "duration": 12,
    "start_time": "2023-11-14T11:47:28.667Z"
   },
   {
    "duration": 25,
    "start_time": "2023-11-14T11:47:28.680Z"
   },
   {
    "duration": 97,
    "start_time": "2023-11-14T11:47:28.707Z"
   },
   {
    "duration": 19,
    "start_time": "2023-11-14T11:47:28.806Z"
   },
   {
    "duration": 418,
    "start_time": "2023-11-14T11:47:28.826Z"
   },
   {
    "duration": 390,
    "start_time": "2023-11-14T11:47:29.246Z"
   },
   {
    "duration": 885,
    "start_time": "2023-11-14T11:47:29.641Z"
   },
   {
    "duration": 4,
    "start_time": "2023-11-14T11:47:30.528Z"
   },
   {
    "duration": 98,
    "start_time": "2023-11-14T11:47:30.533Z"
   },
   {
    "duration": 190,
    "start_time": "2023-11-14T11:47:30.633Z"
   },
   {
    "duration": 6,
    "start_time": "2023-11-14T11:47:30.824Z"
   },
   {
    "duration": 906,
    "start_time": "2023-11-14T11:47:30.831Z"
   },
   {
    "duration": 5,
    "start_time": "2023-11-14T11:47:31.739Z"
   },
   {
    "duration": 43,
    "start_time": "2023-11-14T11:47:31.745Z"
   },
   {
    "duration": 37,
    "start_time": "2023-11-14T11:47:31.790Z"
   },
   {
    "duration": 6,
    "start_time": "2023-11-14T11:47:56.869Z"
   },
   {
    "duration": 6,
    "start_time": "2023-11-14T11:48:06.603Z"
   },
   {
    "duration": 6,
    "start_time": "2023-11-14T11:48:43.949Z"
   },
   {
    "duration": 6,
    "start_time": "2023-11-14T11:50:49.742Z"
   },
   {
    "duration": 91,
    "start_time": "2023-11-14T11:53:03.782Z"
   },
   {
    "duration": 10,
    "start_time": "2023-11-14T11:53:03.875Z"
   },
   {
    "duration": 68,
    "start_time": "2023-11-14T11:53:03.886Z"
   },
   {
    "duration": 19,
    "start_time": "2023-11-14T11:53:03.956Z"
   },
   {
    "duration": 44,
    "start_time": "2023-11-14T11:53:03.976Z"
   },
   {
    "duration": 31,
    "start_time": "2023-11-14T11:53:04.023Z"
   },
   {
    "duration": 45,
    "start_time": "2023-11-14T11:53:04.055Z"
   },
   {
    "duration": 68,
    "start_time": "2023-11-14T11:53:04.101Z"
   },
   {
    "duration": 35,
    "start_time": "2023-11-14T11:53:04.170Z"
   },
   {
    "duration": 74,
    "start_time": "2023-11-14T11:53:04.207Z"
   },
   {
    "duration": 4,
    "start_time": "2023-11-14T11:53:04.283Z"
   },
   {
    "duration": 39,
    "start_time": "2023-11-14T11:53:04.288Z"
   },
   {
    "duration": 30,
    "start_time": "2023-11-14T11:53:04.328Z"
   },
   {
    "duration": 50,
    "start_time": "2023-11-14T11:53:04.359Z"
   },
   {
    "duration": 65,
    "start_time": "2023-11-14T11:53:04.411Z"
   },
   {
    "duration": 178,
    "start_time": "2023-11-14T11:53:04.477Z"
   },
   {
    "duration": 17,
    "start_time": "2023-11-14T11:53:04.657Z"
   },
   {
    "duration": 162,
    "start_time": "2023-11-14T11:53:04.675Z"
   },
   {
    "duration": 280,
    "start_time": "2023-11-14T11:53:04.838Z"
   },
   {
    "duration": 7,
    "start_time": "2023-11-14T11:53:05.119Z"
   },
   {
    "duration": 17,
    "start_time": "2023-11-14T11:53:05.127Z"
   },
   {
    "duration": 216,
    "start_time": "2023-11-14T11:53:05.145Z"
   },
   {
    "duration": 8,
    "start_time": "2023-11-14T11:53:05.363Z"
   },
   {
    "duration": 206,
    "start_time": "2023-11-14T11:53:05.372Z"
   },
   {
    "duration": 10,
    "start_time": "2023-11-14T11:53:05.579Z"
   },
   {
    "duration": 14,
    "start_time": "2023-11-14T11:53:05.590Z"
   },
   {
    "duration": 24,
    "start_time": "2023-11-14T11:53:05.605Z"
   },
   {
    "duration": 97,
    "start_time": "2023-11-14T11:53:05.630Z"
   },
   {
    "duration": 17,
    "start_time": "2023-11-14T11:53:05.728Z"
   },
   {
    "duration": 415,
    "start_time": "2023-11-14T11:53:05.747Z"
   },
   {
    "duration": 382,
    "start_time": "2023-11-14T11:53:06.163Z"
   },
   {
    "duration": 818,
    "start_time": "2023-11-14T11:53:06.547Z"
   },
   {
    "duration": 3,
    "start_time": "2023-11-14T11:53:07.369Z"
   },
   {
    "duration": 102,
    "start_time": "2023-11-14T11:53:07.374Z"
   },
   {
    "duration": 155,
    "start_time": "2023-11-14T11:53:07.477Z"
   },
   {
    "duration": 5,
    "start_time": "2023-11-14T11:53:07.633Z"
   },
   {
    "duration": 792,
    "start_time": "2023-11-14T11:53:07.640Z"
   },
   {
    "duration": 5,
    "start_time": "2023-11-14T11:53:08.433Z"
   },
   {
    "duration": 8,
    "start_time": "2023-11-14T11:53:08.440Z"
   },
   {
    "duration": 18,
    "start_time": "2023-11-14T11:53:08.450Z"
   },
   {
    "duration": 6,
    "start_time": "2023-11-14T11:53:23.687Z"
   },
   {
    "duration": 7,
    "start_time": "2023-11-14T11:53:30.237Z"
   },
   {
    "duration": 6,
    "start_time": "2023-11-14T11:53:43.473Z"
   },
   {
    "duration": 7,
    "start_time": "2023-11-14T11:53:53.598Z"
   },
   {
    "duration": 6,
    "start_time": "2023-11-14T11:54:01.003Z"
   },
   {
    "duration": 6,
    "start_time": "2023-11-14T11:54:05.423Z"
   },
   {
    "duration": 6,
    "start_time": "2023-11-14T11:54:10.537Z"
   },
   {
    "duration": 7,
    "start_time": "2023-11-14T11:54:15.877Z"
   },
   {
    "duration": 6,
    "start_time": "2023-11-14T11:54:20.263Z"
   },
   {
    "duration": 6,
    "start_time": "2023-11-14T11:54:23.877Z"
   },
   {
    "duration": 6,
    "start_time": "2023-11-14T11:54:28.960Z"
   },
   {
    "duration": 5,
    "start_time": "2023-11-14T11:54:33.823Z"
   },
   {
    "duration": 6,
    "start_time": "2023-11-14T11:54:40.877Z"
   },
   {
    "duration": 176,
    "start_time": "2023-11-14T12:01:54.447Z"
   },
   {
    "duration": 1294,
    "start_time": "2023-11-14T12:02:47.835Z"
   },
   {
    "duration": 72,
    "start_time": "2023-11-14T12:02:49.131Z"
   },
   {
    "duration": 13,
    "start_time": "2023-11-14T12:02:49.205Z"
   },
   {
    "duration": 9,
    "start_time": "2023-11-14T12:02:49.220Z"
   },
   {
    "duration": 8,
    "start_time": "2023-11-14T12:02:49.230Z"
   },
   {
    "duration": 17,
    "start_time": "2023-11-14T12:02:49.239Z"
   },
   {
    "duration": 14,
    "start_time": "2023-11-14T12:02:49.258Z"
   },
   {
    "duration": 10,
    "start_time": "2023-11-14T12:02:49.274Z"
   },
   {
    "duration": 54,
    "start_time": "2023-11-14T12:02:49.286Z"
   },
   {
    "duration": 28,
    "start_time": "2023-11-14T12:02:49.343Z"
   },
   {
    "duration": 13,
    "start_time": "2023-11-14T12:02:49.373Z"
   },
   {
    "duration": 18,
    "start_time": "2023-11-14T12:02:49.387Z"
   },
   {
    "duration": 11,
    "start_time": "2023-11-14T12:02:49.407Z"
   },
   {
    "duration": 6,
    "start_time": "2023-11-14T12:02:49.420Z"
   },
   {
    "duration": 17,
    "start_time": "2023-11-14T12:02:49.428Z"
   },
   {
    "duration": 5,
    "start_time": "2023-11-14T12:02:49.466Z"
   },
   {
    "duration": 28,
    "start_time": "2023-11-14T12:02:49.472Z"
   },
   {
    "duration": 12,
    "start_time": "2023-11-14T12:02:49.502Z"
   },
   {
    "duration": 5,
    "start_time": "2023-11-14T12:02:49.516Z"
   },
   {
    "duration": 8,
    "start_time": "2023-11-14T12:02:49.522Z"
   },
   {
    "duration": 10,
    "start_time": "2023-11-14T12:02:49.532Z"
   },
   {
    "duration": 25,
    "start_time": "2023-11-14T12:02:49.544Z"
   },
   {
    "duration": 12,
    "start_time": "2023-11-14T12:02:49.571Z"
   },
   {
    "duration": 195,
    "start_time": "2023-11-14T12:02:49.585Z"
   },
   {
    "duration": 17,
    "start_time": "2023-11-14T12:02:49.781Z"
   },
   {
    "duration": 154,
    "start_time": "2023-11-14T12:02:49.799Z"
   },
   {
    "duration": 272,
    "start_time": "2023-11-14T12:02:49.955Z"
   },
   {
    "duration": 8,
    "start_time": "2023-11-14T12:02:50.230Z"
   },
   {
    "duration": 11,
    "start_time": "2023-11-14T12:02:50.239Z"
   },
   {
    "duration": 234,
    "start_time": "2023-11-14T12:02:50.266Z"
   },
   {
    "duration": 8,
    "start_time": "2023-11-14T12:02:50.502Z"
   },
   {
    "duration": 234,
    "start_time": "2023-11-14T12:02:50.511Z"
   },
   {
    "duration": 18,
    "start_time": "2023-11-14T12:02:50.747Z"
   },
   {
    "duration": 12,
    "start_time": "2023-11-14T12:02:50.767Z"
   },
   {
    "duration": 19,
    "start_time": "2023-11-14T12:02:50.780Z"
   },
   {
    "duration": 112,
    "start_time": "2023-11-14T12:02:50.802Z"
   },
   {
    "duration": 20,
    "start_time": "2023-11-14T12:02:50.916Z"
   },
   {
    "duration": 416,
    "start_time": "2023-11-14T12:02:50.938Z"
   },
   {
    "duration": 422,
    "start_time": "2023-11-14T12:02:51.355Z"
   },
   {
    "duration": 923,
    "start_time": "2023-11-14T12:02:51.778Z"
   },
   {
    "duration": 4,
    "start_time": "2023-11-14T12:02:52.702Z"
   },
   {
    "duration": 23,
    "start_time": "2023-11-14T12:02:52.708Z"
   },
   {
    "duration": 164,
    "start_time": "2023-11-14T12:02:52.732Z"
   },
   {
    "duration": 6,
    "start_time": "2023-11-14T12:02:52.898Z"
   },
   {
    "duration": 887,
    "start_time": "2023-11-14T12:02:52.905Z"
   },
   {
    "duration": 6,
    "start_time": "2023-11-14T12:02:53.794Z"
   },
   {
    "duration": 15,
    "start_time": "2023-11-14T12:02:53.802Z"
   },
   {
    "duration": 10,
    "start_time": "2023-11-14T12:02:53.818Z"
   },
   {
    "duration": 836,
    "start_time": "2023-11-14T12:02:53.830Z"
   },
   {
    "duration": 816,
    "start_time": "2023-11-14T12:06:22.008Z"
   },
   {
    "duration": 908,
    "start_time": "2023-11-14T12:06:30.123Z"
   },
   {
    "duration": 3178,
    "start_time": "2023-11-14T12:07:10.091Z"
   },
   {
    "duration": 172,
    "start_time": "2023-11-14T12:07:26.411Z"
   },
   {
    "duration": 427,
    "start_time": "2023-11-14T12:07:46.526Z"
   },
   {
    "duration": 989,
    "start_time": "2023-11-14T12:07:53.956Z"
   },
   {
    "duration": 118,
    "start_time": "2023-11-14T12:12:47.567Z"
   },
   {
    "duration": 1280,
    "start_time": "2023-11-14T12:13:26.162Z"
   },
   {
    "duration": 73,
    "start_time": "2023-11-14T12:13:27.444Z"
   },
   {
    "duration": 11,
    "start_time": "2023-11-14T12:13:27.520Z"
   },
   {
    "duration": 7,
    "start_time": "2023-11-14T12:13:27.532Z"
   },
   {
    "duration": 7,
    "start_time": "2023-11-14T12:13:27.541Z"
   },
   {
    "duration": 10,
    "start_time": "2023-11-14T12:13:27.550Z"
   },
   {
    "duration": 15,
    "start_time": "2023-11-14T12:13:27.561Z"
   },
   {
    "duration": 13,
    "start_time": "2023-11-14T12:13:27.578Z"
   },
   {
    "duration": 46,
    "start_time": "2023-11-14T12:13:27.593Z"
   },
   {
    "duration": 31,
    "start_time": "2023-11-14T12:13:27.640Z"
   },
   {
    "duration": 17,
    "start_time": "2023-11-14T12:13:27.672Z"
   },
   {
    "duration": 7,
    "start_time": "2023-11-14T12:13:27.690Z"
   },
   {
    "duration": 12,
    "start_time": "2023-11-14T12:13:27.699Z"
   },
   {
    "duration": 5,
    "start_time": "2023-11-14T12:13:27.714Z"
   },
   {
    "duration": 23,
    "start_time": "2023-11-14T12:13:27.720Z"
   },
   {
    "duration": 22,
    "start_time": "2023-11-14T12:13:27.745Z"
   },
   {
    "duration": 8,
    "start_time": "2023-11-14T12:13:27.768Z"
   },
   {
    "duration": 14,
    "start_time": "2023-11-14T12:13:27.778Z"
   },
   {
    "duration": 4,
    "start_time": "2023-11-14T12:13:27.794Z"
   },
   {
    "duration": 10,
    "start_time": "2023-11-14T12:13:27.799Z"
   },
   {
    "duration": 36,
    "start_time": "2023-11-14T12:13:27.810Z"
   },
   {
    "duration": 37,
    "start_time": "2023-11-14T12:13:27.847Z"
   },
   {
    "duration": 45,
    "start_time": "2023-11-14T12:13:27.885Z"
   },
   {
    "duration": 205,
    "start_time": "2023-11-14T12:13:27.932Z"
   },
   {
    "duration": 17,
    "start_time": "2023-11-14T12:13:28.138Z"
   },
   {
    "duration": 189,
    "start_time": "2023-11-14T12:13:28.156Z"
   },
   {
    "duration": 276,
    "start_time": "2023-11-14T12:13:28.348Z"
   },
   {
    "duration": 7,
    "start_time": "2023-11-14T12:13:28.626Z"
   },
   {
    "duration": 10,
    "start_time": "2023-11-14T12:13:28.635Z"
   },
   {
    "duration": 259,
    "start_time": "2023-11-14T12:13:28.647Z"
   },
   {
    "duration": 8,
    "start_time": "2023-11-14T12:13:28.907Z"
   },
   {
    "duration": 237,
    "start_time": "2023-11-14T12:13:28.916Z"
   },
   {
    "duration": 15,
    "start_time": "2023-11-14T12:13:29.155Z"
   },
   {
    "duration": 13,
    "start_time": "2023-11-14T12:13:29.172Z"
   },
   {
    "duration": 19,
    "start_time": "2023-11-14T12:13:29.187Z"
   },
   {
    "duration": 116,
    "start_time": "2023-11-14T12:13:29.207Z"
   },
   {
    "duration": 19,
    "start_time": "2023-11-14T12:13:29.325Z"
   },
   {
    "duration": 449,
    "start_time": "2023-11-14T12:13:29.346Z"
   },
   {
    "duration": 430,
    "start_time": "2023-11-14T12:13:29.796Z"
   },
   {
    "duration": 969,
    "start_time": "2023-11-14T12:13:30.227Z"
   },
   {
    "duration": 3,
    "start_time": "2023-11-14T12:13:31.200Z"
   },
   {
    "duration": 74,
    "start_time": "2023-11-14T12:13:31.205Z"
   },
   {
    "duration": 173,
    "start_time": "2023-11-14T12:13:31.281Z"
   },
   {
    "duration": 10,
    "start_time": "2023-11-14T12:13:31.456Z"
   },
   {
    "duration": 882,
    "start_time": "2023-11-14T12:13:31.468Z"
   },
   {
    "duration": 6,
    "start_time": "2023-11-14T12:13:32.352Z"
   },
   {
    "duration": 19,
    "start_time": "2023-11-14T12:13:32.364Z"
   },
   {
    "duration": 12,
    "start_time": "2023-11-14T12:13:32.385Z"
   },
   {
    "duration": 144,
    "start_time": "2023-11-14T12:13:32.399Z"
   },
   {
    "duration": 39,
    "start_time": "2023-11-14T12:14:22.742Z"
   },
   {
    "duration": 49,
    "start_time": "2023-11-14T12:14:51.892Z"
   },
   {
    "duration": 10,
    "start_time": "2023-11-14T12:40:45.042Z"
   },
   {
    "duration": 1282,
    "start_time": "2023-11-14T12:40:56.943Z"
   },
   {
    "duration": 70,
    "start_time": "2023-11-14T12:40:58.228Z"
   },
   {
    "duration": 13,
    "start_time": "2023-11-14T12:40:58.299Z"
   },
   {
    "duration": 17,
    "start_time": "2023-11-14T12:40:58.314Z"
   },
   {
    "duration": 15,
    "start_time": "2023-11-14T12:40:58.332Z"
   },
   {
    "duration": 28,
    "start_time": "2023-11-14T12:40:58.349Z"
   },
   {
    "duration": 15,
    "start_time": "2023-11-14T12:40:58.379Z"
   },
   {
    "duration": 18,
    "start_time": "2023-11-14T12:40:58.395Z"
   },
   {
    "duration": 60,
    "start_time": "2023-11-14T12:40:58.415Z"
   },
   {
    "duration": 12,
    "start_time": "2023-11-14T12:40:58.477Z"
   },
   {
    "duration": 15,
    "start_time": "2023-11-14T12:40:58.490Z"
   },
   {
    "duration": 12,
    "start_time": "2023-11-14T12:40:58.507Z"
   },
   {
    "duration": 11,
    "start_time": "2023-11-14T12:40:58.521Z"
   },
   {
    "duration": 31,
    "start_time": "2023-11-14T12:40:58.534Z"
   },
   {
    "duration": 12,
    "start_time": "2023-11-14T12:40:58.567Z"
   },
   {
    "duration": 6,
    "start_time": "2023-11-14T12:40:58.581Z"
   },
   {
    "duration": 9,
    "start_time": "2023-11-14T12:40:58.589Z"
   },
   {
    "duration": 12,
    "start_time": "2023-11-14T12:40:58.599Z"
   },
   {
    "duration": 6,
    "start_time": "2023-11-14T12:40:58.612Z"
   },
   {
    "duration": 10,
    "start_time": "2023-11-14T12:40:58.619Z"
   },
   {
    "duration": 36,
    "start_time": "2023-11-14T12:40:58.631Z"
   },
   {
    "duration": 5,
    "start_time": "2023-11-14T12:40:58.669Z"
   },
   {
    "duration": 18,
    "start_time": "2023-11-14T12:40:58.675Z"
   },
   {
    "duration": 211,
    "start_time": "2023-11-14T12:40:58.695Z"
   },
   {
    "duration": 18,
    "start_time": "2023-11-14T12:40:58.908Z"
   },
   {
    "duration": 158,
    "start_time": "2023-11-14T12:40:58.927Z"
   },
   {
    "duration": 277,
    "start_time": "2023-11-14T12:40:59.087Z"
   },
   {
    "duration": 8,
    "start_time": "2023-11-14T12:40:59.368Z"
   },
   {
    "duration": 9,
    "start_time": "2023-11-14T12:40:59.377Z"
   },
   {
    "duration": 269,
    "start_time": "2023-11-14T12:40:59.388Z"
   },
   {
    "duration": 8,
    "start_time": "2023-11-14T12:40:59.665Z"
   },
   {
    "duration": 241,
    "start_time": "2023-11-14T12:40:59.675Z"
   },
   {
    "duration": 11,
    "start_time": "2023-11-14T12:40:59.918Z"
   },
   {
    "duration": 15,
    "start_time": "2023-11-14T12:40:59.930Z"
   },
   {
    "duration": 32,
    "start_time": "2023-11-14T12:40:59.946Z"
   },
   {
    "duration": 105,
    "start_time": "2023-11-14T12:40:59.979Z"
   },
   {
    "duration": 35,
    "start_time": "2023-11-14T12:41:00.086Z"
   },
   {
    "duration": 428,
    "start_time": "2023-11-14T12:41:00.123Z"
   },
   {
    "duration": 454,
    "start_time": "2023-11-14T12:41:00.553Z"
   },
   {
    "duration": 945,
    "start_time": "2023-11-14T12:41:01.008Z"
   },
   {
    "duration": 10,
    "start_time": "2023-11-14T12:41:01.955Z"
   },
   {
    "duration": 56,
    "start_time": "2023-11-14T12:41:01.967Z"
   },
   {
    "duration": 192,
    "start_time": "2023-11-14T12:41:02.024Z"
   },
   {
    "duration": 6,
    "start_time": "2023-11-14T12:41:02.218Z"
   },
   {
    "duration": 942,
    "start_time": "2023-11-14T12:41:02.225Z"
   },
   {
    "duration": 6,
    "start_time": "2023-11-14T12:41:03.169Z"
   },
   {
    "duration": 16,
    "start_time": "2023-11-14T12:41:03.177Z"
   },
   {
    "duration": 122,
    "start_time": "2023-11-14T12:41:03.195Z"
   },
   {
    "duration": 0,
    "start_time": "2023-11-14T12:41:03.319Z"
   },
   {
    "duration": 4,
    "start_time": "2023-11-14T12:41:10.575Z"
   },
   {
    "duration": 4,
    "start_time": "2023-11-14T12:41:20.728Z"
   },
   {
    "duration": 4,
    "start_time": "2023-11-14T12:41:27.083Z"
   },
   {
    "duration": 5,
    "start_time": "2023-11-14T12:42:15.603Z"
   },
   {
    "duration": 267,
    "start_time": "2023-11-14T12:44:35.873Z"
   },
   {
    "duration": 6,
    "start_time": "2023-11-14T12:53:44.669Z"
   },
   {
    "duration": 4,
    "start_time": "2023-11-14T12:54:22.399Z"
   },
   {
    "duration": 4,
    "start_time": "2023-11-14T12:59:13.758Z"
   },
   {
    "duration": 7,
    "start_time": "2023-11-14T14:05:49.137Z"
   },
   {
    "duration": 1327,
    "start_time": "2023-11-14T14:10:32.428Z"
   },
   {
    "duration": 69,
    "start_time": "2023-11-14T14:10:33.757Z"
   },
   {
    "duration": 12,
    "start_time": "2023-11-14T14:10:33.828Z"
   },
   {
    "duration": 10,
    "start_time": "2023-11-14T14:10:33.842Z"
   },
   {
    "duration": 16,
    "start_time": "2023-11-14T14:10:33.853Z"
   },
   {
    "duration": 57,
    "start_time": "2023-11-14T14:10:33.870Z"
   },
   {
    "duration": 21,
    "start_time": "2023-11-14T14:10:33.929Z"
   },
   {
    "duration": 13,
    "start_time": "2023-11-14T14:10:33.952Z"
   },
   {
    "duration": 103,
    "start_time": "2023-11-14T14:10:33.966Z"
   },
   {
    "duration": 11,
    "start_time": "2023-11-14T14:10:34.072Z"
   },
   {
    "duration": 20,
    "start_time": "2023-11-14T14:10:34.084Z"
   },
   {
    "duration": 21,
    "start_time": "2023-11-14T14:10:34.106Z"
   },
   {
    "duration": 10,
    "start_time": "2023-11-14T14:10:34.129Z"
   },
   {
    "duration": 11,
    "start_time": "2023-11-14T14:10:34.140Z"
   },
   {
    "duration": 19,
    "start_time": "2023-11-14T14:10:34.152Z"
   },
   {
    "duration": 23,
    "start_time": "2023-11-14T14:10:34.172Z"
   },
   {
    "duration": 17,
    "start_time": "2023-11-14T14:10:34.197Z"
   },
   {
    "duration": 19,
    "start_time": "2023-11-14T14:10:34.216Z"
   },
   {
    "duration": 4,
    "start_time": "2023-11-14T14:10:34.237Z"
   },
   {
    "duration": 8,
    "start_time": "2023-11-14T14:10:34.243Z"
   },
   {
    "duration": 7,
    "start_time": "2023-11-14T14:10:34.253Z"
   },
   {
    "duration": 5,
    "start_time": "2023-11-14T14:10:34.262Z"
   },
   {
    "duration": 20,
    "start_time": "2023-11-14T14:10:34.268Z"
   },
   {
    "duration": 186,
    "start_time": "2023-11-14T14:10:34.290Z"
   },
   {
    "duration": 15,
    "start_time": "2023-11-14T14:10:34.478Z"
   },
   {
    "duration": 144,
    "start_time": "2023-11-14T14:10:34.495Z"
   },
   {
    "duration": 278,
    "start_time": "2023-11-14T14:10:34.640Z"
   },
   {
    "duration": 8,
    "start_time": "2023-11-14T14:10:34.922Z"
   },
   {
    "duration": 27,
    "start_time": "2023-11-14T14:10:34.931Z"
   },
   {
    "duration": 245,
    "start_time": "2023-11-14T14:10:34.960Z"
   },
   {
    "duration": 8,
    "start_time": "2023-11-14T14:10:35.207Z"
   },
   {
    "duration": 219,
    "start_time": "2023-11-14T14:10:35.216Z"
   },
   {
    "duration": 11,
    "start_time": "2023-11-14T14:10:35.436Z"
   },
   {
    "duration": 38,
    "start_time": "2023-11-14T14:10:35.448Z"
   },
   {
    "duration": 29,
    "start_time": "2023-11-14T14:10:35.488Z"
   },
   {
    "duration": 104,
    "start_time": "2023-11-14T14:10:35.519Z"
   },
   {
    "duration": 40,
    "start_time": "2023-11-14T14:10:35.625Z"
   },
   {
    "duration": 470,
    "start_time": "2023-11-14T14:10:35.667Z"
   },
   {
    "duration": 413,
    "start_time": "2023-11-14T14:10:36.139Z"
   },
   {
    "duration": 912,
    "start_time": "2023-11-14T14:10:36.554Z"
   },
   {
    "duration": 3,
    "start_time": "2023-11-14T14:10:37.468Z"
   },
   {
    "duration": 46,
    "start_time": "2023-11-14T14:10:37.473Z"
   },
   {
    "duration": 146,
    "start_time": "2023-11-14T14:10:37.520Z"
   },
   {
    "duration": 6,
    "start_time": "2023-11-14T14:10:37.668Z"
   },
   {
    "duration": 879,
    "start_time": "2023-11-14T14:10:37.675Z"
   },
   {
    "duration": 11,
    "start_time": "2023-11-14T14:10:38.555Z"
   },
   {
    "duration": 28,
    "start_time": "2023-11-14T14:10:38.567Z"
   },
   {
    "duration": 17,
    "start_time": "2023-11-14T14:10:38.596Z"
   },
   {
    "duration": 233,
    "start_time": "2023-11-14T14:10:38.615Z"
   },
   {
    "duration": 5,
    "start_time": "2023-11-14T14:10:38.850Z"
   },
   {
    "duration": 36976,
    "start_time": "2023-11-14T14:10:38.865Z"
   },
   {
    "duration": 35129,
    "start_time": "2023-11-14T14:14:09.275Z"
   },
   {
    "duration": 37049,
    "start_time": "2023-11-14T14:15:36.553Z"
   },
   {
    "duration": 36523,
    "start_time": "2023-11-14T14:16:40.420Z"
   },
   {
    "duration": 114,
    "start_time": "2023-11-14T14:18:48.295Z"
   },
   {
    "duration": 36977,
    "start_time": "2023-11-14T14:24:55.313Z"
   },
   {
    "duration": 36550,
    "start_time": "2023-11-14T14:25:45.530Z"
   },
   {
    "duration": 37976,
    "start_time": "2023-11-14T14:26:39.486Z"
   },
   {
    "duration": 7,
    "start_time": "2023-11-14T14:33:17.967Z"
   },
   {
    "duration": 90558,
    "start_time": "2023-11-14T14:43:09.484Z"
   },
   {
    "duration": 91523,
    "start_time": "2023-11-14T14:45:02.068Z"
   },
   {
    "duration": 23112,
    "start_time": "2023-11-14T14:49:22.688Z"
   },
   {
    "duration": 37146,
    "start_time": "2023-11-14T14:50:25.238Z"
   },
   {
    "duration": 1468,
    "start_time": "2023-11-14T17:30:05.388Z"
   },
   {
    "duration": 195,
    "start_time": "2023-11-14T17:30:06.858Z"
   },
   {
    "duration": 12,
    "start_time": "2023-11-14T17:30:07.055Z"
   },
   {
    "duration": 18,
    "start_time": "2023-11-14T17:30:07.068Z"
   },
   {
    "duration": 31,
    "start_time": "2023-11-14T17:30:07.088Z"
   },
   {
    "duration": 38,
    "start_time": "2023-11-14T17:30:07.121Z"
   },
   {
    "duration": 11,
    "start_time": "2023-11-14T17:30:07.161Z"
   },
   {
    "duration": 10,
    "start_time": "2023-11-14T17:30:07.174Z"
   },
   {
    "duration": 51,
    "start_time": "2023-11-14T17:30:07.185Z"
   },
   {
    "duration": 29,
    "start_time": "2023-11-14T17:30:07.238Z"
   },
   {
    "duration": 14,
    "start_time": "2023-11-14T17:30:07.269Z"
   },
   {
    "duration": 9,
    "start_time": "2023-11-14T17:30:07.284Z"
   },
   {
    "duration": 13,
    "start_time": "2023-11-14T17:30:07.295Z"
   },
   {
    "duration": 5,
    "start_time": "2023-11-14T17:30:07.312Z"
   },
   {
    "duration": 15,
    "start_time": "2023-11-14T17:30:07.319Z"
   },
   {
    "duration": 32,
    "start_time": "2023-11-14T17:30:07.336Z"
   },
   {
    "duration": 6,
    "start_time": "2023-11-14T17:30:07.370Z"
   },
   {
    "duration": 13,
    "start_time": "2023-11-14T17:30:07.378Z"
   },
   {
    "duration": 4,
    "start_time": "2023-11-14T17:30:07.393Z"
   },
   {
    "duration": 5,
    "start_time": "2023-11-14T17:30:07.399Z"
   },
   {
    "duration": 7,
    "start_time": "2023-11-14T17:30:07.406Z"
   },
   {
    "duration": 5,
    "start_time": "2023-11-14T17:30:07.414Z"
   },
   {
    "duration": 57,
    "start_time": "2023-11-14T17:30:07.420Z"
   },
   {
    "duration": 198,
    "start_time": "2023-11-14T17:30:07.478Z"
   },
   {
    "duration": 16,
    "start_time": "2023-11-14T17:30:07.678Z"
   },
   {
    "duration": 158,
    "start_time": "2023-11-14T17:30:07.696Z"
   },
   {
    "duration": 275,
    "start_time": "2023-11-14T17:30:07.856Z"
   },
   {
    "duration": 9,
    "start_time": "2023-11-14T17:30:08.133Z"
   },
   {
    "duration": 24,
    "start_time": "2023-11-14T17:30:08.144Z"
   },
   {
    "duration": 236,
    "start_time": "2023-11-14T17:30:08.170Z"
   },
   {
    "duration": 9,
    "start_time": "2023-11-14T17:30:08.408Z"
   },
   {
    "duration": 228,
    "start_time": "2023-11-14T17:30:08.418Z"
   },
   {
    "duration": 19,
    "start_time": "2023-11-14T17:30:08.647Z"
   },
   {
    "duration": 10,
    "start_time": "2023-11-14T17:30:08.667Z"
   },
   {
    "duration": 18,
    "start_time": "2023-11-14T17:30:08.679Z"
   },
   {
    "duration": 116,
    "start_time": "2023-11-14T17:30:08.699Z"
   },
   {
    "duration": 20,
    "start_time": "2023-11-14T17:30:08.817Z"
   },
   {
    "duration": 433,
    "start_time": "2023-11-14T17:30:08.839Z"
   },
   {
    "duration": 415,
    "start_time": "2023-11-14T17:30:09.273Z"
   },
   {
    "duration": 912,
    "start_time": "2023-11-14T17:30:09.690Z"
   },
   {
    "duration": 3,
    "start_time": "2023-11-14T17:30:10.606Z"
   },
   {
    "duration": 38,
    "start_time": "2023-11-14T17:30:10.610Z"
   },
   {
    "duration": 184,
    "start_time": "2023-11-14T17:30:10.650Z"
   },
   {
    "duration": 5,
    "start_time": "2023-11-14T17:30:10.836Z"
   },
   {
    "duration": 880,
    "start_time": "2023-11-14T17:30:10.842Z"
   },
   {
    "duration": 5,
    "start_time": "2023-11-14T17:30:11.723Z"
   },
   {
    "duration": 42,
    "start_time": "2023-11-14T17:30:11.730Z"
   },
   {
    "duration": 20,
    "start_time": "2023-11-14T17:30:11.774Z"
   },
   {
    "duration": 259,
    "start_time": "2023-11-14T17:30:11.796Z"
   },
   {
    "duration": 10,
    "start_time": "2023-11-14T17:30:12.056Z"
   },
   {
    "duration": 36704,
    "start_time": "2023-11-14T17:30:12.068Z"
   },
   {
    "duration": 242,
    "start_time": "2023-11-14T17:32:51.892Z"
   },
   {
    "duration": 243,
    "start_time": "2023-11-14T17:33:05.339Z"
   },
   {
    "duration": 273,
    "start_time": "2023-11-14T17:33:35.908Z"
   },
   {
    "duration": 256,
    "start_time": "2023-11-14T17:33:50.569Z"
   },
   {
    "duration": 256,
    "start_time": "2023-11-14T17:34:24.436Z"
   },
   {
    "duration": 246,
    "start_time": "2023-11-14T17:34:37.350Z"
   },
   {
    "duration": 254,
    "start_time": "2023-11-14T17:34:46.102Z"
   },
   {
    "duration": 221,
    "start_time": "2023-11-14T17:34:54.320Z"
   },
   {
    "duration": 232,
    "start_time": "2023-11-14T17:35:03.597Z"
   },
   {
    "duration": 230,
    "start_time": "2023-11-14T17:35:18.739Z"
   },
   {
    "duration": 230,
    "start_time": "2023-11-14T17:35:24.996Z"
   },
   {
    "duration": 220,
    "start_time": "2023-11-14T17:35:36.792Z"
   },
   {
    "duration": 258,
    "start_time": "2023-11-14T17:35:45.839Z"
   },
   {
    "duration": 233,
    "start_time": "2023-11-14T17:35:53.567Z"
   },
   {
    "duration": 236,
    "start_time": "2023-11-14T17:36:00.882Z"
   },
   {
    "duration": 241,
    "start_time": "2023-11-14T17:59:23.195Z"
   },
   {
    "duration": 225,
    "start_time": "2023-11-14T18:00:34.866Z"
   },
   {
    "duration": 135,
    "start_time": "2023-11-14T18:02:15.593Z"
   },
   {
    "duration": 15,
    "start_time": "2023-11-14T18:04:22.629Z"
   },
   {
    "duration": 1465,
    "start_time": "2023-11-15T08:24:09.326Z"
   },
   {
    "duration": 295,
    "start_time": "2023-11-15T08:24:10.793Z"
   },
   {
    "duration": 13,
    "start_time": "2023-11-15T08:24:11.089Z"
   },
   {
    "duration": 17,
    "start_time": "2023-11-15T08:24:11.104Z"
   },
   {
    "duration": 41,
    "start_time": "2023-11-15T08:24:11.123Z"
   },
   {
    "duration": 32,
    "start_time": "2023-11-15T08:24:11.166Z"
   },
   {
    "duration": 43,
    "start_time": "2023-11-15T08:24:11.200Z"
   },
   {
    "duration": 11,
    "start_time": "2023-11-15T08:24:11.245Z"
   },
   {
    "duration": 52,
    "start_time": "2023-11-15T08:24:11.258Z"
   },
   {
    "duration": 11,
    "start_time": "2023-11-15T08:24:11.312Z"
   },
   {
    "duration": 15,
    "start_time": "2023-11-15T08:24:11.325Z"
   },
   {
    "duration": 8,
    "start_time": "2023-11-15T08:24:11.341Z"
   },
   {
    "duration": 31,
    "start_time": "2023-11-15T08:24:11.351Z"
   },
   {
    "duration": 4,
    "start_time": "2023-11-15T08:24:11.384Z"
   },
   {
    "duration": 15,
    "start_time": "2023-11-15T08:24:11.390Z"
   },
   {
    "duration": 9,
    "start_time": "2023-11-15T08:24:11.406Z"
   },
   {
    "duration": 21,
    "start_time": "2023-11-15T08:24:11.416Z"
   },
   {
    "duration": 27,
    "start_time": "2023-11-15T08:24:11.439Z"
   },
   {
    "duration": 7,
    "start_time": "2023-11-15T08:24:11.467Z"
   },
   {
    "duration": 33,
    "start_time": "2023-11-15T08:24:11.476Z"
   },
   {
    "duration": 8,
    "start_time": "2023-11-15T08:24:11.511Z"
   },
   {
    "duration": 8,
    "start_time": "2023-11-15T08:24:11.521Z"
   },
   {
    "duration": 17,
    "start_time": "2023-11-15T08:24:11.530Z"
   },
   {
    "duration": 205,
    "start_time": "2023-11-15T08:24:11.549Z"
   },
   {
    "duration": 17,
    "start_time": "2023-11-15T08:24:11.756Z"
   },
   {
    "duration": 164,
    "start_time": "2023-11-15T08:24:11.774Z"
   },
   {
    "duration": 276,
    "start_time": "2023-11-15T08:24:11.940Z"
   },
   {
    "duration": 8,
    "start_time": "2023-11-15T08:24:12.219Z"
   },
   {
    "duration": 25,
    "start_time": "2023-11-15T08:24:12.229Z"
   },
   {
    "duration": 256,
    "start_time": "2023-11-15T08:24:12.255Z"
   },
   {
    "duration": 10,
    "start_time": "2023-11-15T08:24:12.513Z"
   },
   {
    "duration": 225,
    "start_time": "2023-11-15T08:24:12.524Z"
   },
   {
    "duration": 16,
    "start_time": "2023-11-15T08:24:12.751Z"
   },
   {
    "duration": 22,
    "start_time": "2023-11-15T08:24:12.769Z"
   },
   {
    "duration": 29,
    "start_time": "2023-11-15T08:24:12.793Z"
   },
   {
    "duration": 112,
    "start_time": "2023-11-15T08:24:12.823Z"
   },
   {
    "duration": 19,
    "start_time": "2023-11-15T08:24:12.937Z"
   },
   {
    "duration": 409,
    "start_time": "2023-11-15T08:24:12.957Z"
   },
   {
    "duration": 451,
    "start_time": "2023-11-15T08:24:13.368Z"
   },
   {
    "duration": 831,
    "start_time": "2023-11-15T08:24:13.821Z"
   },
   {
    "duration": 4,
    "start_time": "2023-11-15T08:24:14.653Z"
   },
   {
    "duration": 43,
    "start_time": "2023-11-15T08:24:14.659Z"
   },
   {
    "duration": 161,
    "start_time": "2023-11-15T08:24:14.703Z"
   },
   {
    "duration": 5,
    "start_time": "2023-11-15T08:24:14.865Z"
   },
   {
    "duration": 837,
    "start_time": "2023-11-15T08:24:14.872Z"
   },
   {
    "duration": 5,
    "start_time": "2023-11-15T08:24:15.711Z"
   },
   {
    "duration": 11,
    "start_time": "2023-11-15T08:24:15.718Z"
   },
   {
    "duration": 5,
    "start_time": "2023-11-15T08:24:15.731Z"
   },
   {
    "duration": 250,
    "start_time": "2023-11-15T08:24:15.738Z"
   },
   {
    "duration": 9,
    "start_time": "2023-11-15T08:24:15.990Z"
   },
   {
    "duration": 230,
    "start_time": "2023-11-15T08:24:16.001Z"
   },
   {
    "duration": 7,
    "start_time": "2023-11-15T09:02:27.204Z"
   },
   {
    "duration": 5,
    "start_time": "2023-11-15T09:02:40.167Z"
   },
   {
    "duration": 106,
    "start_time": "2023-11-15T09:02:48.172Z"
   },
   {
    "duration": 5,
    "start_time": "2023-11-15T09:03:09.297Z"
   },
   {
    "duration": 14,
    "start_time": "2023-11-15T09:03:57.719Z"
   },
   {
    "duration": 17,
    "start_time": "2023-11-15T09:04:39.892Z"
   },
   {
    "duration": 14,
    "start_time": "2023-11-15T09:05:20.007Z"
   },
   {
    "duration": 16,
    "start_time": "2023-11-15T09:05:26.932Z"
   },
   {
    "duration": 18,
    "start_time": "2023-11-15T09:05:46.857Z"
   },
   {
    "duration": 16,
    "start_time": "2023-11-15T09:05:51.237Z"
   },
   {
    "duration": 5,
    "start_time": "2023-11-15T09:06:12.775Z"
   },
   {
    "duration": 13,
    "start_time": "2023-11-15T09:06:33.409Z"
   },
   {
    "duration": 5,
    "start_time": "2023-11-15T09:06:58.666Z"
   },
   {
    "duration": 6,
    "start_time": "2023-11-15T09:07:41.111Z"
   },
   {
    "duration": 8,
    "start_time": "2023-11-15T09:09:24.521Z"
   },
   {
    "duration": 9,
    "start_time": "2023-11-15T09:09:34.282Z"
   },
   {
    "duration": 7,
    "start_time": "2023-11-15T09:10:22.217Z"
   },
   {
    "duration": 1283,
    "start_time": "2023-11-15T12:45:19.971Z"
   },
   {
    "duration": 75,
    "start_time": "2023-11-15T12:45:21.256Z"
   },
   {
    "duration": 12,
    "start_time": "2023-11-15T12:45:21.332Z"
   },
   {
    "duration": 8,
    "start_time": "2023-11-15T12:45:21.346Z"
   },
   {
    "duration": 9,
    "start_time": "2023-11-15T12:45:21.356Z"
   },
   {
    "duration": 17,
    "start_time": "2023-11-15T12:45:21.366Z"
   },
   {
    "duration": 17,
    "start_time": "2023-11-15T12:45:21.385Z"
   },
   {
    "duration": 14,
    "start_time": "2023-11-15T12:45:21.405Z"
   },
   {
    "duration": 61,
    "start_time": "2023-11-15T12:45:21.420Z"
   },
   {
    "duration": 31,
    "start_time": "2023-11-15T12:45:21.483Z"
   },
   {
    "duration": 11,
    "start_time": "2023-11-15T12:45:21.517Z"
   },
   {
    "duration": 18,
    "start_time": "2023-11-15T12:45:21.530Z"
   },
   {
    "duration": 11,
    "start_time": "2023-11-15T12:45:21.550Z"
   },
   {
    "duration": 30,
    "start_time": "2023-11-15T12:45:21.563Z"
   },
   {
    "duration": 18,
    "start_time": "2023-11-15T12:45:21.595Z"
   },
   {
    "duration": 23,
    "start_time": "2023-11-15T12:45:21.615Z"
   },
   {
    "duration": 4,
    "start_time": "2023-11-15T12:45:21.639Z"
   },
   {
    "duration": 22,
    "start_time": "2023-11-15T12:45:21.645Z"
   },
   {
    "duration": 42,
    "start_time": "2023-11-15T12:45:21.668Z"
   },
   {
    "duration": 7,
    "start_time": "2023-11-15T12:45:21.716Z"
   },
   {
    "duration": 15,
    "start_time": "2023-11-15T12:45:21.725Z"
   },
   {
    "duration": 19,
    "start_time": "2023-11-15T12:45:21.742Z"
   },
   {
    "duration": 12,
    "start_time": "2023-11-15T12:45:21.763Z"
   },
   {
    "duration": 18,
    "start_time": "2023-11-15T12:45:21.777Z"
   },
   {
    "duration": 195,
    "start_time": "2023-11-15T12:45:21.797Z"
   },
   {
    "duration": 24,
    "start_time": "2023-11-15T12:45:21.994Z"
   },
   {
    "duration": 194,
    "start_time": "2023-11-15T12:45:22.020Z"
   },
   {
    "duration": 285,
    "start_time": "2023-11-15T12:45:22.218Z"
   },
   {
    "duration": 10,
    "start_time": "2023-11-15T12:45:22.504Z"
   },
   {
    "duration": 16,
    "start_time": "2023-11-15T12:45:22.517Z"
   },
   {
    "duration": 268,
    "start_time": "2023-11-15T12:45:22.534Z"
   },
   {
    "duration": 13,
    "start_time": "2023-11-15T12:45:22.804Z"
   },
   {
    "duration": 219,
    "start_time": "2023-11-15T12:45:22.819Z"
   },
   {
    "duration": 11,
    "start_time": "2023-11-15T12:45:23.040Z"
   },
   {
    "duration": 24,
    "start_time": "2023-11-15T12:45:23.053Z"
   },
   {
    "duration": 35,
    "start_time": "2023-11-15T12:45:23.079Z"
   },
   {
    "duration": 99,
    "start_time": "2023-11-15T12:45:23.117Z"
   },
   {
    "duration": 20,
    "start_time": "2023-11-15T12:45:23.217Z"
   },
   {
    "duration": 456,
    "start_time": "2023-11-15T12:45:23.239Z"
   },
   {
    "duration": 436,
    "start_time": "2023-11-15T12:45:23.699Z"
   },
   {
    "duration": 925,
    "start_time": "2023-11-15T12:45:24.137Z"
   },
   {
    "duration": 4,
    "start_time": "2023-11-15T12:45:25.063Z"
   },
   {
    "duration": 40,
    "start_time": "2023-11-15T12:45:25.069Z"
   },
   {
    "duration": 159,
    "start_time": "2023-11-15T12:45:25.114Z"
   },
   {
    "duration": 6,
    "start_time": "2023-11-15T12:45:25.274Z"
   },
   {
    "duration": 987,
    "start_time": "2023-11-15T12:45:25.281Z"
   },
   {
    "duration": 5,
    "start_time": "2023-11-15T12:45:26.270Z"
   },
   {
    "duration": 25,
    "start_time": "2023-11-15T12:45:26.276Z"
   },
   {
    "duration": 13,
    "start_time": "2023-11-15T12:45:26.302Z"
   },
   {
    "duration": 249,
    "start_time": "2023-11-15T12:45:26.317Z"
   },
   {
    "duration": 5,
    "start_time": "2023-11-15T12:45:26.567Z"
   },
   {
    "duration": 256,
    "start_time": "2023-11-15T12:45:26.574Z"
   },
   {
    "duration": 1296,
    "start_time": "2023-11-15T14:32:55.672Z"
   },
   {
    "duration": 72,
    "start_time": "2023-11-15T14:32:56.970Z"
   },
   {
    "duration": 16,
    "start_time": "2023-11-15T14:32:57.045Z"
   },
   {
    "duration": 16,
    "start_time": "2023-11-15T14:32:57.064Z"
   },
   {
    "duration": 19,
    "start_time": "2023-11-15T14:32:57.082Z"
   },
   {
    "duration": 19,
    "start_time": "2023-11-15T14:32:57.103Z"
   },
   {
    "duration": 18,
    "start_time": "2023-11-15T14:32:57.125Z"
   },
   {
    "duration": 36,
    "start_time": "2023-11-15T14:32:57.146Z"
   },
   {
    "duration": 78,
    "start_time": "2023-11-15T14:32:57.184Z"
   },
   {
    "duration": 13,
    "start_time": "2023-11-15T14:32:57.265Z"
   },
   {
    "duration": 31,
    "start_time": "2023-11-15T14:32:57.280Z"
   },
   {
    "duration": 9,
    "start_time": "2023-11-15T14:32:57.312Z"
   },
   {
    "duration": 14,
    "start_time": "2023-11-15T14:32:57.323Z"
   },
   {
    "duration": 6,
    "start_time": "2023-11-15T14:32:57.340Z"
   },
   {
    "duration": 16,
    "start_time": "2023-11-15T14:32:57.348Z"
   },
   {
    "duration": 38,
    "start_time": "2023-11-15T14:32:57.366Z"
   },
   {
    "duration": 9,
    "start_time": "2023-11-15T14:32:57.406Z"
   },
   {
    "duration": 20,
    "start_time": "2023-11-15T14:32:57.417Z"
   },
   {
    "duration": 33,
    "start_time": "2023-11-15T14:32:57.440Z"
   },
   {
    "duration": 23,
    "start_time": "2023-11-15T14:32:57.476Z"
   },
   {
    "duration": 11,
    "start_time": "2023-11-15T14:32:57.501Z"
   },
   {
    "duration": 31,
    "start_time": "2023-11-15T14:32:57.513Z"
   },
   {
    "duration": 14,
    "start_time": "2023-11-15T14:32:57.546Z"
   },
   {
    "duration": 40,
    "start_time": "2023-11-15T14:32:57.562Z"
   },
   {
    "duration": 237,
    "start_time": "2023-11-15T14:32:57.604Z"
   },
   {
    "duration": 18,
    "start_time": "2023-11-15T14:32:57.843Z"
   },
   {
    "duration": 154,
    "start_time": "2023-11-15T14:32:57.863Z"
   },
   {
    "duration": 297,
    "start_time": "2023-11-15T14:32:58.021Z"
   },
   {
    "duration": 11,
    "start_time": "2023-11-15T14:32:58.320Z"
   },
   {
    "duration": 45,
    "start_time": "2023-11-15T14:32:58.332Z"
   },
   {
    "duration": 307,
    "start_time": "2023-11-15T14:32:58.379Z"
   },
   {
    "duration": 11,
    "start_time": "2023-11-15T14:32:58.693Z"
   },
   {
    "duration": 222,
    "start_time": "2023-11-15T14:32:58.706Z"
   },
   {
    "duration": 12,
    "start_time": "2023-11-15T14:32:58.929Z"
   },
   {
    "duration": 14,
    "start_time": "2023-11-15T14:32:58.942Z"
   },
   {
    "duration": 32,
    "start_time": "2023-11-15T14:32:58.958Z"
   },
   {
    "duration": 120,
    "start_time": "2023-11-15T14:32:58.998Z"
   },
   {
    "duration": 21,
    "start_time": "2023-11-15T14:32:59.120Z"
   },
   {
    "duration": 415,
    "start_time": "2023-11-15T14:32:59.143Z"
   },
   {
    "duration": 475,
    "start_time": "2023-11-15T14:32:59.560Z"
   },
   {
    "duration": 921,
    "start_time": "2023-11-15T14:33:00.037Z"
   },
   {
    "duration": 5,
    "start_time": "2023-11-15T14:33:00.959Z"
   },
   {
    "duration": 50,
    "start_time": "2023-11-15T14:33:00.966Z"
   },
   {
    "duration": 160,
    "start_time": "2023-11-15T14:33:01.018Z"
   },
   {
    "duration": 7,
    "start_time": "2023-11-15T14:33:01.180Z"
   },
   {
    "duration": 885,
    "start_time": "2023-11-15T14:33:01.199Z"
   },
   {
    "duration": 12,
    "start_time": "2023-11-15T14:33:02.086Z"
   },
   {
    "duration": 57,
    "start_time": "2023-11-15T14:33:02.100Z"
   },
   {
    "duration": 23,
    "start_time": "2023-11-15T14:33:02.158Z"
   },
   {
    "duration": 228,
    "start_time": "2023-11-15T14:33:02.182Z"
   },
   {
    "duration": 6,
    "start_time": "2023-11-15T14:33:02.411Z"
   },
   {
    "duration": 250,
    "start_time": "2023-11-15T14:33:02.419Z"
   },
   {
    "duration": 1334,
    "start_time": "2023-11-16T09:28:41.563Z"
   },
   {
    "duration": 191,
    "start_time": "2023-11-16T09:28:42.899Z"
   },
   {
    "duration": 12,
    "start_time": "2023-11-16T09:28:43.092Z"
   },
   {
    "duration": 8,
    "start_time": "2023-11-16T09:28:43.106Z"
   },
   {
    "duration": 7,
    "start_time": "2023-11-16T09:28:43.116Z"
   },
   {
    "duration": 17,
    "start_time": "2023-11-16T09:28:43.124Z"
   },
   {
    "duration": 11,
    "start_time": "2023-11-16T09:28:43.142Z"
   },
   {
    "duration": 13,
    "start_time": "2023-11-16T09:28:43.154Z"
   },
   {
    "duration": 45,
    "start_time": "2023-11-16T09:28:43.169Z"
   },
   {
    "duration": 10,
    "start_time": "2023-11-16T09:28:43.216Z"
   },
   {
    "duration": 29,
    "start_time": "2023-11-16T09:28:43.228Z"
   },
   {
    "duration": 7,
    "start_time": "2023-11-16T09:28:43.258Z"
   },
   {
    "duration": 9,
    "start_time": "2023-11-16T09:28:43.267Z"
   },
   {
    "duration": 4,
    "start_time": "2023-11-16T09:28:43.278Z"
   },
   {
    "duration": 8,
    "start_time": "2023-11-16T09:28:43.283Z"
   },
   {
    "duration": 5,
    "start_time": "2023-11-16T09:28:43.292Z"
   },
   {
    "duration": 4,
    "start_time": "2023-11-16T09:28:43.298Z"
   },
   {
    "duration": 5,
    "start_time": "2023-11-16T09:28:43.303Z"
   },
   {
    "duration": 50,
    "start_time": "2023-11-16T09:28:43.309Z"
   },
   {
    "duration": 4,
    "start_time": "2023-11-16T09:28:43.361Z"
   },
   {
    "duration": 5,
    "start_time": "2023-11-16T09:28:43.367Z"
   },
   {
    "duration": 7,
    "start_time": "2023-11-16T09:28:43.374Z"
   },
   {
    "duration": 4,
    "start_time": "2023-11-16T09:28:43.382Z"
   },
   {
    "duration": 12,
    "start_time": "2023-11-16T09:28:43.387Z"
   },
   {
    "duration": 193,
    "start_time": "2023-11-16T09:28:43.401Z"
   },
   {
    "duration": 18,
    "start_time": "2023-11-16T09:28:43.596Z"
   },
   {
    "duration": 204,
    "start_time": "2023-11-16T09:28:43.615Z"
   },
   {
    "duration": 253,
    "start_time": "2023-11-16T09:28:43.823Z"
   },
   {
    "duration": 8,
    "start_time": "2023-11-16T09:28:44.077Z"
   },
   {
    "duration": 7,
    "start_time": "2023-11-16T09:28:44.086Z"
   },
   {
    "duration": 241,
    "start_time": "2023-11-16T09:28:44.095Z"
   },
   {
    "duration": 15,
    "start_time": "2023-11-16T09:28:44.337Z"
   },
   {
    "duration": 184,
    "start_time": "2023-11-16T09:28:44.354Z"
   },
   {
    "duration": 16,
    "start_time": "2023-11-16T09:28:44.540Z"
   },
   {
    "duration": 9,
    "start_time": "2023-11-16T09:28:44.558Z"
   },
   {
    "duration": 22,
    "start_time": "2023-11-16T09:28:44.569Z"
   },
   {
    "duration": 98,
    "start_time": "2023-11-16T09:28:44.593Z"
   },
   {
    "duration": 19,
    "start_time": "2023-11-16T09:28:44.692Z"
   },
   {
    "duration": 427,
    "start_time": "2023-11-16T09:28:44.712Z"
   },
   {
    "duration": 396,
    "start_time": "2023-11-16T09:28:45.141Z"
   },
   {
    "duration": 871,
    "start_time": "2023-11-16T09:28:45.538Z"
   },
   {
    "duration": 3,
    "start_time": "2023-11-16T09:28:46.411Z"
   },
   {
    "duration": 15,
    "start_time": "2023-11-16T09:28:46.415Z"
   },
   {
    "duration": 156,
    "start_time": "2023-11-16T09:28:46.431Z"
   },
   {
    "duration": 5,
    "start_time": "2023-11-16T09:28:46.589Z"
   },
   {
    "duration": 835,
    "start_time": "2023-11-16T09:28:46.595Z"
   },
   {
    "duration": 5,
    "start_time": "2023-11-16T09:28:47.431Z"
   },
   {
    "duration": 19,
    "start_time": "2023-11-16T09:28:47.438Z"
   },
   {
    "duration": 3,
    "start_time": "2023-11-16T09:28:47.459Z"
   },
   {
    "duration": 216,
    "start_time": "2023-11-16T09:28:47.463Z"
   },
   {
    "duration": 102,
    "start_time": "2023-11-16T09:28:47.681Z"
   },
   {
    "duration": 0,
    "start_time": "2023-11-16T09:28:47.785Z"
   },
   {
    "duration": 1333,
    "start_time": "2023-11-16T09:29:51.346Z"
   },
   {
    "duration": 66,
    "start_time": "2023-11-16T09:29:52.681Z"
   },
   {
    "duration": 12,
    "start_time": "2023-11-16T09:29:52.749Z"
   },
   {
    "duration": 22,
    "start_time": "2023-11-16T09:29:52.762Z"
   },
   {
    "duration": 23,
    "start_time": "2023-11-16T09:29:52.785Z"
   },
   {
    "duration": 24,
    "start_time": "2023-11-16T09:29:52.809Z"
   },
   {
    "duration": 21,
    "start_time": "2023-11-16T09:29:52.834Z"
   },
   {
    "duration": 9,
    "start_time": "2023-11-16T09:29:52.856Z"
   },
   {
    "duration": 54,
    "start_time": "2023-11-16T09:29:52.867Z"
   },
   {
    "duration": 10,
    "start_time": "2023-11-16T09:29:52.923Z"
   },
   {
    "duration": 24,
    "start_time": "2023-11-16T09:29:52.934Z"
   },
   {
    "duration": 16,
    "start_time": "2023-11-16T09:29:52.960Z"
   },
   {
    "duration": 17,
    "start_time": "2023-11-16T09:29:52.977Z"
   },
   {
    "duration": 18,
    "start_time": "2023-11-16T09:29:52.996Z"
   },
   {
    "duration": 8,
    "start_time": "2023-11-16T09:29:53.015Z"
   },
   {
    "duration": 9,
    "start_time": "2023-11-16T09:29:53.025Z"
   },
   {
    "duration": 13,
    "start_time": "2023-11-16T09:29:53.035Z"
   },
   {
    "duration": 9,
    "start_time": "2023-11-16T09:29:53.049Z"
   },
   {
    "duration": 20,
    "start_time": "2023-11-16T09:29:53.059Z"
   },
   {
    "duration": 6,
    "start_time": "2023-11-16T09:29:53.080Z"
   },
   {
    "duration": 13,
    "start_time": "2023-11-16T09:29:53.087Z"
   },
   {
    "duration": 21,
    "start_time": "2023-11-16T09:29:53.102Z"
   },
   {
    "duration": 4,
    "start_time": "2023-11-16T09:29:53.125Z"
   },
   {
    "duration": 14,
    "start_time": "2023-11-16T09:29:53.131Z"
   },
   {
    "duration": 178,
    "start_time": "2023-11-16T09:29:53.147Z"
   },
   {
    "duration": 15,
    "start_time": "2023-11-16T09:29:53.327Z"
   },
   {
    "duration": 125,
    "start_time": "2023-11-16T09:29:53.352Z"
   },
   {
    "duration": 258,
    "start_time": "2023-11-16T09:29:53.480Z"
   },
   {
    "duration": 15,
    "start_time": "2023-11-16T09:29:53.739Z"
   },
   {
    "duration": 15,
    "start_time": "2023-11-16T09:29:53.755Z"
   },
   {
    "duration": 221,
    "start_time": "2023-11-16T09:29:53.772Z"
   },
   {
    "duration": 8,
    "start_time": "2023-11-16T09:29:53.994Z"
   },
   {
    "duration": 210,
    "start_time": "2023-11-16T09:29:54.004Z"
   },
   {
    "duration": 10,
    "start_time": "2023-11-16T09:29:54.215Z"
   },
   {
    "duration": 31,
    "start_time": "2023-11-16T09:29:54.226Z"
   },
   {
    "duration": 32,
    "start_time": "2023-11-16T09:29:54.258Z"
   },
   {
    "duration": 96,
    "start_time": "2023-11-16T09:29:54.292Z"
   },
   {
    "duration": 19,
    "start_time": "2023-11-16T09:29:54.389Z"
   },
   {
    "duration": 376,
    "start_time": "2023-11-16T09:29:54.409Z"
   },
   {
    "duration": 438,
    "start_time": "2023-11-16T09:29:54.787Z"
   },
   {
    "duration": 835,
    "start_time": "2023-11-16T09:29:55.226Z"
   },
   {
    "duration": 4,
    "start_time": "2023-11-16T09:29:56.062Z"
   },
   {
    "duration": 13,
    "start_time": "2023-11-16T09:29:56.067Z"
   },
   {
    "duration": 146,
    "start_time": "2023-11-16T09:29:56.081Z"
   },
   {
    "duration": 5,
    "start_time": "2023-11-16T09:29:56.229Z"
   },
   {
    "duration": 779,
    "start_time": "2023-11-16T09:29:56.235Z"
   },
   {
    "duration": 4,
    "start_time": "2023-11-16T09:29:57.016Z"
   },
   {
    "duration": 13,
    "start_time": "2023-11-16T09:29:57.022Z"
   },
   {
    "duration": 16,
    "start_time": "2023-11-16T09:29:57.036Z"
   },
   {
    "duration": 228,
    "start_time": "2023-11-16T09:29:57.053Z"
   },
   {
    "duration": 130,
    "start_time": "2023-11-16T09:29:57.283Z"
   },
   {
    "duration": 0,
    "start_time": "2023-11-16T09:29:57.415Z"
   },
   {
    "duration": 1194,
    "start_time": "2023-11-16T09:30:47.295Z"
   },
   {
    "duration": 67,
    "start_time": "2023-11-16T09:30:48.491Z"
   },
   {
    "duration": 11,
    "start_time": "2023-11-16T09:30:48.559Z"
   },
   {
    "duration": 7,
    "start_time": "2023-11-16T09:30:48.571Z"
   },
   {
    "duration": 6,
    "start_time": "2023-11-16T09:30:48.580Z"
   },
   {
    "duration": 26,
    "start_time": "2023-11-16T09:30:48.587Z"
   },
   {
    "duration": 10,
    "start_time": "2023-11-16T09:30:48.615Z"
   },
   {
    "duration": 9,
    "start_time": "2023-11-16T09:30:48.627Z"
   },
   {
    "duration": 60,
    "start_time": "2023-11-16T09:30:48.637Z"
   },
   {
    "duration": 11,
    "start_time": "2023-11-16T09:30:48.698Z"
   },
   {
    "duration": 12,
    "start_time": "2023-11-16T09:30:48.711Z"
   },
   {
    "duration": 31,
    "start_time": "2023-11-16T09:30:48.725Z"
   },
   {
    "duration": 16,
    "start_time": "2023-11-16T09:30:48.758Z"
   },
   {
    "duration": 5,
    "start_time": "2023-11-16T09:30:48.777Z"
   },
   {
    "duration": 15,
    "start_time": "2023-11-16T09:30:48.783Z"
   },
   {
    "duration": 14,
    "start_time": "2023-11-16T09:30:48.799Z"
   },
   {
    "duration": 4,
    "start_time": "2023-11-16T09:30:48.814Z"
   },
   {
    "duration": 15,
    "start_time": "2023-11-16T09:30:48.819Z"
   },
   {
    "duration": 11,
    "start_time": "2023-11-16T09:30:48.835Z"
   },
   {
    "duration": 5,
    "start_time": "2023-11-16T09:30:48.851Z"
   },
   {
    "duration": 21,
    "start_time": "2023-11-16T09:30:48.857Z"
   },
   {
    "duration": 25,
    "start_time": "2023-11-16T09:30:48.879Z"
   },
   {
    "duration": 4,
    "start_time": "2023-11-16T09:30:48.905Z"
   },
   {
    "duration": 30,
    "start_time": "2023-11-16T09:30:48.911Z"
   },
   {
    "duration": 167,
    "start_time": "2023-11-16T09:30:48.942Z"
   },
   {
    "duration": 15,
    "start_time": "2023-11-16T09:30:49.110Z"
   },
   {
    "duration": 137,
    "start_time": "2023-11-16T09:30:49.126Z"
   },
   {
    "duration": 265,
    "start_time": "2023-11-16T09:30:49.265Z"
   },
   {
    "duration": 8,
    "start_time": "2023-11-16T09:30:49.532Z"
   },
   {
    "duration": 15,
    "start_time": "2023-11-16T09:30:49.552Z"
   },
   {
    "duration": 211,
    "start_time": "2023-11-16T09:30:49.568Z"
   },
   {
    "duration": 8,
    "start_time": "2023-11-16T09:30:49.780Z"
   },
   {
    "duration": 200,
    "start_time": "2023-11-16T09:30:49.789Z"
   },
   {
    "duration": 10,
    "start_time": "2023-11-16T09:30:49.991Z"
   },
   {
    "duration": 18,
    "start_time": "2023-11-16T09:30:50.003Z"
   },
   {
    "duration": 24,
    "start_time": "2023-11-16T09:30:50.022Z"
   },
   {
    "duration": 86,
    "start_time": "2023-11-16T09:30:50.048Z"
   },
   {
    "duration": 29,
    "start_time": "2023-11-16T09:30:50.136Z"
   },
   {
    "duration": 387,
    "start_time": "2023-11-16T09:30:50.167Z"
   },
   {
    "duration": 396,
    "start_time": "2023-11-16T09:30:50.556Z"
   },
   {
    "duration": 836,
    "start_time": "2023-11-16T09:30:50.955Z"
   },
   {
    "duration": 3,
    "start_time": "2023-11-16T09:30:51.793Z"
   },
   {
    "duration": 12,
    "start_time": "2023-11-16T09:30:51.797Z"
   },
   {
    "duration": 147,
    "start_time": "2023-11-16T09:30:51.811Z"
   },
   {
    "duration": 5,
    "start_time": "2023-11-16T09:30:51.960Z"
   },
   {
    "duration": 844,
    "start_time": "2023-11-16T09:30:51.966Z"
   },
   {
    "duration": 6,
    "start_time": "2023-11-16T09:30:52.811Z"
   },
   {
    "duration": 15,
    "start_time": "2023-11-16T09:30:52.818Z"
   },
   {
    "duration": 4,
    "start_time": "2023-11-16T09:30:52.835Z"
   },
   {
    "duration": 243,
    "start_time": "2023-11-16T09:30:52.851Z"
   },
   {
    "duration": 6,
    "start_time": "2023-11-16T09:30:53.096Z"
   },
   {
    "duration": 260,
    "start_time": "2023-11-16T09:30:53.104Z"
   },
   {
    "duration": 97,
    "start_time": "2023-11-16T09:37:33.455Z"
   },
   {
    "duration": 15,
    "start_time": "2023-11-16T09:37:43.052Z"
   },
   {
    "duration": 116,
    "start_time": "2023-11-16T09:38:07.675Z"
   },
   {
    "duration": 3,
    "start_time": "2023-11-16T09:39:05.935Z"
   },
   {
    "duration": 4,
    "start_time": "2023-11-16T09:39:16.971Z"
   },
   {
    "duration": 13,
    "start_time": "2023-11-16T09:39:32.465Z"
   },
   {
    "duration": 5,
    "start_time": "2023-11-16T09:40:22.266Z"
   },
   {
    "duration": 8,
    "start_time": "2023-11-16T09:40:28.155Z"
   },
   {
    "duration": 6,
    "start_time": "2023-11-16T09:40:33.450Z"
   },
   {
    "duration": 4,
    "start_time": "2023-11-16T09:41:18.351Z"
   },
   {
    "duration": 5,
    "start_time": "2023-11-16T09:42:09.681Z"
   },
   {
    "duration": 7,
    "start_time": "2023-11-16T09:43:20.355Z"
   },
   {
    "duration": 8,
    "start_time": "2023-11-16T09:43:51.091Z"
   },
   {
    "duration": 6,
    "start_time": "2023-11-16T09:43:55.950Z"
   },
   {
    "duration": 5,
    "start_time": "2023-11-16T09:49:37.971Z"
   },
   {
    "duration": 10,
    "start_time": "2023-11-16T09:49:44.171Z"
   },
   {
    "duration": 6,
    "start_time": "2023-11-16T09:50:50.434Z"
   },
   {
    "duration": 10,
    "start_time": "2023-11-16T09:54:54.256Z"
   },
   {
    "duration": 93,
    "start_time": "2023-11-16T10:07:57.155Z"
   },
   {
    "duration": 155,
    "start_time": "2023-11-16T10:08:14.630Z"
   },
   {
    "duration": 167,
    "start_time": "2023-11-16T10:08:56.970Z"
   },
   {
    "duration": 244,
    "start_time": "2023-11-16T10:09:29.516Z"
   },
   {
    "duration": 181,
    "start_time": "2023-11-16T10:09:39.885Z"
   },
   {
    "duration": 157,
    "start_time": "2023-11-16T10:13:01.471Z"
   },
   {
    "duration": 157,
    "start_time": "2023-11-16T10:13:09.716Z"
   },
   {
    "duration": 139,
    "start_time": "2023-11-16T10:14:06.240Z"
   },
   {
    "duration": 248,
    "start_time": "2023-11-16T10:17:23.966Z"
   },
   {
    "duration": 230,
    "start_time": "2023-11-16T10:17:31.791Z"
   },
   {
    "duration": 198,
    "start_time": "2023-11-16T10:18:59.126Z"
   },
   {
    "duration": 190,
    "start_time": "2023-11-16T10:32:00.722Z"
   },
   {
    "duration": 4,
    "start_time": "2023-11-16T10:33:16.531Z"
   },
   {
    "duration": 4,
    "start_time": "2023-11-16T10:33:42.296Z"
   },
   {
    "duration": 4,
    "start_time": "2023-11-16T10:33:50.996Z"
   },
   {
    "duration": 4,
    "start_time": "2023-11-16T10:34:14.140Z"
   },
   {
    "duration": 5,
    "start_time": "2023-11-16T10:41:14.370Z"
   },
   {
    "duration": 5,
    "start_time": "2023-11-16T10:41:18.230Z"
   },
   {
    "duration": 14,
    "start_time": "2023-11-16T10:41:58.970Z"
   },
   {
    "duration": 11,
    "start_time": "2023-11-16T10:43:02.405Z"
   },
   {
    "duration": 6,
    "start_time": "2023-11-16T10:43:17.030Z"
   },
   {
    "duration": 5,
    "start_time": "2023-11-16T10:43:23.145Z"
   },
   {
    "duration": 10,
    "start_time": "2023-11-16T10:43:34.870Z"
   },
   {
    "duration": 3,
    "start_time": "2023-11-16T10:44:13.960Z"
   },
   {
    "duration": 8,
    "start_time": "2023-11-16T10:52:52.514Z"
   },
   {
    "duration": 8,
    "start_time": "2023-11-16T10:53:07.756Z"
   },
   {
    "duration": 20,
    "start_time": "2023-11-16T10:53:22.889Z"
   },
   {
    "duration": 9,
    "start_time": "2023-11-16T10:53:25.394Z"
   },
   {
    "duration": 10,
    "start_time": "2023-11-16T10:54:00.610Z"
   },
   {
    "duration": 11,
    "start_time": "2023-11-16T10:54:08.519Z"
   },
   {
    "duration": 10,
    "start_time": "2023-11-16T10:54:20.254Z"
   },
   {
    "duration": 9,
    "start_time": "2023-11-16T10:54:54.219Z"
   },
   {
    "duration": 418,
    "start_time": "2023-11-16T10:57:26.660Z"
   },
   {
    "duration": 342,
    "start_time": "2023-11-16T10:58:10.834Z"
   },
   {
    "duration": 7,
    "start_time": "2023-11-16T11:00:19.479Z"
   },
   {
    "duration": 3,
    "start_time": "2023-11-16T11:00:24.489Z"
   },
   {
    "duration": 993,
    "start_time": "2023-11-16T11:00:25.800Z"
   },
   {
    "duration": 11,
    "start_time": "2023-11-16T11:00:30.090Z"
   },
   {
    "duration": 7,
    "start_time": "2023-11-16T11:00:33.999Z"
   },
   {
    "duration": 139,
    "start_time": "2023-11-16T11:01:13.749Z"
   },
   {
    "duration": 5,
    "start_time": "2023-11-16T11:18:11.982Z"
   },
   {
    "duration": 4,
    "start_time": "2023-11-16T11:20:07.587Z"
   },
   {
    "duration": 5,
    "start_time": "2023-11-16T11:23:12.357Z"
   },
   {
    "duration": 5,
    "start_time": "2023-11-16T11:23:37.551Z"
   },
   {
    "duration": 7,
    "start_time": "2023-11-16T11:39:50.298Z"
   },
   {
    "duration": 7,
    "start_time": "2023-11-16T11:51:15.068Z"
   },
   {
    "duration": 1199,
    "start_time": "2023-11-16T11:52:49.174Z"
   },
   {
    "duration": 68,
    "start_time": "2023-11-16T11:52:50.375Z"
   },
   {
    "duration": 14,
    "start_time": "2023-11-16T11:52:50.444Z"
   },
   {
    "duration": 7,
    "start_time": "2023-11-16T11:52:50.460Z"
   },
   {
    "duration": 11,
    "start_time": "2023-11-16T11:52:50.468Z"
   },
   {
    "duration": 10,
    "start_time": "2023-11-16T11:52:50.481Z"
   },
   {
    "duration": 9,
    "start_time": "2023-11-16T11:52:50.492Z"
   },
   {
    "duration": 9,
    "start_time": "2023-11-16T11:52:50.502Z"
   },
   {
    "duration": 73,
    "start_time": "2023-11-16T11:52:50.512Z"
   },
   {
    "duration": 9,
    "start_time": "2023-11-16T11:52:50.587Z"
   },
   {
    "duration": 29,
    "start_time": "2023-11-16T11:52:50.597Z"
   },
   {
    "duration": 13,
    "start_time": "2023-11-16T11:52:50.627Z"
   },
   {
    "duration": 10,
    "start_time": "2023-11-16T11:52:50.642Z"
   },
   {
    "duration": 107,
    "start_time": "2023-11-16T11:52:50.653Z"
   },
   {
    "duration": 0,
    "start_time": "2023-11-16T11:52:50.762Z"
   },
   {
    "duration": 0,
    "start_time": "2023-11-16T11:52:50.763Z"
   },
   {
    "duration": 0,
    "start_time": "2023-11-16T11:52:50.764Z"
   },
   {
    "duration": 0,
    "start_time": "2023-11-16T11:52:50.766Z"
   },
   {
    "duration": 0,
    "start_time": "2023-11-16T11:52:50.766Z"
   },
   {
    "duration": 0,
    "start_time": "2023-11-16T11:52:50.767Z"
   },
   {
    "duration": 0,
    "start_time": "2023-11-16T11:52:50.768Z"
   },
   {
    "duration": 0,
    "start_time": "2023-11-16T11:52:50.769Z"
   },
   {
    "duration": 0,
    "start_time": "2023-11-16T11:52:50.770Z"
   },
   {
    "duration": 0,
    "start_time": "2023-11-16T11:52:50.771Z"
   },
   {
    "duration": 0,
    "start_time": "2023-11-16T11:52:50.772Z"
   },
   {
    "duration": 0,
    "start_time": "2023-11-16T11:52:50.773Z"
   },
   {
    "duration": 0,
    "start_time": "2023-11-16T11:52:50.773Z"
   },
   {
    "duration": 0,
    "start_time": "2023-11-16T11:52:50.774Z"
   },
   {
    "duration": 0,
    "start_time": "2023-11-16T11:52:50.775Z"
   },
   {
    "duration": 0,
    "start_time": "2023-11-16T11:52:50.776Z"
   },
   {
    "duration": 0,
    "start_time": "2023-11-16T11:52:50.777Z"
   },
   {
    "duration": 0,
    "start_time": "2023-11-16T11:52:50.778Z"
   },
   {
    "duration": 0,
    "start_time": "2023-11-16T11:52:50.779Z"
   },
   {
    "duration": 0,
    "start_time": "2023-11-16T11:52:50.779Z"
   },
   {
    "duration": 0,
    "start_time": "2023-11-16T11:52:50.780Z"
   },
   {
    "duration": 0,
    "start_time": "2023-11-16T11:52:50.781Z"
   },
   {
    "duration": 0,
    "start_time": "2023-11-16T11:52:50.782Z"
   },
   {
    "duration": 0,
    "start_time": "2023-11-16T11:52:50.783Z"
   },
   {
    "duration": 0,
    "start_time": "2023-11-16T11:52:50.783Z"
   },
   {
    "duration": 1,
    "start_time": "2023-11-16T11:52:50.784Z"
   },
   {
    "duration": 0,
    "start_time": "2023-11-16T11:52:50.785Z"
   },
   {
    "duration": 0,
    "start_time": "2023-11-16T11:52:50.786Z"
   },
   {
    "duration": 0,
    "start_time": "2023-11-16T11:52:50.787Z"
   },
   {
    "duration": 0,
    "start_time": "2023-11-16T11:52:50.788Z"
   },
   {
    "duration": 0,
    "start_time": "2023-11-16T11:52:50.789Z"
   },
   {
    "duration": 0,
    "start_time": "2023-11-16T11:52:50.790Z"
   },
   {
    "duration": 0,
    "start_time": "2023-11-16T11:52:50.790Z"
   },
   {
    "duration": 0,
    "start_time": "2023-11-16T11:52:50.791Z"
   },
   {
    "duration": 0,
    "start_time": "2023-11-16T11:52:50.792Z"
   },
   {
    "duration": 0,
    "start_time": "2023-11-16T11:52:50.793Z"
   },
   {
    "duration": 0,
    "start_time": "2023-11-16T11:52:50.794Z"
   },
   {
    "duration": 0,
    "start_time": "2023-11-16T11:52:50.795Z"
   },
   {
    "duration": 0,
    "start_time": "2023-11-16T11:52:50.796Z"
   },
   {
    "duration": 0,
    "start_time": "2023-11-16T11:52:50.797Z"
   },
   {
    "duration": 0,
    "start_time": "2023-11-16T11:52:50.852Z"
   },
   {
    "duration": 0,
    "start_time": "2023-11-16T11:52:50.853Z"
   },
   {
    "duration": 0,
    "start_time": "2023-11-16T11:52:50.854Z"
   },
   {
    "duration": 11,
    "start_time": "2023-11-16T11:55:32.160Z"
   },
   {
    "duration": 1108,
    "start_time": "2023-11-16T11:55:50.611Z"
   },
   {
    "duration": 68,
    "start_time": "2023-11-16T11:55:51.721Z"
   },
   {
    "duration": 10,
    "start_time": "2023-11-16T11:55:51.790Z"
   },
   {
    "duration": 19,
    "start_time": "2023-11-16T11:55:51.801Z"
   },
   {
    "duration": 6,
    "start_time": "2023-11-16T11:55:51.822Z"
   },
   {
    "duration": 13,
    "start_time": "2023-11-16T11:55:51.829Z"
   },
   {
    "duration": 8,
    "start_time": "2023-11-16T11:55:51.844Z"
   },
   {
    "duration": 8,
    "start_time": "2023-11-16T11:55:51.853Z"
   },
   {
    "duration": 52,
    "start_time": "2023-11-16T11:55:51.863Z"
   },
   {
    "duration": 10,
    "start_time": "2023-11-16T11:55:51.917Z"
   },
   {
    "duration": 27,
    "start_time": "2023-11-16T11:55:51.929Z"
   },
   {
    "duration": 9,
    "start_time": "2023-11-16T11:55:51.957Z"
   },
   {
    "duration": 12,
    "start_time": "2023-11-16T11:55:51.968Z"
   },
   {
    "duration": 115,
    "start_time": "2023-11-16T11:55:51.982Z"
   },
   {
    "duration": 0,
    "start_time": "2023-11-16T11:55:52.099Z"
   },
   {
    "duration": 0,
    "start_time": "2023-11-16T11:55:52.100Z"
   },
   {
    "duration": 0,
    "start_time": "2023-11-16T11:55:52.101Z"
   },
   {
    "duration": 0,
    "start_time": "2023-11-16T11:55:52.102Z"
   },
   {
    "duration": 0,
    "start_time": "2023-11-16T11:55:52.104Z"
   },
   {
    "duration": 0,
    "start_time": "2023-11-16T11:55:52.105Z"
   },
   {
    "duration": 0,
    "start_time": "2023-11-16T11:55:52.106Z"
   },
   {
    "duration": 0,
    "start_time": "2023-11-16T11:55:52.107Z"
   },
   {
    "duration": 0,
    "start_time": "2023-11-16T11:55:52.108Z"
   },
   {
    "duration": 0,
    "start_time": "2023-11-16T11:55:52.108Z"
   },
   {
    "duration": 0,
    "start_time": "2023-11-16T11:55:52.109Z"
   },
   {
    "duration": 0,
    "start_time": "2023-11-16T11:55:52.111Z"
   },
   {
    "duration": 0,
    "start_time": "2023-11-16T11:55:52.112Z"
   },
   {
    "duration": 0,
    "start_time": "2023-11-16T11:55:52.113Z"
   },
   {
    "duration": 0,
    "start_time": "2023-11-16T11:55:52.114Z"
   },
   {
    "duration": 0,
    "start_time": "2023-11-16T11:55:52.115Z"
   },
   {
    "duration": 0,
    "start_time": "2023-11-16T11:55:52.116Z"
   },
   {
    "duration": 0,
    "start_time": "2023-11-16T11:55:52.117Z"
   },
   {
    "duration": 0,
    "start_time": "2023-11-16T11:55:52.118Z"
   },
   {
    "duration": 0,
    "start_time": "2023-11-16T11:55:52.119Z"
   },
   {
    "duration": 0,
    "start_time": "2023-11-16T11:55:52.152Z"
   },
   {
    "duration": 0,
    "start_time": "2023-11-16T11:55:52.153Z"
   },
   {
    "duration": 0,
    "start_time": "2023-11-16T11:55:52.154Z"
   },
   {
    "duration": 0,
    "start_time": "2023-11-16T11:55:52.156Z"
   },
   {
    "duration": 0,
    "start_time": "2023-11-16T11:55:52.156Z"
   },
   {
    "duration": 0,
    "start_time": "2023-11-16T11:55:52.158Z"
   },
   {
    "duration": 0,
    "start_time": "2023-11-16T11:55:52.159Z"
   },
   {
    "duration": 0,
    "start_time": "2023-11-16T11:55:52.160Z"
   },
   {
    "duration": 0,
    "start_time": "2023-11-16T11:55:52.161Z"
   },
   {
    "duration": 0,
    "start_time": "2023-11-16T11:55:52.162Z"
   },
   {
    "duration": 0,
    "start_time": "2023-11-16T11:55:52.163Z"
   },
   {
    "duration": 0,
    "start_time": "2023-11-16T11:55:52.164Z"
   },
   {
    "duration": 0,
    "start_time": "2023-11-16T11:55:52.165Z"
   },
   {
    "duration": 0,
    "start_time": "2023-11-16T11:55:52.166Z"
   },
   {
    "duration": 0,
    "start_time": "2023-11-16T11:55:52.167Z"
   },
   {
    "duration": 0,
    "start_time": "2023-11-16T11:55:52.168Z"
   },
   {
    "duration": 0,
    "start_time": "2023-11-16T11:55:52.169Z"
   },
   {
    "duration": 0,
    "start_time": "2023-11-16T11:55:52.170Z"
   },
   {
    "duration": 0,
    "start_time": "2023-11-16T11:55:52.171Z"
   },
   {
    "duration": 0,
    "start_time": "2023-11-16T11:55:52.172Z"
   },
   {
    "duration": 0,
    "start_time": "2023-11-16T11:55:52.173Z"
   },
   {
    "duration": 0,
    "start_time": "2023-11-16T11:55:52.174Z"
   },
   {
    "duration": 0,
    "start_time": "2023-11-16T11:55:52.175Z"
   },
   {
    "duration": 10,
    "start_time": "2023-11-16T11:57:10.921Z"
   },
   {
    "duration": 10,
    "start_time": "2023-11-16T11:58:08.536Z"
   },
   {
    "duration": 9,
    "start_time": "2023-11-16T11:58:56.959Z"
   },
   {
    "duration": 12,
    "start_time": "2023-11-16T11:58:58.960Z"
   },
   {
    "duration": 10,
    "start_time": "2023-11-16T12:00:12.850Z"
   },
   {
    "duration": 11,
    "start_time": "2023-11-16T12:00:15.640Z"
   },
   {
    "duration": 10,
    "start_time": "2023-11-16T12:00:19.210Z"
   },
   {
    "duration": 10,
    "start_time": "2023-11-16T12:01:20.240Z"
   },
   {
    "duration": 9,
    "start_time": "2023-11-16T12:01:33.011Z"
   },
   {
    "duration": 8,
    "start_time": "2023-11-16T12:01:37.255Z"
   },
   {
    "duration": 10,
    "start_time": "2023-11-16T12:01:45.250Z"
   },
   {
    "duration": 1236,
    "start_time": "2023-11-16T12:04:31.135Z"
   },
   {
    "duration": 74,
    "start_time": "2023-11-16T12:04:32.373Z"
   },
   {
    "duration": 65,
    "start_time": "2023-11-16T12:04:32.448Z"
   },
   {
    "duration": 38,
    "start_time": "2023-11-16T12:04:32.514Z"
   },
   {
    "duration": 25,
    "start_time": "2023-11-16T12:04:32.554Z"
   },
   {
    "duration": 17,
    "start_time": "2023-11-16T12:04:32.580Z"
   },
   {
    "duration": 10,
    "start_time": "2023-11-16T12:04:32.598Z"
   },
   {
    "duration": 8,
    "start_time": "2023-11-16T12:04:32.609Z"
   },
   {
    "duration": 98,
    "start_time": "2023-11-16T12:04:32.618Z"
   },
   {
    "duration": 70,
    "start_time": "2023-11-16T12:04:32.717Z"
   },
   {
    "duration": 25,
    "start_time": "2023-11-16T12:04:32.789Z"
   },
   {
    "duration": 29,
    "start_time": "2023-11-16T12:04:32.816Z"
   },
   {
    "duration": 8,
    "start_time": "2023-11-16T12:04:32.847Z"
   },
   {
    "duration": 4,
    "start_time": "2023-11-16T12:04:32.858Z"
   },
   {
    "duration": 11,
    "start_time": "2023-11-16T12:04:32.863Z"
   },
   {
    "duration": 11,
    "start_time": "2023-11-16T12:04:32.875Z"
   },
   {
    "duration": 11,
    "start_time": "2023-11-16T12:04:32.888Z"
   },
   {
    "duration": 15,
    "start_time": "2023-11-16T12:04:32.900Z"
   },
   {
    "duration": 13,
    "start_time": "2023-11-16T12:04:32.916Z"
   },
   {
    "duration": 15,
    "start_time": "2023-11-16T12:04:32.931Z"
   },
   {
    "duration": 6,
    "start_time": "2023-11-16T12:04:32.947Z"
   },
   {
    "duration": 7,
    "start_time": "2023-11-16T12:04:32.954Z"
   },
   {
    "duration": 9,
    "start_time": "2023-11-16T12:04:32.963Z"
   },
   {
    "duration": 5,
    "start_time": "2023-11-16T12:04:32.973Z"
   },
   {
    "duration": 17,
    "start_time": "2023-11-16T12:04:32.980Z"
   },
   {
    "duration": 184,
    "start_time": "2023-11-16T12:04:32.999Z"
   },
   {
    "duration": 18,
    "start_time": "2023-11-16T12:04:33.184Z"
   },
   {
    "duration": 138,
    "start_time": "2023-11-16T12:04:33.203Z"
   },
   {
    "duration": 277,
    "start_time": "2023-11-16T12:04:33.342Z"
   },
   {
    "duration": 7,
    "start_time": "2023-11-16T12:04:33.621Z"
   },
   {
    "duration": 9,
    "start_time": "2023-11-16T12:04:33.630Z"
   },
   {
    "duration": 208,
    "start_time": "2023-11-16T12:04:33.652Z"
   },
   {
    "duration": 8,
    "start_time": "2023-11-16T12:04:33.862Z"
   },
   {
    "duration": 194,
    "start_time": "2023-11-16T12:04:33.871Z"
   },
   {
    "duration": 3,
    "start_time": "2023-11-16T12:04:34.067Z"
   },
   {
    "duration": 20,
    "start_time": "2023-11-16T12:04:34.071Z"
   },
   {
    "duration": 9,
    "start_time": "2023-11-16T12:04:34.092Z"
   },
   {
    "duration": 20,
    "start_time": "2023-11-16T12:04:34.102Z"
   },
   {
    "duration": 15,
    "start_time": "2023-11-16T12:04:34.123Z"
   },
   {
    "duration": 90,
    "start_time": "2023-11-16T12:04:34.140Z"
   },
   {
    "duration": 33,
    "start_time": "2023-11-16T12:04:34.234Z"
   },
   {
    "duration": 388,
    "start_time": "2023-11-16T12:04:34.269Z"
   },
   {
    "duration": 348,
    "start_time": "2023-11-16T12:04:34.659Z"
   },
   {
    "duration": 110,
    "start_time": "2023-11-16T12:04:35.009Z"
   },
   {
    "duration": 0,
    "start_time": "2023-11-16T12:04:35.121Z"
   },
   {
    "duration": 0,
    "start_time": "2023-11-16T12:04:35.122Z"
   },
   {
    "duration": 0,
    "start_time": "2023-11-16T12:04:35.123Z"
   },
   {
    "duration": 0,
    "start_time": "2023-11-16T12:04:35.124Z"
   },
   {
    "duration": 0,
    "start_time": "2023-11-16T12:04:35.126Z"
   },
   {
    "duration": 0,
    "start_time": "2023-11-16T12:04:35.128Z"
   },
   {
    "duration": 0,
    "start_time": "2023-11-16T12:04:35.129Z"
   },
   {
    "duration": 0,
    "start_time": "2023-11-16T12:04:35.130Z"
   },
   {
    "duration": 0,
    "start_time": "2023-11-16T12:04:35.132Z"
   },
   {
    "duration": 0,
    "start_time": "2023-11-16T12:04:35.133Z"
   },
   {
    "duration": 0,
    "start_time": "2023-11-16T12:04:35.152Z"
   },
   {
    "duration": 0,
    "start_time": "2023-11-16T12:04:35.153Z"
   },
   {
    "duration": 3,
    "start_time": "2023-11-16T12:08:47.119Z"
   },
   {
    "duration": 828,
    "start_time": "2023-11-16T12:08:53.128Z"
   },
   {
    "duration": 12,
    "start_time": "2023-11-16T12:09:12.452Z"
   },
   {
    "duration": 7,
    "start_time": "2023-11-16T12:09:17.659Z"
   },
   {
    "duration": 151,
    "start_time": "2023-11-16T12:09:22.041Z"
   },
   {
    "duration": 5,
    "start_time": "2023-11-16T12:09:30.929Z"
   },
   {
    "duration": 769,
    "start_time": "2023-11-16T12:09:35.363Z"
   },
   {
    "duration": 4,
    "start_time": "2023-11-16T12:09:51.619Z"
   },
   {
    "duration": 9,
    "start_time": "2023-11-16T12:10:07.538Z"
   },
   {
    "duration": 4,
    "start_time": "2023-11-16T12:10:22.948Z"
   },
   {
    "duration": 213,
    "start_time": "2023-11-16T12:10:25.133Z"
   },
   {
    "duration": 5,
    "start_time": "2023-11-16T12:10:30.367Z"
   },
   {
    "duration": 209,
    "start_time": "2023-11-16T12:10:36.443Z"
   },
   {
    "duration": 1233,
    "start_time": "2023-11-16T12:11:04.514Z"
   },
   {
    "duration": 72,
    "start_time": "2023-11-16T12:11:05.749Z"
   },
   {
    "duration": 11,
    "start_time": "2023-11-16T12:11:05.822Z"
   },
   {
    "duration": 37,
    "start_time": "2023-11-16T12:11:05.835Z"
   },
   {
    "duration": 16,
    "start_time": "2023-11-16T12:11:05.874Z"
   },
   {
    "duration": 12,
    "start_time": "2023-11-16T12:11:05.891Z"
   },
   {
    "duration": 12,
    "start_time": "2023-11-16T12:11:05.904Z"
   },
   {
    "duration": 9,
    "start_time": "2023-11-16T12:11:05.917Z"
   },
   {
    "duration": 58,
    "start_time": "2023-11-16T12:11:05.928Z"
   },
   {
    "duration": 11,
    "start_time": "2023-11-16T12:11:05.987Z"
   },
   {
    "duration": 11,
    "start_time": "2023-11-16T12:11:05.999Z"
   },
   {
    "duration": 20,
    "start_time": "2023-11-16T12:11:06.012Z"
   },
   {
    "duration": 18,
    "start_time": "2023-11-16T12:11:06.034Z"
   },
   {
    "duration": 5,
    "start_time": "2023-11-16T12:11:06.055Z"
   },
   {
    "duration": 5,
    "start_time": "2023-11-16T12:11:06.062Z"
   },
   {
    "duration": 10,
    "start_time": "2023-11-16T12:11:06.068Z"
   },
   {
    "duration": 10,
    "start_time": "2023-11-16T12:11:06.080Z"
   },
   {
    "duration": 11,
    "start_time": "2023-11-16T12:11:06.091Z"
   },
   {
    "duration": 8,
    "start_time": "2023-11-16T12:11:06.104Z"
   },
   {
    "duration": 31,
    "start_time": "2023-11-16T12:11:06.113Z"
   },
   {
    "duration": 26,
    "start_time": "2023-11-16T12:11:06.145Z"
   },
   {
    "duration": 14,
    "start_time": "2023-11-16T12:11:06.173Z"
   },
   {
    "duration": 10,
    "start_time": "2023-11-16T12:11:06.189Z"
   },
   {
    "duration": 18,
    "start_time": "2023-11-16T12:11:06.200Z"
   },
   {
    "duration": 46,
    "start_time": "2023-11-16T12:11:06.219Z"
   },
   {
    "duration": 165,
    "start_time": "2023-11-16T12:11:06.267Z"
   },
   {
    "duration": 21,
    "start_time": "2023-11-16T12:11:06.434Z"
   },
   {
    "duration": 140,
    "start_time": "2023-11-16T12:11:06.456Z"
   },
   {
    "duration": 246,
    "start_time": "2023-11-16T12:11:06.598Z"
   },
   {
    "duration": 10,
    "start_time": "2023-11-16T12:11:06.845Z"
   },
   {
    "duration": 12,
    "start_time": "2023-11-16T12:11:06.856Z"
   },
   {
    "duration": 199,
    "start_time": "2023-11-16T12:11:06.870Z"
   },
   {
    "duration": 7,
    "start_time": "2023-11-16T12:11:07.071Z"
   },
   {
    "duration": 183,
    "start_time": "2023-11-16T12:11:07.080Z"
   },
   {
    "duration": 3,
    "start_time": "2023-11-16T12:11:07.264Z"
   },
   {
    "duration": 19,
    "start_time": "2023-11-16T12:11:07.268Z"
   },
   {
    "duration": 22,
    "start_time": "2023-11-16T12:11:07.289Z"
   },
   {
    "duration": 17,
    "start_time": "2023-11-16T12:11:07.313Z"
   },
   {
    "duration": 26,
    "start_time": "2023-11-16T12:11:07.332Z"
   },
   {
    "duration": 104,
    "start_time": "2023-11-16T12:11:07.359Z"
   },
   {
    "duration": 18,
    "start_time": "2023-11-16T12:11:07.467Z"
   },
   {
    "duration": 354,
    "start_time": "2023-11-16T12:11:07.486Z"
   },
   {
    "duration": 347,
    "start_time": "2023-11-16T12:11:07.842Z"
   },
   {
    "duration": 3,
    "start_time": "2023-11-16T12:11:08.190Z"
   },
   {
    "duration": 846,
    "start_time": "2023-11-16T12:11:08.195Z"
   },
   {
    "duration": 16,
    "start_time": "2023-11-16T12:11:09.043Z"
   },
   {
    "duration": 6,
    "start_time": "2023-11-16T12:11:09.061Z"
   },
   {
    "duration": 165,
    "start_time": "2023-11-16T12:11:09.068Z"
   },
   {
    "duration": 4,
    "start_time": "2023-11-16T12:11:09.234Z"
   },
   {
    "duration": 814,
    "start_time": "2023-11-16T12:11:09.240Z"
   },
   {
    "duration": 5,
    "start_time": "2023-11-16T12:11:10.055Z"
   },
   {
    "duration": 22,
    "start_time": "2023-11-16T12:11:10.062Z"
   },
   {
    "duration": 49,
    "start_time": "2023-11-16T12:11:10.086Z"
   },
   {
    "duration": 244,
    "start_time": "2023-11-16T12:11:10.136Z"
   },
   {
    "duration": 6,
    "start_time": "2023-11-16T12:11:10.382Z"
   },
   {
    "duration": 237,
    "start_time": "2023-11-16T12:11:10.390Z"
   },
   {
    "duration": 1660,
    "start_time": "2023-11-16T20:25:05.843Z"
   },
   {
    "duration": 222,
    "start_time": "2023-11-16T20:25:07.506Z"
   },
   {
    "duration": 15,
    "start_time": "2023-11-16T20:25:07.730Z"
   },
   {
    "duration": 11,
    "start_time": "2023-11-16T20:25:07.747Z"
   },
   {
    "duration": 15,
    "start_time": "2023-11-16T20:25:07.761Z"
   },
   {
    "duration": 15,
    "start_time": "2023-11-16T20:25:07.787Z"
   },
   {
    "duration": 13,
    "start_time": "2023-11-16T20:25:07.804Z"
   },
   {
    "duration": 11,
    "start_time": "2023-11-16T20:25:07.819Z"
   },
   {
    "duration": 71,
    "start_time": "2023-11-16T20:25:07.832Z"
   },
   {
    "duration": 11,
    "start_time": "2023-11-16T20:25:07.905Z"
   },
   {
    "duration": 30,
    "start_time": "2023-11-16T20:25:07.917Z"
   },
   {
    "duration": 30,
    "start_time": "2023-11-16T20:25:07.949Z"
   },
   {
    "duration": 10,
    "start_time": "2023-11-16T20:25:07.981Z"
   },
   {
    "duration": 18,
    "start_time": "2023-11-16T20:25:07.994Z"
   },
   {
    "duration": 26,
    "start_time": "2023-11-16T20:25:08.014Z"
   },
   {
    "duration": 15,
    "start_time": "2023-11-16T20:25:08.042Z"
   },
   {
    "duration": 26,
    "start_time": "2023-11-16T20:25:08.059Z"
   },
   {
    "duration": 4,
    "start_time": "2023-11-16T20:25:08.087Z"
   },
   {
    "duration": 29,
    "start_time": "2023-11-16T20:25:08.093Z"
   },
   {
    "duration": 21,
    "start_time": "2023-11-16T20:25:08.124Z"
   },
   {
    "duration": 6,
    "start_time": "2023-11-16T20:25:08.147Z"
   },
   {
    "duration": 27,
    "start_time": "2023-11-16T20:25:08.154Z"
   },
   {
    "duration": 15,
    "start_time": "2023-11-16T20:25:08.183Z"
   },
   {
    "duration": 17,
    "start_time": "2023-11-16T20:25:08.200Z"
   },
   {
    "duration": 41,
    "start_time": "2023-11-16T20:25:08.219Z"
   },
   {
    "duration": 192,
    "start_time": "2023-11-16T20:25:08.261Z"
   },
   {
    "duration": 31,
    "start_time": "2023-11-16T20:25:08.455Z"
   },
   {
    "duration": 194,
    "start_time": "2023-11-16T20:25:08.488Z"
   },
   {
    "duration": 307,
    "start_time": "2023-11-16T20:25:08.683Z"
   },
   {
    "duration": 10,
    "start_time": "2023-11-16T20:25:08.993Z"
   },
   {
    "duration": 11,
    "start_time": "2023-11-16T20:25:09.005Z"
   },
   {
    "duration": 258,
    "start_time": "2023-11-16T20:25:09.017Z"
   },
   {
    "duration": 12,
    "start_time": "2023-11-16T20:25:09.277Z"
   },
   {
    "duration": 213,
    "start_time": "2023-11-16T20:25:09.291Z"
   },
   {
    "duration": 4,
    "start_time": "2023-11-16T20:25:09.506Z"
   },
   {
    "duration": 21,
    "start_time": "2023-11-16T20:25:09.512Z"
   },
   {
    "duration": 12,
    "start_time": "2023-11-16T20:25:09.535Z"
   },
   {
    "duration": 36,
    "start_time": "2023-11-16T20:25:09.549Z"
   },
   {
    "duration": 11,
    "start_time": "2023-11-16T20:25:09.591Z"
   },
   {
    "duration": 117,
    "start_time": "2023-11-16T20:25:09.604Z"
   },
   {
    "duration": 42,
    "start_time": "2023-11-16T20:25:09.727Z"
   },
   {
    "duration": 456,
    "start_time": "2023-11-16T20:25:09.774Z"
   },
   {
    "duration": 467,
    "start_time": "2023-11-16T20:25:10.232Z"
   },
   {
    "duration": 4,
    "start_time": "2023-11-16T20:25:10.701Z"
   },
   {
    "duration": 1128,
    "start_time": "2023-11-16T20:25:10.707Z"
   },
   {
    "duration": 17,
    "start_time": "2023-11-16T20:25:11.837Z"
   },
   {
    "duration": 29,
    "start_time": "2023-11-16T20:25:11.856Z"
   },
   {
    "duration": 167,
    "start_time": "2023-11-16T20:25:11.892Z"
   },
   {
    "duration": 8,
    "start_time": "2023-11-16T20:25:12.066Z"
   },
   {
    "duration": 969,
    "start_time": "2023-11-16T20:25:12.078Z"
   },
   {
    "duration": 7,
    "start_time": "2023-11-16T20:25:13.049Z"
   },
   {
    "duration": 17,
    "start_time": "2023-11-16T20:25:13.074Z"
   },
   {
    "duration": 4,
    "start_time": "2023-11-16T20:25:13.093Z"
   },
   {
    "duration": 281,
    "start_time": "2023-11-16T20:25:13.099Z"
   },
   {
    "duration": 6,
    "start_time": "2023-11-16T20:25:13.382Z"
   },
   {
    "duration": 269,
    "start_time": "2023-11-16T20:25:13.392Z"
   },
   {
    "duration": 1292,
    "start_time": "2023-11-17T08:42:42.679Z"
   },
   {
    "duration": 310,
    "start_time": "2023-11-17T08:42:43.973Z"
   },
   {
    "duration": 11,
    "start_time": "2023-11-17T08:42:44.285Z"
   },
   {
    "duration": 9,
    "start_time": "2023-11-17T08:42:44.298Z"
   },
   {
    "duration": 8,
    "start_time": "2023-11-17T08:42:44.308Z"
   },
   {
    "duration": 18,
    "start_time": "2023-11-17T08:42:44.318Z"
   },
   {
    "duration": 12,
    "start_time": "2023-11-17T08:42:44.337Z"
   },
   {
    "duration": 10,
    "start_time": "2023-11-17T08:42:44.350Z"
   },
   {
    "duration": 74,
    "start_time": "2023-11-17T08:42:44.361Z"
   },
   {
    "duration": 11,
    "start_time": "2023-11-17T08:42:44.437Z"
   },
   {
    "duration": 24,
    "start_time": "2023-11-17T08:42:44.449Z"
   },
   {
    "duration": 10,
    "start_time": "2023-11-17T08:42:44.475Z"
   },
   {
    "duration": 18,
    "start_time": "2023-11-17T08:42:44.486Z"
   },
   {
    "duration": 4,
    "start_time": "2023-11-17T08:42:44.506Z"
   },
   {
    "duration": 10,
    "start_time": "2023-11-17T08:42:44.512Z"
   },
   {
    "duration": 8,
    "start_time": "2023-11-17T08:42:44.524Z"
   },
   {
    "duration": 6,
    "start_time": "2023-11-17T08:42:44.534Z"
   },
   {
    "duration": 6,
    "start_time": "2023-11-17T08:42:44.541Z"
   },
   {
    "duration": 11,
    "start_time": "2023-11-17T08:42:44.549Z"
   },
   {
    "duration": 45,
    "start_time": "2023-11-17T08:42:44.561Z"
   },
   {
    "duration": 6,
    "start_time": "2023-11-17T08:42:44.608Z"
   },
   {
    "duration": 12,
    "start_time": "2023-11-17T08:42:44.616Z"
   },
   {
    "duration": 14,
    "start_time": "2023-11-17T08:42:44.630Z"
   },
   {
    "duration": 5,
    "start_time": "2023-11-17T08:42:44.645Z"
   },
   {
    "duration": 28,
    "start_time": "2023-11-17T08:42:44.651Z"
   },
   {
    "duration": 180,
    "start_time": "2023-11-17T08:42:44.680Z"
   },
   {
    "duration": 15,
    "start_time": "2023-11-17T08:42:44.862Z"
   },
   {
    "duration": 154,
    "start_time": "2023-11-17T08:42:44.881Z"
   },
   {
    "duration": 317,
    "start_time": "2023-11-17T08:42:45.037Z"
   },
   {
    "duration": 9,
    "start_time": "2023-11-17T08:42:45.356Z"
   },
   {
    "duration": 16,
    "start_time": "2023-11-17T08:42:45.367Z"
   },
   {
    "duration": 224,
    "start_time": "2023-11-17T08:42:45.385Z"
   },
   {
    "duration": 8,
    "start_time": "2023-11-17T08:42:45.611Z"
   },
   {
    "duration": 216,
    "start_time": "2023-11-17T08:42:45.621Z"
   },
   {
    "duration": 4,
    "start_time": "2023-11-17T08:42:45.839Z"
   },
   {
    "duration": 15,
    "start_time": "2023-11-17T08:42:45.845Z"
   },
   {
    "duration": 10,
    "start_time": "2023-11-17T08:42:45.862Z"
   },
   {
    "duration": 33,
    "start_time": "2023-11-17T08:42:45.873Z"
   },
   {
    "duration": 10,
    "start_time": "2023-11-17T08:42:45.907Z"
   },
   {
    "duration": 112,
    "start_time": "2023-11-17T08:42:45.919Z"
   },
   {
    "duration": 20,
    "start_time": "2023-11-17T08:42:46.033Z"
   },
   {
    "duration": 390,
    "start_time": "2023-11-17T08:42:46.055Z"
   },
   {
    "duration": 392,
    "start_time": "2023-11-17T08:42:46.447Z"
   },
   {
    "duration": 4,
    "start_time": "2023-11-17T08:42:46.841Z"
   },
   {
    "duration": 885,
    "start_time": "2023-11-17T08:42:46.846Z"
   },
   {
    "duration": 13,
    "start_time": "2023-11-17T08:42:47.733Z"
   },
   {
    "duration": 45,
    "start_time": "2023-11-17T08:42:47.748Z"
   },
   {
    "duration": 152,
    "start_time": "2023-11-17T08:42:47.795Z"
   },
   {
    "duration": 7,
    "start_time": "2023-11-17T08:42:47.949Z"
   },
   {
    "duration": 862,
    "start_time": "2023-11-17T08:42:47.958Z"
   },
   {
    "duration": 5,
    "start_time": "2023-11-17T08:42:48.821Z"
   },
   {
    "duration": 100,
    "start_time": "2023-11-17T08:42:48.827Z"
   },
   {
    "duration": 7,
    "start_time": "2023-11-17T08:42:48.929Z"
   },
   {
    "duration": 254,
    "start_time": "2023-11-17T08:42:48.938Z"
   },
   {
    "duration": 7,
    "start_time": "2023-11-17T08:42:49.194Z"
   },
   {
    "duration": 248,
    "start_time": "2023-11-17T08:42:49.203Z"
   }
  ],
  "kernelspec": {
   "display_name": "Python 3",
   "language": "python",
   "name": "python3"
  },
  "language_info": {
   "codemirror_mode": {
    "name": "ipython",
    "version": 3
   },
   "file_extension": ".py",
   "mimetype": "text/x-python",
   "name": "python",
   "nbconvert_exporter": "python",
   "pygments_lexer": "ipython3",
   "version": "3.8.5"
  },
  "toc": {
   "base_numbering": 1,
   "nav_menu": {
    "height": "491px",
    "width": "464px"
   },
   "number_sections": true,
   "sideBar": true,
   "skip_h1_title": true,
   "title_cell": "Table of Contents",
   "title_sidebar": "Contents",
   "toc_cell": false,
   "toc_position": {},
   "toc_section_display": true,
   "toc_window_display": false
  }
 },
 "nbformat": 4,
 "nbformat_minor": 5
}
