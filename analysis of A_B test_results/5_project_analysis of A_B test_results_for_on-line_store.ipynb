{
 "cells": [
  {
   "cell_type": "markdown",
   "metadata": {},
   "source": [
    "## Project description\n",
    "\n",
    "You are data analyst of big on-line store. Marketing dep. and you prepared list of hypotheses for revenue increase.\n",
    "Launch A/B-test and analyze results. "
   ]
  },
  {
   "cell_type": "markdown",
   "metadata": {},
   "source": [
    "## Description of the data\n",
    "\n",
    "**orders.csv file.**\n",
    "- TransactionID — order ID;\n",
    "- visitorID — ID of the user who made the order;\n",
    "- date — the date when the order was made;\n",
    "- revenue — order revenue;\n",
    "- group — the A/B test group that the order was placed in.\n",
    "\n",
    "**visitors.csv file.**\n",
    "- date — date;\n",
    "- group — A/B test group;\n",
    "- visitors — the number of users on the specified date in the specified A/B test group"
   ]
  },
  {
   "cell_type": "markdown",
   "metadata": {},
   "source": [
    "# Project navigation\n",
    "\n",
    "[Analyzing A/B-test](#Analyzing-A/B-test)\n",
    "\n",
    " - [1. Plotting cumulative revenue by group](#1.-Plotting-cumulative-revenue-by-group)\n",
    "\n",
    " - [2. Plotting cumulative average ticket by group](#2.-Plotting-cumulative-average-ticket-by-group)\n",
    "\n",
    " - [3. Plotting proportional change in the cumulative average ticket of group B to group A](#3.-Plotting-proportional-change-in-the-cumulative-average-ticket-of-group-B-to-group-A)\n",
    "\n",
    " - [4. Plotting cumulative average order qty per visitor by group](#4.-Plotting-cumulative-average-order-qty-per-visitor-by-group)\n",
    "\n",
    " - [5. Plotting proportional change in the cumulative average order qty per visitor of group B to group A](#5.-Plotting-proportional-change-in-the-cumulative-average-order-qty-per-visitor-of-group-B-to-group-A)\n",
    "\n",
    " - [6. Building scatter plot of order qty per visitor](#6.-Building-scatter-plot-of-order-qty-per-visitor)\n",
    "\n",
    " - [7. Calculating 95th and 99th percentiles of order qty per visitor](#7.-Calculating-95th-and-99th-percentiles-of-order-qty-per-visitor)\n",
    "\n",
    " - [8. Building scatter plot of order revenue](#8.-Building-scatter-plot-of-order-revenue)\n",
    "\n",
    " - [9. Calculating 95th and 99th percentiles of order revenue](#9.-Calculating-95th-and-99th-percentiles-of-order-revenue)\n",
    "\n",
    " - [10. Calculating statistical significance of differences in average order qty per visitor between groups based on raw data](#10.-Calculating-statistical-significance-of-differences-in-average-order-qty-per-visitor-between-groups-based-on-raw-data)\n",
    "\n",
    " - [11. Calculating statistical significance of differences in average ticket between groups based on raw data](#11.-Calculating-statistical-significance-of-differences-in-average-ticket-between-groups-based-on-raw-data)\n",
    "\n",
    " - [12. Calculating statistical significance of differences in average order qty per visitor between groups based on cleared data](#12.-Calculating-statistical-significance-of-differences-in-average-order-qty-per-visitor-between-groups-based-on-cleared-data)\n",
    "\n",
    " - [13. Calculating statistical significance of differences in average ticket between groups based on raw data](#13.-Calculating-statistical-significance-of-differences-in-average-ticket-between-groups-based-on-raw-data)\n",
    "\n",
    "[Main summary](#Main-summary)"
   ]
  },
  {
   "cell_type": "code",
   "execution_count": 1,
   "metadata": {},
   "outputs": [],
   "source": [
    "# importing libraries\n",
    "import pandas as pd\n",
    "import scipy.stats as stats\n",
    "import datetime as dt\n",
    "import numpy as np\n",
    "import matplotlib.pyplot as plt\n",
    "from pandas.plotting import register_matplotlib_converters\n",
    "import warnings\n",
    "register_matplotlib_converters()"
   ]
  },
  {
   "cell_type": "code",
   "execution_count": 2,
   "metadata": {},
   "outputs": [],
   "source": [
    "# reading files\n",
    "orders = pd.read_csv('orders.csv')\n",
    "visitors = pd.read_csv('visitors.csv')"
   ]
  },
  {
   "cell_type": "code",
   "execution_count": 3,
   "metadata": {},
   "outputs": [],
   "source": [
    "# writing function to output general info regarding dataframes\n",
    "\n",
    "def display_general_info(df):\n",
    "\n",
    "    # general info\n",
    "    df.info()\n",
    "\n",
    "    # first 5 rows\n",
    "    display(df.head())\n",
    "    \n",
    "    # check explicit duplicates\n",
    "    display(df.duplicated().sum())"
   ]
  },
  {
   "cell_type": "code",
   "execution_count": 4,
   "metadata": {},
   "outputs": [
    {
     "name": "stdout",
     "output_type": "stream",
     "text": [
      "<class 'pandas.core.frame.DataFrame'>\n",
      "RangeIndex: 1197 entries, 0 to 1196\n",
      "Data columns (total 5 columns):\n",
      " #   Column         Non-Null Count  Dtype \n",
      "---  ------         --------------  ----- \n",
      " 0   transactionId  1197 non-null   int64 \n",
      " 1   visitorId      1197 non-null   int64 \n",
      " 2   date           1197 non-null   object\n",
      " 3   revenue        1197 non-null   int64 \n",
      " 4   group          1197 non-null   object\n",
      "dtypes: int64(3), object(2)\n",
      "memory usage: 46.9+ KB\n"
     ]
    },
    {
     "data": {
      "text/html": [
       "<div>\n",
       "<style scoped>\n",
       "    .dataframe tbody tr th:only-of-type {\n",
       "        vertical-align: middle;\n",
       "    }\n",
       "\n",
       "    .dataframe tbody tr th {\n",
       "        vertical-align: top;\n",
       "    }\n",
       "\n",
       "    .dataframe thead th {\n",
       "        text-align: right;\n",
       "    }\n",
       "</style>\n",
       "<table border=\"1\" class=\"dataframe\">\n",
       "  <thead>\n",
       "    <tr style=\"text-align: right;\">\n",
       "      <th></th>\n",
       "      <th>transactionId</th>\n",
       "      <th>visitorId</th>\n",
       "      <th>date</th>\n",
       "      <th>revenue</th>\n",
       "      <th>group</th>\n",
       "    </tr>\n",
       "  </thead>\n",
       "  <tbody>\n",
       "    <tr>\n",
       "      <th>0</th>\n",
       "      <td>3667963787</td>\n",
       "      <td>3312258926</td>\n",
       "      <td>2019-08-15</td>\n",
       "      <td>1650</td>\n",
       "      <td>B</td>\n",
       "    </tr>\n",
       "    <tr>\n",
       "      <th>1</th>\n",
       "      <td>2804400009</td>\n",
       "      <td>3642806036</td>\n",
       "      <td>2019-08-15</td>\n",
       "      <td>730</td>\n",
       "      <td>B</td>\n",
       "    </tr>\n",
       "    <tr>\n",
       "      <th>2</th>\n",
       "      <td>2961555356</td>\n",
       "      <td>4069496402</td>\n",
       "      <td>2019-08-15</td>\n",
       "      <td>400</td>\n",
       "      <td>A</td>\n",
       "    </tr>\n",
       "    <tr>\n",
       "      <th>3</th>\n",
       "      <td>3797467345</td>\n",
       "      <td>1196621759</td>\n",
       "      <td>2019-08-15</td>\n",
       "      <td>9759</td>\n",
       "      <td>B</td>\n",
       "    </tr>\n",
       "    <tr>\n",
       "      <th>4</th>\n",
       "      <td>2282983706</td>\n",
       "      <td>2322279887</td>\n",
       "      <td>2019-08-15</td>\n",
       "      <td>2308</td>\n",
       "      <td>B</td>\n",
       "    </tr>\n",
       "  </tbody>\n",
       "</table>\n",
       "</div>"
      ],
      "text/plain": [
       "   transactionId   visitorId        date  revenue group\n",
       "0     3667963787  3312258926  2019-08-15     1650     B\n",
       "1     2804400009  3642806036  2019-08-15      730     B\n",
       "2     2961555356  4069496402  2019-08-15      400     A\n",
       "3     3797467345  1196621759  2019-08-15     9759     B\n",
       "4     2282983706  2322279887  2019-08-15     2308     B"
      ]
     },
     "metadata": {},
     "output_type": "display_data"
    },
    {
     "data": {
      "text/plain": [
       "0"
      ]
     },
     "metadata": {},
     "output_type": "display_data"
    }
   ],
   "source": [
    "display_general_info(orders)"
   ]
  },
  {
   "cell_type": "code",
   "execution_count": 5,
   "metadata": {},
   "outputs": [
    {
     "name": "stdout",
     "output_type": "stream",
     "text": [
      "<class 'pandas.core.frame.DataFrame'>\n",
      "RangeIndex: 62 entries, 0 to 61\n",
      "Data columns (total 3 columns):\n",
      " #   Column    Non-Null Count  Dtype \n",
      "---  ------    --------------  ----- \n",
      " 0   date      62 non-null     object\n",
      " 1   group     62 non-null     object\n",
      " 2   visitors  62 non-null     int64 \n",
      "dtypes: int64(1), object(2)\n",
      "memory usage: 1.6+ KB\n"
     ]
    },
    {
     "data": {
      "text/html": [
       "<div>\n",
       "<style scoped>\n",
       "    .dataframe tbody tr th:only-of-type {\n",
       "        vertical-align: middle;\n",
       "    }\n",
       "\n",
       "    .dataframe tbody tr th {\n",
       "        vertical-align: top;\n",
       "    }\n",
       "\n",
       "    .dataframe thead th {\n",
       "        text-align: right;\n",
       "    }\n",
       "</style>\n",
       "<table border=\"1\" class=\"dataframe\">\n",
       "  <thead>\n",
       "    <tr style=\"text-align: right;\">\n",
       "      <th></th>\n",
       "      <th>date</th>\n",
       "      <th>group</th>\n",
       "      <th>visitors</th>\n",
       "    </tr>\n",
       "  </thead>\n",
       "  <tbody>\n",
       "    <tr>\n",
       "      <th>0</th>\n",
       "      <td>2019-08-01</td>\n",
       "      <td>A</td>\n",
       "      <td>719</td>\n",
       "    </tr>\n",
       "    <tr>\n",
       "      <th>1</th>\n",
       "      <td>2019-08-02</td>\n",
       "      <td>A</td>\n",
       "      <td>619</td>\n",
       "    </tr>\n",
       "    <tr>\n",
       "      <th>2</th>\n",
       "      <td>2019-08-03</td>\n",
       "      <td>A</td>\n",
       "      <td>507</td>\n",
       "    </tr>\n",
       "    <tr>\n",
       "      <th>3</th>\n",
       "      <td>2019-08-04</td>\n",
       "      <td>A</td>\n",
       "      <td>717</td>\n",
       "    </tr>\n",
       "    <tr>\n",
       "      <th>4</th>\n",
       "      <td>2019-08-05</td>\n",
       "      <td>A</td>\n",
       "      <td>756</td>\n",
       "    </tr>\n",
       "  </tbody>\n",
       "</table>\n",
       "</div>"
      ],
      "text/plain": [
       "         date group  visitors\n",
       "0  2019-08-01     A       719\n",
       "1  2019-08-02     A       619\n",
       "2  2019-08-03     A       507\n",
       "3  2019-08-04     A       717\n",
       "4  2019-08-05     A       756"
      ]
     },
     "metadata": {},
     "output_type": "display_data"
    },
    {
     "data": {
      "text/plain": [
       "0"
      ]
     },
     "metadata": {},
     "output_type": "display_data"
    }
   ],
   "source": [
    "display_general_info(visitors)"
   ]
  },
  {
   "cell_type": "markdown",
   "metadata": {},
   "source": [
    "No missing values were found in datasets. It is necessary to convert dates to the date type and change names of several columns of dataframes."
   ]
  },
  {
   "cell_type": "code",
   "execution_count": 6,
   "metadata": {},
   "outputs": [],
   "source": [
    "# rename several columns in orders\n",
    "orders.rename(columns={'transactionId': 'transaction_id', 'visitorId': 'visitor_id'}, inplace=True)"
   ]
  },
  {
   "cell_type": "code",
   "execution_count": 7,
   "metadata": {
    "scrolled": true
   },
   "outputs": [
    {
     "data": {
      "text/plain": [
       "Index(['transaction_id', 'visitor_id', 'date', 'revenue', 'group'], dtype='object')"
      ]
     },
     "execution_count": 7,
     "metadata": {},
     "output_type": "execute_result"
    }
   ],
   "source": [
    "orders.columns"
   ]
  },
  {
   "cell_type": "code",
   "execution_count": 8,
   "metadata": {},
   "outputs": [
    {
     "data": {
      "text/plain": [
       "0"
      ]
     },
     "execution_count": 8,
     "metadata": {},
     "output_type": "execute_result"
    }
   ],
   "source": [
    "# Checking through logical filtering do we have same user_id in both groups. Then through duplicated().sum()  - are there at least 1 or more users in both groups\n",
    "orders[orders['visitor_id'].isin(orders[orders['group'] == 'A']['visitor_id']) & orders['visitor_id'].isin(orders[orders['group'] == 'B']['visitor_id'])].duplicated().sum()"
   ]
  },
  {
   "cell_type": "code",
   "execution_count": 9,
   "metadata": {},
   "outputs": [],
   "source": [
    "# change data type format\n",
    "orders['date']=pd.to_datetime(orders['date'])\n",
    "visitors['date']=pd.to_datetime(visitors['date'])"
   ]
  },
  {
   "cell_type": "markdown",
   "metadata": {},
   "source": [
    "## Analyzing A/B-test"
   ]
  },
  {
   "cell_type": "markdown",
   "metadata": {},
   "source": [
    "### 1. Plotting cumulative revenue by group"
   ]
  },
  {
   "cell_type": "code",
   "execution_count": 10,
   "metadata": {},
   "outputs": [],
   "source": [
    "dates_groups = orders[['date', 'group']].drop_duplicates()"
   ]
  },
  {
   "cell_type": "code",
   "execution_count": 11,
   "metadata": {},
   "outputs": [],
   "source": [
    "# prepare aggregated dataframe by orders and visitors\n",
    "orders_aggregated = dates_groups.apply(\n",
    "    lambda x: orders[\n",
    "        np.logical_and(\n",
    "            orders['date'] <= x['date'], orders['group'] == x['group']\n",
    "        )\n",
    "    ].agg(\n",
    "        {\n",
    "            'date': 'max',\n",
    "            'group': 'max',\n",
    "            'transaction_id': 'nunique',\n",
    "            'visitor_id': 'nunique',\n",
    "            'revenue': 'sum',\n",
    "        }\n",
    "    ),\n",
    "    axis=1,\n",
    ").sort_values(by=['date', 'group'])"
   ]
  },
  {
   "cell_type": "code",
   "execution_count": 12,
   "metadata": {},
   "outputs": [],
   "source": [
    "visitors_aggregated = dates_groups.apply(\n",
    "    lambda x: visitors[\n",
    "        np.logical_and(\n",
    "            visitors['date'] <= x['date'], visitors['group'] == x['group']\n",
    "        )\n",
    "    ].agg({'date': 'max', 'group': 'max', 'visitors': 'sum'}),\n",
    "    axis=1,\n",
    ").sort_values(by=['date', 'group'])"
   ]
  },
  {
   "cell_type": "code",
   "execution_count": 13,
   "metadata": {},
   "outputs": [],
   "source": [
    "# merging 2 dataframes to form cumulative data\n",
    "cumulative_data = orders_aggregated.merge(\n",
    "    visitors_aggregated, left_on=['date', 'group'], right_on=['date', 'group']\n",
    ")\n",
    "cumulative_data.columns = [\n",
    "    'date',\n",
    "    'group',\n",
    "    'orders_num',\n",
    "    'users',\n",
    "    'revenue',\n",
    "    'visitors_sum',\n",
    "]\n",
    "\n",
    "cumulative_revenue_A = cumulative_data[cumulative_data['group']=='A'][['date','revenue', 'orders_num']]\n",
    "cumulative_revenue_B = cumulative_data[cumulative_data['group']=='B'][['date','revenue', 'orders_num']]"
   ]
  },
  {
   "cell_type": "markdown",
   "metadata": {},
   "source": [
    "Let's check if  **cumulative_data** dataframes were created correctly. Compare minimum and maximum dates to dates from the original dataframe **orders**."
   ]
  },
  {
   "cell_type": "code",
   "execution_count": 14,
   "metadata": {
    "scrolled": false
   },
   "outputs": [
    {
     "data": {
      "text/plain": [
       "Timestamp('2019-08-01 00:00:00')"
      ]
     },
     "metadata": {},
     "output_type": "display_data"
    },
    {
     "data": {
      "text/plain": [
       "Timestamp('2019-08-31 00:00:00')"
      ]
     },
     "metadata": {},
     "output_type": "display_data"
    }
   ],
   "source": [
    "display(cumulative_data['date'].min())\n",
    "display(cumulative_data['date'].max())"
   ]
  },
  {
   "cell_type": "code",
   "execution_count": 15,
   "metadata": {},
   "outputs": [
    {
     "data": {
      "text/plain": [
       "Timestamp('2019-08-01 00:00:00')"
      ]
     },
     "metadata": {},
     "output_type": "display_data"
    },
    {
     "data": {
      "text/plain": [
       "Timestamp('2019-08-31 00:00:00')"
      ]
     },
     "metadata": {},
     "output_type": "display_data"
    }
   ],
   "source": [
    "display(orders['date'].min())\n",
    "display(orders['date'].max())"
   ]
  },
  {
   "cell_type": "markdown",
   "metadata": {},
   "source": [
    "Min and max dates are same between new and initial dataframe."
   ]
  },
  {
   "cell_type": "code",
   "execution_count": 16,
   "metadata": {},
   "outputs": [
    {
     "data": {
      "image/png": "[encoded data removed]",
      "text/plain": [
       "<Figure size 720x360 with 1 Axes>"
      ]
     },
     "metadata": {
      "needs_background": "light"
     },
     "output_type": "display_data"
    }
   ],
   "source": [
    "# plotting cumulative revenue per group\n",
    "plt.figure(figsize=(10,5))\n",
    "plt.grid(False)\n",
    "plt.title('Cumulative revenue per group\\n  ')\n",
    "plt.xlabel('\\nDate')\n",
    "plt.ylabel('Cumulative revenue\\n')\n",
    "\n",
    "\n",
    "plt.plot(cumulative_revenue_A['date'], cumulative_revenue_A['revenue'], label='A')\n",
    "plt.plot(cumulative_revenue_B['date'], cumulative_revenue_B['revenue'], label='B')\n",
    "\n",
    "plt.xticks(rotation=45)\n",
    "plt.legend()\n",
    "plt.show()"
   ]
  },
  {
   "cell_type": "markdown",
   "metadata": {},
   "source": [
    "Graph shows that cumulative revenue of group `B` became higher day by day in relation to group A. Cumulative revenue of group B by the end of the test is almost 6 million. which is 1.5 times higher than indicator of group A - about 4 million. \n",
    "But cumulative revenue of group B began to grow sharply starting from August 17, 2019. At the same time, curve of group A looks more stable. It is possible that anomalies appeared in group B , for ex., visitors who made purchases for large amounts and thus dramatically affected the results of the A/B test. Next, let's check these assumptions."
   ]
  },
  {
   "cell_type": "markdown",
   "metadata": {},
   "source": [
    "### 2. Plotting cumulative average ticket by group"
   ]
  },
  {
   "cell_type": "code",
   "execution_count": 17,
   "metadata": {},
   "outputs": [
    {
     "data": {
      "image/png": "[encoded data removed]",
      "text/plain": [
       "<Figure size 720x360 with 1 Axes>"
      ]
     },
     "metadata": {
      "needs_background": "light"
     },
     "output_type": "display_data"
    }
   ],
   "source": [
    "plt.figure(figsize=(10,5))\n",
    "plt.grid(False)\n",
    "plt.title('Cumulative average ticket by group\\n  ')\n",
    "plt.xlabel('\\nDate')\n",
    "plt.ylabel('Cumulative average ticket\\n')\n",
    "\n",
    "plt.plot(cumulative_revenue_A['date'], cumulative_revenue_A['revenue']/cumulative_revenue_A['orders_num'], label='A')\n",
    "plt.plot(cumulative_revenue_B['date'], cumulative_revenue_B['revenue']/cumulative_revenue_B['orders_num'], label='B')\n",
    "\n",
    "plt.xticks(rotation=45)\n",
    "plt.legend() \n",
    "plt.show()"
   ]
  },
  {
   "cell_type": "markdown",
   "metadata": {},
   "source": [
    "Same situation applies to the cumulative average ticket. Cumulative average ticket of group B by the end of the test is 9,000, which is 30% higher than the indicator of group A - about 7000. If indicator of group A has stabilized since August 17, then indicator of group B increased sharply on that day, and then gradually began to fall. Assumption of anomalies in group B, starting from August 17, remains valid."
   ]
  },
  {
   "cell_type": "markdown",
   "metadata": {},
   "source": [
    "### 3. Plotting proportional change in the cumulative average ticket of group B to group A"
   ]
  },
  {
   "cell_type": "code",
   "execution_count": 18,
   "metadata": {},
   "outputs": [
    {
     "data": {
      "image/png": "[encoded data removed]",
      "text/plain": [
       "<Figure size 720x360 with 1 Axes>"
      ]
     },
     "metadata": {
      "needs_background": "light"
     },
     "output_type": "display_data"
    }
   ],
   "source": [
    "# merging data\n",
    "merged_сumulative_revenue = cumulative_revenue_A.merge(cumulative_revenue_B, left_on='date', right_on='date', how='left', suffixes=['A', 'B'])\n",
    "\n",
    "plt.figure(figsize=(10,5))\n",
    "plt.grid(False)\n",
    "plt.title('Proportional change in the cumulative average ticket of group B to group A\\n  ')\n",
    "plt.xlabel('\\nDate')\n",
    "plt.ylabel('Proportional change in the cumulative average ticket\\n')\n",
    "\n",
    "# plotting propotions between average tickets\n",
    "plt.plot(merged_сumulative_revenue['date'], (merged_сumulative_revenue['revenueB']/merged_сumulative_revenue['orders_numB'])/(merged_сumulative_revenue['revenueA']/merged_сumulative_revenue['orders_numA'])-1)\n",
    "\n",
    "# add axis X\n",
    "plt.axhline(y=0, color='black', linestyle='--')\n",
    "plt.xticks(rotation=45)\n",
    "plt.show()"
   ]
  },
  {
   "cell_type": "markdown",
   "metadata": {},
   "source": [
    "Graph of proportional change in the cumulative average ticket of group B to group A also shows sharp jump on August 17, and then its gradual decrease to the level of 0.3 (cumulative average ticket of group B is 30% higher than cumulative average check of group A by the end of the test)."
   ]
  },
  {
   "cell_type": "markdown",
   "metadata": {},
   "source": [
    "### 4. Plotting cumulative average order qty per visitor by group"
   ]
  },
  {
   "cell_type": "code",
   "execution_count": 19,
   "metadata": {},
   "outputs": [
    {
     "data": {
      "image/png": "[encoded data removed]",
      "text/plain": [
       "<Figure size 720x360 with 1 Axes>"
      ]
     },
     "metadata": {
      "needs_background": "light"
     },
     "output_type": "display_data"
    }
   ],
   "source": [
    "cumulative_data['conversion'] = cumulative_data['orders_num']/cumulative_data['visitors_sum']\n",
    "\n",
    "# filtering data for group A\n",
    "cumulative_data_A = cumulative_data[cumulative_data['group']=='A']\n",
    "\n",
    "# filtering data for group B\n",
    "cumulative_data_B = cumulative_data[cumulative_data['group']=='B']\n",
    "\n",
    "plt.figure(figsize=(10,5))\n",
    "plt.grid(False)\n",
    "plt.title('Cumulative average order qty per visitor by group.\\n  ')\n",
    "plt.xlabel('\\nDate')\n",
    "plt.ylabel('Cumulative average order qty per visitor\\n')\n",
    "\n",
    "plt.plot(cumulative_data_A['date'], cumulative_data_A['conversion'], label='A')\n",
    "plt.plot(cumulative_data_B['date'], cumulative_data_B['conversion'], label='B')\n",
    "\n",
    "plt.xticks(rotation=45)\n",
    "plt.legend()\n",
    "plt.show()"
   ]
  },
  {
   "cell_type": "markdown",
   "metadata": {},
   "source": [
    "Plot of cumulative average order qty per visitor shows that group B won it against group A during whole test period."
   ]
  },
  {
   "cell_type": "markdown",
   "metadata": {},
   "source": [
    "### 5. Plotting proportional change in the cumulative average order qty per visitor of group B to group A"
   ]
  },
  {
   "cell_type": "code",
   "execution_count": 20,
   "metadata": {},
   "outputs": [
    {
     "data": {
      "image/png": "[encoded data removed]",
      "text/plain": [
       "<Figure size 720x360 with 1 Axes>"
      ]
     },
     "metadata": {
      "needs_background": "light"
     },
     "output_type": "display_data"
    }
   ],
   "source": [
    "merged_cumulative_conversions = cumulative_data_A[['date','conversion']].merge(cumulative_data_B[['date','conversion']], left_on='date', right_on='date', how='left', suffixes=['A', 'B'])\n",
    "\n",
    "plt.figure(figsize=(10,5))\n",
    "plt.grid(False)\n",
    "plt.plot(merged_cumulative_conversions['date'], merged_cumulative_conversions['conversionB']/merged_cumulative_conversions['conversionA']-1)\n",
    "\n",
    "plt.axhline(y=0, color='black', linestyle='--')\n",
    "plt.axhline(y=0.15, color='grey', linestyle='--') # show 15% differance in metric group B to group A\n",
    "plt.axis([\"2019-08-01\", '2019-09-01', -0.4, 0.4])\n",
    "plt.title('Proportional change in the cumulative average order qty per visitor\\n of group B to group A\\n  ')\n",
    "plt.xlabel('\\nDate')\n",
    "plt.ylabel('Proportional change in the cumulative average order qty\\n per visitor\\n')\n",
    "\n",
    "plt.xticks(rotation=45)\n",
    "plt.show()"
   ]
  },
  {
   "cell_type": "markdown",
   "metadata": {},
   "source": [
    "As a result, cumulative average order qty per visitor of group B steadily increased to group A. Difference by the end of the test was almost 15%."
   ]
  },
  {
   "cell_type": "markdown",
   "metadata": {},
   "source": [
    "### 6. Building scatter plot of order qty per visitor"
   ]
  },
  {
   "cell_type": "code",
   "execution_count": 21,
   "metadata": {},
   "outputs": [
    {
     "data": {
      "text/html": [
       "<div>\n",
       "<style scoped>\n",
       "    .dataframe tbody tr th:only-of-type {\n",
       "        vertical-align: middle;\n",
       "    }\n",
       "\n",
       "    .dataframe tbody tr th {\n",
       "        vertical-align: top;\n",
       "    }\n",
       "\n",
       "    .dataframe thead th {\n",
       "        text-align: right;\n",
       "    }\n",
       "</style>\n",
       "<table border=\"1\" class=\"dataframe\">\n",
       "  <thead>\n",
       "    <tr style=\"text-align: right;\">\n",
       "      <th></th>\n",
       "      <th>user_id</th>\n",
       "      <th>orders_cnt</th>\n",
       "    </tr>\n",
       "  </thead>\n",
       "  <tbody>\n",
       "    <tr>\n",
       "      <th>1023</th>\n",
       "      <td>4256040402</td>\n",
       "      <td>11</td>\n",
       "    </tr>\n",
       "    <tr>\n",
       "      <th>591</th>\n",
       "      <td>2458001652</td>\n",
       "      <td>11</td>\n",
       "    </tr>\n",
       "    <tr>\n",
       "      <th>569</th>\n",
       "      <td>2378935119</td>\n",
       "      <td>9</td>\n",
       "    </tr>\n",
       "    <tr>\n",
       "      <th>487</th>\n",
       "      <td>2038680547</td>\n",
       "      <td>8</td>\n",
       "    </tr>\n",
       "    <tr>\n",
       "      <th>44</th>\n",
       "      <td>199603092</td>\n",
       "      <td>5</td>\n",
       "    </tr>\n",
       "    <tr>\n",
       "      <th>744</th>\n",
       "      <td>3062433592</td>\n",
       "      <td>5</td>\n",
       "    </tr>\n",
       "    <tr>\n",
       "      <th>55</th>\n",
       "      <td>237748145</td>\n",
       "      <td>5</td>\n",
       "    </tr>\n",
       "    <tr>\n",
       "      <th>917</th>\n",
       "      <td>3803269165</td>\n",
       "      <td>5</td>\n",
       "    </tr>\n",
       "    <tr>\n",
       "      <th>299</th>\n",
       "      <td>1230306981</td>\n",
       "      <td>5</td>\n",
       "    </tr>\n",
       "    <tr>\n",
       "      <th>897</th>\n",
       "      <td>3717692402</td>\n",
       "      <td>5</td>\n",
       "    </tr>\n",
       "  </tbody>\n",
       "</table>\n",
       "</div>"
      ],
      "text/plain": [
       "         user_id  orders_cnt\n",
       "1023  4256040402          11\n",
       "591   2458001652          11\n",
       "569   2378935119           9\n",
       "487   2038680547           8\n",
       "44     199603092           5\n",
       "744   3062433592           5\n",
       "55     237748145           5\n",
       "917   3803269165           5\n",
       "299   1230306981           5\n",
       "897   3717692402           5"
      ]
     },
     "execution_count": 21,
     "metadata": {},
     "output_type": "execute_result"
    }
   ],
   "source": [
    "# group by visitors and calculate unique order qty per visitor\n",
    "orders_by_users = (\n",
    "    orders.groupby('visitor_id', as_index=False)\n",
    "    .agg({'transaction_id': 'nunique'})\n",
    ")\n",
    "orders_by_users.columns = ['user_id', 'orders_cnt']\n",
    "orders_by_users.sort_values(by='orders_cnt', ascending=False).head(10)"
   ]
  },
  {
   "cell_type": "code",
   "execution_count": 22,
   "metadata": {},
   "outputs": [
    {
     "data": {
      "image/png": "[encoded data removed]",
      "text/plain": [
       "<Figure size 432x288 with 1 Axes>"
      ]
     },
     "metadata": {
      "needs_background": "light"
     },
     "output_type": "display_data"
    }
   ],
   "source": [
    "# number set from 0 to number of observations in orders_by_users\n",
    "x_values = pd.Series(range(0, len(orders_by_users)))\n",
    "plt.scatter(x_values, orders_by_users['orders_cnt'])\n",
    "\n",
    "plt.title('Distribution of order qty per visitor\\n  ')\n",
    "plt.xlabel('\\nNumber of observations')\n",
    "plt.ylabel('Order qty per visitor\\n')\n",
    "plt.show()"
   ]
  },
  {
   "cell_type": "markdown",
   "metadata": {},
   "source": [
    "Only several visitors who have made more than 2 orders. These may be anomalies. Next, let's use percentile to see general order qty per visitor - 2 or less?"
   ]
  },
  {
   "cell_type": "markdown",
   "metadata": {},
   "source": [
    "### 7. Calculating 95th and 99th percentiles of order qty per visitor"
   ]
  },
  {
   "cell_type": "code",
   "execution_count": 23,
   "metadata": {},
   "outputs": [
    {
     "name": "stdout",
     "output_type": "stream",
     "text": [
      "[1. 2. 4.]\n"
     ]
    }
   ],
   "source": [
    "# method np.percentile('column', [percentile1, percentile2, percentile3]) identify percentiles.\n",
    "print(np.percentile(orders_by_users['orders_cnt'], [90, 95, 99]))"
   ]
  },
  {
   "cell_type": "markdown",
   "metadata": {},
   "source": [
    "No more than 5% of visitors have made more than 2 orders, and 1% - more than 4. We recommend selecting limit of 2 orders per visitor and consider all other values abnormal."
   ]
  },
  {
   "cell_type": "markdown",
   "metadata": {},
   "source": [
    "### 8. Building scatter plot of order revenue"
   ]
  },
  {
   "cell_type": "code",
   "execution_count": 24,
   "metadata": {},
   "outputs": [
    {
     "data": {
      "text/html": [
       "<div>\n",
       "<style scoped>\n",
       "    .dataframe tbody tr th:only-of-type {\n",
       "        vertical-align: middle;\n",
       "    }\n",
       "\n",
       "    .dataframe tbody tr th {\n",
       "        vertical-align: top;\n",
       "    }\n",
       "\n",
       "    .dataframe thead th {\n",
       "        text-align: right;\n",
       "    }\n",
       "</style>\n",
       "<table border=\"1\" class=\"dataframe\">\n",
       "  <thead>\n",
       "    <tr style=\"text-align: right;\">\n",
       "      <th></th>\n",
       "      <th>transaction_id</th>\n",
       "      <th>visitor_id</th>\n",
       "      <th>date</th>\n",
       "      <th>revenue</th>\n",
       "      <th>group</th>\n",
       "    </tr>\n",
       "  </thead>\n",
       "  <tbody>\n",
       "    <tr>\n",
       "      <th>425</th>\n",
       "      <td>590470918</td>\n",
       "      <td>1920142716</td>\n",
       "      <td>2019-08-19</td>\n",
       "      <td>1294500</td>\n",
       "      <td>B</td>\n",
       "    </tr>\n",
       "    <tr>\n",
       "      <th>1196</th>\n",
       "      <td>3936777065</td>\n",
       "      <td>2108080724</td>\n",
       "      <td>2019-08-15</td>\n",
       "      <td>202740</td>\n",
       "      <td>B</td>\n",
       "    </tr>\n",
       "    <tr>\n",
       "      <th>858</th>\n",
       "      <td>192721366</td>\n",
       "      <td>1316129916</td>\n",
       "      <td>2019-08-27</td>\n",
       "      <td>93940</td>\n",
       "      <td>A</td>\n",
       "    </tr>\n",
       "    <tr>\n",
       "      <th>1136</th>\n",
       "      <td>666610489</td>\n",
       "      <td>1307669133</td>\n",
       "      <td>2019-08-13</td>\n",
       "      <td>92550</td>\n",
       "      <td>A</td>\n",
       "    </tr>\n",
       "    <tr>\n",
       "      <th>744</th>\n",
       "      <td>3668308183</td>\n",
       "      <td>888512513</td>\n",
       "      <td>2019-08-27</td>\n",
       "      <td>86620</td>\n",
       "      <td>B</td>\n",
       "    </tr>\n",
       "    <tr>\n",
       "      <th>682</th>\n",
       "      <td>1216533772</td>\n",
       "      <td>4266935830</td>\n",
       "      <td>2019-08-29</td>\n",
       "      <td>78990</td>\n",
       "      <td>B</td>\n",
       "    </tr>\n",
       "    <tr>\n",
       "      <th>662</th>\n",
       "      <td>1811671147</td>\n",
       "      <td>4266935830</td>\n",
       "      <td>2019-08-29</td>\n",
       "      <td>78990</td>\n",
       "      <td>A</td>\n",
       "    </tr>\n",
       "    <tr>\n",
       "      <th>743</th>\n",
       "      <td>3603576309</td>\n",
       "      <td>4133034833</td>\n",
       "      <td>2019-08-09</td>\n",
       "      <td>67990</td>\n",
       "      <td>A</td>\n",
       "    </tr>\n",
       "    <tr>\n",
       "      <th>1103</th>\n",
       "      <td>1348774318</td>\n",
       "      <td>1164614297</td>\n",
       "      <td>2019-08-12</td>\n",
       "      <td>66350</td>\n",
       "      <td>A</td>\n",
       "    </tr>\n",
       "    <tr>\n",
       "      <th>1099</th>\n",
       "      <td>316924019</td>\n",
       "      <td>148427295</td>\n",
       "      <td>2019-08-12</td>\n",
       "      <td>65710</td>\n",
       "      <td>A</td>\n",
       "    </tr>\n",
       "  </tbody>\n",
       "</table>\n",
       "</div>"
      ],
      "text/plain": [
       "      transaction_id  visitor_id       date  revenue group\n",
       "425        590470918  1920142716 2019-08-19  1294500     B\n",
       "1196      3936777065  2108080724 2019-08-15   202740     B\n",
       "858        192721366  1316129916 2019-08-27    93940     A\n",
       "1136       666610489  1307669133 2019-08-13    92550     A\n",
       "744       3668308183   888512513 2019-08-27    86620     B\n",
       "682       1216533772  4266935830 2019-08-29    78990     B\n",
       "662       1811671147  4266935830 2019-08-29    78990     A\n",
       "743       3603576309  4133034833 2019-08-09    67990     A\n",
       "1103      1348774318  1164614297 2019-08-12    66350     A\n",
       "1099       316924019   148427295 2019-08-12    65710     A"
      ]
     },
     "metadata": {},
     "output_type": "display_data"
    },
    {
     "data": {
      "image/png": "[encoded data removed]",
      "text/plain": [
       "<Figure size 864x288 with 2 Axes>"
      ]
     },
     "metadata": {
      "needs_background": "light"
     },
     "output_type": "display_data"
    }
   ],
   "source": [
    "display(orders.sort_values(by='revenue', ascending=False).head(10))\n",
    "\n",
    "plt.figure(figsize = (12,4))\n",
    "# 1st plot with anomalies\n",
    "ax1 = plt.subplot(1,2,1)\n",
    "x_values = pd.Series(range(0, len(orders['revenue'])))\n",
    "plt.scatter(x_values, orders['revenue'])\n",
    "plt.title('Distribution of order revenue with anomalies\\n  ')\n",
    "plt.xlabel('\\nNumber of observations')\n",
    "plt.ylabel('Order revenue\\n')\n",
    "\n",
    "# 2st plot without anomalies\n",
    "ax2 = plt.subplot(1,2,2)\n",
    "x_values = pd.Series(range(0, len(orders['revenue'])))\n",
    "plt.scatter(x_values, orders['revenue'])\n",
    "plt.title('Distribution of order revenue without anomalies\\n  ')\n",
    "plt.xlabel('\\nNumber of observations')\n",
    "plt.ylabel('Order revenue\\n')\n",
    "plt.ylim(0, 120000)\n",
    "\n",
    "plt.tight_layout()\n",
    "plt.show()"
   ]
  },
  {
   "cell_type": "markdown",
   "metadata": {},
   "source": [
    "Most part of orders has revenue up to 100K. There are several anomalies at level of 200 thousand and 1.3 million."
   ]
  },
  {
   "cell_type": "markdown",
   "metadata": {},
   "source": [
    "### 9. Calculating 95th and 99th percentiles of order revenue"
   ]
  },
  {
   "cell_type": "code",
   "execution_count": 25,
   "metadata": {},
   "outputs": [
    {
     "name": "stdout",
     "output_type": "stream",
     "text": [
      "[18168.  28000.  58233.2]\n"
     ]
    }
   ],
   "source": [
    "print(np.percentile(orders['revenue'], [90, 95, 99])) "
   ]
  },
  {
   "cell_type": "markdown",
   "metadata": {},
   "source": [
    "No more than 5% of orders have revenue more than 28k, and 1% - more than 58k. We recommend choosing limit of 28 thousand per order and considering all other revenues as abnormal."
   ]
  },
  {
   "cell_type": "markdown",
   "metadata": {},
   "source": [
    "### 10. Сalculating statistical significance of differences in average order qty per visitor between groups based on raw data"
   ]
  },
  {
   "cell_type": "markdown",
   "metadata": {},
   "source": [
    "Preparing data from dataframes `visitors` and `orders`. Combining data into a table called `data`. Then display first 5 rows of  `data`."
   ]
  },
  {
   "cell_type": "code",
   "execution_count": 26,
   "metadata": {},
   "outputs": [
    {
     "data": {
      "text/html": [
       "<div>\n",
       "<style scoped>\n",
       "    .dataframe tbody tr th:only-of-type {\n",
       "        vertical-align: middle;\n",
       "    }\n",
       "\n",
       "    .dataframe tbody tr th {\n",
       "        vertical-align: top;\n",
       "    }\n",
       "\n",
       "    .dataframe thead th {\n",
       "        text-align: right;\n",
       "    }\n",
       "</style>\n",
       "<table border=\"1\" class=\"dataframe\">\n",
       "  <thead>\n",
       "    <tr style=\"text-align: right;\">\n",
       "      <th></th>\n",
       "      <th>date</th>\n",
       "      <th>orders_per_dateA</th>\n",
       "      <th>revenue_per_dateA</th>\n",
       "      <th>orders_per_dateB</th>\n",
       "      <th>revenue_per_dateB</th>\n",
       "      <th>orders_cummulative_A</th>\n",
       "      <th>revenue_cummulative_A</th>\n",
       "      <th>orders_cummulative_B</th>\n",
       "      <th>revenue_cummulative_B</th>\n",
       "      <th>visitors_per_dateA</th>\n",
       "      <th>visitors_per_dateB</th>\n",
       "      <th>visitors_cummulative_A</th>\n",
       "      <th>visitors_cummulative_B</th>\n",
       "    </tr>\n",
       "  </thead>\n",
       "  <tbody>\n",
       "    <tr>\n",
       "      <th>0</th>\n",
       "      <td>2019-08-01</td>\n",
       "      <td>24</td>\n",
       "      <td>148579</td>\n",
       "      <td>21</td>\n",
       "      <td>101217</td>\n",
       "      <td>24</td>\n",
       "      <td>148579</td>\n",
       "      <td>21</td>\n",
       "      <td>101217</td>\n",
       "      <td>719</td>\n",
       "      <td>713</td>\n",
       "      <td>719</td>\n",
       "      <td>713</td>\n",
       "    </tr>\n",
       "    <tr>\n",
       "      <th>1</th>\n",
       "      <td>2019-08-02</td>\n",
       "      <td>20</td>\n",
       "      <td>93822</td>\n",
       "      <td>24</td>\n",
       "      <td>165531</td>\n",
       "      <td>44</td>\n",
       "      <td>242401</td>\n",
       "      <td>45</td>\n",
       "      <td>266748</td>\n",
       "      <td>619</td>\n",
       "      <td>581</td>\n",
       "      <td>1338</td>\n",
       "      <td>1294</td>\n",
       "    </tr>\n",
       "    <tr>\n",
       "      <th>2</th>\n",
       "      <td>2019-08-03</td>\n",
       "      <td>24</td>\n",
       "      <td>112473</td>\n",
       "      <td>16</td>\n",
       "      <td>114248</td>\n",
       "      <td>68</td>\n",
       "      <td>354874</td>\n",
       "      <td>61</td>\n",
       "      <td>380996</td>\n",
       "      <td>507</td>\n",
       "      <td>509</td>\n",
       "      <td>1845</td>\n",
       "      <td>1803</td>\n",
       "    </tr>\n",
       "    <tr>\n",
       "      <th>3</th>\n",
       "      <td>2019-08-04</td>\n",
       "      <td>16</td>\n",
       "      <td>70825</td>\n",
       "      <td>17</td>\n",
       "      <td>108571</td>\n",
       "      <td>84</td>\n",
       "      <td>425699</td>\n",
       "      <td>78</td>\n",
       "      <td>489567</td>\n",
       "      <td>717</td>\n",
       "      <td>770</td>\n",
       "      <td>2562</td>\n",
       "      <td>2573</td>\n",
       "    </tr>\n",
       "    <tr>\n",
       "      <th>4</th>\n",
       "      <td>2019-08-05</td>\n",
       "      <td>25</td>\n",
       "      <td>124218</td>\n",
       "      <td>23</td>\n",
       "      <td>92428</td>\n",
       "      <td>109</td>\n",
       "      <td>549917</td>\n",
       "      <td>101</td>\n",
       "      <td>581995</td>\n",
       "      <td>756</td>\n",
       "      <td>707</td>\n",
       "      <td>3318</td>\n",
       "      <td>3280</td>\n",
       "    </tr>\n",
       "  </tbody>\n",
       "</table>\n",
       "</div>"
      ],
      "text/plain": [
       "        date  orders_per_dateA  revenue_per_dateA  orders_per_dateB  \\\n",
       "0 2019-08-01                24             148579                21   \n",
       "1 2019-08-02                20              93822                24   \n",
       "2 2019-08-03                24             112473                16   \n",
       "3 2019-08-04                16              70825                17   \n",
       "4 2019-08-05                25             124218                23   \n",
       "\n",
       "   revenue_per_dateB  orders_cummulative_A  revenue_cummulative_A  \\\n",
       "0             101217                    24                 148579   \n",
       "1             165531                    44                 242401   \n",
       "2             114248                    68                 354874   \n",
       "3             108571                    84                 425699   \n",
       "4              92428                   109                 549917   \n",
       "\n",
       "   orders_cummulative_B  revenue_cummulative_B  visitors_per_dateA  \\\n",
       "0                    21                 101217                 719   \n",
       "1                    45                 266748                 619   \n",
       "2                    61                 380996                 507   \n",
       "3                    78                 489567                 717   \n",
       "4                   101                 581995                 756   \n",
       "\n",
       "   visitors_per_dateB  visitors_cummulative_A  visitors_cummulative_B  \n",
       "0                 713                     719                     713  \n",
       "1                 581                    1338                    1294  \n",
       "2                 509                    1845                    1803  \n",
       "3                 770                    2562                    2573  \n",
       "4                 707                    3318                    3280  "
      ]
     },
     "execution_count": 26,
     "metadata": {},
     "output_type": "execute_result"
    }
   ],
   "source": [
    "# prepare data about order qty per visitor by groups\n",
    "\n",
    "visitors_A_daily = visitors[visitors['group'] == 'A'][['date', 'visitors']]\n",
    "visitors_A_daily.columns = ['date', 'visitors_per_dateA']\n",
    "\n",
    "visitors_A_cummulative = visitors_A_daily.apply(\n",
    "    lambda x: visitors_A_daily[visitors_A_daily['date'] <= x['date']].agg(\n",
    "        {'date': 'max', 'visitors_per_dateA': 'sum'}\n",
    "    ),\n",
    "    axis=1,\n",
    ")\n",
    "visitors_A_cummulative.columns = ['date', 'visitors_cummulative_A']\n",
    "\n",
    "visitors_B_daily = visitors[visitors['group'] == 'B'][['date', 'visitors']]\n",
    "visitors_B_daily.columns = ['date', 'visitors_per_dateB']\n",
    "\n",
    "visitors_B_cummulative = visitors_B_daily.apply(\n",
    "    lambda x: visitors_B_daily[visitors_B_daily['date'] <= x['date']].agg(\n",
    "        {'date': 'max', 'visitors_per_dateB': 'sum'}\n",
    "    ),\n",
    "    axis=1,\n",
    ")\n",
    "visitors_B_cummulative.columns = ['date', 'visitors_cummulative_B']\n",
    "\n",
    "orders_A_daily = (\n",
    "    orders[orders['group'] == 'A'][['date', 'transaction_id', 'visitor_id', 'revenue']]\n",
    "    .groupby('date', as_index=False)\n",
    "    .agg({'transaction_id': pd.Series.nunique, 'revenue': 'sum'})\n",
    ")\n",
    "orders_A_daily.columns = ['date', 'orders_per_dateA', 'revenue_per_dateA']\n",
    "\n",
    "orders_A_cummulative = orders_A_daily.apply(\n",
    "    lambda x: orders_A_daily[orders_A_daily['date'] <= x['date']].agg(\n",
    "        {'date': 'max', 'orders_per_dateA': 'sum', 'revenue_per_dateA': 'sum'}\n",
    "    ),\n",
    "    axis=1,\n",
    ").sort_values(by=['date'])\n",
    "\n",
    "orders_A_cummulative.columns = [\n",
    "    'date',\n",
    "    'orders_cummulative_A',\n",
    "    'revenue_cummulative_A',\n",
    "]\n",
    "\n",
    "orders_B_daily = (\n",
    "    orders[orders['group'] == 'B'][['date', 'transaction_id', 'visitor_id', 'revenue']]\n",
    "    .groupby('date', as_index=False)\n",
    "    .agg({'transaction_id': pd.Series.nunique, 'revenue': 'sum'})\n",
    ")\n",
    "orders_B_daily.columns = ['date', 'orders_per_dateB', 'revenue_per_dateB']\n",
    "\n",
    "orders_B_cummulative = orders_B_daily.apply(\n",
    "    lambda x: orders_B_daily[orders_B_daily['date'] <= x['date']].agg(\n",
    "        {'date': 'max', 'orders_per_dateB': 'sum', 'revenue_per_dateB': 'sum'}\n",
    "    ),\n",
    "    axis=1,\n",
    ").sort_values(by=['date'])\n",
    "\n",
    "orders_B_cummulative.columns = [\n",
    "    'date',\n",
    "    'orders_cummulative_B',\n",
    "    'revenue_cummulative_B',\n",
    "]\n",
    "\n",
    "data = (\n",
    "    orders_A_daily.merge(\n",
    "        orders_B_daily, left_on='date', right_on='date', how='left'\n",
    "    )\n",
    "    .merge(orders_A_cummulative, left_on='date', right_on='date', how='left')\n",
    "    .merge(orders_B_cummulative, left_on='date', right_on='date', how='left')\n",
    "    .merge(visitors_A_daily, left_on='date', right_on='date', how='left')\n",
    "    .merge(visitors_B_daily, left_on='date', right_on='date', how='left')\n",
    "    .merge(visitors_A_cummulative, left_on='date', right_on='date', how='left')\n",
    "    .merge(visitors_B_cummulative, left_on='date', right_on='date', how='left')\n",
    ")\n",
    "\n",
    "data.head(5)"
   ]
  },
  {
   "cell_type": "code",
   "execution_count": 27,
   "metadata": {},
   "outputs": [],
   "source": [
    "# calculating statistical significance of difference in average order qty per visitor between the groups\n",
    "# creatingx variables ordersByUsersA and ordersByUsersB with columns ['visitor_id', 'orders']. For users who made at least 1 order, we'll indicate order qty \n",
    "\n",
    "orders_by_usersA = (\n",
    "    orders[orders['group'] == 'A']\n",
    "    .groupby('visitor_id', as_index=False)\n",
    "    .agg({'transaction_id': pd.Series.nunique})\n",
    ")\n",
    "orders_by_usersA.columns = ['visitor_id', 'orders_A']\n",
    "\n",
    "orders_by_usersB = (\n",
    "    orders[orders['group'] == 'B']\n",
    "    .groupby('visitor_id', as_index=False)\n",
    "    .agg({'transaction_id': pd.Series.nunique})\n",
    ")\n",
    "orders_by_usersB.columns = ['visitor_id', 'orders_B']"
   ]
  },
  {
   "cell_type": "markdown",
   "metadata": {},
   "source": [
    "**Hypothesis test:** there are differences in the average orders qty per visitor between groups based on raw data.\n",
    "\n",
    "H_0: No differences in the average orders qty per visitor between groups based on raw data.\n",
    "\n",
    "H_1: There are differences in the average orders qty per visitor between groups based on raw data.\n",
    "\n",
    "alpha = 0.05"
   ]
  },
  {
   "cell_type": "markdown",
   "metadata": {},
   "source": [
    "We will test hypothesis using the Mann-Whitney U test here and throughout, as criteria ,which we are considering, do not have normal distribution. Samples contain outliers, anomalies, heavy tails, which may affect test results."
   ]
  },
  {
   "cell_type": "code",
   "execution_count": 28,
   "metadata": {},
   "outputs": [
    {
     "name": "stdout",
     "output_type": "stream",
     "text": [
      "p-value:  0.017\n",
      "Proportional changing of average order qty group B to group A:  0.138\n",
      "Reject null hypothesis\n"
     ]
    }
   ],
   "source": [
    "# Declaring variables sampleA and sampleB, where number of orders will correspond to users from different groups. who doesnt place any order, null will be assigned. This is necessary to prepare the samples for Mann-Whitney U test.\n",
    "\n",
    "sampleA = pd.concat([orders_by_usersA['orders_A'],pd.Series(0, index=np.arange(data['visitors_per_dateA'].sum() - len(orders_by_usersA['orders_A'])), name='orders_A')],axis=0)\n",
    "\n",
    "sampleB = pd.concat([orders_by_usersB['orders_B'],pd.Series(0, index=np.arange(data['visitors_per_dateB'].sum() - len(orders_by_usersB['orders_B'])), name='orders_B')],axis=0)\n",
    "\n",
    "# checking проверяем criterias by Mann-Whitney U test\n",
    "alpha=0.05\n",
    "results=stats.mannwhitneyu(sampleA, sampleB)\n",
    "print('p-value: ', \"{0:.3f}\".format(results.pvalue))\n",
    "print('Proportional changing of average order qty group B to group A: ', \"{0:.3f}\".format(sampleB.mean() / sampleA.mean() - 1))\n",
    "\n",
    "if results.pvalue < alpha:\n",
    "    print('Reject null hypothesis')\n",
    "else:\n",
    "    print(\n",
    "        'Null hypothesis could not be rejected'\n",
    "    )"
   ]
  },
  {
   "cell_type": "markdown",
   "metadata": {},
   "source": [
    "P-value is significantly less than 0.05, therefore we reject the null hypothesis. Analysis of the \"raw data\" reports that there are statistically significant differences in average order qty between the groups. Proportional increase in average of group B to group A is 13.8%.\n",
    "It is necessary to compare average tickets for \"raw data\", and then both metrics again after removing outliers."
   ]
  },
  {
   "cell_type": "markdown",
   "metadata": {},
   "source": [
    "### 11.  Сalculating statistical significance of differences in average ticket between groups based on raw data "
   ]
  },
  {
   "cell_type": "markdown",
   "metadata": {},
   "source": [
    "**Hypothesis test:** there are differences in the average ticket between groups based on raw data.\n",
    "\n",
    "H_0: No differences in the average ticket between groups based on raw data.\n",
    "\n",
    "H_1: There are differences in the average ticket between groups based on raw data.\n",
    "\n",
    "alpha = 0.05"
   ]
  },
  {
   "cell_type": "code",
   "execution_count": 29,
   "metadata": {},
   "outputs": [
    {
     "name": "stdout",
     "output_type": "stream",
     "text": [
      "p-value:  0.729\n",
      "Proportional changing of average ticket group B to group A:  0.259\n",
      "Null hypothesis could not be rejected\n"
     ]
    }
   ],
   "source": [
    "alpha=0.05\n",
    "results=stats.mannwhitneyu(orders[orders['group']=='A']['revenue'], orders[orders['group']=='B']['revenue'])\n",
    "print('p-value: ', '{0:.3f}'.format(results.pvalue))\n",
    "print('Proportional changing of average ticket group B to group A: ','{0:.3f}'.format(orders[orders['group']=='B']['revenue'].mean()/orders[orders['group']=='A']['revenue'].mean()-1))\n",
    "\n",
    "if results.pvalue < alpha:\n",
    "    print('Reject null hypothesis')\n",
    "else:\n",
    "    print(\n",
    "        'Null hypothesis could not be rejected'\n",
    "    )"
   ]
  },
  {
   "cell_type": "markdown",
   "metadata": {},
   "source": [
    "P-value is greater than 0.05 — there are no statistically significant differences in average ticket between groups. However, Proportional changing of average ticket between groups is 25%, we cant ignore it."
   ]
  },
  {
   "cell_type": "markdown",
   "metadata": {},
   "source": [
    "### 12. Сalculating statistical significance of differences in average order qty per visitor between groups based on cleared data"
   ]
  },
  {
   "cell_type": "code",
   "execution_count": 30,
   "metadata": {},
   "outputs": [],
   "source": [
    "# limit values for order qty and the revenue to 'int' data type\n",
    "percentile_revenue = np.percentile(orders['revenue'], [95])\n",
    "percentiles_int_revenue = int(percentile_revenue)\n",
    "\n",
    "percentile_orders = np.percentile(orders_by_users['orders_cnt'], [95])\n",
    "percentiles_int_orders = int(percentile_revenue)\n",
    "\n",
    "\n",
    "# clearing data, removing order qty per visitor more than 2 and revenue more than 28 000\n",
    "users_with_many_orders = pd.concat(\n",
    "    [\n",
    "        orders_by_usersA[orders_by_usersA['orders_A'] > percentiles_int_orders]['visitor_id'],\n",
    "        orders_by_usersB[orders_by_usersB['orders_B'] > percentiles_int_orders]['visitor_id'],\n",
    "    ],\n",
    "    axis=0,\n",
    ")\n",
    "users_with_expensive_orders = orders[orders['revenue'] > percentiles_int_revenue]['visitor_id']\n",
    "abnormal_users = (\n",
    "    pd.concat([users_with_many_orders, users_with_expensive_orders], axis=0)\n",
    "    .drop_duplicates()\n",
    "    .sort_values()\n",
    ")\n",
    "\n",
    "\n",
    "sample_A_filtered = pd.concat(\n",
    "    [\n",
    "        orders_by_usersA[\n",
    "            np.logical_not(orders_by_usersA['visitor_id'].isin(abnormal_users))\n",
    "        ]['orders_A'],\n",
    "        pd.Series(\n",
    "            0,\n",
    "            index=np.arange(\n",
    "                data['visitors_per_dateA'].sum() - len(orders_by_usersA['orders_A'])\n",
    "            ),\n",
    "            name='orders_A',\n",
    "        ),\n",
    "    ],\n",
    "    axis=0,\n",
    ")\n",
    "\n",
    "sample_B_filtered = pd.concat(\n",
    "    [\n",
    "        orders_by_usersB[\n",
    "            np.logical_not(orders_by_usersB['visitor_id'].isin(abnormal_users))\n",
    "        ]['orders_B'],\n",
    "        pd.Series(\n",
    "            0,\n",
    "            index=np.arange(\n",
    "                data['visitors_per_dateB'].sum() - len(orders_by_usersB['orders_B'])\n",
    "            ),\n",
    "            name='orders_B',\n",
    "        ),\n",
    "    ],\n",
    "    axis=0,\n",
    ")"
   ]
  },
  {
   "cell_type": "markdown",
   "metadata": {},
   "source": [
    "**Hypothesis test:** there are differences in the average orders qty per visitor between groups based on cleared data.\n",
    "\n",
    "H_0: No differences in the average orders qty per visitor between groups based on cleared data.\n",
    "\n",
    "H_1: There are differences in the average orders qty per visitor between groups based on cleared data.\n",
    "\n",
    "alpha = 0.05"
   ]
  },
  {
   "cell_type": "code",
   "execution_count": 31,
   "metadata": {},
   "outputs": [
    {
     "name": "stdout",
     "output_type": "stream",
     "text": [
      "p-value:  0.019\n",
      "Proportional changing of average order qty group B to group A:  0.140\n",
      "Reject null hypothesis\n"
     ]
    }
   ],
   "source": [
    "# checking проверяем criterias by Mann-Whitney U test\n",
    "alpha=0.05\n",
    "results=stats.mannwhitneyu(sample_A_filtered, sample_B_filtered)\n",
    "\n",
    "print('p-value: ', '{0:.3f}'.format(results.pvalue))\n",
    "print('Proportional changing of average order qty group B to group A: ','{0:.3f}'.format(sample_B_filtered.mean()/sample_A_filtered.mean()-1))\n",
    "\n",
    "if results.pvalue < alpha:\n",
    "    print('Reject null hypothesis')\n",
    "else:\n",
    "    print(\n",
    "        'Null hypothesis could not be rejected'\n",
    "    )"
   ]
  },
  {
   "cell_type": "markdown",
   "metadata": {},
   "source": [
    "As case of raw data, statistical significance has been achieved. Segment B is significantly better than segment A (by 14%)."
   ]
  },
  {
   "cell_type": "markdown",
   "metadata": {},
   "source": [
    "### 13. Сalculating statistical significance of differences in average ticket between groups based on raw data"
   ]
  },
  {
   "cell_type": "markdown",
   "metadata": {},
   "source": [
    "**Hypothesis test:** there are differences in the average ticket between groups based on cleared data.\n",
    "\n",
    "H_0: No differences in the average ticket between groups based on cleared data.\n",
    "\n",
    "H_1: There are differences in the average ticket between groups based on raw data.\n",
    "\n",
    "alpha = 0.05"
   ]
  },
  {
   "cell_type": "code",
   "execution_count": 32,
   "metadata": {},
   "outputs": [
    {
     "name": "stdout",
     "output_type": "stream",
     "text": [
      "p-value:  0.863\n",
      "Proportional changing of average ticket group B to group A:   -0.013\n",
      "Null hypothesis could not be rejected\n"
     ]
    }
   ],
   "source": [
    "# checking проверяем criterias by Mann-Whitney U test\n",
    "\n",
    "alpha=0.05\n",
    "results=stats.mannwhitneyu(orders[\n",
    "                np.logical_and(\n",
    "                    orders['group'] == 'A',\n",
    "                    np.logical_not(orders['visitor_id'].isin(abnormal_users)),\n",
    "                )\n",
    "            ]['revenue'],\n",
    "            orders[\n",
    "                np.logical_and(\n",
    "                    orders['group'] == 'B',\n",
    "                    np.logical_not(orders['visitor_id'].isin(abnormal_users)),\n",
    "                )\n",
    "            ]['revenue'],\n",
    "        )\n",
    "\n",
    "print('p-value: ', '{0:.3f}'.format(results.pvalue))\n",
    "print('Proportional changing of average ticket group B to group A:  ','{0:.3f}'.format(orders[\n",
    "            np.logical_and(\n",
    "                orders['group'] == 'B',\n",
    "                np.logical_not(orders['visitor_id'].isin(abnormal_users)),\n",
    "            )\n",
    "        ]['revenue'].mean()\n",
    "        / orders[\n",
    "            np.logical_and(\n",
    "                orders['group'] == 'A',\n",
    "                np.logical_not(orders['visitor_id'].isin(abnormal_users)),\n",
    "            )\n",
    "        ]['revenue'].mean()\n",
    "        - 1))\n",
    "\n",
    "if results.pvalue < alpha:\n",
    "    print('Reject null hypothesis')\n",
    "else:\n",
    "    print(\n",
    "        'Null hypothesis could not be rejected'\n",
    "    )"
   ]
  },
  {
   "cell_type": "markdown",
   "metadata": {},
   "source": [
    "Even after clearing  data from anomalies, P-value is still more than 0.05 — statistically significant differences in average ticket between the groups were not found. TProportional changing of average ticket group B to group A were disappeared (-2% of group B from group A)."
   ]
  },
  {
   "attachments": {
    "image-5.png": {
     "image/png": "[encoded data removed]"
    },
    "image-6.png": {
     "image/png": "[encoded data removed]"
    }
   },
   "cell_type": "markdown",
   "metadata": {},
   "source": [
    "<div style=\"border:solid blue 3px; padding: 20px\">\n",
    "\n",
    "# Main summary\n",
    "\n",
    "We conducted analysis of A/B test using the Mann-Whitney test and calculations of proportional changes in cumulative metrics, based on obtained data, following conclusions were made:\n",
    "- There is statistically significant difference in order qty per visitor about 15% between the groups according to raw data and after filtering anomalies.\n",
    "- According to raw data, there is no statistically significant difference in  average ticket between the groups, as well as, after removal of anomalies.\n",
    "- The graph of difference in order qty per visitor between groups indicates that results of group B are better than group A: they tend to grow, or they are fixed near the average value.\n",
    "![image-6.png](attachment:image-6.png)\n",
    "- The graph of difference in average ticket is fluctuating: it helped us to indicate anomalies. It is impossible to draw certain conclusions from graph. After clearing data of anomalies, there were no differences in the Mann-Whitney test, while proportional changes between the groups according to this metric practically disappeared.\n",
    "![image-5.png](attachment:image-5.png)\n",
    "\n",
    "**We recommend stopping test and fixing win of group A over group B. Despite the victory in terms of order qty per visitor at the level of 14% by group B, unfortunately, the average ticket turned out to be lower than average ticket of group A by the end of the test**"
   ]
  }
 ],
 "metadata": {
  "ExecuteTimeLog": [
   {
    "duration": 784,
    "start_time": "2024-02-10T13:44:59.652Z"
   },
   {
    "duration": 198,
    "start_time": "2024-02-10T13:46:32.912Z"
   },
   {
    "duration": 13,
    "start_time": "2024-02-10T13:47:07.782Z"
   },
   {
    "duration": 6,
    "start_time": "2024-02-10T13:47:10.192Z"
   },
   {
    "duration": 7,
    "start_time": "2024-02-10T13:47:11.552Z"
   },
   {
    "duration": 6,
    "start_time": "2024-02-10T13:47:12.777Z"
   },
   {
    "duration": 10,
    "start_time": "2024-02-10T13:49:04.483Z"
   },
   {
    "duration": 8,
    "start_time": "2024-02-10T13:49:20.437Z"
   },
   {
    "duration": 8,
    "start_time": "2024-02-10T13:49:25.302Z"
   },
   {
    "duration": 8,
    "start_time": "2024-02-10T13:49:52.542Z"
   },
   {
    "duration": 7,
    "start_time": "2024-02-10T13:50:00.457Z"
   },
   {
    "duration": 9,
    "start_time": "2024-02-10T13:50:32.602Z"
   },
   {
    "duration": 15,
    "start_time": "2024-02-10T13:51:25.432Z"
   },
   {
    "duration": 78,
    "start_time": "2024-02-10T14:02:50.762Z"
   },
   {
    "duration": 8,
    "start_time": "2024-02-10T14:02:52.522Z"
   },
   {
    "duration": 7,
    "start_time": "2024-02-10T14:02:53.483Z"
   },
   {
    "duration": 7,
    "start_time": "2024-02-10T14:02:54.278Z"
   },
   {
    "duration": 9,
    "start_time": "2024-02-10T14:02:55.668Z"
   },
   {
    "duration": 10,
    "start_time": "2024-02-10T14:02:57.747Z"
   },
   {
    "duration": 10,
    "start_time": "2024-02-10T14:03:00.432Z"
   },
   {
    "duration": 433,
    "start_time": "2024-02-10T14:07:29.368Z"
   },
   {
    "duration": 11,
    "start_time": "2024-02-10T14:07:44.522Z"
   },
   {
    "duration": 10,
    "start_time": "2024-02-10T14:07:58.768Z"
   },
   {
    "duration": 3,
    "start_time": "2024-02-10T14:10:30.487Z"
   },
   {
    "duration": 1170,
    "start_time": "2024-02-10T14:12:19.522Z"
   },
   {
    "duration": 6,
    "start_time": "2024-02-10T14:13:11.271Z"
   },
   {
    "duration": 4,
    "start_time": "2024-02-10T14:13:31.026Z"
   },
   {
    "duration": 10,
    "start_time": "2024-02-10T14:13:40.251Z"
   },
   {
    "duration": 12,
    "start_time": "2024-02-10T14:16:02.767Z"
   },
   {
    "duration": 12,
    "start_time": "2024-02-10T14:16:14.327Z"
   },
   {
    "duration": 12,
    "start_time": "2024-02-10T14:17:45.086Z"
   },
   {
    "duration": 3,
    "start_time": "2024-02-10T14:17:48.421Z"
   },
   {
    "duration": 9,
    "start_time": "2024-02-10T14:17:49.471Z"
   },
   {
    "duration": 12,
    "start_time": "2024-02-10T14:18:34.461Z"
   },
   {
    "duration": 3,
    "start_time": "2024-02-10T14:18:39.377Z"
   },
   {
    "duration": 3,
    "start_time": "2024-02-10T14:18:42.117Z"
   },
   {
    "duration": 11,
    "start_time": "2024-02-10T14:18:43.662Z"
   },
   {
    "duration": 5,
    "start_time": "2024-02-10T14:19:00.717Z"
   },
   {
    "duration": 3,
    "start_time": "2024-02-10T14:19:48.532Z"
   },
   {
    "duration": 3,
    "start_time": "2024-02-10T14:19:53.092Z"
   },
   {
    "duration": 3,
    "start_time": "2024-02-10T14:19:53.687Z"
   },
   {
    "duration": 859,
    "start_time": "2024-02-10T15:03:53.871Z"
   },
   {
    "duration": 79,
    "start_time": "2024-02-10T15:03:54.732Z"
   },
   {
    "duration": 14,
    "start_time": "2024-02-10T15:03:54.812Z"
   },
   {
    "duration": 22,
    "start_time": "2024-02-10T15:03:54.828Z"
   },
   {
    "duration": 26,
    "start_time": "2024-02-10T15:03:54.852Z"
   },
   {
    "duration": 17,
    "start_time": "2024-02-10T15:03:54.879Z"
   },
   {
    "duration": 13,
    "start_time": "2024-02-10T15:03:54.897Z"
   },
   {
    "duration": 13,
    "start_time": "2024-02-10T15:03:54.912Z"
   },
   {
    "duration": 320,
    "start_time": "2024-02-10T15:03:54.926Z"
   },
   {
    "duration": 9,
    "start_time": "2024-02-10T15:03:55.248Z"
   },
   {
    "duration": 27,
    "start_time": "2024-02-10T15:03:55.259Z"
   },
   {
    "duration": 15,
    "start_time": "2024-02-10T15:03:55.288Z"
   },
   {
    "duration": 16,
    "start_time": "2024-02-10T15:03:55.305Z"
   },
   {
    "duration": 26,
    "start_time": "2024-02-10T15:03:55.322Z"
   },
   {
    "duration": 4,
    "start_time": "2024-02-10T15:09:14.905Z"
   },
   {
    "duration": 4,
    "start_time": "2024-02-10T15:09:15.849Z"
   },
   {
    "duration": 5,
    "start_time": "2024-02-10T15:10:15.851Z"
   },
   {
    "duration": 4,
    "start_time": "2024-02-10T15:10:18.480Z"
   },
   {
    "duration": 5,
    "start_time": "2024-02-10T15:10:20.009Z"
   },
   {
    "duration": 3,
    "start_time": "2024-02-10T15:10:40.940Z"
   },
   {
    "duration": 4,
    "start_time": "2024-02-10T15:10:43.205Z"
   },
   {
    "duration": 91,
    "start_time": "2024-02-10T15:11:18.385Z"
   },
   {
    "duration": 7,
    "start_time": "2024-02-10T15:11:27.311Z"
   },
   {
    "duration": 7,
    "start_time": "2024-02-10T15:16:32.076Z"
   },
   {
    "duration": 10,
    "start_time": "2024-02-10T15:19:43.390Z"
   },
   {
    "duration": 5,
    "start_time": "2024-02-10T15:20:07.130Z"
   },
   {
    "duration": 5,
    "start_time": "2024-02-10T15:20:46.055Z"
   },
   {
    "duration": 5,
    "start_time": "2024-02-10T15:20:50.840Z"
   },
   {
    "duration": 8,
    "start_time": "2024-02-10T15:23:53.560Z"
   },
   {
    "duration": 8,
    "start_time": "2024-02-10T15:26:12.829Z"
   },
   {
    "duration": 8,
    "start_time": "2024-02-10T15:26:40.694Z"
   },
   {
    "duration": 7,
    "start_time": "2024-02-10T15:26:43.170Z"
   },
   {
    "duration": 12,
    "start_time": "2024-02-10T15:35:23.614Z"
   },
   {
    "duration": 5,
    "start_time": "2024-02-10T15:35:40.704Z"
   },
   {
    "duration": 10,
    "start_time": "2024-02-10T15:36:03.525Z"
   },
   {
    "duration": 54,
    "start_time": "2024-02-10T15:36:25.355Z"
   },
   {
    "duration": 47,
    "start_time": "2024-02-10T15:36:30.065Z"
   },
   {
    "duration": 57,
    "start_time": "2024-02-10T15:36:54.560Z"
   },
   {
    "duration": 4,
    "start_time": "2024-02-10T15:37:36.674Z"
   },
   {
    "duration": 6,
    "start_time": "2024-02-10T15:40:46.834Z"
   },
   {
    "duration": 5,
    "start_time": "2024-02-10T15:41:02.649Z"
   },
   {
    "duration": 8,
    "start_time": "2024-02-10T15:41:15.659Z"
   },
   {
    "duration": 8,
    "start_time": "2024-02-10T15:41:29.914Z"
   },
   {
    "duration": 58,
    "start_time": "2024-02-10T15:41:54.824Z"
   },
   {
    "duration": 4,
    "start_time": "2024-02-10T15:42:10.494Z"
   },
   {
    "duration": 832,
    "start_time": "2024-02-10T16:12:25.209Z"
   },
   {
    "duration": 80,
    "start_time": "2024-02-10T16:12:26.043Z"
   },
   {
    "duration": 14,
    "start_time": "2024-02-10T16:12:26.124Z"
   },
   {
    "duration": 7,
    "start_time": "2024-02-10T16:12:26.140Z"
   },
   {
    "duration": 13,
    "start_time": "2024-02-10T16:12:26.149Z"
   },
   {
    "duration": 12,
    "start_time": "2024-02-10T16:12:26.164Z"
   },
   {
    "duration": 14,
    "start_time": "2024-02-10T16:12:26.177Z"
   },
   {
    "duration": 14,
    "start_time": "2024-02-10T16:12:26.192Z"
   },
   {
    "duration": 283,
    "start_time": "2024-02-10T16:12:26.207Z"
   },
   {
    "duration": 10,
    "start_time": "2024-02-10T16:12:26.492Z"
   },
   {
    "duration": 44,
    "start_time": "2024-02-10T16:12:26.503Z"
   },
   {
    "duration": 29,
    "start_time": "2024-02-10T16:12:26.549Z"
   },
   {
    "duration": 26,
    "start_time": "2024-02-10T16:12:26.579Z"
   },
   {
    "duration": 19,
    "start_time": "2024-02-10T16:12:26.610Z"
   },
   {
    "duration": 12,
    "start_time": "2024-02-10T16:12:26.631Z"
   },
   {
    "duration": 887,
    "start_time": "2024-02-11T11:20:25.051Z"
   },
   {
    "duration": 190,
    "start_time": "2024-02-11T11:20:25.939Z"
   },
   {
    "duration": 15,
    "start_time": "2024-02-11T11:20:26.131Z"
   },
   {
    "duration": 8,
    "start_time": "2024-02-11T11:20:26.149Z"
   },
   {
    "duration": 14,
    "start_time": "2024-02-11T11:20:26.159Z"
   },
   {
    "duration": 17,
    "start_time": "2024-02-11T11:20:26.175Z"
   },
   {
    "duration": 10,
    "start_time": "2024-02-11T11:20:26.193Z"
   },
   {
    "duration": 11,
    "start_time": "2024-02-11T11:20:26.204Z"
   },
   {
    "duration": 488,
    "start_time": "2024-02-11T11:20:26.217Z"
   },
   {
    "duration": 12,
    "start_time": "2024-02-11T11:20:26.707Z"
   },
   {
    "duration": 25,
    "start_time": "2024-02-11T11:20:26.720Z"
   },
   {
    "duration": 6,
    "start_time": "2024-02-11T11:20:26.747Z"
   },
   {
    "duration": 8,
    "start_time": "2024-02-11T11:20:26.754Z"
   },
   {
    "duration": 7,
    "start_time": "2024-02-11T11:20:26.763Z"
   },
   {
    "duration": 16,
    "start_time": "2024-02-11T11:20:26.772Z"
   },
   {
    "duration": 8,
    "start_time": "2024-02-11T11:20:26.790Z"
   },
   {
    "duration": 11,
    "start_time": "2024-02-11T11:20:26.800Z"
   },
   {
    "duration": 60,
    "start_time": "2024-02-11T11:20:50.721Z"
   },
   {
    "duration": 6,
    "start_time": "2024-02-11T11:21:00.802Z"
   },
   {
    "duration": 6,
    "start_time": "2024-02-11T11:21:46.651Z"
   },
   {
    "duration": 8,
    "start_time": "2024-02-11T11:22:05.396Z"
   },
   {
    "duration": 9,
    "start_time": "2024-02-11T11:22:21.731Z"
   },
   {
    "duration": 7,
    "start_time": "2024-02-11T11:22:43.981Z"
   },
   {
    "duration": 841,
    "start_time": "2024-02-11T11:23:11.881Z"
   },
   {
    "duration": 75,
    "start_time": "2024-02-11T11:23:12.724Z"
   },
   {
    "duration": 13,
    "start_time": "2024-02-11T11:23:12.800Z"
   },
   {
    "duration": 26,
    "start_time": "2024-02-11T11:23:12.815Z"
   },
   {
    "duration": 7,
    "start_time": "2024-02-11T11:23:12.842Z"
   },
   {
    "duration": 17,
    "start_time": "2024-02-11T11:23:12.851Z"
   },
   {
    "duration": 25,
    "start_time": "2024-02-11T11:23:12.869Z"
   },
   {
    "duration": 13,
    "start_time": "2024-02-11T11:23:12.895Z"
   },
   {
    "duration": 294,
    "start_time": "2024-02-11T11:23:12.910Z"
   },
   {
    "duration": 10,
    "start_time": "2024-02-11T11:23:13.207Z"
   },
   {
    "duration": 11,
    "start_time": "2024-02-11T11:23:13.219Z"
   },
   {
    "duration": 4,
    "start_time": "2024-02-11T11:23:13.231Z"
   },
   {
    "duration": 6,
    "start_time": "2024-02-11T11:23:13.237Z"
   },
   {
    "duration": 4,
    "start_time": "2024-02-11T11:23:13.245Z"
   },
   {
    "duration": 9,
    "start_time": "2024-02-11T11:23:13.250Z"
   },
   {
    "duration": 34,
    "start_time": "2024-02-11T11:23:13.260Z"
   },
   {
    "duration": 8,
    "start_time": "2024-02-11T11:23:13.295Z"
   },
   {
    "duration": 1032,
    "start_time": "2024-02-11T16:29:11.339Z"
   },
   {
    "duration": 75,
    "start_time": "2024-02-11T16:29:12.373Z"
   },
   {
    "duration": 11,
    "start_time": "2024-02-11T16:29:12.450Z"
   },
   {
    "duration": 29,
    "start_time": "2024-02-11T16:29:12.462Z"
   },
   {
    "duration": 7,
    "start_time": "2024-02-11T16:29:12.493Z"
   },
   {
    "duration": 13,
    "start_time": "2024-02-11T16:29:12.502Z"
   },
   {
    "duration": 10,
    "start_time": "2024-02-11T16:29:12.517Z"
   },
   {
    "duration": 11,
    "start_time": "2024-02-11T16:29:12.529Z"
   },
   {
    "duration": 76,
    "start_time": "2024-02-11T16:29:12.541Z"
   },
   {
    "duration": 11,
    "start_time": "2024-02-11T16:29:12.619Z"
   },
   {
    "duration": 11,
    "start_time": "2024-02-11T16:29:12.632Z"
   },
   {
    "duration": 3,
    "start_time": "2024-02-11T16:29:12.644Z"
   },
   {
    "duration": 11,
    "start_time": "2024-02-11T16:29:12.649Z"
   },
   {
    "duration": 4,
    "start_time": "2024-02-11T16:29:12.661Z"
   },
   {
    "duration": 9,
    "start_time": "2024-02-11T16:29:12.686Z"
   },
   {
    "duration": 14,
    "start_time": "2024-02-11T16:29:12.696Z"
   },
   {
    "duration": 10,
    "start_time": "2024-02-11T16:29:12.712Z"
   },
   {
    "duration": 5,
    "start_time": "2024-02-11T16:38:59.881Z"
   },
   {
    "duration": 98,
    "start_time": "2024-02-11T16:40:47.645Z"
   },
   {
    "duration": 5,
    "start_time": "2024-02-11T16:41:49.735Z"
   },
   {
    "duration": 167,
    "start_time": "2024-02-11T16:41:51.390Z"
   },
   {
    "duration": 124,
    "start_time": "2024-02-11T16:42:36.107Z"
   },
   {
    "duration": 11,
    "start_time": "2024-02-11T16:45:06.935Z"
   },
   {
    "duration": 261,
    "start_time": "2024-02-11T16:45:57.014Z"
   },
   {
    "duration": 176,
    "start_time": "2024-02-11T16:46:23.680Z"
   },
   {
    "duration": 174,
    "start_time": "2024-02-11T16:47:40.616Z"
   },
   {
    "duration": 176,
    "start_time": "2024-02-11T16:59:31.069Z"
   },
   {
    "duration": 1139,
    "start_time": "2024-02-11T17:08:43.159Z"
   },
   {
    "duration": 291,
    "start_time": "2024-02-11T17:09:15.248Z"
   },
   {
    "duration": 262,
    "start_time": "2024-02-11T17:09:28.028Z"
   },
   {
    "duration": 258,
    "start_time": "2024-02-11T17:09:34.914Z"
   },
   {
    "duration": 265,
    "start_time": "2024-02-11T17:10:39.709Z"
   },
   {
    "duration": 363,
    "start_time": "2024-02-11T17:11:01.459Z"
   },
   {
    "duration": 309,
    "start_time": "2024-02-11T17:11:59.969Z"
   },
   {
    "duration": 52,
    "start_time": "2024-02-11T17:12:12.643Z"
   },
   {
    "duration": 85,
    "start_time": "2024-02-11T17:14:05.748Z"
   },
   {
    "duration": 300,
    "start_time": "2024-02-11T17:14:14.008Z"
   },
   {
    "duration": 301,
    "start_time": "2024-02-11T17:14:20.738Z"
   },
   {
    "duration": 1117,
    "start_time": "2024-02-11T17:23:19.777Z"
   },
   {
    "duration": 76,
    "start_time": "2024-02-11T17:23:20.896Z"
   },
   {
    "duration": 12,
    "start_time": "2024-02-11T17:23:20.973Z"
   },
   {
    "duration": 8,
    "start_time": "2024-02-11T17:23:20.986Z"
   },
   {
    "duration": 8,
    "start_time": "2024-02-11T17:23:20.997Z"
   },
   {
    "duration": 12,
    "start_time": "2024-02-11T17:23:21.007Z"
   },
   {
    "duration": 15,
    "start_time": "2024-02-11T17:23:21.021Z"
   },
   {
    "duration": 9,
    "start_time": "2024-02-11T17:23:21.038Z"
   },
   {
    "duration": 80,
    "start_time": "2024-02-11T17:23:21.049Z"
   },
   {
    "duration": 12,
    "start_time": "2024-02-11T17:23:21.130Z"
   },
   {
    "duration": 18,
    "start_time": "2024-02-11T17:23:21.143Z"
   },
   {
    "duration": 5,
    "start_time": "2024-02-11T17:23:21.162Z"
   },
   {
    "duration": 25,
    "start_time": "2024-02-11T17:23:21.168Z"
   },
   {
    "duration": 11,
    "start_time": "2024-02-11T17:23:21.196Z"
   },
   {
    "duration": 11,
    "start_time": "2024-02-11T17:23:21.209Z"
   },
   {
    "duration": 29,
    "start_time": "2024-02-11T17:23:21.221Z"
   },
   {
    "duration": 14,
    "start_time": "2024-02-11T17:23:21.253Z"
   },
   {
    "duration": 13,
    "start_time": "2024-02-11T17:23:21.268Z"
   },
   {
    "duration": 182,
    "start_time": "2024-02-11T17:23:21.282Z"
   },
   {
    "duration": 127,
    "start_time": "2024-02-11T17:23:21.466Z"
   },
   {
    "duration": 11,
    "start_time": "2024-02-11T17:23:21.595Z"
   },
   {
    "duration": 278,
    "start_time": "2024-02-11T17:23:21.608Z"
   },
   {
    "duration": 193,
    "start_time": "2024-02-11T17:23:21.887Z"
   },
   {
    "duration": 325,
    "start_time": "2024-02-11T17:23:22.082Z"
   },
   {
    "duration": 386,
    "start_time": "2024-02-11T17:23:22.408Z"
   },
   {
    "duration": 293,
    "start_time": "2024-02-11T17:23:48.662Z"
   },
   {
    "duration": 429,
    "start_time": "2024-02-11T17:25:10.178Z"
   },
   {
    "duration": 288,
    "start_time": "2024-02-11T17:28:33.087Z"
   },
   {
    "duration": 285,
    "start_time": "2024-02-11T17:29:20.742Z"
   },
   {
    "duration": 1062,
    "start_time": "2024-02-11T17:30:42.643Z"
   },
   {
    "duration": 76,
    "start_time": "2024-02-11T17:30:43.707Z"
   },
   {
    "duration": 12,
    "start_time": "2024-02-11T17:30:43.785Z"
   },
   {
    "duration": 8,
    "start_time": "2024-02-11T17:30:43.799Z"
   },
   {
    "duration": 7,
    "start_time": "2024-02-11T17:30:43.809Z"
   },
   {
    "duration": 13,
    "start_time": "2024-02-11T17:30:43.818Z"
   },
   {
    "duration": 11,
    "start_time": "2024-02-11T17:30:43.832Z"
   },
   {
    "duration": 15,
    "start_time": "2024-02-11T17:30:43.844Z"
   },
   {
    "duration": 71,
    "start_time": "2024-02-11T17:30:43.861Z"
   },
   {
    "duration": 11,
    "start_time": "2024-02-11T17:30:43.935Z"
   },
   {
    "duration": 26,
    "start_time": "2024-02-11T17:30:43.948Z"
   },
   {
    "duration": 4,
    "start_time": "2024-02-11T17:30:43.975Z"
   },
   {
    "duration": 4,
    "start_time": "2024-02-11T17:30:43.987Z"
   },
   {
    "duration": 14,
    "start_time": "2024-02-11T17:30:43.993Z"
   },
   {
    "duration": 9,
    "start_time": "2024-02-11T17:30:44.009Z"
   },
   {
    "duration": 9,
    "start_time": "2024-02-11T17:30:44.020Z"
   },
   {
    "duration": 13,
    "start_time": "2024-02-11T17:30:44.030Z"
   },
   {
    "duration": 6,
    "start_time": "2024-02-11T17:30:44.044Z"
   },
   {
    "duration": 201,
    "start_time": "2024-02-11T17:30:44.052Z"
   },
   {
    "duration": 132,
    "start_time": "2024-02-11T17:30:44.255Z"
   },
   {
    "duration": 13,
    "start_time": "2024-02-11T17:30:44.389Z"
   },
   {
    "duration": 297,
    "start_time": "2024-02-11T17:30:44.404Z"
   },
   {
    "duration": 188,
    "start_time": "2024-02-11T17:30:44.702Z"
   },
   {
    "duration": 345,
    "start_time": "2024-02-11T17:30:44.892Z"
   },
   {
    "duration": 423,
    "start_time": "2024-02-11T17:30:45.239Z"
   },
   {
    "duration": 1133,
    "start_time": "2024-02-11T17:33:00.510Z"
   },
   {
    "duration": 77,
    "start_time": "2024-02-11T17:33:01.645Z"
   },
   {
    "duration": 12,
    "start_time": "2024-02-11T17:33:01.724Z"
   },
   {
    "duration": 40,
    "start_time": "2024-02-11T17:33:01.738Z"
   },
   {
    "duration": 27,
    "start_time": "2024-02-11T17:33:01.779Z"
   },
   {
    "duration": 48,
    "start_time": "2024-02-11T17:33:01.808Z"
   },
   {
    "duration": 26,
    "start_time": "2024-02-11T17:33:01.858Z"
   },
   {
    "duration": 25,
    "start_time": "2024-02-11T17:33:01.886Z"
   },
   {
    "duration": 98,
    "start_time": "2024-02-11T17:33:01.913Z"
   },
   {
    "duration": 12,
    "start_time": "2024-02-11T17:33:02.014Z"
   },
   {
    "duration": 33,
    "start_time": "2024-02-11T17:33:02.027Z"
   },
   {
    "duration": 11,
    "start_time": "2024-02-11T17:33:02.062Z"
   },
   {
    "duration": 53,
    "start_time": "2024-02-11T17:33:02.075Z"
   },
   {
    "duration": 61,
    "start_time": "2024-02-11T17:33:02.130Z"
   },
   {
    "duration": 49,
    "start_time": "2024-02-11T17:33:02.192Z"
   },
   {
    "duration": 81,
    "start_time": "2024-02-11T17:33:02.243Z"
   },
   {
    "duration": 30,
    "start_time": "2024-02-11T17:33:02.326Z"
   },
   {
    "duration": 11,
    "start_time": "2024-02-11T17:33:02.358Z"
   },
   {
    "duration": 436,
    "start_time": "2024-02-11T17:33:02.370Z"
   },
   {
    "duration": 0,
    "start_time": "2024-02-11T17:33:02.807Z"
   },
   {
    "duration": 0,
    "start_time": "2024-02-11T17:33:02.808Z"
   },
   {
    "duration": 0,
    "start_time": "2024-02-11T17:33:02.809Z"
   },
   {
    "duration": 1,
    "start_time": "2024-02-11T17:33:02.810Z"
   },
   {
    "duration": 0,
    "start_time": "2024-02-11T17:33:02.811Z"
   },
   {
    "duration": 0,
    "start_time": "2024-02-11T17:33:02.813Z"
   },
   {
    "duration": 1048,
    "start_time": "2024-02-11T17:33:46.839Z"
   },
   {
    "duration": 74,
    "start_time": "2024-02-11T17:33:47.889Z"
   },
   {
    "duration": 11,
    "start_time": "2024-02-11T17:33:47.965Z"
   },
   {
    "duration": 22,
    "start_time": "2024-02-11T17:33:47.978Z"
   },
   {
    "duration": 7,
    "start_time": "2024-02-11T17:33:48.002Z"
   },
   {
    "duration": 17,
    "start_time": "2024-02-11T17:33:48.010Z"
   },
   {
    "duration": 26,
    "start_time": "2024-02-11T17:33:48.029Z"
   },
   {
    "duration": 20,
    "start_time": "2024-02-11T17:33:48.057Z"
   },
   {
    "duration": 70,
    "start_time": "2024-02-11T17:33:48.079Z"
   },
   {
    "duration": 10,
    "start_time": "2024-02-11T17:33:48.151Z"
   },
   {
    "duration": 37,
    "start_time": "2024-02-11T17:33:48.163Z"
   },
   {
    "duration": 13,
    "start_time": "2024-02-11T17:33:48.201Z"
   },
   {
    "duration": 8,
    "start_time": "2024-02-11T17:33:48.216Z"
   },
   {
    "duration": 10,
    "start_time": "2024-02-11T17:33:48.227Z"
   },
   {
    "duration": 30,
    "start_time": "2024-02-11T17:33:48.238Z"
   },
   {
    "duration": 10,
    "start_time": "2024-02-11T17:33:48.269Z"
   },
   {
    "duration": 8,
    "start_time": "2024-02-11T17:33:48.281Z"
   },
   {
    "duration": 6,
    "start_time": "2024-02-11T17:33:48.291Z"
   },
   {
    "duration": 400,
    "start_time": "2024-02-11T17:33:48.298Z"
   },
   {
    "duration": 0,
    "start_time": "2024-02-11T17:33:48.699Z"
   },
   {
    "duration": 0,
    "start_time": "2024-02-11T17:33:48.701Z"
   },
   {
    "duration": 0,
    "start_time": "2024-02-11T17:33:48.702Z"
   },
   {
    "duration": 0,
    "start_time": "2024-02-11T17:33:48.702Z"
   },
   {
    "duration": 0,
    "start_time": "2024-02-11T17:33:48.703Z"
   },
   {
    "duration": 0,
    "start_time": "2024-02-11T17:33:48.704Z"
   },
   {
    "duration": 1060,
    "start_time": "2024-02-11T17:34:46.524Z"
   },
   {
    "duration": 73,
    "start_time": "2024-02-11T17:34:47.586Z"
   },
   {
    "duration": 11,
    "start_time": "2024-02-11T17:34:47.661Z"
   },
   {
    "duration": 17,
    "start_time": "2024-02-11T17:34:47.674Z"
   },
   {
    "duration": 29,
    "start_time": "2024-02-11T17:34:47.692Z"
   },
   {
    "duration": 13,
    "start_time": "2024-02-11T17:34:47.722Z"
   },
   {
    "duration": 22,
    "start_time": "2024-02-11T17:34:47.737Z"
   },
   {
    "duration": 15,
    "start_time": "2024-02-11T17:34:47.761Z"
   },
   {
    "duration": 57,
    "start_time": "2024-02-11T17:34:47.777Z"
   },
   {
    "duration": 10,
    "start_time": "2024-02-11T17:34:47.836Z"
   },
   {
    "duration": 33,
    "start_time": "2024-02-11T17:34:47.848Z"
   },
   {
    "duration": 13,
    "start_time": "2024-02-11T17:34:47.883Z"
   },
   {
    "duration": 24,
    "start_time": "2024-02-11T17:34:47.897Z"
   },
   {
    "duration": 5,
    "start_time": "2024-02-11T17:34:47.923Z"
   },
   {
    "duration": 30,
    "start_time": "2024-02-11T17:34:47.929Z"
   },
   {
    "duration": 23,
    "start_time": "2024-02-11T17:34:47.960Z"
   },
   {
    "duration": 19,
    "start_time": "2024-02-11T17:34:47.985Z"
   },
   {
    "duration": 35,
    "start_time": "2024-02-11T17:34:48.006Z"
   },
   {
    "duration": 405,
    "start_time": "2024-02-11T17:34:48.043Z"
   },
   {
    "duration": 0,
    "start_time": "2024-02-11T17:34:48.449Z"
   },
   {
    "duration": 0,
    "start_time": "2024-02-11T17:34:48.451Z"
   },
   {
    "duration": 0,
    "start_time": "2024-02-11T17:34:48.452Z"
   },
   {
    "duration": 0,
    "start_time": "2024-02-11T17:34:48.453Z"
   },
   {
    "duration": 0,
    "start_time": "2024-02-11T17:34:48.454Z"
   },
   {
    "duration": 0,
    "start_time": "2024-02-11T17:34:48.455Z"
   },
   {
    "duration": 1168,
    "start_time": "2024-02-11T17:36:35.193Z"
   },
   {
    "duration": 74,
    "start_time": "2024-02-11T17:36:36.363Z"
   },
   {
    "duration": 16,
    "start_time": "2024-02-11T17:36:36.438Z"
   },
   {
    "duration": 7,
    "start_time": "2024-02-11T17:36:36.455Z"
   },
   {
    "duration": 9,
    "start_time": "2024-02-11T17:36:36.465Z"
   },
   {
    "duration": 11,
    "start_time": "2024-02-11T17:36:36.476Z"
   },
   {
    "duration": 12,
    "start_time": "2024-02-11T17:36:36.489Z"
   },
   {
    "duration": 13,
    "start_time": "2024-02-11T17:36:36.503Z"
   },
   {
    "duration": 54,
    "start_time": "2024-02-11T17:36:36.518Z"
   },
   {
    "duration": 16,
    "start_time": "2024-02-11T17:36:36.574Z"
   },
   {
    "duration": 14,
    "start_time": "2024-02-11T17:36:36.592Z"
   },
   {
    "duration": 5,
    "start_time": "2024-02-11T17:36:36.607Z"
   },
   {
    "duration": 8,
    "start_time": "2024-02-11T17:36:36.613Z"
   },
   {
    "duration": 5,
    "start_time": "2024-02-11T17:36:36.624Z"
   },
   {
    "duration": 12,
    "start_time": "2024-02-11T17:36:36.630Z"
   },
   {
    "duration": 13,
    "start_time": "2024-02-11T17:36:36.643Z"
   },
   {
    "duration": 8,
    "start_time": "2024-02-11T17:36:36.687Z"
   },
   {
    "duration": 11,
    "start_time": "2024-02-11T17:36:36.697Z"
   },
   {
    "duration": 169,
    "start_time": "2024-02-11T17:36:36.710Z"
   },
   {
    "duration": 124,
    "start_time": "2024-02-11T17:36:36.881Z"
   },
   {
    "duration": 12,
    "start_time": "2024-02-11T17:36:37.006Z"
   },
   {
    "duration": 295,
    "start_time": "2024-02-11T17:36:37.019Z"
   },
   {
    "duration": 280,
    "start_time": "2024-02-11T17:36:37.316Z"
   },
   {
    "duration": 391,
    "start_time": "2024-02-11T17:36:37.598Z"
   },
   {
    "duration": 393,
    "start_time": "2024-02-11T17:36:37.991Z"
   },
   {
    "duration": 1227,
    "start_time": "2024-02-11T17:37:44.788Z"
   },
   {
    "duration": 76,
    "start_time": "2024-02-11T17:37:46.017Z"
   },
   {
    "duration": 11,
    "start_time": "2024-02-11T17:37:46.095Z"
   },
   {
    "duration": 7,
    "start_time": "2024-02-11T17:37:46.108Z"
   },
   {
    "duration": 12,
    "start_time": "2024-02-11T17:37:46.117Z"
   },
   {
    "duration": 12,
    "start_time": "2024-02-11T17:37:46.130Z"
   },
   {
    "duration": 13,
    "start_time": "2024-02-11T17:37:46.143Z"
   },
   {
    "duration": 29,
    "start_time": "2024-02-11T17:37:46.158Z"
   },
   {
    "duration": 52,
    "start_time": "2024-02-11T17:37:46.189Z"
   },
   {
    "duration": 11,
    "start_time": "2024-02-11T17:37:46.243Z"
   },
   {
    "duration": 31,
    "start_time": "2024-02-11T17:37:46.256Z"
   },
   {
    "duration": 3,
    "start_time": "2024-02-11T17:37:46.289Z"
   },
   {
    "duration": 6,
    "start_time": "2024-02-11T17:37:46.294Z"
   },
   {
    "duration": 6,
    "start_time": "2024-02-11T17:37:46.301Z"
   },
   {
    "duration": 10,
    "start_time": "2024-02-11T17:37:46.309Z"
   },
   {
    "duration": 25,
    "start_time": "2024-02-11T17:37:46.320Z"
   },
   {
    "duration": 8,
    "start_time": "2024-02-11T17:37:46.347Z"
   },
   {
    "duration": 7,
    "start_time": "2024-02-11T17:37:46.356Z"
   },
   {
    "duration": 178,
    "start_time": "2024-02-11T17:37:46.364Z"
   },
   {
    "duration": 129,
    "start_time": "2024-02-11T17:37:46.543Z"
   },
   {
    "duration": 21,
    "start_time": "2024-02-11T17:37:46.674Z"
   },
   {
    "duration": 274,
    "start_time": "2024-02-11T17:37:46.697Z"
   },
   {
    "duration": 180,
    "start_time": "2024-02-11T17:37:46.973Z"
   },
   {
    "duration": 328,
    "start_time": "2024-02-11T17:37:47.154Z"
   },
   {
    "duration": 377,
    "start_time": "2024-02-11T17:37:47.487Z"
   },
   {
    "duration": 1132,
    "start_time": "2024-02-11T17:38:12.763Z"
   },
   {
    "duration": 80,
    "start_time": "2024-02-11T17:38:13.897Z"
   },
   {
    "duration": 15,
    "start_time": "2024-02-11T17:38:13.979Z"
   },
   {
    "duration": 10,
    "start_time": "2024-02-11T17:38:13.996Z"
   },
   {
    "duration": 12,
    "start_time": "2024-02-11T17:38:14.008Z"
   },
   {
    "duration": 13,
    "start_time": "2024-02-11T17:38:14.021Z"
   },
   {
    "duration": 9,
    "start_time": "2024-02-11T17:38:14.036Z"
   },
   {
    "duration": 10,
    "start_time": "2024-02-11T17:38:14.047Z"
   },
   {
    "duration": 76,
    "start_time": "2024-02-11T17:38:14.058Z"
   },
   {
    "duration": 11,
    "start_time": "2024-02-11T17:38:14.136Z"
   },
   {
    "duration": 13,
    "start_time": "2024-02-11T17:38:14.148Z"
   },
   {
    "duration": 4,
    "start_time": "2024-02-11T17:38:14.162Z"
   },
   {
    "duration": 5,
    "start_time": "2024-02-11T17:38:14.187Z"
   },
   {
    "duration": 9,
    "start_time": "2024-02-11T17:38:14.194Z"
   },
   {
    "duration": 16,
    "start_time": "2024-02-11T17:38:14.206Z"
   },
   {
    "duration": 8,
    "start_time": "2024-02-11T17:38:14.224Z"
   },
   {
    "duration": 9,
    "start_time": "2024-02-11T17:38:14.234Z"
   },
   {
    "duration": 10,
    "start_time": "2024-02-11T17:38:14.245Z"
   },
   {
    "duration": 208,
    "start_time": "2024-02-11T17:38:14.257Z"
   },
   {
    "duration": 131,
    "start_time": "2024-02-11T17:38:14.467Z"
   },
   {
    "duration": 12,
    "start_time": "2024-02-11T17:38:14.599Z"
   },
   {
    "duration": 277,
    "start_time": "2024-02-11T17:38:14.612Z"
   },
   {
    "duration": 179,
    "start_time": "2024-02-11T17:38:14.891Z"
   },
   {
    "duration": 336,
    "start_time": "2024-02-11T17:38:15.072Z"
   },
   {
    "duration": 408,
    "start_time": "2024-02-11T17:38:15.410Z"
   },
   {
    "duration": 339,
    "start_time": "2024-02-11T17:41:44.094Z"
   },
   {
    "duration": 307,
    "start_time": "2024-02-11T17:42:21.529Z"
   },
   {
    "duration": 320,
    "start_time": "2024-02-11T17:43:00.874Z"
   },
   {
    "duration": 338,
    "start_time": "2024-02-11T17:47:21.901Z"
   },
   {
    "duration": 1125,
    "start_time": "2024-02-11T17:55:51.866Z"
   },
   {
    "duration": 75,
    "start_time": "2024-02-11T17:55:52.992Z"
   },
   {
    "duration": 11,
    "start_time": "2024-02-11T17:55:53.069Z"
   },
   {
    "duration": 7,
    "start_time": "2024-02-11T17:55:53.082Z"
   },
   {
    "duration": 7,
    "start_time": "2024-02-11T17:55:53.091Z"
   },
   {
    "duration": 14,
    "start_time": "2024-02-11T17:55:53.099Z"
   },
   {
    "duration": 10,
    "start_time": "2024-02-11T17:55:53.114Z"
   },
   {
    "duration": 12,
    "start_time": "2024-02-11T17:55:53.125Z"
   },
   {
    "duration": 72,
    "start_time": "2024-02-11T17:55:53.138Z"
   },
   {
    "duration": 12,
    "start_time": "2024-02-11T17:55:53.212Z"
   },
   {
    "duration": 12,
    "start_time": "2024-02-11T17:55:53.225Z"
   },
   {
    "duration": 4,
    "start_time": "2024-02-11T17:55:53.239Z"
   },
   {
    "duration": 7,
    "start_time": "2024-02-11T17:55:53.244Z"
   },
   {
    "duration": 8,
    "start_time": "2024-02-11T17:55:53.253Z"
   },
   {
    "duration": 6,
    "start_time": "2024-02-11T17:55:53.288Z"
   },
   {
    "duration": 9,
    "start_time": "2024-02-11T17:55:53.295Z"
   },
   {
    "duration": 9,
    "start_time": "2024-02-11T17:55:53.305Z"
   },
   {
    "duration": 9,
    "start_time": "2024-02-11T17:55:53.315Z"
   },
   {
    "duration": 12,
    "start_time": "2024-02-11T17:55:53.325Z"
   },
   {
    "duration": 179,
    "start_time": "2024-02-11T17:55:53.338Z"
   },
   {
    "duration": 133,
    "start_time": "2024-02-11T17:55:53.518Z"
   },
   {
    "duration": 11,
    "start_time": "2024-02-11T17:55:53.653Z"
   },
   {
    "duration": 279,
    "start_time": "2024-02-11T17:55:53.665Z"
   },
   {
    "duration": 182,
    "start_time": "2024-02-11T17:55:53.946Z"
   },
   {
    "duration": 290,
    "start_time": "2024-02-11T17:55:54.129Z"
   },
   {
    "duration": 430,
    "start_time": "2024-02-11T17:55:54.421Z"
   },
   {
    "duration": 309,
    "start_time": "2024-02-11T17:56:11.389Z"
   },
   {
    "duration": 317,
    "start_time": "2024-02-11T18:04:56.519Z"
   },
   {
    "duration": 320,
    "start_time": "2024-02-11T18:05:08.835Z"
   },
   {
    "duration": 290,
    "start_time": "2024-02-11T18:05:17.434Z"
   },
   {
    "duration": 340,
    "start_time": "2024-02-11T18:05:28.294Z"
   },
   {
    "duration": 6,
    "start_time": "2024-02-11T18:05:48.665Z"
   },
   {
    "duration": 12,
    "start_time": "2024-02-11T18:06:00.534Z"
   },
   {
    "duration": 1363,
    "start_time": "2024-02-11T18:06:39.940Z"
   },
   {
    "duration": 6,
    "start_time": "2024-02-11T18:06:42.985Z"
   },
   {
    "duration": 1109,
    "start_time": "2024-02-11T18:08:34.688Z"
   },
   {
    "duration": 73,
    "start_time": "2024-02-11T18:08:35.799Z"
   },
   {
    "duration": 11,
    "start_time": "2024-02-11T18:08:35.874Z"
   },
   {
    "duration": 20,
    "start_time": "2024-02-11T18:08:35.887Z"
   },
   {
    "duration": 7,
    "start_time": "2024-02-11T18:08:35.909Z"
   },
   {
    "duration": 14,
    "start_time": "2024-02-11T18:08:35.918Z"
   },
   {
    "duration": 14,
    "start_time": "2024-02-11T18:08:35.934Z"
   },
   {
    "duration": 13,
    "start_time": "2024-02-11T18:08:35.950Z"
   },
   {
    "duration": 59,
    "start_time": "2024-02-11T18:08:35.965Z"
   },
   {
    "duration": 11,
    "start_time": "2024-02-11T18:08:36.026Z"
   },
   {
    "duration": 37,
    "start_time": "2024-02-11T18:08:36.039Z"
   },
   {
    "duration": 23,
    "start_time": "2024-02-11T18:08:36.078Z"
   },
   {
    "duration": 9,
    "start_time": "2024-02-11T18:08:36.103Z"
   },
   {
    "duration": 17,
    "start_time": "2024-02-11T18:08:36.114Z"
   },
   {
    "duration": 27,
    "start_time": "2024-02-11T18:08:36.133Z"
   },
   {
    "duration": 22,
    "start_time": "2024-02-11T18:08:36.161Z"
   },
   {
    "duration": 49,
    "start_time": "2024-02-11T18:08:36.185Z"
   },
   {
    "duration": 22,
    "start_time": "2024-02-11T18:08:36.235Z"
   },
   {
    "duration": 20,
    "start_time": "2024-02-11T18:08:36.258Z"
   },
   {
    "duration": 175,
    "start_time": "2024-02-11T18:08:36.279Z"
   },
   {
    "duration": 113,
    "start_time": "2024-02-11T18:08:36.456Z"
   },
   {
    "duration": 17,
    "start_time": "2024-02-11T18:08:36.571Z"
   },
   {
    "duration": 276,
    "start_time": "2024-02-11T18:08:36.590Z"
   },
   {
    "duration": 175,
    "start_time": "2024-02-11T18:08:36.868Z"
   },
   {
    "duration": 316,
    "start_time": "2024-02-11T18:08:37.045Z"
   },
   {
    "duration": 199,
    "start_time": "2024-02-11T18:08:37.362Z"
   },
   {
    "duration": 5,
    "start_time": "2024-02-11T18:08:37.563Z"
   },
   {
    "duration": 16,
    "start_time": "2024-02-11T18:08:37.571Z"
   },
   {
    "duration": 61,
    "start_time": "2024-02-12T07:48:16.662Z"
   },
   {
    "duration": 1383,
    "start_time": "2024-02-12T07:48:27.326Z"
   },
   {
    "duration": 187,
    "start_time": "2024-02-12T07:48:28.712Z"
   },
   {
    "duration": 12,
    "start_time": "2024-02-12T07:48:28.901Z"
   },
   {
    "duration": 7,
    "start_time": "2024-02-12T07:48:28.915Z"
   },
   {
    "duration": 24,
    "start_time": "2024-02-12T07:48:28.924Z"
   },
   {
    "duration": 24,
    "start_time": "2024-02-12T07:48:28.950Z"
   },
   {
    "duration": 16,
    "start_time": "2024-02-12T07:48:28.976Z"
   },
   {
    "duration": 27,
    "start_time": "2024-02-12T07:48:28.994Z"
   },
   {
    "duration": 54,
    "start_time": "2024-02-12T07:48:29.023Z"
   },
   {
    "duration": 12,
    "start_time": "2024-02-12T07:48:29.078Z"
   },
   {
    "duration": 25,
    "start_time": "2024-02-12T07:48:29.091Z"
   },
   {
    "duration": 10,
    "start_time": "2024-02-12T07:48:29.117Z"
   },
   {
    "duration": 7,
    "start_time": "2024-02-12T07:48:29.129Z"
   },
   {
    "duration": 8,
    "start_time": "2024-02-12T07:48:29.138Z"
   },
   {
    "duration": 8,
    "start_time": "2024-02-12T07:48:29.148Z"
   },
   {
    "duration": 17,
    "start_time": "2024-02-12T07:48:29.157Z"
   },
   {
    "duration": 20,
    "start_time": "2024-02-12T07:48:29.180Z"
   },
   {
    "duration": 8,
    "start_time": "2024-02-12T07:48:29.202Z"
   },
   {
    "duration": 22,
    "start_time": "2024-02-12T07:48:29.211Z"
   },
   {
    "duration": 170,
    "start_time": "2024-02-12T07:48:29.234Z"
   },
   {
    "duration": 136,
    "start_time": "2024-02-12T07:48:29.406Z"
   },
   {
    "duration": 10,
    "start_time": "2024-02-12T07:48:29.544Z"
   },
   {
    "duration": 289,
    "start_time": "2024-02-12T07:48:29.556Z"
   },
   {
    "duration": 212,
    "start_time": "2024-02-12T07:48:29.846Z"
   },
   {
    "duration": 367,
    "start_time": "2024-02-12T07:48:30.059Z"
   },
   {
    "duration": 233,
    "start_time": "2024-02-12T07:48:30.428Z"
   },
   {
    "duration": 364,
    "start_time": "2024-02-12T09:25:09.270Z"
   },
   {
    "duration": 307,
    "start_time": "2024-02-12T09:25:30.918Z"
   },
   {
    "duration": 351,
    "start_time": "2024-02-12T09:25:52.147Z"
   },
   {
    "duration": 382,
    "start_time": "2024-02-12T09:26:40.062Z"
   },
   {
    "duration": 11,
    "start_time": "2024-02-12T09:33:52.156Z"
   },
   {
    "duration": 204,
    "start_time": "2024-02-12T09:34:48.797Z"
   },
   {
    "duration": 113,
    "start_time": "2024-02-12T09:35:00.632Z"
   },
   {
    "duration": 113,
    "start_time": "2024-02-12T09:35:42.201Z"
   },
   {
    "duration": 314,
    "start_time": "2024-02-12T09:36:08.936Z"
   },
   {
    "duration": 348,
    "start_time": "2024-02-12T09:36:24.308Z"
   },
   {
    "duration": 126,
    "start_time": "2024-02-12T09:36:34.281Z"
   },
   {
    "duration": 161,
    "start_time": "2024-02-12T09:47:10.235Z"
   },
   {
    "duration": 12,
    "start_time": "2024-02-12T09:47:28.286Z"
   },
   {
    "duration": 5,
    "start_time": "2024-02-12T09:50:21.146Z"
   },
   {
    "duration": 5,
    "start_time": "2024-02-12T09:50:56.490Z"
   },
   {
    "duration": 136,
    "start_time": "2024-02-12T09:55:39.132Z"
   },
   {
    "duration": 5,
    "start_time": "2024-02-12T09:59:46.870Z"
   },
   {
    "duration": 131,
    "start_time": "2024-02-12T10:02:29.830Z"
   },
   {
    "duration": 55,
    "start_time": "2024-02-12T10:02:40.460Z"
   },
   {
    "duration": 156,
    "start_time": "2024-02-12T10:02:52.000Z"
   },
   {
    "duration": 409,
    "start_time": "2024-02-12T10:30:27.183Z"
   },
   {
    "duration": 387,
    "start_time": "2024-02-12T10:30:45.711Z"
   },
   {
    "duration": 419,
    "start_time": "2024-02-12T10:34:48.153Z"
   },
   {
    "duration": 246,
    "start_time": "2024-02-12T10:40:09.452Z"
   },
   {
    "duration": 133,
    "start_time": "2024-02-12T13:33:49.236Z"
   },
   {
    "duration": 34,
    "start_time": "2024-02-12T13:35:05.353Z"
   },
   {
    "duration": 11,
    "start_time": "2024-02-12T13:36:59.053Z"
   },
   {
    "duration": 37,
    "start_time": "2024-02-12T13:53:05.955Z"
   },
   {
    "duration": 12,
    "start_time": "2024-02-12T14:06:53.086Z"
   },
   {
    "duration": 28,
    "start_time": "2024-02-12T14:06:55.064Z"
   },
   {
    "duration": 25,
    "start_time": "2024-02-12T14:08:05.606Z"
   },
   {
    "duration": 15,
    "start_time": "2024-02-12T14:13:23.178Z"
   },
   {
    "duration": 6,
    "start_time": "2024-02-12T14:42:09.816Z"
   },
   {
    "duration": 5,
    "start_time": "2024-02-12T14:42:26.935Z"
   },
   {
    "duration": 5,
    "start_time": "2024-02-12T14:43:20.202Z"
   },
   {
    "duration": 4,
    "start_time": "2024-02-12T14:43:26.566Z"
   },
   {
    "duration": 5,
    "start_time": "2024-02-12T14:43:45.685Z"
   },
   {
    "duration": 305,
    "start_time": "2024-02-12T14:52:22.437Z"
   },
   {
    "duration": 322,
    "start_time": "2024-02-12T14:54:14.307Z"
   },
   {
    "duration": 1096,
    "start_time": "2024-02-12T15:19:13.606Z"
   },
   {
    "duration": 74,
    "start_time": "2024-02-12T15:19:14.704Z"
   },
   {
    "duration": 12,
    "start_time": "2024-02-12T15:19:14.779Z"
   },
   {
    "duration": 8,
    "start_time": "2024-02-12T15:19:14.793Z"
   },
   {
    "duration": 9,
    "start_time": "2024-02-12T15:19:14.802Z"
   },
   {
    "duration": 11,
    "start_time": "2024-02-12T15:19:14.812Z"
   },
   {
    "duration": 15,
    "start_time": "2024-02-12T15:19:14.825Z"
   },
   {
    "duration": 40,
    "start_time": "2024-02-12T15:19:14.842Z"
   },
   {
    "duration": 58,
    "start_time": "2024-02-12T15:19:14.883Z"
   },
   {
    "duration": 11,
    "start_time": "2024-02-12T15:19:14.943Z"
   },
   {
    "duration": 32,
    "start_time": "2024-02-12T15:19:14.956Z"
   },
   {
    "duration": 4,
    "start_time": "2024-02-12T15:19:14.990Z"
   },
   {
    "duration": 20,
    "start_time": "2024-02-12T15:19:14.996Z"
   },
   {
    "duration": 37,
    "start_time": "2024-02-12T15:19:15.017Z"
   },
   {
    "duration": 14,
    "start_time": "2024-02-12T15:19:15.055Z"
   },
   {
    "duration": 79,
    "start_time": "2024-02-12T15:19:15.070Z"
   },
   {
    "duration": 46,
    "start_time": "2024-02-12T15:19:15.150Z"
   },
   {
    "duration": 17,
    "start_time": "2024-02-12T15:19:15.197Z"
   },
   {
    "duration": 23,
    "start_time": "2024-02-12T15:19:15.216Z"
   },
   {
    "duration": 207,
    "start_time": "2024-02-12T15:19:15.241Z"
   },
   {
    "duration": 146,
    "start_time": "2024-02-12T15:19:15.449Z"
   },
   {
    "duration": 10,
    "start_time": "2024-02-12T15:19:15.597Z"
   },
   {
    "duration": 279,
    "start_time": "2024-02-12T15:19:15.609Z"
   },
   {
    "duration": 190,
    "start_time": "2024-02-12T15:19:15.890Z"
   },
   {
    "duration": 327,
    "start_time": "2024-02-12T15:19:16.081Z"
   },
   {
    "duration": 211,
    "start_time": "2024-02-12T15:19:16.409Z"
   },
   {
    "duration": 315,
    "start_time": "2024-02-12T15:19:16.621Z"
   },
   {
    "duration": 11,
    "start_time": "2024-02-12T15:19:16.940Z"
   },
   {
    "duration": 129,
    "start_time": "2024-02-12T15:19:16.953Z"
   },
   {
    "duration": 4,
    "start_time": "2024-02-12T15:19:17.083Z"
   },
   {
    "duration": 160,
    "start_time": "2024-02-12T15:19:17.089Z"
   },
   {
    "duration": 4,
    "start_time": "2024-02-12T15:19:17.250Z"
   },
   {
    "duration": 241,
    "start_time": "2024-02-12T15:19:17.255Z"
   },
   {
    "duration": 148,
    "start_time": "2024-02-12T15:19:17.498Z"
   },
   {
    "duration": 40,
    "start_time": "2024-02-12T15:19:17.647Z"
   },
   {
    "duration": 11,
    "start_time": "2024-02-12T15:19:17.689Z"
   },
   {
    "duration": 13,
    "start_time": "2024-02-12T15:19:17.702Z"
   },
   {
    "duration": 35,
    "start_time": "2024-02-12T15:19:17.717Z"
   },
   {
    "duration": 34,
    "start_time": "2024-02-12T15:19:17.754Z"
   },
   {
    "duration": 404,
    "start_time": "2024-02-12T15:20:07.796Z"
   },
   {
    "duration": 301,
    "start_time": "2024-02-12T15:20:57.331Z"
   },
   {
    "duration": 330,
    "start_time": "2024-02-12T15:21:27.305Z"
   },
   {
    "duration": 375,
    "start_time": "2024-02-12T15:21:37.757Z"
   },
   {
    "duration": 1267,
    "start_time": "2024-02-13T08:24:15.207Z"
   },
   {
    "duration": 189,
    "start_time": "2024-02-13T08:24:16.476Z"
   },
   {
    "duration": 15,
    "start_time": "2024-02-13T08:24:16.667Z"
   },
   {
    "duration": 10,
    "start_time": "2024-02-13T08:24:16.684Z"
   },
   {
    "duration": 8,
    "start_time": "2024-02-13T08:24:16.696Z"
   },
   {
    "duration": 11,
    "start_time": "2024-02-13T08:24:16.706Z"
   },
   {
    "duration": 13,
    "start_time": "2024-02-13T08:24:16.718Z"
   },
   {
    "duration": 12,
    "start_time": "2024-02-13T08:24:16.732Z"
   },
   {
    "duration": 57,
    "start_time": "2024-02-13T08:24:16.745Z"
   },
   {
    "duration": 13,
    "start_time": "2024-02-13T08:24:16.817Z"
   },
   {
    "duration": 10,
    "start_time": "2024-02-13T08:24:16.831Z"
   },
   {
    "duration": 3,
    "start_time": "2024-02-13T08:24:16.843Z"
   },
   {
    "duration": 6,
    "start_time": "2024-02-13T08:24:16.848Z"
   },
   {
    "duration": 6,
    "start_time": "2024-02-13T08:24:16.857Z"
   },
   {
    "duration": 7,
    "start_time": "2024-02-13T08:24:16.864Z"
   },
   {
    "duration": 9,
    "start_time": "2024-02-13T08:24:16.872Z"
   },
   {
    "duration": 40,
    "start_time": "2024-02-13T08:24:16.882Z"
   },
   {
    "duration": 9,
    "start_time": "2024-02-13T08:24:16.923Z"
   },
   {
    "duration": 8,
    "start_time": "2024-02-13T08:24:16.933Z"
   },
   {
    "duration": 177,
    "start_time": "2024-02-13T08:24:16.943Z"
   },
   {
    "duration": 125,
    "start_time": "2024-02-13T08:24:17.121Z"
   },
   {
    "duration": 9,
    "start_time": "2024-02-13T08:24:17.247Z"
   },
   {
    "duration": 260,
    "start_time": "2024-02-13T08:24:17.257Z"
   },
   {
    "duration": 174,
    "start_time": "2024-02-13T08:24:17.518Z"
   },
   {
    "duration": 384,
    "start_time": "2024-02-13T08:24:17.694Z"
   },
   {
    "duration": 191,
    "start_time": "2024-02-13T08:24:18.080Z"
   },
   {
    "duration": 336,
    "start_time": "2024-02-13T08:24:18.273Z"
   },
   {
    "duration": 16,
    "start_time": "2024-02-13T08:24:18.611Z"
   },
   {
    "duration": 108,
    "start_time": "2024-02-13T08:24:18.628Z"
   },
   {
    "duration": 4,
    "start_time": "2024-02-13T08:24:18.738Z"
   },
   {
    "duration": 130,
    "start_time": "2024-02-13T08:24:18.743Z"
   },
   {
    "duration": 4,
    "start_time": "2024-02-13T08:24:18.874Z"
   },
   {
    "duration": 219,
    "start_time": "2024-02-13T08:24:18.880Z"
   },
   {
    "duration": 169,
    "start_time": "2024-02-13T08:24:19.101Z"
   },
   {
    "duration": 52,
    "start_time": "2024-02-13T08:24:19.272Z"
   },
   {
    "duration": 13,
    "start_time": "2024-02-13T08:24:19.326Z"
   },
   {
    "duration": 11,
    "start_time": "2024-02-13T08:24:19.341Z"
   },
   {
    "duration": 31,
    "start_time": "2024-02-13T08:24:19.353Z"
   },
   {
    "duration": 32,
    "start_time": "2024-02-13T08:24:19.386Z"
   },
   {
    "duration": 3,
    "start_time": "2024-02-13T08:32:13.822Z"
   },
   {
    "duration": 12,
    "start_time": "2024-02-13T08:32:33.332Z"
   },
   {
    "duration": 12,
    "start_time": "2024-02-13T08:33:38.762Z"
   },
   {
    "duration": 93,
    "start_time": "2024-02-13T08:34:09.637Z"
   },
   {
    "duration": 3,
    "start_time": "2024-02-13T08:34:18.507Z"
   },
   {
    "duration": 11,
    "start_time": "2024-02-13T08:34:20.518Z"
   },
   {
    "duration": 12,
    "start_time": "2024-02-13T08:34:36.587Z"
   },
   {
    "duration": 11,
    "start_time": "2024-02-13T08:34:49.458Z"
   },
   {
    "duration": 1086,
    "start_time": "2024-02-13T08:36:19.027Z"
   },
   {
    "duration": 72,
    "start_time": "2024-02-13T08:36:20.115Z"
   },
   {
    "duration": 3,
    "start_time": "2024-02-13T08:36:20.189Z"
   },
   {
    "duration": 14,
    "start_time": "2024-02-13T08:36:20.194Z"
   },
   {
    "duration": 14,
    "start_time": "2024-02-13T08:36:20.210Z"
   },
   {
    "duration": 10,
    "start_time": "2024-02-13T08:36:20.225Z"
   },
   {
    "duration": 4,
    "start_time": "2024-02-13T08:36:20.236Z"
   },
   {
    "duration": 8,
    "start_time": "2024-02-13T08:36:20.241Z"
   },
   {
    "duration": 4,
    "start_time": "2024-02-13T08:36:20.250Z"
   },
   {
    "duration": 8,
    "start_time": "2024-02-13T08:36:20.255Z"
   },
   {
    "duration": 11,
    "start_time": "2024-02-13T08:36:20.264Z"
   },
   {
    "duration": 7,
    "start_time": "2024-02-13T08:36:20.277Z"
   },
   {
    "duration": 8,
    "start_time": "2024-02-13T08:36:20.318Z"
   },
   {
    "duration": 6,
    "start_time": "2024-02-13T08:36:20.328Z"
   },
   {
    "duration": 175,
    "start_time": "2024-02-13T08:36:20.335Z"
   },
   {
    "duration": 127,
    "start_time": "2024-02-13T08:36:20.512Z"
   },
   {
    "duration": 10,
    "start_time": "2024-02-13T08:36:20.640Z"
   },
   {
    "duration": 286,
    "start_time": "2024-02-13T08:36:20.652Z"
   },
   {
    "duration": 178,
    "start_time": "2024-02-13T08:36:20.939Z"
   },
   {
    "duration": 348,
    "start_time": "2024-02-13T08:36:21.119Z"
   },
   {
    "duration": 197,
    "start_time": "2024-02-13T08:36:21.468Z"
   },
   {
    "duration": 322,
    "start_time": "2024-02-13T08:36:21.667Z"
   },
   {
    "duration": 14,
    "start_time": "2024-02-13T08:36:21.991Z"
   },
   {
    "duration": 130,
    "start_time": "2024-02-13T08:36:22.019Z"
   },
   {
    "duration": 5,
    "start_time": "2024-02-13T08:36:22.151Z"
   },
   {
    "duration": 149,
    "start_time": "2024-02-13T08:36:22.157Z"
   },
   {
    "duration": 12,
    "start_time": "2024-02-13T08:36:22.307Z"
   },
   {
    "duration": 206,
    "start_time": "2024-02-13T08:36:22.321Z"
   },
   {
    "duration": 131,
    "start_time": "2024-02-13T08:36:22.529Z"
   },
   {
    "duration": 27,
    "start_time": "2024-02-13T08:36:22.662Z"
   },
   {
    "duration": 9,
    "start_time": "2024-02-13T08:36:22.690Z"
   },
   {
    "duration": 24,
    "start_time": "2024-02-13T08:36:22.701Z"
   },
   {
    "duration": 23,
    "start_time": "2024-02-13T08:36:22.727Z"
   },
   {
    "duration": 12,
    "start_time": "2024-02-13T08:36:22.752Z"
   },
   {
    "duration": 91,
    "start_time": "2024-02-13T08:38:09.161Z"
   },
   {
    "duration": 8,
    "start_time": "2024-02-13T08:39:12.192Z"
   },
   {
    "duration": 8,
    "start_time": "2024-02-13T08:40:00.441Z"
   },
   {
    "duration": 8,
    "start_time": "2024-02-13T08:40:18.203Z"
   },
   {
    "duration": 8,
    "start_time": "2024-02-13T08:40:29.317Z"
   },
   {
    "duration": 1009,
    "start_time": "2024-02-13T08:40:50.173Z"
   },
   {
    "duration": 71,
    "start_time": "2024-02-13T08:40:51.183Z"
   },
   {
    "duration": 3,
    "start_time": "2024-02-13T08:40:51.255Z"
   },
   {
    "duration": 13,
    "start_time": "2024-02-13T08:40:51.260Z"
   },
   {
    "duration": 11,
    "start_time": "2024-02-13T08:40:51.274Z"
   },
   {
    "duration": 11,
    "start_time": "2024-02-13T08:40:51.286Z"
   },
   {
    "duration": 4,
    "start_time": "2024-02-13T08:40:51.298Z"
   },
   {
    "duration": 11,
    "start_time": "2024-02-13T08:40:51.304Z"
   },
   {
    "duration": 6,
    "start_time": "2024-02-13T08:40:51.316Z"
   },
   {
    "duration": 7,
    "start_time": "2024-02-13T08:40:51.324Z"
   },
   {
    "duration": 9,
    "start_time": "2024-02-13T08:40:51.332Z"
   },
   {
    "duration": 7,
    "start_time": "2024-02-13T08:40:51.343Z"
   },
   {
    "duration": 7,
    "start_time": "2024-02-13T08:40:51.351Z"
   },
   {
    "duration": 7,
    "start_time": "2024-02-13T08:40:51.359Z"
   },
   {
    "duration": 168,
    "start_time": "2024-02-13T08:40:51.367Z"
   },
   {
    "duration": 118,
    "start_time": "2024-02-13T08:40:51.537Z"
   },
   {
    "duration": 10,
    "start_time": "2024-02-13T08:40:51.657Z"
   },
   {
    "duration": 255,
    "start_time": "2024-02-13T08:40:51.668Z"
   },
   {
    "duration": 189,
    "start_time": "2024-02-13T08:40:51.924Z"
   },
   {
    "duration": 329,
    "start_time": "2024-02-13T08:40:52.117Z"
   },
   {
    "duration": 181,
    "start_time": "2024-02-13T08:40:52.448Z"
   },
   {
    "duration": 324,
    "start_time": "2024-02-13T08:40:52.631Z"
   },
   {
    "duration": 11,
    "start_time": "2024-02-13T08:40:52.956Z"
   },
   {
    "duration": 108,
    "start_time": "2024-02-13T08:40:52.968Z"
   },
   {
    "duration": 4,
    "start_time": "2024-02-13T08:40:53.077Z"
   },
   {
    "duration": 126,
    "start_time": "2024-02-13T08:40:53.082Z"
   },
   {
    "duration": 10,
    "start_time": "2024-02-13T08:40:53.209Z"
   },
   {
    "duration": 202,
    "start_time": "2024-02-13T08:40:53.222Z"
   },
   {
    "duration": 135,
    "start_time": "2024-02-13T08:40:53.425Z"
   },
   {
    "duration": 27,
    "start_time": "2024-02-13T08:40:53.562Z"
   },
   {
    "duration": 10,
    "start_time": "2024-02-13T08:40:53.590Z"
   },
   {
    "duration": 25,
    "start_time": "2024-02-13T08:40:53.602Z"
   },
   {
    "duration": 24,
    "start_time": "2024-02-13T08:40:53.628Z"
   },
   {
    "duration": 12,
    "start_time": "2024-02-13T08:40:53.654Z"
   },
   {
    "duration": 10,
    "start_time": "2024-02-13T08:43:16.048Z"
   },
   {
    "duration": 97,
    "start_time": "2024-02-13T08:44:20.900Z"
   },
   {
    "duration": 10,
    "start_time": "2024-02-13T08:44:26.396Z"
   },
   {
    "duration": 11,
    "start_time": "2024-02-13T08:44:40.733Z"
   },
   {
    "duration": 6,
    "start_time": "2024-02-13T08:46:15.958Z"
   },
   {
    "duration": 10,
    "start_time": "2024-02-13T08:46:26.543Z"
   },
   {
    "duration": 97,
    "start_time": "2024-02-13T08:46:36.208Z"
   },
   {
    "duration": 10,
    "start_time": "2024-02-13T08:46:45.088Z"
   },
   {
    "duration": 10,
    "start_time": "2024-02-13T08:46:54.129Z"
   },
   {
    "duration": 12,
    "start_time": "2024-02-13T08:46:58.538Z"
   },
   {
    "duration": 12,
    "start_time": "2024-02-13T08:47:20.192Z"
   },
   {
    "duration": 12,
    "start_time": "2024-02-13T08:47:35.788Z"
   },
   {
    "duration": 10,
    "start_time": "2024-02-13T08:47:38.988Z"
   },
   {
    "duration": 11,
    "start_time": "2024-02-13T08:47:41.614Z"
   },
   {
    "duration": 3,
    "start_time": "2024-02-13T08:48:56.488Z"
   },
   {
    "duration": 3,
    "start_time": "2024-02-13T08:49:00.328Z"
   },
   {
    "duration": 11,
    "start_time": "2024-02-13T08:49:00.978Z"
   },
   {
    "duration": 3,
    "start_time": "2024-02-13T08:49:34.673Z"
   },
   {
    "duration": 18,
    "start_time": "2024-02-13T08:49:35.399Z"
   },
   {
    "duration": 2,
    "start_time": "2024-02-13T08:49:50.379Z"
   },
   {
    "duration": 15,
    "start_time": "2024-02-13T08:49:50.818Z"
   },
   {
    "duration": 3,
    "start_time": "2024-02-13T08:51:18.273Z"
   },
   {
    "duration": 17,
    "start_time": "2024-02-13T08:51:19.278Z"
   },
   {
    "duration": 3,
    "start_time": "2024-02-13T08:51:44.693Z"
   },
   {
    "duration": 18,
    "start_time": "2024-02-13T08:51:45.114Z"
   },
   {
    "duration": 3,
    "start_time": "2024-02-13T08:53:38.343Z"
   },
   {
    "duration": 22,
    "start_time": "2024-02-13T08:53:39.404Z"
   },
   {
    "duration": 1075,
    "start_time": "2024-02-13T08:54:22.018Z"
   },
   {
    "duration": 71,
    "start_time": "2024-02-13T08:54:23.095Z"
   },
   {
    "duration": 3,
    "start_time": "2024-02-13T08:54:23.168Z"
   },
   {
    "duration": 27,
    "start_time": "2024-02-13T08:54:23.173Z"
   },
   {
    "duration": 20,
    "start_time": "2024-02-13T08:54:23.201Z"
   },
   {
    "duration": 17,
    "start_time": "2024-02-13T08:54:23.222Z"
   },
   {
    "duration": 6,
    "start_time": "2024-02-13T08:54:23.240Z"
   },
   {
    "duration": 8,
    "start_time": "2024-02-13T08:54:23.248Z"
   },
   {
    "duration": 4,
    "start_time": "2024-02-13T08:54:23.257Z"
   },
   {
    "duration": 9,
    "start_time": "2024-02-13T08:54:23.263Z"
   },
   {
    "duration": 22,
    "start_time": "2024-02-13T08:54:23.273Z"
   },
   {
    "duration": 10,
    "start_time": "2024-02-13T08:54:23.318Z"
   },
   {
    "duration": 10,
    "start_time": "2024-02-13T08:54:23.330Z"
   },
   {
    "duration": 5,
    "start_time": "2024-02-13T08:54:23.342Z"
   },
   {
    "duration": 170,
    "start_time": "2024-02-13T08:54:23.348Z"
   },
   {
    "duration": 126,
    "start_time": "2024-02-13T08:54:23.520Z"
   },
   {
    "duration": 8,
    "start_time": "2024-02-13T08:54:23.648Z"
   },
   {
    "duration": 246,
    "start_time": "2024-02-13T08:54:23.658Z"
   },
   {
    "duration": 164,
    "start_time": "2024-02-13T08:54:23.906Z"
   },
   {
    "duration": 298,
    "start_time": "2024-02-13T08:54:24.071Z"
   },
   {
    "duration": 209,
    "start_time": "2024-02-13T08:54:24.370Z"
   },
   {
    "duration": 356,
    "start_time": "2024-02-13T08:54:24.580Z"
   },
   {
    "duration": 11,
    "start_time": "2024-02-13T08:54:24.937Z"
   },
   {
    "duration": 115,
    "start_time": "2024-02-13T08:54:24.949Z"
   },
   {
    "duration": 4,
    "start_time": "2024-02-13T08:54:25.065Z"
   },
   {
    "duration": 124,
    "start_time": "2024-02-13T08:54:25.070Z"
   },
   {
    "duration": 4,
    "start_time": "2024-02-13T08:54:25.195Z"
   },
   {
    "duration": 207,
    "start_time": "2024-02-13T08:54:25.202Z"
   },
   {
    "duration": 131,
    "start_time": "2024-02-13T08:54:25.411Z"
   },
   {
    "duration": 26,
    "start_time": "2024-02-13T08:54:25.544Z"
   },
   {
    "duration": 9,
    "start_time": "2024-02-13T08:54:25.572Z"
   },
   {
    "duration": 11,
    "start_time": "2024-02-13T08:54:25.583Z"
   },
   {
    "duration": 24,
    "start_time": "2024-02-13T08:54:25.617Z"
   },
   {
    "duration": 12,
    "start_time": "2024-02-13T08:54:25.643Z"
   },
   {
    "duration": 1031,
    "start_time": "2024-02-13T08:55:26.341Z"
   },
   {
    "duration": 72,
    "start_time": "2024-02-13T08:55:27.374Z"
   },
   {
    "duration": 3,
    "start_time": "2024-02-13T08:55:27.447Z"
   },
   {
    "duration": 29,
    "start_time": "2024-02-13T08:55:27.451Z"
   },
   {
    "duration": 16,
    "start_time": "2024-02-13T08:55:27.482Z"
   },
   {
    "duration": 15,
    "start_time": "2024-02-13T08:55:27.500Z"
   },
   {
    "duration": 4,
    "start_time": "2024-02-13T08:55:27.516Z"
   },
   {
    "duration": 5,
    "start_time": "2024-02-13T08:55:27.521Z"
   },
   {
    "duration": 5,
    "start_time": "2024-02-13T08:55:27.528Z"
   },
   {
    "duration": 6,
    "start_time": "2024-02-13T08:55:27.534Z"
   },
   {
    "duration": 22,
    "start_time": "2024-02-13T08:55:27.542Z"
   },
   {
    "duration": 10,
    "start_time": "2024-02-13T08:55:27.565Z"
   },
   {
    "duration": 14,
    "start_time": "2024-02-13T08:55:27.576Z"
   },
   {
    "duration": 26,
    "start_time": "2024-02-13T08:55:27.594Z"
   },
   {
    "duration": 164,
    "start_time": "2024-02-13T08:55:27.622Z"
   },
   {
    "duration": 113,
    "start_time": "2024-02-13T08:55:27.788Z"
   },
   {
    "duration": 19,
    "start_time": "2024-02-13T08:55:27.903Z"
   },
   {
    "duration": 254,
    "start_time": "2024-02-13T08:55:27.923Z"
   },
   {
    "duration": 178,
    "start_time": "2024-02-13T08:55:28.178Z"
   },
   {
    "duration": 306,
    "start_time": "2024-02-13T08:55:28.357Z"
   },
   {
    "duration": 173,
    "start_time": "2024-02-13T08:55:28.664Z"
   },
   {
    "duration": 329,
    "start_time": "2024-02-13T08:55:28.838Z"
   },
   {
    "duration": 11,
    "start_time": "2024-02-13T08:55:29.168Z"
   },
   {
    "duration": 117,
    "start_time": "2024-02-13T08:55:29.180Z"
   },
   {
    "duration": 4,
    "start_time": "2024-02-13T08:55:29.298Z"
   },
   {
    "duration": 124,
    "start_time": "2024-02-13T08:55:29.303Z"
   },
   {
    "duration": 4,
    "start_time": "2024-02-13T08:55:29.428Z"
   },
   {
    "duration": 226,
    "start_time": "2024-02-13T08:55:29.433Z"
   },
   {
    "duration": 137,
    "start_time": "2024-02-13T08:55:29.660Z"
   },
   {
    "duration": 32,
    "start_time": "2024-02-13T08:55:29.799Z"
   },
   {
    "duration": 9,
    "start_time": "2024-02-13T08:55:29.832Z"
   },
   {
    "duration": 11,
    "start_time": "2024-02-13T08:55:29.843Z"
   },
   {
    "duration": 39,
    "start_time": "2024-02-13T08:55:29.855Z"
   },
   {
    "duration": 23,
    "start_time": "2024-02-13T08:55:29.895Z"
   },
   {
    "duration": 90,
    "start_time": "2024-02-13T08:56:25.007Z"
   },
   {
    "duration": 17,
    "start_time": "2024-02-13T08:56:25.546Z"
   },
   {
    "duration": 3,
    "start_time": "2024-02-13T08:56:35.187Z"
   },
   {
    "duration": 17,
    "start_time": "2024-02-13T08:56:36.882Z"
   },
   {
    "duration": 16,
    "start_time": "2024-02-13T08:56:39.562Z"
   },
   {
    "duration": 17,
    "start_time": "2024-02-13T08:56:46.917Z"
   },
   {
    "duration": 4,
    "start_time": "2024-02-13T08:57:28.121Z"
   },
   {
    "duration": 18,
    "start_time": "2024-02-13T08:57:28.627Z"
   },
   {
    "duration": 4,
    "start_time": "2024-02-13T08:57:35.687Z"
   },
   {
    "duration": 15,
    "start_time": "2024-02-13T08:57:39.722Z"
   },
   {
    "duration": 18,
    "start_time": "2024-02-13T08:57:40.680Z"
   },
   {
    "duration": 9,
    "start_time": "2024-02-13T09:02:59.452Z"
   },
   {
    "duration": 165,
    "start_time": "2024-02-13T09:03:21.166Z"
   },
   {
    "duration": 355,
    "start_time": "2024-02-13T09:05:05.266Z"
   },
   {
    "duration": 203,
    "start_time": "2024-02-13T09:05:44.317Z"
   },
   {
    "duration": 214,
    "start_time": "2024-02-13T09:06:08.442Z"
   },
   {
    "duration": 184,
    "start_time": "2024-02-13T09:06:12.927Z"
   },
   {
    "duration": 212,
    "start_time": "2024-02-13T09:07:11.636Z"
   },
   {
    "duration": 186,
    "start_time": "2024-02-13T09:07:22.237Z"
   },
   {
    "duration": 206,
    "start_time": "2024-02-13T09:07:31.819Z"
   },
   {
    "duration": 306,
    "start_time": "2024-02-13T09:08:12.477Z"
   },
   {
    "duration": 319,
    "start_time": "2024-02-13T09:08:48.362Z"
   },
   {
    "duration": 280,
    "start_time": "2024-02-13T09:09:03.266Z"
   },
   {
    "duration": 317,
    "start_time": "2024-02-13T09:09:23.927Z"
   },
   {
    "duration": 381,
    "start_time": "2024-02-13T09:09:35.308Z"
   },
   {
    "duration": 323,
    "start_time": "2024-02-13T09:09:53.614Z"
   },
   {
    "duration": 217,
    "start_time": "2024-02-13T09:11:14.120Z"
   },
   {
    "duration": 283,
    "start_time": "2024-02-13T09:12:04.852Z"
   },
   {
    "duration": 123,
    "start_time": "2024-02-13T09:16:46.439Z"
   },
   {
    "duration": 114,
    "start_time": "2024-02-13T09:16:56.087Z"
   },
   {
    "duration": 130,
    "start_time": "2024-02-13T09:17:35.166Z"
   },
   {
    "duration": 204,
    "start_time": "2024-02-13T09:18:15.421Z"
   },
   {
    "duration": 146,
    "start_time": "2024-02-13T09:19:08.687Z"
   },
   {
    "duration": 1118,
    "start_time": "2024-02-13T09:19:40.088Z"
   },
   {
    "duration": 72,
    "start_time": "2024-02-13T09:19:41.207Z"
   },
   {
    "duration": 3,
    "start_time": "2024-02-13T09:19:41.280Z"
   },
   {
    "duration": 18,
    "start_time": "2024-02-13T09:19:41.286Z"
   },
   {
    "duration": 15,
    "start_time": "2024-02-13T09:19:41.305Z"
   },
   {
    "duration": 15,
    "start_time": "2024-02-13T09:19:41.321Z"
   },
   {
    "duration": 3,
    "start_time": "2024-02-13T09:19:41.338Z"
   },
   {
    "duration": 4,
    "start_time": "2024-02-13T09:19:41.342Z"
   },
   {
    "duration": 5,
    "start_time": "2024-02-13T09:19:41.347Z"
   },
   {
    "duration": 9,
    "start_time": "2024-02-13T09:19:41.354Z"
   },
   {
    "duration": 12,
    "start_time": "2024-02-13T09:19:41.364Z"
   },
   {
    "duration": 10,
    "start_time": "2024-02-13T09:19:41.377Z"
   },
   {
    "duration": 12,
    "start_time": "2024-02-13T09:19:41.418Z"
   },
   {
    "duration": 5,
    "start_time": "2024-02-13T09:19:41.431Z"
   },
   {
    "duration": 170,
    "start_time": "2024-02-13T09:19:41.438Z"
   },
   {
    "duration": 115,
    "start_time": "2024-02-13T09:19:41.609Z"
   },
   {
    "duration": 10,
    "start_time": "2024-02-13T09:19:41.726Z"
   },
   {
    "duration": 276,
    "start_time": "2024-02-13T09:19:41.737Z"
   },
   {
    "duration": 204,
    "start_time": "2024-02-13T09:19:42.017Z"
   },
   {
    "duration": 318,
    "start_time": "2024-02-13T09:19:42.223Z"
   },
   {
    "duration": 215,
    "start_time": "2024-02-13T09:19:42.543Z"
   },
   {
    "duration": 285,
    "start_time": "2024-02-13T09:19:42.759Z"
   },
   {
    "duration": 11,
    "start_time": "2024-02-13T09:19:43.046Z"
   },
   {
    "duration": 135,
    "start_time": "2024-02-13T09:19:43.059Z"
   },
   {
    "duration": 5,
    "start_time": "2024-02-13T09:19:43.195Z"
   },
   {
    "duration": 152,
    "start_time": "2024-02-13T09:19:43.201Z"
   },
   {
    "duration": 5,
    "start_time": "2024-02-13T09:19:43.355Z"
   },
   {
    "duration": 232,
    "start_time": "2024-02-13T09:19:43.363Z"
   },
   {
    "duration": 154,
    "start_time": "2024-02-13T09:19:43.597Z"
   },
   {
    "duration": 28,
    "start_time": "2024-02-13T09:19:43.752Z"
   },
   {
    "duration": 9,
    "start_time": "2024-02-13T09:19:43.782Z"
   },
   {
    "duration": 28,
    "start_time": "2024-02-13T09:19:43.793Z"
   },
   {
    "duration": 23,
    "start_time": "2024-02-13T09:19:43.823Z"
   },
   {
    "duration": 12,
    "start_time": "2024-02-13T09:19:43.848Z"
   },
   {
    "duration": 214,
    "start_time": "2024-02-13T09:42:19.480Z"
   },
   {
    "duration": 1067,
    "start_time": "2024-02-13T09:50:18.942Z"
   },
   {
    "duration": 72,
    "start_time": "2024-02-13T09:50:20.011Z"
   },
   {
    "duration": 3,
    "start_time": "2024-02-13T09:50:20.085Z"
   },
   {
    "duration": 20,
    "start_time": "2024-02-13T09:50:20.089Z"
   },
   {
    "duration": 19,
    "start_time": "2024-02-13T09:50:20.111Z"
   },
   {
    "duration": 20,
    "start_time": "2024-02-13T09:50:20.132Z"
   },
   {
    "duration": 5,
    "start_time": "2024-02-13T09:50:20.154Z"
   },
   {
    "duration": 5,
    "start_time": "2024-02-13T09:50:20.160Z"
   },
   {
    "duration": 4,
    "start_time": "2024-02-13T09:50:20.166Z"
   },
   {
    "duration": 7,
    "start_time": "2024-02-13T09:50:20.173Z"
   },
   {
    "duration": 13,
    "start_time": "2024-02-13T09:50:20.218Z"
   },
   {
    "duration": 10,
    "start_time": "2024-02-13T09:50:20.233Z"
   },
   {
    "duration": 15,
    "start_time": "2024-02-13T09:50:20.244Z"
   },
   {
    "duration": 6,
    "start_time": "2024-02-13T09:50:20.261Z"
   },
   {
    "duration": 181,
    "start_time": "2024-02-13T09:50:20.269Z"
   },
   {
    "duration": 116,
    "start_time": "2024-02-13T09:50:20.452Z"
   },
   {
    "duration": 10,
    "start_time": "2024-02-13T09:50:20.570Z"
   },
   {
    "duration": 279,
    "start_time": "2024-02-13T09:50:20.581Z"
   },
   {
    "duration": 194,
    "start_time": "2024-02-13T09:50:20.862Z"
   },
   {
    "duration": 294,
    "start_time": "2024-02-13T09:50:21.058Z"
   },
   {
    "duration": 230,
    "start_time": "2024-02-13T09:50:21.354Z"
   },
   {
    "duration": 353,
    "start_time": "2024-02-13T09:50:21.586Z"
   },
   {
    "duration": 13,
    "start_time": "2024-02-13T09:50:21.940Z"
   },
   {
    "duration": 154,
    "start_time": "2024-02-13T09:50:21.955Z"
   },
   {
    "duration": 8,
    "start_time": "2024-02-13T09:50:22.111Z"
   },
   {
    "duration": 150,
    "start_time": "2024-02-13T09:50:22.121Z"
   },
   {
    "duration": 4,
    "start_time": "2024-02-13T09:50:22.272Z"
   },
   {
    "duration": 232,
    "start_time": "2024-02-13T09:50:22.279Z"
   },
   {
    "duration": 139,
    "start_time": "2024-02-13T09:50:22.517Z"
   },
   {
    "duration": 30,
    "start_time": "2024-02-13T09:50:22.658Z"
   },
   {
    "duration": 27,
    "start_time": "2024-02-13T09:50:22.690Z"
   },
   {
    "duration": 13,
    "start_time": "2024-02-13T09:50:22.719Z"
   },
   {
    "duration": 25,
    "start_time": "2024-02-13T09:50:22.733Z"
   },
   {
    "duration": 15,
    "start_time": "2024-02-13T09:50:22.760Z"
   },
   {
    "duration": 1285,
    "start_time": "2024-02-13T10:32:44.123Z"
   },
   {
    "duration": 208,
    "start_time": "2024-02-13T10:32:45.410Z"
   },
   {
    "duration": 4,
    "start_time": "2024-02-13T10:32:45.619Z"
   },
   {
    "duration": 35,
    "start_time": "2024-02-13T10:32:45.625Z"
   },
   {
    "duration": 21,
    "start_time": "2024-02-13T10:32:45.662Z"
   },
   {
    "duration": 30,
    "start_time": "2024-02-13T10:32:45.684Z"
   },
   {
    "duration": 23,
    "start_time": "2024-02-13T10:32:45.715Z"
   },
   {
    "duration": 60,
    "start_time": "2024-02-13T10:32:45.739Z"
   },
   {
    "duration": 58,
    "start_time": "2024-02-13T10:32:45.800Z"
   },
   {
    "duration": 42,
    "start_time": "2024-02-13T10:32:45.860Z"
   },
   {
    "duration": 45,
    "start_time": "2024-02-13T10:32:45.904Z"
   },
   {
    "duration": 22,
    "start_time": "2024-02-13T10:32:45.950Z"
   },
   {
    "duration": 39,
    "start_time": "2024-02-13T10:32:45.973Z"
   },
   {
    "duration": 29,
    "start_time": "2024-02-13T10:32:46.013Z"
   },
   {
    "duration": 173,
    "start_time": "2024-02-13T10:32:46.043Z"
   },
   {
    "duration": 113,
    "start_time": "2024-02-13T10:32:46.217Z"
   },
   {
    "duration": 15,
    "start_time": "2024-02-13T10:32:46.332Z"
   },
   {
    "duration": 269,
    "start_time": "2024-02-13T10:32:46.348Z"
   },
   {
    "duration": 181,
    "start_time": "2024-02-13T10:32:46.619Z"
   },
   {
    "duration": 351,
    "start_time": "2024-02-13T10:32:46.801Z"
   },
   {
    "duration": 223,
    "start_time": "2024-02-13T10:32:47.153Z"
   },
   {
    "duration": 284,
    "start_time": "2024-02-13T10:32:47.377Z"
   },
   {
    "duration": 10,
    "start_time": "2024-02-13T10:32:47.663Z"
   },
   {
    "duration": 129,
    "start_time": "2024-02-13T10:32:47.674Z"
   },
   {
    "duration": 3,
    "start_time": "2024-02-13T10:32:47.805Z"
   },
   {
    "duration": 196,
    "start_time": "2024-02-13T10:32:47.809Z"
   },
   {
    "duration": 4,
    "start_time": "2024-02-13T10:32:48.006Z"
   },
   {
    "duration": 205,
    "start_time": "2024-02-13T10:32:48.012Z"
   },
   {
    "duration": 157,
    "start_time": "2024-02-13T10:32:48.219Z"
   },
   {
    "duration": 26,
    "start_time": "2024-02-13T10:32:48.378Z"
   },
   {
    "duration": 9,
    "start_time": "2024-02-13T10:32:48.405Z"
   },
   {
    "duration": 30,
    "start_time": "2024-02-13T10:32:48.415Z"
   },
   {
    "duration": 22,
    "start_time": "2024-02-13T10:32:48.447Z"
   },
   {
    "duration": 11,
    "start_time": "2024-02-13T10:32:48.471Z"
   },
   {
    "duration": 11,
    "start_time": "2024-02-13T10:36:09.288Z"
   },
   {
    "duration": 79,
    "start_time": "2024-02-13T14:18:27.298Z"
   },
   {
    "duration": 73,
    "start_time": "2024-02-13T14:18:35.958Z"
   },
   {
    "duration": 87,
    "start_time": "2024-02-13T14:18:40.977Z"
   },
   {
    "duration": 66,
    "start_time": "2024-02-13T14:18:55.067Z"
   },
   {
    "duration": 101,
    "start_time": "2024-02-13T14:19:46.562Z"
   },
   {
    "duration": 11,
    "start_time": "2024-02-13T14:20:54.338Z"
   },
   {
    "duration": 71,
    "start_time": "2024-02-13T14:26:54.412Z"
   },
   {
    "duration": 76,
    "start_time": "2024-02-13T14:32:11.908Z"
   },
   {
    "duration": 17,
    "start_time": "2024-02-13T14:32:22.677Z"
   },
   {
    "duration": 13,
    "start_time": "2024-02-13T14:32:58.692Z"
   },
   {
    "duration": 11,
    "start_time": "2024-02-13T14:33:15.424Z"
   },
   {
    "duration": 12,
    "start_time": "2024-02-13T14:33:39.147Z"
   },
   {
    "duration": 17,
    "start_time": "2024-02-13T14:33:48.542Z"
   },
   {
    "duration": 12,
    "start_time": "2024-02-13T14:34:26.832Z"
   },
   {
    "duration": 12,
    "start_time": "2024-02-13T14:34:38.383Z"
   },
   {
    "duration": 12,
    "start_time": "2024-02-13T14:34:51.488Z"
   },
   {
    "duration": 13,
    "start_time": "2024-02-13T14:37:04.487Z"
   },
   {
    "duration": 11,
    "start_time": "2024-02-13T14:37:57.218Z"
   },
   {
    "duration": 9,
    "start_time": "2024-02-13T14:38:16.443Z"
   },
   {
    "duration": 11,
    "start_time": "2024-02-13T14:39:12.283Z"
   },
   {
    "duration": 9,
    "start_time": "2024-02-13T14:39:31.016Z"
   },
   {
    "duration": 9,
    "start_time": "2024-02-13T14:39:55.047Z"
   },
   {
    "duration": 9,
    "start_time": "2024-02-13T14:40:56.488Z"
   },
   {
    "duration": 16,
    "start_time": "2024-02-13T14:41:04.214Z"
   },
   {
    "duration": 13,
    "start_time": "2024-02-13T14:41:32.003Z"
   },
   {
    "duration": 17,
    "start_time": "2024-02-13T14:42:06.208Z"
   },
   {
    "duration": 9,
    "start_time": "2024-02-13T14:42:15.838Z"
   },
   {
    "duration": 8,
    "start_time": "2024-02-13T14:45:54.167Z"
   },
   {
    "duration": 64,
    "start_time": "2024-02-13T14:52:02.452Z"
   },
   {
    "duration": 14,
    "start_time": "2024-02-13T14:57:54.887Z"
   },
   {
    "duration": 4,
    "start_time": "2024-02-13T14:59:30.578Z"
   },
   {
    "duration": 5,
    "start_time": "2024-02-13T14:59:42.237Z"
   },
   {
    "duration": 9,
    "start_time": "2024-02-13T15:00:16.828Z"
   },
   {
    "duration": 1113,
    "start_time": "2024-02-13T15:00:47.342Z"
   },
   {
    "duration": 6,
    "start_time": "2024-02-13T15:01:41.832Z"
   },
   {
    "duration": 6,
    "start_time": "2024-02-13T15:02:14.611Z"
   },
   {
    "duration": 330,
    "start_time": "2024-02-13T15:07:25.002Z"
   },
   {
    "duration": 457,
    "start_time": "2024-02-13T15:08:00.792Z"
   },
   {
    "duration": 315,
    "start_time": "2024-02-13T15:08:26.122Z"
   },
   {
    "duration": 332,
    "start_time": "2024-02-13T15:08:37.507Z"
   },
   {
    "duration": 209,
    "start_time": "2024-02-13T15:09:04.392Z"
   },
   {
    "duration": 274,
    "start_time": "2024-02-13T15:09:33.867Z"
   },
   {
    "duration": 138,
    "start_time": "2024-02-13T15:13:50.822Z"
   },
   {
    "duration": 139,
    "start_time": "2024-02-13T15:14:36.827Z"
   },
   {
    "duration": 148,
    "start_time": "2024-02-13T15:14:42.812Z"
   },
   {
    "duration": 108,
    "start_time": "2024-02-13T15:15:58.627Z"
   },
   {
    "duration": 139,
    "start_time": "2024-02-13T15:17:17.462Z"
   },
   {
    "duration": 12,
    "start_time": "2024-02-13T15:19:41.872Z"
   },
   {
    "duration": 125,
    "start_time": "2024-02-13T15:20:11.482Z"
   },
   {
    "duration": 104,
    "start_time": "2024-02-13T15:20:45.902Z"
   },
   {
    "duration": 74,
    "start_time": "2024-02-13T15:20:50.266Z"
   },
   {
    "duration": 229,
    "start_time": "2024-02-13T15:21:13.362Z"
   },
   {
    "duration": 141,
    "start_time": "2024-02-13T15:24:01.008Z"
   },
   {
    "duration": 154,
    "start_time": "2024-02-13T15:25:13.762Z"
   },
   {
    "duration": 144,
    "start_time": "2024-02-13T15:25:22.802Z"
   },
   {
    "duration": 136,
    "start_time": "2024-02-13T15:25:36.772Z"
   },
   {
    "duration": 352,
    "start_time": "2024-02-13T15:30:49.697Z"
   },
   {
    "duration": 377,
    "start_time": "2024-02-13T15:31:07.722Z"
   },
   {
    "duration": 414,
    "start_time": "2024-02-13T15:31:14.257Z"
   },
   {
    "duration": 386,
    "start_time": "2024-02-13T15:31:25.777Z"
   },
   {
    "duration": 407,
    "start_time": "2024-02-13T15:31:46.533Z"
   },
   {
    "duration": 61,
    "start_time": "2024-02-13T15:57:21.992Z"
   },
   {
    "duration": 49,
    "start_time": "2024-02-13T15:58:30.182Z"
   },
   {
    "duration": 32,
    "start_time": "2024-02-13T15:59:34.173Z"
   },
   {
    "duration": 30,
    "start_time": "2024-02-13T16:01:44.897Z"
   },
   {
    "duration": 27,
    "start_time": "2024-02-13T16:03:46.353Z"
   },
   {
    "duration": 65,
    "start_time": "2024-02-13T16:04:44.426Z"
   },
   {
    "duration": 11,
    "start_time": "2024-02-13T16:10:10.397Z"
   },
   {
    "duration": 15,
    "start_time": "2024-02-13T16:13:38.731Z"
   },
   {
    "duration": 12,
    "start_time": "2024-02-13T16:14:33.987Z"
   },
   {
    "duration": 14,
    "start_time": "2024-02-13T16:15:22.142Z"
   },
   {
    "duration": 19,
    "start_time": "2024-02-13T16:23:09.652Z"
   },
   {
    "duration": 12,
    "start_time": "2024-02-13T16:24:18.292Z"
   },
   {
    "duration": 74,
    "start_time": "2024-02-13T16:26:32.408Z"
   },
   {
    "duration": 12,
    "start_time": "2024-02-13T16:26:55.372Z"
   },
   {
    "duration": 13,
    "start_time": "2024-02-13T16:27:45.412Z"
   },
   {
    "duration": 25,
    "start_time": "2024-02-13T16:27:55.802Z"
   },
   {
    "duration": 5,
    "start_time": "2024-02-13T16:28:54.557Z"
   },
   {
    "duration": 4,
    "start_time": "2024-02-13T16:29:13.320Z"
   },
   {
    "duration": 4,
    "start_time": "2024-02-13T16:29:32.223Z"
   },
   {
    "duration": 1116,
    "start_time": "2024-02-13T16:40:30.693Z"
   },
   {
    "duration": 87,
    "start_time": "2024-02-13T16:40:31.811Z"
   },
   {
    "duration": 3,
    "start_time": "2024-02-13T16:40:31.900Z"
   },
   {
    "duration": 24,
    "start_time": "2024-02-13T16:40:31.904Z"
   },
   {
    "duration": 20,
    "start_time": "2024-02-13T16:40:31.930Z"
   },
   {
    "duration": 23,
    "start_time": "2024-02-13T16:40:31.952Z"
   },
   {
    "duration": 11,
    "start_time": "2024-02-13T16:40:31.976Z"
   },
   {
    "duration": 7,
    "start_time": "2024-02-13T16:40:31.988Z"
   },
   {
    "duration": 23,
    "start_time": "2024-02-13T16:40:31.996Z"
   },
   {
    "duration": 8,
    "start_time": "2024-02-13T16:40:32.020Z"
   },
   {
    "duration": 6,
    "start_time": "2024-02-13T16:40:32.030Z"
   },
   {
    "duration": 13,
    "start_time": "2024-02-13T16:40:32.038Z"
   },
   {
    "duration": 12,
    "start_time": "2024-02-13T16:40:32.052Z"
   },
   {
    "duration": 11,
    "start_time": "2024-02-13T16:40:32.067Z"
   },
   {
    "duration": 38,
    "start_time": "2024-02-13T16:40:32.080Z"
   },
   {
    "duration": 168,
    "start_time": "2024-02-13T16:40:32.119Z"
   },
   {
    "duration": 113,
    "start_time": "2024-02-13T16:40:32.289Z"
   },
   {
    "duration": 19,
    "start_time": "2024-02-13T16:40:32.403Z"
   },
   {
    "duration": 5,
    "start_time": "2024-02-13T16:40:32.424Z"
   },
   {
    "duration": 5,
    "start_time": "2024-02-13T16:40:32.430Z"
   },
   {
    "duration": 290,
    "start_time": "2024-02-13T16:40:32.436Z"
   },
   {
    "duration": 195,
    "start_time": "2024-02-13T16:40:32.727Z"
   },
   {
    "duration": 320,
    "start_time": "2024-02-13T16:40:32.923Z"
   },
   {
    "duration": 219,
    "start_time": "2024-02-13T16:40:33.245Z"
   },
   {
    "duration": 328,
    "start_time": "2024-02-13T16:40:33.466Z"
   },
   {
    "duration": 10,
    "start_time": "2024-02-13T16:40:33.796Z"
   },
   {
    "duration": 137,
    "start_time": "2024-02-13T16:40:33.808Z"
   },
   {
    "duration": 4,
    "start_time": "2024-02-13T16:40:33.947Z"
   },
   {
    "duration": 403,
    "start_time": "2024-02-13T16:40:33.953Z"
   },
   {
    "duration": 4,
    "start_time": "2024-02-13T16:40:34.358Z"
   },
   {
    "duration": 210,
    "start_time": "2024-02-13T16:40:34.363Z"
   },
   {
    "duration": 128,
    "start_time": "2024-02-13T16:40:34.574Z"
   },
   {
    "duration": 29,
    "start_time": "2024-02-13T16:40:34.704Z"
   },
   {
    "duration": 10,
    "start_time": "2024-02-13T16:40:34.734Z"
   },
   {
    "duration": 13,
    "start_time": "2024-02-13T16:40:34.746Z"
   },
   {
    "duration": 24,
    "start_time": "2024-02-13T16:40:34.760Z"
   },
   {
    "duration": 40,
    "start_time": "2024-02-13T16:40:34.786Z"
   },
   {
    "duration": 1091,
    "start_time": "2024-02-13T16:46:15.822Z"
   },
   {
    "duration": 76,
    "start_time": "2024-02-13T16:46:16.915Z"
   },
   {
    "duration": 3,
    "start_time": "2024-02-13T16:46:16.992Z"
   },
   {
    "duration": 30,
    "start_time": "2024-02-13T16:46:16.997Z"
   },
   {
    "duration": 17,
    "start_time": "2024-02-13T16:46:17.029Z"
   },
   {
    "duration": 15,
    "start_time": "2024-02-13T16:46:17.048Z"
   },
   {
    "duration": 4,
    "start_time": "2024-02-13T16:46:17.064Z"
   },
   {
    "duration": 4,
    "start_time": "2024-02-13T16:46:17.070Z"
   },
   {
    "duration": 4,
    "start_time": "2024-02-13T16:46:17.076Z"
   },
   {
    "duration": 38,
    "start_time": "2024-02-13T16:46:17.082Z"
   },
   {
    "duration": 7,
    "start_time": "2024-02-13T16:46:17.121Z"
   },
   {
    "duration": 12,
    "start_time": "2024-02-13T16:46:17.130Z"
   },
   {
    "duration": 10,
    "start_time": "2024-02-13T16:46:17.143Z"
   },
   {
    "duration": 15,
    "start_time": "2024-02-13T16:46:17.155Z"
   },
   {
    "duration": 30,
    "start_time": "2024-02-13T16:46:17.171Z"
   },
   {
    "duration": 157,
    "start_time": "2024-02-13T16:46:17.203Z"
   },
   {
    "duration": 119,
    "start_time": "2024-02-13T16:46:17.362Z"
   },
   {
    "duration": 8,
    "start_time": "2024-02-13T16:46:17.483Z"
   },
   {
    "duration": 14,
    "start_time": "2024-02-13T16:46:17.493Z"
   },
   {
    "duration": 12,
    "start_time": "2024-02-13T16:46:17.508Z"
   },
   {
    "duration": 303,
    "start_time": "2024-02-13T16:46:17.522Z"
   },
   {
    "duration": 198,
    "start_time": "2024-02-13T16:46:17.827Z"
   },
   {
    "duration": 314,
    "start_time": "2024-02-13T16:46:18.027Z"
   },
   {
    "duration": 231,
    "start_time": "2024-02-13T16:46:18.343Z"
   },
   {
    "duration": 322,
    "start_time": "2024-02-13T16:46:18.575Z"
   },
   {
    "duration": 19,
    "start_time": "2024-02-13T16:46:18.899Z"
   },
   {
    "duration": 140,
    "start_time": "2024-02-13T16:46:18.920Z"
   },
   {
    "duration": 4,
    "start_time": "2024-02-13T16:46:19.063Z"
   },
   {
    "duration": 394,
    "start_time": "2024-02-13T16:46:19.068Z"
   },
   {
    "duration": 4,
    "start_time": "2024-02-13T16:46:19.463Z"
   },
   {
    "duration": 222,
    "start_time": "2024-02-13T16:46:19.469Z"
   },
   {
    "duration": 148,
    "start_time": "2024-02-13T16:46:19.692Z"
   },
   {
    "duration": 29,
    "start_time": "2024-02-13T16:46:19.841Z"
   },
   {
    "duration": 10,
    "start_time": "2024-02-13T16:46:19.871Z"
   },
   {
    "duration": 12,
    "start_time": "2024-02-13T16:46:19.883Z"
   },
   {
    "duration": 45,
    "start_time": "2024-02-13T16:46:19.897Z"
   },
   {
    "duration": 83,
    "start_time": "2024-02-13T16:46:19.944Z"
   },
   {
    "duration": 15,
    "start_time": "2024-02-13T16:46:51.422Z"
   },
   {
    "duration": 1133,
    "start_time": "2024-02-13T17:02:23.989Z"
   },
   {
    "duration": 186,
    "start_time": "2024-02-13T17:02:25.124Z"
   },
   {
    "duration": 3,
    "start_time": "2024-02-13T17:02:25.311Z"
   },
   {
    "duration": 42,
    "start_time": "2024-02-13T17:02:25.316Z"
   },
   {
    "duration": 24,
    "start_time": "2024-02-13T17:02:25.360Z"
   },
   {
    "duration": 18,
    "start_time": "2024-02-13T17:02:25.386Z"
   },
   {
    "duration": 43,
    "start_time": "2024-02-13T17:02:25.406Z"
   },
   {
    "duration": 19,
    "start_time": "2024-02-13T17:02:25.450Z"
   },
   {
    "duration": 16,
    "start_time": "2024-02-13T17:02:25.470Z"
   },
   {
    "duration": 40,
    "start_time": "2024-02-13T17:02:25.488Z"
   },
   {
    "duration": 29,
    "start_time": "2024-02-13T17:02:25.529Z"
   },
   {
    "duration": 27,
    "start_time": "2024-02-13T17:02:25.560Z"
   },
   {
    "duration": 13,
    "start_time": "2024-02-13T17:02:25.589Z"
   },
   {
    "duration": 71,
    "start_time": "2024-02-13T17:02:25.604Z"
   },
   {
    "duration": 96,
    "start_time": "2024-02-13T17:02:25.677Z"
   },
   {
    "duration": 214,
    "start_time": "2024-02-13T17:02:25.775Z"
   },
   {
    "duration": 127,
    "start_time": "2024-02-13T17:02:25.991Z"
   },
   {
    "duration": 13,
    "start_time": "2024-02-13T17:02:26.119Z"
   },
   {
    "duration": 21,
    "start_time": "2024-02-13T17:02:26.134Z"
   },
   {
    "duration": 38,
    "start_time": "2024-02-13T17:02:26.157Z"
   },
   {
    "duration": 285,
    "start_time": "2024-02-13T17:02:26.196Z"
   },
   {
    "duration": 214,
    "start_time": "2024-02-13T17:02:26.482Z"
   },
   {
    "duration": 331,
    "start_time": "2024-02-13T17:02:26.698Z"
   },
   {
    "duration": 259,
    "start_time": "2024-02-13T17:02:27.030Z"
   },
   {
    "duration": 346,
    "start_time": "2024-02-13T17:02:27.291Z"
   },
   {
    "duration": 13,
    "start_time": "2024-02-13T17:02:27.639Z"
   },
   {
    "duration": 172,
    "start_time": "2024-02-13T17:02:27.654Z"
   },
   {
    "duration": 4,
    "start_time": "2024-02-13T17:02:27.829Z"
   },
   {
    "duration": 417,
    "start_time": "2024-02-13T17:02:27.834Z"
   },
   {
    "duration": 4,
    "start_time": "2024-02-13T17:02:28.252Z"
   },
   {
    "duration": 255,
    "start_time": "2024-02-13T17:02:28.258Z"
   },
   {
    "duration": 132,
    "start_time": "2024-02-13T17:02:28.514Z"
   },
   {
    "duration": 30,
    "start_time": "2024-02-13T17:02:28.648Z"
   },
   {
    "duration": 63,
    "start_time": "2024-02-13T17:02:28.679Z"
   },
   {
    "duration": 29,
    "start_time": "2024-02-13T17:02:28.743Z"
   },
   {
    "duration": 115,
    "start_time": "2024-02-13T17:02:28.774Z"
   },
   {
    "duration": 67,
    "start_time": "2024-02-13T17:02:28.890Z"
   },
   {
    "duration": 51,
    "start_time": "2024-02-14T07:16:45.916Z"
   },
   {
    "duration": 6,
    "start_time": "2024-02-14T07:17:34.167Z"
   },
   {
    "duration": 7,
    "start_time": "2024-02-14T07:21:10.567Z"
   },
   {
    "duration": 7,
    "start_time": "2024-02-14T07:22:02.077Z"
   },
   {
    "duration": 1432,
    "start_time": "2024-02-14T07:22:36.954Z"
   },
   {
    "duration": 188,
    "start_time": "2024-02-14T07:22:38.388Z"
   },
   {
    "duration": 3,
    "start_time": "2024-02-14T07:22:38.578Z"
   },
   {
    "duration": 43,
    "start_time": "2024-02-14T07:22:38.583Z"
   },
   {
    "duration": 45,
    "start_time": "2024-02-14T07:22:38.628Z"
   },
   {
    "duration": 39,
    "start_time": "2024-02-14T07:22:38.675Z"
   },
   {
    "duration": 10,
    "start_time": "2024-02-14T07:22:38.715Z"
   },
   {
    "duration": 22,
    "start_time": "2024-02-14T07:22:38.726Z"
   },
   {
    "duration": 29,
    "start_time": "2024-02-14T07:22:38.749Z"
   },
   {
    "duration": 35,
    "start_time": "2024-02-14T07:22:38.779Z"
   },
   {
    "duration": 21,
    "start_time": "2024-02-14T07:22:38.816Z"
   },
   {
    "duration": 15,
    "start_time": "2024-02-14T07:22:38.839Z"
   },
   {
    "duration": 44,
    "start_time": "2024-02-14T07:22:38.855Z"
   },
   {
    "duration": 42,
    "start_time": "2024-02-14T07:22:38.902Z"
   },
   {
    "duration": 21,
    "start_time": "2024-02-14T07:22:38.946Z"
   },
   {
    "duration": 31,
    "start_time": "2024-02-14T07:22:38.968Z"
   },
   {
    "duration": 200,
    "start_time": "2024-02-14T07:22:39.001Z"
   },
   {
    "duration": 134,
    "start_time": "2024-02-14T07:22:39.203Z"
   },
   {
    "duration": 10,
    "start_time": "2024-02-14T07:22:39.339Z"
   },
   {
    "duration": 13,
    "start_time": "2024-02-14T07:22:39.359Z"
   },
   {
    "duration": 25,
    "start_time": "2024-02-14T07:22:39.374Z"
   },
   {
    "duration": 321,
    "start_time": "2024-02-14T07:22:39.401Z"
   },
   {
    "duration": 242,
    "start_time": "2024-02-14T07:22:39.724Z"
   },
   {
    "duration": 387,
    "start_time": "2024-02-14T07:22:39.968Z"
   },
   {
    "duration": 264,
    "start_time": "2024-02-14T07:22:40.359Z"
   },
   {
    "duration": 395,
    "start_time": "2024-02-14T07:22:40.625Z"
   },
   {
    "duration": 12,
    "start_time": "2024-02-14T07:22:41.022Z"
   },
   {
    "duration": 163,
    "start_time": "2024-02-14T07:22:41.036Z"
   },
   {
    "duration": 5,
    "start_time": "2024-02-14T07:22:41.201Z"
   },
   {
    "duration": 436,
    "start_time": "2024-02-14T07:22:41.207Z"
   },
   {
    "duration": 4,
    "start_time": "2024-02-14T07:22:41.644Z"
   },
   {
    "duration": 264,
    "start_time": "2024-02-14T07:22:41.659Z"
   },
   {
    "duration": 149,
    "start_time": "2024-02-14T07:22:41.925Z"
   },
   {
    "duration": 32,
    "start_time": "2024-02-14T07:22:42.076Z"
   },
   {
    "duration": 13,
    "start_time": "2024-02-14T07:22:42.110Z"
   },
   {
    "duration": 40,
    "start_time": "2024-02-14T07:22:42.124Z"
   },
   {
    "duration": 35,
    "start_time": "2024-02-14T07:22:42.166Z"
   },
   {
    "duration": 19,
    "start_time": "2024-02-14T07:22:42.203Z"
   },
   {
    "duration": 15,
    "start_time": "2024-02-14T07:23:45.064Z"
   },
   {
    "duration": 7,
    "start_time": "2024-02-14T07:25:23.040Z"
   },
   {
    "duration": 16,
    "start_time": "2024-02-14T07:25:58.984Z"
   },
   {
    "duration": 8,
    "start_time": "2024-02-14T07:28:32.035Z"
   },
   {
    "duration": 12,
    "start_time": "2024-02-14T07:28:48.240Z"
   },
   {
    "duration": 7,
    "start_time": "2024-02-14T07:29:05.075Z"
   },
   {
    "duration": 16,
    "start_time": "2024-02-14T07:29:47.595Z"
   },
   {
    "duration": 15,
    "start_time": "2024-02-14T07:30:22.676Z"
   },
   {
    "duration": 84,
    "start_time": "2024-02-14T07:32:51.445Z"
   },
   {
    "duration": 75,
    "start_time": "2024-02-14T07:33:01.515Z"
   },
   {
    "duration": 7,
    "start_time": "2024-02-14T07:33:07.065Z"
   }
  ],
  "kernelspec": {
   "display_name": "Python 3",
   "language": "python",
   "name": "python3"
  },
  "language_info": {
   "codemirror_mode": {
    "name": "ipython",
    "version": 3
   },
   "file_extension": ".py",
   "mimetype": "text/x-python",
   "name": "python",
   "nbconvert_exporter": "python",
   "pygments_lexer": "ipython3",
   "version": "3.8.5"
  },
  "toc": {
   "base_numbering": 1,
   "nav_menu": {
    "height": "514.983px",
    "width": "645.983px"
   },
   "number_sections": true,
   "sideBar": true,
   "skip_h1_title": true,
   "title_cell": "Table of Contents",
   "title_sidebar": "Contents",
   "toc_cell": false,
   "toc_position": {
    "height": "calc(100% - 180px)",
    "left": "10px",
    "top": "150px",
    "width": "328.467px"
   },
   "toc_section_display": true,
   "toc_window_display": true
  }
 },
 "nbformat": 4,
 "nbformat_minor": 2
}
