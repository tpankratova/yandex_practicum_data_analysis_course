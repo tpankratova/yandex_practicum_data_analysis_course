{
 "cells": [
  {
   "cell_type": "markdown",
   "metadata": {},
   "source": [
    "# Composition project. Data аnalysis of gaming on-line store\n",
    "\n",
    "You work for the online store \"Streamlet,\" which sells computer games worldwide. Historical data on game sales, user and expert ratings, genres, and platforms (e.g., Xbox or PlayStation) are available from open sources. Your task is to identify patterns that determine the success of a game. This will allow you to bet on a potentially popular product and plan advertising campaigns.\n",
    "\n",
    "You have data up to 2016. Let's imagine it's December 2016, and you're planning a campaign for 2017. You need to work out how to handle the data. It doesn't matter if you're forecasting sales for 2017 based on 2016 data or 2027 based on 2026 data.\n",
    "\n",
    "The dataset includes the abbreviation ESRB (Entertainment Software Rating Board) - an association that determines the age rating of computer games. ESRB evaluates game content and assigns it an appropriate age category, such as \"Adults Only,\" \"Early Childhood,\" or \"Teen.\"\n",
    "\n",
    "Data Description:\n",
    "\n",
    "* Name — game name\n",
    "* Platform — platform\n",
    "* Year_of_Release — release year\n",
    "* Genre — game genre\n",
    "* NA_sales — sales in North America (millions of copies sold)\n",
    "* EU_sales — sales in Europe (millions of copies sold)\n",
    "* JP_sales — sales in Japan (millions of copies sold)\n",
    "* Other_sales — sales in other countries (millions of copies sold)\n",
    "* Critic_Score — critic score (maximum 100)\n",
    "* User_Score — user score (maximum 10)\n",
    "* Rating — rating from the ESRB (Entertainment Software Rating Board). This association determines the rating of computer games and assigns them an appropriate age category.\n",
    "\n",
    "Data for 2016 may be incomplete."
   ]
  },
  {
   "cell_type": "markdown",
   "metadata": {},
   "source": [
    "**Project navigation**\n",
    "\n",
    "[1. Data loading](#1.-Data-loading)\n",
    "\n",
    "[2. Data preprocessing](#2.-Data-preprocessing)\n",
    " - [Task 1. Change columns name (convert  data to lowercase)](#Task-1.-Change-columns-name-(convert-data-to-lowercase))\n",
    " - [Task 2. Check missing values](#Task-2.-Check-missing-values)\n",
    " - [Task 3. Сonvert data to lowercase in several columns](#Task-3.-Сonvert-data-to-lowercase-in-several-columns)\n",
    " - [Task 4. Calculate sum sales in all regions and apply to new column](#Task-4.-Calculate-sum-sales-in-all-regions-and-apply-to-new-column)\n",
    "    \n",
    "[3. Exploratory data analysis](#3.-Exploratory-data-analysis)\n",
    " - [Task 1. Check how many games released by years. Is it important to have data of whole period?](#Task-1.-Check-how-many-games-released-by-years.-Is-it-important-to-have-data-of-whole-period?)\n",
    " - [Task 2. Looking at sales by platform. Select platforms with max sum sales and build sales distribution per year. What is life cycle of platforms?](#Task-2.-Looking-at-sales-by-platform.-Select-platforms-with-max-sum-sales-and-build-sales-distribution-per-year.-What-is-life-cycle-of-platforms?)\n",
    " - [Task 3. Show top-platforms in sales, are they increasing or decreasing? Choose potential profitable platforms.](#Task-3.-Show-top-platforms-in-sales,-are-they-increasing-or-decreasing?-Choose-potential-profitable-platforms.)\n",
    " - [Task 4. Build boxplot for global games sales by platforms. Describing a result.](#Task-4.-Build-boxplot-for-global-games-sales-by-platforms.-Describing-a-result.)\n",
    " - [Task 5. Look at correlation between scores and sales. Build scatter plot and calculate correlation between scores and sales. Formulate conclusions.](#Task-5.-Look-at-correlation-between-scores-and-sales.-Build-scatter-plot-and-calculate-correlation-between-scores-and-sales.-Formulate-conclusions.)\n",
    " - [Task 6. Look at general distribution of games by genres. What are spefics for profitable genres? Are there big differences between profitable and non-profitable genres?](#Task-6.-Look-at-general-distribution-of-games-by-genres.-What-are-spefics-for-profitable-genres?-Are-there-big-differences-between-profitable-and-non-profitable-genres?)\n",
    "    \n",
    "[4. Build user portret for each region](#4.-Build-user-portret-for-each-region)\n",
    " - [Task 1. TOP-5 platforms for each region. Describe differences in sales shares.](#Task-1.-TOP-5-platforms-for-each-region.-Describe-differences-in-sales-shares.)\n",
    " - [Task 2. Top-5 genres. Describe differences.](#Task-2.-Top-5-genres.-Describe-differences.)\n",
    " - [Task 3. Does raiting ESRB infuence on sales in particular region?](#Task-3.-Does-raiting-ESRB-infuence-on-sales-in-particular-region?)\n",
    "    \n",
    "[5. Hypotheses testing](#5.-Hypotheses-testing)\n",
    " - [Task 1. Hypothesis test: Average user ratings Xbox One and PC don't have differences.](#Task-1.-Hypothesis-test:-Average-user-ratings-Xbox-One-and-PC-don't-have-differences.)\n",
    " - [Task 2. Hypothesis test: Average user ratings for genres Action and Sports are different.](#Task-2.-Hypothesis-test:-Average-user-ratings-for-genres-Action-and-Sports-are-different.)\n",
    "\n",
    "[Main summary](#Main-summary)"
   ]
  },
  {
   "cell_type": "markdown",
   "metadata": {},
   "source": [
    "##  1. Data loading"
   ]
  },
  {
   "cell_type": "markdown",
   "metadata": {},
   "source": [
    "Loading the data from CSV files into dataframes using libraries."
   ]
  },
  {
   "cell_type": "code",
   "execution_count": 1,
   "metadata": {},
   "outputs": [],
   "source": [
    "import pandas as pd\n",
    "import numpy as np\n",
    "from matplotlib import pyplot as plt\n",
    "import seaborn as sns\n",
    "from scipy import stats as st\n",
    "\n",
    "plt.rcParams['figure.figsize'] = (20,5)"
   ]
  },
  {
   "cell_type": "code",
   "execution_count": 2,
   "metadata": {},
   "outputs": [],
   "source": [
    "research_games = pd.read_csv('games.csv')"
   ]
  },
  {
   "cell_type": "code",
   "execution_count": 3,
   "metadata": {},
   "outputs": [
    {
     "data": {
      "text/html": [
       "<div>\n",
       "<style scoped>\n",
       "    .dataframe tbody tr th:only-of-type {\n",
       "        vertical-align: middle;\n",
       "    }\n",
       "\n",
       "    .dataframe tbody tr th {\n",
       "        vertical-align: top;\n",
       "    }\n",
       "\n",
       "    .dataframe thead th {\n",
       "        text-align: right;\n",
       "    }\n",
       "</style>\n",
       "<table border=\"1\" class=\"dataframe\">\n",
       "  <thead>\n",
       "    <tr style=\"text-align: right;\">\n",
       "      <th></th>\n",
       "      <th>Name</th>\n",
       "      <th>Platform</th>\n",
       "      <th>Year_of_Release</th>\n",
       "      <th>Genre</th>\n",
       "      <th>NA_sales</th>\n",
       "      <th>EU_sales</th>\n",
       "      <th>JP_sales</th>\n",
       "      <th>Other_sales</th>\n",
       "      <th>Critic_Score</th>\n",
       "      <th>User_Score</th>\n",
       "      <th>Rating</th>\n",
       "    </tr>\n",
       "  </thead>\n",
       "  <tbody>\n",
       "    <tr>\n",
       "      <th>12594</th>\n",
       "      <td>Mobile Suit Gundam: Gundam vs. Zeta Gundam</td>\n",
       "      <td>PS2</td>\n",
       "      <td>2004.0</td>\n",
       "      <td>Shooter</td>\n",
       "      <td>0.03</td>\n",
       "      <td>0.02</td>\n",
       "      <td>0.00</td>\n",
       "      <td>0.01</td>\n",
       "      <td>57.0</td>\n",
       "      <td>8.6</td>\n",
       "      <td>T</td>\n",
       "    </tr>\n",
       "    <tr>\n",
       "      <th>574</th>\n",
       "      <td>Super Mario Bros.: The Lost Levels</td>\n",
       "      <td>NES</td>\n",
       "      <td>1986.0</td>\n",
       "      <td>Platform</td>\n",
       "      <td>0.00</td>\n",
       "      <td>0.00</td>\n",
       "      <td>2.65</td>\n",
       "      <td>0.00</td>\n",
       "      <td>NaN</td>\n",
       "      <td>NaN</td>\n",
       "      <td>NaN</td>\n",
       "    </tr>\n",
       "    <tr>\n",
       "      <th>202</th>\n",
       "      <td>FIFA Soccer 11</td>\n",
       "      <td>PS3</td>\n",
       "      <td>2010.0</td>\n",
       "      <td>Sports</td>\n",
       "      <td>0.61</td>\n",
       "      <td>3.28</td>\n",
       "      <td>0.06</td>\n",
       "      <td>1.12</td>\n",
       "      <td>89.0</td>\n",
       "      <td>8</td>\n",
       "      <td>E</td>\n",
       "    </tr>\n",
       "    <tr>\n",
       "      <th>9003</th>\n",
       "      <td>Spider-Man: Friend or Foe</td>\n",
       "      <td>Wii</td>\n",
       "      <td>2007.0</td>\n",
       "      <td>Action</td>\n",
       "      <td>0.13</td>\n",
       "      <td>0.00</td>\n",
       "      <td>0.00</td>\n",
       "      <td>0.01</td>\n",
       "      <td>59.0</td>\n",
       "      <td>8</td>\n",
       "      <td>E10+</td>\n",
       "    </tr>\n",
       "    <tr>\n",
       "      <th>12871</th>\n",
       "      <td>F1 2010</td>\n",
       "      <td>PC</td>\n",
       "      <td>2010.0</td>\n",
       "      <td>Racing</td>\n",
       "      <td>0.00</td>\n",
       "      <td>0.05</td>\n",
       "      <td>0.00</td>\n",
       "      <td>0.01</td>\n",
       "      <td>84.0</td>\n",
       "      <td>6.6</td>\n",
       "      <td>E</td>\n",
       "    </tr>\n",
       "    <tr>\n",
       "      <th>4953</th>\n",
       "      <td>EA Sports Active 2</td>\n",
       "      <td>X360</td>\n",
       "      <td>2010.0</td>\n",
       "      <td>Sports</td>\n",
       "      <td>0.18</td>\n",
       "      <td>0.16</td>\n",
       "      <td>0.00</td>\n",
       "      <td>0.04</td>\n",
       "      <td>68.0</td>\n",
       "      <td>5.4</td>\n",
       "      <td>E</td>\n",
       "    </tr>\n",
       "    <tr>\n",
       "      <th>5304</th>\n",
       "      <td>Xbox Music Mixer</td>\n",
       "      <td>XB</td>\n",
       "      <td>2003.0</td>\n",
       "      <td>Misc</td>\n",
       "      <td>0.26</td>\n",
       "      <td>0.08</td>\n",
       "      <td>0.00</td>\n",
       "      <td>0.01</td>\n",
       "      <td>49.0</td>\n",
       "      <td>tbd</td>\n",
       "      <td>E</td>\n",
       "    </tr>\n",
       "    <tr>\n",
       "      <th>5205</th>\n",
       "      <td>The Chronicles of Narnia: Prince Caspian</td>\n",
       "      <td>Wii</td>\n",
       "      <td>2008.0</td>\n",
       "      <td>Action</td>\n",
       "      <td>0.31</td>\n",
       "      <td>0.02</td>\n",
       "      <td>0.00</td>\n",
       "      <td>0.03</td>\n",
       "      <td>63.0</td>\n",
       "      <td>7.1</td>\n",
       "      <td>T</td>\n",
       "    </tr>\n",
       "    <tr>\n",
       "      <th>9557</th>\n",
       "      <td>Under Night In-Birth</td>\n",
       "      <td>PS3</td>\n",
       "      <td>2014.0</td>\n",
       "      <td>Fighting</td>\n",
       "      <td>0.06</td>\n",
       "      <td>0.01</td>\n",
       "      <td>0.04</td>\n",
       "      <td>0.02</td>\n",
       "      <td>NaN</td>\n",
       "      <td>NaN</td>\n",
       "      <td>NaN</td>\n",
       "    </tr>\n",
       "    <tr>\n",
       "      <th>10682</th>\n",
       "      <td>College Hoops 2K6</td>\n",
       "      <td>XB</td>\n",
       "      <td>2005.0</td>\n",
       "      <td>Sports</td>\n",
       "      <td>0.07</td>\n",
       "      <td>0.02</td>\n",
       "      <td>0.00</td>\n",
       "      <td>0.00</td>\n",
       "      <td>82.0</td>\n",
       "      <td>9.2</td>\n",
       "      <td>E</td>\n",
       "    </tr>\n",
       "  </tbody>\n",
       "</table>\n",
       "</div>"
      ],
      "text/plain": [
       "                                             Name Platform  Year_of_Release  \\\n",
       "12594  Mobile Suit Gundam: Gundam vs. Zeta Gundam      PS2           2004.0   \n",
       "574            Super Mario Bros.: The Lost Levels      NES           1986.0   \n",
       "202                                FIFA Soccer 11      PS3           2010.0   \n",
       "9003                    Spider-Man: Friend or Foe      Wii           2007.0   \n",
       "12871                                     F1 2010       PC           2010.0   \n",
       "4953                           EA Sports Active 2     X360           2010.0   \n",
       "5304                             Xbox Music Mixer       XB           2003.0   \n",
       "5205     The Chronicles of Narnia: Prince Caspian      Wii           2008.0   \n",
       "9557                         Under Night In-Birth      PS3           2014.0   \n",
       "10682                           College Hoops 2K6       XB           2005.0   \n",
       "\n",
       "          Genre  NA_sales  EU_sales  JP_sales  Other_sales  Critic_Score  \\\n",
       "12594   Shooter      0.03      0.02      0.00         0.01          57.0   \n",
       "574    Platform      0.00      0.00      2.65         0.00           NaN   \n",
       "202      Sports      0.61      3.28      0.06         1.12          89.0   \n",
       "9003     Action      0.13      0.00      0.00         0.01          59.0   \n",
       "12871    Racing      0.00      0.05      0.00         0.01          84.0   \n",
       "4953     Sports      0.18      0.16      0.00         0.04          68.0   \n",
       "5304       Misc      0.26      0.08      0.00         0.01          49.0   \n",
       "5205     Action      0.31      0.02      0.00         0.03          63.0   \n",
       "9557   Fighting      0.06      0.01      0.04         0.02           NaN   \n",
       "10682    Sports      0.07      0.02      0.00         0.00          82.0   \n",
       "\n",
       "      User_Score Rating  \n",
       "12594        8.6      T  \n",
       "574          NaN    NaN  \n",
       "202            8      E  \n",
       "9003           8   E10+  \n",
       "12871        6.6      E  \n",
       "4953         5.4      E  \n",
       "5304         tbd      E  \n",
       "5205         7.1      T  \n",
       "9557         NaN    NaN  \n",
       "10682        9.2      E  "
      ]
     },
     "execution_count": 3,
     "metadata": {},
     "output_type": "execute_result"
    }
   ],
   "source": [
    "research_games.sample(10)"
   ]
  },
  {
   "cell_type": "code",
   "execution_count": 4,
   "metadata": {
    "scrolled": true
   },
   "outputs": [
    {
     "name": "stdout",
     "output_type": "stream",
     "text": [
      "<class 'pandas.core.frame.DataFrame'>\n",
      "RangeIndex: 16715 entries, 0 to 16714\n",
      "Data columns (total 11 columns):\n",
      " #   Column           Non-Null Count  Dtype  \n",
      "---  ------           --------------  -----  \n",
      " 0   Name             16713 non-null  object \n",
      " 1   Platform         16715 non-null  object \n",
      " 2   Year_of_Release  16446 non-null  float64\n",
      " 3   Genre            16713 non-null  object \n",
      " 4   NA_sales         16715 non-null  float64\n",
      " 5   EU_sales         16715 non-null  float64\n",
      " 6   JP_sales         16715 non-null  float64\n",
      " 7   Other_sales      16715 non-null  float64\n",
      " 8   Critic_Score     8137 non-null   float64\n",
      " 9   User_Score       10014 non-null  object \n",
      " 10  Rating           9949 non-null   object \n",
      "dtypes: float64(6), object(5)\n",
      "memory usage: 1.4+ MB\n"
     ]
    }
   ],
   "source": [
    "research_games.info()"
   ]
  },
  {
   "cell_type": "markdown",
   "metadata": {},
   "source": [
    "Looking at data and found missing values, incorrect data types for the columns Year_of_Release, User_Score, and Critic_Score. The next step is to preprocess data."
   ]
  },
  {
   "cell_type": "markdown",
   "metadata": {},
   "source": [
    "##  2. Data preprocessing"
   ]
  },
  {
   "cell_type": "markdown",
   "metadata": {},
   "source": [
    "### Task 1. Change columns name (convert  data to lowercase)"
   ]
  },
  {
   "cell_type": "code",
   "execution_count": 5,
   "metadata": {},
   "outputs": [],
   "source": [
    "research_games.columns = research_games.columns.str.lower()"
   ]
  },
  {
   "cell_type": "code",
   "execution_count": 6,
   "metadata": {},
   "outputs": [
    {
     "data": {
      "text/html": [
       "<div>\n",
       "<style scoped>\n",
       "    .dataframe tbody tr th:only-of-type {\n",
       "        vertical-align: middle;\n",
       "    }\n",
       "\n",
       "    .dataframe tbody tr th {\n",
       "        vertical-align: top;\n",
       "    }\n",
       "\n",
       "    .dataframe thead th {\n",
       "        text-align: right;\n",
       "    }\n",
       "</style>\n",
       "<table border=\"1\" class=\"dataframe\">\n",
       "  <thead>\n",
       "    <tr style=\"text-align: right;\">\n",
       "      <th></th>\n",
       "      <th>name</th>\n",
       "      <th>platform</th>\n",
       "      <th>year_of_release</th>\n",
       "      <th>genre</th>\n",
       "      <th>na_sales</th>\n",
       "      <th>eu_sales</th>\n",
       "      <th>jp_sales</th>\n",
       "      <th>other_sales</th>\n",
       "      <th>critic_score</th>\n",
       "      <th>user_score</th>\n",
       "      <th>rating</th>\n",
       "    </tr>\n",
       "  </thead>\n",
       "  <tbody>\n",
       "    <tr>\n",
       "      <th>14167</th>\n",
       "      <td>Asterix &amp; Obelix: Kick Buttix</td>\n",
       "      <td>PS2</td>\n",
       "      <td>2004.0</td>\n",
       "      <td>Action</td>\n",
       "      <td>0.02</td>\n",
       "      <td>0.01</td>\n",
       "      <td>0.00</td>\n",
       "      <td>0.00</td>\n",
       "      <td>NaN</td>\n",
       "      <td>NaN</td>\n",
       "      <td>NaN</td>\n",
       "    </tr>\n",
       "    <tr>\n",
       "      <th>12549</th>\n",
       "      <td>Busy Scissors</td>\n",
       "      <td>DS</td>\n",
       "      <td>2010.0</td>\n",
       "      <td>Simulation</td>\n",
       "      <td>0.06</td>\n",
       "      <td>0.00</td>\n",
       "      <td>0.00</td>\n",
       "      <td>0.00</td>\n",
       "      <td>NaN</td>\n",
       "      <td>tbd</td>\n",
       "      <td>E</td>\n",
       "    </tr>\n",
       "    <tr>\n",
       "      <th>9490</th>\n",
       "      <td>NightCaster</td>\n",
       "      <td>XB</td>\n",
       "      <td>2002.0</td>\n",
       "      <td>Action</td>\n",
       "      <td>0.10</td>\n",
       "      <td>0.03</td>\n",
       "      <td>0.00</td>\n",
       "      <td>0.00</td>\n",
       "      <td>61.0</td>\n",
       "      <td>5.7</td>\n",
       "      <td>T</td>\n",
       "    </tr>\n",
       "    <tr>\n",
       "      <th>11671</th>\n",
       "      <td>Slayers Royal 2</td>\n",
       "      <td>SAT</td>\n",
       "      <td>1998.0</td>\n",
       "      <td>Role-Playing</td>\n",
       "      <td>0.00</td>\n",
       "      <td>0.00</td>\n",
       "      <td>0.08</td>\n",
       "      <td>0.00</td>\n",
       "      <td>NaN</td>\n",
       "      <td>NaN</td>\n",
       "      <td>NaN</td>\n",
       "    </tr>\n",
       "    <tr>\n",
       "      <th>10995</th>\n",
       "      <td>NHL 2K8</td>\n",
       "      <td>PS3</td>\n",
       "      <td>2007.0</td>\n",
       "      <td>Sports</td>\n",
       "      <td>0.08</td>\n",
       "      <td>0.01</td>\n",
       "      <td>0.00</td>\n",
       "      <td>0.01</td>\n",
       "      <td>74.0</td>\n",
       "      <td>tbd</td>\n",
       "      <td>E10+</td>\n",
       "    </tr>\n",
       "    <tr>\n",
       "      <th>688</th>\n",
       "      <td>Guild Wars 2</td>\n",
       "      <td>PC</td>\n",
       "      <td>2012.0</td>\n",
       "      <td>Action</td>\n",
       "      <td>0.96</td>\n",
       "      <td>1.07</td>\n",
       "      <td>0.00</td>\n",
       "      <td>0.27</td>\n",
       "      <td>90.0</td>\n",
       "      <td>7.9</td>\n",
       "      <td>T</td>\n",
       "    </tr>\n",
       "    <tr>\n",
       "      <th>16110</th>\n",
       "      <td>Valentino Rossi: The Game</td>\n",
       "      <td>PC</td>\n",
       "      <td>2016.0</td>\n",
       "      <td>Racing</td>\n",
       "      <td>0.00</td>\n",
       "      <td>0.01</td>\n",
       "      <td>0.00</td>\n",
       "      <td>0.00</td>\n",
       "      <td>72.0</td>\n",
       "      <td>6.2</td>\n",
       "      <td>E</td>\n",
       "    </tr>\n",
       "    <tr>\n",
       "      <th>3375</th>\n",
       "      <td>Dragon Age: Inquisition</td>\n",
       "      <td>PS3</td>\n",
       "      <td>2014.0</td>\n",
       "      <td>Role-Playing</td>\n",
       "      <td>0.27</td>\n",
       "      <td>0.18</td>\n",
       "      <td>0.05</td>\n",
       "      <td>0.09</td>\n",
       "      <td>NaN</td>\n",
       "      <td>5.2</td>\n",
       "      <td>M</td>\n",
       "    </tr>\n",
       "    <tr>\n",
       "      <th>14101</th>\n",
       "      <td>Ultimate Game Room</td>\n",
       "      <td>DS</td>\n",
       "      <td>2009.0</td>\n",
       "      <td>Misc</td>\n",
       "      <td>0.03</td>\n",
       "      <td>0.00</td>\n",
       "      <td>0.00</td>\n",
       "      <td>0.00</td>\n",
       "      <td>NaN</td>\n",
       "      <td>tbd</td>\n",
       "      <td>E</td>\n",
       "    </tr>\n",
       "    <tr>\n",
       "      <th>14186</th>\n",
       "      <td>Silent Scope</td>\n",
       "      <td>GBA</td>\n",
       "      <td>2002.0</td>\n",
       "      <td>Shooter</td>\n",
       "      <td>0.02</td>\n",
       "      <td>0.01</td>\n",
       "      <td>0.00</td>\n",
       "      <td>0.00</td>\n",
       "      <td>70.0</td>\n",
       "      <td>8</td>\n",
       "      <td>T</td>\n",
       "    </tr>\n",
       "  </tbody>\n",
       "</table>\n",
       "</div>"
      ],
      "text/plain": [
       "                                name platform  year_of_release         genre  \\\n",
       "14167  Asterix & Obelix: Kick Buttix      PS2           2004.0        Action   \n",
       "12549                  Busy Scissors       DS           2010.0    Simulation   \n",
       "9490                     NightCaster       XB           2002.0        Action   \n",
       "11671                Slayers Royal 2      SAT           1998.0  Role-Playing   \n",
       "10995                        NHL 2K8      PS3           2007.0        Sports   \n",
       "688                     Guild Wars 2       PC           2012.0        Action   \n",
       "16110      Valentino Rossi: The Game       PC           2016.0        Racing   \n",
       "3375         Dragon Age: Inquisition      PS3           2014.0  Role-Playing   \n",
       "14101             Ultimate Game Room       DS           2009.0          Misc   \n",
       "14186                   Silent Scope      GBA           2002.0       Shooter   \n",
       "\n",
       "       na_sales  eu_sales  jp_sales  other_sales  critic_score user_score  \\\n",
       "14167      0.02      0.01      0.00         0.00           NaN        NaN   \n",
       "12549      0.06      0.00      0.00         0.00           NaN        tbd   \n",
       "9490       0.10      0.03      0.00         0.00          61.0        5.7   \n",
       "11671      0.00      0.00      0.08         0.00           NaN        NaN   \n",
       "10995      0.08      0.01      0.00         0.01          74.0        tbd   \n",
       "688        0.96      1.07      0.00         0.27          90.0        7.9   \n",
       "16110      0.00      0.01      0.00         0.00          72.0        6.2   \n",
       "3375       0.27      0.18      0.05         0.09           NaN        5.2   \n",
       "14101      0.03      0.00      0.00         0.00           NaN        tbd   \n",
       "14186      0.02      0.01      0.00         0.00          70.0          8   \n",
       "\n",
       "      rating  \n",
       "14167    NaN  \n",
       "12549      E  \n",
       "9490       T  \n",
       "11671    NaN  \n",
       "10995   E10+  \n",
       "688        T  \n",
       "16110      E  \n",
       "3375       M  \n",
       "14101      E  \n",
       "14186      T  "
      ]
     },
     "execution_count": 6,
     "metadata": {},
     "output_type": "execute_result"
    }
   ],
   "source": [
    "research_games.sample(10)"
   ]
  },
  {
   "cell_type": "markdown",
   "metadata": {},
   "source": [
    "### Task 2. Check missing values"
   ]
  },
  {
   "cell_type": "code",
   "execution_count": 7,
   "metadata": {},
   "outputs": [
    {
     "data": {
      "text/html": [
       "<style  type=\"text/css\" >\n",
       "#T_95b3b74c_0ed5_11ef_88bb_5405db6b27aarow0_col0,#T_95b3b74c_0ed5_11ef_88bb_5405db6b27aarow1_col0,#T_95b3b74c_0ed5_11ef_88bb_5405db6b27aarow3_col0,#T_95b3b74c_0ed5_11ef_88bb_5405db6b27aarow4_col0,#T_95b3b74c_0ed5_11ef_88bb_5405db6b27aarow5_col0,#T_95b3b74c_0ed5_11ef_88bb_5405db6b27aarow6_col0,#T_95b3b74c_0ed5_11ef_88bb_5405db6b27aarow7_col0{\n",
       "            background-color:  #3b4cc0;\n",
       "            color:  #f1f1f1;\n",
       "        }#T_95b3b74c_0ed5_11ef_88bb_5405db6b27aarow2_col0{\n",
       "            background-color:  #445acc;\n",
       "            color:  #f1f1f1;\n",
       "        }#T_95b3b74c_0ed5_11ef_88bb_5405db6b27aarow8_col0{\n",
       "            background-color:  #b40426;\n",
       "            color:  #f1f1f1;\n",
       "        }#T_95b3b74c_0ed5_11ef_88bb_5405db6b27aarow9_col0{\n",
       "            background-color:  #f18d6f;\n",
       "            color:  #000000;\n",
       "        }#T_95b3b74c_0ed5_11ef_88bb_5405db6b27aarow10_col0{\n",
       "            background-color:  #f08a6c;\n",
       "            color:  #000000;\n",
       "        }</style><table id=\"T_95b3b74c_0ed5_11ef_88bb_5405db6b27aa\" ><thead>    <tr>        <th class=\"blank level0\" ></th>        <th class=\"col_heading level0 col0\" >0</th>    </tr></thead><tbody>\n",
       "                <tr>\n",
       "                        <th id=\"T_95b3b74c_0ed5_11ef_88bb_5405db6b27aalevel0_row0\" class=\"row_heading level0 row0\" >name</th>\n",
       "                        <td id=\"T_95b3b74c_0ed5_11ef_88bb_5405db6b27aarow0_col0\" class=\"data row0 col0\" >0.010000</td>\n",
       "            </tr>\n",
       "            <tr>\n",
       "                        <th id=\"T_95b3b74c_0ed5_11ef_88bb_5405db6b27aalevel0_row1\" class=\"row_heading level0 row1\" >platform</th>\n",
       "                        <td id=\"T_95b3b74c_0ed5_11ef_88bb_5405db6b27aarow1_col0\" class=\"data row1 col0\" >0.000000</td>\n",
       "            </tr>\n",
       "            <tr>\n",
       "                        <th id=\"T_95b3b74c_0ed5_11ef_88bb_5405db6b27aalevel0_row2\" class=\"row_heading level0 row2\" >year_of_release</th>\n",
       "                        <td id=\"T_95b3b74c_0ed5_11ef_88bb_5405db6b27aarow2_col0\" class=\"data row2 col0\" >1.610000</td>\n",
       "            </tr>\n",
       "            <tr>\n",
       "                        <th id=\"T_95b3b74c_0ed5_11ef_88bb_5405db6b27aalevel0_row3\" class=\"row_heading level0 row3\" >genre</th>\n",
       "                        <td id=\"T_95b3b74c_0ed5_11ef_88bb_5405db6b27aarow3_col0\" class=\"data row3 col0\" >0.010000</td>\n",
       "            </tr>\n",
       "            <tr>\n",
       "                        <th id=\"T_95b3b74c_0ed5_11ef_88bb_5405db6b27aalevel0_row4\" class=\"row_heading level0 row4\" >na_sales</th>\n",
       "                        <td id=\"T_95b3b74c_0ed5_11ef_88bb_5405db6b27aarow4_col0\" class=\"data row4 col0\" >0.000000</td>\n",
       "            </tr>\n",
       "            <tr>\n",
       "                        <th id=\"T_95b3b74c_0ed5_11ef_88bb_5405db6b27aalevel0_row5\" class=\"row_heading level0 row5\" >eu_sales</th>\n",
       "                        <td id=\"T_95b3b74c_0ed5_11ef_88bb_5405db6b27aarow5_col0\" class=\"data row5 col0\" >0.000000</td>\n",
       "            </tr>\n",
       "            <tr>\n",
       "                        <th id=\"T_95b3b74c_0ed5_11ef_88bb_5405db6b27aalevel0_row6\" class=\"row_heading level0 row6\" >jp_sales</th>\n",
       "                        <td id=\"T_95b3b74c_0ed5_11ef_88bb_5405db6b27aarow6_col0\" class=\"data row6 col0\" >0.000000</td>\n",
       "            </tr>\n",
       "            <tr>\n",
       "                        <th id=\"T_95b3b74c_0ed5_11ef_88bb_5405db6b27aalevel0_row7\" class=\"row_heading level0 row7\" >other_sales</th>\n",
       "                        <td id=\"T_95b3b74c_0ed5_11ef_88bb_5405db6b27aarow7_col0\" class=\"data row7 col0\" >0.000000</td>\n",
       "            </tr>\n",
       "            <tr>\n",
       "                        <th id=\"T_95b3b74c_0ed5_11ef_88bb_5405db6b27aalevel0_row8\" class=\"row_heading level0 row8\" >critic_score</th>\n",
       "                        <td id=\"T_95b3b74c_0ed5_11ef_88bb_5405db6b27aarow8_col0\" class=\"data row8 col0\" >51.320000</td>\n",
       "            </tr>\n",
       "            <tr>\n",
       "                        <th id=\"T_95b3b74c_0ed5_11ef_88bb_5405db6b27aalevel0_row9\" class=\"row_heading level0 row9\" >user_score</th>\n",
       "                        <td id=\"T_95b3b74c_0ed5_11ef_88bb_5405db6b27aarow9_col0\" class=\"data row9 col0\" >40.090000</td>\n",
       "            </tr>\n",
       "            <tr>\n",
       "                        <th id=\"T_95b3b74c_0ed5_11ef_88bb_5405db6b27aalevel0_row10\" class=\"row_heading level0 row10\" >rating</th>\n",
       "                        <td id=\"T_95b3b74c_0ed5_11ef_88bb_5405db6b27aarow10_col0\" class=\"data row10 col0\" >40.480000</td>\n",
       "            </tr>\n",
       "    </tbody></table>"
      ],
      "text/plain": [
       "<pandas.io.formats.style.Styler at 0x1f5ff723ca0>"
      ]
     },
     "execution_count": 7,
     "metadata": {},
     "output_type": "execute_result"
    }
   ],
   "source": [
    "pd.DataFrame(round(research_games.isna().mean()*100,2)).style.background_gradient('coolwarm')"
   ]
  },
  {
   "cell_type": "markdown",
   "metadata": {},
   "source": [
    "critic_score, user_score, rating have 50% missing values out of 16713 rows. В year_of_release есть дубликаты. Name has 2 missing values. Look at it."
   ]
  },
  {
   "cell_type": "code",
   "execution_count": 8,
   "metadata": {
    "scrolled": true
   },
   "outputs": [
    {
     "data": {
      "text/html": [
       "<div>\n",
       "<style scoped>\n",
       "    .dataframe tbody tr th:only-of-type {\n",
       "        vertical-align: middle;\n",
       "    }\n",
       "\n",
       "    .dataframe tbody tr th {\n",
       "        vertical-align: top;\n",
       "    }\n",
       "\n",
       "    .dataframe thead th {\n",
       "        text-align: right;\n",
       "    }\n",
       "</style>\n",
       "<table border=\"1\" class=\"dataframe\">\n",
       "  <thead>\n",
       "    <tr style=\"text-align: right;\">\n",
       "      <th></th>\n",
       "      <th>name</th>\n",
       "      <th>platform</th>\n",
       "      <th>year_of_release</th>\n",
       "      <th>genre</th>\n",
       "      <th>na_sales</th>\n",
       "      <th>eu_sales</th>\n",
       "      <th>jp_sales</th>\n",
       "      <th>other_sales</th>\n",
       "      <th>critic_score</th>\n",
       "      <th>user_score</th>\n",
       "      <th>rating</th>\n",
       "    </tr>\n",
       "  </thead>\n",
       "  <tbody>\n",
       "    <tr>\n",
       "      <th>659</th>\n",
       "      <td>NaN</td>\n",
       "      <td>GEN</td>\n",
       "      <td>1993.0</td>\n",
       "      <td>NaN</td>\n",
       "      <td>1.78</td>\n",
       "      <td>0.53</td>\n",
       "      <td>0.00</td>\n",
       "      <td>0.08</td>\n",
       "      <td>NaN</td>\n",
       "      <td>NaN</td>\n",
       "      <td>NaN</td>\n",
       "    </tr>\n",
       "    <tr>\n",
       "      <th>14244</th>\n",
       "      <td>NaN</td>\n",
       "      <td>GEN</td>\n",
       "      <td>1993.0</td>\n",
       "      <td>NaN</td>\n",
       "      <td>0.00</td>\n",
       "      <td>0.00</td>\n",
       "      <td>0.03</td>\n",
       "      <td>0.00</td>\n",
       "      <td>NaN</td>\n",
       "      <td>NaN</td>\n",
       "      <td>NaN</td>\n",
       "    </tr>\n",
       "  </tbody>\n",
       "</table>\n",
       "</div>"
      ],
      "text/plain": [
       "      name platform  year_of_release genre  na_sales  eu_sales  jp_sales  \\\n",
       "659    NaN      GEN           1993.0   NaN      1.78      0.53      0.00   \n",
       "14244  NaN      GEN           1993.0   NaN      0.00      0.00      0.03   \n",
       "\n",
       "       other_sales  critic_score user_score rating  \n",
       "659           0.08           NaN        NaN    NaN  \n",
       "14244         0.00           NaN        NaN    NaN  "
      ]
     },
     "execution_count": 8,
     "metadata": {},
     "output_type": "execute_result"
    }
   ],
   "source": [
    "research_games[research_games['name'].isna()]"
   ]
  },
  {
   "cell_type": "markdown",
   "metadata": {},
   "source": [
    "Let's remove 2 rows with missing values in 'Name' column - these data also lack Genre, Scores, Rating, and have almost zero sales. We conclude that removing these 2 rows will not affect results of subsequent analysis.\n",
    "A possible reason for the missing values could be technical error in pulling data from open sources or incomplete data entry."
   ]
  },
  {
   "cell_type": "code",
   "execution_count": 9,
   "metadata": {},
   "outputs": [
    {
     "data": {
      "text/html": [
       "<div>\n",
       "<style scoped>\n",
       "    .dataframe tbody tr th:only-of-type {\n",
       "        vertical-align: middle;\n",
       "    }\n",
       "\n",
       "    .dataframe tbody tr th {\n",
       "        vertical-align: top;\n",
       "    }\n",
       "\n",
       "    .dataframe thead th {\n",
       "        text-align: right;\n",
       "    }\n",
       "</style>\n",
       "<table border=\"1\" class=\"dataframe\">\n",
       "  <thead>\n",
       "    <tr style=\"text-align: right;\">\n",
       "      <th></th>\n",
       "      <th>name</th>\n",
       "      <th>platform</th>\n",
       "      <th>year_of_release</th>\n",
       "      <th>genre</th>\n",
       "      <th>na_sales</th>\n",
       "      <th>eu_sales</th>\n",
       "      <th>jp_sales</th>\n",
       "      <th>other_sales</th>\n",
       "      <th>critic_score</th>\n",
       "      <th>user_score</th>\n",
       "      <th>rating</th>\n",
       "    </tr>\n",
       "  </thead>\n",
       "  <tbody>\n",
       "  </tbody>\n",
       "</table>\n",
       "</div>"
      ],
      "text/plain": [
       "Empty DataFrame\n",
       "Columns: [name, platform, year_of_release, genre, na_sales, eu_sales, jp_sales, other_sales, critic_score, user_score, rating]\n",
       "Index: []"
      ]
     },
     "execution_count": 9,
     "metadata": {},
     "output_type": "execute_result"
    }
   ],
   "source": [
    "research_games.dropna(subset = ['name'], inplace = True)\n",
    "\n",
    "# display once again to check missing values by name\n",
    "research_games[research_games['name'].isna()]"
   ]
  },
  {
   "cell_type": "code",
   "execution_count": 10,
   "metadata": {
    "scrolled": true
   },
   "outputs": [
    {
     "data": {
      "text/html": [
       "<div>\n",
       "<style scoped>\n",
       "    .dataframe tbody tr th:only-of-type {\n",
       "        vertical-align: middle;\n",
       "    }\n",
       "\n",
       "    .dataframe tbody tr th {\n",
       "        vertical-align: top;\n",
       "    }\n",
       "\n",
       "    .dataframe thead th {\n",
       "        text-align: right;\n",
       "    }\n",
       "</style>\n",
       "<table border=\"1\" class=\"dataframe\">\n",
       "  <thead>\n",
       "    <tr style=\"text-align: right;\">\n",
       "      <th></th>\n",
       "      <th>name</th>\n",
       "      <th>platform</th>\n",
       "      <th>year_of_release</th>\n",
       "      <th>genre</th>\n",
       "      <th>na_sales</th>\n",
       "      <th>eu_sales</th>\n",
       "      <th>jp_sales</th>\n",
       "      <th>other_sales</th>\n",
       "      <th>critic_score</th>\n",
       "      <th>user_score</th>\n",
       "      <th>rating</th>\n",
       "    </tr>\n",
       "  </thead>\n",
       "  <tbody>\n",
       "    <tr>\n",
       "      <th>183</th>\n",
       "      <td>Madden NFL 2004</td>\n",
       "      <td>PS2</td>\n",
       "      <td>NaN</td>\n",
       "      <td>Sports</td>\n",
       "      <td>4.26</td>\n",
       "      <td>0.26</td>\n",
       "      <td>0.01</td>\n",
       "      <td>0.71</td>\n",
       "      <td>94.0</td>\n",
       "      <td>8.5</td>\n",
       "      <td>E</td>\n",
       "    </tr>\n",
       "    <tr>\n",
       "      <th>377</th>\n",
       "      <td>FIFA Soccer 2004</td>\n",
       "      <td>PS2</td>\n",
       "      <td>NaN</td>\n",
       "      <td>Sports</td>\n",
       "      <td>0.59</td>\n",
       "      <td>2.36</td>\n",
       "      <td>0.04</td>\n",
       "      <td>0.51</td>\n",
       "      <td>84.0</td>\n",
       "      <td>6.4</td>\n",
       "      <td>E</td>\n",
       "    </tr>\n",
       "    <tr>\n",
       "      <th>456</th>\n",
       "      <td>LEGO Batman: The Videogame</td>\n",
       "      <td>Wii</td>\n",
       "      <td>NaN</td>\n",
       "      <td>Action</td>\n",
       "      <td>1.80</td>\n",
       "      <td>0.97</td>\n",
       "      <td>0.00</td>\n",
       "      <td>0.29</td>\n",
       "      <td>74.0</td>\n",
       "      <td>7.9</td>\n",
       "      <td>E10+</td>\n",
       "    </tr>\n",
       "    <tr>\n",
       "      <th>475</th>\n",
       "      <td>wwe Smackdown vs. Raw 2006</td>\n",
       "      <td>PS2</td>\n",
       "      <td>NaN</td>\n",
       "      <td>Fighting</td>\n",
       "      <td>1.57</td>\n",
       "      <td>1.02</td>\n",
       "      <td>0.00</td>\n",
       "      <td>0.41</td>\n",
       "      <td>NaN</td>\n",
       "      <td>NaN</td>\n",
       "      <td>NaN</td>\n",
       "    </tr>\n",
       "    <tr>\n",
       "      <th>609</th>\n",
       "      <td>Space Invaders</td>\n",
       "      <td>2600</td>\n",
       "      <td>NaN</td>\n",
       "      <td>Shooter</td>\n",
       "      <td>2.36</td>\n",
       "      <td>0.14</td>\n",
       "      <td>0.00</td>\n",
       "      <td>0.03</td>\n",
       "      <td>NaN</td>\n",
       "      <td>NaN</td>\n",
       "      <td>NaN</td>\n",
       "    </tr>\n",
       "  </tbody>\n",
       "</table>\n",
       "</div>"
      ],
      "text/plain": [
       "                           name platform  year_of_release     genre  na_sales  \\\n",
       "183             Madden NFL 2004      PS2              NaN    Sports      4.26   \n",
       "377            FIFA Soccer 2004      PS2              NaN    Sports      0.59   \n",
       "456  LEGO Batman: The Videogame      Wii              NaN    Action      1.80   \n",
       "475  wwe Smackdown vs. Raw 2006      PS2              NaN  Fighting      1.57   \n",
       "609              Space Invaders     2600              NaN   Shooter      2.36   \n",
       "\n",
       "     eu_sales  jp_sales  other_sales  critic_score user_score rating  \n",
       "183      0.26      0.01         0.71          94.0        8.5      E  \n",
       "377      2.36      0.04         0.51          84.0        6.4      E  \n",
       "456      0.97      0.00         0.29          74.0        7.9   E10+  \n",
       "475      1.02      0.00         0.41           NaN        NaN    NaN  \n",
       "609      0.14      0.00         0.03           NaN        NaN    NaN  "
      ]
     },
     "execution_count": 10,
     "metadata": {},
     "output_type": "execute_result"
    }
   ],
   "source": [
    "research_games[research_games['year_of_release'].isna()].head()"
   ]
  },
  {
   "cell_type": "markdown",
   "metadata": {},
   "source": [
    "Column year_of_release shows 269 missing values. Seems that is error in uploading process. Share of missing values here is only 1.6% from total, we can remove this data."
   ]
  },
  {
   "cell_type": "code",
   "execution_count": 11,
   "metadata": {},
   "outputs": [],
   "source": [
    "research_games.dropna(subset = ['year_of_release'], inplace = True)"
   ]
  },
  {
   "cell_type": "code",
   "execution_count": 12,
   "metadata": {},
   "outputs": [
    {
     "data": {
      "text/html": [
       "<style  type=\"text/css\" >\n",
       "#T_95c2cc0a_0ed5_11ef_bebb_5405db6b27aarow0_col0,#T_95c2cc0a_0ed5_11ef_bebb_5405db6b27aarow1_col0,#T_95c2cc0a_0ed5_11ef_bebb_5405db6b27aarow2_col0,#T_95c2cc0a_0ed5_11ef_bebb_5405db6b27aarow3_col0,#T_95c2cc0a_0ed5_11ef_bebb_5405db6b27aarow4_col0,#T_95c2cc0a_0ed5_11ef_bebb_5405db6b27aarow5_col0,#T_95c2cc0a_0ed5_11ef_bebb_5405db6b27aarow6_col0,#T_95c2cc0a_0ed5_11ef_bebb_5405db6b27aarow7_col0{\n",
       "            background-color:  #3b4cc0;\n",
       "            color:  #f1f1f1;\n",
       "        }#T_95c2cc0a_0ed5_11ef_bebb_5405db6b27aarow8_col0{\n",
       "            background-color:  #b40426;\n",
       "            color:  #f1f1f1;\n",
       "        }#T_95c2cc0a_0ed5_11ef_bebb_5405db6b27aarow9_col0{\n",
       "            background-color:  #f18d6f;\n",
       "            color:  #000000;\n",
       "        }#T_95c2cc0a_0ed5_11ef_bebb_5405db6b27aarow10_col0{\n",
       "            background-color:  #ef886b;\n",
       "            color:  #000000;\n",
       "        }</style><table id=\"T_95c2cc0a_0ed5_11ef_bebb_5405db6b27aa\" ><thead>    <tr>        <th class=\"blank level0\" ></th>        <th class=\"col_heading level0 col0\" >0</th>    </tr></thead><tbody>\n",
       "                <tr>\n",
       "                        <th id=\"T_95c2cc0a_0ed5_11ef_bebb_5405db6b27aalevel0_row0\" class=\"row_heading level0 row0\" >name</th>\n",
       "                        <td id=\"T_95c2cc0a_0ed5_11ef_bebb_5405db6b27aarow0_col0\" class=\"data row0 col0\" >0.000000</td>\n",
       "            </tr>\n",
       "            <tr>\n",
       "                        <th id=\"T_95c2cc0a_0ed5_11ef_bebb_5405db6b27aalevel0_row1\" class=\"row_heading level0 row1\" >platform</th>\n",
       "                        <td id=\"T_95c2cc0a_0ed5_11ef_bebb_5405db6b27aarow1_col0\" class=\"data row1 col0\" >0.000000</td>\n",
       "            </tr>\n",
       "            <tr>\n",
       "                        <th id=\"T_95c2cc0a_0ed5_11ef_bebb_5405db6b27aalevel0_row2\" class=\"row_heading level0 row2\" >year_of_release</th>\n",
       "                        <td id=\"T_95c2cc0a_0ed5_11ef_bebb_5405db6b27aarow2_col0\" class=\"data row2 col0\" >0.000000</td>\n",
       "            </tr>\n",
       "            <tr>\n",
       "                        <th id=\"T_95c2cc0a_0ed5_11ef_bebb_5405db6b27aalevel0_row3\" class=\"row_heading level0 row3\" >genre</th>\n",
       "                        <td id=\"T_95c2cc0a_0ed5_11ef_bebb_5405db6b27aarow3_col0\" class=\"data row3 col0\" >0.000000</td>\n",
       "            </tr>\n",
       "            <tr>\n",
       "                        <th id=\"T_95c2cc0a_0ed5_11ef_bebb_5405db6b27aalevel0_row4\" class=\"row_heading level0 row4\" >na_sales</th>\n",
       "                        <td id=\"T_95c2cc0a_0ed5_11ef_bebb_5405db6b27aarow4_col0\" class=\"data row4 col0\" >0.000000</td>\n",
       "            </tr>\n",
       "            <tr>\n",
       "                        <th id=\"T_95c2cc0a_0ed5_11ef_bebb_5405db6b27aalevel0_row5\" class=\"row_heading level0 row5\" >eu_sales</th>\n",
       "                        <td id=\"T_95c2cc0a_0ed5_11ef_bebb_5405db6b27aarow5_col0\" class=\"data row5 col0\" >0.000000</td>\n",
       "            </tr>\n",
       "            <tr>\n",
       "                        <th id=\"T_95c2cc0a_0ed5_11ef_bebb_5405db6b27aalevel0_row6\" class=\"row_heading level0 row6\" >jp_sales</th>\n",
       "                        <td id=\"T_95c2cc0a_0ed5_11ef_bebb_5405db6b27aarow6_col0\" class=\"data row6 col0\" >0.000000</td>\n",
       "            </tr>\n",
       "            <tr>\n",
       "                        <th id=\"T_95c2cc0a_0ed5_11ef_bebb_5405db6b27aalevel0_row7\" class=\"row_heading level0 row7\" >other_sales</th>\n",
       "                        <td id=\"T_95c2cc0a_0ed5_11ef_bebb_5405db6b27aarow7_col0\" class=\"data row7 col0\" >0.000000</td>\n",
       "            </tr>\n",
       "            <tr>\n",
       "                        <th id=\"T_95c2cc0a_0ed5_11ef_bebb_5405db6b27aalevel0_row8\" class=\"row_heading level0 row8\" >critic_score</th>\n",
       "                        <td id=\"T_95c2cc0a_0ed5_11ef_bebb_5405db6b27aarow8_col0\" class=\"data row8 col0\" >51.450000</td>\n",
       "            </tr>\n",
       "            <tr>\n",
       "                        <th id=\"T_95c2cc0a_0ed5_11ef_bebb_5405db6b27aalevel0_row9\" class=\"row_heading level0 row9\" >user_score</th>\n",
       "                        <td id=\"T_95c2cc0a_0ed5_11ef_bebb_5405db6b27aarow9_col0\" class=\"data row9 col0\" >40.170000</td>\n",
       "            </tr>\n",
       "            <tr>\n",
       "                        <th id=\"T_95c2cc0a_0ed5_11ef_bebb_5405db6b27aalevel0_row10\" class=\"row_heading level0 row10\" >rating</th>\n",
       "                        <td id=\"T_95c2cc0a_0ed5_11ef_bebb_5405db6b27aarow10_col0\" class=\"data row10 col0\" >40.600000</td>\n",
       "            </tr>\n",
       "    </tbody></table>"
      ],
      "text/plain": [
       "<pandas.io.formats.style.Styler at 0x1f5b0f62910>"
      ]
     },
     "execution_count": 12,
     "metadata": {},
     "output_type": "execute_result"
    }
   ],
   "source": [
    "# checking missing values after removal\n",
    "pd.DataFrame(round(research_games.isna().mean()*100,2)).style.background_gradient('coolwarm')"
   ]
  },
  {
   "cell_type": "code",
   "execution_count": 13,
   "metadata": {},
   "outputs": [],
   "source": [
    "# change type for year_of_release\n",
    "research_games['year_of_release'] = research_games['year_of_release'].astype('int')"
   ]
  },
  {
   "cell_type": "code",
   "execution_count": 14,
   "metadata": {},
   "outputs": [],
   "source": [
    "# fullfill tbd by missing items for making easier data preprocessing\n",
    "research_games.user_score = np.where(research_games.user_score == 'tbd', np.nan, research_games.user_score).astype('float')"
   ]
  },
  {
   "cell_type": "markdown",
   "metadata": {},
   "source": [
    "In 'user_score' column, 'tbd' stands for \"to be determined,\" indicating rating will be determined later. There are approximately 2424 rows. Let's fill them with NaNs so that we can change data type."
   ]
  },
  {
   "cell_type": "markdown",
   "metadata": {},
   "source": [
    "### Task 3.  Сonvert  data to lowercase in several columns"
   ]
  },
  {
   "cell_type": "code",
   "execution_count": 15,
   "metadata": {},
   "outputs": [],
   "source": [
    "columns_to_lower = ['name', 'platform', 'genre']\n",
    "\n",
    "for column in columns_to_lower:\n",
    "    research_games[column] = research_games[column].str.lower()"
   ]
  },
  {
   "cell_type": "markdown",
   "metadata": {},
   "source": [
    "Columns critic_score, \tuser_score, rating has 50% missing values out of whole data. Seems it is erroe of uploading, or critics\\users didnt score games. Change missing values, unfortunately, is not possibly by any logic, changes can negativly influance on data quality."
   ]
  },
  {
   "cell_type": "code",
   "execution_count": 16,
   "metadata": {},
   "outputs": [
    {
     "data": {
      "text/plain": [
       "0"
      ]
     },
     "execution_count": 16,
     "metadata": {},
     "output_type": "execute_result"
    }
   ],
   "source": [
    "# check explicit duplicates\n",
    "research_games.duplicated().sum()"
   ]
  },
  {
   "cell_type": "markdown",
   "metadata": {},
   "source": [
    "### Task 4. Calculate sum sales in all regions and apply to new column."
   ]
  },
  {
   "cell_type": "code",
   "execution_count": 17,
   "metadata": {},
   "outputs": [
    {
     "name": "stdout",
     "output_type": "stream",
     "text": [
      "<class 'pandas.core.frame.DataFrame'>\n",
      "Int64Index: 16444 entries, 0 to 16714\n",
      "Data columns (total 12 columns):\n",
      " #   Column           Non-Null Count  Dtype  \n",
      "---  ------           --------------  -----  \n",
      " 0   name             16444 non-null  object \n",
      " 1   platform         16444 non-null  object \n",
      " 2   year_of_release  16444 non-null  int32  \n",
      " 3   genre            16444 non-null  object \n",
      " 4   na_sales         16444 non-null  float64\n",
      " 5   eu_sales         16444 non-null  float64\n",
      " 6   jp_sales         16444 non-null  float64\n",
      " 7   other_sales      16444 non-null  float64\n",
      " 8   critic_score     7983 non-null   float64\n",
      " 9   user_score       7463 non-null   float64\n",
      " 10  rating           9768 non-null   object \n",
      " 11  total_sales      16444 non-null  float64\n",
      "dtypes: float64(7), int32(1), object(4)\n",
      "memory usage: 1.6+ MB\n"
     ]
    }
   ],
   "source": [
    "research_games['total_sales'] = research_games.loc[:, research_games.columns.str.endswith('_sales')].sum(axis=1)\n",
    "research_games.info()"
   ]
  },
  {
   "cell_type": "markdown",
   "metadata": {},
   "source": [
    "**Section summary**\n",
    "\n",
    " - Removed missing values representing a negligible fraction of all rows (year_of_release and name).\n",
    " - Missing values in user_score, critic_score, and rating, as well as 'tbd'.\n",
    " - Changed data types for year_of_realese.\n",
    " - Checked for obvious duplicates in the data.\n",
    " - Converted the names of some columns and their data to lowercase.\n",
    " - Calculated the total sales across all regions and recorded them in a separate column named total_sales."
   ]
  },
  {
   "cell_type": "markdown",
   "metadata": {},
   "source": [
    "##  3. Exploratory data analysis"
   ]
  },
  {
   "cell_type": "markdown",
   "metadata": {},
   "source": [
    "### Task 1. Check how many games released by years. Is it important to have data of whole period?"
   ]
  },
  {
   "cell_type": "code",
   "execution_count": 18,
   "metadata": {},
   "outputs": [
    {
     "data": {
      "image/png": "[encoded data removed]",
      "text/plain": [
       "<Figure size 1440x360 with 1 Axes>"
      ]
     },
     "metadata": {
      "needs_background": "light"
     },
     "output_type": "display_data"
    }
   ],
   "source": [
    "research_games[research_games.year_of_release.notnull()].year_of_release.astype('int').value_counts().sort_index().plot(kind='bar', title='Released games qty by year')\n",
    "\n",
    "\n",
    "plt.xlabel('Year')\n",
    "plt.ylabel('Qty')\n",
    "plt.show()"
   ]
  },
  {
   "cell_type": "markdown",
   "metadata": {},
   "source": [
    "Data shows that main activity started from 2002. Save data from 2002 for next steps."
   ]
  },
  {
   "cell_type": "markdown",
   "metadata": {},
   "source": [
    "### Task 2. Looking at sales by platform. Select platforms with max sum sales and build sales distribution per year. What is life cycle of platforms?"
   ]
  },
  {
   "cell_type": "code",
   "execution_count": 19,
   "metadata": {},
   "outputs": [
    {
     "data": {
      "text/plain": [
       "platform\n",
       "ps2     1233.56\n",
       "x360     961.24\n",
       "ps3      931.34\n",
       "wii      891.18\n",
       "ds       802.78\n",
       "ps       727.58\n",
       "ps4      314.14\n",
       "gba      312.88\n",
       "psp      289.53\n",
       "3ds      257.81\n",
       "pc       255.76\n",
       "gb       254.43\n",
       "xb       251.57\n",
       "nes      251.05\n",
       "n64      218.01\n",
       "snes     200.04\n",
       "gc       196.73\n",
       "xone     159.32\n",
       "2600      86.48\n",
       "wiiu      82.19\n",
       "psv       53.81\n",
       "sat       33.59\n",
       "gen       28.35\n",
       "dc        15.95\n",
       "scd        1.86\n",
       "ng         1.44\n",
       "ws         1.42\n",
       "tg16       0.16\n",
       "3do        0.10\n",
       "gg         0.04\n",
       "pcfx       0.03\n",
       "Name: total_sales, dtype: float64"
      ]
     },
     "execution_count": 19,
     "metadata": {},
     "output_type": "execute_result"
    }
   ],
   "source": [
    "platform_sales = research_games.groupby('platform').total_sales.sum().sort_values(ascending=False)\n",
    "platform_sales"
   ]
  },
  {
   "cell_type": "code",
   "execution_count": 20,
   "metadata": {
    "scrolled": false
   },
   "outputs": [
    {
     "data": {
      "image/png": "[encoded data removed]",
      "text/plain": [
       "<Figure size 1440x1080 with 6 Axes>"
      ]
     },
     "metadata": {
      "needs_background": "light"
     },
     "output_type": "display_data"
    }
   ],
   "source": [
    "# forming top-platforms list and building visualization\n",
    "top_platforms = research_games[research_games.platform.isin(platform_sales.index[:6])]\n",
    "\n",
    "(\n",
    "    top_platforms\n",
    "    .groupby(['year_of_release','platform']) \n",
    "    .total_sales\n",
    "    .sum() \n",
    "    .unstack(1) \n",
    "    .plot(kind='bar', subplots=True, figsize=(20,15))\n",
    ")\n",
    "plt.show()"
   ]
  },
  {
   "cell_type": "markdown",
   "metadata": {},
   "source": [
    "Sugnificant sales decrease  start from 3rd year of platform cycle. Making decision to use relevant data from 2014 (2016-3 years)."
   ]
  },
  {
   "cell_type": "markdown",
   "metadata": {},
   "source": [
    "### Task 3. Show top-platforms in sales, are they increasing or decreasing? Choose potential profitable platforms. "
   ]
  },
  {
   "cell_type": "code",
   "execution_count": 21,
   "metadata": {},
   "outputs": [
    {
     "data": {
      "image/png": "[encoded data removed]",
      "text/plain": [
       "<Figure size 1440x1440 with 10 Axes>"
      ]
     },
     "metadata": {
      "needs_background": "light"
     },
     "output_type": "display_data"
    }
   ],
   "source": [
    "(\n",
    "    research_games[research_games.year_of_release >= 2014]\n",
    "    .groupby(['year_of_release','platform']) \n",
    "    .total_sales\n",
    "    .sum() \n",
    "    .unstack(1) \n",
    "    .plot(kind='bar', subplots=True, figsize=(20,20))\n",
    ")\n",
    "plt.show()"
   ]
  },
  {
   "cell_type": "markdown",
   "metadata": {},
   "source": [
    "Skip PS3, PSP, Wii, X360 from analysis, they were ended life cycle in 2016.\n",
    "\n",
    "XOne, PS4 looks profitable due to sales increase in 2015. In generall, sales trend is negative."
   ]
  },
  {
   "cell_type": "code",
   "execution_count": 22,
   "metadata": {},
   "outputs": [
    {
     "data": {
      "text/plain": [
       "(1689, 12)"
      ]
     },
     "execution_count": 22,
     "metadata": {},
     "output_type": "execute_result"
    }
   ],
   "source": [
    "research_games_refreshed = research_games.query('year_of_release >= 2014 & platform not in [\"PS3\", \"X360\", \"Wii\", \"PSP\"]').reset_index(drop=True)\n",
    "research_games_refreshed.shape"
   ]
  },
  {
   "cell_type": "markdown",
   "metadata": {},
   "source": [
    "### Task 4. Build boxplot for global games sales by platforms. Describing a result."
   ]
  },
  {
   "cell_type": "code",
   "execution_count": 23,
   "metadata": {},
   "outputs": [
    {
     "data": {
      "image/png": "[encoded data removed]",
      "text/plain": [
       "<Figure size 1440x360 with 1 Axes>"
      ]
     },
     "metadata": {
      "needs_background": "light"
     },
     "output_type": "display_data"
    }
   ],
   "source": [
    "research_games_refreshed.boxplot('total_sales', by='platform')\n",
    "\n",
    "plt.ylim(0, 4)\n",
    "plt.show()"
   ]
  },
  {
   "cell_type": "markdown",
   "metadata": {},
   "source": [
    "PS4, WiiU, XOne looks as top-rated in sales"
   ]
  },
  {
   "cell_type": "markdown",
   "metadata": {},
   "source": [
    "### Task 5. Look at correlation between scores and sales. Build scatter plot and calculate correlation between scores and sales. Formulate conclusions."
   ]
  },
  {
   "cell_type": "code",
   "execution_count": 24,
   "metadata": {},
   "outputs": [
    {
     "data": {
      "image/png": "[encoded data removed]",
      "text/plain": [
       "<Figure size 1440x360 with 1 Axes>"
      ]
     },
     "metadata": {
      "needs_background": "light"
     },
     "output_type": "display_data"
    }
   ],
   "source": [
    "research_games_refreshed.plot(x='critic_score', y='total_sales', kind='scatter')\n",
    "plt.show()"
   ]
  },
  {
   "cell_type": "code",
   "execution_count": 25,
   "metadata": {
    "scrolled": false
   },
   "outputs": [
    {
     "data": {
      "image/png": "[encoded data removed]",
      "text/plain": [
       "<Figure size 1440x360 with 1 Axes>"
      ]
     },
     "metadata": {
      "needs_background": "light"
     },
     "output_type": "display_data"
    }
   ],
   "source": [
    "research_games_refreshed.plot(x='user_score', y='total_sales', kind='scatter')\n",
    "plt.show()"
   ]
  },
  {
   "cell_type": "code",
   "execution_count": 26,
   "metadata": {},
   "outputs": [
    {
     "data": {
      "text/html": [
       "<style  type=\"text/css\" >\n",
       "#T_9776f51a_0ed5_11ef_82e6_5405db6b27aarow0_col0,#T_9776f51a_0ed5_11ef_82e6_5405db6b27aarow1_col1,#T_9776f51a_0ed5_11ef_82e6_5405db6b27aarow2_col2{\n",
       "            background-color:  #b40426;\n",
       "            color:  #f1f1f1;\n",
       "        }#T_9776f51a_0ed5_11ef_82e6_5405db6b27aarow0_col1{\n",
       "            background-color:  #dfdbd9;\n",
       "            color:  #000000;\n",
       "        }#T_9776f51a_0ed5_11ef_82e6_5405db6b27aarow0_col2{\n",
       "            background-color:  #abc8fd;\n",
       "            color:  #000000;\n",
       "        }#T_9776f51a_0ed5_11ef_82e6_5405db6b27aarow1_col0{\n",
       "            background-color:  #92b4fe;\n",
       "            color:  #000000;\n",
       "        }#T_9776f51a_0ed5_11ef_82e6_5405db6b27aarow1_col2,#T_9776f51a_0ed5_11ef_82e6_5405db6b27aarow2_col0,#T_9776f51a_0ed5_11ef_82e6_5405db6b27aarow2_col1{\n",
       "            background-color:  #3b4cc0;\n",
       "            color:  #f1f1f1;\n",
       "        }</style><table id=\"T_9776f51a_0ed5_11ef_82e6_5405db6b27aa\" ><thead>    <tr>        <th class=\"blank level0\" ></th>        <th class=\"col_heading level0 col0\" >critic_score</th>        <th class=\"col_heading level0 col1\" >user_score</th>        <th class=\"col_heading level0 col2\" >total_sales</th>    </tr></thead><tbody>\n",
       "                <tr>\n",
       "                        <th id=\"T_9776f51a_0ed5_11ef_82e6_5405db6b27aalevel0_row0\" class=\"row_heading level0 row0\" >critic_score</th>\n",
       "                        <td id=\"T_9776f51a_0ed5_11ef_82e6_5405db6b27aarow0_col0\" class=\"data row0 col0\" >1.000000</td>\n",
       "                        <td id=\"T_9776f51a_0ed5_11ef_82e6_5405db6b27aarow0_col1\" class=\"data row0 col1\" >0.504460</td>\n",
       "                        <td id=\"T_9776f51a_0ed5_11ef_82e6_5405db6b27aarow0_col2\" class=\"data row0 col2\" >0.328105</td>\n",
       "            </tr>\n",
       "            <tr>\n",
       "                        <th id=\"T_9776f51a_0ed5_11ef_82e6_5405db6b27aalevel0_row1\" class=\"row_heading level0 row1\" >user_score</th>\n",
       "                        <td id=\"T_9776f51a_0ed5_11ef_82e6_5405db6b27aarow1_col0\" class=\"data row1 col0\" >0.504460</td>\n",
       "                        <td id=\"T_9776f51a_0ed5_11ef_82e6_5405db6b27aarow1_col1\" class=\"data row1 col1\" >1.000000</td>\n",
       "                        <td id=\"T_9776f51a_0ed5_11ef_82e6_5405db6b27aarow1_col2\" class=\"data row1 col2\" >-0.013070</td>\n",
       "            </tr>\n",
       "            <tr>\n",
       "                        <th id=\"T_9776f51a_0ed5_11ef_82e6_5405db6b27aalevel0_row2\" class=\"row_heading level0 row2\" >total_sales</th>\n",
       "                        <td id=\"T_9776f51a_0ed5_11ef_82e6_5405db6b27aarow2_col0\" class=\"data row2 col0\" >0.328105</td>\n",
       "                        <td id=\"T_9776f51a_0ed5_11ef_82e6_5405db6b27aarow2_col1\" class=\"data row2 col1\" >-0.013070</td>\n",
       "                        <td id=\"T_9776f51a_0ed5_11ef_82e6_5405db6b27aarow2_col2\" class=\"data row2 col2\" >1.000000</td>\n",
       "            </tr>\n",
       "    </tbody></table>"
      ],
      "text/plain": [
       "<pandas.io.formats.style.Styler at 0x1f5b43c6040>"
      ]
     },
     "execution_count": 26,
     "metadata": {},
     "output_type": "execute_result"
    }
   ],
   "source": [
    "research_games_refreshed[['critic_score', 'user_score', 'total_sales']].corr().style.background_gradient(cmap='coolwarm')"
   ]
  },
  {
   "cell_type": "markdown",
   "metadata": {},
   "source": [
    "No strong correlation between scores and sales. Critic score may slightly correlate to sales."
   ]
  },
  {
   "cell_type": "markdown",
   "metadata": {},
   "source": [
    "### Task 6. Look at general distribution of games by genres. What are spefics for profitable genres? Are there big differance between profitable and non-profitable genres?"
   ]
  },
  {
   "cell_type": "code",
   "execution_count": 27,
   "metadata": {},
   "outputs": [
    {
     "data": {
      "image/png": "[encoded data removed]",
      "text/plain": [
       "<Figure size 1440x360 with 1 Axes>"
      ]
     },
     "metadata": {
      "needs_background": "light"
     },
     "output_type": "display_data"
    }
   ],
   "source": [
    "research_games_refreshed.genre.value_counts().plot(kind='bar', title='general distribution of games by genres')\n",
    "\n",
    "plt.xlabel('game')\n",
    "plt.ylabel('qty')\n",
    "plt.show()"
   ]
  },
  {
   "cell_type": "markdown",
   "metadata": {},
   "source": [
    "Main part of games were released in 'Action' genre, next one is 'Role-Playing'"
   ]
  },
  {
   "cell_type": "code",
   "execution_count": 28,
   "metadata": {},
   "outputs": [
    {
     "data": {
      "image/png": "[encoded data removed]",
      "text/plain": [
       "<Figure size 1440x360 with 1 Axes>"
      ]
     },
     "metadata": {
      "needs_background": "light"
     },
     "output_type": "display_data"
    }
   ],
   "source": [
    "research_games_refreshed.groupby('genre').total_sales.sum().sort_values(ascending=False).plot(kind='bar',title='sales distribution of games by genres')\n",
    "\n",
    "plt.xlabel('game')\n",
    "plt.ylabel('sales')\n",
    "plt.show()"
   ]
  },
  {
   "cell_type": "markdown",
   "metadata": {},
   "source": [
    "Main profitable games were Action, Shooter and Sport."
   ]
  },
  {
   "cell_type": "markdown",
   "metadata": {},
   "source": [
    "**Section summary:**\n",
    "- Data shows that main activity started from 2002. Save data from 2002 for next steps.\n",
    "- Sugnificant sales decrease  start from 3rd year of platform cycle. Making decision to use relevant data from 2014 (2016-3 years).\n",
    "- Skip PS3, PSP, Wii, X360 from analysis, they were ended life cycle in 2016. XOne, PS4 looks profitable due to sales increase in 2015. In generall, sales trend is negative.\n",
    "- PS4, WiiU, XOne looks as top-rated in sales. \n",
    "- можно выделить жанры с высокими и низкими продажами.No strong correlation between scores and sales. Critic score may slightly correlate to sales from 60 points.\n",
    "- Main part of games were released in 'Action' genre, next one is 'Role-Playing'. Main profitable games were Action, Shooter and Sport."
   ]
  },
  {
   "cell_type": "markdown",
   "metadata": {},
   "source": [
    "## 4. Build user portret for each region"
   ]
  },
  {
   "cell_type": "markdown",
   "metadata": {},
   "source": [
    "### Task 1. TOP-5 platforms for each region. Describe differances in sales shares."
   ]
  },
  {
   "cell_type": "markdown",
   "metadata": {},
   "source": [
    "Trying to automate TOP-5 list per each field."
   ]
  },
  {
   "cell_type": "code",
   "execution_count": 29,
   "metadata": {},
   "outputs": [
    {
     "data": {
      "text/html": [
       "<div>\n",
       "<style scoped>\n",
       "    .dataframe tbody tr th:only-of-type {\n",
       "        vertical-align: middle;\n",
       "    }\n",
       "\n",
       "    .dataframe tbody tr th {\n",
       "        vertical-align: top;\n",
       "    }\n",
       "\n",
       "    .dataframe thead th {\n",
       "        text-align: right;\n",
       "    }\n",
       "</style>\n",
       "<table border=\"1\" class=\"dataframe\">\n",
       "  <thead>\n",
       "    <tr style=\"text-align: right;\">\n",
       "      <th></th>\n",
       "      <th>platform</th>\n",
       "      <th>genre</th>\n",
       "      <th>rating</th>\n",
       "      <th>na_sales</th>\n",
       "      <th>eu_sales</th>\n",
       "      <th>jp_sales</th>\n",
       "    </tr>\n",
       "  </thead>\n",
       "  <tbody>\n",
       "    <tr>\n",
       "      <th>0</th>\n",
       "      <td>ps4</td>\n",
       "      <td>shooter</td>\n",
       "      <td>NaN</td>\n",
       "      <td>6.03</td>\n",
       "      <td>5.86</td>\n",
       "      <td>0.36</td>\n",
       "    </tr>\n",
       "    <tr>\n",
       "      <th>1</th>\n",
       "      <td>ps4</td>\n",
       "      <td>action</td>\n",
       "      <td>M</td>\n",
       "      <td>3.96</td>\n",
       "      <td>6.31</td>\n",
       "      <td>0.38</td>\n",
       "    </tr>\n",
       "    <tr>\n",
       "      <th>2</th>\n",
       "      <td>3ds</td>\n",
       "      <td>role-playing</td>\n",
       "      <td>NaN</td>\n",
       "      <td>4.35</td>\n",
       "      <td>3.49</td>\n",
       "      <td>3.10</td>\n",
       "    </tr>\n",
       "    <tr>\n",
       "      <th>3</th>\n",
       "      <td>ps4</td>\n",
       "      <td>sports</td>\n",
       "      <td>E</td>\n",
       "      <td>1.12</td>\n",
       "      <td>6.12</td>\n",
       "      <td>0.06</td>\n",
       "    </tr>\n",
       "    <tr>\n",
       "      <th>4</th>\n",
       "      <td>ps4</td>\n",
       "      <td>shooter</td>\n",
       "      <td>NaN</td>\n",
       "      <td>2.99</td>\n",
       "      <td>3.49</td>\n",
       "      <td>0.22</td>\n",
       "    </tr>\n",
       "  </tbody>\n",
       "</table>\n",
       "</div>"
      ],
      "text/plain": [
       "  platform         genre rating  na_sales  eu_sales  jp_sales\n",
       "0      ps4       shooter    NaN      6.03      5.86      0.36\n",
       "1      ps4        action      M      3.96      6.31      0.38\n",
       "2      3ds  role-playing    NaN      4.35      3.49      3.10\n",
       "3      ps4        sports      E      1.12      6.12      0.06\n",
       "4      ps4       shooter    NaN      2.99      3.49      0.22"
      ]
     },
     "execution_count": 29,
     "metadata": {},
     "output_type": "execute_result"
    }
   ],
   "source": [
    "research_games_refreshed[['platform', 'genre', 'rating', 'na_sales', 'eu_sales', 'jp_sales']].head(5)"
   ]
  },
  {
   "cell_type": "code",
   "execution_count": 30,
   "metadata": {},
   "outputs": [
    {
     "data": {
      "text/html": [
       "<div>\n",
       "<style scoped>\n",
       "    .dataframe tbody tr th:only-of-type {\n",
       "        vertical-align: middle;\n",
       "    }\n",
       "\n",
       "    .dataframe tbody tr th {\n",
       "        vertical-align: top;\n",
       "    }\n",
       "\n",
       "    .dataframe thead th {\n",
       "        text-align: right;\n",
       "    }\n",
       "</style>\n",
       "<table border=\"1\" class=\"dataframe\">\n",
       "  <thead>\n",
       "    <tr style=\"text-align: right;\">\n",
       "      <th></th>\n",
       "      <th>platform</th>\n",
       "      <th>genre</th>\n",
       "      <th>rating</th>\n",
       "      <th>country</th>\n",
       "      <th>sales</th>\n",
       "    </tr>\n",
       "  </thead>\n",
       "  <tbody>\n",
       "    <tr>\n",
       "      <th>0</th>\n",
       "      <td>ps4</td>\n",
       "      <td>shooter</td>\n",
       "      <td>NaN</td>\n",
       "      <td>na_sales</td>\n",
       "      <td>6.03</td>\n",
       "    </tr>\n",
       "    <tr>\n",
       "      <th>1</th>\n",
       "      <td>ps4</td>\n",
       "      <td>action</td>\n",
       "      <td>M</td>\n",
       "      <td>na_sales</td>\n",
       "      <td>3.96</td>\n",
       "    </tr>\n",
       "    <tr>\n",
       "      <th>2</th>\n",
       "      <td>3ds</td>\n",
       "      <td>role-playing</td>\n",
       "      <td>NaN</td>\n",
       "      <td>na_sales</td>\n",
       "      <td>4.35</td>\n",
       "    </tr>\n",
       "    <tr>\n",
       "      <th>3</th>\n",
       "      <td>ps4</td>\n",
       "      <td>sports</td>\n",
       "      <td>E</td>\n",
       "      <td>na_sales</td>\n",
       "      <td>1.12</td>\n",
       "    </tr>\n",
       "    <tr>\n",
       "      <th>4</th>\n",
       "      <td>ps4</td>\n",
       "      <td>shooter</td>\n",
       "      <td>NaN</td>\n",
       "      <td>na_sales</td>\n",
       "      <td>2.99</td>\n",
       "    </tr>\n",
       "  </tbody>\n",
       "</table>\n",
       "</div>"
      ],
      "text/plain": [
       "  platform         genre rating   country  sales\n",
       "0      ps4       shooter    NaN  na_sales   6.03\n",
       "1      ps4        action      M  na_sales   3.96\n",
       "2      3ds  role-playing    NaN  na_sales   4.35\n",
       "3      ps4        sports      E  na_sales   1.12\n",
       "4      ps4       shooter    NaN  na_sales   2.99"
      ]
     },
     "execution_count": 30,
     "metadata": {},
     "output_type": "execute_result"
    }
   ],
   "source": [
    "# prepare data for melt() method where we change orientation of regional sales from horizontal to vertical\n",
    "sales_columns = research_games_refreshed.columns[research_games_refreshed.columns.str.endswith('_sales') & ~(research_games_refreshed.columns.isin(['other_sales', 'total_sales']))]\n",
    "\n",
    "research_games_sales_melt = pd.melt(research_games_refreshed, \\\n",
    "                           id_vars=['platform', 'genre', 'rating'], \\\n",
    "                           value_vars=sales_columns, \\\n",
    "                           var_name='country', value_name='sales')\n",
    "\n",
    "research_games_sales_melt.head()"
   ]
  },
  {
   "cell_type": "code",
   "execution_count": 31,
   "metadata": {},
   "outputs": [
    {
     "data": {
      "text/html": [
       "<div>\n",
       "<style scoped>\n",
       "    .dataframe tbody tr th:only-of-type {\n",
       "        vertical-align: middle;\n",
       "    }\n",
       "\n",
       "    .dataframe tbody tr th {\n",
       "        vertical-align: top;\n",
       "    }\n",
       "\n",
       "    .dataframe thead th {\n",
       "        text-align: right;\n",
       "    }\n",
       "</style>\n",
       "<table border=\"1\" class=\"dataframe\">\n",
       "  <thead>\n",
       "    <tr style=\"text-align: right;\">\n",
       "      <th></th>\n",
       "      <th>country</th>\n",
       "      <th>total_sales</th>\n",
       "    </tr>\n",
       "  </thead>\n",
       "  <tbody>\n",
       "    <tr>\n",
       "      <th>0</th>\n",
       "      <td>eu_sales</td>\n",
       "      <td>270.68</td>\n",
       "    </tr>\n",
       "    <tr>\n",
       "      <th>1</th>\n",
       "      <td>jp_sales</td>\n",
       "      <td>93.09</td>\n",
       "    </tr>\n",
       "    <tr>\n",
       "      <th>2</th>\n",
       "      <td>na_sales</td>\n",
       "      <td>284.06</td>\n",
       "    </tr>\n",
       "  </tbody>\n",
       "</table>\n",
       "</div>"
      ],
      "text/plain": [
       "    country  total_sales\n",
       "0  eu_sales       270.68\n",
       "1  jp_sales        93.09\n",
       "2  na_sales       284.06"
      ]
     },
     "execution_count": 31,
     "metadata": {},
     "output_type": "execute_result"
    }
   ],
   "source": [
    "# subtable with sales for each country to count percentage share\n",
    "research_games_sales_by_country = (\n",
    "                                     research_games_sales_melt\n",
    "                                    .groupby('country')\n",
    "                                    .sales\n",
    "                                    .sum()\n",
    "                                    .reset_index()\n",
    "                                    .rename(columns={'sales': 'total_sales'})\n",
    "                   )\n",
    "research_games_sales_by_country"
   ]
  },
  {
   "cell_type": "code",
   "execution_count": 32,
   "metadata": {},
   "outputs": [],
   "source": [
    "# now we can wrute function for top-5 per each field(seles, genre, ESBR score)\n",
    "def showTop5(column):\n",
    "    return (\n",
    "         research_games_sales_melt\n",
    "        .groupby(['country', column]) # griup by country and choosed field\n",
    "        .sales\n",
    "        .sum() # sales sum\n",
    "        .reset_index() \n",
    "        .sort_values(by = ['country', 'sales'], ascending=[True, False]) # sorting by country and sales\n",
    "        .groupby(['country'])\n",
    "        .head(5) # choosing top-5 per each country\n",
    "        .merge(research_games_sales_by_country, on = 'country') # merging sales by country\n",
    "        .assign(sales_share = lambda x: (x['sales'] / x['total_sales'])) # calculating sales share per country out of total sales\n",
    "        .drop('total_sales', axis=1) # deleting total sales column\n",
    "        .style.format({\n",
    "            'sales': '{:,.1f}'.format,\n",
    "            'sales_share': '{:,.1%}'.format\n",
    "        })\n",
    "    )"
   ]
  },
  {
   "cell_type": "code",
   "execution_count": 33,
   "metadata": {
    "scrolled": false
   },
   "outputs": [
    {
     "data": {
      "text/html": [
       "<style  type=\"text/css\" >\n",
       "</style><table id=\"T_97d035ae_0ed5_11ef_8565_5405db6b27aa\" ><thead>    <tr>        <th class=\"blank level0\" ></th>        <th class=\"col_heading level0 col0\" >country</th>        <th class=\"col_heading level0 col1\" >platform</th>        <th class=\"col_heading level0 col2\" >sales</th>        <th class=\"col_heading level0 col3\" >sales_share</th>    </tr></thead><tbody>\n",
       "                <tr>\n",
       "                        <th id=\"T_97d035ae_0ed5_11ef_8565_5405db6b27aalevel0_row0\" class=\"row_heading level0 row0\" >0</th>\n",
       "                        <td id=\"T_97d035ae_0ed5_11ef_8565_5405db6b27aarow0_col0\" class=\"data row0 col0\" >eu_sales</td>\n",
       "                        <td id=\"T_97d035ae_0ed5_11ef_8565_5405db6b27aarow0_col1\" class=\"data row0 col1\" >ps4</td>\n",
       "                        <td id=\"T_97d035ae_0ed5_11ef_8565_5405db6b27aarow0_col2\" class=\"data row0 col2\" >130.0</td>\n",
       "                        <td id=\"T_97d035ae_0ed5_11ef_8565_5405db6b27aarow0_col3\" class=\"data row0 col3\" >48.0%</td>\n",
       "            </tr>\n",
       "            <tr>\n",
       "                        <th id=\"T_97d035ae_0ed5_11ef_8565_5405db6b27aalevel0_row1\" class=\"row_heading level0 row1\" >1</th>\n",
       "                        <td id=\"T_97d035ae_0ed5_11ef_8565_5405db6b27aarow1_col0\" class=\"data row1 col0\" >eu_sales</td>\n",
       "                        <td id=\"T_97d035ae_0ed5_11ef_8565_5405db6b27aarow1_col1\" class=\"data row1 col1\" >xone</td>\n",
       "                        <td id=\"T_97d035ae_0ed5_11ef_8565_5405db6b27aarow1_col2\" class=\"data row1 col2\" >46.3</td>\n",
       "                        <td id=\"T_97d035ae_0ed5_11ef_8565_5405db6b27aarow1_col3\" class=\"data row1 col3\" >17.1%</td>\n",
       "            </tr>\n",
       "            <tr>\n",
       "                        <th id=\"T_97d035ae_0ed5_11ef_8565_5405db6b27aalevel0_row2\" class=\"row_heading level0 row2\" >2</th>\n",
       "                        <td id=\"T_97d035ae_0ed5_11ef_8565_5405db6b27aarow2_col0\" class=\"data row2 col0\" >eu_sales</td>\n",
       "                        <td id=\"T_97d035ae_0ed5_11ef_8565_5405db6b27aarow2_col1\" class=\"data row2 col1\" >ps3</td>\n",
       "                        <td id=\"T_97d035ae_0ed5_11ef_8565_5405db6b27aarow2_col2\" class=\"data row2 col2\" >25.5</td>\n",
       "                        <td id=\"T_97d035ae_0ed5_11ef_8565_5405db6b27aarow2_col3\" class=\"data row2 col3\" >9.4%</td>\n",
       "            </tr>\n",
       "            <tr>\n",
       "                        <th id=\"T_97d035ae_0ed5_11ef_8565_5405db6b27aalevel0_row3\" class=\"row_heading level0 row3\" >3</th>\n",
       "                        <td id=\"T_97d035ae_0ed5_11ef_8565_5405db6b27aarow3_col0\" class=\"data row3 col0\" >eu_sales</td>\n",
       "                        <td id=\"T_97d035ae_0ed5_11ef_8565_5405db6b27aarow3_col1\" class=\"data row3 col1\" >pc</td>\n",
       "                        <td id=\"T_97d035ae_0ed5_11ef_8565_5405db6b27aarow3_col2\" class=\"data row3 col2\" >18.0</td>\n",
       "                        <td id=\"T_97d035ae_0ed5_11ef_8565_5405db6b27aarow3_col3\" class=\"data row3 col3\" >6.6%</td>\n",
       "            </tr>\n",
       "            <tr>\n",
       "                        <th id=\"T_97d035ae_0ed5_11ef_8565_5405db6b27aalevel0_row4\" class=\"row_heading level0 row4\" >4</th>\n",
       "                        <td id=\"T_97d035ae_0ed5_11ef_8565_5405db6b27aarow4_col0\" class=\"data row4 col0\" >eu_sales</td>\n",
       "                        <td id=\"T_97d035ae_0ed5_11ef_8565_5405db6b27aarow4_col1\" class=\"data row4 col1\" >3ds</td>\n",
       "                        <td id=\"T_97d035ae_0ed5_11ef_8565_5405db6b27aarow4_col2\" class=\"data row4 col2\" >16.1</td>\n",
       "                        <td id=\"T_97d035ae_0ed5_11ef_8565_5405db6b27aarow4_col3\" class=\"data row4 col3\" >6.0%</td>\n",
       "            </tr>\n",
       "            <tr>\n",
       "                        <th id=\"T_97d035ae_0ed5_11ef_8565_5405db6b27aalevel0_row5\" class=\"row_heading level0 row5\" >5</th>\n",
       "                        <td id=\"T_97d035ae_0ed5_11ef_8565_5405db6b27aarow5_col0\" class=\"data row5 col0\" >jp_sales</td>\n",
       "                        <td id=\"T_97d035ae_0ed5_11ef_8565_5405db6b27aarow5_col1\" class=\"data row5 col1\" >3ds</td>\n",
       "                        <td id=\"T_97d035ae_0ed5_11ef_8565_5405db6b27aarow5_col2\" class=\"data row5 col2\" >44.2</td>\n",
       "                        <td id=\"T_97d035ae_0ed5_11ef_8565_5405db6b27aarow5_col3\" class=\"data row5 col3\" >47.5%</td>\n",
       "            </tr>\n",
       "            <tr>\n",
       "                        <th id=\"T_97d035ae_0ed5_11ef_8565_5405db6b27aalevel0_row6\" class=\"row_heading level0 row6\" >6</th>\n",
       "                        <td id=\"T_97d035ae_0ed5_11ef_8565_5405db6b27aarow6_col0\" class=\"data row6 col0\" >jp_sales</td>\n",
       "                        <td id=\"T_97d035ae_0ed5_11ef_8565_5405db6b27aarow6_col1\" class=\"data row6 col1\" >ps4</td>\n",
       "                        <td id=\"T_97d035ae_0ed5_11ef_8565_5405db6b27aarow6_col2\" class=\"data row6 col2\" >15.0</td>\n",
       "                        <td id=\"T_97d035ae_0ed5_11ef_8565_5405db6b27aarow6_col3\" class=\"data row6 col3\" >16.1%</td>\n",
       "            </tr>\n",
       "            <tr>\n",
       "                        <th id=\"T_97d035ae_0ed5_11ef_8565_5405db6b27aalevel0_row7\" class=\"row_heading level0 row7\" >7</th>\n",
       "                        <td id=\"T_97d035ae_0ed5_11ef_8565_5405db6b27aarow7_col0\" class=\"data row7 col0\" >jp_sales</td>\n",
       "                        <td id=\"T_97d035ae_0ed5_11ef_8565_5405db6b27aarow7_col1\" class=\"data row7 col1\" >psv</td>\n",
       "                        <td id=\"T_97d035ae_0ed5_11ef_8565_5405db6b27aarow7_col2\" class=\"data row7 col2\" >14.5</td>\n",
       "                        <td id=\"T_97d035ae_0ed5_11ef_8565_5405db6b27aarow7_col3\" class=\"data row7 col3\" >15.6%</td>\n",
       "            </tr>\n",
       "            <tr>\n",
       "                        <th id=\"T_97d035ae_0ed5_11ef_8565_5405db6b27aalevel0_row8\" class=\"row_heading level0 row8\" >8</th>\n",
       "                        <td id=\"T_97d035ae_0ed5_11ef_8565_5405db6b27aarow8_col0\" class=\"data row8 col0\" >jp_sales</td>\n",
       "                        <td id=\"T_97d035ae_0ed5_11ef_8565_5405db6b27aarow8_col1\" class=\"data row8 col1\" >ps3</td>\n",
       "                        <td id=\"T_97d035ae_0ed5_11ef_8565_5405db6b27aarow8_col2\" class=\"data row8 col2\" >11.2</td>\n",
       "                        <td id=\"T_97d035ae_0ed5_11ef_8565_5405db6b27aarow8_col3\" class=\"data row8 col3\" >12.1%</td>\n",
       "            </tr>\n",
       "            <tr>\n",
       "                        <th id=\"T_97d035ae_0ed5_11ef_8565_5405db6b27aalevel0_row9\" class=\"row_heading level0 row9\" >9</th>\n",
       "                        <td id=\"T_97d035ae_0ed5_11ef_8565_5405db6b27aarow9_col0\" class=\"data row9 col0\" >jp_sales</td>\n",
       "                        <td id=\"T_97d035ae_0ed5_11ef_8565_5405db6b27aarow9_col1\" class=\"data row9 col1\" >wiiu</td>\n",
       "                        <td id=\"T_97d035ae_0ed5_11ef_8565_5405db6b27aarow9_col2\" class=\"data row9 col2\" >7.3</td>\n",
       "                        <td id=\"T_97d035ae_0ed5_11ef_8565_5405db6b27aarow9_col3\" class=\"data row9 col3\" >7.9%</td>\n",
       "            </tr>\n",
       "            <tr>\n",
       "                        <th id=\"T_97d035ae_0ed5_11ef_8565_5405db6b27aalevel0_row10\" class=\"row_heading level0 row10\" >10</th>\n",
       "                        <td id=\"T_97d035ae_0ed5_11ef_8565_5405db6b27aarow10_col0\" class=\"data row10 col0\" >na_sales</td>\n",
       "                        <td id=\"T_97d035ae_0ed5_11ef_8565_5405db6b27aarow10_col1\" class=\"data row10 col1\" >ps4</td>\n",
       "                        <td id=\"T_97d035ae_0ed5_11ef_8565_5405db6b27aarow10_col2\" class=\"data row10 col2\" >98.6</td>\n",
       "                        <td id=\"T_97d035ae_0ed5_11ef_8565_5405db6b27aarow10_col3\" class=\"data row10 col3\" >34.7%</td>\n",
       "            </tr>\n",
       "            <tr>\n",
       "                        <th id=\"T_97d035ae_0ed5_11ef_8565_5405db6b27aalevel0_row11\" class=\"row_heading level0 row11\" >11</th>\n",
       "                        <td id=\"T_97d035ae_0ed5_11ef_8565_5405db6b27aarow11_col0\" class=\"data row11 col0\" >na_sales</td>\n",
       "                        <td id=\"T_97d035ae_0ed5_11ef_8565_5405db6b27aarow11_col1\" class=\"data row11 col1\" >xone</td>\n",
       "                        <td id=\"T_97d035ae_0ed5_11ef_8565_5405db6b27aarow11_col2\" class=\"data row11 col2\" >81.3</td>\n",
       "                        <td id=\"T_97d035ae_0ed5_11ef_8565_5405db6b27aarow11_col3\" class=\"data row11 col3\" >28.6%</td>\n",
       "            </tr>\n",
       "            <tr>\n",
       "                        <th id=\"T_97d035ae_0ed5_11ef_8565_5405db6b27aalevel0_row12\" class=\"row_heading level0 row12\" >12</th>\n",
       "                        <td id=\"T_97d035ae_0ed5_11ef_8565_5405db6b27aarow12_col0\" class=\"data row12 col0\" >na_sales</td>\n",
       "                        <td id=\"T_97d035ae_0ed5_11ef_8565_5405db6b27aarow12_col1\" class=\"data row12 col1\" >x360</td>\n",
       "                        <td id=\"T_97d035ae_0ed5_11ef_8565_5405db6b27aarow12_col2\" class=\"data row12 col2\" >28.3</td>\n",
       "                        <td id=\"T_97d035ae_0ed5_11ef_8565_5405db6b27aarow12_col3\" class=\"data row12 col3\" >10.0%</td>\n",
       "            </tr>\n",
       "            <tr>\n",
       "                        <th id=\"T_97d035ae_0ed5_11ef_8565_5405db6b27aalevel0_row13\" class=\"row_heading level0 row13\" >13</th>\n",
       "                        <td id=\"T_97d035ae_0ed5_11ef_8565_5405db6b27aarow13_col0\" class=\"data row13 col0\" >na_sales</td>\n",
       "                        <td id=\"T_97d035ae_0ed5_11ef_8565_5405db6b27aarow13_col1\" class=\"data row13 col1\" >3ds</td>\n",
       "                        <td id=\"T_97d035ae_0ed5_11ef_8565_5405db6b27aarow13_col2\" class=\"data row13 col2\" >22.6</td>\n",
       "                        <td id=\"T_97d035ae_0ed5_11ef_8565_5405db6b27aarow13_col3\" class=\"data row13 col3\" >8.0%</td>\n",
       "            </tr>\n",
       "            <tr>\n",
       "                        <th id=\"T_97d035ae_0ed5_11ef_8565_5405db6b27aalevel0_row14\" class=\"row_heading level0 row14\" >14</th>\n",
       "                        <td id=\"T_97d035ae_0ed5_11ef_8565_5405db6b27aarow14_col0\" class=\"data row14 col0\" >na_sales</td>\n",
       "                        <td id=\"T_97d035ae_0ed5_11ef_8565_5405db6b27aarow14_col1\" class=\"data row14 col1\" >ps3</td>\n",
       "                        <td id=\"T_97d035ae_0ed5_11ef_8565_5405db6b27aarow14_col2\" class=\"data row14 col2\" >22.1</td>\n",
       "                        <td id=\"T_97d035ae_0ed5_11ef_8565_5405db6b27aarow14_col3\" class=\"data row14 col3\" >7.8%</td>\n",
       "            </tr>\n",
       "    </tbody></table>"
      ],
      "text/plain": [
       "<pandas.io.formats.style.Styler at 0x1f5b44c4070>"
      ]
     },
     "execution_count": 33,
     "metadata": {},
     "output_type": "execute_result"
    }
   ],
   "source": [
    "# check how function works\n",
    "showTop5('platform') #Perfect!"
   ]
  },
  {
   "cell_type": "code",
   "execution_count": 34,
   "metadata": {},
   "outputs": [
    {
     "data": {
      "image/png": "[encoded data removed]",
      "text/plain": [
       "<Figure size 756x360 with 3 Axes>"
      ]
     },
     "metadata": {
      "needs_background": "light"
     },
     "output_type": "display_data"
    }
   ],
   "source": [
    "# visualize data\n",
    "sns.catplot(data=showTop5('platform').data,kind='bar', x='sales', y='platform', hue='country', col='country', aspect=0.7, dodge=False)\n",
    "\n",
    "plt.show()"
   ]
  },
  {
   "cell_type": "markdown",
   "metadata": {},
   "source": [
    " - EU market shows ps4,xone and ps3 as a leaders in sales\n",
    " - North american market shows ps4,xone and x360\n",
    " - Japanese market shows 3ds,ps4 and psv  as a leaders in sales\n",
    " \n",
    "The EU and American markets show similarities in games platform amoung users, as far as Japanese market is totally different."
   ]
  },
  {
   "cell_type": "markdown",
   "metadata": {},
   "source": [
    "### Task 2. Top-5 genres. Describe differences."
   ]
  },
  {
   "cell_type": "code",
   "execution_count": 35,
   "metadata": {},
   "outputs": [
    {
     "data": {
      "image/png": "[encoded data removed]",
      "text/plain": [
       "<Figure size 756x360 with 3 Axes>"
      ]
     },
     "metadata": {
      "needs_background": "light"
     },
     "output_type": "display_data"
    }
   ],
   "source": [
    "# visualize data\n",
    "sns.catplot(data=showTop5('genre').data,kind='bar', x='sales', y='genre', hue='country', col='country', aspect=0.7, dodge=False)\n",
    "\n",
    "plt.show()"
   ]
  },
  {
   "cell_type": "markdown",
   "metadata": {},
   "source": [
    "TOP genres in EU and NA markets again show similarities - Action, Shooter and Sports are most popular. Japanese market shows another picture - top genres here are Role playing and Action."
   ]
  },
  {
   "cell_type": "markdown",
   "metadata": {},
   "source": [
    "### Task 3. Does raiting ESRB infuence on sales in particular region?"
   ]
  },
  {
   "cell_type": "code",
   "execution_count": 36,
   "metadata": {
    "scrolled": false
   },
   "outputs": [
    {
     "data": {
      "image/png": "[encoded data removed]",
      "text/plain": [
       "<Figure size 756x360 with 3 Axes>"
      ]
     },
     "metadata": {
      "needs_background": "light"
     },
     "output_type": "display_data"
    }
   ],
   "source": [
    "# visualize data\n",
    "sns.catplot(data=showTop5('rating').data,kind='bar', x='sales', y='rating', hue='country', col='country', aspect=0.7, dodge=False)\n",
    "\n",
    "plt.show()"
   ]
  },
  {
   "cell_type": "markdown",
   "metadata": {},
   "source": [
    "Again there are huge correlation between North America and EU. Sales structure by ESRB rating shows that 50% out of total sales connect to M rating(adult users). Japanese market shows interest in T games (for teenagers) - around 32% iut of total Japanese sales, games for adults show only 25% out of total Japanese sales. Games with E10+ rating (for kids under 10 years) is least popular within all regions."
   ]
  },
  {
   "cell_type": "markdown",
   "metadata": {},
   "source": [
    "**Section summary**\n",
    "Analyzed following parameters:\n",
    "\n",
    "- Top platforms. EU market shows ps4,xone and ps3 as a leaders in sales. North american market shows ps4,xone and x360. Japanese market shows 3ds,ps4 and psv  as a leaders in sales.\n",
    "The EU and American markets show similarities in games platform amoung users, as far as Japanese market is totally different.\n",
    "- Top genres. TOP genres in EU and NA markets again show similarities - Action, Shooter and Sports are most popular. Japanese market shows another picture - top genres here are Role playing and Action.\n",
    "- ESRB rating infuence. There are huge correlation between North America and EU. Sales structure by ESRB rating shows that 50% out of total sales connect to M rating(adult users). Japanese market shows interest in T games (for teenagers) - around 32% iut of total Japanese sales, games for adults show only 25% out of total Japanese sales. Games with E10+ rating (for kids under 10 years) is least popular within all regions."
   ]
  },
  {
   "cell_type": "markdown",
   "metadata": {},
   "source": [
    "## 5. Hypotheses testing\n",
    "\n",
    "- Average user ratings Xbox One and PC don't have differences;\n",
    "- Average user ratings for genres Action and Sports are different."
   ]
  },
  {
   "cell_type": "markdown",
   "metadata": {},
   "source": [
    "### Task 1. Hypothesis test: Average user ratings Xbox One and PC don't have differences.\n",
    "\n",
    "H_0: average user_score Xbox One = average user_score PC\n",
    "\n",
    "H_1: average user_score Xbox One != average user_score PC\n",
    "\n",
    "alpha = 0.05"
   ]
  },
  {
   "cell_type": "code",
   "execution_count": 37,
   "metadata": {},
   "outputs": [
    {
     "name": "stdout",
     "output_type": "stream",
     "text": [
      "0.10450507919348415\n",
      "Null hypothesis could not be rejected\n"
     ]
    }
   ],
   "source": [
    "average_user_score_xone = research_games_refreshed.query('platform == \"xone\" & user_score.notnull()', engine='python').user_score\n",
    "average_user_score_pc = research_games_refreshed.query('platform == \"pc\" & user_score.notnull()', engine='python').user_score\n",
    "\n",
    "results = st.ttest_ind(average_user_score_xone, \n",
    "                       average_user_score_pc)\n",
    "\n",
    "alpha = 0.05\n",
    "\n",
    "print(results.pvalue)\n",
    "\n",
    "if results.pvalue < alpha:\n",
    "    print('Reject null hypothesis')\n",
    "else:\n",
    "    print('Null hypothesis could not be rejected')"
   ]
  },
  {
   "cell_type": "markdown",
   "metadata": {},
   "source": [
    "As a result of test, we can assume with high probability that average Xbox One user rating is equal to the average PC user rating."
   ]
  },
  {
   "cell_type": "markdown",
   "metadata": {},
   "source": [
    "### Task 2. Hypothesis test: Average user ratings for genres Action and Sports are different.\n",
    "\n",
    "H_0: Average user ratings for genre Action = Average user ratings for genre Sports\n",
    "\n",
    "H_1: Average user ratings for genre Action != Average user ratings for genre Sports\n",
    "\n",
    "alpha = 0.05"
   ]
  },
  {
   "cell_type": "code",
   "execution_count": 38,
   "metadata": {},
   "outputs": [
    {
     "name": "stdout",
     "output_type": "stream",
     "text": [
      "2.8711147985105864e-19\n",
      "Reject null hypothesis\n"
     ]
    }
   ],
   "source": [
    "average_user_score_action = research_games_refreshed.query('genre == \"action\" & user_score.notnull()', engine='python').user_score\n",
    "average_user_score_sports = research_games_refreshed.query('genre == \"sports\" & user_score.notnull()', engine='python').user_score\n",
    "\n",
    "results = st.ttest_ind(average_user_score_action, \n",
    "                       average_user_score_sports)\n",
    "\n",
    "alpha = 0.05\n",
    "\n",
    "print(results.pvalue)\n",
    "\n",
    "if results.pvalue < alpha:\n",
    "    print('Reject null hypothesis')\n",
    "else:\n",
    "    print('Null hypothesis could not be rejected')"
   ]
  },
  {
   "cell_type": "markdown",
   "metadata": {},
   "source": [
    "As a result of test, we can assume with high probability that average Action user rating is not equal to the average Sports user rating."
   ]
  },
  {
   "cell_type": "markdown",
   "metadata": {},
   "source": [
    "<div style=\"border:solid blue 3px; padding: 20px\">\n",
    "\n",
    "## Main summary\n",
    "\n",
    "Let's formulate some recommendations for gaming online store for planning of advertising campaigns in 2017:\n",
    "\n",
    "- life cycle is 8 years, so you should not place big bets on the sale and promotion of games on platforms for which this cycle passes the middle - from the 6th year. It is better to focus on young platforms whose lifecycle is on middle way - not more than 3 years from the release date.\n",
    "- potentially profitable platforms in 2017: ps4, which brings the highest revenue from sales; 3ds, which has been popular for several years; pcv, not too popular, but still capable of making a profit in the next few years; wiiu and pc complete this list.\n",
    "- one of the important criteria is the critics' assessment (the higher it is, the more likely sales increase), but it should not be considered as fundamental. You should still use several criteria together (for example, critical evaluation, genre, age restrictions, region of sale).\n",
    "\n",
    "-  three leading genres have the highest total sales - action, shooter, role-playing. We recommend focusing on sales promotion in terms of traffic inflow in the action, shooter, role-playing genres (the largest number of games are concentrated), and to increase the average check (transaction value) - in the platform, sports, shooter genres (the average sales value is higher than in other genres).\n",
    "    \n",
    "For regions, we recommend the following: \n",
    "- We recommend promoting games on the ps4 and ps3 platforms in all regions. American and European generally show the same preferences, so this should also be taken into account when conducting advertising campaigns. The Japanese market is different, but the ps4 and ps3 still maintain a fairly high market share. The most popular games in America are x360 and ps4, in Europe - ps4 and ps3, in Japan - 3ds and ps3.\n",
    "- by genre, you can also observe the similarity of the American and European markets - we recommend focusing on sales of Action and Shooter games. The Japanese market shows a slightly different picture - the Role playing and Action genre are in the first places.\n",
    "- in each of the regions, it is recommended to sell games with an E rating (\"for everyone\") - they have shown themselves in leading positions.  For example, in North America and Europe, there is a similar sales structure according to the rating of games and almost 50% of sales are accounted for by the adult audience M (\"for adults\") - this should be taken into account. In Japan, preferences differ: teen T (\"for teens\") games are more popular (32% of all sales) than adult games (25% of all sales). What you should not bet on is games for children under the age of 10 (low demand in all regions).\n",
    "\n",
    "It is also important to note the general trend of falling sales of gaming platforms in recent years. Most likely, this is naturally due to the transition to mobile platforms and online games.\n",
    "We also recommend diversifying business in the future - selling not only computer games, but also cooperating with online platforms in the form of advertising integrations/subscription sales."
   ]
  }
 ],
 "metadata": {
  "ExecuteTimeLog": [
   {
    "duration": 1320,
    "start_time": "2023-11-27T07:56:51.223Z"
   },
   {
    "duration": 98,
    "start_time": "2023-11-27T07:59:15.228Z"
   },
   {
    "duration": 25,
    "start_time": "2023-11-27T07:59:45.079Z"
   },
   {
    "duration": 59,
    "start_time": "2023-11-27T08:00:33.042Z"
   },
   {
    "duration": 15,
    "start_time": "2023-11-27T08:00:35.280Z"
   },
   {
    "duration": 12,
    "start_time": "2023-11-27T08:03:31.817Z"
   },
   {
    "duration": 27,
    "start_time": "2023-11-27T08:03:37.172Z"
   },
   {
    "duration": 14,
    "start_time": "2023-11-27T08:04:18.800Z"
   },
   {
    "duration": 1222,
    "start_time": "2023-11-27T08:11:48.693Z"
   },
   {
    "duration": 60,
    "start_time": "2023-11-27T08:11:49.917Z"
   },
   {
    "duration": 18,
    "start_time": "2023-11-27T08:11:49.979Z"
   },
   {
    "duration": 13,
    "start_time": "2023-11-27T08:11:49.999Z"
   },
   {
    "duration": 52,
    "start_time": "2023-11-27T08:12:12.689Z"
   },
   {
    "duration": 15,
    "start_time": "2023-11-27T08:12:14.359Z"
   },
   {
    "duration": 19,
    "start_time": "2023-11-27T08:12:15.744Z"
   },
   {
    "duration": 1241,
    "start_time": "2023-11-27T08:13:05.554Z"
   },
   {
    "duration": 56,
    "start_time": "2023-11-27T08:13:06.797Z"
   },
   {
    "duration": 19,
    "start_time": "2023-11-27T08:13:06.855Z"
   },
   {
    "duration": 14,
    "start_time": "2023-11-27T08:13:06.876Z"
   },
   {
    "duration": 3,
    "start_time": "2023-11-27T08:13:22.723Z"
   },
   {
    "duration": 63,
    "start_time": "2023-11-27T08:13:23.504Z"
   },
   {
    "duration": 15,
    "start_time": "2023-11-27T08:13:24.943Z"
   },
   {
    "duration": 16,
    "start_time": "2023-11-27T08:13:27.323Z"
   },
   {
    "duration": 3,
    "start_time": "2023-11-27T08:14:18.851Z"
   },
   {
    "duration": 52,
    "start_time": "2023-11-27T08:14:21.751Z"
   },
   {
    "duration": 15,
    "start_time": "2023-11-27T08:14:23.386Z"
   },
   {
    "duration": 21,
    "start_time": "2023-11-27T08:14:26.367Z"
   },
   {
    "duration": 106,
    "start_time": "2023-11-27T08:22:02.345Z"
   },
   {
    "duration": 3,
    "start_time": "2023-11-27T08:25:16.362Z"
   },
   {
    "duration": 17,
    "start_time": "2023-11-27T08:25:26.006Z"
   },
   {
    "duration": 4,
    "start_time": "2023-11-27T08:27:00.511Z"
   },
   {
    "duration": 15,
    "start_time": "2023-11-27T08:27:01.322Z"
   },
   {
    "duration": 1244,
    "start_time": "2023-11-27T08:36:08.877Z"
   },
   {
    "duration": 56,
    "start_time": "2023-11-27T08:36:10.123Z"
   },
   {
    "duration": 20,
    "start_time": "2023-11-27T08:36:10.181Z"
   },
   {
    "duration": 14,
    "start_time": "2023-11-27T08:36:10.203Z"
   },
   {
    "duration": 10,
    "start_time": "2023-11-27T08:36:10.219Z"
   },
   {
    "duration": 4,
    "start_time": "2023-11-27T08:36:10.231Z"
   },
   {
    "duration": 43,
    "start_time": "2023-11-27T08:36:10.237Z"
   },
   {
    "duration": 721,
    "start_time": "2023-11-27T08:39:28.288Z"
   },
   {
    "duration": 641,
    "start_time": "2023-11-27T08:42:38.547Z"
   },
   {
    "duration": 14,
    "start_time": "2023-11-27T08:42:48.653Z"
   },
   {
    "duration": 15,
    "start_time": "2023-11-27T08:44:15.438Z"
   },
   {
    "duration": 17,
    "start_time": "2023-11-27T08:45:21.647Z"
   },
   {
    "duration": 13,
    "start_time": "2023-11-27T08:47:31.347Z"
   },
   {
    "duration": 15,
    "start_time": "2023-11-27T08:48:19.527Z"
   },
   {
    "duration": 68,
    "start_time": "2023-11-27T08:50:31.548Z"
   },
   {
    "duration": 7,
    "start_time": "2023-11-27T08:57:29.092Z"
   },
   {
    "duration": 6,
    "start_time": "2023-11-27T08:57:33.911Z"
   },
   {
    "duration": 5,
    "start_time": "2023-11-27T08:57:42.587Z"
   },
   {
    "duration": 5,
    "start_time": "2023-11-27T08:57:51.202Z"
   },
   {
    "duration": 6,
    "start_time": "2023-11-27T08:59:33.132Z"
   },
   {
    "duration": 7,
    "start_time": "2023-11-27T08:59:50.077Z"
   },
   {
    "duration": 27,
    "start_time": "2023-11-27T09:00:38.097Z"
   },
   {
    "duration": 18,
    "start_time": "2023-11-27T09:01:30.312Z"
   },
   {
    "duration": 33,
    "start_time": "2023-11-27T09:01:43.648Z"
   },
   {
    "duration": 16,
    "start_time": "2023-11-27T09:01:51.002Z"
   },
   {
    "duration": 35,
    "start_time": "2023-11-27T09:01:58.733Z"
   },
   {
    "duration": 19,
    "start_time": "2023-11-27T09:02:18.593Z"
   },
   {
    "duration": 13,
    "start_time": "2023-11-27T09:03:17.748Z"
   },
   {
    "duration": 7,
    "start_time": "2023-11-27T09:10:15.770Z"
   },
   {
    "duration": 29,
    "start_time": "2023-11-27T09:10:21.257Z"
   },
   {
    "duration": 13,
    "start_time": "2023-11-27T09:11:05.147Z"
   },
   {
    "duration": 14,
    "start_time": "2023-11-27T09:12:57.308Z"
   },
   {
    "duration": 23,
    "start_time": "2023-11-27T09:13:23.067Z"
   },
   {
    "duration": 1456,
    "start_time": "2023-11-27T09:14:36.448Z"
   },
   {
    "duration": 60,
    "start_time": "2023-11-27T09:14:37.906Z"
   },
   {
    "duration": 31,
    "start_time": "2023-11-27T09:14:37.968Z"
   },
   {
    "duration": 19,
    "start_time": "2023-11-27T09:14:38.004Z"
   },
   {
    "duration": 3,
    "start_time": "2023-11-27T09:14:38.026Z"
   },
   {
    "duration": 41,
    "start_time": "2023-11-27T09:14:38.031Z"
   },
   {
    "duration": 61,
    "start_time": "2023-11-27T09:14:38.074Z"
   },
   {
    "duration": 12,
    "start_time": "2023-11-27T09:14:38.137Z"
   },
   {
    "duration": 24,
    "start_time": "2023-11-27T09:14:38.165Z"
   },
   {
    "duration": 134,
    "start_time": "2023-11-27T09:14:38.191Z"
   },
   {
    "duration": 14,
    "start_time": "2023-11-27T09:16:28.727Z"
   },
   {
    "duration": 9,
    "start_time": "2023-11-27T09:17:06.568Z"
   },
   {
    "duration": 6,
    "start_time": "2023-11-27T09:17:44.054Z"
   },
   {
    "duration": 6,
    "start_time": "2023-11-27T09:17:56.858Z"
   },
   {
    "duration": 5,
    "start_time": "2023-11-27T09:18:01.907Z"
   },
   {
    "duration": 14,
    "start_time": "2023-11-27T09:19:39.548Z"
   },
   {
    "duration": 15,
    "start_time": "2023-11-27T09:20:09.808Z"
   },
   {
    "duration": 5,
    "start_time": "2023-11-27T09:20:44.123Z"
   },
   {
    "duration": 5,
    "start_time": "2023-11-27T09:20:48.748Z"
   },
   {
    "duration": 1740,
    "start_time": "2023-11-27T09:29:26.109Z"
   },
   {
    "duration": 22,
    "start_time": "2023-11-27T09:29:29.848Z"
   },
   {
    "duration": 19,
    "start_time": "2023-11-27T09:31:50.978Z"
   },
   {
    "duration": 120,
    "start_time": "2023-11-27T09:37:02.974Z"
   },
   {
    "duration": 18,
    "start_time": "2023-11-27T09:37:15.058Z"
   },
   {
    "duration": 22,
    "start_time": "2023-11-27T09:37:59.238Z"
   },
   {
    "duration": 23,
    "start_time": "2023-11-27T09:46:05.028Z"
   },
   {
    "duration": 16,
    "start_time": "2023-11-27T09:46:20.617Z"
   },
   {
    "duration": 22,
    "start_time": "2023-11-27T09:47:13.108Z"
   },
   {
    "duration": 14,
    "start_time": "2023-11-27T09:47:20.077Z"
   },
   {
    "duration": 13,
    "start_time": "2023-11-27T09:48:20.982Z"
   },
   {
    "duration": 8,
    "start_time": "2023-11-27T09:49:29.988Z"
   },
   {
    "duration": 26,
    "start_time": "2023-11-27T09:49:35.287Z"
   },
   {
    "duration": 15,
    "start_time": "2023-11-27T09:49:42.828Z"
   },
   {
    "duration": 23,
    "start_time": "2023-11-27T09:50:02.907Z"
   },
   {
    "duration": 12,
    "start_time": "2023-11-27T09:52:49.917Z"
   },
   {
    "duration": 7,
    "start_time": "2023-11-27T09:53:12.507Z"
   },
   {
    "duration": 37,
    "start_time": "2023-11-27T09:55:19.748Z"
   },
   {
    "duration": 18,
    "start_time": "2023-11-27T09:56:39.703Z"
   },
   {
    "duration": 9,
    "start_time": "2023-11-27T10:08:28.888Z"
   },
   {
    "duration": 18,
    "start_time": "2023-11-27T10:09:07.527Z"
   },
   {
    "duration": 8,
    "start_time": "2023-11-27T10:18:03.789Z"
   },
   {
    "duration": 9,
    "start_time": "2023-11-27T10:18:05.488Z"
   },
   {
    "duration": 15,
    "start_time": "2023-11-27T10:18:19.353Z"
   },
   {
    "duration": 18,
    "start_time": "2023-11-27T10:19:24.378Z"
   },
   {
    "duration": 8,
    "start_time": "2023-11-27T10:20:55.708Z"
   },
   {
    "duration": 7,
    "start_time": "2023-11-27T10:20:57.349Z"
   },
   {
    "duration": 17,
    "start_time": "2023-11-27T10:20:58.323Z"
   },
   {
    "duration": 8,
    "start_time": "2023-11-27T10:21:20.064Z"
   },
   {
    "duration": 8,
    "start_time": "2023-11-27T10:21:21.368Z"
   },
   {
    "duration": 15,
    "start_time": "2023-11-27T10:21:22.124Z"
   },
   {
    "duration": 8,
    "start_time": "2023-11-27T10:21:32.908Z"
   },
   {
    "duration": 11,
    "start_time": "2023-11-27T10:21:33.618Z"
   },
   {
    "duration": 15,
    "start_time": "2023-11-27T10:21:34.179Z"
   },
   {
    "duration": 6,
    "start_time": "2023-11-27T10:22:01.219Z"
   },
   {
    "duration": 15,
    "start_time": "2023-11-27T10:23:05.049Z"
   },
   {
    "duration": 729,
    "start_time": "2023-11-27T10:24:05.005Z"
   },
   {
    "duration": 708,
    "start_time": "2023-11-27T10:24:24.728Z"
   },
   {
    "duration": 10,
    "start_time": "2023-11-27T10:25:14.459Z"
   },
   {
    "duration": 9,
    "start_time": "2023-11-27T10:25:33.433Z"
   },
   {
    "duration": 6,
    "start_time": "2023-11-27T10:25:49.788Z"
   },
   {
    "duration": 10,
    "start_time": "2023-11-27T10:25:54.833Z"
   },
   {
    "duration": 9,
    "start_time": "2023-11-27T10:26:04.033Z"
   },
   {
    "duration": 12,
    "start_time": "2023-11-27T10:26:29.239Z"
   },
   {
    "duration": 15,
    "start_time": "2023-11-27T10:26:35.078Z"
   },
   {
    "duration": 6,
    "start_time": "2023-11-27T10:26:56.688Z"
   },
   {
    "duration": 16,
    "start_time": "2023-11-27T10:27:09.899Z"
   },
   {
    "duration": 15,
    "start_time": "2023-11-27T10:27:48.914Z"
   },
   {
    "duration": 14,
    "start_time": "2023-11-27T10:28:17.638Z"
   },
   {
    "duration": 5,
    "start_time": "2023-11-27T10:28:34.902Z"
   },
   {
    "duration": 13,
    "start_time": "2023-11-27T10:28:35.684Z"
   },
   {
    "duration": 1313,
    "start_time": "2023-11-27T10:29:52.258Z"
   },
   {
    "duration": 59,
    "start_time": "2023-11-27T10:29:53.573Z"
   },
   {
    "duration": 22,
    "start_time": "2023-11-27T10:29:53.634Z"
   },
   {
    "duration": 34,
    "start_time": "2023-11-27T10:29:53.658Z"
   },
   {
    "duration": 18,
    "start_time": "2023-11-27T10:29:53.695Z"
   },
   {
    "duration": 53,
    "start_time": "2023-11-27T10:29:53.715Z"
   },
   {
    "duration": 71,
    "start_time": "2023-11-27T10:29:53.771Z"
   },
   {
    "duration": 16,
    "start_time": "2023-11-27T10:29:53.844Z"
   },
   {
    "duration": 33,
    "start_time": "2023-11-27T10:29:53.865Z"
   },
   {
    "duration": 10,
    "start_time": "2023-11-27T10:29:53.900Z"
   },
   {
    "duration": 49,
    "start_time": "2023-11-27T10:29:53.912Z"
   },
   {
    "duration": 40,
    "start_time": "2023-11-27T10:29:53.963Z"
   },
   {
    "duration": 41,
    "start_time": "2023-11-27T10:29:54.005Z"
   },
   {
    "duration": 10,
    "start_time": "2023-11-27T10:29:54.049Z"
   },
   {
    "duration": 41,
    "start_time": "2023-11-27T10:29:54.061Z"
   },
   {
    "duration": 40,
    "start_time": "2023-11-27T10:29:54.104Z"
   },
   {
    "duration": 31,
    "start_time": "2023-11-27T10:29:54.145Z"
   },
   {
    "duration": 43,
    "start_time": "2023-11-27T10:29:54.178Z"
   },
   {
    "duration": 1283,
    "start_time": "2023-11-27T10:38:13.673Z"
   },
   {
    "duration": 58,
    "start_time": "2023-11-27T10:38:14.958Z"
   },
   {
    "duration": 29,
    "start_time": "2023-11-27T10:38:15.018Z"
   },
   {
    "duration": 39,
    "start_time": "2023-11-27T10:38:15.050Z"
   },
   {
    "duration": 15,
    "start_time": "2023-11-27T10:38:15.091Z"
   },
   {
    "duration": 57,
    "start_time": "2023-11-27T10:38:15.108Z"
   },
   {
    "duration": 94,
    "start_time": "2023-11-27T10:38:15.167Z"
   },
   {
    "duration": 23,
    "start_time": "2023-11-27T10:38:15.264Z"
   },
   {
    "duration": 18,
    "start_time": "2023-11-27T10:38:15.289Z"
   },
   {
    "duration": 13,
    "start_time": "2023-11-27T10:38:15.311Z"
   },
   {
    "duration": 41,
    "start_time": "2023-11-27T10:38:15.326Z"
   },
   {
    "duration": 23,
    "start_time": "2023-11-27T10:38:15.370Z"
   },
   {
    "duration": 23,
    "start_time": "2023-11-27T10:38:15.395Z"
   },
   {
    "duration": 9,
    "start_time": "2023-11-27T10:38:15.419Z"
   },
   {
    "duration": 39,
    "start_time": "2023-11-27T10:38:15.430Z"
   },
   {
    "duration": 17,
    "start_time": "2023-11-27T10:38:15.471Z"
   },
   {
    "duration": 10,
    "start_time": "2023-11-27T10:38:15.490Z"
   },
   {
    "duration": 22,
    "start_time": "2023-11-27T10:38:15.502Z"
   },
   {
    "duration": 147,
    "start_time": "2023-11-27T10:38:15.525Z"
   },
   {
    "duration": 11,
    "start_time": "2023-11-27T10:38:35.127Z"
   },
   {
    "duration": 19,
    "start_time": "2023-11-27T10:39:10.328Z"
   },
   {
    "duration": 27,
    "start_time": "2023-11-27T10:45:39.572Z"
   },
   {
    "duration": 6,
    "start_time": "2023-11-27T10:46:02.277Z"
   },
   {
    "duration": 27,
    "start_time": "2023-11-27T10:46:03.983Z"
   },
   {
    "duration": 18,
    "start_time": "2023-11-27T10:46:04.583Z"
   },
   {
    "duration": 48,
    "start_time": "2023-11-27T10:46:44.607Z"
   },
   {
    "duration": 12,
    "start_time": "2023-11-27T10:47:10.067Z"
   },
   {
    "duration": 33,
    "start_time": "2023-11-27T10:47:27.727Z"
   },
   {
    "duration": 20,
    "start_time": "2023-11-27T10:50:38.007Z"
   },
   {
    "duration": 33,
    "start_time": "2023-11-27T10:52:27.827Z"
   },
   {
    "duration": 9,
    "start_time": "2023-11-27T10:54:56.804Z"
   },
   {
    "duration": 20,
    "start_time": "2023-11-27T10:54:58.018Z"
   },
   {
    "duration": 10,
    "start_time": "2023-11-27T10:55:05.992Z"
   },
   {
    "duration": 23,
    "start_time": "2023-11-27T10:55:07.348Z"
   },
   {
    "duration": 1220,
    "start_time": "2023-11-27T10:55:28.216Z"
   },
   {
    "duration": 68,
    "start_time": "2023-11-27T10:55:29.439Z"
   },
   {
    "duration": 20,
    "start_time": "2023-11-27T10:55:29.510Z"
   },
   {
    "duration": 43,
    "start_time": "2023-11-27T10:55:29.532Z"
   },
   {
    "duration": 12,
    "start_time": "2023-11-27T10:55:29.578Z"
   },
   {
    "duration": 34,
    "start_time": "2023-11-27T10:55:29.592Z"
   },
   {
    "duration": 93,
    "start_time": "2023-11-27T10:55:29.628Z"
   },
   {
    "duration": 14,
    "start_time": "2023-11-27T10:55:29.722Z"
   },
   {
    "duration": 48,
    "start_time": "2023-11-27T10:55:29.737Z"
   },
   {
    "duration": 49,
    "start_time": "2023-11-27T10:55:29.786Z"
   },
   {
    "duration": 46,
    "start_time": "2023-11-27T10:55:29.837Z"
   },
   {
    "duration": 51,
    "start_time": "2023-11-27T10:55:29.885Z"
   },
   {
    "duration": 54,
    "start_time": "2023-11-27T10:55:29.938Z"
   },
   {
    "duration": 37,
    "start_time": "2023-11-27T10:55:29.996Z"
   },
   {
    "duration": 57,
    "start_time": "2023-11-27T10:55:30.035Z"
   },
   {
    "duration": 76,
    "start_time": "2023-11-27T10:55:30.094Z"
   },
   {
    "duration": 50,
    "start_time": "2023-11-27T10:55:30.171Z"
   },
   {
    "duration": 82,
    "start_time": "2023-11-27T10:55:30.223Z"
   },
   {
    "duration": 83,
    "start_time": "2023-11-27T10:55:30.307Z"
   },
   {
    "duration": 98,
    "start_time": "2023-11-27T10:55:30.392Z"
   },
   {
    "duration": 58,
    "start_time": "2023-11-27T10:55:30.492Z"
   },
   {
    "duration": 18,
    "start_time": "2023-11-27T10:56:18.110Z"
   },
   {
    "duration": 22,
    "start_time": "2023-11-27T10:56:32.520Z"
   },
   {
    "duration": 146,
    "start_time": "2023-11-27T10:57:45.555Z"
   },
   {
    "duration": 66,
    "start_time": "2023-11-27T10:58:25.975Z"
   },
   {
    "duration": 6,
    "start_time": "2023-11-27T10:59:49.082Z"
   },
   {
    "duration": 13,
    "start_time": "2023-11-27T10:59:50.381Z"
   },
   {
    "duration": 1373,
    "start_time": "2023-11-27T11:00:00.279Z"
   },
   {
    "duration": 63,
    "start_time": "2023-11-27T11:00:01.654Z"
   },
   {
    "duration": 22,
    "start_time": "2023-11-27T11:00:01.719Z"
   },
   {
    "duration": 72,
    "start_time": "2023-11-27T11:00:01.743Z"
   },
   {
    "duration": 65,
    "start_time": "2023-11-27T11:00:01.817Z"
   },
   {
    "duration": 30,
    "start_time": "2023-11-27T11:00:01.884Z"
   },
   {
    "duration": 127,
    "start_time": "2023-11-27T11:00:01.916Z"
   },
   {
    "duration": 43,
    "start_time": "2023-11-27T11:00:02.044Z"
   },
   {
    "duration": 45,
    "start_time": "2023-11-27T11:00:02.089Z"
   },
   {
    "duration": 26,
    "start_time": "2023-11-27T11:00:02.136Z"
   },
   {
    "duration": 135,
    "start_time": "2023-11-27T11:00:02.164Z"
   },
   {
    "duration": 153,
    "start_time": "2023-11-27T11:00:02.301Z"
   },
   {
    "duration": 39,
    "start_time": "2023-11-27T11:00:02.456Z"
   },
   {
    "duration": 24,
    "start_time": "2023-11-27T11:00:02.496Z"
   },
   {
    "duration": 63,
    "start_time": "2023-11-27T11:00:02.521Z"
   },
   {
    "duration": 57,
    "start_time": "2023-11-27T11:00:02.587Z"
   },
   {
    "duration": 45,
    "start_time": "2023-11-27T11:00:02.646Z"
   },
   {
    "duration": 45,
    "start_time": "2023-11-27T11:00:02.693Z"
   },
   {
    "duration": 120,
    "start_time": "2023-11-27T11:00:02.740Z"
   },
   {
    "duration": 40,
    "start_time": "2023-11-27T11:00:02.862Z"
   },
   {
    "duration": 19,
    "start_time": "2023-11-27T11:00:58.817Z"
   },
   {
    "duration": 43,
    "start_time": "2023-11-27T11:01:07.657Z"
   },
   {
    "duration": 25,
    "start_time": "2023-11-27T11:01:18.331Z"
   },
   {
    "duration": 25,
    "start_time": "2023-11-27T11:01:43.769Z"
   },
   {
    "duration": 9,
    "start_time": "2023-11-27T11:02:00.947Z"
   },
   {
    "duration": 22,
    "start_time": "2023-11-27T11:02:02.206Z"
   },
   {
    "duration": 5,
    "start_time": "2023-11-27T11:02:03.686Z"
   },
   {
    "duration": 14,
    "start_time": "2023-11-27T11:02:04.816Z"
   },
   {
    "duration": 36,
    "start_time": "2023-11-27T11:02:06.078Z"
   },
   {
    "duration": 19,
    "start_time": "2023-11-27T11:02:09.482Z"
   },
   {
    "duration": 15,
    "start_time": "2023-11-27T11:03:36.937Z"
   },
   {
    "duration": 14,
    "start_time": "2023-11-27T11:03:44.946Z"
   },
   {
    "duration": 133,
    "start_time": "2023-11-27T11:03:53.847Z"
   },
   {
    "duration": 15,
    "start_time": "2023-11-27T11:05:21.117Z"
   },
   {
    "duration": 42,
    "start_time": "2023-11-27T11:05:34.262Z"
   },
   {
    "duration": 1458,
    "start_time": "2023-11-27T11:07:46.162Z"
   },
   {
    "duration": 63,
    "start_time": "2023-11-27T11:07:47.622Z"
   },
   {
    "duration": 26,
    "start_time": "2023-11-27T11:07:47.687Z"
   },
   {
    "duration": 14,
    "start_time": "2023-11-27T11:07:47.715Z"
   },
   {
    "duration": 3,
    "start_time": "2023-11-27T11:07:47.733Z"
   },
   {
    "duration": 50,
    "start_time": "2023-11-27T11:07:47.738Z"
   },
   {
    "duration": 65,
    "start_time": "2023-11-27T11:07:47.790Z"
   },
   {
    "duration": 25,
    "start_time": "2023-11-27T11:07:47.873Z"
   },
   {
    "duration": 19,
    "start_time": "2023-11-27T11:07:47.901Z"
   },
   {
    "duration": 4,
    "start_time": "2023-11-27T11:07:47.922Z"
   },
   {
    "duration": 37,
    "start_time": "2023-11-27T11:07:47.927Z"
   },
   {
    "duration": 36,
    "start_time": "2023-11-27T11:07:47.971Z"
   },
   {
    "duration": 32,
    "start_time": "2023-11-27T11:07:48.010Z"
   },
   {
    "duration": 12,
    "start_time": "2023-11-27T11:07:48.045Z"
   },
   {
    "duration": 35,
    "start_time": "2023-11-27T11:07:48.059Z"
   },
   {
    "duration": 25,
    "start_time": "2023-11-27T11:07:48.104Z"
   },
   {
    "duration": 8,
    "start_time": "2023-11-27T11:07:48.131Z"
   },
   {
    "duration": 28,
    "start_time": "2023-11-27T11:07:48.141Z"
   },
   {
    "duration": 52,
    "start_time": "2023-11-27T11:07:48.170Z"
   },
   {
    "duration": 25,
    "start_time": "2023-11-27T11:07:48.224Z"
   },
   {
    "duration": 1321,
    "start_time": "2023-11-27T11:08:56.708Z"
   },
   {
    "duration": 58,
    "start_time": "2023-11-27T11:08:58.031Z"
   },
   {
    "duration": 22,
    "start_time": "2023-11-27T11:08:58.091Z"
   },
   {
    "duration": 47,
    "start_time": "2023-11-27T11:08:58.115Z"
   },
   {
    "duration": 19,
    "start_time": "2023-11-27T11:08:58.164Z"
   },
   {
    "duration": 49,
    "start_time": "2023-11-27T11:08:58.184Z"
   },
   {
    "duration": 82,
    "start_time": "2023-11-27T11:08:58.235Z"
   },
   {
    "duration": 14,
    "start_time": "2023-11-27T11:08:58.319Z"
   },
   {
    "duration": 41,
    "start_time": "2023-11-27T11:08:58.336Z"
   },
   {
    "duration": 9,
    "start_time": "2023-11-27T11:08:58.379Z"
   },
   {
    "duration": 37,
    "start_time": "2023-11-27T11:08:58.390Z"
   },
   {
    "duration": 44,
    "start_time": "2023-11-27T11:08:58.429Z"
   },
   {
    "duration": 24,
    "start_time": "2023-11-27T11:08:58.475Z"
   },
   {
    "duration": 22,
    "start_time": "2023-11-27T11:08:58.502Z"
   },
   {
    "duration": 34,
    "start_time": "2023-11-27T11:08:58.526Z"
   },
   {
    "duration": 129,
    "start_time": "2023-11-27T11:08:58.562Z"
   },
   {
    "duration": 0,
    "start_time": "2023-11-27T11:08:58.692Z"
   },
   {
    "duration": 0,
    "start_time": "2023-11-27T11:08:58.693Z"
   },
   {
    "duration": 0,
    "start_time": "2023-11-27T11:08:58.695Z"
   },
   {
    "duration": 1350,
    "start_time": "2023-11-27T11:13:15.274Z"
   },
   {
    "duration": 73,
    "start_time": "2023-11-27T11:13:16.626Z"
   },
   {
    "duration": 22,
    "start_time": "2023-11-27T11:13:16.701Z"
   },
   {
    "duration": 56,
    "start_time": "2023-11-27T11:13:16.725Z"
   },
   {
    "duration": 7,
    "start_time": "2023-11-27T11:13:16.785Z"
   },
   {
    "duration": 68,
    "start_time": "2023-11-27T11:13:16.794Z"
   },
   {
    "duration": 111,
    "start_time": "2023-11-27T11:13:16.864Z"
   },
   {
    "duration": 24,
    "start_time": "2023-11-27T11:13:16.977Z"
   },
   {
    "duration": 28,
    "start_time": "2023-11-27T11:13:17.003Z"
   },
   {
    "duration": 25,
    "start_time": "2023-11-27T11:13:17.033Z"
   },
   {
    "duration": 35,
    "start_time": "2023-11-27T11:13:17.064Z"
   },
   {
    "duration": 44,
    "start_time": "2023-11-27T11:13:17.100Z"
   },
   {
    "duration": 40,
    "start_time": "2023-11-27T11:13:17.147Z"
   },
   {
    "duration": 31,
    "start_time": "2023-11-27T11:13:17.190Z"
   },
   {
    "duration": 31,
    "start_time": "2023-11-27T11:13:17.223Z"
   },
   {
    "duration": 30,
    "start_time": "2023-11-27T11:13:17.256Z"
   },
   {
    "duration": 34,
    "start_time": "2023-11-27T11:13:17.288Z"
   },
   {
    "duration": 10,
    "start_time": "2023-11-27T11:13:17.324Z"
   },
   {
    "duration": 81,
    "start_time": "2023-11-27T11:13:17.336Z"
   },
   {
    "duration": 39,
    "start_time": "2023-11-27T11:13:17.419Z"
   },
   {
    "duration": 53,
    "start_time": "2023-11-27T11:13:17.460Z"
   },
   {
    "duration": 70,
    "start_time": "2023-11-27T11:14:53.778Z"
   },
   {
    "duration": 19,
    "start_time": "2023-11-27T11:14:57.653Z"
   },
   {
    "duration": 14,
    "start_time": "2023-11-27T11:21:09.193Z"
   },
   {
    "duration": 18,
    "start_time": "2023-11-27T11:21:10.475Z"
   },
   {
    "duration": 5,
    "start_time": "2023-11-27T11:21:11.948Z"
   },
   {
    "duration": 13,
    "start_time": "2023-11-27T11:21:13.184Z"
   },
   {
    "duration": 30,
    "start_time": "2023-11-27T11:21:16.194Z"
   },
   {
    "duration": 14,
    "start_time": "2023-11-27T11:21:19.183Z"
   },
   {
    "duration": 129,
    "start_time": "2023-11-27T11:29:02.523Z"
   },
   {
    "duration": 11,
    "start_time": "2023-11-27T11:31:23.962Z"
   },
   {
    "duration": 14,
    "start_time": "2023-11-27T11:31:31.231Z"
   },
   {
    "duration": 31,
    "start_time": "2023-11-27T11:31:35.316Z"
   },
   {
    "duration": 13,
    "start_time": "2023-11-27T11:31:41.682Z"
   },
   {
    "duration": 1300,
    "start_time": "2023-11-27T11:31:59.426Z"
   },
   {
    "duration": 64,
    "start_time": "2023-11-27T11:32:00.728Z"
   },
   {
    "duration": 23,
    "start_time": "2023-11-27T11:32:00.793Z"
   },
   {
    "duration": 64,
    "start_time": "2023-11-27T11:32:00.819Z"
   },
   {
    "duration": 26,
    "start_time": "2023-11-27T11:32:00.886Z"
   },
   {
    "duration": 71,
    "start_time": "2023-11-27T11:32:00.914Z"
   },
   {
    "duration": 89,
    "start_time": "2023-11-27T11:32:00.987Z"
   },
   {
    "duration": 15,
    "start_time": "2023-11-27T11:32:01.080Z"
   },
   {
    "duration": 31,
    "start_time": "2023-11-27T11:32:01.097Z"
   },
   {
    "duration": 24,
    "start_time": "2023-11-27T11:32:01.130Z"
   },
   {
    "duration": 51,
    "start_time": "2023-11-27T11:32:01.156Z"
   },
   {
    "duration": 68,
    "start_time": "2023-11-27T11:32:01.209Z"
   },
   {
    "duration": 66,
    "start_time": "2023-11-27T11:32:01.280Z"
   },
   {
    "duration": 52,
    "start_time": "2023-11-27T11:32:01.348Z"
   },
   {
    "duration": 69,
    "start_time": "2023-11-27T11:32:01.402Z"
   },
   {
    "duration": 38,
    "start_time": "2023-11-27T11:32:01.473Z"
   },
   {
    "duration": 169,
    "start_time": "2023-11-27T11:32:01.513Z"
   },
   {
    "duration": 0,
    "start_time": "2023-11-27T11:32:01.686Z"
   },
   {
    "duration": 0,
    "start_time": "2023-11-27T11:32:01.688Z"
   },
   {
    "duration": 0,
    "start_time": "2023-11-27T11:32:01.690Z"
   },
   {
    "duration": 18,
    "start_time": "2023-11-27T11:32:13.832Z"
   },
   {
    "duration": 8,
    "start_time": "2023-11-27T11:36:54.616Z"
   },
   {
    "duration": 16,
    "start_time": "2023-11-27T11:36:56.041Z"
   },
   {
    "duration": 19,
    "start_time": "2023-11-27T11:37:00.062Z"
   },
   {
    "duration": 21,
    "start_time": "2023-11-27T11:37:01.491Z"
   },
   {
    "duration": 33,
    "start_time": "2023-11-27T11:37:03.061Z"
   },
   {
    "duration": 16,
    "start_time": "2023-11-27T11:37:06.816Z"
   },
   {
    "duration": 9,
    "start_time": "2023-11-27T11:54:24.566Z"
   },
   {
    "duration": 1246,
    "start_time": "2023-11-27T11:54:37.516Z"
   },
   {
    "duration": 58,
    "start_time": "2023-11-27T11:54:38.767Z"
   },
   {
    "duration": 20,
    "start_time": "2023-11-27T11:54:38.827Z"
   },
   {
    "duration": 14,
    "start_time": "2023-11-27T11:54:38.848Z"
   },
   {
    "duration": 16,
    "start_time": "2023-11-27T11:54:38.864Z"
   },
   {
    "duration": 21,
    "start_time": "2023-11-27T11:54:38.882Z"
   },
   {
    "duration": 78,
    "start_time": "2023-11-27T11:54:38.904Z"
   },
   {
    "duration": 14,
    "start_time": "2023-11-27T11:54:38.984Z"
   },
   {
    "duration": 28,
    "start_time": "2023-11-27T11:54:39.000Z"
   },
   {
    "duration": 32,
    "start_time": "2023-11-27T11:54:39.030Z"
   },
   {
    "duration": 22,
    "start_time": "2023-11-27T11:54:39.064Z"
   },
   {
    "duration": 31,
    "start_time": "2023-11-27T11:54:39.088Z"
   },
   {
    "duration": 22,
    "start_time": "2023-11-27T11:54:39.121Z"
   },
   {
    "duration": 36,
    "start_time": "2023-11-27T11:54:39.145Z"
   },
   {
    "duration": 9,
    "start_time": "2023-11-27T11:54:39.183Z"
   },
   {
    "duration": 20,
    "start_time": "2023-11-27T11:54:39.194Z"
   },
   {
    "duration": 120,
    "start_time": "2023-11-27T11:54:39.216Z"
   },
   {
    "duration": 0,
    "start_time": "2023-11-27T11:54:39.338Z"
   },
   {
    "duration": 0,
    "start_time": "2023-11-27T11:54:39.339Z"
   },
   {
    "duration": 0,
    "start_time": "2023-11-27T11:54:39.340Z"
   },
   {
    "duration": 21,
    "start_time": "2023-11-27T11:55:31.620Z"
   },
   {
    "duration": 8,
    "start_time": "2023-11-27T11:55:52.795Z"
   },
   {
    "duration": 19,
    "start_time": "2023-11-27T11:55:57.011Z"
   },
   {
    "duration": 1304,
    "start_time": "2023-11-27T11:56:07.187Z"
   },
   {
    "duration": 56,
    "start_time": "2023-11-27T11:56:08.492Z"
   },
   {
    "duration": 31,
    "start_time": "2023-11-27T11:56:08.550Z"
   },
   {
    "duration": 14,
    "start_time": "2023-11-27T11:56:08.583Z"
   },
   {
    "duration": 4,
    "start_time": "2023-11-27T11:56:08.600Z"
   },
   {
    "duration": 18,
    "start_time": "2023-11-27T11:56:08.605Z"
   },
   {
    "duration": 81,
    "start_time": "2023-11-27T11:56:08.624Z"
   },
   {
    "duration": 14,
    "start_time": "2023-11-27T11:56:08.706Z"
   },
   {
    "duration": 15,
    "start_time": "2023-11-27T11:56:08.722Z"
   },
   {
    "duration": 41,
    "start_time": "2023-11-27T11:56:08.739Z"
   },
   {
    "duration": 7,
    "start_time": "2023-11-27T11:56:08.782Z"
   },
   {
    "duration": 17,
    "start_time": "2023-11-27T11:56:08.791Z"
   },
   {
    "duration": 15,
    "start_time": "2023-11-27T11:56:08.809Z"
   },
   {
    "duration": 56,
    "start_time": "2023-11-27T11:56:08.827Z"
   },
   {
    "duration": 21,
    "start_time": "2023-11-27T11:56:08.884Z"
   },
   {
    "duration": 22,
    "start_time": "2023-11-27T11:56:08.906Z"
   },
   {
    "duration": 25,
    "start_time": "2023-11-27T11:56:08.930Z"
   },
   {
    "duration": 122,
    "start_time": "2023-11-27T11:56:08.956Z"
   },
   {
    "duration": 0,
    "start_time": "2023-11-27T11:56:09.080Z"
   },
   {
    "duration": 0,
    "start_time": "2023-11-27T11:56:09.080Z"
   },
   {
    "duration": 0,
    "start_time": "2023-11-27T11:56:09.082Z"
   },
   {
    "duration": 3,
    "start_time": "2023-11-27T11:57:36.472Z"
   },
   {
    "duration": 4,
    "start_time": "2023-11-27T12:04:07.806Z"
   },
   {
    "duration": 8,
    "start_time": "2023-11-27T12:04:13.547Z"
   },
   {
    "duration": 1353,
    "start_time": "2023-11-27T12:11:10.487Z"
   },
   {
    "duration": 67,
    "start_time": "2023-11-27T12:11:11.842Z"
   },
   {
    "duration": 19,
    "start_time": "2023-11-27T12:11:11.911Z"
   },
   {
    "duration": 25,
    "start_time": "2023-11-27T12:11:11.932Z"
   },
   {
    "duration": 4,
    "start_time": "2023-11-27T12:11:11.960Z"
   },
   {
    "duration": 34,
    "start_time": "2023-11-27T12:11:11.966Z"
   },
   {
    "duration": 91,
    "start_time": "2023-11-27T12:11:12.002Z"
   },
   {
    "duration": 14,
    "start_time": "2023-11-27T12:11:12.095Z"
   },
   {
    "duration": 22,
    "start_time": "2023-11-27T12:11:12.111Z"
   },
   {
    "duration": 38,
    "start_time": "2023-11-27T12:11:12.135Z"
   },
   {
    "duration": 8,
    "start_time": "2023-11-27T12:11:12.181Z"
   },
   {
    "duration": 33,
    "start_time": "2023-11-27T12:11:12.190Z"
   },
   {
    "duration": 15,
    "start_time": "2023-11-27T12:11:12.225Z"
   },
   {
    "duration": 19,
    "start_time": "2023-11-27T12:11:12.243Z"
   },
   {
    "duration": 144,
    "start_time": "2023-11-27T12:11:12.263Z"
   },
   {
    "duration": 0,
    "start_time": "2023-11-27T12:11:12.408Z"
   },
   {
    "duration": 0,
    "start_time": "2023-11-27T12:11:12.410Z"
   },
   {
    "duration": 0,
    "start_time": "2023-11-27T12:11:12.411Z"
   },
   {
    "duration": 0,
    "start_time": "2023-11-27T12:11:12.412Z"
   },
   {
    "duration": 0,
    "start_time": "2023-11-27T12:11:12.413Z"
   },
   {
    "duration": 1308,
    "start_time": "2023-11-27T12:12:29.746Z"
   },
   {
    "duration": 60,
    "start_time": "2023-11-27T12:12:31.056Z"
   },
   {
    "duration": 21,
    "start_time": "2023-11-27T12:12:31.118Z"
   },
   {
    "duration": 16,
    "start_time": "2023-11-27T12:12:31.141Z"
   },
   {
    "duration": 21,
    "start_time": "2023-11-27T12:12:31.160Z"
   },
   {
    "duration": 43,
    "start_time": "2023-11-27T12:12:31.182Z"
   },
   {
    "duration": 84,
    "start_time": "2023-11-27T12:12:31.227Z"
   },
   {
    "duration": 14,
    "start_time": "2023-11-27T12:12:31.312Z"
   },
   {
    "duration": 36,
    "start_time": "2023-11-27T12:12:31.328Z"
   },
   {
    "duration": 37,
    "start_time": "2023-11-27T12:12:31.366Z"
   },
   {
    "duration": 26,
    "start_time": "2023-11-27T12:12:31.405Z"
   },
   {
    "duration": 24,
    "start_time": "2023-11-27T12:12:31.433Z"
   },
   {
    "duration": 4,
    "start_time": "2023-11-27T12:12:31.459Z"
   },
   {
    "duration": 21,
    "start_time": "2023-11-27T12:12:31.465Z"
   },
   {
    "duration": 28,
    "start_time": "2023-11-27T12:12:31.487Z"
   },
   {
    "duration": 8,
    "start_time": "2023-11-27T12:12:31.517Z"
   },
   {
    "duration": 14,
    "start_time": "2023-11-27T12:12:31.526Z"
   },
   {
    "duration": 41,
    "start_time": "2023-11-27T12:12:31.541Z"
   },
   {
    "duration": 17,
    "start_time": "2023-11-27T12:12:31.584Z"
   },
   {
    "duration": 13,
    "start_time": "2023-11-27T12:12:31.602Z"
   },
   {
    "duration": 7,
    "start_time": "2023-11-27T12:15:21.766Z"
   },
   {
    "duration": 4,
    "start_time": "2023-11-27T12:15:22.636Z"
   },
   {
    "duration": 15,
    "start_time": "2023-11-27T12:15:24.196Z"
   },
   {
    "duration": 139,
    "start_time": "2023-11-27T12:15:26.556Z"
   },
   {
    "duration": 15,
    "start_time": "2023-11-27T12:15:28.780Z"
   },
   {
    "duration": 14,
    "start_time": "2023-11-27T12:15:35.221Z"
   },
   {
    "duration": 6,
    "start_time": "2023-11-27T12:22:40.972Z"
   },
   {
    "duration": 8,
    "start_time": "2023-11-27T12:22:50.961Z"
   },
   {
    "duration": 14,
    "start_time": "2023-11-27T12:23:07.779Z"
   },
   {
    "duration": 1267,
    "start_time": "2023-11-27T12:23:51.370Z"
   },
   {
    "duration": 62,
    "start_time": "2023-11-27T12:23:52.639Z"
   },
   {
    "duration": 20,
    "start_time": "2023-11-27T12:23:52.703Z"
   },
   {
    "duration": 26,
    "start_time": "2023-11-27T12:23:52.724Z"
   },
   {
    "duration": 29,
    "start_time": "2023-11-27T12:23:52.752Z"
   },
   {
    "duration": 51,
    "start_time": "2023-11-27T12:23:52.783Z"
   },
   {
    "duration": 119,
    "start_time": "2023-11-27T12:23:52.836Z"
   },
   {
    "duration": 20,
    "start_time": "2023-11-27T12:23:52.956Z"
   },
   {
    "duration": 16,
    "start_time": "2023-11-27T12:23:52.977Z"
   },
   {
    "duration": 27,
    "start_time": "2023-11-27T12:23:52.995Z"
   },
   {
    "duration": 17,
    "start_time": "2023-11-27T12:23:53.024Z"
   },
   {
    "duration": 39,
    "start_time": "2023-11-27T12:23:53.043Z"
   },
   {
    "duration": 5,
    "start_time": "2023-11-27T12:23:53.084Z"
   },
   {
    "duration": 30,
    "start_time": "2023-11-27T12:23:53.092Z"
   },
   {
    "duration": 28,
    "start_time": "2023-11-27T12:23:53.124Z"
   },
   {
    "duration": 5,
    "start_time": "2023-11-27T12:23:53.154Z"
   },
   {
    "duration": 20,
    "start_time": "2023-11-27T12:23:53.161Z"
   },
   {
    "duration": 23,
    "start_time": "2023-11-27T12:23:53.182Z"
   },
   {
    "duration": 24,
    "start_time": "2023-11-27T12:23:53.207Z"
   },
   {
    "duration": 20,
    "start_time": "2023-11-27T12:23:53.233Z"
   },
   {
    "duration": 14,
    "start_time": "2023-11-27T12:23:53.255Z"
   },
   {
    "duration": 35,
    "start_time": "2023-11-27T12:23:53.271Z"
   },
   {
    "duration": 146,
    "start_time": "2023-11-27T12:32:15.591Z"
   },
   {
    "duration": 155,
    "start_time": "2023-11-27T12:34:03.647Z"
   },
   {
    "duration": 154,
    "start_time": "2023-11-27T12:34:19.511Z"
   },
   {
    "duration": 164,
    "start_time": "2023-11-27T12:34:48.806Z"
   },
   {
    "duration": 156,
    "start_time": "2023-11-27T12:34:53.706Z"
   },
   {
    "duration": 162,
    "start_time": "2023-11-27T12:37:02.461Z"
   },
   {
    "duration": 12,
    "start_time": "2023-11-27T12:44:04.132Z"
   },
   {
    "duration": 1287,
    "start_time": "2023-11-27T12:45:24.335Z"
   },
   {
    "duration": 62,
    "start_time": "2023-11-27T12:45:25.624Z"
   },
   {
    "duration": 24,
    "start_time": "2023-11-27T12:45:25.687Z"
   },
   {
    "duration": 14,
    "start_time": "2023-11-27T12:45:25.713Z"
   },
   {
    "duration": 4,
    "start_time": "2023-11-27T12:45:25.729Z"
   },
   {
    "duration": 42,
    "start_time": "2023-11-27T12:45:25.734Z"
   },
   {
    "duration": 63,
    "start_time": "2023-11-27T12:45:25.782Z"
   },
   {
    "duration": 34,
    "start_time": "2023-11-27T12:45:25.847Z"
   },
   {
    "duration": 20,
    "start_time": "2023-11-27T12:45:25.882Z"
   },
   {
    "duration": 19,
    "start_time": "2023-11-27T12:45:25.905Z"
   },
   {
    "duration": 9,
    "start_time": "2023-11-27T12:45:25.926Z"
   },
   {
    "duration": 52,
    "start_time": "2023-11-27T12:45:25.937Z"
   },
   {
    "duration": 135,
    "start_time": "2023-11-27T12:45:25.994Z"
   },
   {
    "duration": 0,
    "start_time": "2023-11-27T12:45:26.131Z"
   },
   {
    "duration": 0,
    "start_time": "2023-11-27T12:45:26.133Z"
   },
   {
    "duration": 0,
    "start_time": "2023-11-27T12:45:26.134Z"
   },
   {
    "duration": 0,
    "start_time": "2023-11-27T12:45:26.135Z"
   },
   {
    "duration": 0,
    "start_time": "2023-11-27T12:45:26.136Z"
   },
   {
    "duration": 0,
    "start_time": "2023-11-27T12:45:26.137Z"
   },
   {
    "duration": 0,
    "start_time": "2023-11-27T12:45:26.138Z"
   },
   {
    "duration": 0,
    "start_time": "2023-11-27T12:45:26.139Z"
   },
   {
    "duration": 0,
    "start_time": "2023-11-27T12:45:26.140Z"
   },
   {
    "duration": 0,
    "start_time": "2023-11-27T12:45:26.141Z"
   },
   {
    "duration": 0,
    "start_time": "2023-11-27T12:45:26.142Z"
   },
   {
    "duration": 5,
    "start_time": "2023-11-27T12:46:00.209Z"
   },
   {
    "duration": 8,
    "start_time": "2023-11-27T12:46:00.839Z"
   },
   {
    "duration": 21,
    "start_time": "2023-11-27T12:46:02.795Z"
   },
   {
    "duration": 6,
    "start_time": "2023-11-27T12:46:03.254Z"
   },
   {
    "duration": 5,
    "start_time": "2023-11-27T12:46:03.803Z"
   },
   {
    "duration": 16,
    "start_time": "2023-11-27T12:46:05.844Z"
   },
   {
    "duration": 14,
    "start_time": "2023-11-27T12:46:07.550Z"
   },
   {
    "duration": 16,
    "start_time": "2023-11-27T12:46:08.014Z"
   },
   {
    "duration": 7,
    "start_time": "2023-11-27T12:46:09.876Z"
   },
   {
    "duration": 15,
    "start_time": "2023-11-27T12:46:10.489Z"
   },
   {
    "duration": 173,
    "start_time": "2023-11-27T12:46:13.850Z"
   },
   {
    "duration": 12,
    "start_time": "2023-11-27T12:46:16.550Z"
   },
   {
    "duration": 164,
    "start_time": "2023-11-27T12:46:41.410Z"
   },
   {
    "duration": 15,
    "start_time": "2023-11-27T13:02:35.251Z"
   },
   {
    "duration": 190,
    "start_time": "2023-11-27T13:02:41.895Z"
   },
   {
    "duration": 201,
    "start_time": "2023-11-27T13:03:55.686Z"
   },
   {
    "duration": 12,
    "start_time": "2023-11-27T13:04:00.595Z"
   },
   {
    "duration": 9,
    "start_time": "2023-11-27T13:04:18.040Z"
   },
   {
    "duration": 163,
    "start_time": "2023-11-27T13:05:22.091Z"
   },
   {
    "duration": 8,
    "start_time": "2023-11-27T13:05:32.285Z"
   },
   {
    "duration": 8,
    "start_time": "2023-11-27T13:56:48.172Z"
   },
   {
    "duration": 18,
    "start_time": "2023-11-27T14:07:32.526Z"
   },
   {
    "duration": 13,
    "start_time": "2023-11-27T14:08:20.997Z"
   },
   {
    "duration": 1453,
    "start_time": "2023-11-27T14:09:03.552Z"
   },
   {
    "duration": 58,
    "start_time": "2023-11-27T14:09:05.008Z"
   },
   {
    "duration": 21,
    "start_time": "2023-11-27T14:09:05.067Z"
   },
   {
    "duration": 14,
    "start_time": "2023-11-27T14:09:05.090Z"
   },
   {
    "duration": 5,
    "start_time": "2023-11-27T14:09:05.105Z"
   },
   {
    "duration": 33,
    "start_time": "2023-11-27T14:09:05.111Z"
   },
   {
    "duration": 68,
    "start_time": "2023-11-27T14:09:05.145Z"
   },
   {
    "duration": 14,
    "start_time": "2023-11-27T14:09:05.215Z"
   },
   {
    "duration": 47,
    "start_time": "2023-11-27T14:09:05.231Z"
   },
   {
    "duration": 22,
    "start_time": "2023-11-27T14:09:05.281Z"
   },
   {
    "duration": 51,
    "start_time": "2023-11-27T14:09:05.305Z"
   },
   {
    "duration": 36,
    "start_time": "2023-11-27T14:09:05.358Z"
   },
   {
    "duration": 4,
    "start_time": "2023-11-27T14:09:05.396Z"
   },
   {
    "duration": 26,
    "start_time": "2023-11-27T14:09:05.401Z"
   },
   {
    "duration": 30,
    "start_time": "2023-11-27T14:09:05.429Z"
   },
   {
    "duration": 11,
    "start_time": "2023-11-27T14:09:05.461Z"
   },
   {
    "duration": 19,
    "start_time": "2023-11-27T14:09:05.474Z"
   },
   {
    "duration": 29,
    "start_time": "2023-11-27T14:09:05.494Z"
   },
   {
    "duration": 14,
    "start_time": "2023-11-27T14:09:05.524Z"
   },
   {
    "duration": 16,
    "start_time": "2023-11-27T14:09:05.540Z"
   },
   {
    "duration": 8,
    "start_time": "2023-11-27T14:09:05.558Z"
   },
   {
    "duration": 24,
    "start_time": "2023-11-27T14:09:05.568Z"
   },
   {
    "duration": 266,
    "start_time": "2023-11-27T14:09:05.594Z"
   },
   {
    "duration": 191,
    "start_time": "2023-11-27T14:09:05.862Z"
   },
   {
    "duration": 12,
    "start_time": "2023-11-27T14:09:06.055Z"
   },
   {
    "duration": 208,
    "start_time": "2023-11-27T14:09:06.069Z"
   },
   {
    "duration": 13,
    "start_time": "2023-11-27T14:14:51.468Z"
   },
   {
    "duration": 8,
    "start_time": "2023-11-27T14:17:20.167Z"
   },
   {
    "duration": 7,
    "start_time": "2023-11-27T14:17:27.118Z"
   },
   {
    "duration": 13,
    "start_time": "2023-11-27T14:19:51.663Z"
   },
   {
    "duration": 31,
    "start_time": "2023-11-27T14:25:32.573Z"
   },
   {
    "duration": 17,
    "start_time": "2023-11-27T14:25:57.683Z"
   },
   {
    "duration": 23,
    "start_time": "2023-11-27T14:27:22.232Z"
   },
   {
    "duration": 16,
    "start_time": "2023-11-27T14:27:31.708Z"
   },
   {
    "duration": 5,
    "start_time": "2023-11-27T14:28:59.502Z"
   },
   {
    "duration": 16,
    "start_time": "2023-11-27T14:29:41.407Z"
   },
   {
    "duration": 22,
    "start_time": "2023-11-27T14:43:04.303Z"
   },
   {
    "duration": 13,
    "start_time": "2023-11-27T14:44:16.678Z"
   },
   {
    "duration": 159,
    "start_time": "2023-11-27T14:45:17.603Z"
   },
   {
    "duration": 9,
    "start_time": "2023-11-27T14:46:58.727Z"
   },
   {
    "duration": 12,
    "start_time": "2023-11-27T14:47:41.036Z"
   },
   {
    "duration": 179,
    "start_time": "2023-11-27T14:48:52.213Z"
   },
   {
    "duration": 1730,
    "start_time": "2023-11-27T14:49:03.422Z"
   },
   {
    "duration": 1617,
    "start_time": "2023-11-27T14:55:44.352Z"
   },
   {
    "duration": 1461,
    "start_time": "2023-11-27T14:56:34.633Z"
   },
   {
    "duration": 175,
    "start_time": "2023-11-27T14:57:11.132Z"
   },
   {
    "duration": 21,
    "start_time": "2023-11-27T14:58:01.878Z"
   },
   {
    "duration": 80,
    "start_time": "2023-11-27T15:02:50.437Z"
   },
   {
    "duration": 17,
    "start_time": "2023-11-27T15:03:43.291Z"
   },
   {
    "duration": 20,
    "start_time": "2023-11-27T15:04:04.907Z"
   },
   {
    "duration": 20,
    "start_time": "2023-11-27T15:04:38.887Z"
   },
   {
    "duration": 18,
    "start_time": "2023-11-27T15:05:55.167Z"
   },
   {
    "duration": 18,
    "start_time": "2023-11-27T15:06:27.056Z"
   },
   {
    "duration": 186,
    "start_time": "2023-11-27T15:08:57.897Z"
   },
   {
    "duration": 241,
    "start_time": "2023-11-27T15:09:24.471Z"
   },
   {
    "duration": 20,
    "start_time": "2023-11-27T15:11:07.416Z"
   },
   {
    "duration": 14,
    "start_time": "2023-11-27T15:11:40.921Z"
   },
   {
    "duration": 15,
    "start_time": "2023-11-27T15:13:08.766Z"
   },
   {
    "duration": 155,
    "start_time": "2023-11-27T15:14:26.853Z"
   },
   {
    "duration": 1605,
    "start_time": "2023-11-27T15:15:24.161Z"
   },
   {
    "duration": 239,
    "start_time": "2023-11-27T15:18:04.412Z"
   },
   {
    "duration": 24,
    "start_time": "2023-11-27T15:19:36.241Z"
   },
   {
    "duration": 20,
    "start_time": "2023-11-27T15:20:12.827Z"
   },
   {
    "duration": 16,
    "start_time": "2023-11-27T15:21:13.192Z"
   },
   {
    "duration": 17,
    "start_time": "2023-11-27T15:21:34.182Z"
   },
   {
    "duration": 17,
    "start_time": "2023-11-27T15:22:34.837Z"
   },
   {
    "duration": 16,
    "start_time": "2023-11-27T15:22:37.907Z"
   },
   {
    "duration": 1581,
    "start_time": "2023-11-27T15:23:05.742Z"
   },
   {
    "duration": 21,
    "start_time": "2023-11-27T15:27:33.396Z"
   },
   {
    "duration": 15,
    "start_time": "2023-11-27T15:27:41.336Z"
   },
   {
    "duration": 11,
    "start_time": "2023-11-27T15:29:22.046Z"
   },
   {
    "duration": 3,
    "start_time": "2023-11-27T15:29:46.047Z"
   },
   {
    "duration": 4,
    "start_time": "2023-11-27T15:29:54.071Z"
   },
   {
    "duration": 3,
    "start_time": "2023-11-27T15:30:59.011Z"
   },
   {
    "duration": 16,
    "start_time": "2023-11-27T15:31:12.931Z"
   },
   {
    "duration": 402,
    "start_time": "2023-11-27T15:32:28.707Z"
   },
   {
    "duration": 396,
    "start_time": "2023-11-27T15:32:54.737Z"
   },
   {
    "duration": 364,
    "start_time": "2023-11-27T15:33:22.346Z"
   },
   {
    "duration": 173,
    "start_time": "2023-11-27T15:34:13.681Z"
   },
   {
    "duration": 152,
    "start_time": "2023-11-27T15:34:23.512Z"
   },
   {
    "duration": 351,
    "start_time": "2023-11-27T15:34:31.076Z"
   },
   {
    "duration": 390,
    "start_time": "2023-11-27T15:34:43.361Z"
   },
   {
    "duration": 431,
    "start_time": "2023-11-27T15:34:52.076Z"
   },
   {
    "duration": 500,
    "start_time": "2023-11-27T15:34:58.742Z"
   },
   {
    "duration": 331,
    "start_time": "2023-11-27T15:35:07.872Z"
   },
   {
    "duration": 359,
    "start_time": "2023-11-27T15:37:11.707Z"
   },
   {
    "duration": 368,
    "start_time": "2023-11-27T15:37:24.816Z"
   },
   {
    "duration": 341,
    "start_time": "2023-11-27T15:37:31.147Z"
   },
   {
    "duration": 382,
    "start_time": "2023-11-27T15:37:45.367Z"
   },
   {
    "duration": 339,
    "start_time": "2023-11-27T15:37:59.016Z"
   },
   {
    "duration": 344,
    "start_time": "2023-11-27T15:38:11.361Z"
   },
   {
    "duration": 349,
    "start_time": "2023-11-27T15:38:20.302Z"
   },
   {
    "duration": 376,
    "start_time": "2023-11-27T15:39:10.467Z"
   },
   {
    "duration": 423,
    "start_time": "2023-11-27T15:39:28.022Z"
   },
   {
    "duration": 20,
    "start_time": "2023-11-27T15:40:24.957Z"
   },
   {
    "duration": 21,
    "start_time": "2023-11-27T15:40:42.082Z"
   },
   {
    "duration": 14,
    "start_time": "2023-11-27T15:41:33.096Z"
   },
   {
    "duration": 8,
    "start_time": "2023-11-27T15:58:34.217Z"
   },
   {
    "duration": 14,
    "start_time": "2023-11-27T15:58:52.677Z"
   },
   {
    "duration": 9,
    "start_time": "2023-11-27T15:59:15.702Z"
   },
   {
    "duration": 19,
    "start_time": "2023-11-27T16:01:34.732Z"
   },
   {
    "duration": 9,
    "start_time": "2023-11-27T16:06:17.337Z"
   },
   {
    "duration": 9,
    "start_time": "2023-11-27T16:06:24.027Z"
   },
   {
    "duration": 1322,
    "start_time": "2023-11-27T16:07:50.127Z"
   },
   {
    "duration": 56,
    "start_time": "2023-11-27T16:07:51.451Z"
   },
   {
    "duration": 20,
    "start_time": "2023-11-27T16:07:51.509Z"
   },
   {
    "duration": 29,
    "start_time": "2023-11-27T16:07:51.530Z"
   },
   {
    "duration": 31,
    "start_time": "2023-11-27T16:07:51.561Z"
   },
   {
    "duration": 27,
    "start_time": "2023-11-27T16:07:51.594Z"
   },
   {
    "duration": 106,
    "start_time": "2023-11-27T16:07:51.623Z"
   },
   {
    "duration": 14,
    "start_time": "2023-11-27T16:07:51.730Z"
   },
   {
    "duration": 48,
    "start_time": "2023-11-27T16:07:51.746Z"
   },
   {
    "duration": 67,
    "start_time": "2023-11-27T16:07:51.796Z"
   },
   {
    "duration": 39,
    "start_time": "2023-11-27T16:07:51.865Z"
   },
   {
    "duration": 57,
    "start_time": "2023-11-27T16:07:51.906Z"
   },
   {
    "duration": 11,
    "start_time": "2023-11-27T16:07:51.965Z"
   },
   {
    "duration": 29,
    "start_time": "2023-11-27T16:07:51.980Z"
   },
   {
    "duration": 30,
    "start_time": "2023-11-27T16:07:52.011Z"
   },
   {
    "duration": 11,
    "start_time": "2023-11-27T16:07:52.043Z"
   },
   {
    "duration": 34,
    "start_time": "2023-11-27T16:07:52.056Z"
   },
   {
    "duration": 34,
    "start_time": "2023-11-27T16:07:52.091Z"
   },
   {
    "duration": 15,
    "start_time": "2023-11-27T16:07:52.127Z"
   },
   {
    "duration": 15,
    "start_time": "2023-11-27T16:07:52.143Z"
   },
   {
    "duration": 4,
    "start_time": "2023-11-27T16:07:52.160Z"
   },
   {
    "duration": 45,
    "start_time": "2023-11-27T16:07:52.166Z"
   },
   {
    "duration": 161,
    "start_time": "2023-11-27T16:07:52.213Z"
   },
   {
    "duration": 169,
    "start_time": "2023-11-27T16:07:52.375Z"
   },
   {
    "duration": 24,
    "start_time": "2023-11-27T16:07:52.545Z"
   },
   {
    "duration": 6,
    "start_time": "2023-11-27T16:07:52.570Z"
   },
   {
    "duration": 16,
    "start_time": "2023-11-27T16:07:52.578Z"
   },
   {
    "duration": 312,
    "start_time": "2023-11-27T16:07:52.596Z"
   },
   {
    "duration": 9,
    "start_time": "2023-11-27T16:07:52.909Z"
   },
   {
    "duration": 219,
    "start_time": "2023-11-27T16:07:52.919Z"
   },
   {
    "duration": 9,
    "start_time": "2023-11-27T16:09:03.552Z"
   },
   {
    "duration": 137,
    "start_time": "2023-11-27T16:09:14.732Z"
   },
   {
    "duration": 8,
    "start_time": "2023-11-27T16:09:33.871Z"
   },
   {
    "duration": 24,
    "start_time": "2023-11-27T16:10:16.672Z"
   },
   {
    "duration": 13,
    "start_time": "2023-11-27T16:11:34.951Z"
   },
   {
    "duration": 22,
    "start_time": "2023-11-27T16:12:06.987Z"
   },
   {
    "duration": 19,
    "start_time": "2023-11-27T16:12:23.236Z"
   },
   {
    "duration": 14,
    "start_time": "2023-11-27T16:13:27.551Z"
   },
   {
    "duration": 17,
    "start_time": "2023-11-27T16:13:59.471Z"
   },
   {
    "duration": 12,
    "start_time": "2023-11-27T16:16:00.692Z"
   },
   {
    "duration": 14,
    "start_time": "2023-11-27T16:18:06.111Z"
   },
   {
    "duration": 17,
    "start_time": "2023-11-27T16:20:22.586Z"
   },
   {
    "duration": 707,
    "start_time": "2023-11-27T16:31:50.617Z"
   },
   {
    "duration": 894,
    "start_time": "2023-11-27T16:32:08.522Z"
   },
   {
    "duration": 744,
    "start_time": "2023-11-27T16:32:26.315Z"
   },
   {
    "duration": 36,
    "start_time": "2023-11-27T16:33:13.656Z"
   },
   {
    "duration": 682,
    "start_time": "2023-11-27T16:33:40.355Z"
   },
   {
    "duration": 1482,
    "start_time": "2023-11-28T07:19:47.408Z"
   },
   {
    "duration": 111,
    "start_time": "2023-11-28T07:19:48.892Z"
   },
   {
    "duration": 21,
    "start_time": "2023-11-28T07:19:49.004Z"
   },
   {
    "duration": 31,
    "start_time": "2023-11-28T07:19:49.026Z"
   },
   {
    "duration": 17,
    "start_time": "2023-11-28T07:19:49.062Z"
   },
   {
    "duration": 72,
    "start_time": "2023-11-28T07:19:49.080Z"
   },
   {
    "duration": 72,
    "start_time": "2023-11-28T07:19:49.154Z"
   },
   {
    "duration": 14,
    "start_time": "2023-11-28T07:19:49.227Z"
   },
   {
    "duration": 26,
    "start_time": "2023-11-28T07:19:49.243Z"
   },
   {
    "duration": 16,
    "start_time": "2023-11-28T07:19:49.271Z"
   },
   {
    "duration": 34,
    "start_time": "2023-11-28T07:19:49.289Z"
   },
   {
    "duration": 53,
    "start_time": "2023-11-28T07:19:49.325Z"
   },
   {
    "duration": 9,
    "start_time": "2023-11-28T07:19:49.379Z"
   },
   {
    "duration": 18,
    "start_time": "2023-11-28T07:19:49.392Z"
   },
   {
    "duration": 52,
    "start_time": "2023-11-28T07:19:49.412Z"
   },
   {
    "duration": 15,
    "start_time": "2023-11-28T07:19:49.467Z"
   },
   {
    "duration": 21,
    "start_time": "2023-11-28T07:19:49.483Z"
   },
   {
    "duration": 34,
    "start_time": "2023-11-28T07:19:49.506Z"
   },
   {
    "duration": 40,
    "start_time": "2023-11-28T07:19:49.542Z"
   },
   {
    "duration": 21,
    "start_time": "2023-11-28T07:19:49.584Z"
   },
   {
    "duration": 20,
    "start_time": "2023-11-28T07:19:49.607Z"
   },
   {
    "duration": 42,
    "start_time": "2023-11-28T07:19:49.629Z"
   },
   {
    "duration": 211,
    "start_time": "2023-11-28T07:19:49.673Z"
   },
   {
    "duration": 176,
    "start_time": "2023-11-28T07:19:49.886Z"
   },
   {
    "duration": 16,
    "start_time": "2023-11-28T07:19:50.063Z"
   },
   {
    "duration": 16,
    "start_time": "2023-11-28T07:19:50.081Z"
   },
   {
    "duration": 31,
    "start_time": "2023-11-28T07:19:50.098Z"
   },
   {
    "duration": 318,
    "start_time": "2023-11-28T07:19:50.131Z"
   },
   {
    "duration": 13,
    "start_time": "2023-11-28T07:19:50.452Z"
   },
   {
    "duration": 33,
    "start_time": "2023-11-28T07:19:50.467Z"
   },
   {
    "duration": 27,
    "start_time": "2023-11-28T07:19:50.502Z"
   },
   {
    "duration": 754,
    "start_time": "2023-11-28T07:19:50.531Z"
   },
   {
    "duration": 820,
    "start_time": "2023-11-28T07:21:08.999Z"
   },
   {
    "duration": 708,
    "start_time": "2023-11-28T07:21:17.474Z"
   },
   {
    "duration": 683,
    "start_time": "2023-11-28T07:21:28.494Z"
   },
   {
    "duration": 712,
    "start_time": "2023-11-28T07:21:41.503Z"
   },
   {
    "duration": 693,
    "start_time": "2023-11-28T07:21:47.524Z"
   },
   {
    "duration": 701,
    "start_time": "2023-11-28T07:45:28.434Z"
   },
   {
    "duration": 111,
    "start_time": "2023-11-28T07:50:15.219Z"
   },
   {
    "duration": 118,
    "start_time": "2023-11-28T07:51:39.039Z"
   },
   {
    "duration": 73,
    "start_time": "2023-11-28T07:52:36.953Z"
   },
   {
    "duration": 107,
    "start_time": "2023-11-28T07:52:57.099Z"
   },
   {
    "duration": 97,
    "start_time": "2023-11-28T07:53:25.434Z"
   },
   {
    "duration": 114,
    "start_time": "2023-11-28T07:55:06.165Z"
   },
   {
    "duration": 13,
    "start_time": "2023-11-28T07:56:51.694Z"
   },
   {
    "duration": 22,
    "start_time": "2023-11-28T07:57:09.439Z"
   },
   {
    "duration": 4,
    "start_time": "2023-11-28T07:57:45.895Z"
   },
   {
    "duration": 99,
    "start_time": "2023-11-28T07:58:05.159Z"
   },
   {
    "duration": 107,
    "start_time": "2023-11-28T07:58:40.469Z"
   },
   {
    "duration": 106,
    "start_time": "2023-11-28T07:59:13.174Z"
   },
   {
    "duration": 81,
    "start_time": "2023-11-28T07:59:25.759Z"
   },
   {
    "duration": 119,
    "start_time": "2023-11-28T07:59:42.079Z"
   },
   {
    "duration": 92,
    "start_time": "2023-11-28T07:59:59.520Z"
   },
   {
    "duration": 110,
    "start_time": "2023-11-28T08:02:36.119Z"
   },
   {
    "duration": 160,
    "start_time": "2023-11-28T08:02:52.115Z"
   },
   {
    "duration": 122,
    "start_time": "2023-11-28T08:03:30.356Z"
   },
   {
    "duration": 928,
    "start_time": "2023-11-28T08:15:25.559Z"
   },
   {
    "duration": 131,
    "start_time": "2023-11-28T08:15:49.739Z"
   },
   {
    "duration": 16,
    "start_time": "2023-11-28T08:16:56.370Z"
   },
   {
    "duration": 15,
    "start_time": "2023-11-28T08:17:04.419Z"
   },
   {
    "duration": 18,
    "start_time": "2023-11-28T08:17:39.174Z"
   },
   {
    "duration": 18,
    "start_time": "2023-11-28T08:19:07.205Z"
   },
   {
    "duration": 31,
    "start_time": "2023-11-28T08:19:53.125Z"
   },
   {
    "duration": 124,
    "start_time": "2023-11-28T08:20:07.034Z"
   },
   {
    "duration": 17,
    "start_time": "2023-11-28T08:20:34.675Z"
   },
   {
    "duration": 16,
    "start_time": "2023-11-28T08:21:50.985Z"
   },
   {
    "duration": 13,
    "start_time": "2023-11-28T08:23:01.724Z"
   },
   {
    "duration": 20,
    "start_time": "2023-11-28T08:23:47.050Z"
   },
   {
    "duration": 21,
    "start_time": "2023-11-28T08:24:06.309Z"
   },
   {
    "duration": 17,
    "start_time": "2023-11-28T08:24:14.435Z"
   },
   {
    "duration": 10,
    "start_time": "2023-11-28T08:24:46.275Z"
   },
   {
    "duration": 1266,
    "start_time": "2023-11-28T08:25:02.793Z"
   },
   {
    "duration": 56,
    "start_time": "2023-11-28T08:25:04.061Z"
   },
   {
    "duration": 21,
    "start_time": "2023-11-28T08:25:04.119Z"
   },
   {
    "duration": 25,
    "start_time": "2023-11-28T08:25:04.146Z"
   },
   {
    "duration": 17,
    "start_time": "2023-11-28T08:25:04.175Z"
   },
   {
    "duration": 40,
    "start_time": "2023-11-28T08:25:04.194Z"
   },
   {
    "duration": 77,
    "start_time": "2023-11-28T08:25:04.235Z"
   },
   {
    "duration": 15,
    "start_time": "2023-11-28T08:25:04.314Z"
   },
   {
    "duration": 63,
    "start_time": "2023-11-28T08:25:04.331Z"
   },
   {
    "duration": 38,
    "start_time": "2023-11-28T08:25:04.396Z"
   },
   {
    "duration": 25,
    "start_time": "2023-11-28T08:25:04.436Z"
   },
   {
    "duration": 28,
    "start_time": "2023-11-28T08:25:04.463Z"
   },
   {
    "duration": 4,
    "start_time": "2023-11-28T08:25:04.494Z"
   },
   {
    "duration": 11,
    "start_time": "2023-11-28T08:25:04.501Z"
   },
   {
    "duration": 21,
    "start_time": "2023-11-28T08:25:04.514Z"
   },
   {
    "duration": 21,
    "start_time": "2023-11-28T08:25:04.536Z"
   },
   {
    "duration": 4,
    "start_time": "2023-11-28T08:25:04.559Z"
   },
   {
    "duration": 21,
    "start_time": "2023-11-28T08:25:04.565Z"
   },
   {
    "duration": 14,
    "start_time": "2023-11-28T08:25:04.587Z"
   },
   {
    "duration": 14,
    "start_time": "2023-11-28T08:25:04.602Z"
   },
   {
    "duration": 33,
    "start_time": "2023-11-28T08:25:04.618Z"
   },
   {
    "duration": 27,
    "start_time": "2023-11-28T08:25:04.657Z"
   },
   {
    "duration": 199,
    "start_time": "2023-11-28T08:25:04.686Z"
   },
   {
    "duration": 184,
    "start_time": "2023-11-28T08:25:04.887Z"
   },
   {
    "duration": 17,
    "start_time": "2023-11-28T08:25:05.073Z"
   },
   {
    "duration": 3,
    "start_time": "2023-11-28T08:25:05.091Z"
   },
   {
    "duration": 23,
    "start_time": "2023-11-28T08:25:05.095Z"
   },
   {
    "duration": 344,
    "start_time": "2023-11-28T08:25:05.120Z"
   },
   {
    "duration": 12,
    "start_time": "2023-11-28T08:25:05.466Z"
   },
   {
    "duration": 18,
    "start_time": "2023-11-28T08:25:05.482Z"
   },
   {
    "duration": 45,
    "start_time": "2023-11-28T08:25:05.504Z"
   },
   {
    "duration": 736,
    "start_time": "2023-11-28T08:25:05.555Z"
   },
   {
    "duration": 13,
    "start_time": "2023-11-28T08:25:06.293Z"
   },
   {
    "duration": 24,
    "start_time": "2023-11-28T08:25:27.707Z"
   },
   {
    "duration": 14,
    "start_time": "2023-11-28T08:28:38.393Z"
   },
   {
    "duration": 121,
    "start_time": "2023-11-28T08:29:54.698Z"
   },
   {
    "duration": 327,
    "start_time": "2023-11-28T08:30:53.238Z"
   },
   {
    "duration": 165,
    "start_time": "2023-11-28T08:32:21.361Z"
   },
   {
    "duration": 156,
    "start_time": "2023-11-28T08:34:03.557Z"
   },
   {
    "duration": 180,
    "start_time": "2023-11-28T08:35:48.403Z"
   },
   {
    "duration": 14,
    "start_time": "2023-11-28T08:37:32.955Z"
   },
   {
    "duration": 13,
    "start_time": "2023-11-28T08:37:40.923Z"
   },
   {
    "duration": 200,
    "start_time": "2023-11-28T08:38:36.033Z"
   },
   {
    "duration": 14,
    "start_time": "2023-11-28T08:39:03.517Z"
   },
   {
    "duration": 204,
    "start_time": "2023-11-28T08:42:01.403Z"
   },
   {
    "duration": 249,
    "start_time": "2023-11-28T08:52:37.894Z"
   },
   {
    "duration": 182,
    "start_time": "2023-11-28T08:53:15.054Z"
   },
   {
    "duration": 10,
    "start_time": "2023-11-28T09:00:27.273Z"
   },
   {
    "duration": 40,
    "start_time": "2023-11-28T09:01:39.732Z"
   },
   {
    "duration": 1260,
    "start_time": "2023-11-28T09:32:13.652Z"
   },
   {
    "duration": 64,
    "start_time": "2023-11-28T09:32:14.914Z"
   },
   {
    "duration": 21,
    "start_time": "2023-11-28T09:32:14.979Z"
   },
   {
    "duration": 24,
    "start_time": "2023-11-28T09:32:15.002Z"
   },
   {
    "duration": 28,
    "start_time": "2023-11-28T09:32:15.029Z"
   },
   {
    "duration": 27,
    "start_time": "2023-11-28T09:32:15.062Z"
   },
   {
    "duration": 65,
    "start_time": "2023-11-28T09:32:15.091Z"
   },
   {
    "duration": 14,
    "start_time": "2023-11-28T09:32:15.158Z"
   },
   {
    "duration": 14,
    "start_time": "2023-11-28T09:32:15.174Z"
   },
   {
    "duration": 16,
    "start_time": "2023-11-28T09:32:15.190Z"
   },
   {
    "duration": 9,
    "start_time": "2023-11-28T09:32:15.208Z"
   },
   {
    "duration": 39,
    "start_time": "2023-11-28T09:32:15.219Z"
   },
   {
    "duration": 5,
    "start_time": "2023-11-28T09:32:15.260Z"
   },
   {
    "duration": 17,
    "start_time": "2023-11-28T09:32:15.267Z"
   },
   {
    "duration": 21,
    "start_time": "2023-11-28T09:32:15.286Z"
   },
   {
    "duration": 5,
    "start_time": "2023-11-28T09:32:15.309Z"
   },
   {
    "duration": 37,
    "start_time": "2023-11-28T09:32:15.316Z"
   },
   {
    "duration": 17,
    "start_time": "2023-11-28T09:32:15.355Z"
   },
   {
    "duration": 14,
    "start_time": "2023-11-28T09:32:15.373Z"
   },
   {
    "duration": 15,
    "start_time": "2023-11-28T09:32:15.389Z"
   },
   {
    "duration": 5,
    "start_time": "2023-11-28T09:32:15.406Z"
   },
   {
    "duration": 42,
    "start_time": "2023-11-28T09:32:15.412Z"
   },
   {
    "duration": 171,
    "start_time": "2023-11-28T09:32:15.456Z"
   },
   {
    "duration": 179,
    "start_time": "2023-11-28T09:32:15.628Z"
   },
   {
    "duration": 16,
    "start_time": "2023-11-28T09:32:15.808Z"
   },
   {
    "duration": 27,
    "start_time": "2023-11-28T09:32:15.826Z"
   },
   {
    "duration": 17,
    "start_time": "2023-11-28T09:32:15.855Z"
   },
   {
    "duration": 311,
    "start_time": "2023-11-28T09:32:15.874Z"
   },
   {
    "duration": 9,
    "start_time": "2023-11-28T09:32:16.186Z"
   },
   {
    "duration": 13,
    "start_time": "2023-11-28T09:32:16.197Z"
   },
   {
    "duration": 44,
    "start_time": "2023-11-28T09:32:16.211Z"
   },
   {
    "duration": 674,
    "start_time": "2023-11-28T09:32:16.256Z"
   },
   {
    "duration": 22,
    "start_time": "2023-11-28T09:32:16.932Z"
   },
   {
    "duration": 217,
    "start_time": "2023-11-28T09:32:16.955Z"
   },
   {
    "duration": 28,
    "start_time": "2023-11-28T09:32:17.174Z"
   },
   {
    "duration": 24,
    "start_time": "2023-11-28T09:41:10.814Z"
   },
   {
    "duration": 125,
    "start_time": "2023-11-28T09:47:43.545Z"
   },
   {
    "duration": 2805,
    "start_time": "2023-11-28T09:49:16.121Z"
   },
   {
    "duration": 2986,
    "start_time": "2023-11-28T09:49:28.354Z"
   },
   {
    "duration": 159,
    "start_time": "2023-11-28T09:51:57.854Z"
   },
   {
    "duration": 194,
    "start_time": "2023-11-28T09:52:39.485Z"
   },
   {
    "duration": 417,
    "start_time": "2023-11-28T09:54:25.340Z"
   },
   {
    "duration": 450,
    "start_time": "2023-11-28T09:56:12.645Z"
   },
   {
    "duration": 406,
    "start_time": "2023-11-28T09:57:00.843Z"
   },
   {
    "duration": 413,
    "start_time": "2023-11-28T09:57:22.550Z"
   },
   {
    "duration": 386,
    "start_time": "2023-11-28T10:00:03.584Z"
   },
   {
    "duration": 393,
    "start_time": "2023-11-28T10:01:06.029Z"
   },
   {
    "duration": 383,
    "start_time": "2023-11-28T10:01:48.754Z"
   },
   {
    "duration": 394,
    "start_time": "2023-11-28T10:03:14.424Z"
   },
   {
    "duration": 11,
    "start_time": "2023-11-28T10:08:41.735Z"
   },
   {
    "duration": 85,
    "start_time": "2023-11-28T10:08:59.694Z"
   },
   {
    "duration": 5,
    "start_time": "2023-11-28T10:09:11.784Z"
   },
   {
    "duration": 8,
    "start_time": "2023-11-28T10:09:13.824Z"
   },
   {
    "duration": 9,
    "start_time": "2023-11-28T10:09:46.979Z"
   },
   {
    "duration": 399,
    "start_time": "2023-11-28T10:15:50.453Z"
   },
   {
    "duration": 394,
    "start_time": "2023-11-28T10:16:05.375Z"
   },
   {
    "duration": 8,
    "start_time": "2023-11-28T10:16:21.721Z"
   },
   {
    "duration": 3,
    "start_time": "2023-11-28T10:44:46.229Z"
   },
   {
    "duration": 18,
    "start_time": "2023-11-28T10:53:52.028Z"
   },
   {
    "duration": 16,
    "start_time": "2023-11-28T10:54:02.696Z"
   },
   {
    "duration": 17,
    "start_time": "2023-11-28T10:54:53.278Z"
   },
   {
    "duration": 16,
    "start_time": "2023-11-28T10:55:19.843Z"
   },
   {
    "duration": 16,
    "start_time": "2023-11-28T10:57:36.143Z"
   },
   {
    "duration": 17,
    "start_time": "2023-11-28T10:59:10.654Z"
   },
   {
    "duration": 16,
    "start_time": "2023-11-28T10:59:36.574Z"
   },
   {
    "duration": 16,
    "start_time": "2023-11-28T11:04:47.879Z"
   },
   {
    "duration": 642,
    "start_time": "2023-11-28T11:04:59.653Z"
   },
   {
    "duration": 17,
    "start_time": "2023-11-28T11:05:19.404Z"
   },
   {
    "duration": 148,
    "start_time": "2023-11-28T11:06:07.574Z"
   },
   {
    "duration": 1946,
    "start_time": "2023-11-28T11:07:46.324Z"
   },
   {
    "duration": 1343,
    "start_time": "2023-11-28T11:08:19.359Z"
   },
   {
    "duration": 1737,
    "start_time": "2023-11-28T11:08:28.949Z"
   },
   {
    "duration": 1809,
    "start_time": "2023-11-28T11:08:39.804Z"
   },
   {
    "duration": 1432,
    "start_time": "2023-11-28T11:09:23.184Z"
   },
   {
    "duration": 24,
    "start_time": "2023-11-28T11:09:35.964Z"
   },
   {
    "duration": 24,
    "start_time": "2023-11-28T11:09:57.744Z"
   },
   {
    "duration": 23,
    "start_time": "2023-11-28T11:10:08.244Z"
   },
   {
    "duration": 25,
    "start_time": "2023-11-28T11:10:29.949Z"
   },
   {
    "duration": 20,
    "start_time": "2023-11-28T11:10:46.959Z"
   },
   {
    "duration": 22,
    "start_time": "2023-11-28T11:11:01.544Z"
   },
   {
    "duration": 1030,
    "start_time": "2023-11-28T11:11:31.393Z"
   },
   {
    "duration": 22,
    "start_time": "2023-11-28T11:11:58.754Z"
   },
   {
    "duration": 188,
    "start_time": "2023-11-28T11:12:15.199Z"
   },
   {
    "duration": 1062,
    "start_time": "2023-11-28T11:12:32.949Z"
   },
   {
    "duration": 1311,
    "start_time": "2023-11-28T11:12:45.484Z"
   },
   {
    "duration": 1355,
    "start_time": "2023-11-28T11:13:18.024Z"
   },
   {
    "duration": 1245,
    "start_time": "2023-11-28T11:13:29.674Z"
   },
   {
    "duration": 1264,
    "start_time": "2023-11-28T11:14:36.254Z"
   },
   {
    "duration": 1354,
    "start_time": "2023-11-28T11:15:09.784Z"
   },
   {
    "duration": 1238,
    "start_time": "2023-11-28T11:15:27.194Z"
   },
   {
    "duration": 1207,
    "start_time": "2023-11-28T11:15:35.804Z"
   },
   {
    "duration": 19,
    "start_time": "2023-11-28T11:21:17.249Z"
   },
   {
    "duration": 9,
    "start_time": "2023-11-28T11:22:39.314Z"
   },
   {
    "duration": 20,
    "start_time": "2023-11-28T11:22:48.474Z"
   },
   {
    "duration": 20,
    "start_time": "2023-11-28T11:23:11.949Z"
   },
   {
    "duration": 102,
    "start_time": "2023-11-28T11:23:32.264Z"
   },
   {
    "duration": 19,
    "start_time": "2023-11-28T11:23:51.625Z"
   },
   {
    "duration": 18,
    "start_time": "2023-11-28T11:24:00.244Z"
   },
   {
    "duration": 20,
    "start_time": "2023-11-28T11:24:07.904Z"
   },
   {
    "duration": 21,
    "start_time": "2023-11-28T11:24:17.514Z"
   },
   {
    "duration": 23,
    "start_time": "2023-11-28T11:24:22.814Z"
   },
   {
    "duration": 21,
    "start_time": "2023-11-28T11:24:33.194Z"
   },
   {
    "duration": 20,
    "start_time": "2023-11-28T11:24:39.524Z"
   },
   {
    "duration": 116,
    "start_time": "2023-11-28T11:25:17.390Z"
   },
   {
    "duration": 96,
    "start_time": "2023-11-28T11:25:31.724Z"
   },
   {
    "duration": 20,
    "start_time": "2023-11-28T11:26:15.104Z"
   },
   {
    "duration": 14,
    "start_time": "2023-11-28T11:26:50.694Z"
   },
   {
    "duration": 19,
    "start_time": "2023-11-28T11:27:16.040Z"
   },
   {
    "duration": 20,
    "start_time": "2023-11-28T11:27:39.389Z"
   },
   {
    "duration": 18,
    "start_time": "2023-11-28T11:27:51.440Z"
   },
   {
    "duration": 19,
    "start_time": "2023-11-28T11:28:01.995Z"
   },
   {
    "duration": 19,
    "start_time": "2023-11-28T11:36:22.207Z"
   },
   {
    "duration": 17,
    "start_time": "2023-11-28T11:37:10.908Z"
   },
   {
    "duration": 17,
    "start_time": "2023-11-28T11:38:36.312Z"
   },
   {
    "duration": 18,
    "start_time": "2023-11-28T11:39:00.662Z"
   },
   {
    "duration": 18,
    "start_time": "2023-11-28T11:39:23.347Z"
   },
   {
    "duration": 92,
    "start_time": "2023-11-28T11:39:54.983Z"
   },
   {
    "duration": 22,
    "start_time": "2023-11-28T11:40:15.187Z"
   },
   {
    "duration": 18,
    "start_time": "2023-11-28T11:40:33.508Z"
   },
   {
    "duration": 28,
    "start_time": "2023-11-28T11:41:04.142Z"
   },
   {
    "duration": 116,
    "start_time": "2023-11-28T11:41:56.097Z"
   },
   {
    "duration": 27,
    "start_time": "2023-11-28T11:42:10.042Z"
   },
   {
    "duration": 76,
    "start_time": "2023-11-28T11:45:32.742Z"
   },
   {
    "duration": 18,
    "start_time": "2023-11-28T11:45:40.662Z"
   },
   {
    "duration": 18,
    "start_time": "2023-11-28T11:47:08.578Z"
   },
   {
    "duration": 18,
    "start_time": "2023-11-28T11:47:21.273Z"
   },
   {
    "duration": 18,
    "start_time": "2023-11-28T11:47:44.503Z"
   },
   {
    "duration": 19,
    "start_time": "2023-11-28T11:48:00.967Z"
   },
   {
    "duration": 181,
    "start_time": "2023-11-28T11:51:30.017Z"
   },
   {
    "duration": 174,
    "start_time": "2023-11-28T11:51:47.007Z"
   },
   {
    "duration": 169,
    "start_time": "2023-11-28T11:51:58.587Z"
   },
   {
    "duration": 177,
    "start_time": "2023-11-28T11:53:14.886Z"
   },
   {
    "duration": 196,
    "start_time": "2023-11-28T11:53:31.980Z"
   },
   {
    "duration": 197,
    "start_time": "2023-11-28T11:53:55.133Z"
   },
   {
    "duration": 179,
    "start_time": "2023-11-28T11:54:05.383Z"
   },
   {
    "duration": 361,
    "start_time": "2023-11-28T11:54:52.163Z"
   },
   {
    "duration": 176,
    "start_time": "2023-11-28T11:55:08.987Z"
   },
   {
    "duration": 173,
    "start_time": "2023-11-28T11:55:34.092Z"
   },
   {
    "duration": 12,
    "start_time": "2023-11-28T12:07:47.542Z"
   },
   {
    "duration": 25,
    "start_time": "2023-11-28T12:10:34.633Z"
   },
   {
    "duration": 19,
    "start_time": "2023-11-28T12:13:20.279Z"
   },
   {
    "duration": 18,
    "start_time": "2023-11-28T12:13:35.046Z"
   },
   {
    "duration": 19,
    "start_time": "2023-11-28T12:14:23.812Z"
   },
   {
    "duration": 16,
    "start_time": "2023-11-28T12:14:31.587Z"
   },
   {
    "duration": 25,
    "start_time": "2023-11-28T12:14:37.812Z"
   },
   {
    "duration": 24,
    "start_time": "2023-11-28T12:19:34.926Z"
   },
   {
    "duration": 4,
    "start_time": "2023-11-28T12:20:46.607Z"
   },
   {
    "duration": 25,
    "start_time": "2023-11-28T12:22:28.371Z"
   },
   {
    "duration": 21,
    "start_time": "2023-11-28T12:25:08.097Z"
   },
   {
    "duration": 17,
    "start_time": "2023-11-28T12:25:20.332Z"
   },
   {
    "duration": 18,
    "start_time": "2023-11-28T12:25:24.286Z"
   },
   {
    "duration": 17,
    "start_time": "2023-11-28T12:30:24.248Z"
   },
   {
    "duration": 175,
    "start_time": "2023-11-28T12:31:30.449Z"
   },
   {
    "duration": 16,
    "start_time": "2023-11-28T12:31:58.599Z"
   },
   {
    "duration": 17,
    "start_time": "2023-11-28T12:35:41.659Z"
   },
   {
    "duration": 16,
    "start_time": "2023-11-28T12:36:23.313Z"
   },
   {
    "duration": 17,
    "start_time": "2023-11-28T12:39:10.619Z"
   },
   {
    "duration": 1736,
    "start_time": "2023-11-28T12:39:37.894Z"
   },
   {
    "duration": 17,
    "start_time": "2023-11-28T12:40:07.623Z"
   },
   {
    "duration": 18,
    "start_time": "2023-11-28T12:41:04.699Z"
   },
   {
    "duration": 16,
    "start_time": "2023-11-28T12:49:24.825Z"
   },
   {
    "duration": 17,
    "start_time": "2023-11-28T12:49:30.329Z"
   },
   {
    "duration": 17,
    "start_time": "2023-11-28T12:49:36.189Z"
   },
   {
    "duration": 15,
    "start_time": "2023-11-28T12:49:41.449Z"
   },
   {
    "duration": 18,
    "start_time": "2023-11-28T13:43:53.376Z"
   },
   {
    "duration": 17,
    "start_time": "2023-11-28T13:44:06.904Z"
   },
   {
    "duration": 16,
    "start_time": "2023-11-28T13:44:10.105Z"
   },
   {
    "duration": 17,
    "start_time": "2023-11-28T13:45:18.979Z"
   },
   {
    "duration": 15,
    "start_time": "2023-11-28T13:46:11.965Z"
   },
   {
    "duration": 15,
    "start_time": "2023-11-28T13:48:42.203Z"
   },
   {
    "duration": 197,
    "start_time": "2023-11-28T13:54:23.635Z"
   },
   {
    "duration": 18,
    "start_time": "2023-11-28T13:54:47.680Z"
   },
   {
    "duration": 207,
    "start_time": "2023-11-28T13:55:04.075Z"
   },
   {
    "duration": 177,
    "start_time": "2023-11-28T13:55:46.190Z"
   },
   {
    "duration": 176,
    "start_time": "2023-11-28T13:56:33.649Z"
   },
   {
    "duration": 13,
    "start_time": "2023-11-28T13:56:45.220Z"
   },
   {
    "duration": 86,
    "start_time": "2023-11-28T13:59:35.909Z"
   },
   {
    "duration": 46,
    "start_time": "2023-11-28T13:59:59.339Z"
   },
   {
    "duration": 66,
    "start_time": "2023-11-28T14:01:51.470Z"
   },
   {
    "duration": 39,
    "start_time": "2023-11-28T14:02:29.720Z"
   },
   {
    "duration": 17,
    "start_time": "2023-11-28T14:03:56.295Z"
   },
   {
    "duration": 14,
    "start_time": "2023-11-28T14:04:46.555Z"
   },
   {
    "duration": 181,
    "start_time": "2023-11-28T14:05:24.680Z"
   },
   {
    "duration": 164,
    "start_time": "2023-11-28T14:05:44.124Z"
   },
   {
    "duration": 164,
    "start_time": "2023-11-28T14:07:36.725Z"
   },
   {
    "duration": 151,
    "start_time": "2023-11-28T14:08:16.135Z"
   },
   {
    "duration": 9,
    "start_time": "2023-11-28T14:08:57.574Z"
   },
   {
    "duration": 13,
    "start_time": "2023-11-28T14:09:54.900Z"
   },
   {
    "duration": 19,
    "start_time": "2023-11-28T14:10:04.420Z"
   },
   {
    "duration": 171,
    "start_time": "2023-11-28T14:12:06.325Z"
   },
   {
    "duration": 164,
    "start_time": "2023-11-28T14:12:31.640Z"
   },
   {
    "duration": 171,
    "start_time": "2023-11-28T14:12:44.789Z"
   },
   {
    "duration": 165,
    "start_time": "2023-11-28T14:13:27.929Z"
   },
   {
    "duration": 178,
    "start_time": "2023-11-28T14:15:13.641Z"
   },
   {
    "duration": 185,
    "start_time": "2023-11-28T14:16:46.975Z"
   },
   {
    "duration": 12,
    "start_time": "2023-11-28T15:21:44.544Z"
   },
   {
    "duration": 38,
    "start_time": "2023-11-28T15:21:51.163Z"
   },
   {
    "duration": 9,
    "start_time": "2023-11-28T15:23:19.198Z"
   },
   {
    "duration": 16,
    "start_time": "2023-11-28T15:23:25.343Z"
   },
   {
    "duration": 8,
    "start_time": "2023-11-28T15:25:09.279Z"
   },
   {
    "duration": 13,
    "start_time": "2023-11-28T15:27:38.570Z"
   },
   {
    "duration": 9,
    "start_time": "2023-11-28T15:28:20.818Z"
   },
   {
    "duration": 9,
    "start_time": "2023-11-28T15:28:52.091Z"
   },
   {
    "duration": 9,
    "start_time": "2023-11-28T15:32:10.564Z"
   },
   {
    "duration": 9,
    "start_time": "2023-11-28T15:35:56.100Z"
   },
   {
    "duration": 1301,
    "start_time": "2023-11-28T15:40:59.796Z"
   },
   {
    "duration": 63,
    "start_time": "2023-11-28T15:41:01.098Z"
   },
   {
    "duration": 26,
    "start_time": "2023-11-28T15:41:01.162Z"
   },
   {
    "duration": 33,
    "start_time": "2023-11-28T15:41:01.189Z"
   },
   {
    "duration": 16,
    "start_time": "2023-11-28T15:41:01.225Z"
   },
   {
    "duration": 34,
    "start_time": "2023-11-28T15:41:01.244Z"
   },
   {
    "duration": 80,
    "start_time": "2023-11-28T15:41:01.280Z"
   },
   {
    "duration": 14,
    "start_time": "2023-11-28T15:41:01.362Z"
   },
   {
    "duration": 14,
    "start_time": "2023-11-28T15:41:01.377Z"
   },
   {
    "duration": 44,
    "start_time": "2023-11-28T15:41:01.392Z"
   },
   {
    "duration": 26,
    "start_time": "2023-11-28T15:41:01.438Z"
   },
   {
    "duration": 26,
    "start_time": "2023-11-28T15:41:01.466Z"
   },
   {
    "duration": 9,
    "start_time": "2023-11-28T15:41:01.493Z"
   },
   {
    "duration": 27,
    "start_time": "2023-11-28T15:41:01.505Z"
   },
   {
    "duration": 44,
    "start_time": "2023-11-28T15:41:01.534Z"
   },
   {
    "duration": 24,
    "start_time": "2023-11-28T15:41:01.580Z"
   },
   {
    "duration": 28,
    "start_time": "2023-11-28T15:41:01.605Z"
   },
   {
    "duration": 32,
    "start_time": "2023-11-28T15:41:01.635Z"
   },
   {
    "duration": 23,
    "start_time": "2023-11-28T15:41:01.669Z"
   },
   {
    "duration": 32,
    "start_time": "2023-11-28T15:41:01.693Z"
   },
   {
    "duration": 23,
    "start_time": "2023-11-28T15:41:01.726Z"
   },
   {
    "duration": 25,
    "start_time": "2023-11-28T15:41:01.754Z"
   },
   {
    "duration": 203,
    "start_time": "2023-11-28T15:41:01.781Z"
   },
   {
    "duration": 188,
    "start_time": "2023-11-28T15:41:01.986Z"
   },
   {
    "duration": 17,
    "start_time": "2023-11-28T15:41:02.176Z"
   },
   {
    "duration": 43,
    "start_time": "2023-11-28T15:41:02.194Z"
   },
   {
    "duration": 35,
    "start_time": "2023-11-28T15:41:02.239Z"
   },
   {
    "duration": 333,
    "start_time": "2023-11-28T15:41:02.275Z"
   },
   {
    "duration": 9,
    "start_time": "2023-11-28T15:41:02.610Z"
   },
   {
    "duration": 37,
    "start_time": "2023-11-28T15:41:02.621Z"
   },
   {
    "duration": 18,
    "start_time": "2023-11-28T15:41:02.660Z"
   },
   {
    "duration": 744,
    "start_time": "2023-11-28T15:41:02.680Z"
   },
   {
    "duration": 5,
    "start_time": "2023-11-28T15:41:03.425Z"
   },
   {
    "duration": 237,
    "start_time": "2023-11-28T15:41:03.432Z"
   },
   {
    "duration": 29,
    "start_time": "2023-11-28T15:41:03.670Z"
   },
   {
    "duration": 498,
    "start_time": "2023-11-28T15:41:03.701Z"
   },
   {
    "duration": 9,
    "start_time": "2023-11-28T15:41:04.201Z"
   },
   {
    "duration": 397,
    "start_time": "2023-11-28T15:41:04.211Z"
   },
   {
    "duration": 1389,
    "start_time": "2023-11-28T15:41:04.610Z"
   },
   {
    "duration": 20,
    "start_time": "2023-11-28T15:41:06.000Z"
   },
   {
    "duration": 52,
    "start_time": "2023-11-28T15:41:06.024Z"
   },
   {
    "duration": 194,
    "start_time": "2023-11-28T15:41:06.078Z"
   },
   {
    "duration": 15,
    "start_time": "2023-11-28T15:41:06.274Z"
   },
   {
    "duration": 16,
    "start_time": "2023-11-28T15:41:06.291Z"
   },
   {
    "duration": 40,
    "start_time": "2023-11-28T15:41:06.308Z"
   },
   {
    "duration": 17,
    "start_time": "2023-11-28T15:41:06.355Z"
   },
   {
    "duration": 18,
    "start_time": "2023-11-28T15:41:06.374Z"
   },
   {
    "duration": 17,
    "start_time": "2023-11-28T15:41:06.394Z"
   },
   {
    "duration": 196,
    "start_time": "2023-11-28T15:41:06.413Z"
   },
   {
    "duration": 185,
    "start_time": "2023-11-28T15:41:06.610Z"
   },
   {
    "duration": 199,
    "start_time": "2023-11-28T15:41:06.797Z"
   },
   {
    "duration": 9,
    "start_time": "2023-11-28T15:41:06.999Z"
   },
   {
    "duration": 19,
    "start_time": "2023-11-28T15:41:07.010Z"
   },
   {
    "duration": 48,
    "start_time": "2023-11-29T09:29:37.319Z"
   },
   {
    "duration": 1314,
    "start_time": "2023-11-29T09:29:58.272Z"
   },
   {
    "duration": 93,
    "start_time": "2023-11-29T09:29:59.588Z"
   },
   {
    "duration": 18,
    "start_time": "2023-11-29T09:29:59.682Z"
   },
   {
    "duration": 12,
    "start_time": "2023-11-29T09:29:59.702Z"
   },
   {
    "duration": 3,
    "start_time": "2023-11-29T09:29:59.715Z"
   },
   {
    "duration": 22,
    "start_time": "2023-11-29T09:29:59.719Z"
   },
   {
    "duration": 62,
    "start_time": "2023-11-29T09:29:59.742Z"
   },
   {
    "duration": 12,
    "start_time": "2023-11-29T09:29:59.806Z"
   },
   {
    "duration": 13,
    "start_time": "2023-11-29T09:29:59.820Z"
   },
   {
    "duration": 20,
    "start_time": "2023-11-29T09:29:59.836Z"
   },
   {
    "duration": 27,
    "start_time": "2023-11-29T09:29:59.857Z"
   },
   {
    "duration": 13,
    "start_time": "2023-11-29T09:29:59.885Z"
   },
   {
    "duration": 3,
    "start_time": "2023-11-29T09:29:59.899Z"
   },
   {
    "duration": 6,
    "start_time": "2023-11-29T09:29:59.904Z"
   },
   {
    "duration": 17,
    "start_time": "2023-11-29T09:29:59.911Z"
   },
   {
    "duration": 5,
    "start_time": "2023-11-29T09:29:59.929Z"
   },
   {
    "duration": 3,
    "start_time": "2023-11-29T09:29:59.935Z"
   },
   {
    "duration": 43,
    "start_time": "2023-11-29T09:29:59.940Z"
   },
   {
    "duration": 12,
    "start_time": "2023-11-29T09:29:59.985Z"
   },
   {
    "duration": 12,
    "start_time": "2023-11-29T09:29:59.998Z"
   },
   {
    "duration": 43,
    "start_time": "2023-11-29T09:30:00.011Z"
   },
   {
    "duration": 35,
    "start_time": "2023-11-29T09:30:00.056Z"
   },
   {
    "duration": 165,
    "start_time": "2023-11-29T09:30:00.092Z"
   },
   {
    "duration": 143,
    "start_time": "2023-11-29T09:30:00.259Z"
   },
   {
    "duration": 14,
    "start_time": "2023-11-29T09:30:00.403Z"
   },
   {
    "duration": 22,
    "start_time": "2023-11-29T09:30:00.418Z"
   },
   {
    "duration": 31,
    "start_time": "2023-11-29T09:30:00.441Z"
   },
   {
    "duration": 264,
    "start_time": "2023-11-29T09:30:00.475Z"
   },
   {
    "duration": 7,
    "start_time": "2023-11-29T09:30:00.740Z"
   },
   {
    "duration": 33,
    "start_time": "2023-11-29T09:30:00.749Z"
   },
   {
    "duration": 26,
    "start_time": "2023-11-29T09:30:00.784Z"
   },
   {
    "duration": 679,
    "start_time": "2023-11-29T09:30:00.812Z"
   },
   {
    "duration": 5,
    "start_time": "2023-11-29T09:30:01.493Z"
   },
   {
    "duration": 212,
    "start_time": "2023-11-29T09:30:01.499Z"
   },
   {
    "duration": 25,
    "start_time": "2023-11-29T09:30:01.712Z"
   },
   {
    "duration": 436,
    "start_time": "2023-11-29T09:30:01.738Z"
   },
   {
    "duration": 11,
    "start_time": "2023-11-29T09:30:02.175Z"
   },
   {
    "duration": 355,
    "start_time": "2023-11-29T09:30:02.187Z"
   },
   {
    "duration": 1157,
    "start_time": "2023-11-29T09:30:02.544Z"
   },
   {
    "duration": 18,
    "start_time": "2023-11-29T09:30:03.703Z"
   },
   {
    "duration": 13,
    "start_time": "2023-11-29T09:30:03.723Z"
   },
   {
    "duration": 179,
    "start_time": "2023-11-29T09:30:03.738Z"
   },
   {
    "duration": 13,
    "start_time": "2023-11-29T09:30:03.918Z"
   },
   {
    "duration": 21,
    "start_time": "2023-11-29T09:30:03.932Z"
   },
   {
    "duration": 12,
    "start_time": "2023-11-29T09:30:03.955Z"
   },
   {
    "duration": 23,
    "start_time": "2023-11-29T09:30:03.969Z"
   },
   {
    "duration": 14,
    "start_time": "2023-11-29T09:30:03.994Z"
   },
   {
    "duration": 13,
    "start_time": "2023-11-29T09:30:04.009Z"
   },
   {
    "duration": 170,
    "start_time": "2023-11-29T09:30:04.023Z"
   },
   {
    "duration": 159,
    "start_time": "2023-11-29T09:30:04.195Z"
   },
   {
    "duration": 171,
    "start_time": "2023-11-29T09:30:04.355Z"
   },
   {
    "duration": 8,
    "start_time": "2023-11-29T09:30:04.527Z"
   },
   {
    "duration": 26,
    "start_time": "2023-11-29T09:30:04.536Z"
   },
   {
    "duration": 4,
    "start_time": "2023-11-29T09:34:57.288Z"
   },
   {
    "duration": 101,
    "start_time": "2023-11-29T09:47:06.483Z"
   },
   {
    "duration": 12,
    "start_time": "2023-11-29T09:48:26.368Z"
   },
   {
    "duration": 12,
    "start_time": "2023-11-29T09:49:25.462Z"
   },
   {
    "duration": 2,
    "start_time": "2023-11-29T09:54:42.538Z"
   },
   {
    "duration": 13,
    "start_time": "2023-11-29T09:54:45.368Z"
   },
   {
    "duration": 1108,
    "start_time": "2023-11-29T09:56:21.362Z"
   },
   {
    "duration": 53,
    "start_time": "2023-11-29T09:56:22.472Z"
   },
   {
    "duration": 20,
    "start_time": "2023-11-29T09:56:22.526Z"
   },
   {
    "duration": 15,
    "start_time": "2023-11-29T09:56:22.547Z"
   },
   {
    "duration": 4,
    "start_time": "2023-11-29T09:56:22.564Z"
   },
   {
    "duration": 17,
    "start_time": "2023-11-29T09:56:22.569Z"
   },
   {
    "duration": 45,
    "start_time": "2023-11-29T09:56:22.587Z"
   },
   {
    "duration": 12,
    "start_time": "2023-11-29T09:56:22.633Z"
   },
   {
    "duration": 109,
    "start_time": "2023-11-29T09:56:22.646Z"
   },
   {
    "duration": 0,
    "start_time": "2023-11-29T09:56:22.758Z"
   },
   {
    "duration": 0,
    "start_time": "2023-11-29T09:56:22.759Z"
   },
   {
    "duration": 0,
    "start_time": "2023-11-29T09:56:22.760Z"
   },
   {
    "duration": 0,
    "start_time": "2023-11-29T09:56:22.760Z"
   },
   {
    "duration": 0,
    "start_time": "2023-11-29T09:56:22.762Z"
   },
   {
    "duration": 0,
    "start_time": "2023-11-29T09:56:22.762Z"
   },
   {
    "duration": 0,
    "start_time": "2023-11-29T09:56:22.763Z"
   },
   {
    "duration": 0,
    "start_time": "2023-11-29T09:56:22.765Z"
   },
   {
    "duration": 0,
    "start_time": "2023-11-29T09:56:22.766Z"
   },
   {
    "duration": 0,
    "start_time": "2023-11-29T09:56:22.767Z"
   },
   {
    "duration": 0,
    "start_time": "2023-11-29T09:56:22.767Z"
   },
   {
    "duration": 0,
    "start_time": "2023-11-29T09:56:22.782Z"
   },
   {
    "duration": 0,
    "start_time": "2023-11-29T09:56:22.783Z"
   },
   {
    "duration": 0,
    "start_time": "2023-11-29T09:56:22.784Z"
   },
   {
    "duration": 0,
    "start_time": "2023-11-29T09:56:22.785Z"
   },
   {
    "duration": 0,
    "start_time": "2023-11-29T09:56:22.786Z"
   },
   {
    "duration": 0,
    "start_time": "2023-11-29T09:56:22.786Z"
   },
   {
    "duration": 0,
    "start_time": "2023-11-29T09:56:22.788Z"
   },
   {
    "duration": 0,
    "start_time": "2023-11-29T09:56:22.789Z"
   },
   {
    "duration": 0,
    "start_time": "2023-11-29T09:56:22.790Z"
   },
   {
    "duration": 0,
    "start_time": "2023-11-29T09:56:22.790Z"
   },
   {
    "duration": 0,
    "start_time": "2023-11-29T09:56:22.792Z"
   },
   {
    "duration": 0,
    "start_time": "2023-11-29T09:56:22.793Z"
   },
   {
    "duration": 0,
    "start_time": "2023-11-29T09:56:22.794Z"
   },
   {
    "duration": 0,
    "start_time": "2023-11-29T09:56:22.794Z"
   },
   {
    "duration": 0,
    "start_time": "2023-11-29T09:56:22.796Z"
   },
   {
    "duration": 0,
    "start_time": "2023-11-29T09:56:22.797Z"
   },
   {
    "duration": 0,
    "start_time": "2023-11-29T09:56:22.798Z"
   },
   {
    "duration": 0,
    "start_time": "2023-11-29T09:56:22.799Z"
   },
   {
    "duration": 0,
    "start_time": "2023-11-29T09:56:22.800Z"
   },
   {
    "duration": 0,
    "start_time": "2023-11-29T09:56:22.801Z"
   },
   {
    "duration": 0,
    "start_time": "2023-11-29T09:56:22.802Z"
   },
   {
    "duration": 0,
    "start_time": "2023-11-29T09:56:22.803Z"
   },
   {
    "duration": 0,
    "start_time": "2023-11-29T09:56:22.804Z"
   },
   {
    "duration": 0,
    "start_time": "2023-11-29T09:56:22.805Z"
   },
   {
    "duration": 0,
    "start_time": "2023-11-29T09:56:22.806Z"
   },
   {
    "duration": 0,
    "start_time": "2023-11-29T09:56:22.806Z"
   },
   {
    "duration": 0,
    "start_time": "2023-11-29T09:56:22.807Z"
   },
   {
    "duration": 0,
    "start_time": "2023-11-29T09:56:22.808Z"
   },
   {
    "duration": 0,
    "start_time": "2023-11-29T09:56:22.809Z"
   },
   {
    "duration": 0,
    "start_time": "2023-11-29T09:56:22.810Z"
   },
   {
    "duration": 0,
    "start_time": "2023-11-29T09:56:22.811Z"
   },
   {
    "duration": 0,
    "start_time": "2023-11-29T09:56:22.812Z"
   },
   {
    "duration": 0,
    "start_time": "2023-11-29T09:56:22.813Z"
   },
   {
    "duration": 0,
    "start_time": "2023-11-29T09:56:22.814Z"
   },
   {
    "duration": 1089,
    "start_time": "2023-11-29T09:56:51.958Z"
   },
   {
    "duration": 53,
    "start_time": "2023-11-29T09:56:53.049Z"
   },
   {
    "duration": 18,
    "start_time": "2023-11-29T09:56:53.104Z"
   },
   {
    "duration": 13,
    "start_time": "2023-11-29T09:56:53.124Z"
   },
   {
    "duration": 2,
    "start_time": "2023-11-29T09:56:53.139Z"
   },
   {
    "duration": 16,
    "start_time": "2023-11-29T09:56:53.143Z"
   },
   {
    "duration": 45,
    "start_time": "2023-11-29T09:56:53.182Z"
   },
   {
    "duration": 11,
    "start_time": "2023-11-29T09:56:53.228Z"
   },
   {
    "duration": 12,
    "start_time": "2023-11-29T09:56:53.241Z"
   },
   {
    "duration": 31,
    "start_time": "2023-11-29T09:56:53.254Z"
   },
   {
    "duration": 6,
    "start_time": "2023-11-29T09:56:53.287Z"
   },
   {
    "duration": 14,
    "start_time": "2023-11-29T09:56:53.294Z"
   },
   {
    "duration": 3,
    "start_time": "2023-11-29T09:56:53.309Z"
   },
   {
    "duration": 6,
    "start_time": "2023-11-29T09:56:53.315Z"
   },
   {
    "duration": 18,
    "start_time": "2023-11-29T09:56:53.322Z"
   },
   {
    "duration": 5,
    "start_time": "2023-11-29T09:56:53.342Z"
   },
   {
    "duration": 4,
    "start_time": "2023-11-29T09:56:53.382Z"
   },
   {
    "duration": 16,
    "start_time": "2023-11-29T09:56:53.387Z"
   },
   {
    "duration": 3,
    "start_time": "2023-11-29T09:56:53.404Z"
   },
   {
    "duration": 13,
    "start_time": "2023-11-29T09:56:53.408Z"
   },
   {
    "duration": 11,
    "start_time": "2023-11-29T09:56:53.422Z"
   },
   {
    "duration": 3,
    "start_time": "2023-11-29T09:56:53.435Z"
   },
   {
    "duration": 22,
    "start_time": "2023-11-29T09:56:53.439Z"
   },
   {
    "duration": 160,
    "start_time": "2023-11-29T09:56:53.462Z"
   },
   {
    "duration": 144,
    "start_time": "2023-11-29T09:56:53.624Z"
   },
   {
    "duration": 22,
    "start_time": "2023-11-29T09:56:53.769Z"
   },
   {
    "duration": 2,
    "start_time": "2023-11-29T09:56:53.793Z"
   },
   {
    "duration": 15,
    "start_time": "2023-11-29T09:56:53.796Z"
   },
   {
    "duration": 272,
    "start_time": "2023-11-29T09:56:53.812Z"
   },
   {
    "duration": 7,
    "start_time": "2023-11-29T09:56:54.086Z"
   },
   {
    "duration": 10,
    "start_time": "2023-11-29T09:56:54.094Z"
   },
   {
    "duration": 11,
    "start_time": "2023-11-29T09:56:54.105Z"
   },
   {
    "duration": 644,
    "start_time": "2023-11-29T09:56:54.117Z"
   },
   {
    "duration": 4,
    "start_time": "2023-11-29T09:56:54.763Z"
   },
   {
    "duration": 199,
    "start_time": "2023-11-29T09:56:54.768Z"
   },
   {
    "duration": 32,
    "start_time": "2023-11-29T09:56:54.968Z"
   },
   {
    "duration": 393,
    "start_time": "2023-11-29T09:56:55.001Z"
   },
   {
    "duration": 8,
    "start_time": "2023-11-29T09:56:55.395Z"
   },
   {
    "duration": 328,
    "start_time": "2023-11-29T09:56:55.404Z"
   },
   {
    "duration": 1112,
    "start_time": "2023-11-29T09:56:55.733Z"
   },
   {
    "duration": 18,
    "start_time": "2023-11-29T09:56:56.849Z"
   },
   {
    "duration": 25,
    "start_time": "2023-11-29T09:56:56.868Z"
   },
   {
    "duration": 154,
    "start_time": "2023-11-29T09:56:56.895Z"
   },
   {
    "duration": 16,
    "start_time": "2023-11-29T09:56:57.050Z"
   },
   {
    "duration": 26,
    "start_time": "2023-11-29T09:56:57.068Z"
   },
   {
    "duration": 15,
    "start_time": "2023-11-29T09:56:57.096Z"
   },
   {
    "duration": 15,
    "start_time": "2023-11-29T09:56:57.112Z"
   },
   {
    "duration": 15,
    "start_time": "2023-11-29T09:56:57.128Z"
   },
   {
    "duration": 42,
    "start_time": "2023-11-29T09:56:57.144Z"
   },
   {
    "duration": 170,
    "start_time": "2023-11-29T09:56:57.187Z"
   },
   {
    "duration": 165,
    "start_time": "2023-11-29T09:56:57.359Z"
   },
   {
    "duration": 171,
    "start_time": "2023-11-29T09:56:57.526Z"
   },
   {
    "duration": 8,
    "start_time": "2023-11-29T09:56:57.699Z"
   },
   {
    "duration": 12,
    "start_time": "2023-11-29T09:56:57.708Z"
   },
   {
    "duration": 159,
    "start_time": "2023-11-29T10:25:50.743Z"
   },
   {
    "duration": 160,
    "start_time": "2023-11-29T10:35:42.577Z"
   },
   {
    "duration": 22,
    "start_time": "2023-11-29T10:42:49.812Z"
   },
   {
    "duration": 591,
    "start_time": "2023-11-29T10:46:43.907Z"
   },
   {
    "duration": 175,
    "start_time": "2023-11-29T10:52:49.322Z"
   },
   {
    "duration": 1117,
    "start_time": "2023-11-29T11:50:51.247Z"
   },
   {
    "duration": 15,
    "start_time": "2023-11-29T11:56:32.771Z"
   },
   {
    "duration": 14,
    "start_time": "2023-11-29T11:56:48.885Z"
   },
   {
    "duration": 15,
    "start_time": "2023-11-29T11:57:17.355Z"
   },
   {
    "duration": 15,
    "start_time": "2023-11-29T11:58:22.610Z"
   },
   {
    "duration": 152,
    "start_time": "2023-11-29T12:03:25.040Z"
   },
   {
    "duration": 1216,
    "start_time": "2023-11-29T14:39:05.276Z"
   },
   {
    "duration": 55,
    "start_time": "2023-11-29T14:39:06.494Z"
   },
   {
    "duration": 19,
    "start_time": "2023-11-29T14:39:06.550Z"
   },
   {
    "duration": 12,
    "start_time": "2023-11-29T14:39:06.571Z"
   },
   {
    "duration": 3,
    "start_time": "2023-11-29T14:39:06.585Z"
   },
   {
    "duration": 18,
    "start_time": "2023-11-29T14:39:06.589Z"
   },
   {
    "duration": 61,
    "start_time": "2023-11-29T14:39:06.608Z"
   },
   {
    "duration": 15,
    "start_time": "2023-11-29T14:39:06.670Z"
   },
   {
    "duration": 17,
    "start_time": "2023-11-29T14:39:06.686Z"
   },
   {
    "duration": 13,
    "start_time": "2023-11-29T14:39:06.705Z"
   },
   {
    "duration": 6,
    "start_time": "2023-11-29T14:39:06.720Z"
   },
   {
    "duration": 21,
    "start_time": "2023-11-29T14:39:06.728Z"
   },
   {
    "duration": 11,
    "start_time": "2023-11-29T14:39:06.750Z"
   },
   {
    "duration": 13,
    "start_time": "2023-11-29T14:39:06.764Z"
   },
   {
    "duration": 19,
    "start_time": "2023-11-29T14:39:06.781Z"
   },
   {
    "duration": 5,
    "start_time": "2023-11-29T14:39:06.802Z"
   },
   {
    "duration": 3,
    "start_time": "2023-11-29T14:39:06.809Z"
   },
   {
    "duration": 14,
    "start_time": "2023-11-29T14:39:06.813Z"
   },
   {
    "duration": 3,
    "start_time": "2023-11-29T14:39:06.828Z"
   },
   {
    "duration": 19,
    "start_time": "2023-11-29T14:39:06.832Z"
   },
   {
    "duration": 38,
    "start_time": "2023-11-29T14:39:06.853Z"
   },
   {
    "duration": 4,
    "start_time": "2023-11-29T14:39:06.893Z"
   },
   {
    "duration": 34,
    "start_time": "2023-11-29T14:39:06.898Z"
   },
   {
    "duration": 153,
    "start_time": "2023-11-29T14:39:06.933Z"
   },
   {
    "duration": 156,
    "start_time": "2023-11-29T14:39:07.088Z"
   },
   {
    "duration": 21,
    "start_time": "2023-11-29T14:39:07.246Z"
   },
   {
    "duration": 13,
    "start_time": "2023-11-29T14:39:07.269Z"
   },
   {
    "duration": 14,
    "start_time": "2023-11-29T14:39:07.284Z"
   },
   {
    "duration": 289,
    "start_time": "2023-11-29T14:39:07.299Z"
   },
   {
    "duration": 9,
    "start_time": "2023-11-29T14:39:07.590Z"
   },
   {
    "duration": 20,
    "start_time": "2023-11-29T14:39:07.601Z"
   },
   {
    "duration": 11,
    "start_time": "2023-11-29T14:39:07.623Z"
   },
   {
    "duration": 659,
    "start_time": "2023-11-29T14:39:07.636Z"
   },
   {
    "duration": 5,
    "start_time": "2023-11-29T14:39:08.296Z"
   },
   {
    "duration": 204,
    "start_time": "2023-11-29T14:39:08.302Z"
   },
   {
    "duration": 27,
    "start_time": "2023-11-29T14:39:08.508Z"
   },
   {
    "duration": 421,
    "start_time": "2023-11-29T14:39:08.536Z"
   },
   {
    "duration": 8,
    "start_time": "2023-11-29T14:39:08.958Z"
   },
   {
    "duration": 1195,
    "start_time": "2023-11-29T14:39:08.967Z"
   },
   {
    "duration": 27,
    "start_time": "2023-11-29T14:39:10.164Z"
   },
   {
    "duration": 15,
    "start_time": "2023-11-29T14:39:10.195Z"
   },
   {
    "duration": 171,
    "start_time": "2023-11-29T14:39:10.211Z"
   },
   {
    "duration": 15,
    "start_time": "2023-11-29T14:39:10.383Z"
   },
   {
    "duration": 16,
    "start_time": "2023-11-29T14:39:10.399Z"
   },
   {
    "duration": 16,
    "start_time": "2023-11-29T14:39:10.416Z"
   },
   {
    "duration": 18,
    "start_time": "2023-11-29T14:39:10.433Z"
   },
   {
    "duration": 36,
    "start_time": "2023-11-29T14:39:10.453Z"
   },
   {
    "duration": 14,
    "start_time": "2023-11-29T14:39:10.490Z"
   },
   {
    "duration": 169,
    "start_time": "2023-11-29T14:39:10.505Z"
   },
   {
    "duration": 166,
    "start_time": "2023-11-29T14:39:10.675Z"
   },
   {
    "duration": 104,
    "start_time": "2023-11-29T14:39:10.842Z"
   },
   {
    "duration": 1,
    "start_time": "2023-11-29T14:39:10.947Z"
   },
   {
    "duration": 0,
    "start_time": "2023-11-29T14:39:10.948Z"
   },
   {
    "duration": 157,
    "start_time": "2023-11-29T14:39:34.231Z"
   },
   {
    "duration": 8,
    "start_time": "2023-11-29T14:39:42.672Z"
   },
   {
    "duration": 9,
    "start_time": "2023-11-29T14:39:47.386Z"
   },
   {
    "duration": 48,
    "start_time": "2023-11-30T17:10:06.972Z"
   },
   {
    "duration": 1355,
    "start_time": "2023-11-30T17:10:18.840Z"
   },
   {
    "duration": 181,
    "start_time": "2023-11-30T17:10:20.197Z"
   },
   {
    "duration": 21,
    "start_time": "2023-11-30T17:10:20.380Z"
   },
   {
    "duration": 14,
    "start_time": "2023-11-30T17:10:20.403Z"
   },
   {
    "duration": 4,
    "start_time": "2023-11-30T17:10:20.420Z"
   },
   {
    "duration": 21,
    "start_time": "2023-11-30T17:10:20.425Z"
   },
   {
    "duration": 58,
    "start_time": "2023-11-30T17:10:20.447Z"
   },
   {
    "duration": 13,
    "start_time": "2023-11-30T17:10:20.506Z"
   },
   {
    "duration": 13,
    "start_time": "2023-11-30T17:10:20.521Z"
   },
   {
    "duration": 32,
    "start_time": "2023-11-30T17:10:20.536Z"
   },
   {
    "duration": 10,
    "start_time": "2023-11-30T17:10:20.570Z"
   },
   {
    "duration": 22,
    "start_time": "2023-11-30T17:10:20.582Z"
   },
   {
    "duration": 3,
    "start_time": "2023-11-30T17:10:20.606Z"
   },
   {
    "duration": 10,
    "start_time": "2023-11-30T17:10:20.612Z"
   },
   {
    "duration": 35,
    "start_time": "2023-11-30T17:10:20.624Z"
   },
   {
    "duration": 5,
    "start_time": "2023-11-30T17:10:20.661Z"
   },
   {
    "duration": 5,
    "start_time": "2023-11-30T17:10:20.667Z"
   },
   {
    "duration": 15,
    "start_time": "2023-11-30T17:10:20.674Z"
   },
   {
    "duration": 3,
    "start_time": "2023-11-30T17:10:20.690Z"
   },
   {
    "duration": 21,
    "start_time": "2023-11-30T17:10:20.694Z"
   },
   {
    "duration": 40,
    "start_time": "2023-11-30T17:10:20.717Z"
   },
   {
    "duration": 4,
    "start_time": "2023-11-30T17:10:20.759Z"
   },
   {
    "duration": 16,
    "start_time": "2023-11-30T17:10:20.764Z"
   },
   {
    "duration": 165,
    "start_time": "2023-11-30T17:10:20.782Z"
   },
   {
    "duration": 156,
    "start_time": "2023-11-30T17:10:20.949Z"
   },
   {
    "duration": 15,
    "start_time": "2023-11-30T17:10:21.107Z"
   },
   {
    "duration": 10,
    "start_time": "2023-11-30T17:10:21.124Z"
   },
   {
    "duration": 31,
    "start_time": "2023-11-30T17:10:21.136Z"
   },
   {
    "duration": 305,
    "start_time": "2023-11-30T17:10:21.168Z"
   },
   {
    "duration": 8,
    "start_time": "2023-11-30T17:10:21.475Z"
   },
   {
    "duration": 28,
    "start_time": "2023-11-30T17:10:21.484Z"
   },
   {
    "duration": 11,
    "start_time": "2023-11-30T17:10:21.513Z"
   },
   {
    "duration": 699,
    "start_time": "2023-11-30T17:10:21.526Z"
   },
   {
    "duration": 5,
    "start_time": "2023-11-30T17:10:22.227Z"
   },
   {
    "duration": 196,
    "start_time": "2023-11-30T17:10:22.233Z"
   },
   {
    "duration": 35,
    "start_time": "2023-11-30T17:10:22.431Z"
   },
   {
    "duration": 443,
    "start_time": "2023-11-30T17:10:22.467Z"
   },
   {
    "duration": 8,
    "start_time": "2023-11-30T17:10:22.911Z"
   },
   {
    "duration": 1216,
    "start_time": "2023-11-30T17:10:22.920Z"
   },
   {
    "duration": 29,
    "start_time": "2023-11-30T17:10:24.137Z"
   },
   {
    "duration": 114,
    "start_time": "2023-11-30T17:10:24.169Z"
   },
   {
    "duration": 0,
    "start_time": "2023-11-30T17:10:24.284Z"
   },
   {
    "duration": 0,
    "start_time": "2023-11-30T17:10:24.285Z"
   },
   {
    "duration": 0,
    "start_time": "2023-11-30T17:10:24.286Z"
   },
   {
    "duration": 0,
    "start_time": "2023-11-30T17:10:24.287Z"
   },
   {
    "duration": 0,
    "start_time": "2023-11-30T17:10:24.288Z"
   },
   {
    "duration": 0,
    "start_time": "2023-11-30T17:10:24.289Z"
   },
   {
    "duration": 0,
    "start_time": "2023-11-30T17:10:24.290Z"
   },
   {
    "duration": 0,
    "start_time": "2023-11-30T17:10:24.291Z"
   },
   {
    "duration": 0,
    "start_time": "2023-11-30T17:10:24.291Z"
   },
   {
    "duration": 0,
    "start_time": "2023-11-30T17:10:24.292Z"
   },
   {
    "duration": 0,
    "start_time": "2023-11-30T17:10:24.293Z"
   },
   {
    "duration": 0,
    "start_time": "2023-11-30T17:10:24.294Z"
   },
   {
    "duration": 116,
    "start_time": "2023-11-30T17:11:10.708Z"
   },
   {
    "duration": 23,
    "start_time": "2023-11-30T17:11:16.804Z"
   },
   {
    "duration": 98,
    "start_time": "2023-11-30T17:12:07.997Z"
   },
   {
    "duration": 21,
    "start_time": "2023-11-30T17:12:20.846Z"
   },
   {
    "duration": 110,
    "start_time": "2023-11-30T17:14:24.099Z"
   },
   {
    "duration": 115,
    "start_time": "2023-11-30T17:14:30.075Z"
   },
   {
    "duration": 22,
    "start_time": "2023-11-30T17:14:39.366Z"
   },
   {
    "duration": 23,
    "start_time": "2023-11-30T17:17:41.289Z"
   },
   {
    "duration": 25,
    "start_time": "2023-11-30T17:24:36.856Z"
   },
   {
    "duration": 144,
    "start_time": "2023-11-30T17:29:25.336Z"
   },
   {
    "duration": 113,
    "start_time": "2023-11-30T17:29:38.684Z"
   },
   {
    "duration": 132,
    "start_time": "2023-11-30T17:29:44.980Z"
   },
   {
    "duration": 104,
    "start_time": "2023-11-30T17:29:49.378Z"
   },
   {
    "duration": 106,
    "start_time": "2023-11-30T17:30:37.052Z"
   },
   {
    "duration": 108,
    "start_time": "2023-11-30T17:31:46.685Z"
   },
   {
    "duration": 1216,
    "start_time": "2023-11-30T17:47:42.184Z"
   },
   {
    "duration": 53,
    "start_time": "2023-11-30T17:47:43.402Z"
   },
   {
    "duration": 21,
    "start_time": "2023-11-30T17:47:43.457Z"
   },
   {
    "duration": 14,
    "start_time": "2023-11-30T17:47:43.480Z"
   },
   {
    "duration": 15,
    "start_time": "2023-11-30T17:47:43.495Z"
   },
   {
    "duration": 19,
    "start_time": "2023-11-30T17:47:43.512Z"
   },
   {
    "duration": 59,
    "start_time": "2023-11-30T17:47:43.532Z"
   },
   {
    "duration": 13,
    "start_time": "2023-11-30T17:47:43.592Z"
   },
   {
    "duration": 15,
    "start_time": "2023-11-30T17:47:43.606Z"
   },
   {
    "duration": 33,
    "start_time": "2023-11-30T17:47:43.623Z"
   },
   {
    "duration": 7,
    "start_time": "2023-11-30T17:47:43.657Z"
   },
   {
    "duration": 18,
    "start_time": "2023-11-30T17:47:43.665Z"
   },
   {
    "duration": 4,
    "start_time": "2023-11-30T17:47:43.684Z"
   },
   {
    "duration": 8,
    "start_time": "2023-11-30T17:47:43.690Z"
   },
   {
    "duration": 31,
    "start_time": "2023-11-30T17:47:43.699Z"
   },
   {
    "duration": 5,
    "start_time": "2023-11-30T17:47:43.732Z"
   },
   {
    "duration": 17,
    "start_time": "2023-11-30T17:47:43.739Z"
   },
   {
    "duration": 19,
    "start_time": "2023-11-30T17:47:43.757Z"
   },
   {
    "duration": 14,
    "start_time": "2023-11-30T17:47:43.778Z"
   },
   {
    "duration": 23,
    "start_time": "2023-11-30T17:47:43.793Z"
   },
   {
    "duration": 12,
    "start_time": "2023-11-30T17:47:43.817Z"
   },
   {
    "duration": 3,
    "start_time": "2023-11-30T17:47:43.831Z"
   },
   {
    "duration": 16,
    "start_time": "2023-11-30T17:47:43.836Z"
   },
   {
    "duration": 152,
    "start_time": "2023-11-30T17:47:43.853Z"
   },
   {
    "duration": 197,
    "start_time": "2023-11-30T17:47:44.006Z"
   },
   {
    "duration": 15,
    "start_time": "2023-11-30T17:47:44.204Z"
   },
   {
    "duration": 2,
    "start_time": "2023-11-30T17:47:44.221Z"
   },
   {
    "duration": 34,
    "start_time": "2023-11-30T17:47:44.224Z"
   },
   {
    "duration": 365,
    "start_time": "2023-11-30T17:47:44.260Z"
   },
   {
    "duration": 8,
    "start_time": "2023-11-30T17:47:44.627Z"
   },
   {
    "duration": 34,
    "start_time": "2023-11-30T17:47:44.636Z"
   },
   {
    "duration": 12,
    "start_time": "2023-11-30T17:47:44.672Z"
   },
   {
    "duration": 664,
    "start_time": "2023-11-30T17:47:44.686Z"
   },
   {
    "duration": 5,
    "start_time": "2023-11-30T17:47:45.355Z"
   },
   {
    "duration": 227,
    "start_time": "2023-11-30T17:47:45.361Z"
   },
   {
    "duration": 27,
    "start_time": "2023-11-30T17:47:45.589Z"
   },
   {
    "duration": 426,
    "start_time": "2023-11-30T17:47:45.618Z"
   },
   {
    "duration": 14,
    "start_time": "2023-11-30T17:47:46.045Z"
   },
   {
    "duration": 1212,
    "start_time": "2023-11-30T17:47:46.061Z"
   },
   {
    "duration": 19,
    "start_time": "2023-11-30T17:47:47.275Z"
   },
   {
    "duration": 23,
    "start_time": "2023-11-30T17:47:47.299Z"
   },
   {
    "duration": 190,
    "start_time": "2023-11-30T17:47:47.323Z"
   },
   {
    "duration": 14,
    "start_time": "2023-11-30T17:47:47.515Z"
   },
   {
    "duration": 29,
    "start_time": "2023-11-30T17:47:47.530Z"
   },
   {
    "duration": 17,
    "start_time": "2023-11-30T17:47:47.560Z"
   },
   {
    "duration": 20,
    "start_time": "2023-11-30T17:47:47.578Z"
   },
   {
    "duration": 17,
    "start_time": "2023-11-30T17:47:47.600Z"
   },
   {
    "duration": 15,
    "start_time": "2023-11-30T17:47:47.619Z"
   },
   {
    "duration": 171,
    "start_time": "2023-11-30T17:47:47.635Z"
   },
   {
    "duration": 159,
    "start_time": "2023-11-30T17:47:47.808Z"
   },
   {
    "duration": 171,
    "start_time": "2023-11-30T17:47:47.969Z"
   },
   {
    "duration": 8,
    "start_time": "2023-11-30T17:47:48.142Z"
   },
   {
    "duration": 22,
    "start_time": "2023-11-30T17:47:48.156Z"
   }
  ],
  "kernelspec": {
   "display_name": "Python 3",
   "language": "python",
   "name": "python3"
  },
  "language_info": {
   "codemirror_mode": {
    "name": "ipython",
    "version": 3
   },
   "file_extension": ".py",
   "mimetype": "text/x-python",
   "name": "python",
   "nbconvert_exporter": "python",
   "pygments_lexer": "ipython3",
   "version": "3.8.5"
  },
  "toc": {
   "base_numbering": 1,
   "nav_menu": {
    "height": "591.983px",
    "width": "977.833px"
   },
   "number_sections": true,
   "sideBar": true,
   "skip_h1_title": true,
   "title_cell": "Table of Contents",
   "title_sidebar": "Contents",
   "toc_cell": false,
   "toc_position": {},
   "toc_section_display": true,
   "toc_window_display": false
  }
 },
 "nbformat": 4,
 "nbformat_minor": 2
}
